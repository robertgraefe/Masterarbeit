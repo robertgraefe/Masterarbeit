{
 "cells": [
  {
   "cell_type": "markdown",
   "metadata": {},
   "source": [
    "### Datenanalyse\n",
    "\n",
    "Dieses Dokument dient zur Einarbeitung in den Datensatz. Ziel ist es ein Verständnis der einzelnen Attribute zu erlangen und ein Gefühl für deren Zusammenspiel zu gewinnen. Weiterhin sollen fehlerhafte Daten identifiziert werden."
   ]
  },
  {
   "cell_type": "markdown",
   "metadata": {},
   "source": [
    "**Vorbereitung: Import benötigter Bibliotheken & Einlesen der Daten**"
   ]
  },
  {
   "cell_type": "code",
   "execution_count": null,
   "metadata": {},
   "outputs": [],
   "source": [
    "from pathlib import Path\n",
    "\n",
    "import matplotlib.pyplot as plt\n",
    "import pandas as pd\n",
    "import numpy as np\n",
    "\n",
    "pd.options.display.max_columns = None\n",
    "pd.options.display.max_rows = None\n",
    "pd.options.display.max_colwidth = None"
   ]
  },
  {
   "cell_type": "code",
   "execution_count": null,
   "metadata": {},
   "outputs": [],
   "source": [
    "path = Path(r\"A:\\Workspace\\Python\\Masterarbeit\\Kaggle Home Credit Datensatz\")\n",
    "if path.is_dir():\n",
    "    DATASET_DIR = path\n",
    "else:\n",
    "    DATASET_DIR = Path(r\"C:\\Users\\Robert\\Documents\\Workspace\\Python\\Masterarbeit\\Kaggle Home Credit Datensatz\")"
   ]
  },
  {
   "cell_type": "code",
   "execution_count": null,
   "metadata": {},
   "outputs": [],
   "source": [
    "app_test = pd.read_csv(DATASET_DIR / \"application_test.csv\")\n",
    "app_train = pd.read_csv(DATASET_DIR / \"application_train.csv\")\n",
    "bureau = pd.read_csv(DATASET_DIR / \"bureau.csv\")\n",
    "bureau_balance = pd.read_csv(DATASET_DIR / \"bureau_balance.csv\")\n",
    "credit_card_balance = pd.read_csv(DATASET_DIR / \"credit_card_balance.csv\")\n",
    "installments_payments = pd.read_csv(DATASET_DIR / \"installments_payments.csv\")\n",
    "pcb = pd.read_csv(DATASET_DIR / \"POS_CASH_balance.csv\")\n",
    "previous_application = pd.read_csv(DATASET_DIR / \"previous_application.csv\")\n",
    "\n",
    "description = pd.read_csv(DATASET_DIR / \"HomeCredit_columns_description.csv\", encoding=\"latin\", index_col=0)"
   ]
  },
  {
   "cell_type": "markdown",
   "metadata": {},
   "source": [
    "**Beschreibungen der Attribute untergliedert nach den gegebenen CSV-Dateien**"
   ]
  },
  {
   "cell_type": "code",
   "execution_count": null,
   "metadata": {},
   "outputs": [],
   "source": [
    "description.loc[description['Table']==\"application_{train|test}.csv\", \"Row\":\"Special\"]"
   ]
  },
  {
   "cell_type": "code",
   "execution_count": null,
   "metadata": {},
   "outputs": [],
   "source": [
    "description.loc[description['Table']==\"bureau.csv\", \"Row\":\"Special\"]"
   ]
  },
  {
   "cell_type": "code",
   "execution_count": null,
   "metadata": {},
   "outputs": [],
   "source": [
    "description.loc[description['Table']==\"bureau_balance.csv\", \"Row\":\"Special\"]"
   ]
  },
  {
   "cell_type": "code",
   "execution_count": null,
   "metadata": {},
   "outputs": [],
   "source": [
    "description.loc[description['Table']==\"POS_CASH_balance.csv\", \"Row\":\"Special\"]"
   ]
  },
  {
   "cell_type": "code",
   "execution_count": null,
   "metadata": {},
   "outputs": [],
   "source": [
    "description.loc[description['Table']==\"credit_card_balance.csv\", \"Row\":\"Special\"]"
   ]
  },
  {
   "cell_type": "code",
   "execution_count": null,
   "metadata": {},
   "outputs": [],
   "source": [
    "description.loc[description['Table']==\"previous_application.csv\", \"Row\":\"Special\"]"
   ]
  },
  {
   "cell_type": "code",
   "execution_count": null,
   "metadata": {},
   "outputs": [],
   "source": [
    "description.loc[description['Table']==\"installments_payments.csv\", \"Row\":\"Special\"]"
   ]
  },
  {
   "cell_type": "markdown",
   "metadata": {},
   "source": [
    "**Anpassung der numerischen Kategorien**"
   ]
  },
  {
   "cell_type": "code",
   "execution_count": null,
   "metadata": {},
   "outputs": [],
   "source": [
    "app_train[\"TARGET\"].replace(\n",
    "    {\n",
    "        0: \"Payback\",\n",
    "        1: \"Default\"\n",
    "    }, inplace = True\n",
    ")"
   ]
  },
  {
   "cell_type": "markdown",
   "metadata": {},
   "source": [
    "## Untersuchung Application-Train & Application-Test"
   ]
  },
  {
   "cell_type": "markdown",
   "metadata": {},
   "source": [
    "**Erstellung von Subklassen**\n",
    "\n",
    "* payback = Kreditnehmer die ihren Kredit zurückzahlten\n",
    "* default = Kreditnehmer die ihren Kredit nicht zurückzahlten\n",
    "* nums = numerische Daten\n",
    "* cats = kategorische Daten"
   ]
  },
  {
   "cell_type": "code",
   "execution_count": null,
   "metadata": {},
   "outputs": [],
   "source": [
    "num_heads = ['CNT_CHILDREN', 'AMT_INCOME_TOTAL', 'AMT_CREDIT', 'AMT_ANNUITY', 'AMT_GOODS_PRICE', 'REGION_POPULATION_RELATIVE', 'DAYS_BIRTH', 'DAYS_EMPLOYED', 'DAYS_REGISTRATION', 'DAYS_ID_PUBLISH', 'OWN_CAR_AGE', 'CNT_FAM_MEMBERS', 'HOUR_APPR_PROCESS_START', 'EXT_SOURCE_1', 'EXT_SOURCE_2', 'EXT_SOURCE_3', 'APARTMENTS_AVG', 'BASEMENTAREA_AVG', 'YEARS_BEGINEXPLUATATION_AVG', 'YEARS_BUILD_AVG', 'COMMONAREA_AVG', 'ELEVATORS_AVG', 'ENTRANCES_AVG', 'FLOORSMAX_AVG', 'FLOORSMIN_AVG', 'LANDAREA_AVG', 'LIVINGAPARTMENTS_AVG', 'LIVINGAREA_AVG', 'NONLIVINGAPARTMENTS_AVG', 'NONLIVINGAREA_AVG', 'APARTMENTS_MODE', 'BASEMENTAREA_MODE', 'YEARS_BEGINEXPLUATATION_MODE', 'YEARS_BUILD_MODE', 'COMMONAREA_MODE', 'ELEVATORS_MODE', 'ENTRANCES_MODE', 'FLOORSMAX_MODE', 'FLOORSMIN_MODE', 'LANDAREA_MODE', 'LIVINGAPARTMENTS_MODE', 'LIVINGAREA_MODE', 'NONLIVINGAPARTMENTS_MODE', 'NONLIVINGAREA_MODE', 'APARTMENTS_MEDI', 'BASEMENTAREA_MEDI', 'YEARS_BEGINEXPLUATATION_MEDI', 'YEARS_BUILD_MEDI', 'COMMONAREA_MEDI', 'ELEVATORS_MEDI', 'ENTRANCES_MEDI', 'FLOORSMAX_MEDI', 'FLOORSMIN_MEDI', 'LANDAREA_MEDI', 'LIVINGAPARTMENTS_MEDI', 'LIVINGAREA_MEDI', 'NONLIVINGAPARTMENTS_MEDI', 'NONLIVINGAREA_MEDI', 'TOTALAREA_MODE', 'OBS_30_CNT_SOCIAL_CIRCLE', 'DEF_30_CNT_SOCIAL_CIRCLE', 'OBS_60_CNT_SOCIAL_CIRCLE', 'DEF_60_CNT_SOCIAL_CIRCLE', 'DAYS_LAST_PHONE_CHANGE', 'AMT_REQ_CREDIT_BUREAU_HOUR', 'AMT_REQ_CREDIT_BUREAU_DAY', 'AMT_REQ_CREDIT_BUREAU_WEEK', 'AMT_REQ_CREDIT_BUREAU_MON', 'AMT_REQ_CREDIT_BUREAU_QRT', 'AMT_REQ_CREDIT_BUREAU_YEAR']\n",
    "cat_heads = ['TARGET', 'NAME_CONTRACT_TYPE', 'CODE_GENDER', 'FLAG_OWN_CAR', 'FLAG_OWN_REALTY', 'NAME_TYPE_SUITE', 'NAME_INCOME_TYPE', 'NAME_EDUCATION_TYPE', 'NAME_FAMILY_STATUS', 'NAME_HOUSING_TYPE', 'FLAG_MOBIL', 'FLAG_EMP_PHONE', 'FLAG_WORK_PHONE', 'FLAG_CONT_MOBILE', 'FLAG_PHONE', 'FLAG_EMAIL', 'OCCUPATION_TYPE', 'REGION_RATING_CLIENT', 'REGION_RATING_CLIENT_W_CITY', 'WEEKDAY_APPR_PROCESS_START', 'REG_REGION_NOT_LIVE_REGION', 'REG_REGION_NOT_WORK_REGION', 'LIVE_REGION_NOT_WORK_REGION', 'REG_CITY_NOT_LIVE_CITY', 'REG_CITY_NOT_WORK_CITY', 'LIVE_CITY_NOT_WORK_CITY', 'ORGANIZATION_TYPE', 'FONDKAPREMONT_MODE', 'HOUSETYPE_MODE', 'WALLSMATERIAL_MODE', 'EMERGENCYSTATE_MODE', 'FLAG_DOCUMENT_2', 'FLAG_DOCUMENT_3', 'FLAG_DOCUMENT_4', 'FLAG_DOCUMENT_5', 'FLAG_DOCUMENT_6', 'FLAG_DOCUMENT_7', 'FLAG_DOCUMENT_8', 'FLAG_DOCUMENT_9', 'FLAG_DOCUMENT_10', 'FLAG_DOCUMENT_11', 'FLAG_DOCUMENT_12', 'FLAG_DOCUMENT_13', 'FLAG_DOCUMENT_14', 'FLAG_DOCUMENT_15', 'FLAG_DOCUMENT_16', 'FLAG_DOCUMENT_17', 'FLAG_DOCUMENT_18', 'FLAG_DOCUMENT_19', 'FLAG_DOCUMENT_20', 'FLAG_DOCUMENT_21']"
   ]
  },
  {
   "cell_type": "code",
   "execution_count": null,
   "metadata": {},
   "outputs": [],
   "source": [
    "payback = app_train[app_train[\"TARGET\"] == \"Payback\"]\n",
    "default = app_train[app_train[\"TARGET\"] == \"Default\"]\n",
    "nums = app_train[num_heads]\n",
    "cats = app_train[cat_heads]"
   ]
  },
  {
   "cell_type": "markdown",
   "metadata": {},
   "source": [
    "**Hilfsfunktion zum zeichnen eines Kreisdiagramms**"
   ]
  },
  {
   "cell_type": "code",
   "execution_count": null,
   "metadata": {},
   "outputs": [],
   "source": [
    "# Function to draw a Piechart\n",
    "def draw_piechart(arguments):\n",
    "    \n",
    "    fig, ax = plt.subplots(1,len(arguments))\n",
    "\n",
    "    try:\n",
    "    # Handle multiple plots\n",
    "        for argument, a in zip(arguments,ax):\n",
    "            labels = argument[0]\n",
    "            sizes = argument[1]\n",
    "            title = argument[2]\n",
    "\n",
    "            a.pie(sizes, labels=labels, autopct='%1.1f%%', startangle=90, normalize=False, labeldistance=1.05)\n",
    "            a.axis('equal')  # Equal aspect ratio ensures that pie is drawn as a circle.\n",
    "            a.set_title(title)\n",
    "            \n",
    "    # Handle single plot           \n",
    "    except TypeError:\n",
    "        for argument in arguments:\n",
    "            labels = argument[0]\n",
    "            sizes = argument[1]\n",
    "            title = argument[2]\n",
    "        \n",
    "            ax.pie(sizes, labels=labels, autopct='%1.1f%%', startangle=90, normalize=False)\n",
    "            ax.axis('equal')  # Equal aspect ratio ensures that pie is drawn as a circle.\n",
    "            ax.set_title(title)\n",
    "    plt.show()"
   ]
  },
  {
   "cell_type": "markdown",
   "metadata": {},
   "source": [
    "## Untersuchung der Kreditnehmer - Payback vs. Default"
   ]
  },
  {
   "cell_type": "markdown",
   "metadata": {},
   "source": [
    "**Verhältnis Payback zu Default im Datensatz**"
   ]
  },
  {
   "cell_type": "code",
   "execution_count": null,
   "metadata": {},
   "outputs": [],
   "source": [
    "pb = len(payback.index)\n",
    "df = len(default.index)\n",
    "n = pb + df\n",
    "\n",
    "labels = \"Payback\", \"Default\"\n",
    "sizes = [pb/n,df/n]\n",
    "title = \"Payback vs Default\"\n",
    "\n",
    "arguments = [(labels, sizes, title)]\n",
    "\n",
    "draw_piechart(arguments)"
   ]
  },
  {
   "cell_type": "code",
   "execution_count": null,
   "metadata": {},
   "outputs": [],
   "source": [
    "F,M,other = payback[\"CODE_GENDER\"].value_counts()\n",
    "n = F+M+other\n",
    "\n",
    "labels1 = \"Female\", \"Male\"\n",
    "sizes1 = [F/n,M/n]\n",
    "title1 = \"Gender Payback\"\n",
    "\n",
    "F,M = default[\"CODE_GENDER\"].value_counts()\n",
    "X = default[\"CODE_GENDER\"].value_counts()\n",
    "\n",
    "n = F+M\n",
    "\n",
    "labels2 = \"Female\", \"Male\"\n",
    "sizes2 = [F/n,M/n]\n",
    "title2 = \"Gender Default\"\n",
    "\n",
    "arguments = [(labels1, sizes1, title1),(labels2, sizes2, title2)]\n",
    "\n",
    "draw_piechart(arguments)"
   ]
  },
  {
   "cell_type": "code",
   "execution_count": null,
   "metadata": {},
   "outputs": [],
   "source": [
    "count = payback[\"NAME_EDUCATION_TYPE\"].value_counts()\n",
    "\n",
    "low_sec = count[\"Lower secondary\"]\n",
    "sec = count[\"Secondary / secondary special\"]\n",
    "inc_high = count[\"Incomplete higher\"]\n",
    "high = count[\"Higher education\"]\n",
    "acad = count[\"Academic degree\"]\n",
    "\n",
    "n = len(payback[\"NAME_EDUCATION_TYPE\"])\n",
    "\n",
    "labels1 = \"Secondary \", \"Higher education\", \"Incomplete higher\", \"Lower secondary\", \"Academic degree\"\n",
    "sizes1 = [sec/n, high/n, inc_high/n, low_sec/n, acad/n]\n",
    "title1 = \"Education Payback\"\n",
    "\n",
    "count = default[\"NAME_EDUCATION_TYPE\"].value_counts()\n",
    "\n",
    "low_sec = count[\"Lower secondary\"]\n",
    "sec = count[\"Secondary / secondary special\"]\n",
    "inc_high = count[\"Incomplete higher\"]\n",
    "high = count[\"Higher education\"]\n",
    "acad = count[\"Academic degree\"]\n",
    "\n",
    "n = len(default[\"NAME_EDUCATION_TYPE\"])\n",
    "\n",
    "labels2 = \"Secondary \", \"Higher education\", \"Incomplete higher\", \"Lower secondary\", \"Academic degree\"\n",
    "sizes2 = [sec/n, high/n, inc_high/n, low_sec/n, acad/n]\n",
    "title2 = \"Education Default\"\n",
    "\n",
    "\n",
    "arguments = [(labels1, sizes1, title1),(labels2, sizes2, title2)]\n",
    "\n",
    "draw_piechart(arguments)"
   ]
  },
  {
   "cell_type": "code",
   "execution_count": null,
   "metadata": {},
   "outputs": [],
   "source": [
    "df = cats[cats[\"TARGET\"] == \"Default\"]\n",
    "for col in df:\n",
    "    print(col)\n",
    "    c = df[col].unique()\n",
    "    n = len(df[col].index)\n",
    "    per = {}\n",
    "    for category in c:\n",
    "        v = len(df[df[col]==category])\n",
    "        per[category]=round(v/n*100, 2)\n",
    "    per = dict(sorted(per.items(), key=lambda item: item[1], reverse=True))\n",
    "    for k,v in per.items():\n",
    "        print(k,v)\n",
    "    print(\"\\n\")"
   ]
  },
  {
   "cell_type": "code",
   "execution_count": null,
   "metadata": {},
   "outputs": [],
   "source": [
    "df = cats[cats[\"TARGET\"] == \"Payback\"]\n",
    "for col in df:\n",
    "    print(col)\n",
    "    c = df[col].unique()\n",
    "    n = len(df[col].index)\n",
    "    per = {}\n",
    "    for category in c:\n",
    "        v = len(df[df[col]==category])\n",
    "        per[category]=round(v/n*100, 2)\n",
    "    per = dict(sorted(per.items(), key=lambda item: item[1], reverse=True))\n",
    "    for k,v in per.items():\n",
    "        print(k,v)\n",
    "    print(\"\\n\")"
   ]
  },
  {
   "cell_type": "code",
   "execution_count": null,
   "metadata": {},
   "outputs": [],
   "source": [
    "df1 = cats[cats[\"TARGET\"] == \"Payback\"]\n",
    "df2 = cats[cats[\"TARGET\"] == \"Default\"]\n",
    "\n",
    "\n",
    "list_payback=[]\n",
    "list_default=[]\n",
    "cols = []\n",
    "\n",
    "for col in app_train:\n",
    "    \n",
    "    if col == \"SK_ID_CURR\":\n",
    "        continue\n",
    "    \n",
    "    c = app_train[col].unique()\n",
    "    \n",
    "    try:\n",
    "        n1 = len(df1[col].index)\n",
    "        n2 = len(df2[col].index)\n",
    "    except KeyError:\n",
    "        print(col)\n",
    "        continue\n",
    "    \n",
    "    for category in c:\n",
    "        pb = len(df1[df1[col]==category])\n",
    "        pb = round(pb/n1*100)\n",
    "        df = len(df2[df2[col]==category])\n",
    "        df = round(df/n2*100)\n",
    "        \n",
    "        list_payback.append(pb)\n",
    "        list_default.append(df)\n",
    "        cols.append(category)\n",
    "        \n",
    "data = {'payback': list_payback, 'default': list_default}\n",
    "pd.DataFrame.from_dict(data, orient='index',columns=cols)"
   ]
  }
 ],
 "metadata": {
  "kernelspec": {
   "display_name": "Python 3",
   "language": "python",
   "name": "python3"
  },
  "language_info": {
   "codemirror_mode": {
    "name": "ipython",
    "version": 3
   },
   "file_extension": ".py",
   "mimetype": "text/x-python",
   "name": "python",
   "nbconvert_exporter": "python",
   "pygments_lexer": "ipython3",
   "version": "3.8.7"
  }
 },
 "nbformat": 4,
 "nbformat_minor": 4
}
