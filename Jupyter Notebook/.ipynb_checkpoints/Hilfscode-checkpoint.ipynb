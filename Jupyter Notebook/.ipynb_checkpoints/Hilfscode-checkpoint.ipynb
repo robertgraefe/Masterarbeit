{
 "cells": [
  {
   "cell_type": "code",
   "execution_count": null,
   "metadata": {},
   "outputs": [],
   "source": [
    "# Liste der Tabellenköpfe in der Description\n",
    "description[\"Table\"].unique()"
   ]
  },
  {
   "cell_type": "code",
   "execution_count": null,
   "metadata": {},
   "outputs": [],
   "source": [
    "# Liste aller Tabellenköpfe vom Typ Objekt\n",
    "heads = list(app_train.select_dtypes(exclude='object').columns.values)\n",
    "\n",
    "# Extraktion eines DF nach den Tabellenköpfen\n",
    "df_heads = df[df[\"Row\"].isin(heads)]\n",
    "# Extraktion eines DF ohne die Tabellenköpfe\n",
    "df_noHeads = df[~df[\"Row\"].isin(heads)]"
   ]
  },
  {
   "cell_type": "code",
   "execution_count": null,
   "metadata": {},
   "outputs": [],
   "source": [
    "# Änderung von kategorischen Daten\n",
    "app_train[\"TARGET\"].replace(\n",
    "    {\n",
    "        0: \"Payback\",\n",
    "        1: \"Default\"\n",
    "    }\n",
    ")"
   ]
  },
  {
   "cell_type": "code",
   "execution_count": null,
   "metadata": {},
   "outputs": [],
   "source": [
    "# Vergleich zweier metrischer stetiger Reihen\n",
    "head = \"DAYS_BIRTH\"\n",
    "\n",
    "x = ms[head]/365*-1\n",
    "a = msp[head]/365*-1\n",
    "b = msd[head]/365*-1\n",
    "\n",
    "a = stats.gaussian_kde(a)\n",
    "a = a(np.arange(min(x),max(x)))\n",
    "b = stats.gaussian_kde(b)\n",
    "b = b(np.arange(min(x),max(x)))\n",
    "\n",
    "x = np.minimum(a,b)\n",
    "y = np.maximum(a,b)\n",
    "\n",
    "ia = a.sum()\n",
    "ib = b.sum()\n",
    "ix = x.sum()\n",
    "iy = y.sum()\n",
    "\n",
    "print(ia-ix)\n",
    "print(ib-ix)\n",
    "print(ia-ix + ib-ix)\n",
    "print(1-ix/iy)\n",
    "\n",
    "plt.plot(a)\n",
    "plt.plot(b)\n",
    "plt.plot(x)\n",
    "plt.show()\n",
    "\n",
    "plt.plot(a)\n",
    "plt.plot(b)\n",
    "plt.plot(y)\n",
    "plt.show()"
   ]
  },
  {
   "cell_type": "code",
   "execution_count": null,
   "metadata": {},
   "outputs": [],
   "source": [
    "# Sehr zeitintensiver Code; TODO: Workaround #\n",
    "head = \"DAYS_EMPLOYED\"\n",
    "\n",
    "x = ms[head]/365*-1\n",
    "a = msp[head]/365*-1\n",
    "b = msd[head]/365*-1\n",
    "\n",
    "a = stats.gaussian_kde(a)\n",
    "a = a(np.arange(min(x),max(x)))\n",
    "b = stats.gaussian_kde(b)\n",
    "b = b(np.arange(min(x),max(x)))\n",
    "\n",
    "x = np.minimum(a,b)\n",
    "y = np.maximum(a,b)\n",
    "\n",
    "ix = x.sum()\n",
    "iy = y.sum()\n",
    "\n",
    "t = (head, 1-ix/iy)\n",
    "t"
   ]
  },
  {
   "cell_type": "code",
   "execution_count": null,
   "metadata": {},
   "outputs": [],
   "source": [
    "# sehr zeitintensiver code; TODO: workaround #\n",
    "top10 = []\n",
    "\n",
    "skip = [\"AMT_ANNUITY\"]\n",
    "days = [\"DAYS_BIRTH\", \"DAYS_EMPLOYED\", \"DAYS_REGISTRATION\", \"DAYS_ID_PUBLISH\", \"DAYS_LAST_PHONE_CHANGE\"]\n",
    "\n",
    "\n",
    "for head in ms.columns.values:\n",
    "    \n",
    "    if head in skip:\n",
    "        continue\n",
    "    \n",
    "    x = ms[head]\n",
    "    a = msp[head]\n",
    "    b = msd[head]\n",
    "    \n",
    "    if head in days:\n",
    "        x = x/365*-1\n",
    "        a = a/365*-1\n",
    "        b = b/365*-1\n",
    "    \n",
    "    a = stats.gaussian_kde(a)\n",
    "    a = a(np.arange(min(x),max(x)))\n",
    "    b = stats.gaussian_kde(b)\n",
    "    b = b(np.arange(min(x),max(x)))\n",
    "\n",
    "    x = np.minimum(a,b)\n",
    "    y = np.maximum(a,b)\n",
    "\n",
    "    ix = x.sum()\n",
    "    iy = y.sum()\n",
    "\n",
    "    t = (head, 1-ix/iy)\n",
    "    print(t)\n",
    "    \n",
    "    top10.append(t)\n",
    "\n",
    "df = pd.DataFrame(top10)"
   ]
  },
  {
   "cell_type": "code",
   "execution_count": null,
   "metadata": {},
   "outputs": [],
   "source": [
    "# print mit tab\n",
    "for head in todo:\n",
    "    print('{:25s} {}'.format(head, bureau[head].dtype.name))"
   ]
  }
 ],
 "metadata": {
  "kernelspec": {
   "display_name": "Python 3",
   "language": "python",
   "name": "python3"
  },
  "language_info": {
   "codemirror_mode": {
    "name": "ipython",
    "version": 3
   },
   "file_extension": ".py",
   "mimetype": "text/x-python",
   "name": "python",
   "nbconvert_exporter": "python",
   "pygments_lexer": "ipython3",
   "version": "3.8.7"
  }
 },
 "nbformat": 4,
 "nbformat_minor": 4
}
