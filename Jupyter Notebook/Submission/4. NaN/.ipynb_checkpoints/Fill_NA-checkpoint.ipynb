{
 "cells": [
  {
   "cell_type": "code",
   "execution_count": null,
   "metadata": {},
   "outputs": [],
   "source": [
    "# Aufarbeitung der NAN Werte"
   ]
  },
  {
   "cell_type": "code",
   "execution_count": 29,
   "metadata": {},
   "outputs": [],
   "source": [
    "from pathlib import Path\n",
    "from scipy import stats\n",
    "\n",
    "import matplotlib.pyplot as plt\n",
    "import pandas as pd\n",
    "import numpy as np\n",
    "import seaborn as sns\n",
    "\n",
    "np.set_printoptions(suppress=True)\n",
    "\n",
    "pd.options.display.max_columns = None\n",
    "pd.options.display.max_rows = None\n",
    "pd.options.display.max_colwidth = None\n",
    "\n",
    "from sklearn.linear_model import LogisticRegression\n",
    "\n",
    "from IPython.display import display, Markdown\n",
    "\n",
    "from sklearn import preprocessing"
   ]
  },
  {
   "cell_type": "code",
   "execution_count": 30,
   "metadata": {},
   "outputs": [],
   "source": [
    "from sklearn.experimental import enable_iterative_imputer\n",
    "from sklearn.impute import IterativeImputer"
   ]
  },
  {
   "cell_type": "code",
   "execution_count": 31,
   "metadata": {},
   "outputs": [],
   "source": [
    "path1 = Path(r\"A:\\Workspace\\Python\\Masterarbeit\\Kaggle Home Credit Datensatz\")\n",
    "path2 = Path(r\"C:\\Users\\rober\\Documents\\Workspace\\Python\\Masterarbeit\\Kaggle Home Credit Datensatz\")\n",
    "\n",
    "if path1.is_dir():\n",
    "    DATASET_DIR = path1\n",
    "else:\n",
    "    DATASET_DIR = path2"
   ]
  },
  {
   "cell_type": "code",
   "execution_count": 32,
   "metadata": {},
   "outputs": [],
   "source": [
    "bureau_col = pd.read_csv(DATASET_DIR / \"3. Ausreißerbereinigung\" / \"bureau.csv\")\n",
    "pa_pos_col = pd.read_csv(DATASET_DIR / \"3. Ausreißerbereinigung\" / \"pa_pos.csv\")\n",
    "pa_ip_col = pd.read_csv(DATASET_DIR / \"3. Ausreißerbereinigung\" / \"pa_ip.csv\")\n",
    "pa_cc_col = pd.read_csv(DATASET_DIR / \"3. Ausreißerbereinigung\" / \"pa_cc.csv\")"
   ]
  },
  {
   "cell_type": "code",
   "execution_count": 33,
   "metadata": {},
   "outputs": [],
   "source": [
    "bureau = pd.read_csv(DATASET_DIR / \"2. Datenaufbereitung\" / \"bureau_all.csv\")\n",
    "pa_pos = pd.read_csv(DATASET_DIR / \"2. Datenaufbereitung\" / \"pa_pos_all.csv\")\n",
    "pa_ip = pd.read_csv(DATASET_DIR / \"2. Datenaufbereitung\" / \"pa_ip_all.csv\")\n",
    "pa_cc = pd.read_csv(DATASET_DIR / \"2. Datenaufbereitung\" / \"pa_cc_all.csv\")"
   ]
  },
  {
   "cell_type": "code",
   "execution_count": 34,
   "metadata": {},
   "outputs": [],
   "source": [
    "bureau_col = bureau_col.set_index(\"SK_ID_CURR\")\n",
    "pa_pos_col = pa_pos_col.set_index(\"SK_ID_CURR\")\n",
    "pa_ip_col = pa_ip_col.set_index(\"SK_ID_CURR\")\n",
    "pa_cc_col = pa_cc_col.set_index(\"SK_ID_CURR\")"
   ]
  },
  {
   "cell_type": "code",
   "execution_count": 35,
   "metadata": {},
   "outputs": [],
   "source": [
    "bureau = bureau.set_index(\"SK_ID_CURR\")\n",
    "pa_pos = pa_pos.set_index(\"SK_ID_CURR\")\n",
    "pa_ip = pa_ip.set_index(\"SK_ID_CURR\")\n",
    "pa_cc = pa_cc.set_index(\"SK_ID_CURR\")"
   ]
  },
  {
   "cell_type": "code",
   "execution_count": 36,
   "metadata": {},
   "outputs": [],
   "source": [
    "bureau = bureau[bureau_col.columns]\n",
    "pa_pos = pa_pos[pa_pos_col.columns]\n",
    "pa_ip = pa_ip[pa_ip_col.columns]\n",
    "pa_cc = pa_cc[pa_cc_col.columns]"
   ]
  },
  {
   "cell_type": "code",
   "execution_count": 37,
   "metadata": {},
   "outputs": [],
   "source": [
    "from datetime import datetime"
   ]
  },
  {
   "cell_type": "code",
   "execution_count": 38,
   "metadata": {},
   "outputs": [
    {
     "name": "stdout",
     "output_type": "stream",
     "text": [
      "21 : 56\n",
      "21 : 56\n"
     ]
    }
   ],
   "source": [
    "print(datetime.now().hour, \":\", datetime.now().minute)\n",
    "x = bureau\n",
    "imp = IterativeImputer(max_iter=500, random_state=0)\n",
    "df = imp.fit_transform(x)\n",
    "df = pd.DataFrame(df)\n",
    "df.columns = bureau.columns.values\n",
    "df.index = bureau.index\n",
    "print(datetime.now().hour, \":\", datetime.now().minute)"
   ]
  },
  {
   "cell_type": "code",
   "execution_count": 39,
   "metadata": {},
   "outputs": [],
   "source": [
    "df.to_csv(DATASET_DIR / \"4. FillNA\" / \"bureau_all.csv\")"
   ]
  },
  {
   "cell_type": "code",
   "execution_count": 40,
   "metadata": {},
   "outputs": [
    {
     "name": "stdout",
     "output_type": "stream",
     "text": [
      "21 : 57\n",
      "21 : 57\n"
     ]
    }
   ],
   "source": [
    "print(datetime.now().hour, \":\", datetime.now().minute)\n",
    "x = pa_pos\n",
    "imp = IterativeImputer(max_iter=500, random_state=0)\n",
    "df = imp.fit_transform(x)\n",
    "df = pd.DataFrame(df)\n",
    "df.columns = pa_pos.columns.values\n",
    "df.index = pa_pos.index\n",
    "print(datetime.now().hour, \":\", datetime.now().minute)"
   ]
  },
  {
   "cell_type": "code",
   "execution_count": 41,
   "metadata": {},
   "outputs": [],
   "source": [
    "df.to_csv(DATASET_DIR / \"4. FillNA\" / \"pa_pos_all.csv\")"
   ]
  },
  {
   "cell_type": "code",
   "execution_count": 42,
   "metadata": {},
   "outputs": [
    {
     "name": "stdout",
     "output_type": "stream",
     "text": [
      "21 : 57\n",
      "21 : 58\n"
     ]
    }
   ],
   "source": [
    "print(datetime.now().hour, \":\", datetime.now().minute)\n",
    "x = pa_ip\n",
    "imp = IterativeImputer(max_iter=500, random_state=0)\n",
    "df = imp.fit_transform(x)\n",
    "df = pd.DataFrame(df)\n",
    "df.columns = pa_ip.columns.values\n",
    "df.index = pa_ip.index\n",
    "print(datetime.now().hour, \":\", datetime.now().minute)"
   ]
  },
  {
   "cell_type": "code",
   "execution_count": 43,
   "metadata": {},
   "outputs": [],
   "source": [
    "df.to_csv(DATASET_DIR / \"4. FillNA\" / \"pa_ip_all.csv\")"
   ]
  },
  {
   "cell_type": "code",
   "execution_count": 44,
   "metadata": {},
   "outputs": [
    {
     "name": "stdout",
     "output_type": "stream",
     "text": [
      "21 : 58\n",
      "21 : 58\n"
     ]
    }
   ],
   "source": [
    "print(datetime.now().hour, \":\", datetime.now().minute)\n",
    "x = pa_cc\n",
    "imp = IterativeImputer(max_iter=500, random_state=0)\n",
    "df = imp.fit_transform(x)\n",
    "df = pd.DataFrame(df)\n",
    "df.columns = pa_cc.columns.values\n",
    "df.index = pa_cc.index\n",
    "print(datetime.now().hour, \":\", datetime.now().minute)"
   ]
  },
  {
   "cell_type": "code",
   "execution_count": 45,
   "metadata": {},
   "outputs": [],
   "source": [
    "df.to_csv(DATASET_DIR / \"4. FillNA\" / \"pa_cc_all.csv\")"
   ]
  },
  {
   "cell_type": "code",
   "execution_count": null,
   "metadata": {},
   "outputs": [],
   "source": []
  }
 ],
 "metadata": {
  "kernelspec": {
   "display_name": "Python 3",
   "language": "python",
   "name": "python3"
  },
  "language_info": {
   "codemirror_mode": {
    "name": "ipython",
    "version": 3
   },
   "file_extension": ".py",
   "mimetype": "text/x-python",
   "name": "python",
   "nbconvert_exporter": "python",
   "pygments_lexer": "ipython3",
   "version": "3.8.6"
  }
 },
 "nbformat": 4,
 "nbformat_minor": 4
}
