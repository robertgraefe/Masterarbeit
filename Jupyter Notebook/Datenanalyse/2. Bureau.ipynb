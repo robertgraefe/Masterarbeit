{
 "cells": [
  {
   "cell_type": "markdown",
   "metadata": {},
   "source": [
    "# Initialisierung"
   ]
  },
  {
   "cell_type": "code",
   "execution_count": 2,
   "metadata": {},
   "outputs": [],
   "source": [
    "from pathlib import Path\n",
    "from scipy import stats\n",
    "\n",
    "import matplotlib.pyplot as plt\n",
    "import pandas as pd\n",
    "import numpy as np\n",
    "import seaborn as sns\n",
    "\n",
    "np.set_printoptions(suppress=True)\n",
    "\n",
    "pd.options.display.max_columns = None\n",
    "pd.options.display.max_rows = None\n",
    "pd.options.display.max_colwidth = None\n",
    "\n",
    "from IPython.display import display, Markdown"
   ]
  },
  {
   "cell_type": "code",
   "execution_count": 3,
   "metadata": {},
   "outputs": [],
   "source": [
    "path1 = Path(r\"A:\\Workspace\\Python\\Masterarbeit\\Kaggle Home Credit Datensatz\")\n",
    "path2 = Path(r\"C:\\Users\\rober\\Documents\\Workspace\\Python\\Masterarbeit\\Kaggle Home Credit Datensatz\")\n",
    "\n",
    "if path1.is_dir():\n",
    "    DATASET_DIR = path1\n",
    "else:\n",
    "    DATASET_DIR = path2"
   ]
  },
  {
   "cell_type": "code",
   "execution_count": 4,
   "metadata": {},
   "outputs": [],
   "source": [
    "app_train = pd.read_csv(DATASET_DIR / \"application_train.csv\")\n",
    "bureau = pd.read_csv(DATASET_DIR / \"bureau.csv\")\n",
    "description = pd.read_csv(DATASET_DIR / \"HomeCredit_columns_description.csv\", encoding=\"latin\", index_col=0)"
   ]
  },
  {
   "cell_type": "code",
   "execution_count": 37,
   "metadata": {},
   "outputs": [
    {
     "data": {
      "text/html": [
       "<div>\n",
       "<style scoped>\n",
       "    .dataframe tbody tr th:only-of-type {\n",
       "        vertical-align: middle;\n",
       "    }\n",
       "\n",
       "    .dataframe tbody tr th {\n",
       "        vertical-align: top;\n",
       "    }\n",
       "\n",
       "    .dataframe thead th {\n",
       "        text-align: right;\n",
       "    }\n",
       "</style>\n",
       "<table border=\"1\" class=\"dataframe\">\n",
       "  <thead>\n",
       "    <tr style=\"text-align: right;\">\n",
       "      <th></th>\n",
       "      <th>Row</th>\n",
       "      <th>Description</th>\n",
       "      <th>Special</th>\n",
       "    </tr>\n",
       "  </thead>\n",
       "  <tbody>\n",
       "    <tr>\n",
       "      <th>125</th>\n",
       "      <td>SK_ID_CURR</td>\n",
       "      <td>ID of loan in our sample - one loan in our sample can have 0,1,2 or more related previous credits in credit bureau</td>\n",
       "      <td>hashed</td>\n",
       "    </tr>\n",
       "    <tr>\n",
       "      <th>126</th>\n",
       "      <td>SK_BUREAU_ID</td>\n",
       "      <td>Recoded ID of previous Credit Bureau credit related to our loan (unique coding for each loan application)</td>\n",
       "      <td>hashed</td>\n",
       "    </tr>\n",
       "    <tr>\n",
       "      <th>127</th>\n",
       "      <td>CREDIT_ACTIVE</td>\n",
       "      <td>Status of the Credit Bureau (CB) reported credits</td>\n",
       "      <td>NaN</td>\n",
       "    </tr>\n",
       "    <tr>\n",
       "      <th>128</th>\n",
       "      <td>CREDIT_CURRENCY</td>\n",
       "      <td>Recoded currency of the Credit Bureau credit</td>\n",
       "      <td>recoded</td>\n",
       "    </tr>\n",
       "    <tr>\n",
       "      <th>129</th>\n",
       "      <td>DAYS_CREDIT</td>\n",
       "      <td>How many days before current application did client apply for Credit Bureau credit</td>\n",
       "      <td>time only relative to the application</td>\n",
       "    </tr>\n",
       "    <tr>\n",
       "      <th>130</th>\n",
       "      <td>CREDIT_DAY_OVERDUE</td>\n",
       "      <td>Number of days past due on CB credit at the time of application for related loan in our sample</td>\n",
       "      <td>NaN</td>\n",
       "    </tr>\n",
       "    <tr>\n",
       "      <th>131</th>\n",
       "      <td>DAYS_CREDIT_ENDDATE</td>\n",
       "      <td>Remaining duration of CB credit (in days) at the time of application in Home Credit</td>\n",
       "      <td>time only relative to the application</td>\n",
       "    </tr>\n",
       "    <tr>\n",
       "      <th>132</th>\n",
       "      <td>DAYS_ENDDATE_FACT</td>\n",
       "      <td>Days since CB credit ended at the time of application in Home Credit (only for closed credit)</td>\n",
       "      <td>time only relative to the application</td>\n",
       "    </tr>\n",
       "    <tr>\n",
       "      <th>133</th>\n",
       "      <td>AMT_CREDIT_MAX_OVERDUE</td>\n",
       "      <td>Maximal amount overdue on the Credit Bureau credit so far (at application date of loan in our sample)</td>\n",
       "      <td>NaN</td>\n",
       "    </tr>\n",
       "    <tr>\n",
       "      <th>134</th>\n",
       "      <td>CNT_CREDIT_PROLONG</td>\n",
       "      <td>How many times was the Credit Bureau credit prolonged</td>\n",
       "      <td>NaN</td>\n",
       "    </tr>\n",
       "    <tr>\n",
       "      <th>135</th>\n",
       "      <td>AMT_CREDIT_SUM</td>\n",
       "      <td>Current credit amount for the Credit Bureau credit</td>\n",
       "      <td>NaN</td>\n",
       "    </tr>\n",
       "    <tr>\n",
       "      <th>136</th>\n",
       "      <td>AMT_CREDIT_SUM_DEBT</td>\n",
       "      <td>Current debt on Credit Bureau credit</td>\n",
       "      <td>NaN</td>\n",
       "    </tr>\n",
       "    <tr>\n",
       "      <th>137</th>\n",
       "      <td>AMT_CREDIT_SUM_LIMIT</td>\n",
       "      <td>Current credit limit of credit card reported in Credit Bureau</td>\n",
       "      <td>NaN</td>\n",
       "    </tr>\n",
       "    <tr>\n",
       "      <th>138</th>\n",
       "      <td>AMT_CREDIT_SUM_OVERDUE</td>\n",
       "      <td>Current amount overdue on Credit Bureau credit</td>\n",
       "      <td>NaN</td>\n",
       "    </tr>\n",
       "    <tr>\n",
       "      <th>139</th>\n",
       "      <td>CREDIT_TYPE</td>\n",
       "      <td>Type of Credit Bureau credit (Car, cash,...)</td>\n",
       "      <td>NaN</td>\n",
       "    </tr>\n",
       "    <tr>\n",
       "      <th>140</th>\n",
       "      <td>DAYS_CREDIT_UPDATE</td>\n",
       "      <td>How many days before loan application did last information about the Credit Bureau credit come</td>\n",
       "      <td>time only relative to the application</td>\n",
       "    </tr>\n",
       "    <tr>\n",
       "      <th>141</th>\n",
       "      <td>AMT_ANNUITY</td>\n",
       "      <td>Annuity of the Credit Bureau credit</td>\n",
       "      <td>NaN</td>\n",
       "    </tr>\n",
       "  </tbody>\n",
       "</table>\n",
       "</div>"
      ],
      "text/plain": [
       "                        Row  \\\n",
       "125              SK_ID_CURR   \n",
       "126            SK_BUREAU_ID   \n",
       "127           CREDIT_ACTIVE   \n",
       "128         CREDIT_CURRENCY   \n",
       "129             DAYS_CREDIT   \n",
       "130      CREDIT_DAY_OVERDUE   \n",
       "131     DAYS_CREDIT_ENDDATE   \n",
       "132       DAYS_ENDDATE_FACT   \n",
       "133  AMT_CREDIT_MAX_OVERDUE   \n",
       "134      CNT_CREDIT_PROLONG   \n",
       "135          AMT_CREDIT_SUM   \n",
       "136     AMT_CREDIT_SUM_DEBT   \n",
       "137    AMT_CREDIT_SUM_LIMIT   \n",
       "138  AMT_CREDIT_SUM_OVERDUE   \n",
       "139             CREDIT_TYPE   \n",
       "140      DAYS_CREDIT_UPDATE   \n",
       "141             AMT_ANNUITY   \n",
       "\n",
       "                                                                                                             Description  \\\n",
       "125  ID of loan in our sample - one loan in our sample can have 0,1,2 or more related previous credits in credit bureau    \n",
       "126            Recoded ID of previous Credit Bureau credit related to our loan (unique coding for each loan application)   \n",
       "127                                                                    Status of the Credit Bureau (CB) reported credits   \n",
       "128                                                                         Recoded currency of the Credit Bureau credit   \n",
       "129                                   How many days before current application did client apply for Credit Bureau credit   \n",
       "130                       Number of days past due on CB credit at the time of application for related loan in our sample   \n",
       "131                                  Remaining duration of CB credit (in days) at the time of application in Home Credit   \n",
       "132                        Days since CB credit ended at the time of application in Home Credit (only for closed credit)   \n",
       "133                Maximal amount overdue on the Credit Bureau credit so far (at application date of loan in our sample)   \n",
       "134                                                                How many times was the Credit Bureau credit prolonged   \n",
       "135                                                                   Current credit amount for the Credit Bureau credit   \n",
       "136                                                                                 Current debt on Credit Bureau credit   \n",
       "137                                                        Current credit limit of credit card reported in Credit Bureau   \n",
       "138                                                                       Current amount overdue on Credit Bureau credit   \n",
       "139                                                                         Type of Credit Bureau credit (Car, cash,...)   \n",
       "140                       How many days before loan application did last information about the Credit Bureau credit come   \n",
       "141                                                                                  Annuity of the Credit Bureau credit   \n",
       "\n",
       "                                   Special  \n",
       "125                                 hashed  \n",
       "126                                 hashed  \n",
       "127                                    NaN  \n",
       "128                                recoded  \n",
       "129  time only relative to the application  \n",
       "130                                    NaN  \n",
       "131  time only relative to the application  \n",
       "132  time only relative to the application  \n",
       "133                                    NaN  \n",
       "134                                    NaN  \n",
       "135                                    NaN  \n",
       "136                                    NaN  \n",
       "137                                    NaN  \n",
       "138                                    NaN  \n",
       "139                                    NaN  \n",
       "140  time only relative to the application  \n",
       "141                                    NaN  "
      ]
     },
     "execution_count": 37,
     "metadata": {},
     "output_type": "execute_result"
    }
   ],
   "source": [
    "description.loc[description['Table']==\"bureau.csv\", \"Row\":\"Special\"]"
   ]
  },
  {
   "cell_type": "code",
   "execution_count": 5,
   "metadata": {},
   "outputs": [],
   "source": [
    "# Function to draw a Piechart\n",
    "def draw_piechart(arguments):\n",
    "    \n",
    "    fig, ax = plt.subplots(1,len(arguments))\n",
    "\n",
    "    try:\n",
    "    # Handle multiple plots\n",
    "        for argument, a in zip(arguments,ax):\n",
    "            labels = argument[0]\n",
    "            sizes = argument[1]\n",
    "            title = argument[2]\n",
    "\n",
    "            a.pie(sizes, labels=labels, autopct='%1.1f%%', startangle=90, normalize=False, labeldistance=1.05)\n",
    "            a.axis('equal')  # Equal aspect ratio ensures that pie is drawn as a circle.\n",
    "            a.set_title(title)\n",
    "            \n",
    "    # Handle single plot           \n",
    "    except TypeError:\n",
    "        for argument in arguments:\n",
    "            labels = argument[0]\n",
    "            sizes = argument[1]\n",
    "            title = argument[2]\n",
    "        \n",
    "            ax.pie(sizes, labels=labels, autopct='%1.1f%%', startangle=90, normalize=False)\n",
    "            ax.axis('equal')  # Equal aspect ratio ensures that pie is drawn as a circle.\n",
    "            ax.set_title(title)\n",
    "    plt.show()"
   ]
  },
  {
   "cell_type": "markdown",
   "metadata": {},
   "source": [
    "# Datenaufbereitung"
   ]
  },
  {
   "cell_type": "code",
   "execution_count": 11,
   "metadata": {},
   "outputs": [],
   "source": [
    "# Schnittmenge zwischen app_train und bureau\n",
    "# Ergänzt die Variable \"TARGET\" in dem bureau-Datensatz\n",
    "bureau = pd.merge(bureau, app_train[[\"SK_ID_CURR\",\"TARGET\"]] ,on=\"SK_ID_CURR\")\n",
    "\n",
    "# Austausch der numerischen Kategorien durch sprechende, interpretierbare Variablen\n",
    "bureau[\"TARGET\"].replace(\n",
    "    {\n",
    "        0: \"Payback\",\n",
    "        1: \"Default\"\n",
    "    }, inplace = True\n",
    ")\n",
    "\n",
    "# Unterteilung des Datensatzen nach Payback und Default\n",
    "payback = bureau[bureau[\"TARGET\"] == \"Payback\"]\n",
    "default = bureau[bureau[\"TARGET\"] == \"Default\"]"
   ]
  },
  {
   "cell_type": "code",
   "execution_count": 48,
   "metadata": {},
   "outputs": [
    {
     "data": {
      "text/html": [
       "<div>\n",
       "<style scoped>\n",
       "    .dataframe tbody tr th:only-of-type {\n",
       "        vertical-align: middle;\n",
       "    }\n",
       "\n",
       "    .dataframe tbody tr th {\n",
       "        vertical-align: top;\n",
       "    }\n",
       "\n",
       "    .dataframe thead th {\n",
       "        text-align: right;\n",
       "    }\n",
       "</style>\n",
       "<table border=\"1\" class=\"dataframe\">\n",
       "  <thead>\n",
       "    <tr style=\"text-align: right;\">\n",
       "      <th></th>\n",
       "      <th>SK_ID_CURR</th>\n",
       "      <th>SK_ID_BUREAU</th>\n",
       "      <th>CREDIT_ACTIVE</th>\n",
       "      <th>CREDIT_CURRENCY</th>\n",
       "      <th>DAYS_CREDIT</th>\n",
       "      <th>CREDIT_DAY_OVERDUE</th>\n",
       "      <th>DAYS_CREDIT_ENDDATE</th>\n",
       "      <th>DAYS_ENDDATE_FACT</th>\n",
       "      <th>AMT_CREDIT_MAX_OVERDUE</th>\n",
       "      <th>CNT_CREDIT_PROLONG</th>\n",
       "      <th>AMT_CREDIT_SUM</th>\n",
       "      <th>AMT_CREDIT_SUM_DEBT</th>\n",
       "      <th>AMT_CREDIT_SUM_LIMIT</th>\n",
       "      <th>AMT_CREDIT_SUM_OVERDUE</th>\n",
       "      <th>CREDIT_TYPE</th>\n",
       "      <th>DAYS_CREDIT_UPDATE</th>\n",
       "      <th>AMT_ANNUITY</th>\n",
       "      <th>TARGET</th>\n",
       "    </tr>\n",
       "  </thead>\n",
       "  <tbody>\n",
       "    <tr>\n",
       "      <th>0</th>\n",
       "      <td>215354</td>\n",
       "      <td>5714462</td>\n",
       "      <td>Closed</td>\n",
       "      <td>currency 1</td>\n",
       "      <td>-497</td>\n",
       "      <td>0</td>\n",
       "      <td>-153.0</td>\n",
       "      <td>-153.0</td>\n",
       "      <td>NaN</td>\n",
       "      <td>0</td>\n",
       "      <td>91323.0</td>\n",
       "      <td>0.0</td>\n",
       "      <td>NaN</td>\n",
       "      <td>0.0</td>\n",
       "      <td>Consumer credit</td>\n",
       "      <td>-131</td>\n",
       "      <td>NaN</td>\n",
       "      <td>0</td>\n",
       "    </tr>\n",
       "    <tr>\n",
       "      <th>1</th>\n",
       "      <td>215354</td>\n",
       "      <td>5714463</td>\n",
       "      <td>Active</td>\n",
       "      <td>currency 1</td>\n",
       "      <td>-208</td>\n",
       "      <td>0</td>\n",
       "      <td>1075.0</td>\n",
       "      <td>NaN</td>\n",
       "      <td>NaN</td>\n",
       "      <td>0</td>\n",
       "      <td>225000.0</td>\n",
       "      <td>171342.0</td>\n",
       "      <td>NaN</td>\n",
       "      <td>0.0</td>\n",
       "      <td>Credit card</td>\n",
       "      <td>-20</td>\n",
       "      <td>NaN</td>\n",
       "      <td>0</td>\n",
       "    </tr>\n",
       "    <tr>\n",
       "      <th>2</th>\n",
       "      <td>215354</td>\n",
       "      <td>5714464</td>\n",
       "      <td>Active</td>\n",
       "      <td>currency 1</td>\n",
       "      <td>-203</td>\n",
       "      <td>0</td>\n",
       "      <td>528.0</td>\n",
       "      <td>NaN</td>\n",
       "      <td>NaN</td>\n",
       "      <td>0</td>\n",
       "      <td>464323.5</td>\n",
       "      <td>NaN</td>\n",
       "      <td>NaN</td>\n",
       "      <td>0.0</td>\n",
       "      <td>Consumer credit</td>\n",
       "      <td>-16</td>\n",
       "      <td>NaN</td>\n",
       "      <td>0</td>\n",
       "    </tr>\n",
       "    <tr>\n",
       "      <th>3</th>\n",
       "      <td>215354</td>\n",
       "      <td>5714465</td>\n",
       "      <td>Active</td>\n",
       "      <td>currency 1</td>\n",
       "      <td>-203</td>\n",
       "      <td>0</td>\n",
       "      <td>NaN</td>\n",
       "      <td>NaN</td>\n",
       "      <td>NaN</td>\n",
       "      <td>0</td>\n",
       "      <td>90000.0</td>\n",
       "      <td>NaN</td>\n",
       "      <td>NaN</td>\n",
       "      <td>0.0</td>\n",
       "      <td>Credit card</td>\n",
       "      <td>-16</td>\n",
       "      <td>NaN</td>\n",
       "      <td>0</td>\n",
       "    </tr>\n",
       "    <tr>\n",
       "      <th>4</th>\n",
       "      <td>215354</td>\n",
       "      <td>5714466</td>\n",
       "      <td>Active</td>\n",
       "      <td>currency 1</td>\n",
       "      <td>-629</td>\n",
       "      <td>0</td>\n",
       "      <td>1197.0</td>\n",
       "      <td>NaN</td>\n",
       "      <td>77674.5</td>\n",
       "      <td>0</td>\n",
       "      <td>2700000.0</td>\n",
       "      <td>NaN</td>\n",
       "      <td>NaN</td>\n",
       "      <td>0.0</td>\n",
       "      <td>Consumer credit</td>\n",
       "      <td>-21</td>\n",
       "      <td>NaN</td>\n",
       "      <td>0</td>\n",
       "    </tr>\n",
       "  </tbody>\n",
       "</table>\n",
       "</div>"
      ],
      "text/plain": [
       "   SK_ID_CURR  SK_ID_BUREAU CREDIT_ACTIVE CREDIT_CURRENCY  DAYS_CREDIT  \\\n",
       "0      215354       5714462        Closed      currency 1         -497   \n",
       "1      215354       5714463        Active      currency 1         -208   \n",
       "2      215354       5714464        Active      currency 1         -203   \n",
       "3      215354       5714465        Active      currency 1         -203   \n",
       "4      215354       5714466        Active      currency 1         -629   \n",
       "\n",
       "   CREDIT_DAY_OVERDUE  DAYS_CREDIT_ENDDATE  DAYS_ENDDATE_FACT  \\\n",
       "0                   0               -153.0             -153.0   \n",
       "1                   0               1075.0                NaN   \n",
       "2                   0                528.0                NaN   \n",
       "3                   0                  NaN                NaN   \n",
       "4                   0               1197.0                NaN   \n",
       "\n",
       "   AMT_CREDIT_MAX_OVERDUE  CNT_CREDIT_PROLONG  AMT_CREDIT_SUM  \\\n",
       "0                     NaN                   0         91323.0   \n",
       "1                     NaN                   0        225000.0   \n",
       "2                     NaN                   0        464323.5   \n",
       "3                     NaN                   0         90000.0   \n",
       "4                 77674.5                   0       2700000.0   \n",
       "\n",
       "   AMT_CREDIT_SUM_DEBT  AMT_CREDIT_SUM_LIMIT  AMT_CREDIT_SUM_OVERDUE  \\\n",
       "0                  0.0                   NaN                     0.0   \n",
       "1             171342.0                   NaN                     0.0   \n",
       "2                  NaN                   NaN                     0.0   \n",
       "3                  NaN                   NaN                     0.0   \n",
       "4                  NaN                   NaN                     0.0   \n",
       "\n",
       "       CREDIT_TYPE  DAYS_CREDIT_UPDATE  AMT_ANNUITY  TARGET  \n",
       "0  Consumer credit                -131          NaN       0  \n",
       "1      Credit card                 -20          NaN       0  \n",
       "2  Consumer credit                 -16          NaN       0  \n",
       "3      Credit card                 -16          NaN       0  \n",
       "4  Consumer credit                 -21          NaN       0  "
      ]
     },
     "execution_count": 48,
     "metadata": {},
     "output_type": "execute_result"
    }
   ],
   "source": [
    "bureau.head()"
   ]
  },
  {
   "cell_type": "markdown",
   "metadata": {},
   "source": [
    "# Datenanalyse"
   ]
  },
  {
   "cell_type": "markdown",
   "metadata": {},
   "source": [
    "## Credit Currency"
   ]
  },
  {
   "cell_type": "code",
   "execution_count": 29,
   "metadata": {},
   "outputs": [
    {
     "data": {
      "text/markdown": [
       "### Payback"
      ],
      "text/plain": [
       "<IPython.core.display.Markdown object>"
      ]
     },
     "metadata": {},
     "output_type": "display_data"
    },
    {
     "name": "stdout",
     "output_type": "stream",
     "text": [
      "currency 1    1349640\n",
      "currency 2       1023\n",
      "currency 3        133\n",
      "currency 4          9\n",
      "Name: CREDIT_CURRENCY, dtype: int64 \n",
      "\n"
     ]
    },
    {
     "data": {
      "text/markdown": [
       "### Default"
      ],
      "text/plain": [
       "<IPython.core.display.Markdown object>"
      ]
     },
     "metadata": {},
     "output_type": "display_data"
    },
    {
     "name": "stdout",
     "output_type": "stream",
     "text": [
      "currency 1    114454\n",
      "currency 2        49\n",
      "currency 3        17\n",
      "Name: CREDIT_CURRENCY, dtype: int64 \n",
      "\n"
     ]
    },
    {
     "data": {
      "image/png": "[encoded data removed]",
      "text/plain": [
       "<Figure size 432x288 with 2 Axes>"
      ]
     },
     "metadata": {},
     "output_type": "display_data"
    }
   ],
   "source": [
    "COLUMN_NAME = \"CREDIT_CURRENCY\"\n",
    "TITLE = \"Credit Currency\"\n",
    "LABELS = [\"Currency 1\", \"Rest\"]\n",
    "SIZES_PER = lambda x : x / N\n",
    "\n",
    "count = payback[COLUMN_NAME].value_counts()\n",
    "\n",
    "N = len(payback[COLUMN_NAME])\n",
    "\n",
    "curr1 = count[\"currency 1\"]\n",
    "rest = N - curr1\n",
    "SIZES = [curr1, rest]\n",
    "\n",
    "labels1 = LABELS\n",
    "sizes1 = [SIZES_PER(element) for element in SIZES]\n",
    "title1 = TITLE + \" Payback\"\n",
    "\n",
    "display(Markdown(\"### Payback\"))\n",
    "print(count, \"\\n\")\n",
    "\n",
    "count = default[COLUMN_NAME].value_counts()\n",
    "\n",
    "N = len(default[COLUMN_NAME])\n",
    "\n",
    "curr1 = count[\"currency 1\"]\n",
    "rest = N - curr1\n",
    "SIZES = [curr1, rest]\n",
    "\n",
    "labels2 = LABELS\n",
    "sizes2 = [SIZES_PER(element) for element in SIZES]\n",
    "title2 = TITLE + \" Default\"\n",
    "\n",
    "display(Markdown(\"### Default\"))\n",
    "print(count, \"\\n\")\n",
    "\n",
    "arguments = [(labels1, sizes1, title1), (labels2, sizes2, title2)]\n",
    "\n",
    "draw_piechart(arguments)"
   ]
  },
  {
   "cell_type": "markdown",
   "metadata": {},
   "source": [
    "Alle Kredite werden fast vollständig in der gleichen Währung vergeben."
   ]
  },
  {
   "cell_type": "markdown",
   "metadata": {},
   "source": [
    "## Days Credit"
   ]
  },
  {
   "cell_type": "code",
   "execution_count": 24,
   "metadata": {},
   "outputs": [
    {
     "data": {
      "text/markdown": [
       "### Payback"
      ],
      "text/plain": [
       "<IPython.core.display.Markdown object>"
      ]
     },
     "metadata": {},
     "output_type": "display_data"
    },
    {
     "name": "stdout",
     "output_type": "stream",
     "text": [
      "3.1724363103016247 \n",
      "\n"
     ]
    },
    {
     "data": {
      "text/markdown": [
       "### Default"
      ],
      "text/plain": [
       "<IPython.core.display.Markdown object>"
      ]
     },
     "metadata": {},
     "output_type": "display_data"
    },
    {
     "name": "stdout",
     "output_type": "stream",
     "text": [
      "2.669776960655314\n"
     ]
    }
   ],
   "source": [
    "display(Markdown(\"### Payback\"))\n",
    "print(payback[\"DAYS_CREDIT\"].mean()*-1/365, \"\\n\")\n",
    "\n",
    "display(Markdown(\"### Default\"))\n",
    "print(default[\"DAYS_CREDIT\"].mean()*-1/365)"
   ]
  },
  {
   "cell_type": "markdown",
   "metadata": {},
   "source": [
    "Zurückzahlende Kunden bezogen bereits durchschnittlich 3.17 Jahre zuvor einen anderen Kredit.\n",
    "\n",
    "Ausfallende Kunden bezogen bereits durchschnittlich 2.67 Jahre zuvor einen anderen Kredit."
   ]
  },
  {
   "cell_type": "markdown",
   "metadata": {},
   "source": [
    "## Credit Days Overdue"
   ]
  },
  {
   "cell_type": "code",
   "execution_count": 33,
   "metadata": {},
   "outputs": [
    {
     "data": {
      "text/markdown": [
       "### Payback"
      ],
      "text/plain": [
       "<IPython.core.display.Markdown object>"
      ]
     },
     "metadata": {},
     "output_type": "display_data"
    },
    {
     "name": "stdout",
     "output_type": "stream",
     "text": [
      "1.0491144023176038 \n",
      "\n"
     ]
    },
    {
     "data": {
      "text/markdown": [
       "### Default"
      ],
      "text/plain": [
       "<IPython.core.display.Markdown object>"
      ]
     },
     "metadata": {},
     "output_type": "display_data"
    },
    {
     "name": "stdout",
     "output_type": "stream",
     "text": [
      "0.5750299340436327\n"
     ]
    }
   ],
   "source": [
    "display(Markdown(\"### Payback\"))\n",
    "print(payback[payback[\"CREDIT_DAY_OVERDUE\"] > 0][\"CREDIT_DAY_OVERDUE\"].mean() / 365, \"\\n\")\n",
    "\n",
    "display(Markdown(\"### Default\"))\n",
    "print(default[default[\"CREDIT_DAY_OVERDUE\"] > 0][\"CREDIT_DAY_OVERDUE\"].mean() / 365)"
   ]
  },
  {
   "cell_type": "markdown",
   "metadata": {},
   "source": [
    "In der Vergangenheit überzogen zurückzahlende Kreditnehmer ihre Kredite um 1.049 Jahre.\n",
    "\n",
    "In der Vergangenheit überzogen ausfallende Kreditnehmer ihre Kredite um 0.57 Jahre."
   ]
  },
  {
   "cell_type": "code",
   "execution_count": 34,
   "metadata": {},
   "outputs": [
    {
     "data": {
      "text/plain": [
       "<AxesSubplot:ylabel='Frequency'>"
      ]
     },
     "execution_count": 34,
     "metadata": {},
     "output_type": "execute_result"
    },
    {
     "data": {
      "image/png": "[encoded data removed]",
      "text/plain": [
       "<Figure size 432x288 with 1 Axes>"
      ]
     },
     "metadata": {
      "needs_background": "light"
     },
     "output_type": "display_data"
    }
   ],
   "source": [
    "payback[payback[\"CREDIT_DAY_OVERDUE\"] > 0][\"CREDIT_DAY_OVERDUE\"].plot.hist()"
   ]
  },
  {
   "cell_type": "code",
   "execution_count": 35,
   "metadata": {},
   "outputs": [
    {
     "data": {
      "text/plain": [
       "<AxesSubplot:ylabel='Frequency'>"
      ]
     },
     "execution_count": 35,
     "metadata": {},
     "output_type": "execute_result"
    },
    {
     "data": {
      "image/png": "[encoded data removed]",
      "text/plain": [
       "<Figure size 432x288 with 1 Axes>"
      ]
     },
     "metadata": {
      "needs_background": "light"
     },
     "output_type": "display_data"
    }
   ],
   "source": [
    "default[default[\"CREDIT_DAY_OVERDUE\"] > 0][\"CREDIT_DAY_OVERDUE\"].plot.hist()"
   ]
  },
  {
   "cell_type": "code",
   "execution_count": 39,
   "metadata": {},
   "outputs": [
    {
     "data": {
      "text/markdown": [
       "### Payback"
      ],
      "text/plain": [
       "<IPython.core.display.Markdown object>"
      ]
     },
     "metadata": {},
     "output_type": "display_data"
    },
    {
     "name": "stdout",
     "output_type": "stream",
     "text": [
      "Consumer credit                                 989564\n",
      "Credit card                                     313591\n",
      "Car loan                                         22433\n",
      "Mortgage                                         14827\n",
      "Microloan                                         7146\n",
      "Loan for business development                     1615\n",
      "Another type of loan                               793\n",
      "Unknown type of loan                               443\n",
      "Loan for working capital replenishment             329\n",
      "Real estate loan                                    23\n",
      "Cash loan (non-earmarked)                           22\n",
      "Loan for the purchase of equipment                  13\n",
      "Loan for purchase of shares (margin lending)         4\n",
      "Interbank credit                                     1\n",
      "Mobile operator loan                                 1\n",
      "Name: CREDIT_TYPE, dtype: int64 \n",
      "\n"
     ]
    },
    {
     "data": {
      "text/markdown": [
       "### Default"
      ],
      "text/plain": [
       "<IPython.core.display.Markdown object>"
      ]
     },
     "metadata": {},
     "output_type": "display_data"
    },
    {
     "name": "stdout",
     "output_type": "stream",
     "text": [
      "Consumer credit                           80046\n",
      "Credit card                               30262\n",
      "Microloan                                  1859\n",
      "Car loan                                   1324\n",
      "Mortgage                                    780\n",
      "Loan for business development               106\n",
      "Another type of loan                         61\n",
      "Loan for working capital replenishment       48\n",
      "Unknown type of loan                         29\n",
      "Loan for the purchase of equipment            4\n",
      "Cash loan (non-earmarked)                     1\n",
      "Name: CREDIT_TYPE, dtype: int64 \n",
      "\n"
     ]
    },
    {
     "data": {
      "image/png": "[encoded data removed]",
      "text/plain": [
       "<Figure size 432x288 with 2 Axes>"
      ]
     },
     "metadata": {},
     "output_type": "display_data"
    }
   ],
   "source": [
    "COLUMN_NAME = \"CREDIT_TYPE\"\n",
    "TITLE = \"Credit Type\"\n",
    "LABELS = [\"Consumer Credit\", \"Credit Card\",\"Rest\"]\n",
    "SIZES_PER = lambda x : x / N\n",
    "\n",
    "count = payback[COLUMN_NAME].value_counts()\n",
    "\n",
    "N = len(payback[COLUMN_NAME])\n",
    "\n",
    "consumer = count[\"Consumer credit\"]\n",
    "creditcard = count[\"Credit card\"]\n",
    "rest = N - consumer - creditcard\n",
    "SIZES = [consumer, creditcard, rest]\n",
    "\n",
    "labels1 = LABELS\n",
    "sizes1 = [SIZES_PER(element) for element in SIZES]\n",
    "title1 = TITLE + \" Payback\"\n",
    "\n",
    "display(Markdown(\"### Payback\"))\n",
    "print(count, \"\\n\")\n",
    "\n",
    "count = default[COLUMN_NAME].value_counts()\n",
    "\n",
    "N = len(default[COLUMN_NAME])\n",
    "\n",
    "consumer = count[\"Consumer credit\"]\n",
    "creditcard = count[\"Credit card\"]\n",
    "rest = N - consumer - creditcard\n",
    "SIZES = [consumer, creditcard, rest]\n",
    "\n",
    "labels2 = LABELS\n",
    "sizes2 = [SIZES_PER(element) for element in SIZES]\n",
    "title2 = TITLE + \" Default\"\n",
    "\n",
    "display(Markdown(\"### Default\"))\n",
    "print(count, \"\\n\")\n",
    "\n",
    "arguments = [(labels1, sizes1, title1), (labels2, sizes2, title2)]\n",
    "\n",
    "draw_piechart(arguments)"
   ]
  },
  {
   "cell_type": "markdown",
   "metadata": {},
   "source": [
    "## Credit Sum"
   ]
  },
  {
   "cell_type": "code",
   "execution_count": 38,
   "metadata": {},
   "outputs": [
    {
     "data": {
      "text/markdown": [
       "### Payback"
      ],
      "text/plain": [
       "<IPython.core.display.Markdown object>"
      ]
     },
     "metadata": {},
     "output_type": "display_data"
    },
    {
     "name": "stdout",
     "output_type": "stream",
     "text": [
      "465329.8589330643 \n",
      "\n"
     ]
    },
    {
     "data": {
      "text/markdown": [
       "### Default"
      ],
      "text/plain": [
       "<IPython.core.display.Markdown object>"
      ]
     },
     "metadata": {},
     "output_type": "display_data"
    },
    {
     "data": {
      "text/plain": [
       "384614.6111320284"
      ]
     },
     "execution_count": 38,
     "metadata": {},
     "output_type": "execute_result"
    }
   ],
   "source": [
    "display(Markdown(\"### Payback\"))\n",
    "print(payback[payback[\"AMT_CREDIT_SUM_DEBT\"] > 0][\"AMT_CREDIT_SUM_DEBT\"].mean(), \"\\n\")\n",
    "\n",
    "display(Markdown(\"### Default\"))\n",
    "default[default[\"AMT_CREDIT_SUM_DEBT\"] > 0][\"AMT_CREDIT_SUM_DEBT\"].mean()"
   ]
  },
  {
   "cell_type": "markdown",
   "metadata": {},
   "source": [
    "Zurückzahlende Kunden haben durchschnittlich Finanzmittel aus anderen Krediten in Höhe von 465.329,86.\n",
    "\n",
    "Ausfallende Kunden haben durchschnittlich Finanzmittel aus anderen Krediten in Höhe von 384.614,61."
   ]
  },
  {
   "cell_type": "markdown",
   "metadata": {},
   "source": [
    "## Credit Active"
   ]
  },
  {
   "cell_type": "code",
   "execution_count": 40,
   "metadata": {},
   "outputs": [
    {
     "data": {
      "text/markdown": [
       "### Payback"
      ],
      "text/plain": [
       "<IPython.core.display.Markdown object>"
      ]
     },
     "metadata": {},
     "output_type": "display_data"
    },
    {
     "name": "stdout",
     "output_type": "stream",
     "text": [
      "Closed      854124\n",
      "Active      491583\n",
      "Sold          5082\n",
      "Bad debt        16\n",
      "Name: CREDIT_ACTIVE, dtype: int64 \n",
      "\n"
     ]
    },
    {
     "data": {
      "text/markdown": [
       "### Default"
      ],
      "text/plain": [
       "<IPython.core.display.Markdown object>"
      ]
     },
     "metadata": {},
     "output_type": "display_data"
    },
    {
     "name": "stdout",
     "output_type": "stream",
     "text": [
      "Closed      63609\n",
      "Active      50336\n",
      "Sold          571\n",
      "Bad debt        4\n",
      "Name: CREDIT_ACTIVE, dtype: int64 \n",
      "\n"
     ]
    },
    {
     "data": {
      "image/png": "[encoded data removed]",
      "text/plain": [
       "<Figure size 432x288 with 2 Axes>"
      ]
     },
     "metadata": {},
     "output_type": "display_data"
    }
   ],
   "source": [
    "COLUMN_NAME = \"CREDIT_ACTIVE\"\n",
    "TITLE = \"Credit Active\"\n",
    "LABELS = [\"Closed\", \"Active\",\"Rest\"]\n",
    "SIZES_PER = lambda x : x / N\n",
    "\n",
    "count = payback[COLUMN_NAME].value_counts()\n",
    "\n",
    "N = len(payback[COLUMN_NAME])\n",
    "\n",
    "closed = count[\"Closed\"]\n",
    "active = count[\"Active\"]\n",
    "rest = N - closed - active\n",
    "SIZES = [closed, active, rest]\n",
    "\n",
    "labels1 = LABELS\n",
    "sizes1 = [SIZES_PER(element) for element in SIZES]\n",
    "title1 = TITLE + \" Payback\"\n",
    "\n",
    "display(Markdown(\"### Payback\"))\n",
    "print(count, \"\\n\")\n",
    "\n",
    "count = default[COLUMN_NAME].value_counts()\n",
    "\n",
    "N = len(default[COLUMN_NAME])\n",
    "\n",
    "closed = count[\"Closed\"]\n",
    "active = count[\"Active\"]\n",
    "rest = N - closed - active\n",
    "SIZES = [closed, active, rest]\n",
    "\n",
    "labels2 = LABELS\n",
    "sizes2 = [SIZES_PER(element) for element in SIZES]\n",
    "title2 = TITLE + \" Default\"\n",
    "\n",
    "display(Markdown(\"### Default\"))\n",
    "print(count, \"\\n\")\n",
    "\n",
    "arguments = [(labels1, sizes1, title1), (labels2, sizes2, title2)]\n",
    "\n",
    "draw_piechart(arguments)"
   ]
  },
  {
   "cell_type": "markdown",
   "metadata": {},
   "source": [
    "## Credit Type"
   ]
  },
  {
   "cell_type": "code",
   "execution_count": 37,
   "metadata": {},
   "outputs": [
    {
     "data": {
      "text/markdown": [
       "### Payback"
      ],
      "text/plain": [
       "<IPython.core.display.Markdown object>"
      ]
     },
     "metadata": {},
     "output_type": "display_data"
    },
    {
     "name": "stdout",
     "output_type": "stream",
     "text": [
      "Consumer credit                                 989564\n",
      "Credit card                                     313591\n",
      "Car loan                                         22433\n",
      "Mortgage                                         14827\n",
      "Microloan                                         7146\n",
      "Loan for business development                     1615\n",
      "Another type of loan                               793\n",
      "Unknown type of loan                               443\n",
      "Loan for working capital replenishment             329\n",
      "Real estate loan                                    23\n",
      "Cash loan (non-earmarked)                           22\n",
      "Loan for the purchase of equipment                  13\n",
      "Loan for purchase of shares (margin lending)         4\n",
      "Interbank credit                                     1\n",
      "Mobile operator loan                                 1\n",
      "Name: CREDIT_TYPE, dtype: int64 \n",
      "\n"
     ]
    },
    {
     "data": {
      "text/markdown": [
       "### Default"
      ],
      "text/plain": [
       "<IPython.core.display.Markdown object>"
      ]
     },
     "metadata": {},
     "output_type": "display_data"
    },
    {
     "name": "stdout",
     "output_type": "stream",
     "text": [
      "Consumer credit                           80046\n",
      "Credit card                               30262\n",
      "Microloan                                  1859\n",
      "Car loan                                   1324\n",
      "Mortgage                                    780\n",
      "Loan for business development               106\n",
      "Another type of loan                         61\n",
      "Loan for working capital replenishment       48\n",
      "Unknown type of loan                         29\n",
      "Loan for the purchase of equipment            4\n",
      "Cash loan (non-earmarked)                     1\n",
      "Name: CREDIT_TYPE, dtype: int64 \n",
      "\n"
     ]
    },
    {
     "data": {
      "image/png": "[encoded data removed]",
      "text/plain": [
       "<Figure size 432x288 with 2 Axes>"
      ]
     },
     "metadata": {},
     "output_type": "display_data"
    }
   ],
   "source": [
    "COLUMN_NAME = \"CREDIT_TYPE\"\n",
    "TITLE = \"Credit Type\"\n",
    "LABELS = [\"Consumer Credit\", \"Credit Card\",\"Rest\"]\n",
    "SIZES_PER = lambda x : x / N\n",
    "\n",
    "count = payback[COLUMN_NAME].value_counts()\n",
    "\n",
    "N = len(payback[COLUMN_NAME])\n",
    "\n",
    "consumer = count[\"Consumer credit\"]\n",
    "creditcard = count[\"Credit card\"]\n",
    "rest = N - consumer - creditcard\n",
    "SIZES = [consumer, creditcard, rest]\n",
    "\n",
    "labels1 = LABELS\n",
    "sizes1 = [SIZES_PER(element) for element in SIZES]\n",
    "title1 = TITLE + \" Payback\"\n",
    "\n",
    "display(Markdown(\"### Payback\"))\n",
    "print(count, \"\\n\")\n",
    "\n",
    "count = default[COLUMN_NAME].value_counts()\n",
    "\n",
    "N = len(default[COLUMN_NAME])\n",
    "\n",
    "consumer = count[\"Consumer credit\"]\n",
    "creditcard = count[\"Credit card\"]\n",
    "rest = N - consumer - creditcard\n",
    "SIZES = [consumer, creditcard, rest]\n",
    "\n",
    "labels2 = LABELS\n",
    "sizes2 = [SIZES_PER(element) for element in SIZES]\n",
    "title2 = TITLE + \" Default\"\n",
    "\n",
    "display(Markdown(\"### Default\"))\n",
    "print(count, \"\\n\")\n",
    "\n",
    "arguments = [(labels1, sizes1, title1), (labels2, sizes2, title2)]\n",
    "\n",
    "draw_piechart(arguments)"
   ]
  }
 ],
 "metadata": {
  "kernelspec": {
   "display_name": "Python 3",
   "language": "python",
   "name": "python3"
  },
  "language_info": {
   "codemirror_mode": {
    "name": "ipython",
    "version": 3
   },
   "file_extension": ".py",
   "mimetype": "text/x-python",
   "name": "python",
   "nbconvert_exporter": "python",
   "pygments_lexer": "ipython3",
   "version": "3.8.6"
  }
 },
 "nbformat": 4,
 "nbformat_minor": 4
}
