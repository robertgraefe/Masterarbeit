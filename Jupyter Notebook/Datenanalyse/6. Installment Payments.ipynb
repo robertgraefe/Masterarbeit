{
 "cells": [
  {
   "cell_type": "markdown",
   "metadata": {},
   "source": [
    "# Initialisierung"
   ]
  },
  {
   "cell_type": "code",
   "execution_count": 1,
   "metadata": {},
   "outputs": [],
   "source": [
    "from pathlib import Path\n",
    "from scipy import stats\n",
    "\n",
    "import matplotlib.pyplot as plt\n",
    "import pandas as pd\n",
    "import numpy as np\n",
    "import seaborn as sns\n",
    "\n",
    "np.set_printoptions(suppress=True)\n",
    "\n",
    "pd.options.display.max_columns = None\n",
    "pd.options.display.max_rows = None\n",
    "pd.options.display.max_colwidth = None\n",
    "\n",
    "from IPython.display import display, Markdown"
   ]
  },
  {
   "cell_type": "code",
   "execution_count": 2,
   "metadata": {},
   "outputs": [],
   "source": [
    "path1 = Path(r\"A:\\Workspace\\Python\\Masterarbeit\\Kaggle Home Credit Datensatz\")\n",
    "path2 = Path(r\"C:\\Users\\rober\\Documents\\Workspace\\Python\\Masterarbeit\\Kaggle Home Credit Datensatz\")\n",
    "\n",
    "if path1.is_dir():\n",
    "    DATASET_DIR = path1\n",
    "else:\n",
    "    DATASET_DIR = path2"
   ]
  },
  {
   "cell_type": "code",
   "execution_count": 3,
   "metadata": {},
   "outputs": [],
   "source": [
    "app_train = pd.read_csv(DATASET_DIR / \"application_train.csv\")\n",
    "installments_payments = pd.read_csv(DATASET_DIR / \"installments_payments.csv\")\n",
    "description = pd.read_csv(DATASET_DIR / \"HomeCredit_columns_description.csv\", encoding=\"latin\", index_col=0)"
   ]
  },
  {
   "cell_type": "code",
   "execution_count": 5,
   "metadata": {},
   "outputs": [
    {
     "data": {
      "text/html": [
       "<div>\n",
       "<style scoped>\n",
       "    .dataframe tbody tr th:only-of-type {\n",
       "        vertical-align: middle;\n",
       "    }\n",
       "\n",
       "    .dataframe tbody tr th {\n",
       "        vertical-align: top;\n",
       "    }\n",
       "\n",
       "    .dataframe thead th {\n",
       "        text-align: right;\n",
       "    }\n",
       "</style>\n",
       "<table border=\"1\" class=\"dataframe\">\n",
       "  <thead>\n",
       "    <tr style=\"text-align: right;\">\n",
       "      <th></th>\n",
       "      <th>Row</th>\n",
       "      <th>Description</th>\n",
       "      <th>Special</th>\n",
       "    </tr>\n",
       "  </thead>\n",
       "  <tbody>\n",
       "    <tr>\n",
       "      <th>214</th>\n",
       "      <td>SK_ID_PREV</td>\n",
       "      <td>ID of previous credit in Home credit related to loan in our sample. (One loan in our sample can have 0,1,2 or more previous loans in Home Credit)</td>\n",
       "      <td>hashed</td>\n",
       "    </tr>\n",
       "    <tr>\n",
       "      <th>215</th>\n",
       "      <td>SK_ID_CURR</td>\n",
       "      <td>ID of loan in our sample</td>\n",
       "      <td>hashed</td>\n",
       "    </tr>\n",
       "    <tr>\n",
       "      <th>216</th>\n",
       "      <td>NUM_INSTALMENT_VERSION</td>\n",
       "      <td>Version of installment calendar (0 is for credit card) of previous credit. Change of installment version from month to month signifies that some parameter of payment calendar has changed</td>\n",
       "      <td>NaN</td>\n",
       "    </tr>\n",
       "    <tr>\n",
       "      <th>217</th>\n",
       "      <td>NUM_INSTALMENT_NUMBER</td>\n",
       "      <td>On which installment we observe payment</td>\n",
       "      <td>NaN</td>\n",
       "    </tr>\n",
       "    <tr>\n",
       "      <th>218</th>\n",
       "      <td>DAYS_INSTALMENT</td>\n",
       "      <td>When the installment of previous credit was supposed to be paid (relative to application date of current loan)</td>\n",
       "      <td>time only relative to the application</td>\n",
       "    </tr>\n",
       "    <tr>\n",
       "      <th>219</th>\n",
       "      <td>DAYS_ENTRY_PAYMENT</td>\n",
       "      <td>When was the installments of previous credit paid actually (relative to application date of current loan)</td>\n",
       "      <td>time only relative to the application</td>\n",
       "    </tr>\n",
       "    <tr>\n",
       "      <th>220</th>\n",
       "      <td>AMT_INSTALMENT</td>\n",
       "      <td>What was the prescribed installment amount of previous credit on this installment</td>\n",
       "      <td>NaN</td>\n",
       "    </tr>\n",
       "    <tr>\n",
       "      <th>221</th>\n",
       "      <td>AMT_PAYMENT</td>\n",
       "      <td>What the client actually paid on previous credit on this installment</td>\n",
       "      <td>NaN</td>\n",
       "    </tr>\n",
       "  </tbody>\n",
       "</table>\n",
       "</div>"
      ],
      "text/plain": [
       "                        Row  \\\n",
       "214             SK_ID_PREV    \n",
       "215              SK_ID_CURR   \n",
       "216  NUM_INSTALMENT_VERSION   \n",
       "217   NUM_INSTALMENT_NUMBER   \n",
       "218         DAYS_INSTALMENT   \n",
       "219      DAYS_ENTRY_PAYMENT   \n",
       "220          AMT_INSTALMENT   \n",
       "221             AMT_PAYMENT   \n",
       "\n",
       "                                                                                                                                                                                    Description  \\\n",
       "214                                           ID of previous credit in Home credit related to loan in our sample. (One loan in our sample can have 0,1,2 or more previous loans in Home Credit)   \n",
       "215                                                                                                                                                                    ID of loan in our sample   \n",
       "216  Version of installment calendar (0 is for credit card) of previous credit. Change of installment version from month to month signifies that some parameter of payment calendar has changed   \n",
       "217                                                                                                                                                     On which installment we observe payment   \n",
       "218                                                                              When the installment of previous credit was supposed to be paid (relative to application date of current loan)   \n",
       "219                                                                                   When was the installments of previous credit paid actually (relative to application date of current loan)   \n",
       "220                                                                                                           What was the prescribed installment amount of previous credit on this installment   \n",
       "221                                                                                                                        What the client actually paid on previous credit on this installment   \n",
       "\n",
       "                                   Special  \n",
       "214                                 hashed  \n",
       "215                                 hashed  \n",
       "216                                    NaN  \n",
       "217                                    NaN  \n",
       "218  time only relative to the application  \n",
       "219  time only relative to the application  \n",
       "220                                    NaN  \n",
       "221                                    NaN  "
      ]
     },
     "execution_count": 5,
     "metadata": {},
     "output_type": "execute_result"
    }
   ],
   "source": [
    "description.loc[description['Table']==\"installments_payments.csv\", \"Row\":\"Special\"]"
   ]
  },
  {
   "cell_type": "markdown",
   "metadata": {},
   "source": [
    "# Datenaufbereitung"
   ]
  },
  {
   "cell_type": "code",
   "execution_count": 7,
   "metadata": {},
   "outputs": [],
   "source": [
    "installments_payments[\"AMT_DIFF\"] = installments_payments[\"AMT_INSTALMENT\"] - installments_payments[\"AMT_PAYMENT\"]"
   ]
  },
  {
   "cell_type": "code",
   "execution_count": 8,
   "metadata": {},
   "outputs": [],
   "source": [
    "# Schnittmenge zwischen app_train und bureau\n",
    "# Ergänzt die Variable \"TARGET\" in dem bureau-Datensatz\n",
    "installments_payments = pd.merge(installments_payments, app_train[[\"SK_ID_CURR\",\"TARGET\"]] ,on=\"SK_ID_CURR\")\n",
    "\n",
    "# Austausch der numerischen Kategorien durch sprechende, interpretierbare Variablen\n",
    "installments_payments[\"TARGET\"].replace(\n",
    "    {\n",
    "        0: \"Payback\",\n",
    "        1: \"Default\"\n",
    "    }, inplace = True\n",
    ")\n",
    "\n",
    "# Unterteilung des Datensatzen nach Payback und Default\n",
    "payback = installments_payments[installments_payments[\"TARGET\"] == \"Payback\"]\n",
    "default = installments_payments[installments_payments[\"TARGET\"] == \"Default\"]"
   ]
  },
  {
   "cell_type": "code",
   "execution_count": 11,
   "metadata": {},
   "outputs": [
    {
     "data": {
      "text/html": [
       "<div>\n",
       "<style scoped>\n",
       "    .dataframe tbody tr th:only-of-type {\n",
       "        vertical-align: middle;\n",
       "    }\n",
       "\n",
       "    .dataframe tbody tr th {\n",
       "        vertical-align: top;\n",
       "    }\n",
       "\n",
       "    .dataframe thead th {\n",
       "        text-align: right;\n",
       "    }\n",
       "</style>\n",
       "<table border=\"1\" class=\"dataframe\">\n",
       "  <thead>\n",
       "    <tr style=\"text-align: right;\">\n",
       "      <th></th>\n",
       "      <th>SK_ID_PREV</th>\n",
       "      <th>SK_ID_CURR</th>\n",
       "      <th>NUM_INSTALMENT_VERSION</th>\n",
       "      <th>NUM_INSTALMENT_NUMBER</th>\n",
       "      <th>DAYS_INSTALMENT</th>\n",
       "      <th>DAYS_ENTRY_PAYMENT</th>\n",
       "      <th>AMT_INSTALMENT</th>\n",
       "      <th>AMT_PAYMENT</th>\n",
       "      <th>AMT_DIFF</th>\n",
       "      <th>TARGET</th>\n",
       "    </tr>\n",
       "  </thead>\n",
       "  <tbody>\n",
       "    <tr>\n",
       "      <th>0</th>\n",
       "      <td>1054186</td>\n",
       "      <td>161674</td>\n",
       "      <td>1.0</td>\n",
       "      <td>6</td>\n",
       "      <td>-1180.0</td>\n",
       "      <td>-1187.0</td>\n",
       "      <td>6948.360</td>\n",
       "      <td>6948.360</td>\n",
       "      <td>0.0</td>\n",
       "      <td>Payback</td>\n",
       "    </tr>\n",
       "    <tr>\n",
       "      <th>1</th>\n",
       "      <td>2452854</td>\n",
       "      <td>161674</td>\n",
       "      <td>1.0</td>\n",
       "      <td>21</td>\n",
       "      <td>-546.0</td>\n",
       "      <td>-552.0</td>\n",
       "      <td>11302.605</td>\n",
       "      <td>11302.605</td>\n",
       "      <td>0.0</td>\n",
       "      <td>Payback</td>\n",
       "    </tr>\n",
       "    <tr>\n",
       "      <th>2</th>\n",
       "      <td>1054186</td>\n",
       "      <td>161674</td>\n",
       "      <td>1.0</td>\n",
       "      <td>2</td>\n",
       "      <td>-1300.0</td>\n",
       "      <td>-1307.0</td>\n",
       "      <td>6948.360</td>\n",
       "      <td>6948.360</td>\n",
       "      <td>0.0</td>\n",
       "      <td>Payback</td>\n",
       "    </tr>\n",
       "    <tr>\n",
       "      <th>3</th>\n",
       "      <td>1682318</td>\n",
       "      <td>161674</td>\n",
       "      <td>1.0</td>\n",
       "      <td>2</td>\n",
       "      <td>-240.0</td>\n",
       "      <td>-243.0</td>\n",
       "      <td>7374.510</td>\n",
       "      <td>7374.510</td>\n",
       "      <td>0.0</td>\n",
       "      <td>Payback</td>\n",
       "    </tr>\n",
       "    <tr>\n",
       "      <th>4</th>\n",
       "      <td>2452854</td>\n",
       "      <td>161674</td>\n",
       "      <td>1.0</td>\n",
       "      <td>10</td>\n",
       "      <td>-876.0</td>\n",
       "      <td>-882.0</td>\n",
       "      <td>11302.605</td>\n",
       "      <td>11302.605</td>\n",
       "      <td>0.0</td>\n",
       "      <td>Payback</td>\n",
       "    </tr>\n",
       "  </tbody>\n",
       "</table>\n",
       "</div>"
      ],
      "text/plain": [
       "   SK_ID_PREV  SK_ID_CURR  NUM_INSTALMENT_VERSION  NUM_INSTALMENT_NUMBER  \\\n",
       "0     1054186      161674                     1.0                      6   \n",
       "1     2452854      161674                     1.0                     21   \n",
       "2     1054186      161674                     1.0                      2   \n",
       "3     1682318      161674                     1.0                      2   \n",
       "4     2452854      161674                     1.0                     10   \n",
       "\n",
       "   DAYS_INSTALMENT  DAYS_ENTRY_PAYMENT  AMT_INSTALMENT  AMT_PAYMENT  AMT_DIFF  \\\n",
       "0          -1180.0             -1187.0        6948.360     6948.360       0.0   \n",
       "1           -546.0              -552.0       11302.605    11302.605       0.0   \n",
       "2          -1300.0             -1307.0        6948.360     6948.360       0.0   \n",
       "3           -240.0              -243.0        7374.510     7374.510       0.0   \n",
       "4           -876.0              -882.0       11302.605    11302.605       0.0   \n",
       "\n",
       "    TARGET  \n",
       "0  Payback  \n",
       "1  Payback  \n",
       "2  Payback  \n",
       "3  Payback  \n",
       "4  Payback  "
      ]
     },
     "execution_count": 11,
     "metadata": {},
     "output_type": "execute_result"
    }
   ],
   "source": [
    "installments_payments.head()"
   ]
  },
  {
   "cell_type": "markdown",
   "metadata": {},
   "source": [
    "# Datenanalyse"
   ]
  },
  {
   "cell_type": "code",
   "execution_count": 14,
   "metadata": {},
   "outputs": [
    {
     "data": {
      "text/markdown": [
       "### Payback"
      ],
      "text/plain": [
       "<IPython.core.display.Markdown object>"
      ]
     },
     "metadata": {},
     "output_type": "display_data"
    },
    {
     "name": "stdout",
     "output_type": "stream",
     "text": [
      "0.0942998816487836\n"
     ]
    },
    {
     "data": {
      "text/markdown": [
       "### Default"
      ],
      "text/plain": [
       "<IPython.core.display.Markdown object>"
      ]
     },
     "metadata": {},
     "output_type": "display_data"
    },
    {
     "name": "stdout",
     "output_type": "stream",
     "text": [
      "0.12476299427550942\n"
     ]
    }
   ],
   "source": [
    "display(Markdown(\"### Payback\"))\n",
    "print(len(payback[payback[\"AMT_DIFF\"] > 0][\"AMT_DIFF\"]) / len(payback[\"AMT_DIFF\"] * 100))\n",
    "\n",
    "display(Markdown(\"### Default\"))\n",
    "print(len(default[default[\"AMT_DIFF\"] > 0][\"AMT_DIFF\"]) / len(default[\"AMT_DIFF\"] * 100))"
   ]
  },
  {
   "cell_type": "markdown",
   "metadata": {},
   "source": [
    "In der Vergangenheit kam es in 0.09% der zurückzahlenden Kunden zu unerwarteten Zahlungssummen.\n",
    "\n",
    "In der Vergangenheit kam es in 0.12% der ausfallenden Kunden zu unerwarteten Zahlungssummen."
   ]
  }
 ],
 "metadata": {
  "kernelspec": {
   "display_name": "Python 3",
   "language": "python",
   "name": "python3"
  },
  "language_info": {
   "codemirror_mode": {
    "name": "ipython",
    "version": 3
   },
   "file_extension": ".py",
   "mimetype": "text/x-python",
   "name": "python",
   "nbconvert_exporter": "python",
   "pygments_lexer": "ipython3",
   "version": "3.8.6"
  }
 },
 "nbformat": 4,
 "nbformat_minor": 4
}
