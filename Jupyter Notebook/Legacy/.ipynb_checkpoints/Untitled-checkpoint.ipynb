{
 "cells": [
  {
   "cell_type": "code",
   "execution_count": null,
   "metadata": {},
   "outputs": [],
   "source": [
    "x = np.array([10,20,30,40,100])\n",
    "v = np.array([x for x in range(5)])\n",
    "H = v / len(x)\n",
    "S = np.cumsum(x)\n",
    "Q = S / x.sum()\n",
    "VK = x.std()/x.mean()\n",
    "\n",
    "plt.subplot(1,2,1)\n",
    "plt.plot(H,Q)\n",
    "plt.subplot(1,2,2)\n",
    "plt.plot(Q,H)\n",
    "plt.show()\n",
    "\n",
    "Q_ = Q.copy()\n",
    "Q_ = np.insert(Q_,0,0)\n",
    "Q_ = Q_[:-1]\n",
    "\n",
    "P = Q + Q_\n",
    "Ph = P/len(x)\n",
    "\n",
    "F = 0.5 - 0.5 * Ph.sum()\n",
    "G = 2*F\n",
    "G_ = len(x)/(len(x)-1) * G\n",
    "\n",
    "print(\"%.2f\" % F)\n",
    "print(\"%.2f\" % G)\n",
    "print(\"%.2f\" % G_)\n",
    "print(\"%.2f\" % VK)"
   ]
  }
 ],
 "metadata": {
  "kernelspec": {
   "display_name": "Python 3",
   "language": "python",
   "name": "python3"
  },
  "language_info": {
   "codemirror_mode": {
    "name": "ipython",
    "version": 3
   },
   "file_extension": ".py",
   "mimetype": "text/x-python",
   "name": "python",
   "nbconvert_exporter": "python",
   "pygments_lexer": "ipython3",
   "version": "3.8.7"
  }
 },
 "nbformat": 4,
 "nbformat_minor": 4
}
