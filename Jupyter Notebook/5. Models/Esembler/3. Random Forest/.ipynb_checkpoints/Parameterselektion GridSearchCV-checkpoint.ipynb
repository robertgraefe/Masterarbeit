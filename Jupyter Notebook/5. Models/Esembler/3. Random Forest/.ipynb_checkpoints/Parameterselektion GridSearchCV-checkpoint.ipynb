{
 "cells": [
  {
   "cell_type": "code",
   "execution_count": 1,
   "metadata": {},
   "outputs": [],
   "source": [
    "from sklearn.model_selection import GridSearchCV\n",
    "\n",
    "from pathlib import Path\n",
    "\n",
    "import pandas as pd\n",
    "import numpy as np\n",
    "\n",
    "import json\n",
    "\n",
    "from sklearn.ensemble import RandomForestClassifier"
   ]
  },
  {
   "cell_type": "code",
   "execution_count": 2,
   "metadata": {},
   "outputs": [],
   "source": [
    "path1 = Path(r\"A:\\Workspace\\Python\\Masterarbeit\\Kaggle Home Credit Datensatz\")\n",
    "path2 = Path(r\"C:\\Users\\rober\\Documents\\Workspace\\Python\\Masterarbeit\\Kaggle Home Credit Datensatz\")\n",
    "\n",
    "if path1.is_dir():\n",
    "    DATASET_DIR = path1\n",
    "else:\n",
    "    DATASET_DIR = path2"
   ]
  },
  {
   "cell_type": "code",
   "execution_count": 3,
   "metadata": {},
   "outputs": [],
   "source": [
    "app_train = pd.read_csv(DATASET_DIR / \"4. FillNA\" / \"application.csv\")\n",
    "bureau = pd.read_csv(DATASET_DIR / \"4. FillNA\" / \"bureau.csv\")\n",
    "pa_pos = pd.read_csv(DATASET_DIR / \"4. FillNA\" / \"pa_pos.csv\")\n",
    "pa_ip = pd.read_csv(DATASET_DIR / \"4. FillNA\" / \"pa_ip.csv\")\n",
    "pa_cc = pd.read_csv(DATASET_DIR / \"4. FillNA\" / \"pa_cc.csv\")"
   ]
  },
  {
   "cell_type": "code",
   "execution_count": 4,
   "metadata": {},
   "outputs": [],
   "source": [
    "app_train = app_train.set_index(\"SK_ID_CURR\")\n",
    "bureau = bureau.set_index(\"SK_ID_CURR\")\n",
    "pa_pos = pa_pos.set_index(\"SK_ID_CURR\")\n",
    "pa_ip = pa_ip.set_index(\"SK_ID_CURR\")\n",
    "pa_cc = pa_cc.set_index(\"SK_ID_CURR\")"
   ]
  },
  {
   "cell_type": "code",
   "execution_count": 5,
   "metadata": {},
   "outputs": [],
   "source": [
    "MODEL_APPLICATION = \"3.1. Esembler_RandomForest_Application.json\"\n",
    "MODEL_BUREAU = \"3.2. Esembler_RandomForest_bureau.json\"\n",
    "MODEL_PA_POS = \"3.3. Esembler_RandomForest_pa_pos.json\"\n",
    "MODEL_PA_IP = \"3.4. Esembler_RandomForest_pa_ip.json\"\n",
    "MODEL_PA_CC = \"3.5. Esembler_RandomForest_pa_cc.json\""
   ]
  },
  {
   "cell_type": "code",
   "execution_count": 6,
   "metadata": {},
   "outputs": [],
   "source": [
    "with open(DATASET_DIR / \"Models\" / MODEL_APPLICATION, 'r') as file:\n",
    "    model_application_data = json.load(file)\n",
    "    \n",
    "with open(DATASET_DIR / \"Models\" / MODEL_BUREAU, 'r') as file:\n",
    "    model_bureau_data = json.load(file)\n",
    "    \n",
    "with open(DATASET_DIR / \"Models\" / MODEL_PA_POS, 'r') as file:\n",
    "    model_pa_pos_data = json.load(file)\n",
    "    \n",
    "with open(DATASET_DIR / \"Models\" / MODEL_PA_IP, 'r') as file:\n",
    "    model_pa_ip_data = json.load(file)\n",
    "    \n",
    "with open(DATASET_DIR / \"Models\" / MODEL_PA_CC, 'r') as file:\n",
    "    model_pa_cc_data = json.load(file)"
   ]
  },
  {
   "cell_type": "markdown",
   "metadata": {},
   "source": [
    "# Application"
   ]
  },
  {
   "cell_type": "code",
   "execution_count": 7,
   "metadata": {},
   "outputs": [],
   "source": [
    "# Random Forest\n",
    "TREE_PARAMS = {\n",
    "#    \"max_depth\": [12,15,17],\n",
    "#    \"max_features\" : [3, 5, 7],\n",
    "#    \"min_samples_leaf\": [10,12,15],\n",
    "    \"max_depth\": [15],\n",
    "    \"max_features\" : [5],\n",
    "    \"min_samples_leaf\": [12],\n",
    "    \"n_estimators\": [100, 800, 900, 1000],\n",
    "    \n",
    "    \"random_state\": [0],\n",
    "    \"n_jobs\": [-1]\n",
    "}"
   ]
  },
  {
   "cell_type": "code",
   "execution_count": 8,
   "metadata": {},
   "outputs": [],
   "source": [
    "model = RandomForestClassifier()"
   ]
  },
  {
   "cell_type": "code",
   "execution_count": 9,
   "metadata": {},
   "outputs": [],
   "source": [
    "gridsearch = GridSearchCV(model, TREE_PARAMS, scoring='roc_auc', n_jobs=-1)"
   ]
  },
  {
   "cell_type": "code",
   "execution_count": 10,
   "metadata": {},
   "outputs": [
    {
     "data": {
      "text/html": [
       "<div>\n",
       "<style scoped>\n",
       "    .dataframe tbody tr th:only-of-type {\n",
       "        vertical-align: middle;\n",
       "    }\n",
       "\n",
       "    .dataframe tbody tr th {\n",
       "        vertical-align: top;\n",
       "    }\n",
       "\n",
       "    .dataframe thead th {\n",
       "        text-align: right;\n",
       "    }\n",
       "</style>\n",
       "<table border=\"1\" class=\"dataframe\">\n",
       "  <thead>\n",
       "    <tr style=\"text-align: right;\">\n",
       "      <th></th>\n",
       "      <th>A_EXT_SOURCE_3</th>\n",
       "      <th>A_EXT_SOURCE_1</th>\n",
       "      <th>A_EXT_SOURCE_2</th>\n",
       "      <th>A_AMT_REQ_CREDIT_BUREAU_DAY</th>\n",
       "      <th>A_AMT_REQ_CREDIT_BUREAU_HOUR</th>\n",
       "      <th>A_YEARS_BEGINEXPLUATATION_AVG</th>\n",
       "      <th>A_DAYS_EMPLOYED</th>\n",
       "      <th>A_DAYS_BIRTH</th>\n",
       "      <th>A_BASEMENTAREA_AVG</th>\n",
       "      <th>A_LANDAREA_AVG</th>\n",
       "    </tr>\n",
       "    <tr>\n",
       "      <th>SK_ID_CURR</th>\n",
       "      <th></th>\n",
       "      <th></th>\n",
       "      <th></th>\n",
       "      <th></th>\n",
       "      <th></th>\n",
       "      <th></th>\n",
       "      <th></th>\n",
       "      <th></th>\n",
       "      <th></th>\n",
       "      <th></th>\n",
       "    </tr>\n",
       "  </thead>\n",
       "  <tbody>\n",
       "    <tr>\n",
       "      <th>100002</th>\n",
       "      <td>0.139376</td>\n",
       "      <td>0.083037</td>\n",
       "      <td>0.262949</td>\n",
       "      <td>0.000000</td>\n",
       "      <td>0.000000</td>\n",
       "      <td>0.972200</td>\n",
       "      <td>-637.0</td>\n",
       "      <td>-9461.0</td>\n",
       "      <td>0.036900</td>\n",
       "      <td>0.036900</td>\n",
       "    </tr>\n",
       "    <tr>\n",
       "      <th>100003</th>\n",
       "      <td>0.344844</td>\n",
       "      <td>0.311267</td>\n",
       "      <td>0.622246</td>\n",
       "      <td>0.000000</td>\n",
       "      <td>0.000000</td>\n",
       "      <td>0.985100</td>\n",
       "      <td>-1188.0</td>\n",
       "      <td>-16765.0</td>\n",
       "      <td>0.052900</td>\n",
       "      <td>0.013000</td>\n",
       "    </tr>\n",
       "    <tr>\n",
       "      <th>100004</th>\n",
       "      <td>0.729567</td>\n",
       "      <td>0.550824</td>\n",
       "      <td>0.555912</td>\n",
       "      <td>0.000000</td>\n",
       "      <td>0.000000</td>\n",
       "      <td>0.981667</td>\n",
       "      <td>-225.0</td>\n",
       "      <td>-19046.0</td>\n",
       "      <td>0.075009</td>\n",
       "      <td>0.067504</td>\n",
       "    </tr>\n",
       "    <tr>\n",
       "      <th>100006</th>\n",
       "      <td>0.565898</td>\n",
       "      <td>0.666039</td>\n",
       "      <td>0.650442</td>\n",
       "      <td>0.005653</td>\n",
       "      <td>0.008068</td>\n",
       "      <td>0.979744</td>\n",
       "      <td>-3039.0</td>\n",
       "      <td>-19005.0</td>\n",
       "      <td>0.076735</td>\n",
       "      <td>0.068598</td>\n",
       "    </tr>\n",
       "    <tr>\n",
       "      <th>100007</th>\n",
       "      <td>0.571390</td>\n",
       "      <td>0.559619</td>\n",
       "      <td>0.322738</td>\n",
       "      <td>0.000000</td>\n",
       "      <td>0.000000</td>\n",
       "      <td>0.982023</td>\n",
       "      <td>-3038.0</td>\n",
       "      <td>-19932.0</td>\n",
       "      <td>0.071043</td>\n",
       "      <td>0.048938</td>\n",
       "    </tr>\n",
       "  </tbody>\n",
       "</table>\n",
       "</div>"
      ],
      "text/plain": [
       "            A_EXT_SOURCE_3  A_EXT_SOURCE_1  A_EXT_SOURCE_2  \\\n",
       "SK_ID_CURR                                                   \n",
       "100002            0.139376        0.083037        0.262949   \n",
       "100003            0.344844        0.311267        0.622246   \n",
       "100004            0.729567        0.550824        0.555912   \n",
       "100006            0.565898        0.666039        0.650442   \n",
       "100007            0.571390        0.559619        0.322738   \n",
       "\n",
       "            A_AMT_REQ_CREDIT_BUREAU_DAY  A_AMT_REQ_CREDIT_BUREAU_HOUR  \\\n",
       "SK_ID_CURR                                                              \n",
       "100002                         0.000000                      0.000000   \n",
       "100003                         0.000000                      0.000000   \n",
       "100004                         0.000000                      0.000000   \n",
       "100006                         0.005653                      0.008068   \n",
       "100007                         0.000000                      0.000000   \n",
       "\n",
       "            A_YEARS_BEGINEXPLUATATION_AVG  A_DAYS_EMPLOYED  A_DAYS_BIRTH  \\\n",
       "SK_ID_CURR                                                                 \n",
       "100002                           0.972200           -637.0       -9461.0   \n",
       "100003                           0.985100          -1188.0      -16765.0   \n",
       "100004                           0.981667           -225.0      -19046.0   \n",
       "100006                           0.979744          -3039.0      -19005.0   \n",
       "100007                           0.982023          -3038.0      -19932.0   \n",
       "\n",
       "            A_BASEMENTAREA_AVG  A_LANDAREA_AVG  \n",
       "SK_ID_CURR                                      \n",
       "100002                0.036900        0.036900  \n",
       "100003                0.052900        0.013000  \n",
       "100004                0.075009        0.067504  \n",
       "100006                0.076735        0.068598  \n",
       "100007                0.071043        0.048938  "
      ]
     },
     "execution_count": 10,
     "metadata": {},
     "output_type": "execute_result"
    }
   ],
   "source": [
    "x = app_train[model_application_data[\"keep\"]]\n",
    "x.head()"
   ]
  },
  {
   "cell_type": "code",
   "execution_count": 11,
   "metadata": {},
   "outputs": [
    {
     "data": {
      "text/plain": [
       "SK_ID_CURR\n",
       "100002    1.0\n",
       "100003    0.0\n",
       "100004    0.0\n",
       "100006    0.0\n",
       "100007    0.0\n",
       "Name: TARGET, dtype: float64"
      ]
     },
     "execution_count": 11,
     "metadata": {},
     "output_type": "execute_result"
    }
   ],
   "source": [
    "y = app_train.loc[app_train.index][\"TARGET\"]\n",
    "y.head()"
   ]
  },
  {
   "cell_type": "code",
   "execution_count": null,
   "metadata": {},
   "outputs": [],
   "source": [
    "gridsearch.fit(x,y)"
   ]
  },
  {
   "cell_type": "code",
   "execution_count": null,
   "metadata": {},
   "outputs": [],
   "source": [
    "print(gridsearch.best_params_)\n",
    "print(gridsearch.best_score_)"
   ]
  },
  {
   "cell_type": "code",
   "execution_count": null,
   "metadata": {},
   "outputs": [],
   "source": [
    "model_application_data[\"params\"] = gridsearch.best_params_"
   ]
  },
  {
   "cell_type": "code",
   "execution_count": null,
   "metadata": {},
   "outputs": [],
   "source": [
    "with open(DATASET_DIR / \"Models\" / MODEL_APPLICATION, 'w') as file:\n",
    "        json.dump(model_application_data, file)"
   ]
  },
  {
   "cell_type": "code",
   "execution_count": null,
   "metadata": {},
   "outputs": [],
   "source": []
  }
 ],
 "metadata": {
  "kernelspec": {
   "display_name": "Python 3",
   "language": "python",
   "name": "python3"
  },
  "language_info": {
   "codemirror_mode": {
    "name": "ipython",
    "version": 3
   },
   "file_extension": ".py",
   "mimetype": "text/x-python",
   "name": "python",
   "nbconvert_exporter": "python",
   "pygments_lexer": "ipython3",
   "version": "3.8.6"
  }
 },
 "nbformat": 4,
 "nbformat_minor": 4
}
