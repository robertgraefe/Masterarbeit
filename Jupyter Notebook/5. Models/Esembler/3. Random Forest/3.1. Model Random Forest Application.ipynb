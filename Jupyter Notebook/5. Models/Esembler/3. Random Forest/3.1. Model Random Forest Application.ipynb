{
 "cells": [
  {
   "cell_type": "code",
   "execution_count": 1,
   "metadata": {},
   "outputs": [],
   "source": [
    "from pathlib import Path\n",
    "from sklearn.ensemble import RandomForestClassifier\n",
    "from sklearn.model_selection import train_test_split\n",
    "from sklearn.metrics import roc_curve, roc_auc_score\n",
    "\n",
    "from sklearn.model_selection import KFold\n",
    "from sklearn.metrics import plot_roc_curve\n",
    "from sklearn.metrics import auc\n",
    "\n",
    "import matplotlib.pyplot as plt\n",
    "import pandas as pd\n",
    "import numpy as np\n",
    "\n",
    "np.set_printoptions(suppress=True)\n",
    "\n",
    "pd.options.display.max_columns = None\n",
    "pd.options.display.max_rows = None\n",
    "pd.options.display.max_colwidth = None\n",
    "\n",
    "from IPython.display import clear_output\n",
    "\n",
    "import json"
   ]
  },
  {
   "cell_type": "code",
   "execution_count": 2,
   "metadata": {},
   "outputs": [],
   "source": [
    "MODEL_FILE = \"3.1. Esembler_RandomForest_Application.json\""
   ]
  },
  {
   "cell_type": "code",
   "execution_count": 3,
   "metadata": {},
   "outputs": [],
   "source": [
    "# Random Forest\n",
    "TREE_PARAMS = {\n",
    "    \"max_depth\": 15,\n",
    "    \"min_samples_leaf\": 12,\n",
    "    \"n_estimators\": 900,\n",
    "    \"random_state\": 0,\n",
    "    \"n_jobs\": -1\n",
    "}"
   ]
  },
  {
   "cell_type": "code",
   "execution_count": 4,
   "metadata": {},
   "outputs": [],
   "source": [
    "path1 = Path(r\"A:\\Workspace\\Python\\Masterarbeit\\Kaggle Home Credit Datensatz\")\n",
    "path2 = Path(r\"C:\\Users\\rober\\Documents\\Workspace\\Python\\Masterarbeit\\Kaggle Home Credit Datensatz\")\n",
    "\n",
    "if path1.is_dir():\n",
    "    DATASET_DIR = path1\n",
    "else:\n",
    "    DATASET_DIR = path2"
   ]
  },
  {
   "cell_type": "code",
   "execution_count": 5,
   "metadata": {},
   "outputs": [],
   "source": [
    "# Check if Models exists"
   ]
  },
  {
   "cell_type": "code",
   "execution_count": 6,
   "metadata": {},
   "outputs": [],
   "source": [
    "model_path = DATASET_DIR / \"Models\" / MODEL_FILE\n",
    "MODEL_EXIST = model_path.is_file()"
   ]
  },
  {
   "cell_type": "code",
   "execution_count": 7,
   "metadata": {},
   "outputs": [],
   "source": [
    "# Daten"
   ]
  },
  {
   "cell_type": "code",
   "execution_count": 8,
   "metadata": {},
   "outputs": [],
   "source": [
    "app_train = pd.read_csv(DATASET_DIR / \"4. FillNA\" / \"application.csv\")\n",
    "app_train = app_train.set_index(\"SK_ID_CURR\")"
   ]
  },
  {
   "cell_type": "code",
   "execution_count": 9,
   "metadata": {},
   "outputs": [
    {
     "data": {
      "text/html": [
       "<div>\n",
       "<style scoped>\n",
       "    .dataframe tbody tr th:only-of-type {\n",
       "        vertical-align: middle;\n",
       "    }\n",
       "\n",
       "    .dataframe tbody tr th {\n",
       "        vertical-align: top;\n",
       "    }\n",
       "\n",
       "    .dataframe thead th {\n",
       "        text-align: right;\n",
       "    }\n",
       "</style>\n",
       "<table border=\"1\" class=\"dataframe\">\n",
       "  <thead>\n",
       "    <tr style=\"text-align: right;\">\n",
       "      <th></th>\n",
       "      <th>TARGET</th>\n",
       "      <th>A_CODE_GENDER</th>\n",
       "      <th>A_NAME_INCOME_TYPE</th>\n",
       "      <th>A_NAME_EDUCATION_TYPE</th>\n",
       "      <th>A_FLAG_EMP_PHONE</th>\n",
       "      <th>A_OCCUPATION_TYPE</th>\n",
       "      <th>A_REGION_RATING_CLIENT</th>\n",
       "      <th>A_REG_CITY_NOT_WORK_CITY</th>\n",
       "      <th>A_ORGANIZATION_TYPE</th>\n",
       "      <th>A_FLAG_DOCUMENT_3</th>\n",
       "      <th>A_CNT_CHILDREN</th>\n",
       "      <th>A_OBS_60_CNT_SOCIAL_CIRCLE</th>\n",
       "      <th>A_DEF_60_CNT_SOCIAL_CIRCLE</th>\n",
       "      <th>A_AMT_REQ_CREDIT_BUREAU_HOUR</th>\n",
       "      <th>A_AMT_REQ_CREDIT_BUREAU_DAY</th>\n",
       "      <th>A_AMT_REQ_CREDIT_BUREAU_WEEK</th>\n",
       "      <th>A_AMT_REQ_CREDIT_BUREAU_MON</th>\n",
       "      <th>A_AMT_REQ_CREDIT_BUREAU_QRT</th>\n",
       "      <th>A_AMT_REQ_CREDIT_BUREAU_YEAR</th>\n",
       "      <th>A_AMT_INCOME_TOTAL</th>\n",
       "      <th>A_AMT_CREDIT</th>\n",
       "      <th>A_AMT_ANNUITY</th>\n",
       "      <th>A_REGION_POPULATION_RELATIVE</th>\n",
       "      <th>A_DAYS_BIRTH</th>\n",
       "      <th>A_DAYS_EMPLOYED</th>\n",
       "      <th>A_DAYS_REGISTRATION</th>\n",
       "      <th>A_DAYS_ID_PUBLISH</th>\n",
       "      <th>A_EXT_SOURCE_1</th>\n",
       "      <th>A_EXT_SOURCE_2</th>\n",
       "      <th>A_EXT_SOURCE_3</th>\n",
       "      <th>A_BASEMENTAREA_AVG</th>\n",
       "      <th>A_YEARS_BEGINEXPLUATATION_AVG</th>\n",
       "      <th>A_LANDAREA_AVG</th>\n",
       "      <th>A_NONLIVINGAREA_AVG</th>\n",
       "      <th>A_TOTALAREA_MODE</th>\n",
       "      <th>A_CREDIT/INCOME</th>\n",
       "    </tr>\n",
       "    <tr>\n",
       "      <th>SK_ID_CURR</th>\n",
       "      <th></th>\n",
       "      <th></th>\n",
       "      <th></th>\n",
       "      <th></th>\n",
       "      <th></th>\n",
       "      <th></th>\n",
       "      <th></th>\n",
       "      <th></th>\n",
       "      <th></th>\n",
       "      <th></th>\n",
       "      <th></th>\n",
       "      <th></th>\n",
       "      <th></th>\n",
       "      <th></th>\n",
       "      <th></th>\n",
       "      <th></th>\n",
       "      <th></th>\n",
       "      <th></th>\n",
       "      <th></th>\n",
       "      <th></th>\n",
       "      <th></th>\n",
       "      <th></th>\n",
       "      <th></th>\n",
       "      <th></th>\n",
       "      <th></th>\n",
       "      <th></th>\n",
       "      <th></th>\n",
       "      <th></th>\n",
       "      <th></th>\n",
       "      <th></th>\n",
       "      <th></th>\n",
       "      <th></th>\n",
       "      <th></th>\n",
       "      <th></th>\n",
       "      <th></th>\n",
       "      <th></th>\n",
       "    </tr>\n",
       "  </thead>\n",
       "  <tbody>\n",
       "    <tr>\n",
       "      <th>100002</th>\n",
       "      <td>1.0</td>\n",
       "      <td>0.0</td>\n",
       "      <td>0.0</td>\n",
       "      <td>0.0</td>\n",
       "      <td>1.0</td>\n",
       "      <td>0.0</td>\n",
       "      <td>2.0</td>\n",
       "      <td>0.0</td>\n",
       "      <td>0.0</td>\n",
       "      <td>1.0</td>\n",
       "      <td>0.0</td>\n",
       "      <td>2.0</td>\n",
       "      <td>2.0</td>\n",
       "      <td>0.000000</td>\n",
       "      <td>0.000000</td>\n",
       "      <td>0.000000</td>\n",
       "      <td>0.000000</td>\n",
       "      <td>0.000000</td>\n",
       "      <td>1.000000</td>\n",
       "      <td>202500.0</td>\n",
       "      <td>406597.5</td>\n",
       "      <td>24700.5</td>\n",
       "      <td>0.018801</td>\n",
       "      <td>-9461.0</td>\n",
       "      <td>-637.0</td>\n",
       "      <td>-3648.0</td>\n",
       "      <td>-2120.0</td>\n",
       "      <td>0.083037</td>\n",
       "      <td>0.262949</td>\n",
       "      <td>0.139376</td>\n",
       "      <td>0.036900</td>\n",
       "      <td>0.972200</td>\n",
       "      <td>0.036900</td>\n",
       "      <td>0.000000</td>\n",
       "      <td>0.014900</td>\n",
       "      <td>2.007889</td>\n",
       "    </tr>\n",
       "    <tr>\n",
       "      <th>100003</th>\n",
       "      <td>0.0</td>\n",
       "      <td>1.0</td>\n",
       "      <td>1.0</td>\n",
       "      <td>1.0</td>\n",
       "      <td>1.0</td>\n",
       "      <td>1.0</td>\n",
       "      <td>1.0</td>\n",
       "      <td>0.0</td>\n",
       "      <td>1.0</td>\n",
       "      <td>1.0</td>\n",
       "      <td>0.0</td>\n",
       "      <td>1.0</td>\n",
       "      <td>0.0</td>\n",
       "      <td>0.000000</td>\n",
       "      <td>0.000000</td>\n",
       "      <td>0.000000</td>\n",
       "      <td>0.000000</td>\n",
       "      <td>0.000000</td>\n",
       "      <td>0.000000</td>\n",
       "      <td>270000.0</td>\n",
       "      <td>1293502.5</td>\n",
       "      <td>35698.5</td>\n",
       "      <td>0.003541</td>\n",
       "      <td>-16765.0</td>\n",
       "      <td>-1188.0</td>\n",
       "      <td>-1186.0</td>\n",
       "      <td>-291.0</td>\n",
       "      <td>0.311267</td>\n",
       "      <td>0.622246</td>\n",
       "      <td>0.344844</td>\n",
       "      <td>0.052900</td>\n",
       "      <td>0.985100</td>\n",
       "      <td>0.013000</td>\n",
       "      <td>0.009800</td>\n",
       "      <td>0.071400</td>\n",
       "      <td>4.790750</td>\n",
       "    </tr>\n",
       "    <tr>\n",
       "      <th>100004</th>\n",
       "      <td>0.0</td>\n",
       "      <td>0.0</td>\n",
       "      <td>0.0</td>\n",
       "      <td>0.0</td>\n",
       "      <td>1.0</td>\n",
       "      <td>0.0</td>\n",
       "      <td>2.0</td>\n",
       "      <td>0.0</td>\n",
       "      <td>2.0</td>\n",
       "      <td>0.0</td>\n",
       "      <td>0.0</td>\n",
       "      <td>0.0</td>\n",
       "      <td>0.0</td>\n",
       "      <td>0.000000</td>\n",
       "      <td>0.000000</td>\n",
       "      <td>0.000000</td>\n",
       "      <td>0.000000</td>\n",
       "      <td>0.000000</td>\n",
       "      <td>0.000000</td>\n",
       "      <td>67500.0</td>\n",
       "      <td>135000.0</td>\n",
       "      <td>6750.0</td>\n",
       "      <td>0.010032</td>\n",
       "      <td>-19046.0</td>\n",
       "      <td>-225.0</td>\n",
       "      <td>-4260.0</td>\n",
       "      <td>-2531.0</td>\n",
       "      <td>0.550824</td>\n",
       "      <td>0.555912</td>\n",
       "      <td>0.729567</td>\n",
       "      <td>0.075009</td>\n",
       "      <td>0.981667</td>\n",
       "      <td>0.067504</td>\n",
       "      <td>0.021810</td>\n",
       "      <td>0.088649</td>\n",
       "      <td>2.000000</td>\n",
       "    </tr>\n",
       "    <tr>\n",
       "      <th>100006</th>\n",
       "      <td>0.0</td>\n",
       "      <td>1.0</td>\n",
       "      <td>0.0</td>\n",
       "      <td>0.0</td>\n",
       "      <td>1.0</td>\n",
       "      <td>0.0</td>\n",
       "      <td>2.0</td>\n",
       "      <td>0.0</td>\n",
       "      <td>0.0</td>\n",
       "      <td>1.0</td>\n",
       "      <td>0.0</td>\n",
       "      <td>2.0</td>\n",
       "      <td>0.0</td>\n",
       "      <td>0.008068</td>\n",
       "      <td>0.005653</td>\n",
       "      <td>0.044626</td>\n",
       "      <td>0.213765</td>\n",
       "      <td>0.250421</td>\n",
       "      <td>2.217301</td>\n",
       "      <td>135000.0</td>\n",
       "      <td>312682.5</td>\n",
       "      <td>29686.5</td>\n",
       "      <td>0.008019</td>\n",
       "      <td>-19005.0</td>\n",
       "      <td>-3039.0</td>\n",
       "      <td>-9833.0</td>\n",
       "      <td>-2437.0</td>\n",
       "      <td>0.666039</td>\n",
       "      <td>0.650442</td>\n",
       "      <td>0.565898</td>\n",
       "      <td>0.076735</td>\n",
       "      <td>0.979744</td>\n",
       "      <td>0.068598</td>\n",
       "      <td>0.017830</td>\n",
       "      <td>0.082112</td>\n",
       "      <td>2.316167</td>\n",
       "    </tr>\n",
       "    <tr>\n",
       "      <th>100007</th>\n",
       "      <td>0.0</td>\n",
       "      <td>0.0</td>\n",
       "      <td>0.0</td>\n",
       "      <td>0.0</td>\n",
       "      <td>1.0</td>\n",
       "      <td>1.0</td>\n",
       "      <td>2.0</td>\n",
       "      <td>1.0</td>\n",
       "      <td>3.0</td>\n",
       "      <td>0.0</td>\n",
       "      <td>0.0</td>\n",
       "      <td>0.0</td>\n",
       "      <td>0.0</td>\n",
       "      <td>0.000000</td>\n",
       "      <td>0.000000</td>\n",
       "      <td>0.000000</td>\n",
       "      <td>0.000000</td>\n",
       "      <td>0.000000</td>\n",
       "      <td>0.000000</td>\n",
       "      <td>121500.0</td>\n",
       "      <td>513000.0</td>\n",
       "      <td>21865.5</td>\n",
       "      <td>0.028663</td>\n",
       "      <td>-19932.0</td>\n",
       "      <td>-3038.0</td>\n",
       "      <td>-4311.0</td>\n",
       "      <td>-3458.0</td>\n",
       "      <td>0.559619</td>\n",
       "      <td>0.322738</td>\n",
       "      <td>0.571390</td>\n",
       "      <td>0.071043</td>\n",
       "      <td>0.982023</td>\n",
       "      <td>0.048938</td>\n",
       "      <td>0.021351</td>\n",
       "      <td>0.076234</td>\n",
       "      <td>4.222222</td>\n",
       "    </tr>\n",
       "  </tbody>\n",
       "</table>\n",
       "</div>"
      ],
      "text/plain": [
       "            TARGET  A_CODE_GENDER  A_NAME_INCOME_TYPE  A_NAME_EDUCATION_TYPE  \\\n",
       "SK_ID_CURR                                                                     \n",
       "100002         1.0            0.0                 0.0                    0.0   \n",
       "100003         0.0            1.0                 1.0                    1.0   \n",
       "100004         0.0            0.0                 0.0                    0.0   \n",
       "100006         0.0            1.0                 0.0                    0.0   \n",
       "100007         0.0            0.0                 0.0                    0.0   \n",
       "\n",
       "            A_FLAG_EMP_PHONE  A_OCCUPATION_TYPE  A_REGION_RATING_CLIENT  \\\n",
       "SK_ID_CURR                                                                \n",
       "100002                   1.0                0.0                     2.0   \n",
       "100003                   1.0                1.0                     1.0   \n",
       "100004                   1.0                0.0                     2.0   \n",
       "100006                   1.0                0.0                     2.0   \n",
       "100007                   1.0                1.0                     2.0   \n",
       "\n",
       "            A_REG_CITY_NOT_WORK_CITY  A_ORGANIZATION_TYPE  A_FLAG_DOCUMENT_3  \\\n",
       "SK_ID_CURR                                                                     \n",
       "100002                           0.0                  0.0                1.0   \n",
       "100003                           0.0                  1.0                1.0   \n",
       "100004                           0.0                  2.0                0.0   \n",
       "100006                           0.0                  0.0                1.0   \n",
       "100007                           1.0                  3.0                0.0   \n",
       "\n",
       "            A_CNT_CHILDREN  A_OBS_60_CNT_SOCIAL_CIRCLE  \\\n",
       "SK_ID_CURR                                               \n",
       "100002                 0.0                         2.0   \n",
       "100003                 0.0                         1.0   \n",
       "100004                 0.0                         0.0   \n",
       "100006                 0.0                         2.0   \n",
       "100007                 0.0                         0.0   \n",
       "\n",
       "            A_DEF_60_CNT_SOCIAL_CIRCLE  A_AMT_REQ_CREDIT_BUREAU_HOUR  \\\n",
       "SK_ID_CURR                                                             \n",
       "100002                             2.0                      0.000000   \n",
       "100003                             0.0                      0.000000   \n",
       "100004                             0.0                      0.000000   \n",
       "100006                             0.0                      0.008068   \n",
       "100007                             0.0                      0.000000   \n",
       "\n",
       "            A_AMT_REQ_CREDIT_BUREAU_DAY  A_AMT_REQ_CREDIT_BUREAU_WEEK  \\\n",
       "SK_ID_CURR                                                              \n",
       "100002                         0.000000                      0.000000   \n",
       "100003                         0.000000                      0.000000   \n",
       "100004                         0.000000                      0.000000   \n",
       "100006                         0.005653                      0.044626   \n",
       "100007                         0.000000                      0.000000   \n",
       "\n",
       "            A_AMT_REQ_CREDIT_BUREAU_MON  A_AMT_REQ_CREDIT_BUREAU_QRT  \\\n",
       "SK_ID_CURR                                                             \n",
       "100002                         0.000000                     0.000000   \n",
       "100003                         0.000000                     0.000000   \n",
       "100004                         0.000000                     0.000000   \n",
       "100006                         0.213765                     0.250421   \n",
       "100007                         0.000000                     0.000000   \n",
       "\n",
       "            A_AMT_REQ_CREDIT_BUREAU_YEAR  A_AMT_INCOME_TOTAL  A_AMT_CREDIT  \\\n",
       "SK_ID_CURR                                                                   \n",
       "100002                          1.000000            202500.0      406597.5   \n",
       "100003                          0.000000            270000.0     1293502.5   \n",
       "100004                          0.000000             67500.0      135000.0   \n",
       "100006                          2.217301            135000.0      312682.5   \n",
       "100007                          0.000000            121500.0      513000.0   \n",
       "\n",
       "            A_AMT_ANNUITY  A_REGION_POPULATION_RELATIVE  A_DAYS_BIRTH  \\\n",
       "SK_ID_CURR                                                              \n",
       "100002            24700.5                      0.018801       -9461.0   \n",
       "100003            35698.5                      0.003541      -16765.0   \n",
       "100004             6750.0                      0.010032      -19046.0   \n",
       "100006            29686.5                      0.008019      -19005.0   \n",
       "100007            21865.5                      0.028663      -19932.0   \n",
       "\n",
       "            A_DAYS_EMPLOYED  A_DAYS_REGISTRATION  A_DAYS_ID_PUBLISH  \\\n",
       "SK_ID_CURR                                                            \n",
       "100002               -637.0              -3648.0            -2120.0   \n",
       "100003              -1188.0              -1186.0             -291.0   \n",
       "100004               -225.0              -4260.0            -2531.0   \n",
       "100006              -3039.0              -9833.0            -2437.0   \n",
       "100007              -3038.0              -4311.0            -3458.0   \n",
       "\n",
       "            A_EXT_SOURCE_1  A_EXT_SOURCE_2  A_EXT_SOURCE_3  \\\n",
       "SK_ID_CURR                                                   \n",
       "100002            0.083037        0.262949        0.139376   \n",
       "100003            0.311267        0.622246        0.344844   \n",
       "100004            0.550824        0.555912        0.729567   \n",
       "100006            0.666039        0.650442        0.565898   \n",
       "100007            0.559619        0.322738        0.571390   \n",
       "\n",
       "            A_BASEMENTAREA_AVG  A_YEARS_BEGINEXPLUATATION_AVG  A_LANDAREA_AVG  \\\n",
       "SK_ID_CURR                                                                      \n",
       "100002                0.036900                       0.972200        0.036900   \n",
       "100003                0.052900                       0.985100        0.013000   \n",
       "100004                0.075009                       0.981667        0.067504   \n",
       "100006                0.076735                       0.979744        0.068598   \n",
       "100007                0.071043                       0.982023        0.048938   \n",
       "\n",
       "            A_NONLIVINGAREA_AVG  A_TOTALAREA_MODE  A_CREDIT/INCOME  \n",
       "SK_ID_CURR                                                          \n",
       "100002                 0.000000          0.014900         2.007889  \n",
       "100003                 0.009800          0.071400         4.790750  \n",
       "100004                 0.021810          0.088649         2.000000  \n",
       "100006                 0.017830          0.082112         2.316167  \n",
       "100007                 0.021351          0.076234         4.222222  "
      ]
     },
     "execution_count": 9,
     "metadata": {},
     "output_type": "execute_result"
    }
   ],
   "source": [
    "app_train.head()"
   ]
  },
  {
   "cell_type": "code",
   "execution_count": 10,
   "metadata": {},
   "outputs": [],
   "source": [
    "# Ermittlung Reihenfolge"
   ]
  },
  {
   "cell_type": "code",
   "execution_count": 11,
   "metadata": {},
   "outputs": [],
   "source": [
    "y = app_train[\"TARGET\"]\n",
    "x = app_train.drop([\"TARGET\"], axis=1)"
   ]
  },
  {
   "cell_type": "code",
   "execution_count": 12,
   "metadata": {},
   "outputs": [],
   "source": [
    "if not MODEL_EXIST:\n",
    "    # unterteilt den trainingsdatensatz in trainings- und validierungsdatensätze\n",
    "    x_train, x_test, y_train, y_test = train_test_split(x, y, test_size=.5, random_state=0)\n",
    "\n",
    "    # logistisches Regressionsmodell\n",
    "    model = RandomForestClassifier(**TREE_PARAMS)\n",
    "    model.fit(x_train, y_train)\n",
    "\n",
    "    auc = roc_auc_score(y_test, model.predict_proba(x_test)[:,1])\n",
    "    fpr, tpr, threshold = roc_curve(y_test, model.predict_proba(x_test)[:,1])\n",
    "    print(auc)\n",
    "\n",
    "    # Koeffizienten der einzelnen Klassen\n",
    "    coef_dict = {}\n",
    "    for coef, feat in zip(model.feature_importances_, x.columns.values):\n",
    "        coef_dict[feat] = coef\n",
    "\n",
    "    # Feature Importance\n",
    "    d = dict(sorted(coef_dict.items(), key=lambda item: item[1], reverse=True))\n",
    "    order = list(d.keys())\n",
    "    \n",
    "    model_data = {\n",
    "    \"todo\" : order,\n",
    "    \"keep\" : [],\n",
    "    \"drop\" : [],\n",
    "    \"params\" : TREE_PARAMS,\n",
    "    \"auc\" : [],\n",
    "    \"p\" : [],\n",
    "    \"n\" : []\n",
    "    }\n",
    "    \n",
    "    auc_temp = 0.5"
   ]
  },
  {
   "cell_type": "code",
   "execution_count": 13,
   "metadata": {},
   "outputs": [],
   "source": [
    "if MODEL_EXIST:\n",
    "    with open(DATASET_DIR / \"Models\" / MODEL_FILE, 'r') as file:\n",
    "        model_data = json.load(file)\n",
    "    auc_temp = model_data[\"auc\"][-1]"
   ]
  },
  {
   "cell_type": "code",
   "execution_count": 14,
   "metadata": {},
   "outputs": [],
   "source": [
    "#Entscheidungsbaum Parameterbestimmung"
   ]
  },
  {
   "cell_type": "code",
   "execution_count": 15,
   "metadata": {},
   "outputs": [
    {
     "name": "stdout",
     "output_type": "stream",
     "text": [
      "auc: 0.8131, todo: 0, keep: 10, drop: 25\n"
     ]
    }
   ],
   "source": [
    "df = app_train\n",
    "\n",
    "print('auc: %s, todo: %s, keep: %s, drop: %s' % (round(auc_temp,4), len(model_data[\"todo\"]), len(model_data[\"keep\"]), len(model_data[\"drop\"])))\n",
    "todo = model_data[\"todo\"].copy()\n",
    "\n",
    "for head in todo:\n",
    "    \n",
    "    model_data[\"keep\"].append(head)\n",
    "    \n",
    "    X = df[model_data[\"keep\"] + [\"TARGET\"]]\n",
    "    y = X[\"TARGET\"]\n",
    "    x = X.drop([\"TARGET\"], axis=1)\n",
    "    \n",
    "    model = RandomForestClassifier(**TREE_PARAMS).fit(x, y)\n",
    "    \n",
    "    aucs = []\n",
    "\n",
    "    kfold = KFold(5, shuffle=True, random_state=1)\n",
    "\n",
    "    for train, test in kfold.split(x):\n",
    "        model.fit(x.iloc[train], y.iloc[train])\n",
    "        auc = roc_auc_score(y.iloc[test], model.predict_proba(x.iloc[test])[:,1])\n",
    "        aucs.append(auc)\n",
    "    \n",
    "    auc = np.mean(aucs)\n",
    "    n = len(X)\n",
    "    p = len(X.columns)\n",
    "    \n",
    "    if auc > auc_temp:\n",
    "        \n",
    "        model_data[\"auc\"].append(auc)\n",
    "        model_data[\"p\"].append(p)\n",
    "        model_data[\"n\"].append(n)\n",
    "        \n",
    "        auc_temp = auc\n",
    "        \n",
    "    else:\n",
    "        model_data[\"keep\"].remove(head)\n",
    "        model_data[\"drop\"].append(head)\n",
    "    \n",
    "    model_data[\"todo\"].remove(head)\n",
    "    \n",
    "    with open(DATASET_DIR / \"Models\" / MODEL_FILE, 'w') as file:\n",
    "        json.dump(model_data, file)\n",
    "        \n",
    "    clear_output(wait=True)\n",
    "    print('auc: %s, todo: %s, keep: %s, drop: %s' % (round(auc,4), len(model_data[\"todo\"]), len(model_data[\"keep\"]), len(model_data[\"drop\"])))"
   ]
  },
  {
   "cell_type": "code",
   "execution_count": 16,
   "metadata": {},
   "outputs": [
    {
     "name": "stdout",
     "output_type": "stream",
     "text": [
      "        auc   p       n\n",
      "9  0.813149  11  307511\n"
     ]
    },
    {
     "data": {
      "text/plain": [
       "<AxesSubplot:>"
      ]
     },
     "execution_count": 16,
     "metadata": {},
     "output_type": "execute_result"
    },
    {
     "data": {
      "image/png": "[encoded data removed]",
      "text/plain": [
       "<Figure size 432x288 with 1 Axes>"
      ]
     },
     "metadata": {
      "needs_background": "light"
     },
     "output_type": "display_data"
    }
   ],
   "source": [
    "data = {\n",
    "    \"auc\" : model_data[\"auc\"],\n",
    "    \"p\" : model_data[\"p\"],\n",
    "    \"n\" : model_data[\"n\"]\n",
    "}\n",
    "\n",
    "result = pd.DataFrame(data)\n",
    "\n",
    "print(result[result[\"auc\"] == result[\"auc\"].max()])\n",
    "result[\"auc\"].plot()"
   ]
  },
  {
   "cell_type": "code",
   "execution_count": 17,
   "metadata": {},
   "outputs": [
    {
     "data": {
      "text/plain": [
       "['A_EXT_SOURCE_3',\n",
       " 'A_EXT_SOURCE_1',\n",
       " 'A_EXT_SOURCE_2',\n",
       " 'A_AMT_REQ_CREDIT_BUREAU_DAY',\n",
       " 'A_AMT_REQ_CREDIT_BUREAU_HOUR',\n",
       " 'A_YEARS_BEGINEXPLUATATION_AVG',\n",
       " 'A_DAYS_EMPLOYED',\n",
       " 'A_DAYS_BIRTH',\n",
       " 'A_BASEMENTAREA_AVG',\n",
       " 'A_LANDAREA_AVG']"
      ]
     },
     "execution_count": 17,
     "metadata": {},
     "output_type": "execute_result"
    }
   ],
   "source": [
    "model_data[\"keep\"]"
   ]
  },
  {
   "cell_type": "code",
   "execution_count": 18,
   "metadata": {},
   "outputs": [
    {
     "data": {
      "text/plain": [
       "['A_AMT_REQ_CREDIT_BUREAU_WEEK',\n",
       " 'A_AMT_REQ_CREDIT_BUREAU_QRT',\n",
       " 'A_AMT_REQ_CREDIT_BUREAU_MON',\n",
       " 'A_AMT_REQ_CREDIT_BUREAU_YEAR',\n",
       " 'A_TOTALAREA_MODE',\n",
       " 'A_DAYS_ID_PUBLISH',\n",
       " 'A_NAME_EDUCATION_TYPE',\n",
       " 'A_NONLIVINGAREA_AVG',\n",
       " 'A_DAYS_REGISTRATION',\n",
       " 'A_AMT_CREDIT',\n",
       " 'A_REGION_RATING_CLIENT',\n",
       " 'A_CREDIT/INCOME',\n",
       " 'A_NAME_INCOME_TYPE',\n",
       " 'A_AMT_ANNUITY',\n",
       " 'A_CODE_GENDER',\n",
       " 'A_AMT_INCOME_TOTAL',\n",
       " 'A_REGION_POPULATION_RELATIVE',\n",
       " 'A_FLAG_EMP_PHONE',\n",
       " 'A_ORGANIZATION_TYPE',\n",
       " 'A_FLAG_DOCUMENT_3',\n",
       " 'A_OCCUPATION_TYPE',\n",
       " 'A_REG_CITY_NOT_WORK_CITY',\n",
       " 'A_OBS_60_CNT_SOCIAL_CIRCLE',\n",
       " 'A_CNT_CHILDREN',\n",
       " 'A_DEF_60_CNT_SOCIAL_CIRCLE']"
      ]
     },
     "execution_count": 18,
     "metadata": {},
     "output_type": "execute_result"
    }
   ],
   "source": [
    "model_data[\"drop\"]"
   ]
  },
  {
   "cell_type": "code",
   "execution_count": 19,
   "metadata": {},
   "outputs": [
    {
     "name": "stdout",
     "output_type": "stream",
     "text": [
      "train: [     0      2      3 ... 307508 307509 307510], test: [     1      4      6 ... 307493 307495 307501], auc: 0.8464\n",
      "train: [     0      1      2 ... 307508 307509 307510], test: [     3     18     22 ... 307499 307503 307504], auc: 0.8412\n",
      "train: [     0      1      2 ... 307508 307509 307510], test: [     9     10     15 ... 307489 307492 307502], auc: 0.8376\n",
      "train: [     0      1      2 ... 307506 307507 307508], test: [    12     16     23 ... 307505 307509 307510], auc: 0.8434\n",
      "train: [     1      3      4 ... 307505 307509 307510], test: [     0      2      5 ... 307506 307507 307508], auc: 0.8375\n",
      "\n",
      "\n",
      "Durchschnitt: 0.8412\n",
      "Standardabw.: 0.00\n",
      "Varianz:      0.00\n"
     ]
    }
   ],
   "source": [
    "model = RandomForestClassifier(**TREE_PARAMS)\n",
    "\n",
    "aucs = []\n",
    "\n",
    "kfold = KFold(5, shuffle=True, random_state=1)\n",
    "\n",
    "X = df[model_data[\"keep\"] + [\"TARGET\"]]\n",
    "y = X[\"TARGET\"]\n",
    "x = X.drop([\"TARGET\"], axis=1)\n",
    "\n",
    "# enumerate splits\n",
    "for train, test in kfold.split(x):\n",
    "    \n",
    "    model.fit(x.iloc[train], y.iloc[train])\n",
    "    auc = roc_auc_score(y.iloc[test], model.predict_proba(x.iloc[test])[:,1])\n",
    "    aucs.append(auc)\n",
    "    \n",
    "    print('train: %s, test: %s, auc: %s' % (train, test, round(auc,4)))\n",
    "\n",
    "print(\"\\n\")\n",
    "print(\"Durchschnitt: %.4f\" % (np.mean(aucs)))\n",
    "print(\"Standardabw.: %.2f\" % (np.std(aucs)))\n",
    "print(\"Varianz:      %.2f\" % (np.var(aucs)))"
   ]
  },
  {
   "cell_type": "code",
   "execution_count": 20,
   "metadata": {},
   "outputs": [],
   "source": [
    "# TPR, TNR, P, R, F"
   ]
  },
  {
   "cell_type": "code",
   "execution_count": 21,
   "metadata": {},
   "outputs": [],
   "source": [
    "from sklearn.model_selection import train_test_split"
   ]
  },
  {
   "cell_type": "code",
   "execution_count": 22,
   "metadata": {},
   "outputs": [],
   "source": [
    "from sklearn import metrics"
   ]
  },
  {
   "cell_type": "code",
   "execution_count": 23,
   "metadata": {},
   "outputs": [],
   "source": [
    "from sklearn.metrics import confusion_matrix"
   ]
  },
  {
   "cell_type": "code",
   "execution_count": 24,
   "metadata": {},
   "outputs": [],
   "source": [
    "x_train, x_test, y_train, y_test = train_test_split(x, y, test_size=0.5, random_state=0)"
   ]
  },
  {
   "cell_type": "code",
   "execution_count": 25,
   "metadata": {},
   "outputs": [
    {
     "data": {
      "text/plain": [
       "RandomForestClassifier(max_depth=15, min_samples_leaf=12, n_estimators=900,\n",
       "                       n_jobs=-1, random_state=0)"
      ]
     },
     "execution_count": 25,
     "metadata": {},
     "output_type": "execute_result"
    }
   ],
   "source": [
    "model.fit(x_train, y_train)"
   ]
  },
  {
   "cell_type": "code",
   "execution_count": 26,
   "metadata": {},
   "outputs": [
    {
     "data": {
      "text/plain": [
       "array([[141034,    333],\n",
       "       [ 10634,   1755]], dtype=int64)"
      ]
     },
     "execution_count": 26,
     "metadata": {},
     "output_type": "execute_result"
    }
   ],
   "source": [
    "confusion_matrix(y_test, model.predict(x_test))"
   ]
  },
  {
   "cell_type": "code",
   "execution_count": 27,
   "metadata": {},
   "outputs": [],
   "source": [
    "(tn,fp),(fn,tp)=confusion_matrix(y_test, model.predict(x_test))"
   ]
  },
  {
   "cell_type": "code",
   "execution_count": 28,
   "metadata": {},
   "outputs": [],
   "source": [
    "# TPR\n",
    "TPR = tp/(tp+fn)\n",
    "# TNR\n",
    "TNR = tn/(tn+fp)\n",
    "# Precision\n",
    "P = tp/(tp+fp)\n",
    "# Recall\n",
    "R = tp/(tp+fn)\n",
    "# F-Score\n",
    "F = 2*P*R/(P+R)"
   ]
  },
  {
   "cell_type": "code",
   "execution_count": 29,
   "metadata": {},
   "outputs": [
    {
     "name": "stdout",
     "output_type": "stream",
     "text": [
      "0.1416579223504722\n",
      "0.997644429039309\n",
      "0.8405172413793104\n",
      "0.1416579223504722\n",
      "0.2424535470055951\n",
      "0.9286727022034913\n"
     ]
    }
   ],
   "source": [
    "print(TPR)\n",
    "print(TNR)\n",
    "print(P)\n",
    "print(R)\n",
    "print(F)\n",
    "print((tp+tn)/(tp+tn+fp+fn))"
   ]
  }
 ],
 "metadata": {
  "kernelspec": {
   "display_name": "Python 3",
   "language": "python",
   "name": "python3"
  },
  "language_info": {
   "codemirror_mode": {
    "name": "ipython",
    "version": 3
   },
   "file_extension": ".py",
   "mimetype": "text/x-python",
   "name": "python",
   "nbconvert_exporter": "python",
   "pygments_lexer": "ipython3",
   "version": "3.8.6"
  }
 },
 "nbformat": 4,
 "nbformat_minor": 4
}
