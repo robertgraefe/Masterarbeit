{
 "cells": [
  {
   "cell_type": "code",
   "execution_count": 1,
   "metadata": {},
   "outputs": [],
   "source": [
    "from pathlib import Path\n",
    "from sklearn.ensemble import RandomForestClassifier\n",
    "from sklearn.model_selection import train_test_split\n",
    "from sklearn.metrics import roc_curve, roc_auc_score\n",
    "\n",
    "from sklearn.metrics import confusion_matrix\n",
    "\n",
    "from sklearn.model_selection import KFold\n",
    "from sklearn.metrics import plot_roc_curve\n",
    "from sklearn.metrics import auc\n",
    "\n",
    "import matplotlib.pyplot as plt\n",
    "import pandas as pd\n",
    "import numpy as np\n",
    "\n",
    "np.set_printoptions(suppress=True)\n",
    "\n",
    "pd.options.display.max_columns = None\n",
    "pd.options.display.max_rows = None\n",
    "pd.options.display.max_colwidth = None\n",
    "\n",
    "from IPython.display import clear_output\n",
    "\n",
    "import json"
   ]
  },
  {
   "cell_type": "code",
   "execution_count": 2,
   "metadata": {},
   "outputs": [],
   "source": [
    "MODEL_FILE = \"3.2. Esembler_RandomForest_Bureau.json\""
   ]
  },
  {
   "cell_type": "code",
   "execution_count": 3,
   "metadata": {},
   "outputs": [],
   "source": [
    "# Random Forest\n",
    "TREE_PARAMS = {\n",
    "    \"max_depth\": 15,\n",
    "    \"min_samples_leaf\": 17,\n",
    "    \"n_estimators\": 500,\n",
    "    \"random_state\": 0,\n",
    "    \"n_jobs\": -1\n",
    "}"
   ]
  },
  {
   "cell_type": "code",
   "execution_count": 4,
   "metadata": {},
   "outputs": [],
   "source": [
    "path1 = Path(r\"A:\\Workspace\\Python\\Masterarbeit\\Kaggle Home Credit Datensatz\")\n",
    "path2 = Path(r\"C:\\Users\\rober\\Documents\\Workspace\\Python\\Masterarbeit\\Kaggle Home Credit Datensatz\")\n",
    "\n",
    "if path1.is_dir():\n",
    "    DATASET_DIR = path1\n",
    "else:\n",
    "    DATASET_DIR = path2"
   ]
  },
  {
   "cell_type": "code",
   "execution_count": 5,
   "metadata": {},
   "outputs": [],
   "source": [
    "# Check if Models exists"
   ]
  },
  {
   "cell_type": "code",
   "execution_count": 6,
   "metadata": {},
   "outputs": [],
   "source": [
    "model_path = DATASET_DIR / \"Models\" / MODEL_FILE\n",
    "MODEL_EXIST = model_path.is_file()"
   ]
  },
  {
   "cell_type": "code",
   "execution_count": 7,
   "metadata": {},
   "outputs": [],
   "source": [
    "# Daten"
   ]
  },
  {
   "cell_type": "code",
   "execution_count": 8,
   "metadata": {},
   "outputs": [],
   "source": [
    "app_train = pd.read_csv(DATASET_DIR / \"4. FillNA\" / \"application.csv\")\n",
    "bureau = pd.read_csv(DATASET_DIR / \"4. FillNA\" / \"bureau.csv\")\n",
    "app_train = app_train.set_index(\"SK_ID_CURR\")\n",
    "bureau = bureau.set_index(\"SK_ID_CURR\")"
   ]
  },
  {
   "cell_type": "code",
   "execution_count": 9,
   "metadata": {},
   "outputs": [
    {
     "data": {
      "text/html": [
       "<div>\n",
       "<style scoped>\n",
       "    .dataframe tbody tr th:only-of-type {\n",
       "        vertical-align: middle;\n",
       "    }\n",
       "\n",
       "    .dataframe tbody tr th {\n",
       "        vertical-align: top;\n",
       "    }\n",
       "\n",
       "    .dataframe thead th {\n",
       "        text-align: right;\n",
       "    }\n",
       "</style>\n",
       "<table border=\"1\" class=\"dataframe\">\n",
       "  <thead>\n",
       "    <tr style=\"text-align: right;\">\n",
       "      <th></th>\n",
       "      <th>CNT_BURAEU</th>\n",
       "      <th>B_Active</th>\n",
       "      <th>B_Closed</th>\n",
       "      <th>B_DAYS_CREDIT_ENDDATE</th>\n",
       "      <th>B_CREDIT_DAY_OVERDUE</th>\n",
       "      <th>B_AMT_CREDIT_SUM</th>\n",
       "      <th>B_AMT_CREDIT_SUM_DEBT</th>\n",
       "      <th>B_AMT_CREDIT_SUM_OVERDUE</th>\n",
       "      <th>B_AMT_ANNUITY</th>\n",
       "    </tr>\n",
       "    <tr>\n",
       "      <th>SK_ID_CURR</th>\n",
       "      <th></th>\n",
       "      <th></th>\n",
       "      <th></th>\n",
       "      <th></th>\n",
       "      <th></th>\n",
       "      <th></th>\n",
       "      <th></th>\n",
       "      <th></th>\n",
       "      <th></th>\n",
       "    </tr>\n",
       "  </thead>\n",
       "  <tbody>\n",
       "    <tr>\n",
       "      <th>100002</th>\n",
       "      <td>8.0</td>\n",
       "      <td>2.0</td>\n",
       "      <td>6.0</td>\n",
       "      <td>309.000000</td>\n",
       "      <td>0.000000</td>\n",
       "      <td>638235.000000</td>\n",
       "      <td>245781.000000</td>\n",
       "      <td>0.000000</td>\n",
       "      <td>0.000000</td>\n",
       "    </tr>\n",
       "    <tr>\n",
       "      <th>100003</th>\n",
       "      <td>4.0</td>\n",
       "      <td>1.0</td>\n",
       "      <td>3.0</td>\n",
       "      <td>1216.000000</td>\n",
       "      <td>0.000000</td>\n",
       "      <td>810000.000000</td>\n",
       "      <td>0.000000</td>\n",
       "      <td>0.000000</td>\n",
       "      <td>0.000000</td>\n",
       "    </tr>\n",
       "    <tr>\n",
       "      <th>100004</th>\n",
       "      <td>2.0</td>\n",
       "      <td>0.0</td>\n",
       "      <td>2.0</td>\n",
       "      <td>1172.145688</td>\n",
       "      <td>0.001403</td>\n",
       "      <td>792471.023437</td>\n",
       "      <td>353526.556281</td>\n",
       "      <td>0.001962</td>\n",
       "      <td>2735.621154</td>\n",
       "    </tr>\n",
       "    <tr>\n",
       "      <th>100007</th>\n",
       "      <td>1.0</td>\n",
       "      <td>0.0</td>\n",
       "      <td>1.0</td>\n",
       "      <td>1163.754146</td>\n",
       "      <td>0.001784</td>\n",
       "      <td>635755.340213</td>\n",
       "      <td>291016.898931</td>\n",
       "      <td>0.002387</td>\n",
       "      <td>2634.913696</td>\n",
       "    </tr>\n",
       "    <tr>\n",
       "      <th>100008</th>\n",
       "      <td>3.0</td>\n",
       "      <td>1.0</td>\n",
       "      <td>2.0</td>\n",
       "      <td>471.000000</td>\n",
       "      <td>0.000000</td>\n",
       "      <td>267606.000000</td>\n",
       "      <td>240057.000000</td>\n",
       "      <td>0.000000</td>\n",
       "      <td>0.000000</td>\n",
       "    </tr>\n",
       "  </tbody>\n",
       "</table>\n",
       "</div>"
      ],
      "text/plain": [
       "            CNT_BURAEU  B_Active  B_Closed  B_DAYS_CREDIT_ENDDATE  \\\n",
       "SK_ID_CURR                                                          \n",
       "100002             8.0       2.0       6.0             309.000000   \n",
       "100003             4.0       1.0       3.0            1216.000000   \n",
       "100004             2.0       0.0       2.0            1172.145688   \n",
       "100007             1.0       0.0       1.0            1163.754146   \n",
       "100008             3.0       1.0       2.0             471.000000   \n",
       "\n",
       "            B_CREDIT_DAY_OVERDUE  B_AMT_CREDIT_SUM  B_AMT_CREDIT_SUM_DEBT  \\\n",
       "SK_ID_CURR                                                                  \n",
       "100002                  0.000000     638235.000000          245781.000000   \n",
       "100003                  0.000000     810000.000000               0.000000   \n",
       "100004                  0.001403     792471.023437          353526.556281   \n",
       "100007                  0.001784     635755.340213          291016.898931   \n",
       "100008                  0.000000     267606.000000          240057.000000   \n",
       "\n",
       "            B_AMT_CREDIT_SUM_OVERDUE  B_AMT_ANNUITY  \n",
       "SK_ID_CURR                                           \n",
       "100002                      0.000000       0.000000  \n",
       "100003                      0.000000       0.000000  \n",
       "100004                      0.001962    2735.621154  \n",
       "100007                      0.002387    2634.913696  \n",
       "100008                      0.000000       0.000000  "
      ]
     },
     "execution_count": 9,
     "metadata": {},
     "output_type": "execute_result"
    }
   ],
   "source": [
    "bureau.head()"
   ]
  },
  {
   "cell_type": "code",
   "execution_count": 10,
   "metadata": {},
   "outputs": [],
   "source": [
    "# Ermittlung Reihenfolge"
   ]
  },
  {
   "cell_type": "code",
   "execution_count": 11,
   "metadata": {},
   "outputs": [],
   "source": [
    "y = app_train.loc[bureau.index][\"TARGET\"]\n",
    "x = bureau"
   ]
  },
  {
   "cell_type": "code",
   "execution_count": 12,
   "metadata": {},
   "outputs": [],
   "source": [
    "if not MODEL_EXIST:\n",
    "    # unterteilt den trainingsdatensatz in trainings- und validierungsdatensätze\n",
    "    x_train, x_test, y_train, y_test = train_test_split(x, y, test_size=.5, random_state=0)\n",
    "\n",
    "    # logistisches Regressionsmodell\n",
    "    model = RandomForestClassifier(**TREE_PARAMS)\n",
    "    model.fit(x_train, y_train)\n",
    "\n",
    "    auc = roc_auc_score(y_test, model.predict_proba(x_test)[:,1])\n",
    "    fpr, tpr, threshold = roc_curve(y_test, model.predict_proba(x_test)[:,1])\n",
    "    print(auc)\n",
    "\n",
    "    # Koeffizienten der einzelnen Klassen\n",
    "    coef_dict = {}\n",
    "    for coef, feat in zip(model.feature_importances_, x.columns.values):\n",
    "        coef_dict[feat] = coef\n",
    "\n",
    "    # Feature Importance\n",
    "    d = dict(sorted(coef_dict.items(), key=lambda item: item[1], reverse=True))\n",
    "    order = list(d.keys())\n",
    "    \n",
    "    model_data = {\n",
    "    \"todo\" : order,\n",
    "    \"keep\" : [],\n",
    "    \"drop\" : [],\n",
    "    \"params\" : TREE_PARAMS,\n",
    "    \"auc\" : [],\n",
    "    \"p\" : [],\n",
    "    \"n\" : []\n",
    "    }\n",
    "    \n",
    "    auc_temp = 0.5"
   ]
  },
  {
   "cell_type": "code",
   "execution_count": 13,
   "metadata": {},
   "outputs": [],
   "source": [
    "if MODEL_EXIST:\n",
    "    with open(DATASET_DIR / \"Models\" / MODEL_FILE, 'r') as file:\n",
    "        model_data = json.load(file)\n",
    "    auc_temp = model_data[\"auc\"][-1]"
   ]
  },
  {
   "cell_type": "code",
   "execution_count": 14,
   "metadata": {},
   "outputs": [],
   "source": [
    "#Entscheidungsbaum Parameterbestimmung"
   ]
  },
  {
   "cell_type": "code",
   "execution_count": 15,
   "metadata": {},
   "outputs": [
    {
     "name": "stdout",
     "output_type": "stream",
     "text": [
      "auc: 0.6125, todo: 0, keep: 7, drop: 2\n"
     ]
    }
   ],
   "source": [
    "df = bureau\n",
    "\n",
    "print('auc: %s, todo: %s, keep: %s, drop: %s' % (round(auc_temp,4), len(model_data[\"todo\"]), len(model_data[\"keep\"]), len(model_data[\"drop\"])))\n",
    "todo = model_data[\"todo\"].copy()\n",
    "\n",
    "for head in todo:\n",
    "    \n",
    "    model_data[\"keep\"].append(head)\n",
    "    \n",
    "    X = df[model_data[\"keep\"]]\n",
    "    y = app_train.loc[bureau.index][\"TARGET\"]\n",
    "    x = X\n",
    "    \n",
    "    model = RandomForestClassifier(**TREE_PARAMS).fit(x, y)\n",
    "    \n",
    "    aucs = []\n",
    "\n",
    "    kfold = KFold(5, shuffle=True, random_state=1)\n",
    "\n",
    "    for train, test in kfold.split(x):\n",
    "        model.fit(x.iloc[train], y.iloc[train])\n",
    "        auc = roc_auc_score(y.iloc[test], model.predict_proba(x.iloc[test])[:,1])\n",
    "        aucs.append(auc)\n",
    "    \n",
    "    auc = np.mean(aucs)\n",
    "    n = len(X)\n",
    "    p = len(X.columns)\n",
    "    \n",
    "    if auc > auc_temp:\n",
    "        \n",
    "        model_data[\"auc\"].append(auc)\n",
    "        model_data[\"p\"].append(p)\n",
    "        model_data[\"n\"].append(n)\n",
    "        \n",
    "        auc_temp = auc\n",
    "        \n",
    "    else:\n",
    "        model_data[\"keep\"].remove(head)\n",
    "        model_data[\"drop\"].append(head)\n",
    "    \n",
    "    model_data[\"todo\"].remove(head)\n",
    "    \n",
    "    with open(DATASET_DIR / \"Models\" / MODEL_FILE, 'w') as file:\n",
    "        json.dump(model_data, file)\n",
    "        \n",
    "    clear_output(wait=True)\n",
    "    print('auc: %s, todo: %s, keep: %s, drop: %s' % (round(auc,4), len(model_data[\"todo\"]), len(model_data[\"keep\"]), len(model_data[\"drop\"])))"
   ]
  },
  {
   "cell_type": "code",
   "execution_count": 16,
   "metadata": {},
   "outputs": [
    {
     "name": "stdout",
     "output_type": "stream",
     "text": [
      "        auc  p       n\n",
      "6  0.612539  7  263491\n"
     ]
    },
    {
     "data": {
      "text/plain": [
       "<AxesSubplot:>"
      ]
     },
     "execution_count": 16,
     "metadata": {},
     "output_type": "execute_result"
    },
    {
     "data": {
      "image/png": "[encoded data removed]",
      "text/plain": [
       "<Figure size 432x288 with 1 Axes>"
      ]
     },
     "metadata": {
      "needs_background": "light"
     },
     "output_type": "display_data"
    }
   ],
   "source": [
    "data = {\n",
    "    \"auc\" : model_data[\"auc\"],\n",
    "    \"p\" : model_data[\"p\"],\n",
    "    \"n\" : model_data[\"n\"]\n",
    "}\n",
    "\n",
    "result = pd.DataFrame(data)\n",
    "\n",
    "print(result[result[\"auc\"] == result[\"auc\"].max()])\n",
    "result[\"auc\"].plot()"
   ]
  },
  {
   "cell_type": "code",
   "execution_count": 17,
   "metadata": {},
   "outputs": [
    {
     "data": {
      "text/plain": [
       "['B_Active',\n",
       " 'B_Closed',\n",
       " 'B_AMT_CREDIT_SUM',\n",
       " 'B_AMT_CREDIT_SUM_DEBT',\n",
       " 'B_DAYS_CREDIT_ENDDATE',\n",
       " 'B_AMT_CREDIT_SUM_OVERDUE',\n",
       " 'B_AMT_ANNUITY']"
      ]
     },
     "execution_count": 17,
     "metadata": {},
     "output_type": "execute_result"
    }
   ],
   "source": [
    "model_data[\"keep\"]"
   ]
  },
  {
   "cell_type": "code",
   "execution_count": 18,
   "metadata": {},
   "outputs": [
    {
     "data": {
      "text/plain": [
       "['B_CREDIT_DAY_OVERDUE', 'CNT_BURAEU']"
      ]
     },
     "execution_count": 18,
     "metadata": {},
     "output_type": "execute_result"
    }
   ],
   "source": [
    "model_data[\"drop\"]"
   ]
  },
  {
   "cell_type": "code",
   "execution_count": 19,
   "metadata": {},
   "outputs": [
    {
     "name": "stderr",
     "output_type": "stream",
     "text": [
      "<ipython-input-19-acf5d4b5eae5>:32: RuntimeWarning: invalid value encountered in longlong_scalars\n",
      "  P = tp/(tp+fp)\n"
     ]
    },
    {
     "name": "stdout",
     "output_type": "stream",
     "text": [
      "TPR: 0.0000 TNR: 1.0000 P: nan NPV: 0.9250 F: nan Accuracy: 0.9250 AUC: 0.6135\n"
     ]
    },
    {
     "name": "stderr",
     "output_type": "stream",
     "text": [
      "<ipython-input-19-acf5d4b5eae5>:32: RuntimeWarning: invalid value encountered in longlong_scalars\n",
      "  P = tp/(tp+fp)\n"
     ]
    },
    {
     "name": "stdout",
     "output_type": "stream",
     "text": [
      "TPR: 0.0000 TNR: 1.0000 P: nan NPV: 0.9226 F: nan Accuracy: 0.9226 AUC: 0.6238\n"
     ]
    },
    {
     "name": "stderr",
     "output_type": "stream",
     "text": [
      "<ipython-input-19-acf5d4b5eae5>:32: RuntimeWarning: invalid value encountered in longlong_scalars\n",
      "  P = tp/(tp+fp)\n"
     ]
    },
    {
     "name": "stdout",
     "output_type": "stream",
     "text": [
      "TPR: 0.0000 TNR: 1.0000 P: nan NPV: 0.9223 F: nan Accuracy: 0.9223 AUC: 0.6299\n"
     ]
    },
    {
     "name": "stderr",
     "output_type": "stream",
     "text": [
      "<ipython-input-19-acf5d4b5eae5>:32: RuntimeWarning: invalid value encountered in longlong_scalars\n",
      "  P = tp/(tp+fp)\n"
     ]
    },
    {
     "name": "stdout",
     "output_type": "stream",
     "text": [
      "TPR: 0.0000 TNR: 1.0000 P: nan NPV: 0.9218 F: nan Accuracy: 0.9218 AUC: 0.6237\n"
     ]
    },
    {
     "name": "stderr",
     "output_type": "stream",
     "text": [
      "<ipython-input-19-acf5d4b5eae5>:32: RuntimeWarning: invalid value encountered in longlong_scalars\n",
      "  P = tp/(tp+fp)\n"
     ]
    },
    {
     "name": "stdout",
     "output_type": "stream",
     "text": [
      "TPR: 0.0000 TNR: 1.0000 P: nan NPV: 0.9218 F: nan Accuracy: 0.9218 AUC: 0.6151\n",
      "\n",
      "\n",
      "Durchschnitte:\n",
      "TPR: 0.0000 TNR: 1.0000 P: nan NPV: 0.9227 F: nan Accuracy: 0.9227 AUC: 0.6212\n"
     ]
    }
   ],
   "source": [
    "model = RandomForestClassifier(**TREE_PARAMS)\n",
    "\n",
    "TPRs = []\n",
    "TNRs = []\n",
    "Ps = []\n",
    "NPVs = []\n",
    "Fs = []\n",
    "As = []\n",
    "aucs = []\n",
    "\n",
    "kfold = KFold(5, shuffle=True, random_state=1)\n",
    "\n",
    "X = df[model_data[\"keep\"]]\n",
    "y = app_train.loc[bureau.index][\"TARGET\"]\n",
    "x = X\n",
    "\n",
    "for ID_TRAIN, ID_TEST in kfold.split(x):\n",
    "    \n",
    "    x_train = x.iloc[ID_TRAIN]\n",
    "    y_train = y.iloc[ID_TRAIN]\n",
    "    x_test = x.iloc[ID_TEST]\n",
    "    y_test = y.iloc[ID_TEST]\n",
    "    \n",
    "    model.fit(x_train, y_train)\n",
    "    (tn,fp),(fn,tp)=confusion_matrix(y_test, model.predict(x_test))\n",
    "    \n",
    "    # TPR\n",
    "    TPR = R = tp/(tp+fn)\n",
    "    # TNR\n",
    "    TNR = tn/(tn+fp)\n",
    "    # Precision\n",
    "    P = tp/(tp+fp)\n",
    "    # NPV\n",
    "    NPV = tn/(tn+fn)\n",
    "    # F-Score\n",
    "    F = 2*P*R/(P+R)\n",
    "    # Accuracy\n",
    "    A = (tp+tn)/(tp+tn+fp+fn)\n",
    "    # AUC\n",
    "    auc = roc_auc_score(y_test, model.predict_proba(x_test)[:,1])\n",
    "    \n",
    "    TPRs.append(TPR)\n",
    "    TNRs.append(TNR)\n",
    "    Ps.append(P)\n",
    "    NPVs.append(NPV)\n",
    "    Fs.append(F)\n",
    "    As.append(A)\n",
    "    aucs.append(auc)\n",
    "    \n",
    "    print('TPR: %.4f' % TPR, 'TNR: %.4f' % TNR, 'P: %.4f' % P, 'NPV: %.4f' % NPV, 'F: %.4f' % F, 'Accuracy: %.4f' % A, 'AUC: %.4f' % auc)\n",
    "\n",
    "print(\"\\n\")\n",
    "print(\"Durchschnitte:\")\n",
    "print('TPR: %.4f' % np.mean(TPRs), 'TNR: %.4f' % np.mean(TNRs), 'P: %.4f' % np.mean(Ps), 'NPV: %.4f' % np.mean(NPVs), 'F: %.4f' % np.mean(Fs), 'Accuracy: %.4f' % np.mean(As), 'AUC: %.4f' % np.mean(aucs))"
   ]
  }
 ],
 "metadata": {
  "kernelspec": {
   "display_name": "Python 3",
   "language": "python",
   "name": "python3"
  },
  "language_info": {
   "codemirror_mode": {
    "name": "ipython",
    "version": 3
   },
   "file_extension": ".py",
   "mimetype": "text/x-python",
   "name": "python",
   "nbconvert_exporter": "python",
   "pygments_lexer": "ipython3",
   "version": "3.8.6"
  }
 },
 "nbformat": 4,
 "nbformat_minor": 4
}
