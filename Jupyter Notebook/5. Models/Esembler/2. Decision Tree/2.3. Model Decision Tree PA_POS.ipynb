{
 "cells": [
  {
   "cell_type": "code",
   "execution_count": 1,
   "metadata": {},
   "outputs": [],
   "source": [
    "from pathlib import Path\n",
    "from sklearn.tree import DecisionTreeClassifier\n",
    "from sklearn.model_selection import train_test_split\n",
    "from sklearn.metrics import roc_curve, roc_auc_score\n",
    "\n",
    "from sklearn.model_selection import KFold\n",
    "from sklearn.metrics import plot_roc_curve\n",
    "from sklearn.metrics import auc\n",
    "\n",
    "import matplotlib.pyplot as plt\n",
    "import pandas as pd\n",
    "import numpy as np\n",
    "\n",
    "np.set_printoptions(suppress=True)\n",
    "\n",
    "pd.options.display.max_columns = None\n",
    "pd.options.display.max_rows = None\n",
    "pd.options.display.max_colwidth = None\n",
    "\n",
    "from IPython.display import clear_output\n",
    "\n",
    "import json\n"
   ]
  },
  {
   "cell_type": "code",
   "execution_count": 2,
   "metadata": {},
   "outputs": [],
   "source": [
    "MODEL_FILE = \"2.3. Esembler_DecisionTree_PA_POS.json\""
   ]
  },
  {
   "cell_type": "code",
   "execution_count": 3,
   "metadata": {},
   "outputs": [],
   "source": [
    "# Entscheidungsbaum\n",
    "TREE_PARAMS = {\n",
    "    \"random_state\" : 0,\n",
    "    \"max_depth\": 7,\n",
    "}"
   ]
  },
  {
   "cell_type": "code",
   "execution_count": 4,
   "metadata": {},
   "outputs": [],
   "source": [
    "path1 = Path(r\"A:\\Workspace\\Python\\Masterarbeit\\Kaggle Home Credit Datensatz\")\n",
    "path2 = Path(r\"C:\\Users\\rober\\Documents\\Workspace\\Python\\Masterarbeit\\Kaggle Home Credit Datensatz\")\n",
    "\n",
    "if path1.is_dir():\n",
    "    DATASET_DIR = path1\n",
    "else:\n",
    "    DATASET_DIR = path2"
   ]
  },
  {
   "cell_type": "code",
   "execution_count": 5,
   "metadata": {},
   "outputs": [],
   "source": [
    "# Check if Models exists"
   ]
  },
  {
   "cell_type": "code",
   "execution_count": 6,
   "metadata": {},
   "outputs": [],
   "source": [
    "model_path = DATASET_DIR / \"Models\" / MODEL_FILE\n",
    "MODEL_EXIST = model_path.is_file()"
   ]
  },
  {
   "cell_type": "code",
   "execution_count": 7,
   "metadata": {},
   "outputs": [],
   "source": [
    "# Daten"
   ]
  },
  {
   "cell_type": "code",
   "execution_count": 8,
   "metadata": {},
   "outputs": [],
   "source": [
    "app_train = pd.read_csv(DATASET_DIR / \"4. FillNA\" / \"application.csv\")\n",
    "pa_pos = pd.read_csv(DATASET_DIR / \"4. FillNA\" / \"pa_pos.csv\")\n",
    "app_train = app_train.set_index(\"SK_ID_CURR\")\n",
    "pa_pos = pa_pos.set_index(\"SK_ID_CURR\")"
   ]
  },
  {
   "cell_type": "code",
   "execution_count": 9,
   "metadata": {},
   "outputs": [
    {
     "data": {
      "text/html": [
       "<div>\n",
       "<style scoped>\n",
       "    .dataframe tbody tr th:only-of-type {\n",
       "        vertical-align: middle;\n",
       "    }\n",
       "\n",
       "    .dataframe tbody tr th {\n",
       "        vertical-align: top;\n",
       "    }\n",
       "\n",
       "    .dataframe thead th {\n",
       "        text-align: right;\n",
       "    }\n",
       "</style>\n",
       "<table border=\"1\" class=\"dataframe\">\n",
       "  <thead>\n",
       "    <tr style=\"text-align: right;\">\n",
       "      <th></th>\n",
       "      <th>PA_CNT_CREDITS</th>\n",
       "      <th>PA_POS_CNT_PAYMENTS_LEFT</th>\n",
       "      <th>PA_POS_CNT_DPD</th>\n",
       "      <th>PA_AMT_ANNUITY</th>\n",
       "      <th>PA_AMT_APPLICATION</th>\n",
       "      <th>PA_AMT_CREDIT</th>\n",
       "      <th>PA_AMT_DOWN_PAYMENT</th>\n",
       "      <th>PA_AMT_GOODS_PRICE</th>\n",
       "      <th>PA_RATE_DOWN_PAYMENT</th>\n",
       "      <th>PA_CNT_NAME_CONTRACT_TYPE_Revolving loans</th>\n",
       "      <th>PA_CNT_NAME_CONTRACT_STATUS_Refused</th>\n",
       "      <th>PA_CNT_CODE_REJECT_REASON_HC</th>\n",
       "      <th>PA_CNT_NAME_CLIENT_TYPE_New</th>\n",
       "      <th>PA_CNT_NAME_CLIENT_TYPE_Refreshed</th>\n",
       "      <th>PA_CNT_NAME_PORTFOLIO_Cards</th>\n",
       "      <th>PA_CNT_NAME_PRODUCT_TYPE_walk-in</th>\n",
       "      <th>PA_CNT_NAME_YIELD_GROUP_high</th>\n",
       "      <th>PA_CNT_NAME_YIELD_GROUP_low_normal</th>\n",
       "      <th>PA_CNT_PRODUCT_COMBINATION_Card Street</th>\n",
       "      <th>PA_CNT_PRODUCT_COMBINATION_Cash X-Sell: low</th>\n",
       "      <th>PA_CNT_PRODUCT_COMBINATION_POS industry with interest</th>\n",
       "    </tr>\n",
       "    <tr>\n",
       "      <th>SK_ID_CURR</th>\n",
       "      <th></th>\n",
       "      <th></th>\n",
       "      <th></th>\n",
       "      <th></th>\n",
       "      <th></th>\n",
       "      <th></th>\n",
       "      <th></th>\n",
       "      <th></th>\n",
       "      <th></th>\n",
       "      <th></th>\n",
       "      <th></th>\n",
       "      <th></th>\n",
       "      <th></th>\n",
       "      <th></th>\n",
       "      <th></th>\n",
       "      <th></th>\n",
       "      <th></th>\n",
       "      <th></th>\n",
       "      <th></th>\n",
       "      <th></th>\n",
       "      <th></th>\n",
       "    </tr>\n",
       "  </thead>\n",
       "  <tbody>\n",
       "    <tr>\n",
       "      <th>158271</th>\n",
       "      <td>1.0</td>\n",
       "      <td>0.0</td>\n",
       "      <td>0.0</td>\n",
       "      <td>6404.310</td>\n",
       "      <td>58905.000</td>\n",
       "      <td>65124.0</td>\n",
       "      <td>0.000000</td>\n",
       "      <td>58905.000</td>\n",
       "      <td>0.000000</td>\n",
       "      <td>0.0</td>\n",
       "      <td>0.0</td>\n",
       "      <td>0.0</td>\n",
       "      <td>1.0</td>\n",
       "      <td>0.0</td>\n",
       "      <td>0.0</td>\n",
       "      <td>0.0</td>\n",
       "      <td>0.0</td>\n",
       "      <td>0.0</td>\n",
       "      <td>0.0</td>\n",
       "      <td>0.0</td>\n",
       "      <td>1.0</td>\n",
       "    </tr>\n",
       "    <tr>\n",
       "      <th>252457</th>\n",
       "      <td>1.0</td>\n",
       "      <td>9.0</td>\n",
       "      <td>0.0</td>\n",
       "      <td>4951.350</td>\n",
       "      <td>47056.275</td>\n",
       "      <td>52641.0</td>\n",
       "      <td>4.275000</td>\n",
       "      <td>47056.275</td>\n",
       "      <td>0.000088</td>\n",
       "      <td>1.0</td>\n",
       "      <td>0.0</td>\n",
       "      <td>0.0</td>\n",
       "      <td>0.0</td>\n",
       "      <td>2.0</td>\n",
       "      <td>1.0</td>\n",
       "      <td>1.0</td>\n",
       "      <td>0.0</td>\n",
       "      <td>0.0</td>\n",
       "      <td>1.0</td>\n",
       "      <td>0.0</td>\n",
       "      <td>0.0</td>\n",
       "    </tr>\n",
       "    <tr>\n",
       "      <th>260094</th>\n",
       "      <td>9.0</td>\n",
       "      <td>70.0</td>\n",
       "      <td>0.0</td>\n",
       "      <td>97839.945</td>\n",
       "      <td>2023469.370</td>\n",
       "      <td>2294779.5</td>\n",
       "      <td>8765.370000</td>\n",
       "      <td>2023469.370</td>\n",
       "      <td>0.312513</td>\n",
       "      <td>0.0</td>\n",
       "      <td>1.0</td>\n",
       "      <td>1.0</td>\n",
       "      <td>1.0</td>\n",
       "      <td>1.0</td>\n",
       "      <td>0.0</td>\n",
       "      <td>1.0</td>\n",
       "      <td>4.0</td>\n",
       "      <td>3.0</td>\n",
       "      <td>0.0</td>\n",
       "      <td>4.0</td>\n",
       "      <td>0.0</td>\n",
       "    </tr>\n",
       "    <tr>\n",
       "      <th>176456</th>\n",
       "      <td>1.0</td>\n",
       "      <td>0.0</td>\n",
       "      <td>0.0</td>\n",
       "      <td>14713.605</td>\n",
       "      <td>123486.075</td>\n",
       "      <td>120307.5</td>\n",
       "      <td>12349.575000</td>\n",
       "      <td>123486.075</td>\n",
       "      <td>0.101388</td>\n",
       "      <td>0.0</td>\n",
       "      <td>0.0</td>\n",
       "      <td>0.0</td>\n",
       "      <td>1.0</td>\n",
       "      <td>0.0</td>\n",
       "      <td>0.0</td>\n",
       "      <td>0.0</td>\n",
       "      <td>0.0</td>\n",
       "      <td>0.0</td>\n",
       "      <td>0.0</td>\n",
       "      <td>0.0</td>\n",
       "      <td>1.0</td>\n",
       "    </tr>\n",
       "    <tr>\n",
       "      <th>256657</th>\n",
       "      <td>3.0</td>\n",
       "      <td>28.0</td>\n",
       "      <td>0.0</td>\n",
       "      <td>60139.575</td>\n",
       "      <td>1115806.500</td>\n",
       "      <td>1277523.0</td>\n",
       "      <td>32418.242939</td>\n",
       "      <td>1115806.500</td>\n",
       "      <td>0.699443</td>\n",
       "      <td>2.0</td>\n",
       "      <td>7.0</td>\n",
       "      <td>5.0</td>\n",
       "      <td>1.0</td>\n",
       "      <td>0.0</td>\n",
       "      <td>2.0</td>\n",
       "      <td>5.0</td>\n",
       "      <td>0.0</td>\n",
       "      <td>2.0</td>\n",
       "      <td>1.0</td>\n",
       "      <td>0.0</td>\n",
       "      <td>0.0</td>\n",
       "    </tr>\n",
       "  </tbody>\n",
       "</table>\n",
       "</div>"
      ],
      "text/plain": [
       "            PA_CNT_CREDITS  PA_POS_CNT_PAYMENTS_LEFT  PA_POS_CNT_DPD  \\\n",
       "SK_ID_CURR                                                             \n",
       "158271                 1.0                       0.0             0.0   \n",
       "252457                 1.0                       9.0             0.0   \n",
       "260094                 9.0                      70.0             0.0   \n",
       "176456                 1.0                       0.0             0.0   \n",
       "256657                 3.0                      28.0             0.0   \n",
       "\n",
       "            PA_AMT_ANNUITY  PA_AMT_APPLICATION  PA_AMT_CREDIT  \\\n",
       "SK_ID_CURR                                                      \n",
       "158271            6404.310           58905.000        65124.0   \n",
       "252457            4951.350           47056.275        52641.0   \n",
       "260094           97839.945         2023469.370      2294779.5   \n",
       "176456           14713.605          123486.075       120307.5   \n",
       "256657           60139.575         1115806.500      1277523.0   \n",
       "\n",
       "            PA_AMT_DOWN_PAYMENT  PA_AMT_GOODS_PRICE  PA_RATE_DOWN_PAYMENT  \\\n",
       "SK_ID_CURR                                                                  \n",
       "158271                 0.000000           58905.000              0.000000   \n",
       "252457                 4.275000           47056.275              0.000088   \n",
       "260094              8765.370000         2023469.370              0.312513   \n",
       "176456             12349.575000          123486.075              0.101388   \n",
       "256657             32418.242939         1115806.500              0.699443   \n",
       "\n",
       "            PA_CNT_NAME_CONTRACT_TYPE_Revolving loans  \\\n",
       "SK_ID_CURR                                              \n",
       "158271                                            0.0   \n",
       "252457                                            1.0   \n",
       "260094                                            0.0   \n",
       "176456                                            0.0   \n",
       "256657                                            2.0   \n",
       "\n",
       "            PA_CNT_NAME_CONTRACT_STATUS_Refused  PA_CNT_CODE_REJECT_REASON_HC  \\\n",
       "SK_ID_CURR                                                                      \n",
       "158271                                      0.0                           0.0   \n",
       "252457                                      0.0                           0.0   \n",
       "260094                                      1.0                           1.0   \n",
       "176456                                      0.0                           0.0   \n",
       "256657                                      7.0                           5.0   \n",
       "\n",
       "            PA_CNT_NAME_CLIENT_TYPE_New  PA_CNT_NAME_CLIENT_TYPE_Refreshed  \\\n",
       "SK_ID_CURR                                                                   \n",
       "158271                              1.0                                0.0   \n",
       "252457                              0.0                                2.0   \n",
       "260094                              1.0                                1.0   \n",
       "176456                              1.0                                0.0   \n",
       "256657                              1.0                                0.0   \n",
       "\n",
       "            PA_CNT_NAME_PORTFOLIO_Cards  PA_CNT_NAME_PRODUCT_TYPE_walk-in  \\\n",
       "SK_ID_CURR                                                                  \n",
       "158271                              0.0                               0.0   \n",
       "252457                              1.0                               1.0   \n",
       "260094                              0.0                               1.0   \n",
       "176456                              0.0                               0.0   \n",
       "256657                              2.0                               5.0   \n",
       "\n",
       "            PA_CNT_NAME_YIELD_GROUP_high  PA_CNT_NAME_YIELD_GROUP_low_normal  \\\n",
       "SK_ID_CURR                                                                     \n",
       "158271                               0.0                                 0.0   \n",
       "252457                               0.0                                 0.0   \n",
       "260094                               4.0                                 3.0   \n",
       "176456                               0.0                                 0.0   \n",
       "256657                               0.0                                 2.0   \n",
       "\n",
       "            PA_CNT_PRODUCT_COMBINATION_Card Street  \\\n",
       "SK_ID_CURR                                           \n",
       "158271                                         0.0   \n",
       "252457                                         1.0   \n",
       "260094                                         0.0   \n",
       "176456                                         0.0   \n",
       "256657                                         1.0   \n",
       "\n",
       "            PA_CNT_PRODUCT_COMBINATION_Cash X-Sell: low  \\\n",
       "SK_ID_CURR                                                \n",
       "158271                                              0.0   \n",
       "252457                                              0.0   \n",
       "260094                                              4.0   \n",
       "176456                                              0.0   \n",
       "256657                                              0.0   \n",
       "\n",
       "            PA_CNT_PRODUCT_COMBINATION_POS industry with interest  \n",
       "SK_ID_CURR                                                         \n",
       "158271                                                        1.0  \n",
       "252457                                                        0.0  \n",
       "260094                                                        0.0  \n",
       "176456                                                        1.0  \n",
       "256657                                                        0.0  "
      ]
     },
     "execution_count": 9,
     "metadata": {},
     "output_type": "execute_result"
    }
   ],
   "source": [
    "pa_pos.head()"
   ]
  },
  {
   "cell_type": "code",
   "execution_count": 10,
   "metadata": {},
   "outputs": [],
   "source": [
    "# Ermittlung Reihenfolge"
   ]
  },
  {
   "cell_type": "code",
   "execution_count": 11,
   "metadata": {},
   "outputs": [],
   "source": [
    "y = app_train.loc[pa_pos.index][\"TARGET\"]\n",
    "x = pa_pos"
   ]
  },
  {
   "cell_type": "code",
   "execution_count": 12,
   "metadata": {},
   "outputs": [
    {
     "name": "stdout",
     "output_type": "stream",
     "text": [
      "0.6139036754523461\n"
     ]
    }
   ],
   "source": [
    "if not MODEL_EXIST:\n",
    "    # unterteilt den trainingsdatensatz in trainings- und validierungsdatensätze\n",
    "    x_train, x_test, y_train, y_test = train_test_split(x, y, test_size=.5, random_state=0)\n",
    "\n",
    "    # logistisches Regressionsmodell\n",
    "    model = DecisionTreeClassifier(**TREE_PARAMS)\n",
    "    model.fit(x_train, y_train)\n",
    "\n",
    "    auc = roc_auc_score(y_test, model.predict_proba(x_test)[:,1])\n",
    "    fpr, tpr, threshold = roc_curve(y_test, model.predict_proba(x_test)[:,1])\n",
    "    print(auc)\n",
    "\n",
    "    # Koeffizienten der einzelnen Klassen\n",
    "    coef_dict = {}\n",
    "    for coef, feat in zip(model.feature_importances_, x.columns.values):\n",
    "        coef_dict[feat] = coef\n",
    "\n",
    "    # Feature Importance\n",
    "    d = dict(sorted(coef_dict.items(), key=lambda item: item[1], reverse=True))\n",
    "    order = list(d.keys())\n",
    "    \n",
    "    model_data = {\n",
    "    \"todo\" : order,\n",
    "    \"keep\" : [],\n",
    "    \"drop\" : [],\n",
    "    \"params\" : TREE_PARAMS,\n",
    "    \"auc\" : [],\n",
    "    \"p\" : [],\n",
    "    \"n\" : []\n",
    "    }\n",
    "    \n",
    "    auc_temp = 0.5"
   ]
  },
  {
   "cell_type": "code",
   "execution_count": 13,
   "metadata": {},
   "outputs": [],
   "source": [
    "if MODEL_EXIST:\n",
    "    with open(DATASET_DIR / \"Models\" / MODEL_FILE, 'r') as file:\n",
    "        model_data = json.load(file)\n",
    "    auc_temp = model_data[\"auc\"][-1]"
   ]
  },
  {
   "cell_type": "code",
   "execution_count": 14,
   "metadata": {},
   "outputs": [],
   "source": [
    "#Entscheidungsbaum Parameterbestimmung"
   ]
  },
  {
   "cell_type": "code",
   "execution_count": 15,
   "metadata": {},
   "outputs": [
    {
     "name": "stdout",
     "output_type": "stream",
     "text": [
      "auc: 0.6163, todo: 0, keep: 9, drop: 12\n"
     ]
    }
   ],
   "source": [
    "df = pa_pos\n",
    "\n",
    "print('auc: %s, todo: %s, keep: %s, drop: %s' % (round(auc_temp,4), len(model_data[\"todo\"]), len(model_data[\"keep\"]), len(model_data[\"drop\"])))\n",
    "todo = model_data[\"todo\"].copy()\n",
    "\n",
    "for head in todo:\n",
    "    \n",
    "    model_data[\"keep\"].append(head)\n",
    "    \n",
    "    X = df[model_data[\"keep\"]]\n",
    "    y = app_train.loc[pa_pos.index][\"TARGET\"]\n",
    "    x = X\n",
    "    \n",
    "    model = DecisionTreeClassifier(**TREE_PARAMS).fit(x, y)\n",
    "    \n",
    "    aucs = []\n",
    "\n",
    "    kfold = KFold(5, shuffle=True, random_state=1)\n",
    "\n",
    "    for train, test in kfold.split(x):\n",
    "        model.fit(x.iloc[train], y.iloc[train])\n",
    "        auc = roc_auc_score(y.iloc[test], model.predict_proba(x.iloc[test])[:,1])\n",
    "        aucs.append(auc)\n",
    "    \n",
    "    auc = np.mean(aucs)\n",
    "    n = len(X)\n",
    "    p = len(X.columns)\n",
    "    \n",
    "    if auc > auc_temp:\n",
    "        \n",
    "        model_data[\"auc\"].append(auc)\n",
    "        model_data[\"p\"].append(p)\n",
    "        model_data[\"n\"].append(n)\n",
    "        \n",
    "        auc_temp = auc\n",
    "        \n",
    "    else:\n",
    "        model_data[\"keep\"].remove(head)\n",
    "        model_data[\"drop\"].append(head)\n",
    "    \n",
    "    model_data[\"todo\"].remove(head)\n",
    "    \n",
    "    with open(DATASET_DIR / \"Models\" / MODEL_FILE, 'w') as file:\n",
    "        json.dump(model_data, file)\n",
    "        \n",
    "    clear_output(wait=True)\n",
    "    print('auc: %s, todo: %s, keep: %s, drop: %s' % (round(auc,4), len(model_data[\"todo\"]), len(model_data[\"keep\"]), len(model_data[\"drop\"])))"
   ]
  },
  {
   "cell_type": "code",
   "execution_count": 16,
   "metadata": {},
   "outputs": [
    {
     "name": "stdout",
     "output_type": "stream",
     "text": [
      "        auc  p       n\n",
      "8  0.617278  9  286967\n"
     ]
    },
    {
     "data": {
      "text/plain": [
       "<AxesSubplot:>"
      ]
     },
     "execution_count": 16,
     "metadata": {},
     "output_type": "execute_result"
    },
    {
     "data": {
      "image/png": "[encoded data removed]",
      "text/plain": [
       "<Figure size 432x288 with 1 Axes>"
      ]
     },
     "metadata": {
      "needs_background": "light"
     },
     "output_type": "display_data"
    }
   ],
   "source": [
    "data = {\n",
    "    \"auc\" : model_data[\"auc\"],\n",
    "    \"p\" : model_data[\"p\"],\n",
    "    \"n\" : model_data[\"n\"]\n",
    "}\n",
    "\n",
    "result = pd.DataFrame(data)\n",
    "\n",
    "print(result[result[\"auc\"] == result[\"auc\"].max()])\n",
    "result[\"auc\"].plot()"
   ]
  },
  {
   "cell_type": "code",
   "execution_count": 17,
   "metadata": {},
   "outputs": [
    {
     "data": {
      "text/plain": [
       "['PA_CNT_NAME_CONTRACT_STATUS_Refused',\n",
       " 'PA_AMT_ANNUITY',\n",
       " 'PA_POS_CNT_DPD',\n",
       " 'PA_AMT_DOWN_PAYMENT',\n",
       " 'PA_AMT_APPLICATION',\n",
       " 'PA_CNT_NAME_PRODUCT_TYPE_walk-in',\n",
       " 'PA_CNT_NAME_CLIENT_TYPE_New',\n",
       " 'PA_CNT_NAME_YIELD_GROUP_low_normal',\n",
       " 'PA_CNT_CODE_REJECT_REASON_HC']"
      ]
     },
     "execution_count": 17,
     "metadata": {},
     "output_type": "execute_result"
    }
   ],
   "source": [
    "model_data[\"keep\"]"
   ]
  },
  {
   "cell_type": "code",
   "execution_count": 18,
   "metadata": {},
   "outputs": [
    {
     "data": {
      "text/plain": [
       "['PA_AMT_CREDIT',\n",
       " 'PA_AMT_GOODS_PRICE',\n",
       " 'PA_CNT_NAME_YIELD_GROUP_high',\n",
       " 'PA_RATE_DOWN_PAYMENT',\n",
       " 'PA_POS_CNT_PAYMENTS_LEFT',\n",
       " 'PA_CNT_NAME_CONTRACT_TYPE_Revolving loans',\n",
       " 'PA_CNT_NAME_CLIENT_TYPE_Refreshed',\n",
       " 'PA_CNT_PRODUCT_COMBINATION_Card Street',\n",
       " 'PA_CNT_PRODUCT_COMBINATION_POS industry with interest',\n",
       " 'PA_CNT_CREDITS',\n",
       " 'PA_CNT_NAME_PORTFOLIO_Cards',\n",
       " 'PA_CNT_PRODUCT_COMBINATION_Cash X-Sell: low']"
      ]
     },
     "execution_count": 18,
     "metadata": {},
     "output_type": "execute_result"
    }
   ],
   "source": [
    "model_data[\"drop\"]"
   ]
  },
  {
   "cell_type": "code",
   "execution_count": 19,
   "metadata": {},
   "outputs": [
    {
     "name": "stdout",
     "output_type": "stream",
     "text": [
      "train: [     0      2      3 ... 286964 286965 286966], test: [     1      4      6 ... 286940 286944 286946], auc: 0.6182\n",
      "train: [     0      1      2 ... 286963 286964 286966], test: [     3     18     22 ... 286959 286961 286965], auc: 0.6131\n",
      "train: [     0      1      2 ... 286964 286965 286966], test: [     9     10     12 ... 286951 286958 286960], auc: 0.6136\n",
      "train: [     0      1      3 ... 286963 286964 286965], test: [     2     11     23 ... 286954 286957 286966], auc: 0.617\n",
      "train: [     1      2      3 ... 286961 286965 286966], test: [     0      5      7 ... 286962 286963 286964], auc: 0.6245\n",
      "\n",
      "\n",
      "Durchschnitt: 0.62\n",
      "Standardabw.: 0.00\n",
      "Varianz:      0.00\n"
     ]
    }
   ],
   "source": [
    "model = DecisionTreeClassifier(**TREE_PARAMS)\n",
    "\n",
    "aucs = []\n",
    "\n",
    "kfold = KFold(5, shuffle=True, random_state=1)\n",
    "\n",
    "X = df[model_data[\"keep\"]]\n",
    "y = app_train.loc[pa_pos.index][\"TARGET\"]\n",
    "x = X\n",
    "\n",
    "for train, test in kfold.split(x):\n",
    "    \n",
    "    model.fit(x.iloc[train], y.iloc[train])\n",
    "    auc = roc_auc_score(y.iloc[test], model.predict_proba(x.iloc[test])[:,1])\n",
    "    aucs.append(auc)\n",
    "    \n",
    "    print('train: %s, test: %s, auc: %s' % (train, test, round(auc,4)))\n",
    "\n",
    "print(\"\\n\")\n",
    "print(\"Durchschnitt: %.2f\" % (np.mean(aucs)))\n",
    "print(\"Standardabw.: %.2f\" % (np.std(aucs)))\n",
    "print(\"Varianz:      %.2f\" % (np.var(aucs)))"
   ]
  },
  {
   "cell_type": "code",
   "execution_count": null,
   "metadata": {},
   "outputs": [],
   "source": []
  }
 ],
 "metadata": {
  "kernelspec": {
   "display_name": "Python 3",
   "language": "python",
   "name": "python3"
  },
  "language_info": {
   "codemirror_mode": {
    "name": "ipython",
    "version": 3
   },
   "file_extension": ".py",
   "mimetype": "text/x-python",
   "name": "python",
   "nbconvert_exporter": "python",
   "pygments_lexer": "ipython3",
   "version": "3.8.7"
  }
 },
 "nbformat": 4,
 "nbformat_minor": 4
}
