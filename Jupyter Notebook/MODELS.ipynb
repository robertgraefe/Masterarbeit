{
 "cells": [
  {
   "cell_type": "code",
   "execution_count": 72,
   "metadata": {},
   "outputs": [],
   "source": [
    "from sklearn.linear_model import LogisticRegression\n",
    "from sklearn.tree import DecisionTreeClassifier\n",
    "from sklearn.ensemble import RandomForestClassifier\n",
    "\n",
    "from sklearn.metrics import roc_curve, roc_auc_score\n",
    "from IPython.display import display, clear_output\n",
    "from sklearn.model_selection import KFold"
   ]
  },
  {
   "cell_type": "code",
   "execution_count": 73,
   "metadata": {},
   "outputs": [],
   "source": [
    "# logistische Regression\n",
    "LOG_PARAMS = {\n",
    "    \"random_state\" : 0,\n",
    "    \"max_iter\" : 500\n",
    "}\n",
    "\n",
    "# Entscheidungsbaum\n",
    "TREE_PARAMS = {\n",
    "    \"random_state\" : 0,\n",
    "    \"max_depth\": 15\n",
    "}"
   ]
  },
  {
   "cell_type": "code",
   "execution_count": 85,
   "metadata": {},
   "outputs": [
    {
     "data": {
      "text/plain": [
       "31"
      ]
     },
     "execution_count": 85,
     "metadata": {},
     "output_type": "execute_result"
    }
   ],
   "source": [
    "len(m_heads + cats)"
   ]
  },
  {
   "cell_type": "markdown",
   "metadata": {},
   "source": [
    "# Logistische Regression"
   ]
  },
  {
   "cell_type": "code",
   "execution_count": 86,
   "metadata": {},
   "outputs": [
    {
     "name": "stdout",
     "output_type": "stream",
     "text": [
      "31 31 ['DAYS_EMPLOYED', 'EXT_SOURCE_1', 'EXT_SOURCE_2', 'EXT_SOURCE_3', 'YEARS_BEGINEXPLUATATION_AVG', 'TOTALAREA_MODE', 'OBS_30_CNT_SOCIAL_CIRCLE', 'DEF_30_CNT_SOCIAL_CIRCLE', 'AMT_REQ_CREDIT_BUREAU_HOUR', 'AMT_REQ_CREDIT_BUREAU_DAY', 'AMT_REQ_CREDIT_BUREAU_WEEK', 'AMT_REQ_CREDIT_BUREAU_MON', 'AMT_REQ_CREDIT_BUREAU_QRT', 'ORGANIZATION_TYPE', 'CODE_GENDER', 'NAME_EDUCATION_TYPE', 'REG_CITY_NOT_WORK_CITY', 'FLAG_DOCUMENT_3', 'NAME_INCOME_TYPE', 'FLAG_EMP_PHONE', 'OCCUPATION_TYPE', 'REGION_RATING_CLIENT_W_CITY', 'NAME_INCOME_TYPE', 'REGION_RATING_CLIENT']\n"
     ]
    }
   ],
   "source": [
    "data = {\n",
    "        \"auc\":[],\n",
    "        \"auc_adj\":[],\n",
    "        \"p\" : [],\n",
    "        \"n\": []\n",
    "       }\n",
    "\n",
    "auc_temp = 0\n",
    "heads_gain = []\n",
    "drop = []\n",
    "\n",
    "HEADS = m_heads + cats\n",
    "\n",
    "for index, h in enumerate(HEADS):\n",
    "    \n",
    "    heads_gain.append(h)\n",
    "    \n",
    "    X = df[heads_gain + [\"TARGET\"]]\n",
    "    X = X.fillna(0)\n",
    "    y = X[\"TARGET\"]\n",
    "    x = X.drop([\"TARGET\"], axis=1)\n",
    "    \n",
    "    model = LogisticRegression(**LOG_PARAMS).fit(x, y)\n",
    "    \n",
    "    n = len(X)\n",
    "    p = len(X.columns)\n",
    "    \n",
    "    aucs = []\n",
    "\n",
    "    kfold = KFold(5, shuffle=True, random_state=1)\n",
    "\n",
    "    # enumerate splits\n",
    "    for i, (train, test) in enumerate(kfold.split(x)):\n",
    "\n",
    "        model.fit(x.iloc[train], y.iloc[train])\n",
    "        auc = roc_auc_score(y.iloc[test], model.predict_proba(x.iloc[test])[:,1])\n",
    "        aucs.append(auc)\n",
    "    \n",
    "    auc = np.mean(aucs)\n",
    "    auc_adj = 1-(1-auc)*(n-1)/(n-p-1)\n",
    "    \n",
    "    if auc_adj > auc_temp:\n",
    "        \n",
    "        data[\"auc\"].append(auc)\n",
    "        data[\"auc_adj\"].append(auc_adj)\n",
    "        data[\"p\"].append(p)\n",
    "        data[\"n\"].append(n)\n",
    "        \n",
    "        auc_temp = auc_adj\n",
    "        \n",
    "    else:\n",
    "        heads_gain.remove(h)\n",
    "        drop.append(h)\n",
    "    \n",
    "    clear_output(wait=True)\n",
    "    print(index+1, len(HEADS), drop)"
   ]
  },
  {
   "cell_type": "code",
   "execution_count": 87,
   "metadata": {},
   "outputs": [],
   "source": [
    "result = pd.DataFrame(data)"
   ]
  },
  {
   "cell_type": "code",
   "execution_count": 88,
   "metadata": {},
   "outputs": [
    {
     "name": "stdout",
     "output_type": "stream",
     "text": [
      "        auc   auc_adj  p       n\n",
      "6  0.598004  0.597994  8  307511\n"
     ]
    },
    {
     "data": {
      "text/plain": [
       "<AxesSubplot:>"
      ]
     },
     "execution_count": 88,
     "metadata": {},
     "output_type": "execute_result"
    },
    {
     "data": {
      "image/png": "[encoded data removed]",
      "text/plain": [
       "<Figure size 432x288 with 1 Axes>"
      ]
     },
     "metadata": {
      "needs_background": "light"
     },
     "output_type": "display_data"
    }
   ],
   "source": [
    "print(result[result[\"auc_adj\"] == result[\"auc_adj\"].max()])\n",
    "result[\"auc_adj\"].plot()"
   ]
  },
  {
   "cell_type": "code",
   "execution_count": 89,
   "metadata": {},
   "outputs": [
    {
     "data": {
      "text/plain": [
       "['CNT_CHILDREN',\n",
       " 'AMT_INCOME_TOTAL',\n",
       " 'AMT_CREDIT',\n",
       " 'REGION_POPULATION_RELATIVE',\n",
       " 'DAYS_BIRTH',\n",
       " 'DAYS_REGISTRATION',\n",
       " 'DAYS_ID_PUBLISH']"
      ]
     },
     "execution_count": 89,
     "metadata": {},
     "output_type": "execute_result"
    }
   ],
   "source": [
    "heads_gain"
   ]
  },
  {
   "cell_type": "code",
   "execution_count": 90,
   "metadata": {},
   "outputs": [
    {
     "name": "stdout",
     "output_type": "stream",
     "text": [
      "train: [     0      2      3 ... 307508 307509 307510], test: [     1      4      6 ... 307493 307495 307501], auc: 0.6010034451842217\n",
      "train: [     0      1      2 ... 307508 307509 307510], test: [     3     18     22 ... 307499 307503 307504], auc: 0.598063344366264\n",
      "train: [     0      1      2 ... 307508 307509 307510], test: [     9     10     15 ... 307489 307492 307502], auc: 0.5939943194573152\n",
      "train: [     0      1      2 ... 307506 307507 307508], test: [    12     16     23 ... 307505 307509 307510], auc: 0.6002542900007468\n",
      "train: [     1      3      4 ... 307505 307509 307510], test: [     0      2      5 ... 307506 307507 307508], auc: 0.5967044309334815\n",
      "\n",
      "\n",
      "Durchschnitt: 0.60\n",
      "Standardabw.: 0.00\n",
      "Varianz:      0.00\n"
     ]
    }
   ],
   "source": [
    "model = LogisticRegression(**LOG_PARAMS)\n",
    "\n",
    "aucs = []\n",
    "\n",
    "kfold = KFold(5, shuffle=True, random_state=1)\n",
    "data = df[heads_gain]\n",
    "\n",
    "# enumerate splits\n",
    "for i, (train, test) in enumerate(kfold.split(data)):\n",
    "    \n",
    "    model.fit(x.iloc[train], y.iloc[train])\n",
    "    auc = roc_auc_score(y.iloc[test], model.predict_proba(x.iloc[test])[:,1])\n",
    "    aucs.append(auc)\n",
    "    \n",
    "    print('train: %s, test: %s, auc: %s' % (train, test, auc))\n",
    "\n",
    "print(\"\\n\")\n",
    "print(\"Durchschnitt: %.2f\" % (np.mean(aucs)))\n",
    "print(\"Standardabw.: %.2f\" % (np.std(aucs)))\n",
    "print(\"Varianz:      %.2f\" % (np.var(aucs)))"
   ]
  },
  {
   "cell_type": "markdown",
   "metadata": {},
   "source": [
    "# Entscheidungsbaum"
   ]
  },
  {
   "cell_type": "code",
   "execution_count": 91,
   "metadata": {},
   "outputs": [
    {
     "name": "stdout",
     "output_type": "stream",
     "text": [
      "31 31 ['REGION_POPULATION_RELATIVE', 'DAYS_REGISTRATION', 'DAYS_ID_PUBLISH', 'YEARS_BEGINEXPLUATATION_AVG', 'OBS_30_CNT_SOCIAL_CIRCLE', 'AMT_REQ_CREDIT_BUREAU_DAY', 'ORGANIZATION_TYPE', 'CODE_GENDER', 'FLAG_DOCUMENT_3', 'NAME_INCOME_TYPE', 'FLAG_EMP_PHONE', 'OCCUPATION_TYPE', 'REGION_RATING_CLIENT_W_CITY', 'NAME_INCOME_TYPE']\n"
     ]
    }
   ],
   "source": [
    "data = {\n",
    "        \"auc\":[],\n",
    "        \"auc_adj\":[],\n",
    "        \"p\" : [],\n",
    "        \"n\": []\n",
    "       }\n",
    "\n",
    "auc_temp = 0\n",
    "heads_gain = []\n",
    "drop = []\n",
    "\n",
    "HEADS = m_heads + cats\n",
    "\n",
    "for index, h in enumerate(HEADS):\n",
    "    \n",
    "    heads_gain.append(h)\n",
    "    \n",
    "    X = df[heads_gain + [\"TARGET\"]]\n",
    "    X = X.fillna(0)\n",
    "    y = X[\"TARGET\"]\n",
    "    x = X.drop([\"TARGET\"], axis=1)\n",
    "    \n",
    "    model = DecisionTreeClassifier(**TREE_PARAMS).fit(x,y)\n",
    "    \n",
    "    n = len(X)\n",
    "    p = len(X.columns)\n",
    "    \n",
    "    aucs = []\n",
    "\n",
    "    kfold = KFold(5, shuffle=True, random_state=1)\n",
    "\n",
    "    # enumerate splits\n",
    "    for i, (train, test) in enumerate(kfold.split(x)):\n",
    "\n",
    "        model.fit(x.iloc[train], y.iloc[train])\n",
    "        auc = roc_auc_score(y.iloc[test], model.predict_proba(x.iloc[test])[:,1])\n",
    "        aucs.append(auc)\n",
    "    \n",
    "    auc = np.mean(aucs)\n",
    "    auc_adj = 1-(1-auc)*(n-1)/(n-p-1)\n",
    "    \n",
    "    if auc_adj > auc_temp:\n",
    "        \n",
    "        data[\"auc\"].append(auc)\n",
    "        data[\"auc_adj\"].append(auc_adj)\n",
    "        data[\"p\"].append(p)\n",
    "        data[\"n\"].append(n)\n",
    "        \n",
    "        auc_temp = auc_adj\n",
    "        \n",
    "    else:\n",
    "        heads_gain.remove(h)\n",
    "        drop.append(h)\n",
    "    \n",
    "    clear_output(wait=True)\n",
    "    print(index+1, len(HEADS), drop)"
   ]
  },
  {
   "cell_type": "code",
   "execution_count": 92,
   "metadata": {},
   "outputs": [],
   "source": [
    "result = pd.DataFrame(data)"
   ]
  },
  {
   "cell_type": "code",
   "execution_count": 93,
   "metadata": {},
   "outputs": [
    {
     "name": "stdout",
     "output_type": "stream",
     "text": [
      "         auc   auc_adj   p       n\n",
      "16  0.662348  0.662328  18  307511\n"
     ]
    },
    {
     "data": {
      "text/plain": [
       "<AxesSubplot:>"
      ]
     },
     "execution_count": 93,
     "metadata": {},
     "output_type": "execute_result"
    },
    {
     "data": {
      "image/png": "[encoded data removed]",
      "text/plain": [
       "<Figure size 432x288 with 1 Axes>"
      ]
     },
     "metadata": {
      "needs_background": "light"
     },
     "output_type": "display_data"
    }
   ],
   "source": [
    "print(result[result[\"auc_adj\"] == result[\"auc_adj\"].max()])\n",
    "result[\"auc_adj\"].plot()"
   ]
  },
  {
   "cell_type": "code",
   "execution_count": 94,
   "metadata": {},
   "outputs": [
    {
     "data": {
      "text/plain": [
       "['CNT_CHILDREN',\n",
       " 'AMT_INCOME_TOTAL',\n",
       " 'AMT_CREDIT',\n",
       " 'DAYS_BIRTH',\n",
       " 'DAYS_EMPLOYED',\n",
       " 'EXT_SOURCE_1',\n",
       " 'EXT_SOURCE_2',\n",
       " 'EXT_SOURCE_3',\n",
       " 'TOTALAREA_MODE',\n",
       " 'DEF_30_CNT_SOCIAL_CIRCLE',\n",
       " 'AMT_REQ_CREDIT_BUREAU_HOUR',\n",
       " 'AMT_REQ_CREDIT_BUREAU_WEEK',\n",
       " 'AMT_REQ_CREDIT_BUREAU_MON',\n",
       " 'AMT_REQ_CREDIT_BUREAU_QRT',\n",
       " 'NAME_EDUCATION_TYPE',\n",
       " 'REG_CITY_NOT_WORK_CITY',\n",
       " 'REGION_RATING_CLIENT']"
      ]
     },
     "execution_count": 94,
     "metadata": {},
     "output_type": "execute_result"
    }
   ],
   "source": [
    "heads_gain"
   ]
  },
  {
   "cell_type": "code",
   "execution_count": 95,
   "metadata": {},
   "outputs": [
    {
     "name": "stdout",
     "output_type": "stream",
     "text": [
      "train: [     0      2      3 ... 307508 307509 307510], test: [     1      4      6 ... 307493 307495 307501], auc: 0.6646387941502871\n",
      "train: [     0      1      2 ... 307508 307509 307510], test: [     3     18     22 ... 307499 307503 307504], auc: 0.6632594225096033\n",
      "train: [     0      1      2 ... 307508 307509 307510], test: [     9     10     15 ... 307489 307492 307502], auc: 0.6600518329992778\n",
      "train: [     0      1      2 ... 307506 307507 307508], test: [    12     16     23 ... 307505 307509 307510], auc: 0.6571787847105486\n",
      "train: [     1      3      4 ... 307505 307509 307510], test: [     0      2      5 ... 307506 307507 307508], auc: 0.6666119720568393\n",
      "\n",
      "\n",
      "Durchschnitt: 0.66\n",
      "Standardabw.: 0.00\n",
      "Varianz:      0.00\n"
     ]
    }
   ],
   "source": [
    "model = DecisionTreeClassifier(**TREE_PARAMS)\n",
    "\n",
    "\n",
    "aucs = []\n",
    "\n",
    "kfold = KFold(5, shuffle=True, random_state=1)\n",
    "data = df[heads_gain]\n",
    "\n",
    "# enumerate splits\n",
    "for i, (train, test) in enumerate(kfold.split(data)):\n",
    "    \n",
    "    model.fit(x.iloc[train], y.iloc[train])\n",
    "    auc = roc_auc_score(y.iloc[test], model.predict_proba(x.iloc[test])[:,1])\n",
    "    aucs.append(auc)\n",
    "    \n",
    "    print('train: %s, test: %s, auc: %s' % (train, test, auc))\n",
    "\n",
    "print(\"\\n\")\n",
    "print(\"Durchschnitt: %.2f\" % (np.mean(aucs)))\n",
    "print(\"Standardabw.: %.2f\" % (np.std(aucs)))\n",
    "print(\"Varianz:      %.2f\" % (np.var(aucs)))"
   ]
  },
  {
   "cell_type": "markdown",
   "metadata": {},
   "source": [
    "# Random Forest"
   ]
  },
  {
   "cell_type": "code",
   "execution_count": null,
   "metadata": {},
   "outputs": [],
   "source": [
    "data = {\n",
    "        \"auc\":[],\n",
    "        \"auc_adj\":[],\n",
    "        \"p\" : [],\n",
    "        \"n\": []\n",
    "       }\n",
    "\n",
    "auc_temp = 0\n",
    "heads_gain = []\n",
    "drop = []\n",
    "HEADS = m_heads + cats\n",
    "\n",
    "for index, h in enumerate(HEADS):\n",
    "    \n",
    "    heads_gain.append(h)\n",
    "    \n",
    "    X = df[heads_gain + [\"TARGET\"]]\n",
    "    y = X[\"TARGET\"]\n",
    "    x = X.drop([\"TARGET\"], axis=1)\n",
    "    \n",
    "    model = RandomForestClassifier(**TREE_PARAMS).fit(x,y)\n",
    "    \n",
    "    n = len(X)\n",
    "    p = len(X.columns)\n",
    "    \n",
    "    aucs = []\n",
    "\n",
    "    kfold = KFold(5, shuffle=True, random_state=1)\n",
    "\n",
    "    # enumerate splits\n",
    "    for i, (train, test) in enumerate(kfold.split(x)):\n",
    "\n",
    "        model.fit(x.iloc[train], y.iloc[train])\n",
    "        auc = roc_auc_score(y.iloc[test], model.predict_proba(x.iloc[test])[:,1])\n",
    "        aucs.append(auc)\n",
    "    \n",
    "    auc = np.mean(aucs)\n",
    "    auc_adj = 1-(1-auc)*(n-1)/(n-p-1)\n",
    "    \n",
    "    if auc_adj > auc_temp:\n",
    "        \n",
    "        data[\"auc\"].append(auc)\n",
    "        data[\"auc_adj\"].append(auc_adj)\n",
    "        data[\"p\"].append(p)\n",
    "        data[\"n\"].append(n)\n",
    "        \n",
    "        auc_temp = auc_adj\n",
    "        \n",
    "    else:\n",
    "        heads_gain.remove(h)\n",
    "        drop.append(h)\n",
    "    \n",
    "    clear_output(wait=True)\n",
    "    print(index+1, len(HEADS), drop)"
   ]
  },
  {
   "cell_type": "code",
   "execution_count": null,
   "metadata": {},
   "outputs": [],
   "source": [
    "result = pd.DataFrame(data)"
   ]
  },
  {
   "cell_type": "code",
   "execution_count": null,
   "metadata": {},
   "outputs": [],
   "source": [
    "print(result[result[\"auc_adj\"] == result[\"auc_adj\"].max()])\n",
    "result[\"auc_adj\"].plot()"
   ]
  },
  {
   "cell_type": "code",
   "execution_count": null,
   "metadata": {},
   "outputs": [],
   "source": [
    "heads_gain"
   ]
  },
  {
   "cell_type": "code",
   "execution_count": null,
   "metadata": {},
   "outputs": [],
   "source": [
    "model = RandomForestClassifier(**TREE_PARAMS)\n",
    "\n",
    "aucs = []\n",
    "\n",
    "kfold = KFold(5, shuffle=True, random_state=1)\n",
    "data = df[heads_gain]\n",
    "\n",
    "# enumerate splits\n",
    "for i, (train, test) in enumerate(kfold.split(data)):\n",
    "    \n",
    "    model.fit(x.iloc[train], y.iloc[train])\n",
    "    auc = roc_auc_score(y.iloc[test], model.predict_proba(x.iloc[test])[:,1])\n",
    "    aucs.append(auc)\n",
    "    \n",
    "    print('train: %s, test: %s, auc: %s' % (train, test, auc))\n",
    "\n",
    "print(\"\\n\")\n",
    "print(\"Durchschnitt: %.2f\" % (np.mean(aucs)))\n",
    "print(\"Standardabw.: %.2f\" % (np.std(aucs)))\n",
    "print(\"Varianz:      %.2f\" % (np.var(aucs)))"
   ]
  }
 ],
 "metadata": {
  "kernelspec": {
   "display_name": "Python 3",
   "language": "python",
   "name": "python3"
  },
  "language_info": {
   "codemirror_mode": {
    "name": "ipython",
    "version": 3
   },
   "file_extension": ".py",
   "mimetype": "text/x-python",
   "name": "python",
   "nbconvert_exporter": "python",
   "pygments_lexer": "ipython3",
   "version": "3.8.7"
  }
 },
 "nbformat": 4,
 "nbformat_minor": 4
}
