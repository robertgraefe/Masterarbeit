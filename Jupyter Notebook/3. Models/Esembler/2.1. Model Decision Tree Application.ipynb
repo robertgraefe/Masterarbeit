{
 "cells": [
  {
   "cell_type": "code",
   "execution_count": null,
   "metadata": {},
   "outputs": [],
   "source": [
    "from pathlib import Path\n",
    "from sklearn.tree import DecisionTreeClassifier\n",
    "from sklearn.model_selection import train_test_split\n",
    "from sklearn.metrics import roc_curve, roc_auc_score\n",
    "\n",
    "from sklearn.model_selection import KFold\n",
    "from sklearn.metrics import plot_roc_curve\n",
    "from sklearn.metrics import auc\n",
    "\n",
    "import matplotlib.pyplot as plt\n",
    "import pandas as pd\n",
    "import numpy as np\n",
    "\n",
    "np.set_printoptions(suppress=True)\n",
    "\n",
    "pd.options.display.max_columns = None\n",
    "pd.options.display.max_rows = None\n",
    "pd.options.display.max_colwidth = None\n",
    "\n",
    "from IPython.display import clear_output\n",
    "\n",
    "import json\n"
   ]
  },
  {
   "cell_type": "code",
   "execution_count": null,
   "metadata": {},
   "outputs": [],
   "source": [
    "MODEL_FILE = \"2.1. Esembler_DecisionTree_Application.json\""
   ]
  },
  {
   "cell_type": "code",
   "execution_count": null,
   "metadata": {},
   "outputs": [],
   "source": [
    "# Entscheidungsbaum\n",
    "TREE_PARAMS = {\n",
    "    \"random_state\" : 0,\n",
    "    \"max_depth\": 7,\n",
    "}"
   ]
  },
  {
   "cell_type": "code",
   "execution_count": null,
   "metadata": {},
   "outputs": [],
   "source": [
    "path1 = Path(r\"A:\\Workspace\\Python\\Masterarbeit\\Kaggle Home Credit Datensatz\")\n",
    "path2 = Path(r\"C:\\Users\\rober\\Documents\\Workspace\\Python\\Masterarbeit\\Kaggle Home Credit Datensatz\")\n",
    "\n",
    "if path1.is_dir():\n",
    "    DATASET_DIR = path1\n",
    "else:\n",
    "    DATASET_DIR = path2"
   ]
  },
  {
   "cell_type": "code",
   "execution_count": null,
   "metadata": {},
   "outputs": [],
   "source": [
    "# Check if Models exists"
   ]
  },
  {
   "cell_type": "code",
   "execution_count": null,
   "metadata": {},
   "outputs": [],
   "source": [
    "model_path = DATASET_DIR / \"Models\" / MODEL_FILE\n",
    "MODEL_EXIST = model_path.is_file()"
   ]
  },
  {
   "cell_type": "code",
   "execution_count": null,
   "metadata": {},
   "outputs": [],
   "source": [
    "# Daten"
   ]
  },
  {
   "cell_type": "code",
   "execution_count": null,
   "metadata": {},
   "outputs": [],
   "source": [
    "app_train = pd.read_csv(DATASET_DIR / \"4. FillNA\" / \"application.csv\")\n",
    "app_train = app_train.set_index(\"SK_ID_CURR\")"
   ]
  },
  {
   "cell_type": "code",
   "execution_count": null,
   "metadata": {},
   "outputs": [],
   "source": [
    "app_train.head()"
   ]
  },
  {
   "cell_type": "code",
   "execution_count": null,
   "metadata": {},
   "outputs": [],
   "source": [
    "# Ermittlung Reihenfolge"
   ]
  },
  {
   "cell_type": "code",
   "execution_count": null,
   "metadata": {},
   "outputs": [],
   "source": [
    "target = pd.read_csv(DATASET_DIR / \"4. FillNA\" / \"target.csv\")\n",
    "target = target.set_index(\"SK_ID_CURR\")"
   ]
  },
  {
   "cell_type": "code",
   "execution_count": null,
   "metadata": {},
   "outputs": [],
   "source": [
    "y = target\n",
    "x = app_train.drop([\"TARGET\"], axis=1)"
   ]
  },
  {
   "cell_type": "code",
   "execution_count": null,
   "metadata": {},
   "outputs": [],
   "source": [
    "if not MODEL_EXIST:\n",
    "    # unterteilt den trainingsdatensatz in trainings- und validierungsdatensätze\n",
    "    x_train, x_test, y_train, y_test = train_test_split(x, y, test_size=.5, random_state=0)\n",
    "\n",
    "    # logistisches Regressionsmodell\n",
    "    model = DecisionTreeClassifier(**TREE_PARAMS)\n",
    "    model.fit(x_train, y_train)\n",
    "\n",
    "    auc = roc_auc_score(y_test, model.predict_proba(x_test)[:,1])\n",
    "    fpr, tpr, threshold = roc_curve(y_test, model.predict_proba(x_test)[:,1])\n",
    "    print(auc)\n",
    "\n",
    "    # Koeffizienten der einzelnen Klassen\n",
    "    coef_dict = {}\n",
    "    for coef, feat in zip(model.feature_importances_, x.columns.values):\n",
    "        coef_dict[feat] = coef\n",
    "\n",
    "    # Feature Importance\n",
    "    d = dict(sorted(coef_dict.items(), key=lambda item: item[1], reverse=True))\n",
    "    order = list(d.keys())\n",
    "    \n",
    "    model_data = {\n",
    "    \"todo\" : order,\n",
    "    \"keep\" : [],\n",
    "    \"drop\" : [],\n",
    "    \"params\" : TREE_PARAMS,\n",
    "    \"auc\" : [],\n",
    "    \"p\" : [],\n",
    "    \"n\" : []\n",
    "    }\n",
    "    \n",
    "    auc_temp = 0.5"
   ]
  },
  {
   "cell_type": "code",
   "execution_count": null,
   "metadata": {},
   "outputs": [],
   "source": [
    "if MODEL_EXIST:\n",
    "    with open(DATASET_DIR / \"Models\" / MODEL_FILE, 'r') as file:\n",
    "        model_data = json.load(file)\n",
    "    auc_temp = model_data[\"auc\"][-1]"
   ]
  },
  {
   "cell_type": "code",
   "execution_count": null,
   "metadata": {},
   "outputs": [],
   "source": [
    "#Entscheidungsbaum Parameterbestimmung"
   ]
  },
  {
   "cell_type": "code",
   "execution_count": null,
   "metadata": {},
   "outputs": [],
   "source": [
    "df = app_train\n",
    "\n",
    "print('auc: %s, todo: %s, keep: %s, drop: %s' % (round(auc_temp,4), len(model_data[\"todo\"]), len(model_data[\"keep\"]), len(model_data[\"drop\"])))\n",
    "todo = model_data[\"todo\"].copy()\n",
    "\n",
    "for head in todo:\n",
    "    \n",
    "    model_data[\"keep\"].append(head)\n",
    "    \n",
    "    X = df[model_data[\"keep\"] + [\"TARGET\"]]\n",
    "    y = X[\"TARGET\"]\n",
    "    x = X.drop([\"TARGET\"], axis=1)\n",
    "    \n",
    "    model = DecisionTreeClassifier(**TREE_PARAMS).fit(x, y)\n",
    "    \n",
    "    aucs = []\n",
    "\n",
    "    kfold = KFold(5, shuffle=True, random_state=1)\n",
    "\n",
    "    for train, test in kfold.split(x):\n",
    "        model.fit(x.iloc[train], y.iloc[train])\n",
    "        auc = roc_auc_score(y.iloc[test], model.predict_proba(x.iloc[test])[:,1])\n",
    "        aucs.append(auc)\n",
    "    \n",
    "    auc = np.mean(aucs)\n",
    "    n = len(X)\n",
    "    p = len(X.columns) - 1\n",
    "    \n",
    "    if auc > auc_temp:\n",
    "        \n",
    "        model_data[\"auc\"].append(auc)\n",
    "        model_data[\"p\"].append(p)\n",
    "        model_data[\"n\"].append(n)\n",
    "        \n",
    "        auc_temp = auc\n",
    "        \n",
    "    else:\n",
    "        model_data[\"keep\"].remove(head)\n",
    "        model_data[\"drop\"].append(head)\n",
    "    \n",
    "    model_data[\"todo\"].remove(head)\n",
    "    \n",
    "    with open(DATASET_DIR / \"Models\" / MODEL_FILE, 'w') as file:\n",
    "        json.dump(model_data, file)\n",
    "        \n",
    "    clear_output(wait=True)\n",
    "    print('auc: %s, todo: %s, keep: %s, drop: %s' % (round(auc,4), len(model_data[\"todo\"]), len(model_data[\"keep\"]), len(model_data[\"drop\"])))"
   ]
  },
  {
   "cell_type": "code",
   "execution_count": null,
   "metadata": {},
   "outputs": [],
   "source": [
    "data = {\n",
    "    \"auc\" : model_data[\"auc\"],\n",
    "    \"p\" : model_data[\"p\"],\n",
    "    \"n\" : model_data[\"n\"]\n",
    "}\n",
    "\n",
    "result = pd.DataFrame(data)\n",
    "\n",
    "print(result[result[\"auc\"] == result[\"auc\"].max()])\n",
    "result[\"auc\"].plot()"
   ]
  },
  {
   "cell_type": "code",
   "execution_count": null,
   "metadata": {},
   "outputs": [],
   "source": [
    "model = DecisionTreeClassifier(**TREE_PARAMS)\n",
    "\n",
    "aucs = []\n",
    "\n",
    "kfold = KFold(5, shuffle=True, random_state=1)\n",
    "\n",
    "X = df[model_data[\"keep\"] + [\"TARGET\"]]\n",
    "y = X[\"TARGET\"]\n",
    "x = X.drop([\"TARGET\"], axis=1)\n",
    "\n",
    "for train, test in kfold.split(x):\n",
    "    \n",
    "    model.fit(x.iloc[train], y.iloc[train])\n",
    "    auc = roc_auc_score(y.iloc[test], model.predict_proba(x.iloc[test])[:,1])\n",
    "    aucs.append(auc)\n",
    "    \n",
    "    print('train: %s, test: %s, auc: %s' % (train, test, round(auc,4)))\n",
    "\n",
    "print(\"\\n\")\n",
    "print(\"Durchschnitt: %.2f\" % (np.mean(aucs)))\n",
    "print(\"Standardabw.: %.2f\" % (np.std(aucs)))\n",
    "print(\"Varianz:      %.2f\" % (np.var(aucs)))"
   ]
  },
  {
   "cell_type": "code",
   "execution_count": null,
   "metadata": {},
   "outputs": [],
   "source": []
  }
 ],
 "metadata": {
  "kernelspec": {
   "display_name": "Python 3",
   "language": "python",
   "name": "python3"
  },
  "language_info": {
   "codemirror_mode": {
    "name": "ipython",
    "version": 3
   },
   "file_extension": ".py",
   "mimetype": "text/x-python",
   "name": "python",
   "nbconvert_exporter": "python",
   "pygments_lexer": "ipython3",
   "version": "3.8.7"
  }
 },
 "nbformat": 4,
 "nbformat_minor": 4
}
