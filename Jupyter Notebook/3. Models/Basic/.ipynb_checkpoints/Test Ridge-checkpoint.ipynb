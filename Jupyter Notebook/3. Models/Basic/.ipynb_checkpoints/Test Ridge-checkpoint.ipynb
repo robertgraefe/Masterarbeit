{
 "cells": [
  {
   "cell_type": "code",
   "execution_count": 1,
   "metadata": {},
   "outputs": [],
   "source": [
    "from pathlib import Path\n",
    "from sklearn.ensemble import RandomForestClassifier\n",
    "from sklearn.model_selection import train_test_split\n",
    "from sklearn.metrics import roc_curve, roc_auc_score\n",
    "\n",
    "import matplotlib.pyplot as plt\n",
    "import pandas as pd\n",
    "import numpy as np\n",
    "\n",
    "np.set_printoptions(suppress=True)\n",
    "\n",
    "pd.options.display.max_columns = None\n",
    "pd.options.display.max_rows = None\n",
    "pd.options.display.max_colwidth = None"
   ]
  },
  {
   "cell_type": "code",
   "execution_count": 2,
   "metadata": {},
   "outputs": [],
   "source": [
    "path1 = Path(r\"A:\\Workspace\\Python\\Masterarbeit\\Kaggle Home Credit Datensatz\")\n",
    "path2 = Path(r\"C:\\Users\\rober\\Documents\\Workspace\\Python\\Masterarbeit\\Kaggle Home Credit Datensatz\")\n",
    "\n",
    "if path1.is_dir():\n",
    "    DATASET_DIR = path1\n",
    "else:\n",
    "    DATASET_DIR = path2"
   ]
  },
  {
   "cell_type": "code",
   "execution_count": 3,
   "metadata": {},
   "outputs": [],
   "source": [
    "app_test = pd.read_csv(DATASET_DIR / \"application_test.csv\")\n",
    "app_train = pd.read_csv(DATASET_DIR / \"application_train.csv\")"
   ]
  },
  {
   "cell_type": "code",
   "execution_count": 4,
   "metadata": {},
   "outputs": [],
   "source": [
    "app_train[\"TARGET\"].replace(\n",
    "    {\n",
    "        0: \"Payback\",\n",
    "        1: \"Default\"\n",
    "    }, inplace = True\n",
    ")"
   ]
  },
  {
   "cell_type": "code",
   "execution_count": 5,
   "metadata": {},
   "outputs": [],
   "source": [
    "n_heads = ['TARGET', 'NAME_CONTRACT_TYPE', 'CODE_GENDER', 'FLAG_OWN_CAR', 'FLAG_OWN_REALTY', 'NAME_TYPE_SUITE', 'NAME_INCOME_TYPE', 'NAME_EDUCATION_TYPE', 'NAME_FAMILY_STATUS', 'NAME_HOUSING_TYPE', 'FLAG_MOBIL', 'FLAG_EMP_PHONE', 'FLAG_WORK_PHONE', 'FLAG_CONT_MOBILE', 'FLAG_PHONE', 'FLAG_EMAIL', 'OCCUPATION_TYPE', 'REGION_RATING_CLIENT', 'REGION_RATING_CLIENT_W_CITY', 'WEEKDAY_APPR_PROCESS_START', 'REG_REGION_NOT_LIVE_REGION', 'REG_REGION_NOT_WORK_REGION', 'LIVE_REGION_NOT_WORK_REGION', 'REG_CITY_NOT_LIVE_CITY', 'REG_CITY_NOT_WORK_CITY', 'LIVE_CITY_NOT_WORK_CITY', 'ORGANIZATION_TYPE', 'FONDKAPREMONT_MODE', 'HOUSETYPE_MODE', 'WALLSMATERIAL_MODE', 'EMERGENCYSTATE_MODE', 'FLAG_DOCUMENT_2', 'FLAG_DOCUMENT_3', 'FLAG_DOCUMENT_4', 'FLAG_DOCUMENT_5', 'FLAG_DOCUMENT_6', 'FLAG_DOCUMENT_7', 'FLAG_DOCUMENT_8', 'FLAG_DOCUMENT_9', 'FLAG_DOCUMENT_10', 'FLAG_DOCUMENT_11', 'FLAG_DOCUMENT_12', 'FLAG_DOCUMENT_13', 'FLAG_DOCUMENT_14', 'FLAG_DOCUMENT_15', 'FLAG_DOCUMENT_16', 'FLAG_DOCUMENT_17', 'FLAG_DOCUMENT_18', 'FLAG_DOCUMENT_19', 'FLAG_DOCUMENT_20', 'FLAG_DOCUMENT_21']\n",
    "m_heads = ['CNT_CHILDREN','AMT_INCOME_TOTAL', 'AMT_CREDIT', 'AMT_ANNUITY', 'AMT_GOODS_PRICE', 'REGION_POPULATION_RELATIVE', 'DAYS_BIRTH', 'DAYS_EMPLOYED', 'DAYS_REGISTRATION', 'DAYS_ID_PUBLISH', 'OWN_CAR_AGE', 'CNT_FAM_MEMBERS', 'HOUR_APPR_PROCESS_START', 'EXT_SOURCE_1', 'EXT_SOURCE_2', 'EXT_SOURCE_3', 'APARTMENTS_AVG', 'BASEMENTAREA_AVG', 'YEARS_BEGINEXPLUATATION_AVG', 'YEARS_BUILD_AVG', 'COMMONAREA_AVG', 'ELEVATORS_AVG', 'ENTRANCES_AVG', 'FLOORSMAX_AVG', 'FLOORSMIN_AVG', 'LANDAREA_AVG', 'LIVINGAPARTMENTS_AVG', 'LIVINGAREA_AVG', 'NONLIVINGAPARTMENTS_AVG', 'NONLIVINGAREA_AVG', 'APARTMENTS_MODE', 'BASEMENTAREA_MODE', 'YEARS_BEGINEXPLUATATION_MODE', 'YEARS_BUILD_MODE', 'COMMONAREA_MODE', 'ELEVATORS_MODE', 'ENTRANCES_MODE', 'FLOORSMAX_MODE', 'FLOORSMIN_MODE', 'LANDAREA_MODE', 'LIVINGAPARTMENTS_MODE', 'LIVINGAREA_MODE', 'NONLIVINGAPARTMENTS_MODE', 'NONLIVINGAREA_MODE', 'APARTMENTS_MEDI', 'BASEMENTAREA_MEDI', 'YEARS_BEGINEXPLUATATION_MEDI', 'YEARS_BUILD_MEDI', 'COMMONAREA_MEDI', 'ELEVATORS_MEDI', 'ENTRANCES_MEDI', 'FLOORSMAX_MEDI', 'FLOORSMIN_MEDI', 'LANDAREA_MEDI', 'LIVINGAPARTMENTS_MEDI', 'LIVINGAREA_MEDI', 'NONLIVINGAPARTMENTS_MEDI', 'NONLIVINGAREA_MEDI', 'TOTALAREA_MODE', 'OBS_30_CNT_SOCIAL_CIRCLE', 'DEF_30_CNT_SOCIAL_CIRCLE', 'OBS_60_CNT_SOCIAL_CIRCLE', 'DEF_60_CNT_SOCIAL_CIRCLE', 'DAYS_LAST_PHONE_CHANGE', 'AMT_REQ_CREDIT_BUREAU_HOUR', 'AMT_REQ_CREDIT_BUREAU_DAY', 'AMT_REQ_CREDIT_BUREAU_WEEK', 'AMT_REQ_CREDIT_BUREAU_MON', 'AMT_REQ_CREDIT_BUREAU_QRT', 'AMT_REQ_CREDIT_BUREAU_YEAR']\n",
    "md_heads = ['CNT_CHILDREN', \"CNT_FAM_MEMBERS\",\"HOUR_APPR_PROCESS_START\", \"OBS_30_CNT_SOCIAL_CIRCLE\",\"DEF_30_CNT_SOCIAL_CIRCLE\", \"OBS_60_CNT_SOCIAL_CIRCLE\", \"DEF_60_CNT_SOCIAL_CIRCLE\",\"AMT_REQ_CREDIT_BUREAU_HOUR\",\"AMT_REQ_CREDIT_BUREAU_DAY\",\"AMT_REQ_CREDIT_BUREAU_WEEK\",\"AMT_REQ_CREDIT_BUREAU_MON\",\"AMT_REQ_CREDIT_BUREAU_QRT\",\"AMT_REQ_CREDIT_BUREAU_YEAR\"]\n",
    "ms_heads = [head for head in m_heads if head not in md_heads]"
   ]
  },
  {
   "cell_type": "code",
   "execution_count": 6,
   "metadata": {},
   "outputs": [],
   "source": [
    "payback = app_train[app_train[\"TARGET\"] == \"Payback\"]\n",
    "default = app_train[app_train[\"TARGET\"] == \"Default\"]\n",
    "m = app_train[m_heads]\n",
    "n = app_train[n_heads]\n",
    "\n",
    "md = m[md_heads]\n",
    "mdp = md[app_train[\"TARGET\"] == \"Payback\"]\n",
    "mdd = md[app_train[\"TARGET\"] == \"Default\"]\n",
    "\n",
    "ms = m[ms_heads]\n",
    "msp = ms[app_train[\"TARGET\"] == \"Payback\"]\n",
    "msd = ms[app_train[\"TARGET\"] == \"Default\"]"
   ]
  },
  {
   "cell_type": "code",
   "execution_count": 7,
   "metadata": {},
   "outputs": [],
   "source": [
    "# Test Datenbereinigung\n",
    "# Verbesserung der Prognosegenauigkeit von 0.7465 auf 0.7501\n",
    "mode = [head for head in m_heads if \"MODE\" in head]\n",
    "medi = [head for head in m_heads if \"MEDI\" in head]\n",
    "app_train = app_train.drop(mode + medi, axis=1)\n",
    "\n",
    "andere = [\"REGION_RATING_CLIENT_W_CITY\", \"LIVE_REGION_NOT_WORK_REGION\"]\n",
    "for head in andere:\n",
    "    n_heads.remove(head)\n",
    "app_train = app_train.drop(andere, axis=1)"
   ]
  },
  {
   "cell_type": "code",
   "execution_count": 8,
   "metadata": {},
   "outputs": [],
   "source": [
    "# transformiert kategorische variablen in integer\n",
    "for head in n_heads:\n",
    "    app_train[head], cats = pd.factorize(app_train[head])"
   ]
  },
  {
   "cell_type": "code",
   "execution_count": 108,
   "metadata": {},
   "outputs": [],
   "source": [
    "y = app_train[\"TARGET\"]\n",
    "x = app_train.drop([\"SK_ID_CURR\", \"TARGET\"], axis=1)"
   ]
  },
  {
   "cell_type": "code",
   "execution_count": 129,
   "metadata": {},
   "outputs": [],
   "source": [
    "# ersätzt alle np.nan durch 0\n",
    "x = x.fillna(0)"
   ]
  },
  {
   "cell_type": "code",
   "execution_count": 130,
   "metadata": {},
   "outputs": [],
   "source": [
    "# unterteilt den trainingsdatensatz in trainings- und validierungsdatensätze\n",
    "x_train, x_test, y_train, y_test = train_test_split(x, y, test_size=.5, random_state=0)"
   ]
  },
  {
   "cell_type": "code",
   "execution_count": 131,
   "metadata": {},
   "outputs": [],
   "source": [
    "model = RandomForestClassifier(max_depth=7, random_state=0)\n",
    "#model = RandomForestClassifier(max_depth=20, random_state=0)"
   ]
  },
  {
   "cell_type": "code",
   "execution_count": 132,
   "metadata": {},
   "outputs": [
    {
     "data": {
      "text/plain": [
       "RandomForestClassifier(max_depth=7, random_state=0)"
      ]
     },
     "execution_count": 132,
     "metadata": {},
     "output_type": "execute_result"
    }
   ],
   "source": [
    "model.fit(x,y)"
   ]
  },
  {
   "cell_type": "code",
   "execution_count": 133,
   "metadata": {},
   "outputs": [
    {
     "data": {
      "text/plain": [
       "array([1, 1, 1, ..., 1, 1, 1], dtype=int64)"
      ]
     },
     "execution_count": 133,
     "metadata": {},
     "output_type": "execute_result"
    }
   ],
   "source": [
    "# Prognosewerte der Testdaten\n",
    "model.predict(x_test)"
   ]
  },
  {
   "cell_type": "code",
   "execution_count": 134,
   "metadata": {},
   "outputs": [
    {
     "data": {
      "text/plain": [
       "array([[0.12822749, 0.87177251],\n",
       "       [0.03840502, 0.96159498],\n",
       "       [0.06904182, 0.93095818],\n",
       "       ...,\n",
       "       [0.07832388, 0.92167612],\n",
       "       [0.06588223, 0.93411777],\n",
       "       [0.08699681, 0.91300319]])"
      ]
     },
     "execution_count": 134,
     "metadata": {},
     "output_type": "execute_result"
    }
   ],
   "source": [
    "# Prognosewerte der Testdaten in %\n",
    "x_test_prob = model.predict_proba(x_test)\n",
    "x_test_prob"
   ]
  },
  {
   "cell_type": "code",
   "execution_count": 135,
   "metadata": {},
   "outputs": [
    {
     "data": {
      "text/plain": [
       "0.919424282629621"
      ]
     },
     "execution_count": 135,
     "metadata": {},
     "output_type": "execute_result"
    }
   ],
   "source": [
    "# Durchschnittliche Trefferwahrscheinlichkeit\n",
    "model.score(x_test, y_test)"
   ]
  },
  {
   "cell_type": "code",
   "execution_count": 136,
   "metadata": {},
   "outputs": [
    {
     "name": "stdout",
     "output_type": "stream",
     "text": [
      "0.7503918244890717\n"
     ]
    }
   ],
   "source": [
    "# Erstellung der AUC & ROC-Metrik\n",
    "# Wahrscheinlichkeiten für keinen Kreditausfall\n",
    "prob = x_test_prob[:,1]\n",
    "auc = roc_auc_score(y_test, prob)\n",
    "print(auc)\n",
    "# FalsePositiveRate, TruePositiveRate & Treshold\n",
    "fpr, tpr, threshold = roc_curve(y_test, prob)"
   ]
  },
  {
   "cell_type": "code",
   "execution_count": 137,
   "metadata": {},
   "outputs": [
    {
     "data": {
      "image/png": "[encoded data removed]",
      "text/plain": [
       "<Figure size 432x288 with 1 Axes>"
      ]
     },
     "metadata": {
      "needs_background": "light"
     },
     "output_type": "display_data"
    }
   ],
   "source": [
    "plt.plot(fpr, tpr, color='darkorange', label='ROC curve (area = %0.2f)' % auc)\n",
    "plt.plot([0, 1], [0, 1], color='navy', lw=2, linestyle='--')\n",
    "plt.xlim([0.0, 1.0])\n",
    "plt.ylim([0.0, 1.0])\n",
    "plt.xlabel('False Positive Rate')\n",
    "plt.ylabel('True Positive Rate')\n",
    "plt.legend(loc=\"lower right\")\n",
    "plt.show()"
   ]
  },
  {
   "cell_type": "code",
   "execution_count": 138,
   "metadata": {},
   "outputs": [],
   "source": [
    "# Koeffizienten der einzelnen Klassen\n",
    "coef_dict = {}\n",
    "for coef, feat in zip(model.feature_importances_, x.columns.values):\n",
    "    coef_dict[feat] = coef"
   ]
  },
  {
   "cell_type": "code",
   "execution_count": 139,
   "metadata": {},
   "outputs": [
    {
     "name": "stdout",
     "output_type": "stream",
     "text": [
      "Feature: EXT_SOURCE_2, Score: 0.26142952445518836\n",
      "Feature: EXT_SOURCE_3, Score: 0.21777671323975312\n",
      "Feature: EXT_SOURCE_1, Score: 0.08283488657779463\n",
      "Feature: DAYS_BIRTH, Score: 0.05096478185438149\n",
      "Feature: DAYS_EMPLOYED, Score: 0.043358216757112024\n",
      "Feature: AMT_GOODS_PRICE, Score: 0.030371351325380894\n",
      "Feature: NAME_INCOME_TYPE, Score: 0.026699656165499557\n",
      "Feature: DAYS_LAST_PHONE_CHANGE, Score: 0.023415679908205634\n",
      "Feature: CODE_GENDER, Score: 0.01982776135292547\n",
      "Feature: NAME_EDUCATION_TYPE, Score: 0.017868843863035017\n",
      "Feature: AMT_CREDIT, Score: 0.01684516107923473\n",
      "Feature: DAYS_ID_PUBLISH, Score: 0.016685573962091117\n",
      "Feature: REGION_RATING_CLIENT, Score: 0.015634957649754724\n",
      "Feature: AMT_ANNUITY, Score: 0.012027312128102145\n",
      "Feature: FLAG_DOCUMENT_3, Score: 0.011998904213380162\n",
      "Feature: LIVINGAREA_AVG, Score: 0.011382726964133073\n",
      "Feature: REG_CITY_NOT_WORK_CITY, Score: 0.01085289365081936\n",
      "Feature: DAYS_REGISTRATION, Score: 0.009348871298271673\n",
      "Feature: FLAG_EMP_PHONE, Score: 0.009095991194745879\n",
      "Feature: OCCUPATION_TYPE, Score: 0.00891029135339329\n",
      "Feature: APARTMENTS_AVG, Score: 0.008690948017899103\n",
      "Feature: FLOORSMAX_AVG, Score: 0.007638802905102468\n",
      "Feature: REGION_POPULATION_RELATIVE, Score: 0.006519690475749314\n",
      "Feature: OWN_CAR_AGE, Score: 0.005136750204768951\n",
      "Feature: AMT_INCOME_TOTAL, Score: 0.005077832265201182\n",
      "Feature: ELEVATORS_AVG, Score: 0.004843292330449946\n",
      "Feature: REG_CITY_NOT_LIVE_CITY, Score: 0.004776236452645728\n",
      "Feature: FLAG_OWN_CAR, Score: 0.004589539489823796\n",
      "Feature: YEARS_BEGINEXPLUATATION_AVG, Score: 0.004391669943085882\n",
      "Feature: ENTRANCES_AVG, Score: 0.004242942027126104\n",
      "Feature: HOUR_APPR_PROCESS_START, Score: 0.003375133484046826\n",
      "Feature: NAME_CONTRACT_TYPE, Score: 0.0033741336037532285\n",
      "Feature: DEF_30_CNT_SOCIAL_CIRCLE, Score: 0.003325879621156046\n",
      "Feature: DEF_60_CNT_SOCIAL_CIRCLE, Score: 0.003161024180129524\n",
      "Feature: ORGANIZATION_TYPE, Score: 0.002691627134771764\n",
      "Feature: AMT_REQ_CREDIT_BUREAU_YEAR, Score: 0.0026209227607949825\n",
      "Feature: BASEMENTAREA_AVG, Score: 0.002303233929518158\n",
      "Feature: NONLIVINGAREA_AVG, Score: 0.0022293971244232735\n",
      "Feature: LANDAREA_AVG, Score: 0.0022213498109385677\n",
      "Feature: CNT_FAM_MEMBERS, Score: 0.002076676852910914\n",
      "Feature: CNT_CHILDREN, Score: 0.001808987092311156\n",
      "Feature: EMERGENCYSTATE_MODE, Score: 0.0017956056241469117\n",
      "Feature: YEARS_BUILD_AVG, Score: 0.001691254211640414\n",
      "Feature: NAME_FAMILY_STATUS, Score: 0.0013995635136633332\n",
      "Feature: AMT_REQ_CREDIT_BUREAU_QRT, Score: 0.00136868978919856\n",
      "Feature: NONLIVINGAPARTMENTS_AVG, Score: 0.0013010543607110939\n",
      "Feature: FLAG_DOCUMENT_6, Score: 0.0012989451625057488\n",
      "Feature: HOUSETYPE_MODE, Score: 0.0010684369899894718\n",
      "Feature: AMT_REQ_CREDIT_BUREAU_MON, Score: 0.0010607465161430877\n",
      "Feature: AMT_REQ_CREDIT_BUREAU_WEEK, Score: 0.0010039613542559037\n",
      "Feature: FONDKAPREMONT_MODE, Score: 0.0009706371818377335\n",
      "Feature: WEEKDAY_APPR_PROCESS_START, Score: 0.0008282697279822402\n",
      "Feature: NAME_HOUSING_TYPE, Score: 0.0007489428216476161\n",
      "Feature: FLAG_WORK_PHONE, Score: 0.0007080845244105586\n",
      "Feature: FLAG_PHONE, Score: 0.000411874509206334\n",
      "Feature: FLAG_DOCUMENT_5, Score: 0.00031364400701174293\n",
      "Feature: AMT_REQ_CREDIT_BUREAU_HOUR, Score: 0.0002839994029256552\n",
      "Feature: FLAG_CONT_MOBILE, Score: 0.00021783204106467488\n",
      "Feature: FLAG_DOCUMENT_16, Score: 0.00020980035384329015\n",
      "Feature: FLAG_DOCUMENT_2, Score: 0.00020602507313011918\n",
      "Feature: REG_REGION_NOT_LIVE_REGION, Score: 0.00018010022655760442\n",
      "Feature: FLAG_DOCUMENT_20, Score: 0.00017010237806962435\n",
      "Feature: REG_REGION_NOT_WORK_REGION, Score: 0.0001008246446584577\n",
      "Feature: FLAG_DOCUMENT_18, Score: 7.824865915305073e-05\n",
      "Feature: FLAG_DOCUMENT_15, Score: 7.41059386202019e-05\n",
      "Feature: FLAG_DOCUMENT_13, Score: 3.0304629663611853e-05\n",
      "Feature: FLAG_DOCUMENT_14, Score: 2.7410091581061104e-05\n",
      "Feature: FLAG_DOCUMENT_17, Score: 2.5367566572784903e-05\n",
      "Feature: FLAG_DOCUMENT_4, Score: 0.0\n",
      "Feature: FLAG_DOCUMENT_10, Score: 0.0\n",
      "Feature: FLAG_DOCUMENT_12, Score: 0.0\n"
     ]
    }
   ],
   "source": [
    "# Feature Importance\n",
    "d = dict(sorted(coef_dict.items(), key=lambda item: item[1], reverse=True))\n",
    "\n",
    "for i,v in d.items():\n",
    "    print('Feature: {}, Score: {}'.format(i,v))"
   ]
  },
  {
   "cell_type": "code",
   "execution_count": 140,
   "metadata": {},
   "outputs": [
    {
     "name": "stderr",
     "output_type": "stream",
     "text": [
      "<ipython-input-140-10bac31632bc>:8: UserWarning: FixedFormatter should only be used together with FixedLocator\n",
      "  ax.set_yticklabels(tuple(t.index))\n"
     ]
    },
    {
     "data": {
      "image/png": "[encoded data removed]",
      "text/plain": [
       "<Figure size 864x1800 with 1 Axes>"
      ]
     },
     "metadata": {
      "needs_background": "light"
     },
     "output_type": "display_data"
    }
   ],
   "source": [
    "# Feature Importance: Top10 und Bottom10 visualisiert\n",
    "t = pd.DataFrame.from_dict(d,orient=\"index\",columns=[\"importance\"])\n",
    "t = t.sort_values(by=\"importance\")\n",
    "t = np.squeeze(t)\n",
    "\n",
    "fig, ax = plt.subplots(figsize=(12,25))\n",
    "ax.barh(t.index, t.values)\n",
    "ax.set_yticklabels(tuple(t.index))\n",
    "plt.show()"
   ]
  },
  {
   "cell_type": "code",
   "execution_count": 28,
   "metadata": {},
   "outputs": [],
   "source": [
    "from sklearn.linear_model import Ridge\n",
    "from sklearn.model_selection import RepeatedKFold\n",
    "from sklearn.model_selection import cross_val_score\n",
    "from sklearn.model_selection import GridSearchCV\n",
    "\n",
    "# model = Ridge()\n",
    "# # define model evaluation method\n",
    "\n",
    "# cv = RepeatedKFold(n_splits=10, n_repeats=3, random_state=1)\n",
    "# # define grid\n",
    "# grid = dict()\n",
    "# grid['alpha'] = np.arange(0, 1, 0.01)\n",
    "# # define search\n",
    "# search = GridSearchCV(model, grid, scoring='neg_mean_absolute_error', cv=cv, n_jobs=-1)\n",
    "# # perform the search\n",
    "# results = search.fit(x, y)\n",
    "# # summarize\n",
    "# print('MAE: %.3f' % results.best_score_)\n",
    "# print('Config: %s' % results.best_params_)"
   ]
  },
  {
   "cell_type": "code",
   "execution_count": 29,
   "metadata": {},
   "outputs": [
    {
     "data": {
      "text/html": [
       "<div>\n",
       "<style scoped>\n",
       "    .dataframe tbody tr th:only-of-type {\n",
       "        vertical-align: middle;\n",
       "    }\n",
       "\n",
       "    .dataframe tbody tr th {\n",
       "        vertical-align: top;\n",
       "    }\n",
       "\n",
       "    .dataframe thead th {\n",
       "        text-align: right;\n",
       "    }\n",
       "</style>\n",
       "<table border=\"1\" class=\"dataframe\">\n",
       "  <thead>\n",
       "    <tr style=\"text-align: right;\">\n",
       "      <th></th>\n",
       "      <th>EXT_SOURCE_1</th>\n",
       "      <th>EXT_SOURCE_2</th>\n",
       "      <th>EXT_SOURCE_3</th>\n",
       "    </tr>\n",
       "  </thead>\n",
       "  <tbody>\n",
       "    <tr>\n",
       "      <th>0</th>\n",
       "      <td>0.083037</td>\n",
       "      <td>0.262949</td>\n",
       "      <td>0.139376</td>\n",
       "    </tr>\n",
       "    <tr>\n",
       "      <th>1</th>\n",
       "      <td>0.311267</td>\n",
       "      <td>0.622246</td>\n",
       "      <td>0.000000</td>\n",
       "    </tr>\n",
       "    <tr>\n",
       "      <th>2</th>\n",
       "      <td>0.000000</td>\n",
       "      <td>0.555912</td>\n",
       "      <td>0.729567</td>\n",
       "    </tr>\n",
       "    <tr>\n",
       "      <th>3</th>\n",
       "      <td>0.000000</td>\n",
       "      <td>0.650442</td>\n",
       "      <td>0.000000</td>\n",
       "    </tr>\n",
       "    <tr>\n",
       "      <th>4</th>\n",
       "      <td>0.000000</td>\n",
       "      <td>0.322738</td>\n",
       "      <td>0.000000</td>\n",
       "    </tr>\n",
       "  </tbody>\n",
       "</table>\n",
       "</div>"
      ],
      "text/plain": [
       "   EXT_SOURCE_1  EXT_SOURCE_2  EXT_SOURCE_3\n",
       "0      0.083037      0.262949      0.139376\n",
       "1      0.311267      0.622246      0.000000\n",
       "2      0.000000      0.555912      0.729567\n",
       "3      0.000000      0.650442      0.000000\n",
       "4      0.000000      0.322738      0.000000"
      ]
     },
     "execution_count": 29,
     "metadata": {},
     "output_type": "execute_result"
    }
   ],
   "source": [
    "x[[\"EXT_SOURCE_1\",\"EXT_SOURCE_2\",\"EXT_SOURCE_3\"]].head()"
   ]
  },
  {
   "cell_type": "code",
   "execution_count": 119,
   "metadata": {},
   "outputs": [],
   "source": [
    "def ridge_auc(x):\n",
    "    x = x.fillna(0)\n",
    "    x_train, x_test, y_train, y_test = train_test_split(x, y, test_size=.5, random_state=0)\n",
    "    #normalisiert, da manche variablen sehr stark auseindergehende werte haben und damit eine warnung verursachen\n",
    "    model = Ridge(alpha=0,normalize=True)\n",
    "    model.fit(x,y)\n",
    "    auc = roc_auc_score(y_test, model.predict(x_test))\n",
    "    return auc"
   ]
  },
  {
   "cell_type": "code",
   "execution_count": 120,
   "metadata": {},
   "outputs": [],
   "source": [
    "# ersätzt alle np.nan durch 0\n",
    "x = x.fillna(0)"
   ]
  },
  {
   "cell_type": "code",
   "execution_count": 121,
   "metadata": {},
   "outputs": [],
   "source": [
    "# unterteilt den trainingsdatensatz in trainings- und validierungsdatensätze\n",
    "x_train, x_test, y_train, y_test = train_test_split(x, y, test_size=.5, random_state=0)"
   ]
  },
  {
   "cell_type": "code",
   "execution_count": 122,
   "metadata": {},
   "outputs": [
    {
     "name": "stderr",
     "output_type": "stream",
     "text": [
      "c:\\users\\rober\\documents\\workspace\\python\\masterarbeit\\venv\\lib\\site-packages\\sklearn\\linear_model\\_ridge.py:147: LinAlgWarning: Ill-conditioned matrix (rcond=9.76562e-18): result may not be accurate.\n",
      "  return linalg.solve(A, Xy, sym_pos=True,\n"
     ]
    },
    {
     "data": {
      "text/plain": [
       "Ridge(alpha=0)"
      ]
     },
     "execution_count": 122,
     "metadata": {},
     "output_type": "execute_result"
    }
   ],
   "source": [
    "model = Ridge(alpha=0)\n",
    "model.fit(x,y)"
   ]
  },
  {
   "cell_type": "code",
   "execution_count": 123,
   "metadata": {},
   "outputs": [
    {
     "data": {
      "text/plain": [
       "array([0.85668772, 0.95592869, 0.93777163, ..., 0.91020028, 0.93139403,\n",
       "       0.87435784])"
      ]
     },
     "execution_count": 123,
     "metadata": {},
     "output_type": "execute_result"
    }
   ],
   "source": [
    "# Prognosewerte der Testdaten\n",
    "model.predict(x_test)"
   ]
  },
  {
   "cell_type": "code",
   "execution_count": 124,
   "metadata": {},
   "outputs": [
    {
     "data": {
      "text/plain": [
       "array([0.85668772, 0.95592869, 0.93777163, ..., 0.91020028, 0.93139403,\n",
       "       0.87435784])"
      ]
     },
     "execution_count": 124,
     "metadata": {},
     "output_type": "execute_result"
    }
   ],
   "source": [
    "# Prognosewerte der Testdaten in %\n",
    "x_test_prob = model.predict(x_test)\n",
    "x_test_prob"
   ]
  },
  {
   "cell_type": "code",
   "execution_count": 125,
   "metadata": {},
   "outputs": [
    {
     "name": "stdout",
     "output_type": "stream",
     "text": [
      "0.730499729432085\n"
     ]
    }
   ],
   "source": [
    "# Erstellung der AUC & ROC-Metrik\n",
    "# Wahrscheinlichkeiten für keinen Kreditausfall\n",
    "prob = x_test_prob\n",
    "auc = roc_auc_score(y_test, prob)\n",
    "print(auc)"
   ]
  },
  {
   "cell_type": "code",
   "execution_count": 126,
   "metadata": {},
   "outputs": [
    {
     "name": "stdout",
     "output_type": "stream",
     "text": [
      "0.006549666695750744 DAYS_BIRTH\n",
      "0.0006950228073607789 DAYS_EMPLOYED\n",
      "0.0004419629282841342 DAYS_LAST_PHONE_CHANGE\n",
      "0.00024730446946952256 AMT_GOODS_PRICE\n",
      "0.001434133879425148 NAME_INCOME_TYPE\n",
      "0.0023669110589256137 CODE_GENDER\n",
      "0.0020033650155633076 NAME_EDUCATION_TYPE\n",
      "0.0008241712298808768 DAYS_ID_PUBLISH\n",
      "0.0050493693012320096 AMT_CREDIT\n",
      "2.9060250729906478e-05 REGION_RATING_CLIENT\n",
      "0.0017226346344654253 FLAG_DOCUMENT_3\n",
      "0.0005327379566123502 REG_CITY_NOT_WORK_CITY\n",
      "0.00046836529888305556 LIVINGAREA_AVG\n",
      "0.0015765711316272357 FLAG_EMP_PHONE\n",
      "1.6502837685505867e-05 REGION_POPULATION_RELATIVE\n",
      "1.2499173780433637e-05 APARTMENTS_AVG\n",
      "0.0010102331165684486 AMT_ANNUITY\n",
      "0.0003253068278661342 DAYS_REGISTRATION\n",
      "0.0003159371580596648 FLOORSMAX_AVG\n",
      "2.6412077142934365e-05 OCCUPATION_TYPE\n",
      "0.001709688959661948 FLAG_OWN_CAR\n",
      "0.0003128870193573885 OWN_CAR_AGE\n",
      "0.00026636640892663266 REG_CITY_NOT_LIVE_CITY\n",
      "0.0002702770042046776 NAME_CONTRACT_TYPE\n",
      "9.599201022947312e-06 YEARS_BEGINEXPLUATATION_AVG\n",
      "6.0694448533737955e-06 AMT_INCOME_TOTAL\n",
      "1.40105397754553e-05 BASEMENTAREA_AVG\n",
      "0.00010892055583899829 ENTRANCES_AVG\n",
      "0.0015246274179777641 DEF_30_CNT_SOCIAL_CIRCLE\n",
      "5.591540305660558e-06 HOUR_APPR_PROCESS_START\n",
      "6.734799894569932e-05 DEF_60_CNT_SOCIAL_CIRCLE\n",
      "3.667931678164038e-06 ORGANIZATION_TYPE\n",
      "4.1755268309628946e-06 ELEVATORS_AVG\n",
      "0.001656086568938453 AMT_REQ_CREDIT_BUREAU_YEAR\n",
      "-3.854068933994981e-07 LIVINGAPARTMENTS_AVG\n",
      "3.648518590582128e-07 LANDAREA_AVG\n",
      "-3.1066079494546095e-05 OBS_30_CNT_SOCIAL_CIRCLE\n",
      "1.3715917616785589e-05 YEARS_BUILD_AVG\n",
      "5.8136488709781275e-06 CNT_CHILDREN\n",
      "0.0001788870377665841 NAME_FAMILY_STATUS\n",
      "7.251359326332363e-07 NONLIVINGAREA_AVG\n",
      "-1.459978409279472e-06 OBS_60_CNT_SOCIAL_CIRCLE\n",
      "-5.686892825540468e-07 COMMONAREA_AVG\n",
      "2.0966134996802666e-05 AMT_REQ_CREDIT_BUREAU_QRT\n",
      "7.109187005527318e-06 EMERGENCYSTATE_MODE\n",
      "-1.9241796006541634e-06 FLOORSMIN_AVG\n",
      "1.0646365826594284e-05 NONLIVINGAPARTMENTS_AVG\n",
      "2.6695850810942723e-05 HOUSETYPE_MODE\n",
      "0.00016706960595747056 CNT_FAM_MEMBERS\n",
      "-2.352009800998811e-05 WALLSMATERIAL_MODE\n",
      "2.6001547429821414e-05 NAME_HOUSING_TYPE\n",
      "-3.694196444303799e-07 LIVE_CITY_NOT_WORK_CITY\n",
      "-1.3170638234472065e-05 NAME_TYPE_SUITE\n",
      "4.343963917463611e-06 AMT_REQ_CREDIT_BUREAU_WEEK\n",
      "0.0007202209955330385 FLAG_WORK_PHONE\n",
      "3.0325527286212406e-05 AMT_REQ_CREDIT_BUREAU_MON\n",
      "0.00015044515098572298 FLAG_DOCUMENT_6\n",
      "3.506003685571635e-05 WEEKDAY_APPR_PROCESS_START\n",
      "9.405641116844166e-06 FONDKAPREMONT_MODE\n",
      "-5.041693138529979e-07 FLAG_DOCUMENT_8\n",
      "-8.422425308851622e-06 AMT_REQ_CREDIT_BUREAU_DAY\n",
      "5.1547458265743806e-05 FLAG_PHONE\n",
      "2.364685405487066e-05 REG_REGION_NOT_WORK_REGION\n",
      "2.6808903499597747e-05 FLAG_CONT_MOBILE\n",
      "0.00010900448889583636 FLAG_DOCUMENT_5\n",
      "3.742614969437508e-05 FLAG_DOCUMENT_2\n",
      "5.160455558206323e-06 AMT_REQ_CREDIT_BUREAU_HOUR\n",
      "-5.79823259505563e-06 FLAG_OWN_REALTY\n",
      "-2.615057143051658e-07 FLAG_DOCUMENT_19\n",
      "3.872168782903529e-05 REG_REGION_NOT_LIVE_REGION\n",
      "2.1006103118059727e-06 FLAG_DOCUMENT_20\n",
      "-6.394899565442813e-08 FLAG_EMAIL\n",
      "-6.662115009214986e-06 FLAG_DOCUMENT_9\n",
      "-4.358809220228466e-06 FLAG_DOCUMENT_21\n",
      "1.0885603586974213e-05 FLAG_DOCUMENT_15\n",
      "-5.386560935738416e-06 FLAG_DOCUMENT_7\n",
      "-5.789667997468939e-06 FLAG_DOCUMENT_11\n",
      "0.00013977880109794505 FLAG_DOCUMENT_18\n",
      "0.0002902930398375192 FLAG_DOCUMENT_16\n",
      "0.00010018923404242486 FLAG_DOCUMENT_13\n",
      "0.00011680398247027046 FLAG_DOCUMENT_14\n",
      "5.366576874554774e-06 FLAG_DOCUMENT_4\n",
      "9.418202526534358e-06 FLAG_DOCUMENT_10\n",
      "1.090558764405003e-07 FLAG_DOCUMENT_12\n",
      "-2.2896024320928632e-07 FLAG_MOBIL\n",
      "1.8139246805937148e-05 FLAG_DOCUMENT_17\n"
     ]
    }
   ],
   "source": [
    "features = list(reversed(t.index))\n",
    "drop = []\n",
    "v = features[:3]\n",
    "x_ = x[v]\n",
    "auc = ridge_auc(x_)\n",
    "features = features[3:]\n",
    "for feature in features:\n",
    "    v.append(feature)\n",
    "    x_ = x[v]\n",
    "    auc_ = ridge_auc(x_)\n",
    "    diff = auc_ - auc\n",
    "    print(diff, feature)\n",
    "    auc = auc_\n",
    "    if diff < 0:\n",
    "        drop.append(feature)"
   ]
  },
  {
   "cell_type": "code",
   "execution_count": 127,
   "metadata": {},
   "outputs": [
    {
     "data": {
      "text/plain": [
       "['LIVINGAPARTMENTS_AVG',\n",
       " 'OBS_30_CNT_SOCIAL_CIRCLE',\n",
       " 'OBS_60_CNT_SOCIAL_CIRCLE',\n",
       " 'COMMONAREA_AVG',\n",
       " 'FLOORSMIN_AVG',\n",
       " 'WALLSMATERIAL_MODE',\n",
       " 'LIVE_CITY_NOT_WORK_CITY',\n",
       " 'NAME_TYPE_SUITE',\n",
       " 'FLAG_DOCUMENT_8',\n",
       " 'AMT_REQ_CREDIT_BUREAU_DAY',\n",
       " 'FLAG_OWN_REALTY',\n",
       " 'FLAG_DOCUMENT_19',\n",
       " 'FLAG_EMAIL',\n",
       " 'FLAG_DOCUMENT_9',\n",
       " 'FLAG_DOCUMENT_21',\n",
       " 'FLAG_DOCUMENT_7',\n",
       " 'FLAG_DOCUMENT_11',\n",
       " 'FLAG_MOBIL']"
      ]
     },
     "execution_count": 127,
     "metadata": {},
     "output_type": "execute_result"
    }
   ],
   "source": [
    "features = list(reversed(t.index))\n",
    "test = [feature for feature in features if feature not in drop]\n",
    "drop"
   ]
  },
  {
   "cell_type": "code",
   "execution_count": 128,
   "metadata": {},
   "outputs": [
    {
     "data": {
      "text/plain": [
       "0.730499729432085"
      ]
     },
     "execution_count": 128,
     "metadata": {},
     "output_type": "execute_result"
    }
   ],
   "source": [
    "features = list(reversed(t.index))\n",
    "x = x[test]\n",
    "auc = ridge_auc(x_)\n",
    "auc"
   ]
  },
  {
   "cell_type": "code",
   "execution_count": null,
   "metadata": {},
   "outputs": [],
   "source": []
  }
 ],
 "metadata": {
  "kernelspec": {
   "display_name": "Python 3",
   "language": "python",
   "name": "python3"
  },
  "language_info": {
   "codemirror_mode": {
    "name": "ipython",
    "version": 3
   },
   "file_extension": ".py",
   "mimetype": "text/x-python",
   "name": "python",
   "nbconvert_exporter": "python",
   "pygments_lexer": "ipython3",
   "version": "3.8.7"
  }
 },
 "nbformat": 4,
 "nbformat_minor": 4
}
