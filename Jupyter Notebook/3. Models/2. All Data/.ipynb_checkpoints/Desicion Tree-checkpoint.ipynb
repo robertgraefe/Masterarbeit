{
 "cells": [
  {
   "cell_type": "code",
   "execution_count": 8,
   "metadata": {},
   "outputs": [],
   "source": [
    "from pathlib import Path\n",
    "from sklearn.ensemble import RandomForestClassifier\n",
    "from sklearn.model_selection import train_test_split\n",
    "from sklearn.metrics import roc_curve, roc_auc_score\n",
    "\n",
    "from sklearn.model_selection import KFold\n",
    "from sklearn.metrics import plot_roc_curve\n",
    "from sklearn.metrics import auc\n",
    "\n",
    "import matplotlib.pyplot as plt\n",
    "import pandas as pd\n",
    "import numpy as np\n",
    "\n",
    "np.set_printoptions(suppress=True)\n",
    "\n",
    "pd.options.display.max_columns = None\n",
    "pd.options.display.max_rows = None\n",
    "pd.options.display.max_colwidth = None"
   ]
  },
  {
   "cell_type": "code",
   "execution_count": 9,
   "metadata": {},
   "outputs": [],
   "source": [
    "path1 = Path(r\"A:\\Workspace\\Python\\Masterarbeit\\Kaggle Home Credit Datensatz\")\n",
    "path2 = Path(r\"C:\\Users\\rober\\Documents\\Workspace\\Python\\Masterarbeit\\Kaggle Home Credit Datensatz\")\n",
    "\n",
    "if path1.is_dir():\n",
    "    DATASET_DIR = path1\n",
    "else:\n",
    "    DATASET_DIR = path2"
   ]
  },
  {
   "cell_type": "code",
   "execution_count": 10,
   "metadata": {},
   "outputs": [],
   "source": [
    "app_test = pd.read_csv(DATASET_DIR / \"application_test.csv\")\n",
    "app_train = pd.read_csv(DATASET_DIR / \"application_train.csv\")"
   ]
  },
  {
   "cell_type": "code",
   "execution_count": 11,
   "metadata": {},
   "outputs": [],
   "source": [
    "data = pd.read_csv(DATASET_DIR / \"Datengruppierung\" / \"dataset.csv\")\n",
    "app_train = data"
   ]
  },
  {
   "cell_type": "code",
   "execution_count": 12,
   "metadata": {},
   "outputs": [],
   "source": [
    "app_train[\"TARGET\"].replace(\n",
    "    {\n",
    "        0: \"Payback\",\n",
    "        1: \"Default\"\n",
    "    }, inplace = True\n",
    ")"
   ]
  },
  {
   "cell_type": "code",
   "execution_count": 13,
   "metadata": {},
   "outputs": [],
   "source": [
    "n_heads = ['TARGET', 'NAME_CONTRACT_TYPE', 'CODE_GENDER', 'FLAG_OWN_CAR', 'FLAG_OWN_REALTY', 'NAME_TYPE_SUITE', 'NAME_INCOME_TYPE', 'NAME_EDUCATION_TYPE', 'NAME_FAMILY_STATUS', 'NAME_HOUSING_TYPE', 'FLAG_MOBIL', 'FLAG_EMP_PHONE', 'FLAG_WORK_PHONE', 'FLAG_CONT_MOBILE', 'FLAG_PHONE', 'FLAG_EMAIL', 'OCCUPATION_TYPE', 'REGION_RATING_CLIENT', 'REGION_RATING_CLIENT_W_CITY', 'WEEKDAY_APPR_PROCESS_START', 'REG_REGION_NOT_LIVE_REGION', 'REG_REGION_NOT_WORK_REGION', 'LIVE_REGION_NOT_WORK_REGION', 'REG_CITY_NOT_LIVE_CITY', 'REG_CITY_NOT_WORK_CITY', 'LIVE_CITY_NOT_WORK_CITY', 'ORGANIZATION_TYPE', 'FONDKAPREMONT_MODE', 'HOUSETYPE_MODE', 'WALLSMATERIAL_MODE', 'EMERGENCYSTATE_MODE', 'FLAG_DOCUMENT_2', 'FLAG_DOCUMENT_3', 'FLAG_DOCUMENT_4', 'FLAG_DOCUMENT_5', 'FLAG_DOCUMENT_6', 'FLAG_DOCUMENT_7', 'FLAG_DOCUMENT_8', 'FLAG_DOCUMENT_9', 'FLAG_DOCUMENT_10', 'FLAG_DOCUMENT_11', 'FLAG_DOCUMENT_12', 'FLAG_DOCUMENT_13', 'FLAG_DOCUMENT_14', 'FLAG_DOCUMENT_15', 'FLAG_DOCUMENT_16', 'FLAG_DOCUMENT_17', 'FLAG_DOCUMENT_18', 'FLAG_DOCUMENT_19', 'FLAG_DOCUMENT_20', 'FLAG_DOCUMENT_21']\n",
    "m_heads = ['CNT_CHILDREN','AMT_INCOME_TOTAL', 'AMT_CREDIT', 'AMT_ANNUITY', 'AMT_GOODS_PRICE', 'REGION_POPULATION_RELATIVE', 'DAYS_BIRTH', 'DAYS_EMPLOYED', 'DAYS_REGISTRATION', 'DAYS_ID_PUBLISH', 'OWN_CAR_AGE', 'CNT_FAM_MEMBERS', 'HOUR_APPR_PROCESS_START', 'EXT_SOURCE_1', 'EXT_SOURCE_2', 'EXT_SOURCE_3', 'APARTMENTS_AVG', 'BASEMENTAREA_AVG', 'YEARS_BEGINEXPLUATATION_AVG', 'YEARS_BUILD_AVG', 'COMMONAREA_AVG', 'ELEVATORS_AVG', 'ENTRANCES_AVG', 'FLOORSMAX_AVG', 'FLOORSMIN_AVG', 'LANDAREA_AVG', 'LIVINGAPARTMENTS_AVG', 'LIVINGAREA_AVG', 'NONLIVINGAPARTMENTS_AVG', 'NONLIVINGAREA_AVG', 'APARTMENTS_MODE', 'BASEMENTAREA_MODE', 'YEARS_BEGINEXPLUATATION_MODE', 'YEARS_BUILD_MODE', 'COMMONAREA_MODE', 'ELEVATORS_MODE', 'ENTRANCES_MODE', 'FLOORSMAX_MODE', 'FLOORSMIN_MODE', 'LANDAREA_MODE', 'LIVINGAPARTMENTS_MODE', 'LIVINGAREA_MODE', 'NONLIVINGAPARTMENTS_MODE', 'NONLIVINGAREA_MODE', 'APARTMENTS_MEDI', 'BASEMENTAREA_MEDI', 'YEARS_BEGINEXPLUATATION_MEDI', 'YEARS_BUILD_MEDI', 'COMMONAREA_MEDI', 'ELEVATORS_MEDI', 'ENTRANCES_MEDI', 'FLOORSMAX_MEDI', 'FLOORSMIN_MEDI', 'LANDAREA_MEDI', 'LIVINGAPARTMENTS_MEDI', 'LIVINGAREA_MEDI', 'NONLIVINGAPARTMENTS_MEDI', 'NONLIVINGAREA_MEDI', 'TOTALAREA_MODE', 'OBS_30_CNT_SOCIAL_CIRCLE', 'DEF_30_CNT_SOCIAL_CIRCLE', 'OBS_60_CNT_SOCIAL_CIRCLE', 'DEF_60_CNT_SOCIAL_CIRCLE', 'DAYS_LAST_PHONE_CHANGE', 'AMT_REQ_CREDIT_BUREAU_HOUR', 'AMT_REQ_CREDIT_BUREAU_DAY', 'AMT_REQ_CREDIT_BUREAU_WEEK', 'AMT_REQ_CREDIT_BUREAU_MON', 'AMT_REQ_CREDIT_BUREAU_QRT', 'AMT_REQ_CREDIT_BUREAU_YEAR']\n",
    "md_heads = ['CNT_CHILDREN', \"CNT_FAM_MEMBERS\",\"HOUR_APPR_PROCESS_START\", \"OBS_30_CNT_SOCIAL_CIRCLE\",\"DEF_30_CNT_SOCIAL_CIRCLE\", \"OBS_60_CNT_SOCIAL_CIRCLE\", \"DEF_60_CNT_SOCIAL_CIRCLE\",\"AMT_REQ_CREDIT_BUREAU_HOUR\",\"AMT_REQ_CREDIT_BUREAU_DAY\",\"AMT_REQ_CREDIT_BUREAU_WEEK\",\"AMT_REQ_CREDIT_BUREAU_MON\",\"AMT_REQ_CREDIT_BUREAU_QRT\",\"AMT_REQ_CREDIT_BUREAU_YEAR\"]\n",
    "ms_heads = [head for head in m_heads if head not in md_heads]"
   ]
  },
  {
   "cell_type": "code",
   "execution_count": 14,
   "metadata": {},
   "outputs": [],
   "source": [
    "m = app_train[m_heads]\n",
    "n = app_train[n_heads]\n",
    "md = m[md_heads]\n",
    "ms = m[ms_heads]"
   ]
  },
  {
   "cell_type": "code",
   "execution_count": 15,
   "metadata": {},
   "outputs": [],
   "source": [
    "# transformiert kategorische variablen in integer\n",
    "for head in n_heads:\n",
    "    app_train[head], cats = pd.factorize(app_train[head])"
   ]
  },
  {
   "cell_type": "code",
   "execution_count": 16,
   "metadata": {},
   "outputs": [],
   "source": [
    "y = app_train[\"TARGET\"]\n",
    "x = app_train.drop([\"SK_ID_CURR\", \"TARGET\"], axis=1)"
   ]
  },
  {
   "cell_type": "code",
   "execution_count": 17,
   "metadata": {},
   "outputs": [],
   "source": [
    "# ersätzt alle np.nan durch 0\n",
    "x = x.fillna(0)"
   ]
  },
  {
   "cell_type": "code",
   "execution_count": 18,
   "metadata": {},
   "outputs": [],
   "source": [
    "# unterteilt den trainingsdatensatz in trainings- und validierungsdatensätze\n",
    "x_train, x_test, y_train, y_test = train_test_split(x, y, test_size=.5, random_state=0)"
   ]
  },
  {
   "cell_type": "code",
   "execution_count": 19,
   "metadata": {},
   "outputs": [],
   "source": [
    "# logistisches Regressionsmodell\n",
    "model = DecisionTreeClassifier(max_depth=7, random_state=0)"
   ]
  },
  {
   "cell_type": "code",
   "execution_count": 20,
   "metadata": {},
   "outputs": [
    {
     "data": {
      "text/plain": [
       "DecisionTreeClassifier(max_depth=7, random_state=0)"
      ]
     },
     "execution_count": 20,
     "metadata": {},
     "output_type": "execute_result"
    }
   ],
   "source": [
    "model.fit(x,y)"
   ]
  },
  {
   "cell_type": "code",
   "execution_count": 21,
   "metadata": {},
   "outputs": [
    {
     "data": {
      "text/plain": [
       "array([1, 1, 1, ..., 1, 1, 1], dtype=int64)"
      ]
     },
     "execution_count": 21,
     "metadata": {},
     "output_type": "execute_result"
    }
   ],
   "source": [
    "# Prognosewerte der Testdaten\n",
    "model.predict(x_test)"
   ]
  },
  {
   "cell_type": "code",
   "execution_count": 22,
   "metadata": {},
   "outputs": [
    {
     "data": {
      "text/plain": [
       "array([[0.20812317, 0.79187683],\n",
       "       [0.01777984, 0.98222016],\n",
       "       [0.18141514, 0.81858486],\n",
       "       ...,\n",
       "       [0.03303949, 0.96696051],\n",
       "       [0.03977644, 0.96022356],\n",
       "       [0.07104083, 0.92895917]])"
      ]
     },
     "execution_count": 22,
     "metadata": {},
     "output_type": "execute_result"
    }
   ],
   "source": [
    "# Prognosewerte der Testdaten in %\n",
    "x_test_prob = model.predict_proba(x_test)\n",
    "x_test_prob"
   ]
  },
  {
   "cell_type": "code",
   "execution_count": 23,
   "metadata": {},
   "outputs": [
    {
     "data": {
      "text/plain": [
       "0.9199120684721247"
      ]
     },
     "execution_count": 23,
     "metadata": {},
     "output_type": "execute_result"
    }
   ],
   "source": [
    "# Durchschnittliche Trefferwahrscheinlichkeit\n",
    "model.score(x_test, y_test)"
   ]
  },
  {
   "cell_type": "code",
   "execution_count": 24,
   "metadata": {},
   "outputs": [
    {
     "name": "stdout",
     "output_type": "stream",
     "text": [
      "0.7279448682781815\n"
     ]
    }
   ],
   "source": [
    "# Erstellung der AUC & ROC-Metrik\n",
    "# Wahrscheinlichkeiten für keinen Kreditausfall\n",
    "prob = x_test_prob[:,1]\n",
    "auc = roc_auc_score(y_test, prob)\n",
    "print(auc)\n",
    "# FalsePositiveRate, TruePositiveRate & Treshold\n",
    "fpr, tpr, threshold = roc_curve(y_test, prob)"
   ]
  },
  {
   "cell_type": "code",
   "execution_count": 25,
   "metadata": {},
   "outputs": [
    {
     "name": "stderr",
     "output_type": "stream",
     "text": [
      "c:\\users\\rober\\documents\\workspace\\python\\masterarbeit\\venv\\lib\\site-packages\\sklearn\\utils\\validation.py:67: FutureWarning: Pass shuffle=True, random_state=1 as keyword args. From version 0.25 passing these as positional arguments will result in an error\n",
      "  warnings.warn(\"Pass {} as keyword args. From version 0.25 \"\n"
     ]
    },
    {
     "name": "stdout",
     "output_type": "stream",
     "text": [
      "train: [     0      2      3 ... 307508 307509 307510], test: [     1      4      6 ... 307493 307495 307501], auc: 0.7163039386443366\n",
      "train: [     0      1      2 ... 307508 307509 307510], test: [     3     18     22 ... 307499 307503 307504], auc: 0.705851696281689\n",
      "train: [     0      1      2 ... 307508 307509 307510], test: [     9     10     15 ... 307489 307492 307502], auc: 0.7069723385152452\n",
      "train: [     0      1      2 ... 307506 307507 307508], test: [    12     16     23 ... 307505 307509 307510], auc: 0.7111729703648406\n",
      "train: [     1      3      4 ... 307505 307509 307510], test: [     0      2      5 ... 307506 307507 307508], auc: 0.7155161804377198\n",
      "\n",
      "\n",
      "Durchschnitt: 0.71\n",
      "Standardabw.: 0.00\n",
      "Varianz:      0.00\n"
     ]
    }
   ],
   "source": [
    "aucs = []\n",
    "\n",
    "kfold = KFold(5, True, 1)\n",
    "data = x\n",
    "\n",
    "# enumerate splits\n",
    "for i, (train, test) in enumerate(kfold.split(data)):\n",
    "    model.fit(x.loc[train], y.loc[train])\n",
    "    \n",
    "    # Prognosewerte der Testdaten in %\n",
    "    x_test_prob = model.predict_proba(x.loc[test])\n",
    "\n",
    "    # Erstellung der AUC & ROC-Metrik\n",
    "    # Wahrscheinlichkeiten für keinen Kreditausfall\n",
    "    prob = x_test_prob[:,1]\n",
    "    auc = roc_auc_score(y.loc[test], prob)\n",
    "    aucs.append(auc)\n",
    "    print('train: %s, test: %s, auc: %s' % (train, test, auc))\n",
    "\n",
    "print(\"\\n\")\n",
    "print(\"Durchschnitt: %.2f\" % (np.mean(aucs)))\n",
    "print(\"Standardabw.: %.2f\" % (np.std(aucs)))\n",
    "print(\"Varianz:      %.2f\" % (np.var(aucs)))"
   ]
  },
  {
   "cell_type": "code",
   "execution_count": 26,
   "metadata": {},
   "outputs": [
    {
     "data": {
      "image/png": "[encoded data removed]",
      "text/plain": [
       "<Figure size 432x288 with 1 Axes>"
      ]
     },
     "metadata": {
      "needs_background": "light"
     },
     "output_type": "display_data"
    }
   ],
   "source": [
    "plt.plot(fpr, tpr, color='darkorange', label='ROC curve (area = %0.2f)' % auc)\n",
    "plt.plot([0, 1], [0, 1], color='navy', lw=2, linestyle='--')\n",
    "plt.xlim([0.0, 1.0])\n",
    "plt.ylim([0.0, 1.0])\n",
    "plt.xlabel('False Positive Rate')\n",
    "plt.ylabel('True Positive Rate')\n",
    "plt.legend(loc=\"lower right\")\n",
    "plt.show()"
   ]
  },
  {
   "cell_type": "markdown",
   "metadata": {},
   "source": [
    "### Drop aus Ridge Regression"
   ]
  },
  {
   "cell_type": "code",
   "execution_count": 27,
   "metadata": {},
   "outputs": [],
   "source": [
    "drop = [\"('DAYS_CREDIT', 1.0)\", \"('AMT_CREDIT_MAX_OVERDUE', 0.75)\", \"('AMT_TOTAL_RECEIVABLE', 0.25)\", \"('AMT_CREDIT_SUM_DEBT', 0.75)\", \"('AMT_CREDIT_MAX_OVERDUE', 0.5)\", \"('AMT_BALANCE', 0.5)\", \"('AMT_RECEIVABLE_PRINCIPAL', 0.0)\", \"('AMT_PAYMENT', 1.0)\", \"('AMT_TOTAL_RECEIVABLE', 0.5)\", \"('AMT_CREDIT_SUM_DEBT', 1.0)\", \"('DAYS_CREDIT_UPDATE', 0.0)\", \"('AMT_BALANCE', 0.75)\", \"('DAYS_LAST_DUE_1ST_VERSION', 0.0)\", \"('DAYS_LAST_DUE_1ST_VERSION', 0.5)\", \"('CNT_DRAWINGS_ATM_CURRENT', 1.0)\", 'REGION_POPULATION_RELATIVE', 'ELEVATORS_AVG', 'WALLSMATERIAL_MODE', \"('AMT_INSTALMENT', 0.75)\", \"('CNT_PAYMENT', 0.5)\", \"('AMT_CREDIT_SUM_DEBT', 0.25)\", \"('AMT_RECIVABLE', 0.5)\", \"('AMT_BALANCE', 1.0)\", \"('AMT_PAYMENT_CURRENT', 0.25)\", \"('CNT_DRAWINGS_POS_CURRENT', 0.75)\", \"('DAYS_FIRST_DUE', 0.5)\", \"('AMT_ANNUITY', 0.5)_pa\", \"('CNT_INSTALMENT_MATURE_CUM', 0.5)\", \"('AMT_TOTAL_RECEIVABLE', 1.0)\", \"('AMT_CREDIT_MAX_OVERDUE', 0.0)\", \"('DAYS_DECISION', 0.75)\", \"('HOUR_APPR_PROCESS_START', 0.0)\", \"('AMT_PAYMENT_TOTAL_CURRENT', 0.25)\", \"('HOUR_APPR_PROCESS_START', 0.75)\", '43', \"('AMT_GOODS_PRICE', 1.0)\", \"('AMT_CREDIT_SUM', 0.0)\", \"('AMT_APPLICATION', 0.25)\", '1', \"('AMT_DRAWINGS_CURRENT', 1.0)\", \"('AMT_INST_MIN_REGULARITY', 0.75)\", \"('DAYS_LAST_DUE', 0.5)\", \"('AMT_CREDIT', 0.75)\", \"('AMT_DRAWINGS_ATM_CURRENT', 0.5)\", \"('AMT_GOODS_PRICE', 0.5)\", \"('AMT_DRAWINGS_CURRENT', 0.5)\", \"('AMT_ANNUITY', 0.75)_pa\", 'YEARS_BUILD_AVG', \"('HOUR_APPR_PROCESS_START', 0.25)\", \"('HOUR_APPR_PROCESS_START', 1.0)\", 'BASEMENTAREA_AVG', '4', \"('AMT_CREDIT_SUM_OVERDUE', 0.5)\", \"('CNT_DRAWINGS_CURRENT', 0.5)\", \"('RATE_DOWN_PAYMENT', 0.5)\", \"('DAYS_DECISION', 1.0)\", '58', \"('MONTHS_BALANCE', 0.5)_cc\", \"('AMT_DRAWINGS_POS_CURRENT', 0.75)\", \"('CNT_INSTALMENT_MATURE_CUM', 0.25)\", '10', \"('CREDIT_DAY_OVERDUE', 0.75)\", 'AMT_INCOME_TOTAL', '38', 'OBS_30_CNT_SOCIAL_CIRCLE', '29', 'FLOORSMIN_AVG', \"('AMT_DRAWINGS_POS_CURRENT', 0.5)\", \"('CNT_INSTALMENT_MATURE_CUM', 1.0)\", '31', \"('AMT_APPLICATION', 1.0)\", '57', \"('CNT_INSTALMENT_FUTURE', 0.0)\", \"('AMT_ANNUITY', 1.0)\", '7', '20', \"('SK_DPD_DEF', 1.0)_cc\", '34', 'Card X-Sell', \"('AMT_DOWN_PAYMENT', 0.0)\", 'NAME_TYPE_SUITE', 'Cash Street: low', '2', '9', \"('AMT_CREDIT_LIMIT_ACTUAL', 0.0)\", \"('AMT_ANNUITY', 0.75)\", 'NONLIVINGAREA_AVG', '66', '40', '49', '28', '13', '48', \"('CNT_DRAWINGS_POS_CURRENT', 0.25)\", \"('AMT_CREDIT_SUM_LIMIT', 0.25)\", '24', '32', '45', \"('CNT_DRAWINGS_POS_CURRENT', 0.5)\", '36', \"('AMT_ANNUITY', 0.5)\", \"('AMT_DRAWINGS_POS_CURRENT', 0.0)\", \"('AMT_INST_MIN_REGULARITY', 0.0)\", \"('SK_DPD_DEF', 0.75)_cc\", \"('NFLAG_INSURED_ON_APPROVAL', 0.25)\", 'LIVE_CITY_NOT_WORK_CITY', \"('SK_DPD', 0.5)\", \"('CNT_CREDIT_PROLONG', 1.0)\", '35', '47', \"('DAYS_FIRST_DRAWING', 1.0)\", '178', 'POS mobile without interest', '82', '181', 'AMT_REQ_CREDIT_BUREAU_WEEK', \"('CNT_CREDIT_PROLONG', 0.5)\", '96', '12', \"('SK_DPD', 0.0)\", '114', '136', \"('RATE_INTEREST_PRIVILEGED', 0.75)\", \"('RATE_INTEREST_PRIVILEGED', 0.5)\", '128', 'Loan for business development', 'FLAG_DOCUMENT_21', 'AMT_REQ_CREDIT_BUREAU_DAY', '93', '22', '131', '72', 'POS industry without interest', '86', '116', \"('AMT_CREDIT_SUM_OVERDUE', 0.0)\", '75', 'FLAG_OWN_REALTY', '79', \"('RATE_INTEREST_PRIVILEGED', 0.25)\", '156', '78', '137', 'Signed_cc', '122', '99', '80', '138', '89', '95', '127', '87', 'FLAG_DOCUMENT_11', \"('CNT_DRAWINGS_OTHER_CURRENT', 0.75)\", '74', 'AMT_REQ_CREDIT_BUREAU_MON', \"('AMT_DRAWINGS_OTHER_CURRENT', 0.5)\", 'Another type of loan', '151', 'Car loan', '90', \"('NFLAG_INSURED_ON_APPROVAL', 1.0)\", '208', 'Unknown type of loan', '91', \"('RATE_INTEREST_PRIVILEGED', 0.0)\", '196', '223', '225', '228', '230', '231', '234', '235', '237', '238', '240', '221', '218', '198', '200', '201', '203', '205', '207', '209', '212', '214', '244', 'Demand_cc', '268', '270', '272', '274', '276', \"('AMT_DRAWINGS_OTHER_CURRENT', 0.25)\", \"('CNT_DRAWINGS_OTHER_CURRENT', 0.25)\", \"('SK_DPD_DEF', 0.0)_cc\", \"('SK_DPD_DEF', 0.5)_cc\", '267', '265', '246', '247', '248', '250', '252', '253', '256', '258', '260', '262', '197', \"('SK_DPD_DEF', 0.0)\", 'XNA', '73', '84', '113', \"('NFLAG_LAST_APPL_IN_DAY', 0.75)\", 'FLAG_DOCUMENT_10', 'REG_REGION_NOT_WORK_REGION', 'FLAG_DOCUMENT_7', 'Real estate loan', \"('CNT_CREDIT_PROLONG', 0.0)\", 'Interbank credit', 'Loan for purchase of shares (margin lending)', '126', '194', '169', '170', '177', '183', '184', '191', '192', '165', '163', '135', '140', '141', '144', '161', '152', '153', '154', '158']"
   ]
  },
  {
   "cell_type": "code",
   "execution_count": 28,
   "metadata": {},
   "outputs": [],
   "source": [
    "heads = [feature for feature in x.columns if feature not in drop]"
   ]
  },
  {
   "cell_type": "code",
   "execution_count": 29,
   "metadata": {},
   "outputs": [],
   "source": [
    "x = x[heads]"
   ]
  },
  {
   "cell_type": "code",
   "execution_count": 30,
   "metadata": {},
   "outputs": [
    {
     "name": "stderr",
     "output_type": "stream",
     "text": [
      "c:\\users\\rober\\documents\\workspace\\python\\masterarbeit\\venv\\lib\\site-packages\\sklearn\\utils\\validation.py:67: FutureWarning: Pass shuffle=True, random_state=1 as keyword args. From version 0.25 passing these as positional arguments will result in an error\n",
      "  warnings.warn(\"Pass {} as keyword args. From version 0.25 \"\n"
     ]
    },
    {
     "name": "stdout",
     "output_type": "stream",
     "text": [
      "train: [     0      2      3 ... 307508 307509 307510], test: [     1      4      6 ... 307493 307495 307501], auc: 0.7167433999215785\n",
      "train: [     0      1      2 ... 307508 307509 307510], test: [     3     18     22 ... 307499 307503 307504], auc: 0.7082141479301554\n",
      "train: [     0      1      2 ... 307508 307509 307510], test: [     9     10     15 ... 307489 307492 307502], auc: 0.707480310452672\n",
      "train: [     0      1      2 ... 307506 307507 307508], test: [    12     16     23 ... 307505 307509 307510], auc: 0.7119628441696495\n",
      "train: [     1      3      4 ... 307505 307509 307510], test: [     0      2      5 ... 307506 307507 307508], auc: 0.7170349513693616\n",
      "\n",
      "\n",
      "Durchschnitt: 0.71\n",
      "Standardabw.: 0.00\n",
      "Varianz:      0.00\n"
     ]
    }
   ],
   "source": [
    "aucs = []\n",
    "\n",
    "kfold = KFold(5, True, 1)\n",
    "data = x\n",
    "\n",
    "# enumerate splits\n",
    "for i, (train, test) in enumerate(kfold.split(data)):\n",
    "    model.fit(x.loc[train], y.loc[train])\n",
    "    \n",
    "    # Prognosewerte der Testdaten in %\n",
    "    x_test_prob = model.predict_proba(x.loc[test])\n",
    "\n",
    "    # Erstellung der AUC & ROC-Metrik\n",
    "    # Wahrscheinlichkeiten für keinen Kreditausfall\n",
    "    prob = x_test_prob[:,1]\n",
    "    auc = roc_auc_score(y.loc[test], prob)\n",
    "    aucs.append(auc)\n",
    "    print('train: %s, test: %s, auc: %s' % (train, test, auc))\n",
    "\n",
    "print(\"\\n\")\n",
    "print(\"Durchschnitt: %.2f\" % (np.mean(aucs)))\n",
    "print(\"Standardabw.: %.2f\" % (np.std(aucs)))\n",
    "print(\"Varianz:      %.2f\" % (np.var(aucs)))"
   ]
  },
  {
   "cell_type": "code",
   "execution_count": null,
   "metadata": {},
   "outputs": [],
   "source": []
  }
 ],
 "metadata": {
  "kernelspec": {
   "display_name": "Python 3",
   "language": "python",
   "name": "python3"
  },
  "language_info": {
   "codemirror_mode": {
    "name": "ipython",
    "version": 3
   },
   "file_extension": ".py",
   "mimetype": "text/x-python",
   "name": "python",
   "nbconvert_exporter": "python",
   "pygments_lexer": "ipython3",
   "version": "3.8.7"
  }
 },
 "nbformat": 4,
 "nbformat_minor": 4
}
