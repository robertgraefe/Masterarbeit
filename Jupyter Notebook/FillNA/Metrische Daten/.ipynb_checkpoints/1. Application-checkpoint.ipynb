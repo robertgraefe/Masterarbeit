{
 "cells": [
  {
   "cell_type": "code",
   "execution_count": 1,
   "metadata": {},
   "outputs": [],
   "source": [
    "import matplotlib.pyplot as plt\n",
    "import pandas as pd\n",
    "import numpy as np\n",
    "import seaborn as sns\n",
    "\n",
    "from pathlib import Path\n",
    "\n",
    "pd.options.display.max_columns = None\n",
    "pd.options.display.max_rows = None\n",
    "pd.options.display.max_colwidth = None\n",
    "\n",
    "from sklearn.linear_model import LogisticRegression"
   ]
  },
  {
   "cell_type": "code",
   "execution_count": 2,
   "metadata": {},
   "outputs": [],
   "source": [
    "path1 = Path(r\"A:\\Workspace\\Python\\Masterarbeit\\Kaggle Home Credit Datensatz\")\n",
    "path2 = Path(r\"C:\\Users\\rober\\Documents\\Workspace\\Python\\Masterarbeit\\Kaggle Home Credit Datensatz\")\n",
    "\n",
    "if path1.is_dir():\n",
    "    DATASET_DIR = path1\n",
    "else:\n",
    "    DATASET_DIR = path2"
   ]
  },
  {
   "cell_type": "code",
   "execution_count": 3,
   "metadata": {},
   "outputs": [],
   "source": [
    "app_test = pd.read_csv(DATASET_DIR / \"application_test.csv\")\n",
    "app_train = pd.read_csv(DATASET_DIR / \"application_train.csv\")\n",
    "\n",
    "description = pd.read_csv(DATASET_DIR / \"HomeCredit_columns_description.csv\", encoding=\"latin\", index_col=0)"
   ]
  },
  {
   "cell_type": "code",
   "execution_count": 4,
   "metadata": {},
   "outputs": [],
   "source": [
    "des = description.loc[description['Table']==\"application_{train|test}.csv\", \"Row\":\"Special\"]"
   ]
  },
  {
   "cell_type": "markdown",
   "metadata": {},
   "source": [
    "### metrische Daten"
   ]
  },
  {
   "cell_type": "code",
   "execution_count": 5,
   "metadata": {},
   "outputs": [],
   "source": [
    "m_heads = ['CNT_CHILDREN','AMT_INCOME_TOTAL', 'AMT_CREDIT', 'AMT_ANNUITY', 'AMT_GOODS_PRICE', 'REGION_POPULATION_RELATIVE', 'DAYS_BIRTH', 'DAYS_EMPLOYED', 'DAYS_REGISTRATION', 'DAYS_ID_PUBLISH', 'OWN_CAR_AGE', 'CNT_FAM_MEMBERS', 'HOUR_APPR_PROCESS_START', 'EXT_SOURCE_1', 'EXT_SOURCE_2', 'EXT_SOURCE_3', 'APARTMENTS_AVG', 'BASEMENTAREA_AVG', 'YEARS_BEGINEXPLUATATION_AVG', 'YEARS_BUILD_AVG', 'COMMONAREA_AVG', 'ELEVATORS_AVG', 'ENTRANCES_AVG', 'FLOORSMAX_AVG', 'FLOORSMIN_AVG', 'LANDAREA_AVG', 'LIVINGAPARTMENTS_AVG', 'LIVINGAREA_AVG', 'NONLIVINGAPARTMENTS_AVG', 'NONLIVINGAREA_AVG', 'APARTMENTS_MODE', 'BASEMENTAREA_MODE', 'YEARS_BEGINEXPLUATATION_MODE', 'YEARS_BUILD_MODE', 'COMMONAREA_MODE', 'ELEVATORS_MODE', 'ENTRANCES_MODE', 'FLOORSMAX_MODE', 'FLOORSMIN_MODE', 'LANDAREA_MODE', 'LIVINGAPARTMENTS_MODE', 'LIVINGAREA_MODE', 'NONLIVINGAPARTMENTS_MODE', 'NONLIVINGAREA_MODE', 'APARTMENTS_MEDI', 'BASEMENTAREA_MEDI', 'YEARS_BEGINEXPLUATATION_MEDI', 'YEARS_BUILD_MEDI', 'COMMONAREA_MEDI', 'ELEVATORS_MEDI', 'ENTRANCES_MEDI', 'FLOORSMAX_MEDI', 'FLOORSMIN_MEDI', 'LANDAREA_MEDI', 'LIVINGAPARTMENTS_MEDI', 'LIVINGAREA_MEDI', 'NONLIVINGAPARTMENTS_MEDI', 'NONLIVINGAREA_MEDI', 'TOTALAREA_MODE', 'OBS_30_CNT_SOCIAL_CIRCLE', 'DEF_30_CNT_SOCIAL_CIRCLE', 'OBS_60_CNT_SOCIAL_CIRCLE', 'DEF_60_CNT_SOCIAL_CIRCLE', 'DAYS_LAST_PHONE_CHANGE', 'AMT_REQ_CREDIT_BUREAU_HOUR', 'AMT_REQ_CREDIT_BUREAU_DAY', 'AMT_REQ_CREDIT_BUREAU_WEEK', 'AMT_REQ_CREDIT_BUREAU_MON', 'AMT_REQ_CREDIT_BUREAU_QRT', 'AMT_REQ_CREDIT_BUREAU_YEAR']"
   ]
  },
  {
   "cell_type": "code",
   "execution_count": 6,
   "metadata": {},
   "outputs": [],
   "source": [
    "df = app_train[[\"SK_ID_CURR\", \"TARGET\"] + m_heads]"
   ]
  },
  {
   "cell_type": "code",
   "execution_count": 7,
   "metadata": {},
   "outputs": [],
   "source": [
    "skip = \"SK_ID_CURR\""
   ]
  },
  {
   "cell_type": "code",
   "execution_count": 8,
   "metadata": {},
   "outputs": [
    {
     "data": {
      "text/html": [
       "<div>\n",
       "<style scoped>\n",
       "    .dataframe tbody tr th:only-of-type {\n",
       "        vertical-align: middle;\n",
       "    }\n",
       "\n",
       "    .dataframe tbody tr th {\n",
       "        vertical-align: top;\n",
       "    }\n",
       "\n",
       "    .dataframe thead th {\n",
       "        text-align: right;\n",
       "    }\n",
       "</style>\n",
       "<table border=\"1\" class=\"dataframe\">\n",
       "  <thead>\n",
       "    <tr style=\"text-align: right;\">\n",
       "      <th></th>\n",
       "      <th>header</th>\n",
       "      <th>rate</th>\n",
       "      <th>des</th>\n",
       "    </tr>\n",
       "  </thead>\n",
       "  <tbody>\n",
       "    <tr>\n",
       "      <th>0</th>\n",
       "      <td>OWN_CAR_AGE</td>\n",
       "      <td>65.990810</td>\n",
       "      <td>24    Age of client's car\n",
       "Name: Description, dtype: object</td>\n",
       "    </tr>\n",
       "    <tr>\n",
       "      <th>1</th>\n",
       "      <td>YEARS_BUILD_AVG</td>\n",
       "      <td>66.497784</td>\n",
       "      <td>50    Normalized information about building where the client lives, What is average (_AVG suffix), modus (_MODE suffix), median (_MEDI suffix) apartment size, common area, living area, age of building, number of elevators, number of entrances, state of the building, number of floor\n",
       "Name: Description, dtype: object</td>\n",
       "    </tr>\n",
       "    <tr>\n",
       "      <th>2</th>\n",
       "      <td>COMMONAREA_AVG</td>\n",
       "      <td>69.872297</td>\n",
       "      <td>51    Normalized information about building where the client lives, What is average (_AVG suffix), modus (_MODE suffix), median (_MEDI suffix) apartment size, common area, living area, age of building, number of elevators, number of entrances, state of the building, number of floor\n",
       "Name: Description, dtype: object</td>\n",
       "    </tr>\n",
       "    <tr>\n",
       "      <th>3</th>\n",
       "      <td>FLOORSMIN_AVG</td>\n",
       "      <td>67.848630</td>\n",
       "      <td>55    Normalized information about building where the client lives, What is average (_AVG suffix), modus (_MODE suffix), median (_MEDI suffix) apartment size, common area, living area, age of building, number of elevators, number of entrances, state of the building, number of floor\n",
       "Name: Description, dtype: object</td>\n",
       "    </tr>\n",
       "    <tr>\n",
       "      <th>4</th>\n",
       "      <td>LIVINGAPARTMENTS_AVG</td>\n",
       "      <td>68.354953</td>\n",
       "      <td>57    Normalized information about building where the client lives, What is average (_AVG suffix), modus (_MODE suffix), median (_MEDI suffix) apartment size, common area, living area, age of building, number of elevators, number of entrances, state of the building, number of floor\n",
       "Name: Description, dtype: object</td>\n",
       "    </tr>\n",
       "    <tr>\n",
       "      <th>5</th>\n",
       "      <td>NONLIVINGAPARTMENTS_AVG</td>\n",
       "      <td>69.432963</td>\n",
       "      <td>59    Normalized information about building where the client lives, What is average (_AVG suffix), modus (_MODE suffix), median (_MEDI suffix) apartment size, common area, living area, age of building, number of elevators, number of entrances, state of the building, number of floor\n",
       "Name: Description, dtype: object</td>\n",
       "    </tr>\n",
       "    <tr>\n",
       "      <th>6</th>\n",
       "      <td>YEARS_BUILD_MODE</td>\n",
       "      <td>66.497784</td>\n",
       "      <td>64    Normalized information about building where the client lives, What is average (_AVG suffix), modus (_MODE suffix), median (_MEDI suffix) apartment size, common area, living area, age of building, number of elevators, number of entrances, state of the building, number of floor\n",
       "Name: Description, dtype: object</td>\n",
       "    </tr>\n",
       "    <tr>\n",
       "      <th>7</th>\n",
       "      <td>COMMONAREA_MODE</td>\n",
       "      <td>69.872297</td>\n",
       "      <td>65    Normalized information about building where the client lives, What is average (_AVG suffix), modus (_MODE suffix), median (_MEDI suffix) apartment size, common area, living area, age of building, number of elevators, number of entrances, state of the building, number of floor\n",
       "Name: Description, dtype: object</td>\n",
       "    </tr>\n",
       "    <tr>\n",
       "      <th>8</th>\n",
       "      <td>FLOORSMIN_MODE</td>\n",
       "      <td>67.848630</td>\n",
       "      <td>69    Normalized information about building where the client lives, What is average (_AVG suffix), modus (_MODE suffix), median (_MEDI suffix) apartment size, common area, living area, age of building, number of elevators, number of entrances, state of the building, number of floor\n",
       "Name: Description, dtype: object</td>\n",
       "    </tr>\n",
       "    <tr>\n",
       "      <th>9</th>\n",
       "      <td>LIVINGAPARTMENTS_MODE</td>\n",
       "      <td>68.354953</td>\n",
       "      <td>71    Normalized information about building where the client lives, What is average (_AVG suffix), modus (_MODE suffix), median (_MEDI suffix) apartment size, common area, living area, age of building, number of elevators, number of entrances, state of the building, number of floor\n",
       "Name: Description, dtype: object</td>\n",
       "    </tr>\n",
       "    <tr>\n",
       "      <th>10</th>\n",
       "      <td>NONLIVINGAPARTMENTS_MODE</td>\n",
       "      <td>69.432963</td>\n",
       "      <td>73    Normalized information about building where the client lives, What is average (_AVG suffix), modus (_MODE suffix), median (_MEDI suffix) apartment size, common area, living area, age of building, number of elevators, number of entrances, state of the building, number of floor\n",
       "Name: Description, dtype: object</td>\n",
       "    </tr>\n",
       "    <tr>\n",
       "      <th>11</th>\n",
       "      <td>YEARS_BUILD_MEDI</td>\n",
       "      <td>66.497784</td>\n",
       "      <td>78    Normalized information about building where the client lives, What is average (_AVG suffix), modus (_MODE suffix), median (_MEDI suffix) apartment size, common area, living area, age of building, number of elevators, number of entrances, state of the building, number of floor\n",
       "Name: Description, dtype: object</td>\n",
       "    </tr>\n",
       "    <tr>\n",
       "      <th>12</th>\n",
       "      <td>COMMONAREA_MEDI</td>\n",
       "      <td>69.872297</td>\n",
       "      <td>79    Normalized information about building where the client lives, What is average (_AVG suffix), modus (_MODE suffix), median (_MEDI suffix) apartment size, common area, living area, age of building, number of elevators, number of entrances, state of the building, number of floor\n",
       "Name: Description, dtype: object</td>\n",
       "    </tr>\n",
       "    <tr>\n",
       "      <th>13</th>\n",
       "      <td>FLOORSMIN_MEDI</td>\n",
       "      <td>67.848630</td>\n",
       "      <td>83    Normalized information about building where the client lives, What is average (_AVG suffix), modus (_MODE suffix), median (_MEDI suffix) apartment size, common area, living area, age of building, number of elevators, number of entrances, state of the building, number of floor\n",
       "Name: Description, dtype: object</td>\n",
       "    </tr>\n",
       "    <tr>\n",
       "      <th>14</th>\n",
       "      <td>LIVINGAPARTMENTS_MEDI</td>\n",
       "      <td>68.354953</td>\n",
       "      <td>85    Normalized information about building where the client lives, What is average (_AVG suffix), modus (_MODE suffix), median (_MEDI suffix) apartment size, common area, living area, age of building, number of elevators, number of entrances, state of the building, number of floor\n",
       "Name: Description, dtype: object</td>\n",
       "    </tr>\n",
       "    <tr>\n",
       "      <th>15</th>\n",
       "      <td>NONLIVINGAPARTMENTS_MEDI</td>\n",
       "      <td>69.432963</td>\n",
       "      <td>87    Normalized information about building where the client lives, What is average (_AVG suffix), modus (_MODE suffix), median (_MEDI suffix) apartment size, common area, living area, age of building, number of elevators, number of entrances, state of the building, number of floor\n",
       "Name: Description, dtype: object</td>\n",
       "    </tr>\n",
       "  </tbody>\n",
       "</table>\n",
       "</div>"
      ],
      "text/plain": [
       "                      header       rate  \\\n",
       "0                OWN_CAR_AGE  65.990810   \n",
       "1            YEARS_BUILD_AVG  66.497784   \n",
       "2             COMMONAREA_AVG  69.872297   \n",
       "3              FLOORSMIN_AVG  67.848630   \n",
       "4       LIVINGAPARTMENTS_AVG  68.354953   \n",
       "5    NONLIVINGAPARTMENTS_AVG  69.432963   \n",
       "6           YEARS_BUILD_MODE  66.497784   \n",
       "7            COMMONAREA_MODE  69.872297   \n",
       "8             FLOORSMIN_MODE  67.848630   \n",
       "9      LIVINGAPARTMENTS_MODE  68.354953   \n",
       "10  NONLIVINGAPARTMENTS_MODE  69.432963   \n",
       "11          YEARS_BUILD_MEDI  66.497784   \n",
       "12           COMMONAREA_MEDI  69.872297   \n",
       "13            FLOORSMIN_MEDI  67.848630   \n",
       "14     LIVINGAPARTMENTS_MEDI  68.354953   \n",
       "15  NONLIVINGAPARTMENTS_MEDI  69.432963   \n",
       "\n",
       "                                                                                                                                                                                                                                                                                                                            des  \n",
       "0                                                                                                                                                                                                                                                                    24    Age of client's car\n",
       "Name: Description, dtype: object  \n",
       "1   50    Normalized information about building where the client lives, What is average (_AVG suffix), modus (_MODE suffix), median (_MEDI suffix) apartment size, common area, living area, age of building, number of elevators, number of entrances, state of the building, number of floor\n",
       "Name: Description, dtype: object  \n",
       "2   51    Normalized information about building where the client lives, What is average (_AVG suffix), modus (_MODE suffix), median (_MEDI suffix) apartment size, common area, living area, age of building, number of elevators, number of entrances, state of the building, number of floor\n",
       "Name: Description, dtype: object  \n",
       "3   55    Normalized information about building where the client lives, What is average (_AVG suffix), modus (_MODE suffix), median (_MEDI suffix) apartment size, common area, living area, age of building, number of elevators, number of entrances, state of the building, number of floor\n",
       "Name: Description, dtype: object  \n",
       "4   57    Normalized information about building where the client lives, What is average (_AVG suffix), modus (_MODE suffix), median (_MEDI suffix) apartment size, common area, living area, age of building, number of elevators, number of entrances, state of the building, number of floor\n",
       "Name: Description, dtype: object  \n",
       "5   59    Normalized information about building where the client lives, What is average (_AVG suffix), modus (_MODE suffix), median (_MEDI suffix) apartment size, common area, living area, age of building, number of elevators, number of entrances, state of the building, number of floor\n",
       "Name: Description, dtype: object  \n",
       "6   64    Normalized information about building where the client lives, What is average (_AVG suffix), modus (_MODE suffix), median (_MEDI suffix) apartment size, common area, living area, age of building, number of elevators, number of entrances, state of the building, number of floor\n",
       "Name: Description, dtype: object  \n",
       "7   65    Normalized information about building where the client lives, What is average (_AVG suffix), modus (_MODE suffix), median (_MEDI suffix) apartment size, common area, living area, age of building, number of elevators, number of entrances, state of the building, number of floor\n",
       "Name: Description, dtype: object  \n",
       "8   69    Normalized information about building where the client lives, What is average (_AVG suffix), modus (_MODE suffix), median (_MEDI suffix) apartment size, common area, living area, age of building, number of elevators, number of entrances, state of the building, number of floor\n",
       "Name: Description, dtype: object  \n",
       "9   71    Normalized information about building where the client lives, What is average (_AVG suffix), modus (_MODE suffix), median (_MEDI suffix) apartment size, common area, living area, age of building, number of elevators, number of entrances, state of the building, number of floor\n",
       "Name: Description, dtype: object  \n",
       "10  73    Normalized information about building where the client lives, What is average (_AVG suffix), modus (_MODE suffix), median (_MEDI suffix) apartment size, common area, living area, age of building, number of elevators, number of entrances, state of the building, number of floor\n",
       "Name: Description, dtype: object  \n",
       "11  78    Normalized information about building where the client lives, What is average (_AVG suffix), modus (_MODE suffix), median (_MEDI suffix) apartment size, common area, living area, age of building, number of elevators, number of entrances, state of the building, number of floor\n",
       "Name: Description, dtype: object  \n",
       "12  79    Normalized information about building where the client lives, What is average (_AVG suffix), modus (_MODE suffix), median (_MEDI suffix) apartment size, common area, living area, age of building, number of elevators, number of entrances, state of the building, number of floor\n",
       "Name: Description, dtype: object  \n",
       "13  83    Normalized information about building where the client lives, What is average (_AVG suffix), modus (_MODE suffix), median (_MEDI suffix) apartment size, common area, living area, age of building, number of elevators, number of entrances, state of the building, number of floor\n",
       "Name: Description, dtype: object  \n",
       "14  85    Normalized information about building where the client lives, What is average (_AVG suffix), modus (_MODE suffix), median (_MEDI suffix) apartment size, common area, living area, age of building, number of elevators, number of entrances, state of the building, number of floor\n",
       "Name: Description, dtype: object  \n",
       "15  87    Normalized information about building where the client lives, What is average (_AVG suffix), modus (_MODE suffix), median (_MEDI suffix) apartment size, common area, living area, age of building, number of elevators, number of entrances, state of the building, number of floor\n",
       "Name: Description, dtype: object  "
      ]
     },
     "execution_count": 8,
     "metadata": {},
     "output_type": "execute_result"
    }
   ],
   "source": [
    "result = {\n",
    "          \"header\":[],\n",
    "          \"rate\":[],\n",
    "          \"des\":[]\n",
    "         }\n",
    "for key in df.keys():\n",
    "    if key in skip:\n",
    "        continue\n",
    "    rate = df[key].isnull().sum() / len(df[key]) * 100\n",
    "    if rate > 60:\n",
    "        result[\"header\"].append(key)\n",
    "        result[\"rate\"].append(rate)\n",
    "        result[\"des\"].append(des[des[\"Row\"] == key][\"Description\"])\n",
    "\n",
    "result = pd.DataFrame(result)\n",
    "result"
   ]
  },
  {
   "cell_type": "code",
   "execution_count": 9,
   "metadata": {},
   "outputs": [
    {
     "data": {
      "text/plain": [
       "['OWN_CAR_AGE',\n",
       " 'YEARS_BUILD_AVG',\n",
       " 'COMMONAREA_AVG',\n",
       " 'FLOORSMIN_AVG',\n",
       " 'LIVINGAPARTMENTS_AVG',\n",
       " 'NONLIVINGAPARTMENTS_AVG',\n",
       " 'YEARS_BUILD_MODE',\n",
       " 'COMMONAREA_MODE',\n",
       " 'FLOORSMIN_MODE',\n",
       " 'LIVINGAPARTMENTS_MODE',\n",
       " 'NONLIVINGAPARTMENTS_MODE',\n",
       " 'YEARS_BUILD_MEDI',\n",
       " 'COMMONAREA_MEDI',\n",
       " 'FLOORSMIN_MEDI',\n",
       " 'LIVINGAPARTMENTS_MEDI',\n",
       " 'NONLIVINGAPARTMENTS_MEDI']"
      ]
     },
     "execution_count": 9,
     "metadata": {},
     "output_type": "execute_result"
    }
   ],
   "source": [
    "list(result.header)"
   ]
  },
  {
   "cell_type": "code",
   "execution_count": 10,
   "metadata": {},
   "outputs": [
    {
     "data": {
      "text/html": [
       "<div>\n",
       "<style scoped>\n",
       "    .dataframe tbody tr th:only-of-type {\n",
       "        vertical-align: middle;\n",
       "    }\n",
       "\n",
       "    .dataframe tbody tr th {\n",
       "        vertical-align: top;\n",
       "    }\n",
       "\n",
       "    .dataframe thead th {\n",
       "        text-align: right;\n",
       "    }\n",
       "</style>\n",
       "<table border=\"1\" class=\"dataframe\">\n",
       "  <thead>\n",
       "    <tr style=\"text-align: right;\">\n",
       "      <th></th>\n",
       "      <th>CNT_CHILDREN</th>\n",
       "      <th>AMT_INCOME_TOTAL</th>\n",
       "      <th>AMT_CREDIT</th>\n",
       "      <th>AMT_ANNUITY</th>\n",
       "      <th>AMT_GOODS_PRICE</th>\n",
       "      <th>REGION_POPULATION_RELATIVE</th>\n",
       "      <th>DAYS_BIRTH</th>\n",
       "      <th>DAYS_EMPLOYED</th>\n",
       "      <th>DAYS_REGISTRATION</th>\n",
       "      <th>DAYS_ID_PUBLISH</th>\n",
       "      <th>CNT_FAM_MEMBERS</th>\n",
       "      <th>HOUR_APPR_PROCESS_START</th>\n",
       "      <th>EXT_SOURCE_1</th>\n",
       "      <th>EXT_SOURCE_2</th>\n",
       "      <th>EXT_SOURCE_3</th>\n",
       "      <th>APARTMENTS_AVG</th>\n",
       "      <th>BASEMENTAREA_AVG</th>\n",
       "      <th>YEARS_BEGINEXPLUATATION_AVG</th>\n",
       "      <th>ELEVATORS_AVG</th>\n",
       "      <th>ENTRANCES_AVG</th>\n",
       "      <th>FLOORSMAX_AVG</th>\n",
       "      <th>LANDAREA_AVG</th>\n",
       "      <th>LIVINGAREA_AVG</th>\n",
       "      <th>NONLIVINGAREA_AVG</th>\n",
       "      <th>APARTMENTS_MODE</th>\n",
       "      <th>BASEMENTAREA_MODE</th>\n",
       "      <th>YEARS_BEGINEXPLUATATION_MODE</th>\n",
       "      <th>ELEVATORS_MODE</th>\n",
       "      <th>ENTRANCES_MODE</th>\n",
       "      <th>FLOORSMAX_MODE</th>\n",
       "      <th>LANDAREA_MODE</th>\n",
       "      <th>LIVINGAREA_MODE</th>\n",
       "      <th>NONLIVINGAREA_MODE</th>\n",
       "      <th>APARTMENTS_MEDI</th>\n",
       "      <th>BASEMENTAREA_MEDI</th>\n",
       "      <th>YEARS_BEGINEXPLUATATION_MEDI</th>\n",
       "      <th>ELEVATORS_MEDI</th>\n",
       "      <th>ENTRANCES_MEDI</th>\n",
       "      <th>FLOORSMAX_MEDI</th>\n",
       "      <th>LANDAREA_MEDI</th>\n",
       "      <th>LIVINGAREA_MEDI</th>\n",
       "      <th>NONLIVINGAREA_MEDI</th>\n",
       "      <th>TOTALAREA_MODE</th>\n",
       "      <th>OBS_30_CNT_SOCIAL_CIRCLE</th>\n",
       "      <th>DEF_30_CNT_SOCIAL_CIRCLE</th>\n",
       "      <th>OBS_60_CNT_SOCIAL_CIRCLE</th>\n",
       "      <th>DEF_60_CNT_SOCIAL_CIRCLE</th>\n",
       "      <th>DAYS_LAST_PHONE_CHANGE</th>\n",
       "      <th>AMT_REQ_CREDIT_BUREAU_HOUR</th>\n",
       "      <th>AMT_REQ_CREDIT_BUREAU_DAY</th>\n",
       "      <th>AMT_REQ_CREDIT_BUREAU_WEEK</th>\n",
       "      <th>AMT_REQ_CREDIT_BUREAU_MON</th>\n",
       "      <th>AMT_REQ_CREDIT_BUREAU_QRT</th>\n",
       "      <th>AMT_REQ_CREDIT_BUREAU_YEAR</th>\n",
       "    </tr>\n",
       "  </thead>\n",
       "  <tbody>\n",
       "    <tr>\n",
       "      <th>0</th>\n",
       "      <td>0</td>\n",
       "      <td>202500.0</td>\n",
       "      <td>406597.5</td>\n",
       "      <td>24700.5</td>\n",
       "      <td>351000.0</td>\n",
       "      <td>0.018801</td>\n",
       "      <td>-9461</td>\n",
       "      <td>-637</td>\n",
       "      <td>-3648.0</td>\n",
       "      <td>-2120</td>\n",
       "      <td>1.0</td>\n",
       "      <td>10</td>\n",
       "      <td>0.083037</td>\n",
       "      <td>0.262949</td>\n",
       "      <td>0.139376</td>\n",
       "      <td>0.0247</td>\n",
       "      <td>0.0369</td>\n",
       "      <td>0.9722</td>\n",
       "      <td>0.00</td>\n",
       "      <td>0.0690</td>\n",
       "      <td>0.0833</td>\n",
       "      <td>0.0369</td>\n",
       "      <td>0.0190</td>\n",
       "      <td>0.0000</td>\n",
       "      <td>0.0252</td>\n",
       "      <td>0.0383</td>\n",
       "      <td>0.9722</td>\n",
       "      <td>0.0000</td>\n",
       "      <td>0.0690</td>\n",
       "      <td>0.0833</td>\n",
       "      <td>0.0377</td>\n",
       "      <td>0.0198</td>\n",
       "      <td>0.0</td>\n",
       "      <td>0.0250</td>\n",
       "      <td>0.0369</td>\n",
       "      <td>0.9722</td>\n",
       "      <td>0.00</td>\n",
       "      <td>0.0690</td>\n",
       "      <td>0.0833</td>\n",
       "      <td>0.0375</td>\n",
       "      <td>0.0193</td>\n",
       "      <td>0.00</td>\n",
       "      <td>0.0149</td>\n",
       "      <td>2.0</td>\n",
       "      <td>2.0</td>\n",
       "      <td>2.0</td>\n",
       "      <td>2.0</td>\n",
       "      <td>-1134.0</td>\n",
       "      <td>0.0</td>\n",
       "      <td>0.0</td>\n",
       "      <td>0.0</td>\n",
       "      <td>0.0</td>\n",
       "      <td>0.0</td>\n",
       "      <td>1.0</td>\n",
       "    </tr>\n",
       "    <tr>\n",
       "      <th>1</th>\n",
       "      <td>0</td>\n",
       "      <td>270000.0</td>\n",
       "      <td>1293502.5</td>\n",
       "      <td>35698.5</td>\n",
       "      <td>1129500.0</td>\n",
       "      <td>0.003541</td>\n",
       "      <td>-16765</td>\n",
       "      <td>-1188</td>\n",
       "      <td>-1186.0</td>\n",
       "      <td>-291</td>\n",
       "      <td>2.0</td>\n",
       "      <td>11</td>\n",
       "      <td>0.311267</td>\n",
       "      <td>0.622246</td>\n",
       "      <td>NaN</td>\n",
       "      <td>0.0959</td>\n",
       "      <td>0.0529</td>\n",
       "      <td>0.9851</td>\n",
       "      <td>0.08</td>\n",
       "      <td>0.0345</td>\n",
       "      <td>0.2917</td>\n",
       "      <td>0.0130</td>\n",
       "      <td>0.0549</td>\n",
       "      <td>0.0098</td>\n",
       "      <td>0.0924</td>\n",
       "      <td>0.0538</td>\n",
       "      <td>0.9851</td>\n",
       "      <td>0.0806</td>\n",
       "      <td>0.0345</td>\n",
       "      <td>0.2917</td>\n",
       "      <td>0.0128</td>\n",
       "      <td>0.0554</td>\n",
       "      <td>0.0</td>\n",
       "      <td>0.0968</td>\n",
       "      <td>0.0529</td>\n",
       "      <td>0.9851</td>\n",
       "      <td>0.08</td>\n",
       "      <td>0.0345</td>\n",
       "      <td>0.2917</td>\n",
       "      <td>0.0132</td>\n",
       "      <td>0.0558</td>\n",
       "      <td>0.01</td>\n",
       "      <td>0.0714</td>\n",
       "      <td>1.0</td>\n",
       "      <td>0.0</td>\n",
       "      <td>1.0</td>\n",
       "      <td>0.0</td>\n",
       "      <td>-828.0</td>\n",
       "      <td>0.0</td>\n",
       "      <td>0.0</td>\n",
       "      <td>0.0</td>\n",
       "      <td>0.0</td>\n",
       "      <td>0.0</td>\n",
       "      <td>0.0</td>\n",
       "    </tr>\n",
       "    <tr>\n",
       "      <th>2</th>\n",
       "      <td>0</td>\n",
       "      <td>67500.0</td>\n",
       "      <td>135000.0</td>\n",
       "      <td>6750.0</td>\n",
       "      <td>135000.0</td>\n",
       "      <td>0.010032</td>\n",
       "      <td>-19046</td>\n",
       "      <td>-225</td>\n",
       "      <td>-4260.0</td>\n",
       "      <td>-2531</td>\n",
       "      <td>1.0</td>\n",
       "      <td>9</td>\n",
       "      <td>NaN</td>\n",
       "      <td>0.555912</td>\n",
       "      <td>0.729567</td>\n",
       "      <td>NaN</td>\n",
       "      <td>NaN</td>\n",
       "      <td>NaN</td>\n",
       "      <td>NaN</td>\n",
       "      <td>NaN</td>\n",
       "      <td>NaN</td>\n",
       "      <td>NaN</td>\n",
       "      <td>NaN</td>\n",
       "      <td>NaN</td>\n",
       "      <td>NaN</td>\n",
       "      <td>NaN</td>\n",
       "      <td>NaN</td>\n",
       "      <td>NaN</td>\n",
       "      <td>NaN</td>\n",
       "      <td>NaN</td>\n",
       "      <td>NaN</td>\n",
       "      <td>NaN</td>\n",
       "      <td>NaN</td>\n",
       "      <td>NaN</td>\n",
       "      <td>NaN</td>\n",
       "      <td>NaN</td>\n",
       "      <td>NaN</td>\n",
       "      <td>NaN</td>\n",
       "      <td>NaN</td>\n",
       "      <td>NaN</td>\n",
       "      <td>NaN</td>\n",
       "      <td>NaN</td>\n",
       "      <td>NaN</td>\n",
       "      <td>0.0</td>\n",
       "      <td>0.0</td>\n",
       "      <td>0.0</td>\n",
       "      <td>0.0</td>\n",
       "      <td>-815.0</td>\n",
       "      <td>0.0</td>\n",
       "      <td>0.0</td>\n",
       "      <td>0.0</td>\n",
       "      <td>0.0</td>\n",
       "      <td>0.0</td>\n",
       "      <td>0.0</td>\n",
       "    </tr>\n",
       "    <tr>\n",
       "      <th>3</th>\n",
       "      <td>0</td>\n",
       "      <td>135000.0</td>\n",
       "      <td>312682.5</td>\n",
       "      <td>29686.5</td>\n",
       "      <td>297000.0</td>\n",
       "      <td>0.008019</td>\n",
       "      <td>-19005</td>\n",
       "      <td>-3039</td>\n",
       "      <td>-9833.0</td>\n",
       "      <td>-2437</td>\n",
       "      <td>2.0</td>\n",
       "      <td>17</td>\n",
       "      <td>NaN</td>\n",
       "      <td>0.650442</td>\n",
       "      <td>NaN</td>\n",
       "      <td>NaN</td>\n",
       "      <td>NaN</td>\n",
       "      <td>NaN</td>\n",
       "      <td>NaN</td>\n",
       "      <td>NaN</td>\n",
       "      <td>NaN</td>\n",
       "      <td>NaN</td>\n",
       "      <td>NaN</td>\n",
       "      <td>NaN</td>\n",
       "      <td>NaN</td>\n",
       "      <td>NaN</td>\n",
       "      <td>NaN</td>\n",
       "      <td>NaN</td>\n",
       "      <td>NaN</td>\n",
       "      <td>NaN</td>\n",
       "      <td>NaN</td>\n",
       "      <td>NaN</td>\n",
       "      <td>NaN</td>\n",
       "      <td>NaN</td>\n",
       "      <td>NaN</td>\n",
       "      <td>NaN</td>\n",
       "      <td>NaN</td>\n",
       "      <td>NaN</td>\n",
       "      <td>NaN</td>\n",
       "      <td>NaN</td>\n",
       "      <td>NaN</td>\n",
       "      <td>NaN</td>\n",
       "      <td>NaN</td>\n",
       "      <td>2.0</td>\n",
       "      <td>0.0</td>\n",
       "      <td>2.0</td>\n",
       "      <td>0.0</td>\n",
       "      <td>-617.0</td>\n",
       "      <td>NaN</td>\n",
       "      <td>NaN</td>\n",
       "      <td>NaN</td>\n",
       "      <td>NaN</td>\n",
       "      <td>NaN</td>\n",
       "      <td>NaN</td>\n",
       "    </tr>\n",
       "    <tr>\n",
       "      <th>4</th>\n",
       "      <td>0</td>\n",
       "      <td>121500.0</td>\n",
       "      <td>513000.0</td>\n",
       "      <td>21865.5</td>\n",
       "      <td>513000.0</td>\n",
       "      <td>0.028663</td>\n",
       "      <td>-19932</td>\n",
       "      <td>-3038</td>\n",
       "      <td>-4311.0</td>\n",
       "      <td>-3458</td>\n",
       "      <td>1.0</td>\n",
       "      <td>11</td>\n",
       "      <td>NaN</td>\n",
       "      <td>0.322738</td>\n",
       "      <td>NaN</td>\n",
       "      <td>NaN</td>\n",
       "      <td>NaN</td>\n",
       "      <td>NaN</td>\n",
       "      <td>NaN</td>\n",
       "      <td>NaN</td>\n",
       "      <td>NaN</td>\n",
       "      <td>NaN</td>\n",
       "      <td>NaN</td>\n",
       "      <td>NaN</td>\n",
       "      <td>NaN</td>\n",
       "      <td>NaN</td>\n",
       "      <td>NaN</td>\n",
       "      <td>NaN</td>\n",
       "      <td>NaN</td>\n",
       "      <td>NaN</td>\n",
       "      <td>NaN</td>\n",
       "      <td>NaN</td>\n",
       "      <td>NaN</td>\n",
       "      <td>NaN</td>\n",
       "      <td>NaN</td>\n",
       "      <td>NaN</td>\n",
       "      <td>NaN</td>\n",
       "      <td>NaN</td>\n",
       "      <td>NaN</td>\n",
       "      <td>NaN</td>\n",
       "      <td>NaN</td>\n",
       "      <td>NaN</td>\n",
       "      <td>NaN</td>\n",
       "      <td>0.0</td>\n",
       "      <td>0.0</td>\n",
       "      <td>0.0</td>\n",
       "      <td>0.0</td>\n",
       "      <td>-1106.0</td>\n",
       "      <td>0.0</td>\n",
       "      <td>0.0</td>\n",
       "      <td>0.0</td>\n",
       "      <td>0.0</td>\n",
       "      <td>0.0</td>\n",
       "      <td>0.0</td>\n",
       "    </tr>\n",
       "  </tbody>\n",
       "</table>\n",
       "</div>"
      ],
      "text/plain": [
       "   CNT_CHILDREN  AMT_INCOME_TOTAL  AMT_CREDIT  AMT_ANNUITY  AMT_GOODS_PRICE  \\\n",
       "0             0          202500.0    406597.5      24700.5         351000.0   \n",
       "1             0          270000.0   1293502.5      35698.5        1129500.0   \n",
       "2             0           67500.0    135000.0       6750.0         135000.0   \n",
       "3             0          135000.0    312682.5      29686.5         297000.0   \n",
       "4             0          121500.0    513000.0      21865.5         513000.0   \n",
       "\n",
       "   REGION_POPULATION_RELATIVE  DAYS_BIRTH  DAYS_EMPLOYED  DAYS_REGISTRATION  \\\n",
       "0                    0.018801       -9461           -637            -3648.0   \n",
       "1                    0.003541      -16765          -1188            -1186.0   \n",
       "2                    0.010032      -19046           -225            -4260.0   \n",
       "3                    0.008019      -19005          -3039            -9833.0   \n",
       "4                    0.028663      -19932          -3038            -4311.0   \n",
       "\n",
       "   DAYS_ID_PUBLISH  CNT_FAM_MEMBERS  HOUR_APPR_PROCESS_START  EXT_SOURCE_1  \\\n",
       "0            -2120              1.0                       10      0.083037   \n",
       "1             -291              2.0                       11      0.311267   \n",
       "2            -2531              1.0                        9           NaN   \n",
       "3            -2437              2.0                       17           NaN   \n",
       "4            -3458              1.0                       11           NaN   \n",
       "\n",
       "   EXT_SOURCE_2  EXT_SOURCE_3  APARTMENTS_AVG  BASEMENTAREA_AVG  \\\n",
       "0      0.262949      0.139376          0.0247            0.0369   \n",
       "1      0.622246           NaN          0.0959            0.0529   \n",
       "2      0.555912      0.729567             NaN               NaN   \n",
       "3      0.650442           NaN             NaN               NaN   \n",
       "4      0.322738           NaN             NaN               NaN   \n",
       "\n",
       "   YEARS_BEGINEXPLUATATION_AVG  ELEVATORS_AVG  ENTRANCES_AVG  FLOORSMAX_AVG  \\\n",
       "0                       0.9722           0.00         0.0690         0.0833   \n",
       "1                       0.9851           0.08         0.0345         0.2917   \n",
       "2                          NaN            NaN            NaN            NaN   \n",
       "3                          NaN            NaN            NaN            NaN   \n",
       "4                          NaN            NaN            NaN            NaN   \n",
       "\n",
       "   LANDAREA_AVG  LIVINGAREA_AVG  NONLIVINGAREA_AVG  APARTMENTS_MODE  \\\n",
       "0        0.0369          0.0190             0.0000           0.0252   \n",
       "1        0.0130          0.0549             0.0098           0.0924   \n",
       "2           NaN             NaN                NaN              NaN   \n",
       "3           NaN             NaN                NaN              NaN   \n",
       "4           NaN             NaN                NaN              NaN   \n",
       "\n",
       "   BASEMENTAREA_MODE  YEARS_BEGINEXPLUATATION_MODE  ELEVATORS_MODE  \\\n",
       "0             0.0383                        0.9722          0.0000   \n",
       "1             0.0538                        0.9851          0.0806   \n",
       "2                NaN                           NaN             NaN   \n",
       "3                NaN                           NaN             NaN   \n",
       "4                NaN                           NaN             NaN   \n",
       "\n",
       "   ENTRANCES_MODE  FLOORSMAX_MODE  LANDAREA_MODE  LIVINGAREA_MODE  \\\n",
       "0          0.0690          0.0833         0.0377           0.0198   \n",
       "1          0.0345          0.2917         0.0128           0.0554   \n",
       "2             NaN             NaN            NaN              NaN   \n",
       "3             NaN             NaN            NaN              NaN   \n",
       "4             NaN             NaN            NaN              NaN   \n",
       "\n",
       "   NONLIVINGAREA_MODE  APARTMENTS_MEDI  BASEMENTAREA_MEDI  \\\n",
       "0                 0.0           0.0250             0.0369   \n",
       "1                 0.0           0.0968             0.0529   \n",
       "2                 NaN              NaN                NaN   \n",
       "3                 NaN              NaN                NaN   \n",
       "4                 NaN              NaN                NaN   \n",
       "\n",
       "   YEARS_BEGINEXPLUATATION_MEDI  ELEVATORS_MEDI  ENTRANCES_MEDI  \\\n",
       "0                        0.9722            0.00          0.0690   \n",
       "1                        0.9851            0.08          0.0345   \n",
       "2                           NaN             NaN             NaN   \n",
       "3                           NaN             NaN             NaN   \n",
       "4                           NaN             NaN             NaN   \n",
       "\n",
       "   FLOORSMAX_MEDI  LANDAREA_MEDI  LIVINGAREA_MEDI  NONLIVINGAREA_MEDI  \\\n",
       "0          0.0833         0.0375           0.0193                0.00   \n",
       "1          0.2917         0.0132           0.0558                0.01   \n",
       "2             NaN            NaN              NaN                 NaN   \n",
       "3             NaN            NaN              NaN                 NaN   \n",
       "4             NaN            NaN              NaN                 NaN   \n",
       "\n",
       "   TOTALAREA_MODE  OBS_30_CNT_SOCIAL_CIRCLE  DEF_30_CNT_SOCIAL_CIRCLE  \\\n",
       "0          0.0149                       2.0                       2.0   \n",
       "1          0.0714                       1.0                       0.0   \n",
       "2             NaN                       0.0                       0.0   \n",
       "3             NaN                       2.0                       0.0   \n",
       "4             NaN                       0.0                       0.0   \n",
       "\n",
       "   OBS_60_CNT_SOCIAL_CIRCLE  DEF_60_CNT_SOCIAL_CIRCLE  DAYS_LAST_PHONE_CHANGE  \\\n",
       "0                       2.0                       2.0                 -1134.0   \n",
       "1                       1.0                       0.0                  -828.0   \n",
       "2                       0.0                       0.0                  -815.0   \n",
       "3                       2.0                       0.0                  -617.0   \n",
       "4                       0.0                       0.0                 -1106.0   \n",
       "\n",
       "   AMT_REQ_CREDIT_BUREAU_HOUR  AMT_REQ_CREDIT_BUREAU_DAY  \\\n",
       "0                         0.0                        0.0   \n",
       "1                         0.0                        0.0   \n",
       "2                         0.0                        0.0   \n",
       "3                         NaN                        NaN   \n",
       "4                         0.0                        0.0   \n",
       "\n",
       "   AMT_REQ_CREDIT_BUREAU_WEEK  AMT_REQ_CREDIT_BUREAU_MON  \\\n",
       "0                         0.0                        0.0   \n",
       "1                         0.0                        0.0   \n",
       "2                         0.0                        0.0   \n",
       "3                         NaN                        NaN   \n",
       "4                         0.0                        0.0   \n",
       "\n",
       "   AMT_REQ_CREDIT_BUREAU_QRT  AMT_REQ_CREDIT_BUREAU_YEAR  \n",
       "0                        0.0                         1.0  \n",
       "1                        0.0                         0.0  \n",
       "2                        0.0                         0.0  \n",
       "3                        NaN                         NaN  \n",
       "4                        0.0                         0.0  "
      ]
     },
     "execution_count": 10,
     "metadata": {},
     "output_type": "execute_result"
    }
   ],
   "source": [
    "m_heads = [head for head in m_heads if head not in list(result.header)]\n",
    "df[m_heads].head()"
   ]
  },
  {
   "cell_type": "code",
   "execution_count": 11,
   "metadata": {},
   "outputs": [],
   "source": [
    "c = df[m_heads].corr() * 100"
   ]
  },
  {
   "cell_type": "code",
   "execution_count": 12,
   "metadata": {},
   "outputs": [
    {
     "name": "stdout",
     "output_type": "stream",
     "text": [
      "CNT_CHILDREN       100.000000\n",
      "CNT_FAM_MEMBERS     87.916064\n",
      "Name: CNT_CHILDREN, dtype: float64\n",
      "\n",
      "\n",
      "AMT_CREDIT         100.000000\n",
      "AMT_ANNUITY         77.013800\n",
      "AMT_GOODS_PRICE     98.696831\n",
      "Name: AMT_CREDIT, dtype: float64\n",
      "\n",
      "\n",
      "APARTMENTS_AVG     100.000000\n",
      "ELEVATORS_AVG       83.695804\n",
      "LIVINGAREA_AVG      91.361876\n",
      "APARTMENTS_MODE     97.325946\n",
      "ELEVATORS_MODE      82.255328\n",
      "LIVINGAREA_MODE     89.346312\n",
      "APARTMENTS_MEDI     99.508082\n",
      "ELEVATORS_MEDI      83.512267\n",
      "LIVINGAREA_MEDI     91.232957\n",
      "TOTALAREA_MODE      89.262693\n",
      "Name: APARTMENTS_AVG, dtype: float64\n",
      "\n",
      "\n",
      "BASEMENTAREA_AVG     100.000000\n",
      "BASEMENTAREA_MODE     97.349578\n",
      "BASEMENTAREA_MEDI     99.431734\n",
      "Name: BASEMENTAREA_AVG, dtype: float64\n",
      "\n",
      "\n",
      "YEARS_BEGINEXPLUATATION_AVG     100.000000\n",
      "YEARS_BEGINEXPLUATATION_MODE     97.189337\n",
      "YEARS_BEGINEXPLUATATION_MEDI     99.382542\n",
      "Name: YEARS_BEGINEXPLUATATION_AVG, dtype: float64\n",
      "\n",
      "\n",
      "ENTRANCES_AVG     100.000000\n",
      "ENTRANCES_MODE     97.774256\n",
      "ENTRANCES_MEDI     99.688637\n",
      "Name: ENTRANCES_AVG, dtype: float64\n",
      "\n",
      "\n",
      "FLOORSMAX_AVG     100.000000\n",
      "FLOORSMAX_MODE     98.568942\n",
      "FLOORSMAX_MEDI     99.703414\n",
      "Name: FLOORSMAX_AVG, dtype: float64\n",
      "\n",
      "\n",
      "LANDAREA_AVG     100.000000\n",
      "LANDAREA_MODE     97.369606\n",
      "LANDAREA_MEDI     99.160953\n",
      "Name: LANDAREA_AVG, dtype: float64\n",
      "\n",
      "\n",
      "NONLIVINGAREA_AVG     100.000000\n",
      "NONLIVINGAREA_MODE     96.608655\n",
      "NONLIVINGAREA_MEDI     99.044353\n",
      "Name: NONLIVINGAREA_AVG, dtype: float64\n",
      "\n",
      "\n",
      "OBS_30_CNT_SOCIAL_CIRCLE    100.000000\n",
      "OBS_60_CNT_SOCIAL_CIRCLE     99.848954\n",
      "Name: OBS_30_CNT_SOCIAL_CIRCLE, dtype: float64\n",
      "\n",
      "\n",
      "DEF_30_CNT_SOCIAL_CIRCLE    100.000000\n",
      "DEF_60_CNT_SOCIAL_CIRCLE     86.051738\n",
      "Name: DEF_30_CNT_SOCIAL_CIRCLE, dtype: float64\n",
      "\n",
      "\n"
     ]
    }
   ],
   "source": [
    "families = []\n",
    "for i, row in c.iterrows():\n",
    "    r = row[row > 70]\n",
    "    if len(r) > 1 and set(r.index) not in families:\n",
    "        print(r)\n",
    "        print(\"\\n\")\n",
    "        \n",
    "        families.append(set(r.index))"
   ]
  },
  {
   "cell_type": "code",
   "execution_count": 27,
   "metadata": {},
   "outputs": [
    {
     "name": "stderr",
     "output_type": "stream",
     "text": [
      "<ipython-input-27-c961168b0b1d>:27: RuntimeWarning: divide by zero encountered in double_scalars\n",
      "  rate = r2/na\n",
      "<ipython-input-27-c961168b0b1d>:27: RuntimeWarning: divide by zero encountered in double_scalars\n",
      "  rate = r2/na\n"
     ]
    }
   ],
   "source": [
    "result = {\n",
    "          \"cluster\":[],\n",
    "          \"head\":[],\n",
    "          \"r2\":[],\n",
    "          \"na\":[],\n",
    "          \"rate\":[]\n",
    "         }\n",
    "\n",
    "for i, family in enumerate(families):\n",
    "    headers = list(family)\n",
    "    \n",
    "    result[\"cluster\"].append(\"\")\n",
    "    result[\"head\"].append(\"\")\n",
    "    result[\"r2\"].append(\"\")\n",
    "    result[\"na\"].append(\"\")\n",
    "    result[\"rate\"].append(\"\")\n",
    "    \n",
    "    for head in headers:\n",
    "        d = df[[\"TARGET\"] + [head]]\n",
    "        na = d[head].isna().sum() / len(d) * 100\n",
    "        d = d.dropna()\n",
    "        x = d[[head]]\n",
    "        y = d[[\"TARGET\"]]\n",
    "        model = LogisticRegression().fit(x, y.values.ravel())\n",
    "        r2 = round(model.score(x,y),5)\n",
    "        \n",
    "        rate = r2/na\n",
    "        \n",
    "        result[\"cluster\"].append(i)\n",
    "        result[\"head\"].append(head)\n",
    "        result[\"r2\"].append(round(r2,5))\n",
    "        result[\"na\"].append(round(na,2))\n",
    "        result[\"rate\"].append(rate)\n",
    "    \n",
    "        "
   ]
  },
  {
   "cell_type": "code",
   "execution_count": 28,
   "metadata": {},
   "outputs": [
    {
     "data": {
      "text/html": [
       "<div>\n",
       "<style scoped>\n",
       "    .dataframe tbody tr th:only-of-type {\n",
       "        vertical-align: middle;\n",
       "    }\n",
       "\n",
       "    .dataframe tbody tr th {\n",
       "        vertical-align: top;\n",
       "    }\n",
       "\n",
       "    .dataframe thead th {\n",
       "        text-align: right;\n",
       "    }\n",
       "</style>\n",
       "<table border=\"1\" class=\"dataframe\">\n",
       "  <thead>\n",
       "    <tr style=\"text-align: right;\">\n",
       "      <th></th>\n",
       "      <th>cluster</th>\n",
       "      <th>head</th>\n",
       "      <th>r2</th>\n",
       "      <th>na</th>\n",
       "      <th>rate</th>\n",
       "    </tr>\n",
       "  </thead>\n",
       "  <tbody>\n",
       "    <tr>\n",
       "      <th>0</th>\n",
       "      <td></td>\n",
       "      <td></td>\n",
       "      <td></td>\n",
       "      <td></td>\n",
       "      <td></td>\n",
       "    </tr>\n",
       "    <tr>\n",
       "      <th>1</th>\n",
       "      <td>0</td>\n",
       "      <td>CNT_FAM_MEMBERS</td>\n",
       "      <td>0.91927</td>\n",
       "      <td>0</td>\n",
       "      <td>1413.43</td>\n",
       "    </tr>\n",
       "    <tr>\n",
       "      <th>2</th>\n",
       "      <td>0</td>\n",
       "      <td>CNT_CHILDREN</td>\n",
       "      <td>0.91927</td>\n",
       "      <td>0</td>\n",
       "      <td>inf</td>\n",
       "    </tr>\n",
       "    <tr>\n",
       "      <th>3</th>\n",
       "      <td></td>\n",
       "      <td></td>\n",
       "      <td></td>\n",
       "      <td></td>\n",
       "      <td></td>\n",
       "    </tr>\n",
       "    <tr>\n",
       "      <th>4</th>\n",
       "      <td>1</td>\n",
       "      <td>AMT_CREDIT</td>\n",
       "      <td>0.91927</td>\n",
       "      <td>0</td>\n",
       "      <td>inf</td>\n",
       "    </tr>\n",
       "    <tr>\n",
       "      <th>5</th>\n",
       "      <td>1</td>\n",
       "      <td>AMT_ANNUITY</td>\n",
       "      <td>0.91927</td>\n",
       "      <td>0</td>\n",
       "      <td>235.571</td>\n",
       "    </tr>\n",
       "    <tr>\n",
       "      <th>6</th>\n",
       "      <td>1</td>\n",
       "      <td>AMT_GOODS_PRICE</td>\n",
       "      <td>0.91927</td>\n",
       "      <td>0.09</td>\n",
       "      <td>10.1685</td>\n",
       "    </tr>\n",
       "    <tr>\n",
       "      <th>7</th>\n",
       "      <td></td>\n",
       "      <td></td>\n",
       "      <td></td>\n",
       "      <td></td>\n",
       "      <td></td>\n",
       "    </tr>\n",
       "    <tr>\n",
       "      <th>8</th>\n",
       "      <td>2</td>\n",
       "      <td>APARTMENTS_MEDI</td>\n",
       "      <td>0.93041</td>\n",
       "      <td>50.75</td>\n",
       "      <td>0.0183333</td>\n",
       "    </tr>\n",
       "    <tr>\n",
       "      <th>9</th>\n",
       "      <td>2</td>\n",
       "      <td>APARTMENTS_MODE</td>\n",
       "      <td>0.93041</td>\n",
       "      <td>50.75</td>\n",
       "      <td>0.0183333</td>\n",
       "    </tr>\n",
       "    <tr>\n",
       "      <th>10</th>\n",
       "      <td>2</td>\n",
       "      <td>ELEVATORS_MEDI</td>\n",
       "      <td>0.931</td>\n",
       "      <td>53.3</td>\n",
       "      <td>0.0174685</td>\n",
       "    </tr>\n",
       "    <tr>\n",
       "      <th>11</th>\n",
       "      <td>2</td>\n",
       "      <td>LIVINGAREA_MEDI</td>\n",
       "      <td>0.93005</td>\n",
       "      <td>50.19</td>\n",
       "      <td>0.0185294</td>\n",
       "    </tr>\n",
       "    <tr>\n",
       "      <th>12</th>\n",
       "      <td>2</td>\n",
       "      <td>LIVINGAREA_AVG</td>\n",
       "      <td>0.93005</td>\n",
       "      <td>50.19</td>\n",
       "      <td>0.0185294</td>\n",
       "    </tr>\n",
       "    <tr>\n",
       "      <th>13</th>\n",
       "      <td>2</td>\n",
       "      <td>APARTMENTS_AVG</td>\n",
       "      <td>0.93041</td>\n",
       "      <td>50.75</td>\n",
       "      <td>0.0183333</td>\n",
       "    </tr>\n",
       "    <tr>\n",
       "      <th>14</th>\n",
       "      <td>2</td>\n",
       "      <td>ELEVATORS_MODE</td>\n",
       "      <td>0.931</td>\n",
       "      <td>53.3</td>\n",
       "      <td>0.0174685</td>\n",
       "    </tr>\n",
       "    <tr>\n",
       "      <th>15</th>\n",
       "      <td>2</td>\n",
       "      <td>TOTALAREA_MODE</td>\n",
       "      <td>0.9301</td>\n",
       "      <td>48.27</td>\n",
       "      <td>0.0192693</td>\n",
       "    </tr>\n",
       "    <tr>\n",
       "      <th>16</th>\n",
       "      <td>2</td>\n",
       "      <td>ELEVATORS_AVG</td>\n",
       "      <td>0.931</td>\n",
       "      <td>53.3</td>\n",
       "      <td>0.0174685</td>\n",
       "    </tr>\n",
       "    <tr>\n",
       "      <th>17</th>\n",
       "      <td>2</td>\n",
       "      <td>LIVINGAREA_MODE</td>\n",
       "      <td>0.93005</td>\n",
       "      <td>50.19</td>\n",
       "      <td>0.0185294</td>\n",
       "    </tr>\n",
       "    <tr>\n",
       "      <th>18</th>\n",
       "      <td></td>\n",
       "      <td></td>\n",
       "      <td></td>\n",
       "      <td></td>\n",
       "      <td></td>\n",
       "    </tr>\n",
       "    <tr>\n",
       "      <th>19</th>\n",
       "      <td>3</td>\n",
       "      <td>BASEMENTAREA_MEDI</td>\n",
       "      <td>0.93112</td>\n",
       "      <td>58.52</td>\n",
       "      <td>0.0159122</td>\n",
       "    </tr>\n",
       "    <tr>\n",
       "      <th>20</th>\n",
       "      <td>3</td>\n",
       "      <td>BASEMENTAREA_MODE</td>\n",
       "      <td>0.93112</td>\n",
       "      <td>58.52</td>\n",
       "      <td>0.0159122</td>\n",
       "    </tr>\n",
       "    <tr>\n",
       "      <th>21</th>\n",
       "      <td>3</td>\n",
       "      <td>BASEMENTAREA_AVG</td>\n",
       "      <td>0.93112</td>\n",
       "      <td>58.52</td>\n",
       "      <td>0.0159122</td>\n",
       "    </tr>\n",
       "    <tr>\n",
       "      <th>22</th>\n",
       "      <td></td>\n",
       "      <td></td>\n",
       "      <td></td>\n",
       "      <td></td>\n",
       "      <td></td>\n",
       "    </tr>\n",
       "    <tr>\n",
       "      <th>23</th>\n",
       "      <td>4</td>\n",
       "      <td>YEARS_BEGINEXPLUATATION_MEDI</td>\n",
       "      <td>0.93005</td>\n",
       "      <td>48.78</td>\n",
       "      <td>0.0190658</td>\n",
       "    </tr>\n",
       "    <tr>\n",
       "      <th>24</th>\n",
       "      <td>4</td>\n",
       "      <td>YEARS_BEGINEXPLUATATION_MODE</td>\n",
       "      <td>0.93005</td>\n",
       "      <td>48.78</td>\n",
       "      <td>0.0190658</td>\n",
       "    </tr>\n",
       "    <tr>\n",
       "      <th>25</th>\n",
       "      <td>4</td>\n",
       "      <td>YEARS_BEGINEXPLUATATION_AVG</td>\n",
       "      <td>0.93005</td>\n",
       "      <td>48.78</td>\n",
       "      <td>0.0190658</td>\n",
       "    </tr>\n",
       "    <tr>\n",
       "      <th>26</th>\n",
       "      <td></td>\n",
       "      <td></td>\n",
       "      <td></td>\n",
       "      <td></td>\n",
       "      <td></td>\n",
       "    </tr>\n",
       "    <tr>\n",
       "      <th>27</th>\n",
       "      <td>5</td>\n",
       "      <td>ENTRANCES_MODE</td>\n",
       "      <td>0.93048</td>\n",
       "      <td>50.35</td>\n",
       "      <td>0.0184807</td>\n",
       "    </tr>\n",
       "    <tr>\n",
       "      <th>28</th>\n",
       "      <td>5</td>\n",
       "      <td>ENTRANCES_MEDI</td>\n",
       "      <td>0.93048</td>\n",
       "      <td>50.35</td>\n",
       "      <td>0.0184807</td>\n",
       "    </tr>\n",
       "    <tr>\n",
       "      <th>29</th>\n",
       "      <td>5</td>\n",
       "      <td>ENTRANCES_AVG</td>\n",
       "      <td>0.93048</td>\n",
       "      <td>50.35</td>\n",
       "      <td>0.0184807</td>\n",
       "    </tr>\n",
       "    <tr>\n",
       "      <th>30</th>\n",
       "      <td></td>\n",
       "      <td></td>\n",
       "      <td></td>\n",
       "      <td></td>\n",
       "      <td></td>\n",
       "    </tr>\n",
       "    <tr>\n",
       "      <th>31</th>\n",
       "      <td>6</td>\n",
       "      <td>FLOORSMAX_MODE</td>\n",
       "      <td>0.93035</td>\n",
       "      <td>49.76</td>\n",
       "      <td>0.0186964</td>\n",
       "    </tr>\n",
       "    <tr>\n",
       "      <th>32</th>\n",
       "      <td>6</td>\n",
       "      <td>FLOORSMAX_MEDI</td>\n",
       "      <td>0.93035</td>\n",
       "      <td>49.76</td>\n",
       "      <td>0.0186964</td>\n",
       "    </tr>\n",
       "    <tr>\n",
       "      <th>33</th>\n",
       "      <td>6</td>\n",
       "      <td>FLOORSMAX_AVG</td>\n",
       "      <td>0.93035</td>\n",
       "      <td>49.76</td>\n",
       "      <td>0.0186964</td>\n",
       "    </tr>\n",
       "    <tr>\n",
       "      <th>34</th>\n",
       "      <td></td>\n",
       "      <td></td>\n",
       "      <td></td>\n",
       "      <td></td>\n",
       "      <td></td>\n",
       "    </tr>\n",
       "    <tr>\n",
       "      <th>35</th>\n",
       "      <td>7</td>\n",
       "      <td>LANDAREA_AVG</td>\n",
       "      <td>0.93019</td>\n",
       "      <td>59.38</td>\n",
       "      <td>0.0156659</td>\n",
       "    </tr>\n",
       "    <tr>\n",
       "      <th>36</th>\n",
       "      <td>7</td>\n",
       "      <td>LANDAREA_MODE</td>\n",
       "      <td>0.93019</td>\n",
       "      <td>59.38</td>\n",
       "      <td>0.0156659</td>\n",
       "    </tr>\n",
       "    <tr>\n",
       "      <th>37</th>\n",
       "      <td>7</td>\n",
       "      <td>LANDAREA_MEDI</td>\n",
       "      <td>0.93019</td>\n",
       "      <td>59.38</td>\n",
       "      <td>0.0156659</td>\n",
       "    </tr>\n",
       "    <tr>\n",
       "      <th>38</th>\n",
       "      <td></td>\n",
       "      <td></td>\n",
       "      <td></td>\n",
       "      <td></td>\n",
       "      <td></td>\n",
       "    </tr>\n",
       "    <tr>\n",
       "      <th>39</th>\n",
       "      <td>8</td>\n",
       "      <td>NONLIVINGAREA_MEDI</td>\n",
       "      <td>0.93111</td>\n",
       "      <td>55.18</td>\n",
       "      <td>0.0168743</td>\n",
       "    </tr>\n",
       "    <tr>\n",
       "      <th>40</th>\n",
       "      <td>8</td>\n",
       "      <td>NONLIVINGAREA_MODE</td>\n",
       "      <td>0.93111</td>\n",
       "      <td>55.18</td>\n",
       "      <td>0.0168743</td>\n",
       "    </tr>\n",
       "    <tr>\n",
       "      <th>41</th>\n",
       "      <td>8</td>\n",
       "      <td>NONLIVINGAREA_AVG</td>\n",
       "      <td>0.93111</td>\n",
       "      <td>55.18</td>\n",
       "      <td>0.0168743</td>\n",
       "    </tr>\n",
       "    <tr>\n",
       "      <th>42</th>\n",
       "      <td></td>\n",
       "      <td></td>\n",
       "      <td></td>\n",
       "      <td></td>\n",
       "      <td></td>\n",
       "    </tr>\n",
       "    <tr>\n",
       "      <th>43</th>\n",
       "      <td>9</td>\n",
       "      <td>OBS_60_CNT_SOCIAL_CIRCLE</td>\n",
       "      <td>0.91912</td>\n",
       "      <td>0.33</td>\n",
       "      <td>2.76826</td>\n",
       "    </tr>\n",
       "    <tr>\n",
       "      <th>44</th>\n",
       "      <td>9</td>\n",
       "      <td>OBS_30_CNT_SOCIAL_CIRCLE</td>\n",
       "      <td>0.91912</td>\n",
       "      <td>0.33</td>\n",
       "      <td>2.76826</td>\n",
       "    </tr>\n",
       "    <tr>\n",
       "      <th>45</th>\n",
       "      <td></td>\n",
       "      <td></td>\n",
       "      <td></td>\n",
       "      <td></td>\n",
       "      <td></td>\n",
       "    </tr>\n",
       "    <tr>\n",
       "      <th>46</th>\n",
       "      <td>10</td>\n",
       "      <td>DEF_30_CNT_SOCIAL_CIRCLE</td>\n",
       "      <td>0.91912</td>\n",
       "      <td>0.33</td>\n",
       "      <td>2.76826</td>\n",
       "    </tr>\n",
       "    <tr>\n",
       "      <th>47</th>\n",
       "      <td>10</td>\n",
       "      <td>DEF_60_CNT_SOCIAL_CIRCLE</td>\n",
       "      <td>0.91912</td>\n",
       "      <td>0.33</td>\n",
       "      <td>2.76826</td>\n",
       "    </tr>\n",
       "  </tbody>\n",
       "</table>\n",
       "</div>"
      ],
      "text/plain": [
       "   cluster                          head       r2     na       rate\n",
       "0                                                                  \n",
       "1        0               CNT_FAM_MEMBERS  0.91927      0    1413.43\n",
       "2        0                  CNT_CHILDREN  0.91927      0        inf\n",
       "3                                                                  \n",
       "4        1                    AMT_CREDIT  0.91927      0        inf\n",
       "5        1                   AMT_ANNUITY  0.91927      0    235.571\n",
       "6        1               AMT_GOODS_PRICE  0.91927   0.09    10.1685\n",
       "7                                                                  \n",
       "8        2               APARTMENTS_MEDI  0.93041  50.75  0.0183333\n",
       "9        2               APARTMENTS_MODE  0.93041  50.75  0.0183333\n",
       "10       2                ELEVATORS_MEDI    0.931   53.3  0.0174685\n",
       "11       2               LIVINGAREA_MEDI  0.93005  50.19  0.0185294\n",
       "12       2                LIVINGAREA_AVG  0.93005  50.19  0.0185294\n",
       "13       2                APARTMENTS_AVG  0.93041  50.75  0.0183333\n",
       "14       2                ELEVATORS_MODE    0.931   53.3  0.0174685\n",
       "15       2                TOTALAREA_MODE   0.9301  48.27  0.0192693\n",
       "16       2                 ELEVATORS_AVG    0.931   53.3  0.0174685\n",
       "17       2               LIVINGAREA_MODE  0.93005  50.19  0.0185294\n",
       "18                                                                 \n",
       "19       3             BASEMENTAREA_MEDI  0.93112  58.52  0.0159122\n",
       "20       3             BASEMENTAREA_MODE  0.93112  58.52  0.0159122\n",
       "21       3              BASEMENTAREA_AVG  0.93112  58.52  0.0159122\n",
       "22                                                                 \n",
       "23       4  YEARS_BEGINEXPLUATATION_MEDI  0.93005  48.78  0.0190658\n",
       "24       4  YEARS_BEGINEXPLUATATION_MODE  0.93005  48.78  0.0190658\n",
       "25       4   YEARS_BEGINEXPLUATATION_AVG  0.93005  48.78  0.0190658\n",
       "26                                                                 \n",
       "27       5                ENTRANCES_MODE  0.93048  50.35  0.0184807\n",
       "28       5                ENTRANCES_MEDI  0.93048  50.35  0.0184807\n",
       "29       5                 ENTRANCES_AVG  0.93048  50.35  0.0184807\n",
       "30                                                                 \n",
       "31       6                FLOORSMAX_MODE  0.93035  49.76  0.0186964\n",
       "32       6                FLOORSMAX_MEDI  0.93035  49.76  0.0186964\n",
       "33       6                 FLOORSMAX_AVG  0.93035  49.76  0.0186964\n",
       "34                                                                 \n",
       "35       7                  LANDAREA_AVG  0.93019  59.38  0.0156659\n",
       "36       7                 LANDAREA_MODE  0.93019  59.38  0.0156659\n",
       "37       7                 LANDAREA_MEDI  0.93019  59.38  0.0156659\n",
       "38                                                                 \n",
       "39       8            NONLIVINGAREA_MEDI  0.93111  55.18  0.0168743\n",
       "40       8            NONLIVINGAREA_MODE  0.93111  55.18  0.0168743\n",
       "41       8             NONLIVINGAREA_AVG  0.93111  55.18  0.0168743\n",
       "42                                                                 \n",
       "43       9      OBS_60_CNT_SOCIAL_CIRCLE  0.91912   0.33    2.76826\n",
       "44       9      OBS_30_CNT_SOCIAL_CIRCLE  0.91912   0.33    2.76826\n",
       "45                                                                 \n",
       "46      10      DEF_30_CNT_SOCIAL_CIRCLE  0.91912   0.33    2.76826\n",
       "47      10      DEF_60_CNT_SOCIAL_CIRCLE  0.91912   0.33    2.76826"
      ]
     },
     "execution_count": 28,
     "metadata": {},
     "output_type": "execute_result"
    }
   ],
   "source": [
    "result = pd.DataFrame(result)\n",
    "result"
   ]
  },
  {
   "cell_type": "code",
   "execution_count": 93,
   "metadata": {},
   "outputs": [],
   "source": [
    "keep = [\"CNT_CHILDREN\",\"AMT_CREDIT\", \"TOTALAREA_MODE\", \"BASEMENTAREA_AVG\", \"YEARS_BEGINEXPLUATATION_AVG\", \"ENTRANCES_AVG\", \"FLOORSMAX_AVG\", \"LANDAREA_AVG\", \"NONLIVINGAREA_AVG\", \"OBS_30_CNT_SOCIAL_CIRCLE\", \"DEF_30_CNT_SOCIAL_CIRCLE\"]"
   ]
  },
  {
   "cell_type": "code",
   "execution_count": 94,
   "metadata": {},
   "outputs": [],
   "source": [
    "headers = list(result[\"head\"])"
   ]
  },
  {
   "cell_type": "code",
   "execution_count": 95,
   "metadata": {},
   "outputs": [],
   "source": [
    "remove = [head for head in headers if head not in keep]"
   ]
  },
  {
   "cell_type": "code",
   "execution_count": 96,
   "metadata": {},
   "outputs": [],
   "source": [
    "m_heads = [head for head in m_heads if head not in remove]"
   ]
  },
  {
   "cell_type": "code",
   "execution_count": 97,
   "metadata": {},
   "outputs": [
    {
     "data": {
      "text/plain": [
       "['CNT_CHILDREN',\n",
       " 'AMT_INCOME_TOTAL',\n",
       " 'AMT_CREDIT',\n",
       " 'REGION_POPULATION_RELATIVE',\n",
       " 'DAYS_BIRTH',\n",
       " 'DAYS_EMPLOYED',\n",
       " 'DAYS_REGISTRATION',\n",
       " 'DAYS_ID_PUBLISH',\n",
       " 'HOUR_APPR_PROCESS_START',\n",
       " 'EXT_SOURCE_1',\n",
       " 'EXT_SOURCE_2',\n",
       " 'EXT_SOURCE_3',\n",
       " 'BASEMENTAREA_AVG',\n",
       " 'YEARS_BEGINEXPLUATATION_AVG',\n",
       " 'ENTRANCES_AVG',\n",
       " 'FLOORSMAX_AVG',\n",
       " 'LANDAREA_AVG',\n",
       " 'NONLIVINGAREA_AVG',\n",
       " 'TOTALAREA_MODE',\n",
       " 'OBS_30_CNT_SOCIAL_CIRCLE',\n",
       " 'DEF_30_CNT_SOCIAL_CIRCLE',\n",
       " 'DAYS_LAST_PHONE_CHANGE',\n",
       " 'AMT_REQ_CREDIT_BUREAU_HOUR',\n",
       " 'AMT_REQ_CREDIT_BUREAU_DAY',\n",
       " 'AMT_REQ_CREDIT_BUREAU_WEEK',\n",
       " 'AMT_REQ_CREDIT_BUREAU_MON',\n",
       " 'AMT_REQ_CREDIT_BUREAU_QRT',\n",
       " 'AMT_REQ_CREDIT_BUREAU_YEAR']"
      ]
     },
     "execution_count": 97,
     "metadata": {},
     "output_type": "execute_result"
    }
   ],
   "source": [
    "m_heads"
   ]
  },
  {
   "cell_type": "code",
   "execution_count": 98,
   "metadata": {},
   "outputs": [
    {
     "data": {
      "text/html": [
       "<div>\n",
       "<style scoped>\n",
       "    .dataframe tbody tr th:only-of-type {\n",
       "        vertical-align: middle;\n",
       "    }\n",
       "\n",
       "    .dataframe tbody tr th {\n",
       "        vertical-align: top;\n",
       "    }\n",
       "\n",
       "    .dataframe thead th {\n",
       "        text-align: right;\n",
       "    }\n",
       "</style>\n",
       "<table border=\"1\" class=\"dataframe\">\n",
       "  <thead>\n",
       "    <tr style=\"text-align: right;\">\n",
       "      <th></th>\n",
       "      <th>head</th>\n",
       "      <th>des</th>\n",
       "    </tr>\n",
       "  </thead>\n",
       "  <tbody>\n",
       "    <tr>\n",
       "      <th>0</th>\n",
       "      <td>CNT_CHILDREN</td>\n",
       "      <td>9    Number of children the client has\n",
       "Name: Description, dtype: object</td>\n",
       "    </tr>\n",
       "    <tr>\n",
       "      <th>1</th>\n",
       "      <td>AMT_INCOME_TOTAL</td>\n",
       "      <td>10    Income of the client\n",
       "Name: Description, dtype: object</td>\n",
       "    </tr>\n",
       "    <tr>\n",
       "      <th>2</th>\n",
       "      <td>AMT_CREDIT</td>\n",
       "      <td>11    Credit amount of the loan\n",
       "Name: Description, dtype: object</td>\n",
       "    </tr>\n",
       "    <tr>\n",
       "      <th>3</th>\n",
       "      <td>REGION_POPULATION_RELATIVE</td>\n",
       "      <td>19    Normalized population of region where client lives (higher number means the client lives in more populated region)\n",
       "Name: Description, dtype: object</td>\n",
       "    </tr>\n",
       "    <tr>\n",
       "      <th>4</th>\n",
       "      <td>DAYS_BIRTH</td>\n",
       "      <td>20    Client's age in days at the time of application\n",
       "Name: Description, dtype: object</td>\n",
       "    </tr>\n",
       "    <tr>\n",
       "      <th>5</th>\n",
       "      <td>DAYS_EMPLOYED</td>\n",
       "      <td>21    How many days before the application the person started current employment\n",
       "Name: Description, dtype: object</td>\n",
       "    </tr>\n",
       "    <tr>\n",
       "      <th>6</th>\n",
       "      <td>DAYS_REGISTRATION</td>\n",
       "      <td>22    How many days before the application did client change his registration\n",
       "Name: Description, dtype: object</td>\n",
       "    </tr>\n",
       "    <tr>\n",
       "      <th>7</th>\n",
       "      <td>DAYS_ID_PUBLISH</td>\n",
       "      <td>23    How many days before the application did client change the identity document with which he applied for the loan\n",
       "Name: Description, dtype: object</td>\n",
       "    </tr>\n",
       "    <tr>\n",
       "      <th>8</th>\n",
       "      <td>HOUR_APPR_PROCESS_START</td>\n",
       "      <td>36    Approximately at what hour did the client apply for the loan\n",
       "Name: Description, dtype: object</td>\n",
       "    </tr>\n",
       "    <tr>\n",
       "      <th>9</th>\n",
       "      <td>EXT_SOURCE_1</td>\n",
       "      <td>44    Normalized score from external data source\n",
       "Name: Description, dtype: object</td>\n",
       "    </tr>\n",
       "    <tr>\n",
       "      <th>10</th>\n",
       "      <td>EXT_SOURCE_2</td>\n",
       "      <td>45    Normalized score from external data source\n",
       "Name: Description, dtype: object</td>\n",
       "    </tr>\n",
       "    <tr>\n",
       "      <th>11</th>\n",
       "      <td>EXT_SOURCE_3</td>\n",
       "      <td>46    Normalized score from external data source\n",
       "Name: Description, dtype: object</td>\n",
       "    </tr>\n",
       "    <tr>\n",
       "      <th>12</th>\n",
       "      <td>BASEMENTAREA_AVG</td>\n",
       "      <td>48    Normalized information about building where the client lives, What is average (_AVG suffix), modus (_MODE suffix), median (_MEDI suffix) apartment size, common area, living area, age of building, number of elevators, number of entrances, state of the building, number of floor\n",
       "Name: Description, dtype: object</td>\n",
       "    </tr>\n",
       "    <tr>\n",
       "      <th>13</th>\n",
       "      <td>YEARS_BEGINEXPLUATATION_AVG</td>\n",
       "      <td>49    Normalized information about building where the client lives, What is average (_AVG suffix), modus (_MODE suffix), median (_MEDI suffix) apartment size, common area, living area, age of building, number of elevators, number of entrances, state of the building, number of floor\n",
       "Name: Description, dtype: object</td>\n",
       "    </tr>\n",
       "    <tr>\n",
       "      <th>14</th>\n",
       "      <td>ENTRANCES_AVG</td>\n",
       "      <td>53    Normalized information about building where the client lives, What is average (_AVG suffix), modus (_MODE suffix), median (_MEDI suffix) apartment size, common area, living area, age of building, number of elevators, number of entrances, state of the building, number of floor\n",
       "Name: Description, dtype: object</td>\n",
       "    </tr>\n",
       "    <tr>\n",
       "      <th>15</th>\n",
       "      <td>FLOORSMAX_AVG</td>\n",
       "      <td>54    Normalized information about building where the client lives, What is average (_AVG suffix), modus (_MODE suffix), median (_MEDI suffix) apartment size, common area, living area, age of building, number of elevators, number of entrances, state of the building, number of floor\n",
       "Name: Description, dtype: object</td>\n",
       "    </tr>\n",
       "    <tr>\n",
       "      <th>16</th>\n",
       "      <td>LANDAREA_AVG</td>\n",
       "      <td>56    Normalized information about building where the client lives, What is average (_AVG suffix), modus (_MODE suffix), median (_MEDI suffix) apartment size, common area, living area, age of building, number of elevators, number of entrances, state of the building, number of floor\n",
       "Name: Description, dtype: object</td>\n",
       "    </tr>\n",
       "    <tr>\n",
       "      <th>17</th>\n",
       "      <td>NONLIVINGAREA_AVG</td>\n",
       "      <td>60    Normalized information about building where the client lives, What is average (_AVG suffix), modus (_MODE suffix), median (_MEDI suffix) apartment size, common area, living area, age of building, number of elevators, number of entrances, state of the building, number of floor\n",
       "Name: Description, dtype: object</td>\n",
       "    </tr>\n",
       "    <tr>\n",
       "      <th>18</th>\n",
       "      <td>TOTALAREA_MODE</td>\n",
       "      <td>91    Normalized information about building where the client lives, What is average (_AVG suffix), modus (_MODE suffix), median (_MEDI suffix) apartment size, common area, living area, age of building, number of elevators, number of entrances, state of the building, number of floor\n",
       "Name: Description, dtype: object</td>\n",
       "    </tr>\n",
       "    <tr>\n",
       "      <th>19</th>\n",
       "      <td>OBS_30_CNT_SOCIAL_CIRCLE</td>\n",
       "      <td>94    How many observation of client's social surroundings with observable 30 DPD (days past due) default\n",
       "Name: Description, dtype: object</td>\n",
       "    </tr>\n",
       "    <tr>\n",
       "      <th>20</th>\n",
       "      <td>DEF_30_CNT_SOCIAL_CIRCLE</td>\n",
       "      <td>95    How many observation of client's social surroundings defaulted on 30 DPD (days past due) \n",
       "Name: Description, dtype: object</td>\n",
       "    </tr>\n",
       "    <tr>\n",
       "      <th>21</th>\n",
       "      <td>DAYS_LAST_PHONE_CHANGE</td>\n",
       "      <td>98    How many days before application did client change phone\n",
       "Name: Description, dtype: object</td>\n",
       "    </tr>\n",
       "    <tr>\n",
       "      <th>22</th>\n",
       "      <td>AMT_REQ_CREDIT_BUREAU_HOUR</td>\n",
       "      <td>119    Number of enquiries to Credit Bureau about the client one hour before application\n",
       "Name: Description, dtype: object</td>\n",
       "    </tr>\n",
       "    <tr>\n",
       "      <th>23</th>\n",
       "      <td>AMT_REQ_CREDIT_BUREAU_DAY</td>\n",
       "      <td>120    Number of enquiries to Credit Bureau about the client one day before application (excluding one hour before application)\n",
       "Name: Description, dtype: object</td>\n",
       "    </tr>\n",
       "    <tr>\n",
       "      <th>24</th>\n",
       "      <td>AMT_REQ_CREDIT_BUREAU_WEEK</td>\n",
       "      <td>121    Number of enquiries to Credit Bureau about the client one week before application (excluding one day before application)\n",
       "Name: Description, dtype: object</td>\n",
       "    </tr>\n",
       "    <tr>\n",
       "      <th>25</th>\n",
       "      <td>AMT_REQ_CREDIT_BUREAU_MON</td>\n",
       "      <td>122    Number of enquiries to Credit Bureau about the client one month before application (excluding one week before application)\n",
       "Name: Description, dtype: object</td>\n",
       "    </tr>\n",
       "    <tr>\n",
       "      <th>26</th>\n",
       "      <td>AMT_REQ_CREDIT_BUREAU_QRT</td>\n",
       "      <td>123    Number of enquiries to Credit Bureau about the client 3 month before application (excluding one month before application)\n",
       "Name: Description, dtype: object</td>\n",
       "    </tr>\n",
       "    <tr>\n",
       "      <th>27</th>\n",
       "      <td>AMT_REQ_CREDIT_BUREAU_YEAR</td>\n",
       "      <td>124    Number of enquiries to Credit Bureau about the client one day year (excluding last 3 months before application)\n",
       "Name: Description, dtype: object</td>\n",
       "    </tr>\n",
       "  </tbody>\n",
       "</table>\n",
       "</div>"
      ],
      "text/plain": [
       "                           head  \\\n",
       "0                  CNT_CHILDREN   \n",
       "1              AMT_INCOME_TOTAL   \n",
       "2                    AMT_CREDIT   \n",
       "3    REGION_POPULATION_RELATIVE   \n",
       "4                    DAYS_BIRTH   \n",
       "5                 DAYS_EMPLOYED   \n",
       "6             DAYS_REGISTRATION   \n",
       "7               DAYS_ID_PUBLISH   \n",
       "8       HOUR_APPR_PROCESS_START   \n",
       "9                  EXT_SOURCE_1   \n",
       "10                 EXT_SOURCE_2   \n",
       "11                 EXT_SOURCE_3   \n",
       "12             BASEMENTAREA_AVG   \n",
       "13  YEARS_BEGINEXPLUATATION_AVG   \n",
       "14                ENTRANCES_AVG   \n",
       "15                FLOORSMAX_AVG   \n",
       "16                 LANDAREA_AVG   \n",
       "17            NONLIVINGAREA_AVG   \n",
       "18               TOTALAREA_MODE   \n",
       "19     OBS_30_CNT_SOCIAL_CIRCLE   \n",
       "20     DEF_30_CNT_SOCIAL_CIRCLE   \n",
       "21       DAYS_LAST_PHONE_CHANGE   \n",
       "22   AMT_REQ_CREDIT_BUREAU_HOUR   \n",
       "23    AMT_REQ_CREDIT_BUREAU_DAY   \n",
       "24   AMT_REQ_CREDIT_BUREAU_WEEK   \n",
       "25    AMT_REQ_CREDIT_BUREAU_MON   \n",
       "26    AMT_REQ_CREDIT_BUREAU_QRT   \n",
       "27   AMT_REQ_CREDIT_BUREAU_YEAR   \n",
       "\n",
       "                                                                                                                                                                                                                                                                                                                            des  \n",
       "0                                                                                                                                                                                                                                                       9    Number of children the client has\n",
       "Name: Description, dtype: object  \n",
       "1                                                                                                                                                                                                                                                                   10    Income of the client\n",
       "Name: Description, dtype: object  \n",
       "2                                                                                                                                                                                                                                                              11    Credit amount of the loan\n",
       "Name: Description, dtype: object  \n",
       "3                                                                                                                                                                     19    Normalized population of region where client lives (higher number means the client lives in more populated region)\n",
       "Name: Description, dtype: object  \n",
       "4                                                                                                                                                                                                                                        20    Client's age in days at the time of application\n",
       "Name: Description, dtype: object  \n",
       "5                                                                                                                                                                                                             21    How many days before the application the person started current employment\n",
       "Name: Description, dtype: object  \n",
       "6                                                                                                                                                                                                                22    How many days before the application did client change his registration\n",
       "Name: Description, dtype: object  \n",
       "7                                                                                                                                                                        23    How many days before the application did client change the identity document with which he applied for the loan\n",
       "Name: Description, dtype: object  \n",
       "8                                                                                                                                                                                                                           36    Approximately at what hour did the client apply for the loan\n",
       "Name: Description, dtype: object  \n",
       "9                                                                                                                                                                                                                                             44    Normalized score from external data source\n",
       "Name: Description, dtype: object  \n",
       "10                                                                                                                                                                                                                                            45    Normalized score from external data source\n",
       "Name: Description, dtype: object  \n",
       "11                                                                                                                                                                                                                                            46    Normalized score from external data source\n",
       "Name: Description, dtype: object  \n",
       "12  48    Normalized information about building where the client lives, What is average (_AVG suffix), modus (_MODE suffix), median (_MEDI suffix) apartment size, common area, living area, age of building, number of elevators, number of entrances, state of the building, number of floor\n",
       "Name: Description, dtype: object  \n",
       "13  49    Normalized information about building where the client lives, What is average (_AVG suffix), modus (_MODE suffix), median (_MEDI suffix) apartment size, common area, living area, age of building, number of elevators, number of entrances, state of the building, number of floor\n",
       "Name: Description, dtype: object  \n",
       "14  53    Normalized information about building where the client lives, What is average (_AVG suffix), modus (_MODE suffix), median (_MEDI suffix) apartment size, common area, living area, age of building, number of elevators, number of entrances, state of the building, number of floor\n",
       "Name: Description, dtype: object  \n",
       "15  54    Normalized information about building where the client lives, What is average (_AVG suffix), modus (_MODE suffix), median (_MEDI suffix) apartment size, common area, living area, age of building, number of elevators, number of entrances, state of the building, number of floor\n",
       "Name: Description, dtype: object  \n",
       "16  56    Normalized information about building where the client lives, What is average (_AVG suffix), modus (_MODE suffix), median (_MEDI suffix) apartment size, common area, living area, age of building, number of elevators, number of entrances, state of the building, number of floor\n",
       "Name: Description, dtype: object  \n",
       "17  60    Normalized information about building where the client lives, What is average (_AVG suffix), modus (_MODE suffix), median (_MEDI suffix) apartment size, common area, living area, age of building, number of elevators, number of entrances, state of the building, number of floor\n",
       "Name: Description, dtype: object  \n",
       "18  91    Normalized information about building where the client lives, What is average (_AVG suffix), modus (_MODE suffix), median (_MEDI suffix) apartment size, common area, living area, age of building, number of elevators, number of entrances, state of the building, number of floor\n",
       "Name: Description, dtype: object  \n",
       "19                                                                                                                                                                                   94    How many observation of client's social surroundings with observable 30 DPD (days past due) default\n",
       "Name: Description, dtype: object  \n",
       "20                                                                                                                                                                                             95    How many observation of client's social surroundings defaulted on 30 DPD (days past due) \n",
       "Name: Description, dtype: object  \n",
       "21                                                                                                                                                                                                                              98    How many days before application did client change phone\n",
       "Name: Description, dtype: object  \n",
       "22                                                                                                                                                                                                    119    Number of enquiries to Credit Bureau about the client one hour before application\n",
       "Name: Description, dtype: object  \n",
       "23                                                                                                                                                             120    Number of enquiries to Credit Bureau about the client one day before application (excluding one hour before application)\n",
       "Name: Description, dtype: object  \n",
       "24                                                                                                                                                             121    Number of enquiries to Credit Bureau about the client one week before application (excluding one day before application)\n",
       "Name: Description, dtype: object  \n",
       "25                                                                                                                                                           122    Number of enquiries to Credit Bureau about the client one month before application (excluding one week before application)\n",
       "Name: Description, dtype: object  \n",
       "26                                                                                                                                                            123    Number of enquiries to Credit Bureau about the client 3 month before application (excluding one month before application)\n",
       "Name: Description, dtype: object  \n",
       "27                                                                                                                                                                      124    Number of enquiries to Credit Bureau about the client one day year (excluding last 3 months before application)\n",
       "Name: Description, dtype: object  "
      ]
     },
     "execution_count": 98,
     "metadata": {},
     "output_type": "execute_result"
    }
   ],
   "source": [
    "result = {\n",
    "    \"head\":[],\n",
    "    \"des\":[]\n",
    "}\n",
    "\n",
    "for head in m_heads:\n",
    "    result[\"head\"].append(head)\n",
    "    result[\"des\"].append(des[des[\"Row\"] == head][\"Description\"])\n",
    "    \n",
    "result = pd.DataFrame(result)\n",
    "result"
   ]
  },
  {
   "cell_type": "code",
   "execution_count": 99,
   "metadata": {},
   "outputs": [],
   "source": [
    "remove = [\"HOUR_APPR_PROCESS_START\", \"ENTRANCES_AVG\", \"FLOORSMAX_AVG\", \"DAYS_LAST_PHONE_CHANGE\"]"
   ]
  },
  {
   "cell_type": "code",
   "execution_count": 100,
   "metadata": {},
   "outputs": [],
   "source": [
    "m_heads = [head for head in m_heads if head not in remove]"
   ]
  },
  {
   "cell_type": "code",
   "execution_count": 101,
   "metadata": {},
   "outputs": [
    {
     "data": {
      "text/plain": [
       "['CNT_CHILDREN',\n",
       " 'AMT_INCOME_TOTAL',\n",
       " 'AMT_CREDIT',\n",
       " 'REGION_POPULATION_RELATIVE',\n",
       " 'DAYS_BIRTH',\n",
       " 'DAYS_EMPLOYED',\n",
       " 'DAYS_REGISTRATION',\n",
       " 'DAYS_ID_PUBLISH',\n",
       " 'EXT_SOURCE_1',\n",
       " 'EXT_SOURCE_2',\n",
       " 'EXT_SOURCE_3',\n",
       " 'BASEMENTAREA_AVG',\n",
       " 'YEARS_BEGINEXPLUATATION_AVG',\n",
       " 'LANDAREA_AVG',\n",
       " 'NONLIVINGAREA_AVG',\n",
       " 'TOTALAREA_MODE',\n",
       " 'OBS_30_CNT_SOCIAL_CIRCLE',\n",
       " 'DEF_30_CNT_SOCIAL_CIRCLE',\n",
       " 'AMT_REQ_CREDIT_BUREAU_HOUR',\n",
       " 'AMT_REQ_CREDIT_BUREAU_DAY',\n",
       " 'AMT_REQ_CREDIT_BUREAU_WEEK',\n",
       " 'AMT_REQ_CREDIT_BUREAU_MON',\n",
       " 'AMT_REQ_CREDIT_BUREAU_QRT',\n",
       " 'AMT_REQ_CREDIT_BUREAU_YEAR']"
      ]
     },
     "execution_count": 101,
     "metadata": {},
     "output_type": "execute_result"
    }
   ],
   "source": [
    "m_heads"
   ]
  },
  {
   "cell_type": "markdown",
   "metadata": {},
   "source": [
    "### Analyse restlicher Variablen"
   ]
  },
  {
   "cell_type": "code",
   "execution_count": 102,
   "metadata": {},
   "outputs": [],
   "source": [
    "payback = df[df[\"TARGET\"] == 0][m_heads]\n",
    "default = df[df[\"TARGET\"] == 1][m_heads]"
   ]
  },
  {
   "cell_type": "code",
   "execution_count": 103,
   "metadata": {},
   "outputs": [
    {
     "name": "stdout",
     "output_type": "stream",
     "text": [
      "CNT_CHILDREN\n"
     ]
    },
    {
     "data": {
      "image/png": "[encoded data removed]",
      "text/plain": [
       "<Figure size 432x288 with 1 Axes>"
      ]
     },
     "metadata": {
      "needs_background": "light"
     },
     "output_type": "display_data"
    },
    {
     "name": "stdout",
     "output_type": "stream",
     "text": [
      "AMT_INCOME_TOTAL\n"
     ]
    },
    {
     "data": {
      "image/png": "[encoded data removed]",
      "text/plain": [
       "<Figure size 432x288 with 1 Axes>"
      ]
     },
     "metadata": {
      "needs_background": "light"
     },
     "output_type": "display_data"
    },
    {
     "name": "stdout",
     "output_type": "stream",
     "text": [
      "AMT_CREDIT\n"
     ]
    },
    {
     "data": {
      "image/png": "[encoded data removed]",
      "text/plain": [
       "<Figure size 432x288 with 1 Axes>"
      ]
     },
     "metadata": {
      "needs_background": "light"
     },
     "output_type": "display_data"
    },
    {
     "name": "stdout",
     "output_type": "stream",
     "text": [
      "REGION_POPULATION_RELATIVE\n"
     ]
    },
    {
     "data": {
      "image/png": "[encoded data removed]",
      "text/plain": [
       "<Figure size 432x288 with 1 Axes>"
      ]
     },
     "metadata": {
      "needs_background": "light"
     },
     "output_type": "display_data"
    },
    {
     "name": "stdout",
     "output_type": "stream",
     "text": [
      "DAYS_BIRTH\n"
     ]
    },
    {
     "data": {
      "image/png": "[encoded data removed]",
      "text/plain": [
       "<Figure size 432x288 with 1 Axes>"
      ]
     },
     "metadata": {
      "needs_background": "light"
     },
     "output_type": "display_data"
    },
    {
     "name": "stdout",
     "output_type": "stream",
     "text": [
      "DAYS_EMPLOYED\n"
     ]
    },
    {
     "data": {
      "image/png": "[encoded data removed]",
      "text/plain": [
       "<Figure size 432x288 with 1 Axes>"
      ]
     },
     "metadata": {
      "needs_background": "light"
     },
     "output_type": "display_data"
    },
    {
     "name": "stdout",
     "output_type": "stream",
     "text": [
      "DAYS_REGISTRATION\n"
     ]
    },
    {
     "data": {
      "image/png": "[encoded data removed]",
      "text/plain": [
       "<Figure size 432x288 with 1 Axes>"
      ]
     },
     "metadata": {
      "needs_background": "light"
     },
     "output_type": "display_data"
    },
    {
     "name": "stdout",
     "output_type": "stream",
     "text": [
      "DAYS_ID_PUBLISH\n"
     ]
    },
    {
     "data": {
      "image/png": "[encoded data removed]",
      "text/plain": [
       "<Figure size 432x288 with 1 Axes>"
      ]
     },
     "metadata": {
      "needs_background": "light"
     },
     "output_type": "display_data"
    },
    {
     "name": "stdout",
     "output_type": "stream",
     "text": [
      "EXT_SOURCE_1\n"
     ]
    },
    {
     "data": {
      "image/png": "[encoded data removed]",
      "text/plain": [
       "<Figure size 432x288 with 1 Axes>"
      ]
     },
     "metadata": {
      "needs_background": "light"
     },
     "output_type": "display_data"
    },
    {
     "name": "stdout",
     "output_type": "stream",
     "text": [
      "EXT_SOURCE_2\n"
     ]
    },
    {
     "data": {
      "image/png": "[encoded data removed]",
      "text/plain": [
       "<Figure size 432x288 with 1 Axes>"
      ]
     },
     "metadata": {
      "needs_background": "light"
     },
     "output_type": "display_data"
    },
    {
     "name": "stdout",
     "output_type": "stream",
     "text": [
      "EXT_SOURCE_3\n"
     ]
    },
    {
     "data": {
      "image/png": "[encoded data removed]",
      "text/plain": [
       "<Figure size 432x288 with 1 Axes>"
      ]
     },
     "metadata": {
      "needs_background": "light"
     },
     "output_type": "display_data"
    },
    {
     "name": "stdout",
     "output_type": "stream",
     "text": [
      "BASEMENTAREA_AVG\n"
     ]
    },
    {
     "data": {
      "image/png": "[encoded data removed]",
      "text/plain": [
       "<Figure size 432x288 with 1 Axes>"
      ]
     },
     "metadata": {
      "needs_background": "light"
     },
     "output_type": "display_data"
    },
    {
     "name": "stdout",
     "output_type": "stream",
     "text": [
      "YEARS_BEGINEXPLUATATION_AVG\n"
     ]
    },
    {
     "data": {
      "image/png": "[encoded data removed]",
      "text/plain": [
       "<Figure size 432x288 with 1 Axes>"
      ]
     },
     "metadata": {
      "needs_background": "light"
     },
     "output_type": "display_data"
    },
    {
     "name": "stdout",
     "output_type": "stream",
     "text": [
      "LANDAREA_AVG\n"
     ]
    },
    {
     "data": {
      "image/png": "[encoded data removed]",
      "text/plain": [
       "<Figure size 432x288 with 1 Axes>"
      ]
     },
     "metadata": {
      "needs_background": "light"
     },
     "output_type": "display_data"
    },
    {
     "name": "stdout",
     "output_type": "stream",
     "text": [
      "NONLIVINGAREA_AVG\n"
     ]
    },
    {
     "data": {
      "image/png": "[encoded data removed]",
      "text/plain": [
       "<Figure size 432x288 with 1 Axes>"
      ]
     },
     "metadata": {
      "needs_background": "light"
     },
     "output_type": "display_data"
    },
    {
     "name": "stdout",
     "output_type": "stream",
     "text": [
      "TOTALAREA_MODE\n"
     ]
    },
    {
     "data": {
      "image/png": "[encoded data removed]",
      "text/plain": [
       "<Figure size 432x288 with 1 Axes>"
      ]
     },
     "metadata": {
      "needs_background": "light"
     },
     "output_type": "display_data"
    },
    {
     "name": "stdout",
     "output_type": "stream",
     "text": [
      "OBS_30_CNT_SOCIAL_CIRCLE\n"
     ]
    },
    {
     "data": {
      "image/png": "[encoded data removed]",
      "text/plain": [
       "<Figure size 432x288 with 1 Axes>"
      ]
     },
     "metadata": {
      "needs_background": "light"
     },
     "output_type": "display_data"
    },
    {
     "name": "stdout",
     "output_type": "stream",
     "text": [
      "DEF_30_CNT_SOCIAL_CIRCLE\n"
     ]
    },
    {
     "data": {
      "image/png": "[encoded data removed]",
      "text/plain": [
       "<Figure size 432x288 with 1 Axes>"
      ]
     },
     "metadata": {
      "needs_background": "light"
     },
     "output_type": "display_data"
    },
    {
     "name": "stdout",
     "output_type": "stream",
     "text": [
      "AMT_REQ_CREDIT_BUREAU_HOUR\n"
     ]
    },
    {
     "data": {
      "image/png": "[encoded data removed]",
      "text/plain": [
       "<Figure size 432x288 with 1 Axes>"
      ]
     },
     "metadata": {
      "needs_background": "light"
     },
     "output_type": "display_data"
    },
    {
     "name": "stdout",
     "output_type": "stream",
     "text": [
      "AMT_REQ_CREDIT_BUREAU_DAY\n"
     ]
    },
    {
     "data": {
      "image/png": "[encoded data removed]",
      "text/plain": [
       "<Figure size 432x288 with 1 Axes>"
      ]
     },
     "metadata": {
      "needs_background": "light"
     },
     "output_type": "display_data"
    },
    {
     "name": "stdout",
     "output_type": "stream",
     "text": [
      "AMT_REQ_CREDIT_BUREAU_WEEK\n"
     ]
    },
    {
     "data": {
      "image/png": "[encoded data removed]",
      "text/plain": [
       "<Figure size 432x288 with 1 Axes>"
      ]
     },
     "metadata": {
      "needs_background": "light"
     },
     "output_type": "display_data"
    },
    {
     "name": "stdout",
     "output_type": "stream",
     "text": [
      "AMT_REQ_CREDIT_BUREAU_MON\n"
     ]
    },
    {
     "data": {
      "image/png": "[encoded data removed]",
      "text/plain": [
       "<Figure size 432x288 with 1 Axes>"
      ]
     },
     "metadata": {
      "needs_background": "light"
     },
     "output_type": "display_data"
    },
    {
     "name": "stdout",
     "output_type": "stream",
     "text": [
      "AMT_REQ_CREDIT_BUREAU_QRT\n"
     ]
    },
    {
     "data": {
      "image/png": "[encoded data removed]",
      "text/plain": [
       "<Figure size 432x288 with 1 Axes>"
      ]
     },
     "metadata": {
      "needs_background": "light"
     },
     "output_type": "display_data"
    },
    {
     "name": "stdout",
     "output_type": "stream",
     "text": [
      "AMT_REQ_CREDIT_BUREAU_YEAR\n"
     ]
    },
    {
     "data": {
      "image/png": "[encoded data removed]",
      "text/plain": [
       "<Figure size 432x288 with 1 Axes>"
      ]
     },
     "metadata": {
      "needs_background": "light"
     },
     "output_type": "display_data"
    }
   ],
   "source": [
    "for head in m_heads:\n",
    "    print(head)\n",
    "    \n",
    "#     p = (payback[head].value_counts() - payback[head].value_counts().mean()) / payback[head].value_counts().std()\n",
    "#     p = p.sort_index()\n",
    "#     d = (default[head].value_counts() - default[head].value_counts().mean()) / default[head].value_counts().std()\n",
    "#     d = d.sort_index()\n",
    "    \n",
    "    p = payback[head].value_counts() / df[head].value_counts().sum() * 100\n",
    "    p = p.sort_index()\n",
    "    d = default[head].value_counts() / df[head].value_counts().sum() * 100\n",
    "    d = d.sort_index()\n",
    "    \n",
    "#     p.hist()\n",
    "#     d.hist()\n",
    "    \n",
    "    plt.plot(p.index, p)\n",
    "    plt.plot(d.index, d, alpha=0.5)\n",
    "    \n",
    "    plt.show()"
   ]
  },
  {
   "cell_type": "code",
   "execution_count": 104,
   "metadata": {},
   "outputs": [],
   "source": [
    "remove = [\"BASEMENTAREA_AVG\", \"LANDAREA_AVG\", \"NONLIVINGAREA_AVG\", \"AMT_REQ_CREDIT_BUREAU_YEAR\"]"
   ]
  },
  {
   "cell_type": "code",
   "execution_count": 105,
   "metadata": {},
   "outputs": [],
   "source": [
    "m_heads = [head for head in m_heads if head not in remove]"
   ]
  },
  {
   "cell_type": "code",
   "execution_count": 106,
   "metadata": {},
   "outputs": [
    {
     "data": {
      "text/plain": [
       "['CNT_CHILDREN',\n",
       " 'AMT_INCOME_TOTAL',\n",
       " 'AMT_CREDIT',\n",
       " 'REGION_POPULATION_RELATIVE',\n",
       " 'DAYS_BIRTH',\n",
       " 'DAYS_EMPLOYED',\n",
       " 'DAYS_REGISTRATION',\n",
       " 'DAYS_ID_PUBLISH',\n",
       " 'EXT_SOURCE_1',\n",
       " 'EXT_SOURCE_2',\n",
       " 'EXT_SOURCE_3',\n",
       " 'YEARS_BEGINEXPLUATATION_AVG',\n",
       " 'TOTALAREA_MODE',\n",
       " 'OBS_30_CNT_SOCIAL_CIRCLE',\n",
       " 'DEF_30_CNT_SOCIAL_CIRCLE',\n",
       " 'AMT_REQ_CREDIT_BUREAU_HOUR',\n",
       " 'AMT_REQ_CREDIT_BUREAU_DAY',\n",
       " 'AMT_REQ_CREDIT_BUREAU_WEEK',\n",
       " 'AMT_REQ_CREDIT_BUREAU_MON',\n",
       " 'AMT_REQ_CREDIT_BUREAU_QRT']"
      ]
     },
     "execution_count": 106,
     "metadata": {},
     "output_type": "execute_result"
    }
   ],
   "source": [
    "m_heads"
   ]
  },
  {
   "cell_type": "code",
   "execution_count": 107,
   "metadata": {},
   "outputs": [
    {
     "data": {
      "text/plain": [
       "['CNT_CHILDREN',\n",
       " 'AMT_INCOME_TOTAL',\n",
       " 'AMT_CREDIT',\n",
       " 'REGION_POPULATION_RELATIVE',\n",
       " 'DAYS_BIRTH',\n",
       " 'DAYS_EMPLOYED',\n",
       " 'DAYS_REGISTRATION',\n",
       " 'DAYS_ID_PUBLISH',\n",
       " 'EXT_SOURCE_1',\n",
       " 'EXT_SOURCE_2',\n",
       " 'EXT_SOURCE_3',\n",
       " 'YEARS_BEGINEXPLUATATION_AVG',\n",
       " 'TOTALAREA_MODE',\n",
       " 'OBS_30_CNT_SOCIAL_CIRCLE',\n",
       " 'DEF_30_CNT_SOCIAL_CIRCLE',\n",
       " 'AMT_REQ_CREDIT_BUREAU_HOUR',\n",
       " 'AMT_REQ_CREDIT_BUREAU_DAY',\n",
       " 'AMT_REQ_CREDIT_BUREAU_WEEK',\n",
       " 'AMT_REQ_CREDIT_BUREAU_MON',\n",
       " 'AMT_REQ_CREDIT_BUREAU_QRT']"
      ]
     },
     "execution_count": 107,
     "metadata": {},
     "output_type": "execute_result"
    }
   ],
   "source": [
    "m_heads"
   ]
  },
  {
   "cell_type": "markdown",
   "metadata": {},
   "source": [
    "### Datenüberprüfung"
   ]
  },
  {
   "cell_type": "code",
   "execution_count": 108,
   "metadata": {},
   "outputs": [
    {
     "name": "stdout",
     "output_type": "stream",
     "text": [
      "des:  9    Number of children the client has\n",
      "Name: Description, dtype: object\n",
      "\n",
      "\n",
      "Q[0]:  0.0\n",
      "Q[0.25]:  0.0\n",
      "Q[0.5]:  0.0\n",
      "Q[0.75]:  1.0\n",
      "Q[1]:  19.0\n",
      "\n",
      "\n",
      "mean:  0.4170517477423572\n",
      "var:  0.5214592938621124\n",
      "std:  0.7221213844376252\n",
      "\n",
      "\n",
      "nan:  0.0\n"
     ]
    },
    {
     "data": {
      "text/plain": [
       "Text(0, 0.5, 'absolute Häufigkeit')"
      ]
     },
     "execution_count": 108,
     "metadata": {},
     "output_type": "execute_result"
    },
    {
     "data": {
      "image/png": "[encoded data removed]",
      "text/plain": [
       "<Figure size 432x288 with 1 Axes>"
      ]
     },
     "metadata": {
      "needs_background": "light"
     },
     "output_type": "display_data"
    }
   ],
   "source": [
    "head = \"CNT_CHILDREN\"\n",
    "\n",
    "print(\"des: \", des[des[\"Row\"] == head][\"Description\"])\n",
    "print(\"\\n\")\n",
    "print(\"Q[0]: \", df[head].quantile(q=0))\n",
    "print(\"Q[0.25]: \", df[head].quantile(q=0.25))\n",
    "print(\"Q[0.5]: \", df[head].quantile(q=0.5))\n",
    "print(\"Q[0.75]: \", df[head].quantile(q=0.75))\n",
    "print(\"Q[1]: \", df[head].quantile(q=1))\n",
    "print(\"\\n\")\n",
    "print(\"mean: \", df[head].mean())\n",
    "print(\"var: \", df[head].var())\n",
    "print(\"std: \", df[head].std())\n",
    "print(\"\\n\")\n",
    "print(\"nan: \", df[head].isna().sum()/len(df[head]))\n",
    "\n",
    "\n",
    "df[head].hist()\n",
    "plt.xlabel(\"# Kinder\")\n",
    "plt.ylabel(\"absolute Häufigkeit\")"
   ]
  },
  {
   "cell_type": "code",
   "execution_count": 109,
   "metadata": {},
   "outputs": [
    {
     "name": "stdout",
     "output_type": "stream",
     "text": [
      "des:  10    Income of the client\n",
      "Name: Description, dtype: object\n",
      "\n",
      "\n",
      "Q[0]:  25650.0\n",
      "Q[0.25]:  112500.0\n",
      "Q[0.5]:  147150.0\n",
      "Q[0.75]:  202500.0\n",
      "Q[1]:  117000000.0\n",
      "\n",
      "\n",
      "mean:  168797.9192969845\n",
      "var:  56227386501.18386\n",
      "std:  237123.14627885626\n",
      "\n",
      "\n",
      "nan:  0.0\n"
     ]
    },
    {
     "data": {
      "text/plain": [
       "Text(0, 0.5, 'absolute Häufigkeit')"
      ]
     },
     "execution_count": 109,
     "metadata": {},
     "output_type": "execute_result"
    },
    {
     "data": {
      "image/png": "[encoded data removed]",
      "text/plain": [
       "<Figure size 432x288 with 1 Axes>"
      ]
     },
     "metadata": {
      "needs_background": "light"
     },
     "output_type": "display_data"
    }
   ],
   "source": [
    "head = \"AMT_INCOME_TOTAL\"\n",
    "\n",
    "print(\"des: \", des[des[\"Row\"] == head][\"Description\"])\n",
    "print(\"\\n\")\n",
    "print(\"Q[0]: \", df[head].quantile(q=0))\n",
    "print(\"Q[0.25]: \", df[head].quantile(q=0.25))\n",
    "print(\"Q[0.5]: \", df[head].quantile(q=0.5))\n",
    "print(\"Q[0.75]: \", df[head].quantile(q=0.75))\n",
    "print(\"Q[1]: \", df[head].quantile(q=1))\n",
    "print(\"\\n\")\n",
    "print(\"mean: \", df[head].mean())\n",
    "print(\"var: \", df[head].var())\n",
    "print(\"std: \", df[head].std())\n",
    "print(\"\\n\")\n",
    "print(\"nan: \", df[head].isna().sum()/len(df[head]))\n",
    "\n",
    "plt.ticklabel_format(style = 'plain')\n",
    "d = df[head].copy()\n",
    "d /= 1000\n",
    "d[d < d.quantile(q=0.99)].hist()\n",
    "plt.xlabel(\"Einkommen in 1000\")\n",
    "plt.ylabel(\"absolute Häufigkeit\")"
   ]
  },
  {
   "cell_type": "code",
   "execution_count": 110,
   "metadata": {},
   "outputs": [
    {
     "name": "stdout",
     "output_type": "stream",
     "text": [
      "des:  11    Credit amount of the loan\n",
      "Name: Description, dtype: object\n",
      "\n",
      "\n",
      "Q[0]:  45000.0\n",
      "Q[0.25]:  270000.0\n",
      "Q[0.5]:  513531.0\n",
      "Q[0.75]:  808650.0\n",
      "Q[1]:  4050000.0\n",
      "\n",
      "\n",
      "mean:  599025.9997057016\n",
      "var:  161998825566.727\n",
      "std:  402490.77699585486\n",
      "\n",
      "\n",
      "nan:  0.0\n"
     ]
    },
    {
     "data": {
      "text/plain": [
       "Text(0, 0.5, 'absolute Häufigkeit')"
      ]
     },
     "execution_count": 110,
     "metadata": {},
     "output_type": "execute_result"
    },
    {
     "data": {
      "image/png": "[encoded data removed]",
      "text/plain": [
       "<Figure size 432x288 with 1 Axes>"
      ]
     },
     "metadata": {
      "needs_background": "light"
     },
     "output_type": "display_data"
    }
   ],
   "source": [
    "head = \"AMT_CREDIT\"\n",
    "\n",
    "print(\"des: \", des[des[\"Row\"] == head][\"Description\"])\n",
    "print(\"\\n\")\n",
    "print(\"Q[0]: \", df[head].quantile(q=0))\n",
    "print(\"Q[0.25]: \", df[head].quantile(q=0.25))\n",
    "print(\"Q[0.5]: \", df[head].quantile(q=0.5))\n",
    "print(\"Q[0.75]: \", df[head].quantile(q=0.75))\n",
    "print(\"Q[1]: \", df[head].quantile(q=1))\n",
    "print(\"\\n\")\n",
    "print(\"mean: \", df[head].mean())\n",
    "print(\"var: \", df[head].var())\n",
    "print(\"std: \", df[head].std())\n",
    "print(\"\\n\")\n",
    "print(\"nan: \", df[head].isna().sum()/len(df[head]))\n",
    "\n",
    "plt.ticklabel_format(style = 'plain')\n",
    "d = df[head].copy()\n",
    "d /= 1000\n",
    "d[d < d.quantile(q=0.99)].hist()\n",
    "plt.xlabel(\"Kredithöhe in 1000\")\n",
    "plt.ylabel(\"absolute Häufigkeit\")"
   ]
  },
  {
   "cell_type": "code",
   "execution_count": 111,
   "metadata": {},
   "outputs": [
    {
     "name": "stdout",
     "output_type": "stream",
     "text": [
      "des:  19    Normalized population of region where client lives (higher number means the client lives in more populated region)\n",
      "Name: Description, dtype: object\n",
      "\n",
      "\n",
      "Q[0]:  0.00029\n",
      "Q[0.25]:  0.010006\n",
      "Q[0.5]:  0.01885\n",
      "Q[0.75]:  0.028663\n",
      "Q[1]:  0.072508\n",
      "\n",
      "\n",
      "mean:  0.020868112057780042\n",
      "var:  0.00019130430983272615\n",
      "std:  0.0138312801227047\n",
      "\n",
      "\n",
      "nan:  0.0\n"
     ]
    },
    {
     "data": {
      "text/plain": [
       "Text(0, 0.5, 'absolute Häufigkeit')"
      ]
     },
     "execution_count": 111,
     "metadata": {},
     "output_type": "execute_result"
    },
    {
     "data": {
      "image/png": "[encoded data removed]",
      "text/plain": [
       "<Figure size 432x288 with 1 Axes>"
      ]
     },
     "metadata": {
      "needs_background": "light"
     },
     "output_type": "display_data"
    }
   ],
   "source": [
    "head = \"REGION_POPULATION_RELATIVE\"\n",
    "\n",
    "print(\"des: \", des[des[\"Row\"] == head][\"Description\"])\n",
    "print(\"\\n\")\n",
    "print(\"Q[0]: \", df[head].quantile(q=0))\n",
    "print(\"Q[0.25]: \", df[head].quantile(q=0.25))\n",
    "print(\"Q[0.5]: \", df[head].quantile(q=0.5))\n",
    "print(\"Q[0.75]: \", df[head].quantile(q=0.75))\n",
    "print(\"Q[1]: \", df[head].quantile(q=1))\n",
    "print(\"\\n\")\n",
    "print(\"mean: \", df[head].mean())\n",
    "print(\"var: \", df[head].var())\n",
    "print(\"std: \", df[head].std())\n",
    "print(\"\\n\")\n",
    "print(\"nan: \", df[head].isna().sum()/len(df[head]))\n",
    "\n",
    "plt.ticklabel_format(style = 'plain')\n",
    "d = df[head].copy()\n",
    "d.hist()\n",
    "plt.xlabel(\"Wohndichte Region normalisiert\")\n",
    "plt.ylabel(\"absolute Häufigkeit\")"
   ]
  },
  {
   "cell_type": "code",
   "execution_count": 112,
   "metadata": {},
   "outputs": [
    {
     "name": "stdout",
     "output_type": "stream",
     "text": [
      "des:  20    Client's age in days at the time of application\n",
      "Name: Description, dtype: object\n",
      "\n",
      "\n",
      "Q[0]:  20.517808219178082\n",
      "Q[0.25]:  34.00821917808219\n",
      "Q[0.5]:  43.15068493150685\n",
      "Q[0.75]:  53.92328767123288\n",
      "Q[1]:  69.12054794520547\n",
      "\n",
      "\n",
      "mean:  43.93697278587162\n",
      "var:  142.9491219992764\n",
      "std:  11.956133237768656\n",
      "\n",
      "\n",
      "nan:  0.0\n"
     ]
    },
    {
     "data": {
      "text/plain": [
       "Text(0, 0.5, 'absolute Häufigkeit')"
      ]
     },
     "execution_count": 112,
     "metadata": {},
     "output_type": "execute_result"
    },
    {
     "data": {
      "image/png": "[encoded data removed]",
      "text/plain": [
       "<Figure size 432x288 with 1 Axes>"
      ]
     },
     "metadata": {
      "needs_background": "light"
     },
     "output_type": "display_data"
    }
   ],
   "source": [
    "head = \"DAYS_BIRTH\"\n",
    "\n",
    "d = df[head].copy()\n",
    "d /= -365\n",
    "\n",
    "print(\"des: \", des[des[\"Row\"] == head][\"Description\"])\n",
    "print(\"\\n\")\n",
    "print(\"Q[0]: \", d.quantile(q=0))\n",
    "print(\"Q[0.25]: \", d.quantile(q=0.25))\n",
    "print(\"Q[0.5]: \", d.quantile(q=0.5))\n",
    "print(\"Q[0.75]: \", d.quantile(q=0.75))\n",
    "print(\"Q[1]: \", d.quantile(q=1))\n",
    "print(\"\\n\")\n",
    "print(\"mean: \", d.mean())\n",
    "print(\"var: \", d.var())\n",
    "print(\"std: \", d.std())\n",
    "print(\"\\n\")\n",
    "print(\"nan: \", df[head].isna().sum()/len(df[head]))\n",
    "\n",
    "plt.ticklabel_format(style = 'plain')\n",
    "d.hist()\n",
    "plt.xlabel(\"Alter in Jahren\")\n",
    "plt.ylabel(\"absolute Häufigkeit\")"
   ]
  },
  {
   "cell_type": "code",
   "execution_count": 113,
   "metadata": {},
   "outputs": [
    {
     "name": "stdout",
     "output_type": "stream",
     "text": [
      "des:  21    How many days before the application the person started current employment\n",
      "Name: Description, dtype: object\n",
      "\n",
      "\n",
      "Q[0]:  -1000.6657534246575\n",
      "Q[0.25]:  0.7917808219178082\n",
      "Q[0.5]:  3.3232876712328765\n",
      "Q[0.75]:  7.561643835616438\n",
      "Q[1]:  49.07397260273972\n",
      "\n",
      "\n",
      "mean:  -174.83574220287383\n",
      "var:  149813.03963560835\n",
      "std:  387.05689457185537\n",
      "\n",
      "\n",
      "nan:  0.0\n"
     ]
    },
    {
     "data": {
      "text/plain": [
       "Text(0, 0.5, 'absolute Häufigkeit')"
      ]
     },
     "execution_count": 113,
     "metadata": {},
     "output_type": "execute_result"
    },
    {
     "data": {
      "image/png": "[encoded data removed]",
      "text/plain": [
       "<Figure size 432x288 with 1 Axes>"
      ]
     },
     "metadata": {
      "needs_background": "light"
     },
     "output_type": "display_data"
    }
   ],
   "source": [
    "head = \"DAYS_EMPLOYED\"\n",
    "\n",
    "d = df[head].copy()\n",
    "d /= -365\n",
    "\n",
    "print(\"des: \", des[des[\"Row\"] == head][\"Description\"])\n",
    "print(\"\\n\")\n",
    "print(\"Q[0]: \", d.quantile(q=0))\n",
    "print(\"Q[0.25]: \", d.quantile(q=0.25))\n",
    "print(\"Q[0.5]: \", d.quantile(q=0.5))\n",
    "print(\"Q[0.75]: \", d.quantile(q=0.75))\n",
    "print(\"Q[1]: \", d.quantile(q=1))\n",
    "print(\"\\n\")\n",
    "print(\"mean: \", d.mean())\n",
    "print(\"var: \", d.var())\n",
    "print(\"std: \", d.std())\n",
    "print(\"\\n\")\n",
    "print(\"nan: \", df[head].isna().sum()/len(df[head]))\n",
    "\n",
    "plt.ticklabel_format(style = 'plain')\n",
    "d.hist()\n",
    "plt.xlabel(\"Arbeitserfahrung in Jahren\")\n",
    "plt.ylabel(\"absolute Häufigkeit\")"
   ]
  },
  {
   "cell_type": "code",
   "execution_count": 114,
   "metadata": {},
   "outputs": [
    {
     "data": {
      "text/plain": [
       "Working                 158774\n",
       "Commercial associate     71617\n",
       "Pensioner                55362\n",
       "State servant            21703\n",
       "Unemployed                  22\n",
       "Student                     18\n",
       "Businessman                 10\n",
       "Maternity leave              5\n",
       "Name: NAME_INCOME_TYPE, dtype: int64"
      ]
     },
     "execution_count": 114,
     "metadata": {},
     "output_type": "execute_result"
    }
   ],
   "source": [
    "app_train.head()\n",
    "app_train[\"NAME_INCOME_TYPE\"].value_counts()"
   ]
  },
  {
   "cell_type": "code",
   "execution_count": 115,
   "metadata": {},
   "outputs": [
    {
     "data": {
      "text/plain": [
       "Pensioner     55352\n",
       "Unemployed       22\n",
       "Name: NAME_INCOME_TYPE, dtype: int64"
      ]
     },
     "execution_count": 115,
     "metadata": {},
     "output_type": "execute_result"
    }
   ],
   "source": [
    "t = app_train[[head, \"NAME_INCOME_TYPE\"]].copy()\n",
    "t.loc[:,head] /= 365\n",
    "t = t[t[head] > 100]\n",
    "t[\"NAME_INCOME_TYPE\"].value_counts()"
   ]
  },
  {
   "cell_type": "code",
   "execution_count": 116,
   "metadata": {},
   "outputs": [],
   "source": [
    "pens = t[t[\"NAME_INCOME_TYPE\"] == \"Pensioner\"]\n",
    "unemp = t[t[\"NAME_INCOME_TYPE\"] == \"Unemployed\"]"
   ]
  },
  {
   "cell_type": "code",
   "execution_count": 117,
   "metadata": {},
   "outputs": [
    {
     "name": "stderr",
     "output_type": "stream",
     "text": [
      "c:\\users\\rober\\documents\\workspace\\python\\masterarbeit\\venv\\lib\\site-packages\\pandas\\core\\indexing.py:1763: SettingWithCopyWarning: \n",
      "A value is trying to be set on a copy of a slice from a DataFrame.\n",
      "Try using .loc[row_indexer,col_indexer] = value instead\n",
      "\n",
      "See the caveats in the documentation: https://pandas.pydata.org/pandas-docs/stable/user_guide/indexing.html#returning-a-view-versus-a-copy\n",
      "  isetter(loc, value)\n"
     ]
    }
   ],
   "source": [
    "df.iloc[unemp.index, df.columns.get_loc(head)] = 0\n",
    "df.iloc[pens.index, df.columns.get_loc(head)] = -66 * 365"
   ]
  },
  {
   "cell_type": "code",
   "execution_count": 118,
   "metadata": {},
   "outputs": [
    {
     "data": {
      "text/plain": [
       "0    -637\n",
       "1   -1188\n",
       "2    -225\n",
       "3   -3039\n",
       "4   -3038\n",
       "Name: DAYS_EMPLOYED, dtype: int64"
      ]
     },
     "execution_count": 118,
     "metadata": {},
     "output_type": "execute_result"
    }
   ],
   "source": [
    "df[head].head()"
   ]
  },
  {
   "cell_type": "markdown",
   "metadata": {},
   "source": [
    "## TODO: Arbeitsalter +1000 Jahre ist nicht möglich"
   ]
  },
  {
   "cell_type": "code",
   "execution_count": 119,
   "metadata": {},
   "outputs": [
    {
     "name": "stdout",
     "output_type": "stream",
     "text": [
      "des:  22    How many days before the application did client change his registration\n",
      "Name: Description, dtype: object\n",
      "\n",
      "\n",
      "Q[0]:  -0.0\n",
      "Q[0.25]:  5.506849315068493\n",
      "Q[0.5]:  12.33972602739726\n",
      "Q[0.75]:  20.491780821917807\n",
      "Q[1]:  67.59452054794521\n",
      "\n",
      "\n",
      "mean:  13.66060363709156\n",
      "var:  93.15614959976526\n",
      "std:  9.651743345104306\n",
      "\n",
      "\n",
      "nan:  0.0\n"
     ]
    },
    {
     "data": {
      "text/plain": [
       "Text(0, 0.5, 'absolute Häufigkeit')"
      ]
     },
     "execution_count": 119,
     "metadata": {},
     "output_type": "execute_result"
    },
    {
     "data": {
      "image/png": "[encoded data removed]",
      "text/plain": [
       "<Figure size 432x288 with 1 Axes>"
      ]
     },
     "metadata": {
      "needs_background": "light"
     },
     "output_type": "display_data"
    }
   ],
   "source": [
    "head = \"DAYS_REGISTRATION\"\n",
    "\n",
    "d = df[head].copy()\n",
    "d /= -365\n",
    "\n",
    "print(\"des: \", des[des[\"Row\"] == head][\"Description\"])\n",
    "print(\"\\n\")\n",
    "print(\"Q[0]: \", d.quantile(q=0))\n",
    "print(\"Q[0.25]: \", d.quantile(q=0.25))\n",
    "print(\"Q[0.5]: \", d.quantile(q=0.5))\n",
    "print(\"Q[0.75]: \", d.quantile(q=0.75))\n",
    "print(\"Q[1]: \", d.quantile(q=1))\n",
    "print(\"\\n\")\n",
    "print(\"mean: \", d.mean())\n",
    "print(\"var: \", d.var())\n",
    "print(\"std: \", d.std())\n",
    "print(\"\\n\")\n",
    "print(\"nan: \", df[head].isna().sum()/len(df[head]))\n",
    "\n",
    "plt.ticklabel_format(style = 'plain')\n",
    "d.hist()\n",
    "plt.xlabel(\"Anmeldung in Jahren\")\n",
    "plt.ylabel(\"absolute Häufigkeit\")"
   ]
  },
  {
   "cell_type": "code",
   "execution_count": 120,
   "metadata": {},
   "outputs": [
    {
     "name": "stdout",
     "output_type": "stream",
     "text": [
      "des:  23    How many days before the application did client change the identity document with which he applied for the loan\n",
      "Name: Description, dtype: object\n",
      "\n",
      "\n",
      "Q[0]:  -0.0\n",
      "Q[0.25]:  4.712328767123288\n",
      "Q[0.5]:  8.915068493150685\n",
      "Q[0.75]:  11.778082191780822\n",
      "Q[1]:  19.71780821917808\n",
      "\n",
      "\n",
      "mean:  8.203294173283387\n",
      "var:  17.102199793044868\n",
      "std:  4.135480600008283\n",
      "\n",
      "\n",
      "nan:  0.0\n"
     ]
    },
    {
     "data": {
      "text/plain": [
       "Text(0, 0.5, 'absolute Häufigkeit')"
      ]
     },
     "execution_count": 120,
     "metadata": {},
     "output_type": "execute_result"
    },
    {
     "data": {
      "image/png": "[encoded data removed]",
      "text/plain": [
       "<Figure size 432x288 with 1 Axes>"
      ]
     },
     "metadata": {
      "needs_background": "light"
     },
     "output_type": "display_data"
    }
   ],
   "source": [
    "head = \"DAYS_ID_PUBLISH\"\n",
    "\n",
    "d = df[head].copy()\n",
    "d /= -365\n",
    "\n",
    "print(\"des: \", des[des[\"Row\"] == head][\"Description\"])\n",
    "print(\"\\n\")\n",
    "print(\"Q[0]: \", d.quantile(q=0))\n",
    "print(\"Q[0.25]: \", d.quantile(q=0.25))\n",
    "print(\"Q[0.5]: \", d.quantile(q=0.5))\n",
    "print(\"Q[0.75]: \", d.quantile(q=0.75))\n",
    "print(\"Q[1]: \", d.quantile(q=1))\n",
    "print(\"\\n\")\n",
    "print(\"mean: \", d.mean())\n",
    "print(\"var: \", d.var())\n",
    "print(\"std: \", d.std())\n",
    "print(\"\\n\")\n",
    "print(\"nan: \", df[head].isna().sum()/len(df[head]))\n",
    "\n",
    "plt.ticklabel_format(style = 'plain')\n",
    "d.hist()\n",
    "plt.xlabel(\"Personalausweisänderung in Jahren\")\n",
    "plt.ylabel(\"absolute Häufigkeit\")"
   ]
  },
  {
   "cell_type": "code",
   "execution_count": 121,
   "metadata": {},
   "outputs": [
    {
     "name": "stdout",
     "output_type": "stream",
     "text": [
      "des:  44    Normalized score from external data source\n",
      "Name: Description, dtype: object\n",
      "\n",
      "\n",
      "Q[0]:  0.014568132412445587\n",
      "Q[0.25]:  0.33400728867409263\n",
      "Q[0.5]:  0.5059979305057544\n",
      "Q[0.75]:  0.6750525982300696\n",
      "Q[1]:  0.962692770561306\n",
      "\n",
      "\n",
      "mean:  0.5021298056566625\n",
      "var:  0.04454727306856842\n",
      "std:  0.21106224927392492\n",
      "\n",
      "\n",
      "nan:  0.5638107254699832\n"
     ]
    },
    {
     "data": {
      "text/plain": [
       "Text(0, 0.5, 'absolute Häufigkeit')"
      ]
     },
     "execution_count": 121,
     "metadata": {},
     "output_type": "execute_result"
    },
    {
     "data": {
      "image/png": "[encoded data removed]",
      "text/plain": [
       "<Figure size 432x288 with 1 Axes>"
      ]
     },
     "metadata": {
      "needs_background": "light"
     },
     "output_type": "display_data"
    }
   ],
   "source": [
    "head = \"EXT_SOURCE_1\"\n",
    "\n",
    "d = df[head].copy()\n",
    "\n",
    "print(\"des: \", des[des[\"Row\"] == head][\"Description\"])\n",
    "print(\"\\n\")\n",
    "print(\"Q[0]: \", d.quantile(q=0))\n",
    "print(\"Q[0.25]: \", d.quantile(q=0.25))\n",
    "print(\"Q[0.5]: \", d.quantile(q=0.5))\n",
    "print(\"Q[0.75]: \", d.quantile(q=0.75))\n",
    "print(\"Q[1]: \", d.quantile(q=1))\n",
    "print(\"\\n\")\n",
    "print(\"mean: \", d.mean())\n",
    "print(\"var: \", d.var())\n",
    "print(\"std: \", d.std())\n",
    "print(\"\\n\")\n",
    "print(\"nan: \", df[head].isna().sum()/len(df[head]))\n",
    "\n",
    "plt.ticklabel_format(style = 'plain')\n",
    "d.hist()\n",
    "plt.xlabel(\"normalisierter Kreditwürdigkeitsscore #1\")\n",
    "plt.ylabel(\"absolute Häufigkeit\")"
   ]
  },
  {
   "cell_type": "code",
   "execution_count": 122,
   "metadata": {},
   "outputs": [],
   "source": [
    "df.loc[df[head].isna(), head] = df[head].mean()"
   ]
  },
  {
   "cell_type": "markdown",
   "metadata": {},
   "source": [
    "# TODO Fill Mean"
   ]
  },
  {
   "cell_type": "code",
   "execution_count": 123,
   "metadata": {},
   "outputs": [
    {
     "name": "stdout",
     "output_type": "stream",
     "text": [
      "des:  45    Normalized score from external data source\n",
      "Name: Description, dtype: object\n",
      "\n",
      "\n",
      "Q[0]:  8.173616518884397e-08\n",
      "Q[0.25]:  0.3924574161782719\n",
      "Q[0.5]:  0.5659614260608526\n",
      "Q[0.75]:  0.6636170897493769\n",
      "Q[1]:  0.8549996664047012\n",
      "\n",
      "\n",
      "mean:  0.5143926741308462\n",
      "var:  0.03650398282286796\n",
      "std:  0.1910601549849365\n",
      "\n",
      "\n",
      "nan:  0.0021462646864665006\n"
     ]
    },
    {
     "data": {
      "text/plain": [
       "Text(0, 0.5, 'absolute Häufigkeit')"
      ]
     },
     "execution_count": 123,
     "metadata": {},
     "output_type": "execute_result"
    },
    {
     "data": {
      "image/png": "[encoded data removed]",
      "text/plain": [
       "<Figure size 432x288 with 1 Axes>"
      ]
     },
     "metadata": {
      "needs_background": "light"
     },
     "output_type": "display_data"
    }
   ],
   "source": [
    "head = \"EXT_SOURCE_2\"\n",
    "\n",
    "d = df[head].copy()\n",
    "\n",
    "print(\"des: \", des[des[\"Row\"] == head][\"Description\"])\n",
    "print(\"\\n\")\n",
    "print(\"Q[0]: \", d.quantile(q=0))\n",
    "print(\"Q[0.25]: \", d.quantile(q=0.25))\n",
    "print(\"Q[0.5]: \", d.quantile(q=0.5))\n",
    "print(\"Q[0.75]: \", d.quantile(q=0.75))\n",
    "print(\"Q[1]: \", d.quantile(q=1))\n",
    "print(\"\\n\")\n",
    "print(\"mean: \", d.mean())\n",
    "print(\"var: \", d.var())\n",
    "print(\"std: \", d.std())\n",
    "print(\"\\n\")\n",
    "print(\"nan: \", df[head].isna().sum()/len(df[head]))\n",
    "\n",
    "plt.ticklabel_format(style = 'plain')\n",
    "d.hist()\n",
    "plt.xlabel(\"normalisierter Kreditwürdigkeitsscore #2\")\n",
    "plt.ylabel(\"absolute Häufigkeit\")"
   ]
  },
  {
   "cell_type": "code",
   "execution_count": 124,
   "metadata": {},
   "outputs": [],
   "source": [
    "df.loc[df[head].isna(), head] = df[head].mean()"
   ]
  },
  {
   "cell_type": "markdown",
   "metadata": {},
   "source": [
    "# TODO Fill Mean"
   ]
  },
  {
   "cell_type": "code",
   "execution_count": 125,
   "metadata": {},
   "outputs": [
    {
     "name": "stdout",
     "output_type": "stream",
     "text": [
      "des:  46    Normalized score from external data source\n",
      "Name: Description, dtype: object\n",
      "\n",
      "\n",
      "Q[0]:  0.0005272652387098817\n",
      "Q[0.25]:  0.3706496323299817\n",
      "Q[0.5]:  0.5352762504724826\n",
      "Q[0.75]:  0.6690566947824041\n",
      "Q[1]:  0.8960095494948396\n",
      "\n",
      "\n",
      "mean:  0.5108529061799658\n",
      "var:  0.037964326363282196\n",
      "std:  0.19484436446374884\n",
      "\n",
      "\n",
      "nan:  0.19825307062186392\n"
     ]
    },
    {
     "data": {
      "text/plain": [
       "Text(0, 0.5, 'absolute Häufigkeit')"
      ]
     },
     "execution_count": 125,
     "metadata": {},
     "output_type": "execute_result"
    },
    {
     "data": {
      "image/png": "[encoded data removed]",
      "text/plain": [
       "<Figure size 432x288 with 1 Axes>"
      ]
     },
     "metadata": {
      "needs_background": "light"
     },
     "output_type": "display_data"
    }
   ],
   "source": [
    "head = \"EXT_SOURCE_3\"\n",
    "\n",
    "d = df[head].copy()\n",
    "\n",
    "print(\"des: \", des[des[\"Row\"] == head][\"Description\"])\n",
    "print(\"\\n\")\n",
    "print(\"Q[0]: \", d.quantile(q=0))\n",
    "print(\"Q[0.25]: \", d.quantile(q=0.25))\n",
    "print(\"Q[0.5]: \", d.quantile(q=0.5))\n",
    "print(\"Q[0.75]: \", d.quantile(q=0.75))\n",
    "print(\"Q[1]: \", d.quantile(q=1))\n",
    "print(\"\\n\")\n",
    "print(\"mean: \", d.mean())\n",
    "print(\"var: \", d.var())\n",
    "print(\"std: \", d.std())\n",
    "print(\"\\n\")\n",
    "print(\"nan: \", df[head].isna().sum()/len(df[head]))\n",
    "\n",
    "plt.ticklabel_format(style = 'plain')\n",
    "d.hist()\n",
    "plt.xlabel(\"normalisierter Kreditwürdigkeitsscore #3\")\n",
    "plt.ylabel(\"absolute Häufigkeit\")"
   ]
  },
  {
   "cell_type": "code",
   "execution_count": 126,
   "metadata": {},
   "outputs": [],
   "source": [
    "df.loc[df[head].isna(), head] = df[head].mean()"
   ]
  },
  {
   "cell_type": "code",
   "execution_count": 127,
   "metadata": {},
   "outputs": [
    {
     "name": "stdout",
     "output_type": "stream",
     "text": [
      "des:  49    Normalized information about building where the client lives, What is average (_AVG suffix), modus (_MODE suffix), median (_MEDI suffix) apartment size, common area, living area, age of building, number of elevators, number of entrances, state of the building, number of floor\n",
      "Name: Description, dtype: object\n",
      "\n",
      "\n",
      "Q[0]:  0.0\n",
      "Q[0.25]:  0.9767\n",
      "Q[0.5]:  0.9816\n",
      "Q[0.75]:  0.9866\n",
      "Q[1]:  1.0\n",
      "\n",
      "\n",
      "mean:  0.9777348581623325\n",
      "var:  0.0035074009635894642\n",
      "std:  0.059223314358362825\n",
      "\n",
      "\n",
      "nan:  0.48781019215572774\n"
     ]
    },
    {
     "data": {
      "text/plain": [
       "Text(0, 0.5, 'absolute Häufigkeit')"
      ]
     },
     "execution_count": 127,
     "metadata": {},
     "output_type": "execute_result"
    },
    {
     "data": {
      "image/png": "[encoded data removed]",
      "text/plain": [
       "<Figure size 432x288 with 1 Axes>"
      ]
     },
     "metadata": {
      "needs_background": "light"
     },
     "output_type": "display_data"
    }
   ],
   "source": [
    "head = \"YEARS_BEGINEXPLUATATION_AVG\"\n",
    "\n",
    "d = df[head].copy()\n",
    "\n",
    "print(\"des: \", des[des[\"Row\"] == head][\"Description\"])\n",
    "print(\"\\n\")\n",
    "print(\"Q[0]: \", d.quantile(q=0))\n",
    "print(\"Q[0.25]: \", d.quantile(q=0.25))\n",
    "print(\"Q[0.5]: \", d.quantile(q=0.5))\n",
    "print(\"Q[0.75]: \", d.quantile(q=0.75))\n",
    "print(\"Q[1]: \", d.quantile(q=1))\n",
    "print(\"\\n\")\n",
    "print(\"mean: \", d.mean())\n",
    "print(\"var: \", d.var())\n",
    "print(\"std: \", d.std())\n",
    "print(\"\\n\")\n",
    "print(\"nan: \", df[head].isna().sum()/len(df[head]))\n",
    "\n",
    "plt.ticklabel_format(style = 'plain')\n",
    "d[d > d.quantile(q=0.01)].hist()\n",
    "plt.xlabel(\"normalisiertes Alter des Hauses\")\n",
    "plt.ylabel(\"absolute Häufigkeit\")"
   ]
  },
  {
   "cell_type": "code",
   "execution_count": 128,
   "metadata": {},
   "outputs": [
    {
     "name": "stderr",
     "output_type": "stream",
     "text": [
      "c:\\users\\rober\\documents\\workspace\\python\\masterarbeit\\venv\\lib\\site-packages\\pandas\\core\\indexing.py:1763: SettingWithCopyWarning: \n",
      "A value is trying to be set on a copy of a slice from a DataFrame.\n",
      "Try using .loc[row_indexer,col_indexer] = value instead\n",
      "\n",
      "See the caveats in the documentation: https://pandas.pydata.org/pandas-docs/stable/user_guide/indexing.html#returning-a-view-versus-a-copy\n",
      "  isetter(loc, value)\n"
     ]
    }
   ],
   "source": [
    "df.loc[df[head].isna(), head] = df[head].mean()"
   ]
  },
  {
   "cell_type": "markdown",
   "metadata": {},
   "source": [
    "# TODO Fill Mean"
   ]
  },
  {
   "cell_type": "code",
   "execution_count": 129,
   "metadata": {},
   "outputs": [
    {
     "name": "stdout",
     "output_type": "stream",
     "text": [
      "des:  91    Normalized information about building where the client lives, What is average (_AVG suffix), modus (_MODE suffix), median (_MEDI suffix) apartment size, common area, living area, age of building, number of elevators, number of entrances, state of the building, number of floor\n",
      "Name: Description, dtype: object\n",
      "\n",
      "\n",
      "Q[0]:  0.0\n",
      "Q[0.25]:  0.0412\n",
      "Q[0.5]:  0.0688\n",
      "Q[0.75]:  0.1276\n",
      "Q[1]:  1.0\n",
      "\n",
      "\n",
      "mean:  0.10254666268544127\n",
      "var:  0.011548151111637737\n",
      "std:  0.10746232414961877\n",
      "\n",
      "\n",
      "nan:  0.4826851722377411\n"
     ]
    },
    {
     "data": {
      "text/plain": [
       "Text(0, 0.5, 'absolute Häufigkeit')"
      ]
     },
     "execution_count": 129,
     "metadata": {},
     "output_type": "execute_result"
    },
    {
     "data": {
      "image/png": "[encoded data removed]",
      "text/plain": [
       "<Figure size 432x288 with 1 Axes>"
      ]
     },
     "metadata": {
      "needs_background": "light"
     },
     "output_type": "display_data"
    }
   ],
   "source": [
    "head = \"TOTALAREA_MODE\"\n",
    "\n",
    "d = df[head].copy()\n",
    "\n",
    "print(\"des: \", des[des[\"Row\"] == head][\"Description\"])\n",
    "print(\"\\n\")\n",
    "print(\"Q[0]: \", d.quantile(q=0))\n",
    "print(\"Q[0.25]: \", d.quantile(q=0.25))\n",
    "print(\"Q[0.5]: \", d.quantile(q=0.5))\n",
    "print(\"Q[0.75]: \", d.quantile(q=0.75))\n",
    "print(\"Q[1]: \", d.quantile(q=1))\n",
    "print(\"\\n\")\n",
    "print(\"mean: \", d.mean())\n",
    "print(\"var: \", d.var())\n",
    "print(\"std: \", d.std())\n",
    "print(\"\\n\")\n",
    "print(\"nan: \", df[head].isna().sum()/len(df[head]))\n",
    "\n",
    "plt.ticklabel_format(style = 'plain')\n",
    "d[d < d.quantile(q=0.99)].hist()\n",
    "plt.xlabel(\"normalisierte Wohnfläche\")\n",
    "plt.ylabel(\"absolute Häufigkeit\")"
   ]
  },
  {
   "cell_type": "code",
   "execution_count": 130,
   "metadata": {},
   "outputs": [
    {
     "name": "stderr",
     "output_type": "stream",
     "text": [
      "c:\\users\\rober\\documents\\workspace\\python\\masterarbeit\\venv\\lib\\site-packages\\pandas\\core\\indexing.py:1763: SettingWithCopyWarning: \n",
      "A value is trying to be set on a copy of a slice from a DataFrame.\n",
      "Try using .loc[row_indexer,col_indexer] = value instead\n",
      "\n",
      "See the caveats in the documentation: https://pandas.pydata.org/pandas-docs/stable/user_guide/indexing.html#returning-a-view-versus-a-copy\n",
      "  isetter(loc, value)\n"
     ]
    }
   ],
   "source": [
    "df.loc[df[head].isna(), head] = df[head].mean()"
   ]
  },
  {
   "cell_type": "markdown",
   "metadata": {},
   "source": [
    "# TODO Fill Mean"
   ]
  },
  {
   "cell_type": "code",
   "execution_count": 131,
   "metadata": {},
   "outputs": [
    {
     "name": "stdout",
     "output_type": "stream",
     "text": [
      "des:  94    How many observation of client's social surroundings with observable 30 DPD (days past due) default\n",
      "Name: Description, dtype: object\n",
      "\n",
      "\n",
      "Q[0]:  0.0\n",
      "Q[0.25]:  0.0\n",
      "Q[0.5]:  0.0\n",
      "Q[0.75]:  2.0\n",
      "Q[1]:  348.0\n",
      "\n",
      "\n",
      "mean:  1.4222454239942575\n",
      "var:  5.764746958942107\n",
      "std:  2.4009887461090083\n",
      "\n",
      "\n",
      "nan:  0.0033202064316398437\n"
     ]
    },
    {
     "data": {
      "text/plain": [
       "Text(0, 0.5, 'absolute Häufigkeit')"
      ]
     },
     "execution_count": 131,
     "metadata": {},
     "output_type": "execute_result"
    },
    {
     "data": {
      "image/png": "[encoded data removed]",
      "text/plain": [
       "<Figure size 432x288 with 1 Axes>"
      ]
     },
     "metadata": {
      "needs_background": "light"
     },
     "output_type": "display_data"
    }
   ],
   "source": [
    "head = \"OBS_30_CNT_SOCIAL_CIRCLE\"\n",
    "\n",
    "d = df[head].copy()\n",
    "\n",
    "print(\"des: \", des[des[\"Row\"] == head][\"Description\"])\n",
    "print(\"\\n\")\n",
    "print(\"Q[0]: \", d.quantile(q=0))\n",
    "print(\"Q[0.25]: \", d.quantile(q=0.25))\n",
    "print(\"Q[0.5]: \", d.quantile(q=0.5))\n",
    "print(\"Q[0.75]: \", d.quantile(q=0.75))\n",
    "print(\"Q[1]: \", d.quantile(q=1))\n",
    "print(\"\\n\")\n",
    "print(\"mean: \", d.mean())\n",
    "print(\"var: \", d.var())\n",
    "print(\"std: \", d.std())\n",
    "print(\"\\n\")\n",
    "print(\"nan: \", df[head].isna().sum()/len(df[head]))\n",
    "\n",
    "plt.ticklabel_format(style = 'plain')\n",
    "d[d < d.quantile(q=0.99)].hist()\n",
    "plt.xlabel(\"# Kreditausfälle im sozialem Umfeld\")\n",
    "plt.ylabel(\"absolute Häufigkeit\")"
   ]
  },
  {
   "cell_type": "code",
   "execution_count": 132,
   "metadata": {},
   "outputs": [
    {
     "name": "stderr",
     "output_type": "stream",
     "text": [
      "c:\\users\\rober\\documents\\workspace\\python\\masterarbeit\\venv\\lib\\site-packages\\pandas\\core\\indexing.py:1763: SettingWithCopyWarning: \n",
      "A value is trying to be set on a copy of a slice from a DataFrame.\n",
      "Try using .loc[row_indexer,col_indexer] = value instead\n",
      "\n",
      "See the caveats in the documentation: https://pandas.pydata.org/pandas-docs/stable/user_guide/indexing.html#returning-a-view-versus-a-copy\n",
      "  isetter(loc, value)\n"
     ]
    }
   ],
   "source": [
    "df.loc[df[head].isna(), head] = 0"
   ]
  },
  {
   "cell_type": "markdown",
   "metadata": {},
   "source": [
    "# TODO Fill Zero"
   ]
  },
  {
   "cell_type": "code",
   "execution_count": 133,
   "metadata": {},
   "outputs": [
    {
     "name": "stdout",
     "output_type": "stream",
     "text": [
      "des:  95    How many observation of client's social surroundings defaulted on 30 DPD (days past due) \n",
      "Name: Description, dtype: object\n",
      "\n",
      "\n",
      "Q[0]:  0.0\n",
      "Q[0.25]:  0.0\n",
      "Q[0.5]:  0.0\n",
      "Q[0.75]:  0.0\n",
      "Q[1]:  34.0\n",
      "\n",
      "\n",
      "mean:  0.1434206662533851\n",
      "var:  0.1995394868119246\n",
      "std:  0.4466984293815287\n",
      "\n",
      "\n",
      "nan:  0.0033202064316398437\n"
     ]
    },
    {
     "data": {
      "text/plain": [
       "Text(0, 0.5, 'absolute Häufigkeit')"
      ]
     },
     "execution_count": 133,
     "metadata": {},
     "output_type": "execute_result"
    },
    {
     "data": {
      "image/png": "[encoded data removed]",
      "text/plain": [
       "<Figure size 432x288 with 1 Axes>"
      ]
     },
     "metadata": {
      "needs_background": "light"
     },
     "output_type": "display_data"
    }
   ],
   "source": [
    "head = \"DEF_30_CNT_SOCIAL_CIRCLE\"\n",
    "\n",
    "d = df[head].copy()\n",
    "\n",
    "print(\"des: \", des[des[\"Row\"] == head][\"Description\"])\n",
    "print(\"\\n\")\n",
    "print(\"Q[0]: \", d.quantile(q=0))\n",
    "print(\"Q[0.25]: \", d.quantile(q=0.25))\n",
    "print(\"Q[0.5]: \", d.quantile(q=0.5))\n",
    "print(\"Q[0.75]: \", d.quantile(q=0.75))\n",
    "print(\"Q[1]: \", d.quantile(q=1))\n",
    "print(\"\\n\")\n",
    "print(\"mean: \", d.mean())\n",
    "print(\"var: \", d.var())\n",
    "print(\"std: \", d.std())\n",
    "print(\"\\n\")\n",
    "print(\"nan: \", df[head].isna().sum()/len(df[head]))\n",
    "\n",
    "plt.ticklabel_format(style = 'plain')\n",
    "d.hist()\n",
    "plt.xlabel(\"# Kreditausfälle im sozialem Umfeld\")\n",
    "plt.ylabel(\"absolute Häufigkeit\")"
   ]
  },
  {
   "cell_type": "code",
   "execution_count": 134,
   "metadata": {},
   "outputs": [],
   "source": [
    "df.loc[df[head].isna(), head] = 0"
   ]
  },
  {
   "cell_type": "markdown",
   "metadata": {},
   "source": [
    "# Fill Zero"
   ]
  },
  {
   "cell_type": "code",
   "execution_count": 135,
   "metadata": {},
   "outputs": [
    {
     "name": "stdout",
     "output_type": "stream",
     "text": [
      "des:  119    Number of enquiries to Credit Bureau about the client one hour before application\n",
      "Name: Description, dtype: object\n",
      "\n",
      "\n",
      "Q[0]:  0.0\n",
      "Q[0.25]:  0.0\n",
      "Q[0.5]:  0.0\n",
      "Q[0.75]:  0.0\n",
      "Q[1]:  4.0\n",
      "\n",
      "\n",
      "mean:  0.006402448193930645\n",
      "var:  0.007030676341401538\n",
      "std:  0.08384912844747724\n",
      "\n",
      "\n",
      "nan:  0.13501630835970097\n"
     ]
    },
    {
     "data": {
      "text/plain": [
       "Text(0, 0.5, 'absolute Häufigkeit')"
      ]
     },
     "execution_count": 135,
     "metadata": {},
     "output_type": "execute_result"
    },
    {
     "data": {
      "image/png": "[encoded data removed]",
      "text/plain": [
       "<Figure size 432x288 with 1 Axes>"
      ]
     },
     "metadata": {
      "needs_background": "light"
     },
     "output_type": "display_data"
    }
   ],
   "source": [
    "head = \"AMT_REQ_CREDIT_BUREAU_HOUR\"\n",
    "\n",
    "d = df[head].copy()\n",
    "\n",
    "print(\"des: \", des[des[\"Row\"] == head][\"Description\"])\n",
    "print(\"\\n\")\n",
    "print(\"Q[0]: \", d.quantile(q=0))\n",
    "print(\"Q[0.25]: \", d.quantile(q=0.25))\n",
    "print(\"Q[0.5]: \", d.quantile(q=0.5))\n",
    "print(\"Q[0.75]: \", d.quantile(q=0.75))\n",
    "print(\"Q[1]: \", d.quantile(q=1))\n",
    "print(\"\\n\")\n",
    "print(\"mean: \", d.mean())\n",
    "print(\"var: \", d.var())\n",
    "print(\"std: \", d.std())\n",
    "print(\"\\n\")\n",
    "print(\"nan: \", df[head].isna().sum()/len(df[head]))\n",
    "\n",
    "plt.ticklabel_format(style = 'plain')\n",
    "d.hist()\n",
    "plt.xlabel(\"# vergangener Kreditanfragen bei Schufa in der letzten Stunde\")\n",
    "plt.ylabel(\"absolute Häufigkeit\")"
   ]
  },
  {
   "cell_type": "code",
   "execution_count": 136,
   "metadata": {},
   "outputs": [],
   "source": [
    "df.loc[df[head].isna(), head] = 0"
   ]
  },
  {
   "cell_type": "markdown",
   "metadata": {},
   "source": [
    "# Fill Zero"
   ]
  },
  {
   "cell_type": "code",
   "execution_count": 137,
   "metadata": {},
   "outputs": [
    {
     "name": "stdout",
     "output_type": "stream",
     "text": [
      "des:  120    Number of enquiries to Credit Bureau about the client one day before application (excluding one hour before application)\n",
      "Name: Description, dtype: object\n",
      "\n",
      "\n",
      "Q[0]:  0.0\n",
      "Q[0.25]:  0.0\n",
      "Q[0.5]:  0.0\n",
      "Q[0.75]:  0.0\n",
      "Q[1]:  9.0\n",
      "\n",
      "\n",
      "mean:  0.0070002105326475985\n",
      "var:  0.012267203055698162\n",
      "std:  0.1107574063243545\n",
      "\n",
      "\n",
      "nan:  0.13501630835970097\n"
     ]
    },
    {
     "data": {
      "text/plain": [
       "Text(0, 0.5, 'absolute Häufigkeit')"
      ]
     },
     "execution_count": 137,
     "metadata": {},
     "output_type": "execute_result"
    },
    {
     "data": {
      "image/png": "[encoded data removed]",
      "text/plain": [
       "<Figure size 432x288 with 1 Axes>"
      ]
     },
     "metadata": {
      "needs_background": "light"
     },
     "output_type": "display_data"
    }
   ],
   "source": [
    "head = \"AMT_REQ_CREDIT_BUREAU_DAY\"\n",
    "\n",
    "d = df[head].copy()\n",
    "\n",
    "print(\"des: \", des[des[\"Row\"] == head][\"Description\"])\n",
    "print(\"\\n\")\n",
    "print(\"Q[0]: \", d.quantile(q=0))\n",
    "print(\"Q[0.25]: \", d.quantile(q=0.25))\n",
    "print(\"Q[0.5]: \", d.quantile(q=0.5))\n",
    "print(\"Q[0.75]: \", d.quantile(q=0.75))\n",
    "print(\"Q[1]: \", d.quantile(q=1))\n",
    "print(\"\\n\")\n",
    "print(\"mean: \", d.mean())\n",
    "print(\"var: \", d.var())\n",
    "print(\"std: \", d.std())\n",
    "print(\"\\n\")\n",
    "print(\"nan: \", df[head].isna().sum()/len(df[head]))\n",
    "\n",
    "plt.ticklabel_format(style = 'plain')\n",
    "d.hist()\n",
    "plt.xlabel(\"# vergangener Kreditanfragen bei Schufa vor einem Tag\")\n",
    "plt.ylabel(\"absolute Häufigkeit\")"
   ]
  },
  {
   "cell_type": "code",
   "execution_count": 138,
   "metadata": {},
   "outputs": [],
   "source": [
    "df.loc[df[head].isna(), head] = 0"
   ]
  },
  {
   "cell_type": "code",
   "execution_count": 139,
   "metadata": {},
   "outputs": [
    {
     "name": "stdout",
     "output_type": "stream",
     "text": [
      "des:  121    Number of enquiries to Credit Bureau about the client one week before application (excluding one day before application)\n",
      "Name: Description, dtype: object\n",
      "\n",
      "\n",
      "Q[0]:  0.0\n",
      "Q[0.25]:  0.0\n",
      "Q[0.5]:  0.0\n",
      "Q[0.75]:  0.0\n",
      "Q[1]:  8.0\n",
      "\n",
      "\n",
      "mean:  0.0343619356973142\n",
      "var:  0.04189589838651137\n",
      "std:  0.20468487581282446\n",
      "\n",
      "\n",
      "nan:  0.13501630835970097\n"
     ]
    },
    {
     "data": {
      "text/plain": [
       "Text(0, 0.5, 'absolute Häufigkeit')"
      ]
     },
     "execution_count": 139,
     "metadata": {},
     "output_type": "execute_result"
    },
    {
     "data": {
      "image/png": "[encoded data removed]",
      "text/plain": [
       "<Figure size 432x288 with 1 Axes>"
      ]
     },
     "metadata": {
      "needs_background": "light"
     },
     "output_type": "display_data"
    }
   ],
   "source": [
    "head = \"AMT_REQ_CREDIT_BUREAU_WEEK\"\n",
    "\n",
    "d = df[head].copy()\n",
    "\n",
    "print(\"des: \", des[des[\"Row\"] == head][\"Description\"])\n",
    "print(\"\\n\")\n",
    "print(\"Q[0]: \", d.quantile(q=0))\n",
    "print(\"Q[0.25]: \", d.quantile(q=0.25))\n",
    "print(\"Q[0.5]: \", d.quantile(q=0.5))\n",
    "print(\"Q[0.75]: \", d.quantile(q=0.75))\n",
    "print(\"Q[1]: \", d.quantile(q=1))\n",
    "print(\"\\n\")\n",
    "print(\"mean: \", d.mean())\n",
    "print(\"var: \", d.var())\n",
    "print(\"std: \", d.std())\n",
    "print(\"\\n\")\n",
    "print(\"nan: \", df[head].isna().sum()/len(df[head]))\n",
    "\n",
    "plt.ticklabel_format(style = 'plain')\n",
    "d.hist()\n",
    "plt.xlabel(\"# vergangener Kreditanfragen bei Schufa vor einer Woche\")\n",
    "plt.ylabel(\"absolute Häufigkeit\")"
   ]
  },
  {
   "cell_type": "code",
   "execution_count": 140,
   "metadata": {},
   "outputs": [],
   "source": [
    "df.loc[df[head].isna(), head] = 0"
   ]
  },
  {
   "cell_type": "code",
   "execution_count": 141,
   "metadata": {},
   "outputs": [
    {
     "name": "stdout",
     "output_type": "stream",
     "text": [
      "des:  122    Number of enquiries to Credit Bureau about the client one month before application (excluding one week before application)\n",
      "Name: Description, dtype: object\n",
      "\n",
      "\n",
      "Q[0]:  0.0\n",
      "Q[0.25]:  0.0\n",
      "Q[0.5]:  0.0\n",
      "Q[0.75]:  0.0\n",
      "Q[1]:  27.0\n",
      "\n",
      "\n",
      "mean:  0.26739526000781977\n",
      "var:  0.8390603897573367\n",
      "std:  0.9160023961526175\n",
      "\n",
      "\n",
      "nan:  0.13501630835970097\n"
     ]
    },
    {
     "data": {
      "text/plain": [
       "Text(0, 0.5, 'absolute Häufigkeit')"
      ]
     },
     "execution_count": 141,
     "metadata": {},
     "output_type": "execute_result"
    },
    {
     "data": {
      "image/png": "[encoded data removed]",
      "text/plain": [
       "<Figure size 432x288 with 1 Axes>"
      ]
     },
     "metadata": {
      "needs_background": "light"
     },
     "output_type": "display_data"
    }
   ],
   "source": [
    "head = \"AMT_REQ_CREDIT_BUREAU_MON\"\n",
    "\n",
    "d = df[head].copy()\n",
    "\n",
    "print(\"des: \", des[des[\"Row\"] == head][\"Description\"])\n",
    "print(\"\\n\")\n",
    "print(\"Q[0]: \", d.quantile(q=0))\n",
    "print(\"Q[0.25]: \", d.quantile(q=0.25))\n",
    "print(\"Q[0.5]: \", d.quantile(q=0.5))\n",
    "print(\"Q[0.75]: \", d.quantile(q=0.75))\n",
    "print(\"Q[1]: \", d.quantile(q=1))\n",
    "print(\"\\n\")\n",
    "print(\"mean: \", d.mean())\n",
    "print(\"var: \", d.var())\n",
    "print(\"std: \", d.std())\n",
    "print(\"\\n\")\n",
    "print(\"nan: \", df[head].isna().sum()/len(df[head]))\n",
    "\n",
    "plt.ticklabel_format(style = 'plain')\n",
    "d.hist()\n",
    "plt.xlabel(\"# vergangener Kreditanfragen bei Schufa vor einem Monat\")\n",
    "plt.ylabel(\"absolute Häufigkeit\")"
   ]
  },
  {
   "cell_type": "code",
   "execution_count": 142,
   "metadata": {},
   "outputs": [],
   "source": [
    "df.loc[df[head].isna(), head] = 0"
   ]
  },
  {
   "cell_type": "code",
   "execution_count": 143,
   "metadata": {},
   "outputs": [
    {
     "name": "stdout",
     "output_type": "stream",
     "text": [
      "des:  123    Number of enquiries to Credit Bureau about the client 3 month before application (excluding one month before application)\n",
      "Name: Description, dtype: object\n",
      "\n",
      "\n",
      "Q[0]:  0.0\n",
      "Q[0.25]:  0.0\n",
      "Q[0.5]:  0.0\n",
      "Q[0.75]:  0.0\n",
      "Q[1]:  261.0\n",
      "\n",
      "\n",
      "mean:  0.26547414959848414\n",
      "var:  0.630524372630099\n",
      "std:  0.7940556483207578\n",
      "\n",
      "\n",
      "nan:  0.13501630835970097\n"
     ]
    },
    {
     "data": {
      "text/plain": [
       "Text(0, 0.5, 'absolute Häufigkeit')"
      ]
     },
     "execution_count": 143,
     "metadata": {},
     "output_type": "execute_result"
    },
    {
     "data": {
      "image/png": "[encoded data removed]",
      "text/plain": [
       "<Figure size 432x288 with 1 Axes>"
      ]
     },
     "metadata": {
      "needs_background": "light"
     },
     "output_type": "display_data"
    }
   ],
   "source": [
    "head = \"AMT_REQ_CREDIT_BUREAU_QRT\"\n",
    "\n",
    "d = df[head].copy()\n",
    "\n",
    "print(\"des: \", des[des[\"Row\"] == head][\"Description\"])\n",
    "print(\"\\n\")\n",
    "print(\"Q[0]: \", d.quantile(q=0))\n",
    "print(\"Q[0.25]: \", d.quantile(q=0.25))\n",
    "print(\"Q[0.5]: \", d.quantile(q=0.5))\n",
    "print(\"Q[0.75]: \", d.quantile(q=0.75))\n",
    "print(\"Q[1]: \", d.quantile(q=1))\n",
    "print(\"\\n\")\n",
    "print(\"mean: \", d.mean())\n",
    "print(\"var: \", d.var())\n",
    "print(\"std: \", d.std())\n",
    "print(\"\\n\")\n",
    "print(\"nan: \", df[head].isna().sum()/len(df[head]))\n",
    "\n",
    "plt.ticklabel_format(style = 'plain')\n",
    "d.hist()\n",
    "plt.xlabel(\"# vergangener Kreditanfragen bei Schufa vor einem Quartal\")\n",
    "plt.ylabel(\"absolute Häufigkeit\")"
   ]
  },
  {
   "cell_type": "code",
   "execution_count": 144,
   "metadata": {},
   "outputs": [],
   "source": [
    "df.loc[df[head].isna(), head] = 0"
   ]
  },
  {
   "cell_type": "markdown",
   "metadata": {},
   "source": [
    "# Ergänzung wichtigste kats"
   ]
  },
  {
   "cell_type": "code",
   "execution_count": 145,
   "metadata": {},
   "outputs": [],
   "source": [
    "cats = [\"ORGANIZATION_TYPE\",\"CODE_GENDER\",\"NAME_EDUCATION_TYPE\",\"REG_CITY_NOT_WORK_CITY\",\"FLAG_DOCUMENT_3\",\"NAME_INCOME_TYPE\",\"FLAG_EMP_PHONE\",\"OCCUPATION_TYPE\",\"REGION_RATING_CLIENT_W_CITY\",\"NAME_INCOME_TYPE\",\"REGION_RATING_CLIENT\"]"
   ]
  },
  {
   "cell_type": "code",
   "execution_count": 146,
   "metadata": {},
   "outputs": [],
   "source": [
    "n_heads = ['TARGET', 'NAME_CONTRACT_TYPE', 'CODE_GENDER', 'FLAG_OWN_CAR', 'FLAG_OWN_REALTY', 'NAME_TYPE_SUITE', 'NAME_INCOME_TYPE', 'NAME_EDUCATION_TYPE', 'NAME_FAMILY_STATUS', 'NAME_HOUSING_TYPE', 'FLAG_MOBIL', 'FLAG_EMP_PHONE', 'FLAG_WORK_PHONE', 'FLAG_CONT_MOBILE', 'FLAG_PHONE', 'FLAG_EMAIL', 'OCCUPATION_TYPE', 'REGION_RATING_CLIENT', 'REGION_RATING_CLIENT_W_CITY', 'WEEKDAY_APPR_PROCESS_START', 'REG_REGION_NOT_LIVE_REGION', 'REG_REGION_NOT_WORK_REGION', 'LIVE_REGION_NOT_WORK_REGION', 'REG_CITY_NOT_LIVE_CITY', 'REG_CITY_NOT_WORK_CITY', 'LIVE_CITY_NOT_WORK_CITY', 'ORGANIZATION_TYPE', 'FONDKAPREMONT_MODE', 'HOUSETYPE_MODE', 'WALLSMATERIAL_MODE', 'EMERGENCYSTATE_MODE', 'FLAG_DOCUMENT_2', 'FLAG_DOCUMENT_3', 'FLAG_DOCUMENT_4', 'FLAG_DOCUMENT_5', 'FLAG_DOCUMENT_6', 'FLAG_DOCUMENT_7', 'FLAG_DOCUMENT_8', 'FLAG_DOCUMENT_9', 'FLAG_DOCUMENT_10', 'FLAG_DOCUMENT_11', 'FLAG_DOCUMENT_12', 'FLAG_DOCUMENT_13', 'FLAG_DOCUMENT_14', 'FLAG_DOCUMENT_15', 'FLAG_DOCUMENT_16', 'FLAG_DOCUMENT_17', 'FLAG_DOCUMENT_18', 'FLAG_DOCUMENT_19', 'FLAG_DOCUMENT_20', 'FLAG_DOCUMENT_21']"
   ]
  },
  {
   "cell_type": "code",
   "execution_count": 147,
   "metadata": {},
   "outputs": [],
   "source": [
    "for head in n_heads:\n",
    "    app_train[head], _ = pd.factorize(app_train[head])"
   ]
  },
  {
   "cell_type": "code",
   "execution_count": 148,
   "metadata": {},
   "outputs": [
    {
     "data": {
      "text/html": [
       "<div>\n",
       "<style scoped>\n",
       "    .dataframe tbody tr th:only-of-type {\n",
       "        vertical-align: middle;\n",
       "    }\n",
       "\n",
       "    .dataframe tbody tr th {\n",
       "        vertical-align: top;\n",
       "    }\n",
       "\n",
       "    .dataframe thead th {\n",
       "        text-align: right;\n",
       "    }\n",
       "</style>\n",
       "<table border=\"1\" class=\"dataframe\">\n",
       "  <thead>\n",
       "    <tr style=\"text-align: right;\">\n",
       "      <th></th>\n",
       "      <th>ORGANIZATION_TYPE</th>\n",
       "      <th>CODE_GENDER</th>\n",
       "      <th>NAME_EDUCATION_TYPE</th>\n",
       "      <th>REG_CITY_NOT_WORK_CITY</th>\n",
       "      <th>FLAG_DOCUMENT_3</th>\n",
       "      <th>NAME_INCOME_TYPE</th>\n",
       "      <th>FLAG_EMP_PHONE</th>\n",
       "      <th>OCCUPATION_TYPE</th>\n",
       "      <th>REGION_RATING_CLIENT_W_CITY</th>\n",
       "      <th>NAME_INCOME_TYPE</th>\n",
       "      <th>REGION_RATING_CLIENT</th>\n",
       "    </tr>\n",
       "  </thead>\n",
       "  <tbody>\n",
       "    <tr>\n",
       "      <th>0</th>\n",
       "      <td>0</td>\n",
       "      <td>0</td>\n",
       "      <td>0</td>\n",
       "      <td>0</td>\n",
       "      <td>0</td>\n",
       "      <td>0</td>\n",
       "      <td>0</td>\n",
       "      <td>0</td>\n",
       "      <td>0</td>\n",
       "      <td>0</td>\n",
       "      <td>0</td>\n",
       "    </tr>\n",
       "    <tr>\n",
       "      <th>1</th>\n",
       "      <td>1</td>\n",
       "      <td>1</td>\n",
       "      <td>1</td>\n",
       "      <td>0</td>\n",
       "      <td>0</td>\n",
       "      <td>1</td>\n",
       "      <td>0</td>\n",
       "      <td>1</td>\n",
       "      <td>1</td>\n",
       "      <td>1</td>\n",
       "      <td>1</td>\n",
       "    </tr>\n",
       "    <tr>\n",
       "      <th>2</th>\n",
       "      <td>2</td>\n",
       "      <td>0</td>\n",
       "      <td>0</td>\n",
       "      <td>0</td>\n",
       "      <td>1</td>\n",
       "      <td>0</td>\n",
       "      <td>0</td>\n",
       "      <td>0</td>\n",
       "      <td>0</td>\n",
       "      <td>0</td>\n",
       "      <td>0</td>\n",
       "    </tr>\n",
       "    <tr>\n",
       "      <th>3</th>\n",
       "      <td>0</td>\n",
       "      <td>1</td>\n",
       "      <td>0</td>\n",
       "      <td>0</td>\n",
       "      <td>0</td>\n",
       "      <td>0</td>\n",
       "      <td>0</td>\n",
       "      <td>0</td>\n",
       "      <td>0</td>\n",
       "      <td>0</td>\n",
       "      <td>0</td>\n",
       "    </tr>\n",
       "    <tr>\n",
       "      <th>4</th>\n",
       "      <td>3</td>\n",
       "      <td>0</td>\n",
       "      <td>0</td>\n",
       "      <td>1</td>\n",
       "      <td>1</td>\n",
       "      <td>0</td>\n",
       "      <td>0</td>\n",
       "      <td>1</td>\n",
       "      <td>0</td>\n",
       "      <td>0</td>\n",
       "      <td>0</td>\n",
       "    </tr>\n",
       "  </tbody>\n",
       "</table>\n",
       "</div>"
      ],
      "text/plain": [
       "   ORGANIZATION_TYPE  CODE_GENDER  NAME_EDUCATION_TYPE  \\\n",
       "0                  0            0                    0   \n",
       "1                  1            1                    1   \n",
       "2                  2            0                    0   \n",
       "3                  0            1                    0   \n",
       "4                  3            0                    0   \n",
       "\n",
       "   REG_CITY_NOT_WORK_CITY  FLAG_DOCUMENT_3  NAME_INCOME_TYPE  FLAG_EMP_PHONE  \\\n",
       "0                       0                0                 0               0   \n",
       "1                       0                0                 1               0   \n",
       "2                       0                1                 0               0   \n",
       "3                       0                0                 0               0   \n",
       "4                       1                1                 0               0   \n",
       "\n",
       "   OCCUPATION_TYPE  REGION_RATING_CLIENT_W_CITY  NAME_INCOME_TYPE  \\\n",
       "0                0                            0                 0   \n",
       "1                1                            1                 1   \n",
       "2                0                            0                 0   \n",
       "3                0                            0                 0   \n",
       "4                1                            0                 0   \n",
       "\n",
       "   REGION_RATING_CLIENT  \n",
       "0                     0  \n",
       "1                     1  \n",
       "2                     0  \n",
       "3                     0  \n",
       "4                     0  "
      ]
     },
     "execution_count": 148,
     "metadata": {},
     "output_type": "execute_result"
    }
   ],
   "source": [
    "app_train[cats].head()"
   ]
  },
  {
   "cell_type": "code",
   "execution_count": 149,
   "metadata": {},
   "outputs": [
    {
     "data": {
      "text/html": [
       "<div>\n",
       "<style scoped>\n",
       "    .dataframe tbody tr th:only-of-type {\n",
       "        vertical-align: middle;\n",
       "    }\n",
       "\n",
       "    .dataframe tbody tr th {\n",
       "        vertical-align: top;\n",
       "    }\n",
       "\n",
       "    .dataframe thead th {\n",
       "        text-align: right;\n",
       "    }\n",
       "</style>\n",
       "<table border=\"1\" class=\"dataframe\">\n",
       "  <thead>\n",
       "    <tr style=\"text-align: right;\">\n",
       "      <th></th>\n",
       "      <th>SK_ID_CURR</th>\n",
       "      <th>TARGET</th>\n",
       "      <th>CNT_CHILDREN</th>\n",
       "      <th>AMT_INCOME_TOTAL</th>\n",
       "      <th>AMT_CREDIT</th>\n",
       "      <th>AMT_ANNUITY</th>\n",
       "      <th>AMT_GOODS_PRICE</th>\n",
       "      <th>REGION_POPULATION_RELATIVE</th>\n",
       "      <th>DAYS_BIRTH</th>\n",
       "      <th>DAYS_EMPLOYED</th>\n",
       "      <th>DAYS_REGISTRATION</th>\n",
       "      <th>DAYS_ID_PUBLISH</th>\n",
       "      <th>OWN_CAR_AGE</th>\n",
       "      <th>CNT_FAM_MEMBERS</th>\n",
       "      <th>HOUR_APPR_PROCESS_START</th>\n",
       "      <th>EXT_SOURCE_1</th>\n",
       "      <th>EXT_SOURCE_2</th>\n",
       "      <th>EXT_SOURCE_3</th>\n",
       "      <th>APARTMENTS_AVG</th>\n",
       "      <th>BASEMENTAREA_AVG</th>\n",
       "      <th>YEARS_BEGINEXPLUATATION_AVG</th>\n",
       "      <th>YEARS_BUILD_AVG</th>\n",
       "      <th>COMMONAREA_AVG</th>\n",
       "      <th>ELEVATORS_AVG</th>\n",
       "      <th>ENTRANCES_AVG</th>\n",
       "      <th>FLOORSMAX_AVG</th>\n",
       "      <th>FLOORSMIN_AVG</th>\n",
       "      <th>LANDAREA_AVG</th>\n",
       "      <th>LIVINGAPARTMENTS_AVG</th>\n",
       "      <th>LIVINGAREA_AVG</th>\n",
       "      <th>NONLIVINGAPARTMENTS_AVG</th>\n",
       "      <th>NONLIVINGAREA_AVG</th>\n",
       "      <th>APARTMENTS_MODE</th>\n",
       "      <th>BASEMENTAREA_MODE</th>\n",
       "      <th>YEARS_BEGINEXPLUATATION_MODE</th>\n",
       "      <th>YEARS_BUILD_MODE</th>\n",
       "      <th>COMMONAREA_MODE</th>\n",
       "      <th>ELEVATORS_MODE</th>\n",
       "      <th>ENTRANCES_MODE</th>\n",
       "      <th>FLOORSMAX_MODE</th>\n",
       "      <th>FLOORSMIN_MODE</th>\n",
       "      <th>LANDAREA_MODE</th>\n",
       "      <th>LIVINGAPARTMENTS_MODE</th>\n",
       "      <th>LIVINGAREA_MODE</th>\n",
       "      <th>NONLIVINGAPARTMENTS_MODE</th>\n",
       "      <th>NONLIVINGAREA_MODE</th>\n",
       "      <th>APARTMENTS_MEDI</th>\n",
       "      <th>BASEMENTAREA_MEDI</th>\n",
       "      <th>YEARS_BEGINEXPLUATATION_MEDI</th>\n",
       "      <th>YEARS_BUILD_MEDI</th>\n",
       "      <th>COMMONAREA_MEDI</th>\n",
       "      <th>ELEVATORS_MEDI</th>\n",
       "      <th>ENTRANCES_MEDI</th>\n",
       "      <th>FLOORSMAX_MEDI</th>\n",
       "      <th>FLOORSMIN_MEDI</th>\n",
       "      <th>LANDAREA_MEDI</th>\n",
       "      <th>LIVINGAPARTMENTS_MEDI</th>\n",
       "      <th>LIVINGAREA_MEDI</th>\n",
       "      <th>NONLIVINGAPARTMENTS_MEDI</th>\n",
       "      <th>NONLIVINGAREA_MEDI</th>\n",
       "      <th>TOTALAREA_MODE</th>\n",
       "      <th>OBS_30_CNT_SOCIAL_CIRCLE</th>\n",
       "      <th>DEF_30_CNT_SOCIAL_CIRCLE</th>\n",
       "      <th>OBS_60_CNT_SOCIAL_CIRCLE</th>\n",
       "      <th>DEF_60_CNT_SOCIAL_CIRCLE</th>\n",
       "      <th>DAYS_LAST_PHONE_CHANGE</th>\n",
       "      <th>AMT_REQ_CREDIT_BUREAU_HOUR</th>\n",
       "      <th>AMT_REQ_CREDIT_BUREAU_DAY</th>\n",
       "      <th>AMT_REQ_CREDIT_BUREAU_WEEK</th>\n",
       "      <th>AMT_REQ_CREDIT_BUREAU_MON</th>\n",
       "      <th>AMT_REQ_CREDIT_BUREAU_QRT</th>\n",
       "      <th>AMT_REQ_CREDIT_BUREAU_YEAR</th>\n",
       "      <th>ORGANIZATION_TYPE</th>\n",
       "      <th>CODE_GENDER</th>\n",
       "      <th>NAME_EDUCATION_TYPE</th>\n",
       "      <th>REG_CITY_NOT_WORK_CITY</th>\n",
       "      <th>FLAG_DOCUMENT_3</th>\n",
       "      <th>NAME_INCOME_TYPE</th>\n",
       "      <th>FLAG_EMP_PHONE</th>\n",
       "      <th>OCCUPATION_TYPE</th>\n",
       "      <th>REGION_RATING_CLIENT_W_CITY</th>\n",
       "      <th>NAME_INCOME_TYPE</th>\n",
       "      <th>REGION_RATING_CLIENT</th>\n",
       "    </tr>\n",
       "  </thead>\n",
       "  <tbody>\n",
       "    <tr>\n",
       "      <th>0</th>\n",
       "      <td>100002</td>\n",
       "      <td>1</td>\n",
       "      <td>0</td>\n",
       "      <td>202500.0</td>\n",
       "      <td>406597.5</td>\n",
       "      <td>24700.5</td>\n",
       "      <td>351000.0</td>\n",
       "      <td>0.018801</td>\n",
       "      <td>-9461</td>\n",
       "      <td>-637</td>\n",
       "      <td>-3648.0</td>\n",
       "      <td>-2120</td>\n",
       "      <td>NaN</td>\n",
       "      <td>1.0</td>\n",
       "      <td>10</td>\n",
       "      <td>0.083037</td>\n",
       "      <td>0.262949</td>\n",
       "      <td>0.139376</td>\n",
       "      <td>0.0247</td>\n",
       "      <td>0.0369</td>\n",
       "      <td>0.972200</td>\n",
       "      <td>0.6192</td>\n",
       "      <td>0.0143</td>\n",
       "      <td>0.00</td>\n",
       "      <td>0.0690</td>\n",
       "      <td>0.0833</td>\n",
       "      <td>0.1250</td>\n",
       "      <td>0.0369</td>\n",
       "      <td>0.0202</td>\n",
       "      <td>0.0190</td>\n",
       "      <td>0.0000</td>\n",
       "      <td>0.0000</td>\n",
       "      <td>0.0252</td>\n",
       "      <td>0.0383</td>\n",
       "      <td>0.9722</td>\n",
       "      <td>0.6341</td>\n",
       "      <td>0.0144</td>\n",
       "      <td>0.0000</td>\n",
       "      <td>0.0690</td>\n",
       "      <td>0.0833</td>\n",
       "      <td>0.1250</td>\n",
       "      <td>0.0377</td>\n",
       "      <td>0.022</td>\n",
       "      <td>0.0198</td>\n",
       "      <td>0.0</td>\n",
       "      <td>0.0</td>\n",
       "      <td>0.0250</td>\n",
       "      <td>0.0369</td>\n",
       "      <td>0.9722</td>\n",
       "      <td>0.6243</td>\n",
       "      <td>0.0144</td>\n",
       "      <td>0.00</td>\n",
       "      <td>0.0690</td>\n",
       "      <td>0.0833</td>\n",
       "      <td>0.1250</td>\n",
       "      <td>0.0375</td>\n",
       "      <td>0.0205</td>\n",
       "      <td>0.0193</td>\n",
       "      <td>0.0000</td>\n",
       "      <td>0.00</td>\n",
       "      <td>0.014900</td>\n",
       "      <td>2.0</td>\n",
       "      <td>2.0</td>\n",
       "      <td>2.0</td>\n",
       "      <td>2.0</td>\n",
       "      <td>-1134.0</td>\n",
       "      <td>0.0</td>\n",
       "      <td>0.0</td>\n",
       "      <td>0.0</td>\n",
       "      <td>0.0</td>\n",
       "      <td>0.0</td>\n",
       "      <td>1.0</td>\n",
       "      <td>0</td>\n",
       "      <td>0</td>\n",
       "      <td>0</td>\n",
       "      <td>0</td>\n",
       "      <td>0</td>\n",
       "      <td>0</td>\n",
       "      <td>0</td>\n",
       "      <td>0</td>\n",
       "      <td>0</td>\n",
       "      <td>0</td>\n",
       "      <td>0</td>\n",
       "    </tr>\n",
       "    <tr>\n",
       "      <th>1</th>\n",
       "      <td>100003</td>\n",
       "      <td>0</td>\n",
       "      <td>0</td>\n",
       "      <td>270000.0</td>\n",
       "      <td>1293502.5</td>\n",
       "      <td>35698.5</td>\n",
       "      <td>1129500.0</td>\n",
       "      <td>0.003541</td>\n",
       "      <td>-16765</td>\n",
       "      <td>-1188</td>\n",
       "      <td>-1186.0</td>\n",
       "      <td>-291</td>\n",
       "      <td>NaN</td>\n",
       "      <td>2.0</td>\n",
       "      <td>11</td>\n",
       "      <td>0.311267</td>\n",
       "      <td>0.622246</td>\n",
       "      <td>0.510853</td>\n",
       "      <td>0.0959</td>\n",
       "      <td>0.0529</td>\n",
       "      <td>0.985100</td>\n",
       "      <td>0.7960</td>\n",
       "      <td>0.0605</td>\n",
       "      <td>0.08</td>\n",
       "      <td>0.0345</td>\n",
       "      <td>0.2917</td>\n",
       "      <td>0.3333</td>\n",
       "      <td>0.0130</td>\n",
       "      <td>0.0773</td>\n",
       "      <td>0.0549</td>\n",
       "      <td>0.0039</td>\n",
       "      <td>0.0098</td>\n",
       "      <td>0.0924</td>\n",
       "      <td>0.0538</td>\n",
       "      <td>0.9851</td>\n",
       "      <td>0.8040</td>\n",
       "      <td>0.0497</td>\n",
       "      <td>0.0806</td>\n",
       "      <td>0.0345</td>\n",
       "      <td>0.2917</td>\n",
       "      <td>0.3333</td>\n",
       "      <td>0.0128</td>\n",
       "      <td>0.079</td>\n",
       "      <td>0.0554</td>\n",
       "      <td>0.0</td>\n",
       "      <td>0.0</td>\n",
       "      <td>0.0968</td>\n",
       "      <td>0.0529</td>\n",
       "      <td>0.9851</td>\n",
       "      <td>0.7987</td>\n",
       "      <td>0.0608</td>\n",
       "      <td>0.08</td>\n",
       "      <td>0.0345</td>\n",
       "      <td>0.2917</td>\n",
       "      <td>0.3333</td>\n",
       "      <td>0.0132</td>\n",
       "      <td>0.0787</td>\n",
       "      <td>0.0558</td>\n",
       "      <td>0.0039</td>\n",
       "      <td>0.01</td>\n",
       "      <td>0.071400</td>\n",
       "      <td>1.0</td>\n",
       "      <td>0.0</td>\n",
       "      <td>1.0</td>\n",
       "      <td>0.0</td>\n",
       "      <td>-828.0</td>\n",
       "      <td>0.0</td>\n",
       "      <td>0.0</td>\n",
       "      <td>0.0</td>\n",
       "      <td>0.0</td>\n",
       "      <td>0.0</td>\n",
       "      <td>0.0</td>\n",
       "      <td>1</td>\n",
       "      <td>1</td>\n",
       "      <td>1</td>\n",
       "      <td>0</td>\n",
       "      <td>0</td>\n",
       "      <td>1</td>\n",
       "      <td>0</td>\n",
       "      <td>1</td>\n",
       "      <td>1</td>\n",
       "      <td>1</td>\n",
       "      <td>1</td>\n",
       "    </tr>\n",
       "    <tr>\n",
       "      <th>2</th>\n",
       "      <td>100004</td>\n",
       "      <td>0</td>\n",
       "      <td>0</td>\n",
       "      <td>67500.0</td>\n",
       "      <td>135000.0</td>\n",
       "      <td>6750.0</td>\n",
       "      <td>135000.0</td>\n",
       "      <td>0.010032</td>\n",
       "      <td>-19046</td>\n",
       "      <td>-225</td>\n",
       "      <td>-4260.0</td>\n",
       "      <td>-2531</td>\n",
       "      <td>26.0</td>\n",
       "      <td>1.0</td>\n",
       "      <td>9</td>\n",
       "      <td>0.502130</td>\n",
       "      <td>0.555912</td>\n",
       "      <td>0.729567</td>\n",
       "      <td>NaN</td>\n",
       "      <td>NaN</td>\n",
       "      <td>0.977735</td>\n",
       "      <td>NaN</td>\n",
       "      <td>NaN</td>\n",
       "      <td>NaN</td>\n",
       "      <td>NaN</td>\n",
       "      <td>NaN</td>\n",
       "      <td>NaN</td>\n",
       "      <td>NaN</td>\n",
       "      <td>NaN</td>\n",
       "      <td>NaN</td>\n",
       "      <td>NaN</td>\n",
       "      <td>NaN</td>\n",
       "      <td>NaN</td>\n",
       "      <td>NaN</td>\n",
       "      <td>NaN</td>\n",
       "      <td>NaN</td>\n",
       "      <td>NaN</td>\n",
       "      <td>NaN</td>\n",
       "      <td>NaN</td>\n",
       "      <td>NaN</td>\n",
       "      <td>NaN</td>\n",
       "      <td>NaN</td>\n",
       "      <td>NaN</td>\n",
       "      <td>NaN</td>\n",
       "      <td>NaN</td>\n",
       "      <td>NaN</td>\n",
       "      <td>NaN</td>\n",
       "      <td>NaN</td>\n",
       "      <td>NaN</td>\n",
       "      <td>NaN</td>\n",
       "      <td>NaN</td>\n",
       "      <td>NaN</td>\n",
       "      <td>NaN</td>\n",
       "      <td>NaN</td>\n",
       "      <td>NaN</td>\n",
       "      <td>NaN</td>\n",
       "      <td>NaN</td>\n",
       "      <td>NaN</td>\n",
       "      <td>NaN</td>\n",
       "      <td>NaN</td>\n",
       "      <td>0.102547</td>\n",
       "      <td>0.0</td>\n",
       "      <td>0.0</td>\n",
       "      <td>0.0</td>\n",
       "      <td>0.0</td>\n",
       "      <td>-815.0</td>\n",
       "      <td>0.0</td>\n",
       "      <td>0.0</td>\n",
       "      <td>0.0</td>\n",
       "      <td>0.0</td>\n",
       "      <td>0.0</td>\n",
       "      <td>0.0</td>\n",
       "      <td>2</td>\n",
       "      <td>0</td>\n",
       "      <td>0</td>\n",
       "      <td>0</td>\n",
       "      <td>1</td>\n",
       "      <td>0</td>\n",
       "      <td>0</td>\n",
       "      <td>0</td>\n",
       "      <td>0</td>\n",
       "      <td>0</td>\n",
       "      <td>0</td>\n",
       "    </tr>\n",
       "    <tr>\n",
       "      <th>3</th>\n",
       "      <td>100006</td>\n",
       "      <td>0</td>\n",
       "      <td>0</td>\n",
       "      <td>135000.0</td>\n",
       "      <td>312682.5</td>\n",
       "      <td>29686.5</td>\n",
       "      <td>297000.0</td>\n",
       "      <td>0.008019</td>\n",
       "      <td>-19005</td>\n",
       "      <td>-3039</td>\n",
       "      <td>-9833.0</td>\n",
       "      <td>-2437</td>\n",
       "      <td>NaN</td>\n",
       "      <td>2.0</td>\n",
       "      <td>17</td>\n",
       "      <td>0.502130</td>\n",
       "      <td>0.650442</td>\n",
       "      <td>0.510853</td>\n",
       "      <td>NaN</td>\n",
       "      <td>NaN</td>\n",
       "      <td>0.977735</td>\n",
       "      <td>NaN</td>\n",
       "      <td>NaN</td>\n",
       "      <td>NaN</td>\n",
       "      <td>NaN</td>\n",
       "      <td>NaN</td>\n",
       "      <td>NaN</td>\n",
       "      <td>NaN</td>\n",
       "      <td>NaN</td>\n",
       "      <td>NaN</td>\n",
       "      <td>NaN</td>\n",
       "      <td>NaN</td>\n",
       "      <td>NaN</td>\n",
       "      <td>NaN</td>\n",
       "      <td>NaN</td>\n",
       "      <td>NaN</td>\n",
       "      <td>NaN</td>\n",
       "      <td>NaN</td>\n",
       "      <td>NaN</td>\n",
       "      <td>NaN</td>\n",
       "      <td>NaN</td>\n",
       "      <td>NaN</td>\n",
       "      <td>NaN</td>\n",
       "      <td>NaN</td>\n",
       "      <td>NaN</td>\n",
       "      <td>NaN</td>\n",
       "      <td>NaN</td>\n",
       "      <td>NaN</td>\n",
       "      <td>NaN</td>\n",
       "      <td>NaN</td>\n",
       "      <td>NaN</td>\n",
       "      <td>NaN</td>\n",
       "      <td>NaN</td>\n",
       "      <td>NaN</td>\n",
       "      <td>NaN</td>\n",
       "      <td>NaN</td>\n",
       "      <td>NaN</td>\n",
       "      <td>NaN</td>\n",
       "      <td>NaN</td>\n",
       "      <td>NaN</td>\n",
       "      <td>0.102547</td>\n",
       "      <td>2.0</td>\n",
       "      <td>0.0</td>\n",
       "      <td>2.0</td>\n",
       "      <td>0.0</td>\n",
       "      <td>-617.0</td>\n",
       "      <td>0.0</td>\n",
       "      <td>0.0</td>\n",
       "      <td>0.0</td>\n",
       "      <td>0.0</td>\n",
       "      <td>0.0</td>\n",
       "      <td>NaN</td>\n",
       "      <td>0</td>\n",
       "      <td>1</td>\n",
       "      <td>0</td>\n",
       "      <td>0</td>\n",
       "      <td>0</td>\n",
       "      <td>0</td>\n",
       "      <td>0</td>\n",
       "      <td>0</td>\n",
       "      <td>0</td>\n",
       "      <td>0</td>\n",
       "      <td>0</td>\n",
       "    </tr>\n",
       "    <tr>\n",
       "      <th>4</th>\n",
       "      <td>100007</td>\n",
       "      <td>0</td>\n",
       "      <td>0</td>\n",
       "      <td>121500.0</td>\n",
       "      <td>513000.0</td>\n",
       "      <td>21865.5</td>\n",
       "      <td>513000.0</td>\n",
       "      <td>0.028663</td>\n",
       "      <td>-19932</td>\n",
       "      <td>-3038</td>\n",
       "      <td>-4311.0</td>\n",
       "      <td>-3458</td>\n",
       "      <td>NaN</td>\n",
       "      <td>1.0</td>\n",
       "      <td>11</td>\n",
       "      <td>0.502130</td>\n",
       "      <td>0.322738</td>\n",
       "      <td>0.510853</td>\n",
       "      <td>NaN</td>\n",
       "      <td>NaN</td>\n",
       "      <td>0.977735</td>\n",
       "      <td>NaN</td>\n",
       "      <td>NaN</td>\n",
       "      <td>NaN</td>\n",
       "      <td>NaN</td>\n",
       "      <td>NaN</td>\n",
       "      <td>NaN</td>\n",
       "      <td>NaN</td>\n",
       "      <td>NaN</td>\n",
       "      <td>NaN</td>\n",
       "      <td>NaN</td>\n",
       "      <td>NaN</td>\n",
       "      <td>NaN</td>\n",
       "      <td>NaN</td>\n",
       "      <td>NaN</td>\n",
       "      <td>NaN</td>\n",
       "      <td>NaN</td>\n",
       "      <td>NaN</td>\n",
       "      <td>NaN</td>\n",
       "      <td>NaN</td>\n",
       "      <td>NaN</td>\n",
       "      <td>NaN</td>\n",
       "      <td>NaN</td>\n",
       "      <td>NaN</td>\n",
       "      <td>NaN</td>\n",
       "      <td>NaN</td>\n",
       "      <td>NaN</td>\n",
       "      <td>NaN</td>\n",
       "      <td>NaN</td>\n",
       "      <td>NaN</td>\n",
       "      <td>NaN</td>\n",
       "      <td>NaN</td>\n",
       "      <td>NaN</td>\n",
       "      <td>NaN</td>\n",
       "      <td>NaN</td>\n",
       "      <td>NaN</td>\n",
       "      <td>NaN</td>\n",
       "      <td>NaN</td>\n",
       "      <td>NaN</td>\n",
       "      <td>NaN</td>\n",
       "      <td>0.102547</td>\n",
       "      <td>0.0</td>\n",
       "      <td>0.0</td>\n",
       "      <td>0.0</td>\n",
       "      <td>0.0</td>\n",
       "      <td>-1106.0</td>\n",
       "      <td>0.0</td>\n",
       "      <td>0.0</td>\n",
       "      <td>0.0</td>\n",
       "      <td>0.0</td>\n",
       "      <td>0.0</td>\n",
       "      <td>0.0</td>\n",
       "      <td>3</td>\n",
       "      <td>0</td>\n",
       "      <td>0</td>\n",
       "      <td>1</td>\n",
       "      <td>1</td>\n",
       "      <td>0</td>\n",
       "      <td>0</td>\n",
       "      <td>1</td>\n",
       "      <td>0</td>\n",
       "      <td>0</td>\n",
       "      <td>0</td>\n",
       "    </tr>\n",
       "  </tbody>\n",
       "</table>\n",
       "</div>"
      ],
      "text/plain": [
       "   SK_ID_CURR  TARGET  CNT_CHILDREN  AMT_INCOME_TOTAL  AMT_CREDIT  \\\n",
       "0      100002       1             0          202500.0    406597.5   \n",
       "1      100003       0             0          270000.0   1293502.5   \n",
       "2      100004       0             0           67500.0    135000.0   \n",
       "3      100006       0             0          135000.0    312682.5   \n",
       "4      100007       0             0          121500.0    513000.0   \n",
       "\n",
       "   AMT_ANNUITY  AMT_GOODS_PRICE  REGION_POPULATION_RELATIVE  DAYS_BIRTH  \\\n",
       "0      24700.5         351000.0                    0.018801       -9461   \n",
       "1      35698.5        1129500.0                    0.003541      -16765   \n",
       "2       6750.0         135000.0                    0.010032      -19046   \n",
       "3      29686.5         297000.0                    0.008019      -19005   \n",
       "4      21865.5         513000.0                    0.028663      -19932   \n",
       "\n",
       "   DAYS_EMPLOYED  DAYS_REGISTRATION  DAYS_ID_PUBLISH  OWN_CAR_AGE  \\\n",
       "0           -637            -3648.0            -2120          NaN   \n",
       "1          -1188            -1186.0             -291          NaN   \n",
       "2           -225            -4260.0            -2531         26.0   \n",
       "3          -3039            -9833.0            -2437          NaN   \n",
       "4          -3038            -4311.0            -3458          NaN   \n",
       "\n",
       "   CNT_FAM_MEMBERS  HOUR_APPR_PROCESS_START  EXT_SOURCE_1  EXT_SOURCE_2  \\\n",
       "0              1.0                       10      0.083037      0.262949   \n",
       "1              2.0                       11      0.311267      0.622246   \n",
       "2              1.0                        9      0.502130      0.555912   \n",
       "3              2.0                       17      0.502130      0.650442   \n",
       "4              1.0                       11      0.502130      0.322738   \n",
       "\n",
       "   EXT_SOURCE_3  APARTMENTS_AVG  BASEMENTAREA_AVG  \\\n",
       "0      0.139376          0.0247            0.0369   \n",
       "1      0.510853          0.0959            0.0529   \n",
       "2      0.729567             NaN               NaN   \n",
       "3      0.510853             NaN               NaN   \n",
       "4      0.510853             NaN               NaN   \n",
       "\n",
       "   YEARS_BEGINEXPLUATATION_AVG  YEARS_BUILD_AVG  COMMONAREA_AVG  \\\n",
       "0                     0.972200           0.6192          0.0143   \n",
       "1                     0.985100           0.7960          0.0605   \n",
       "2                     0.977735              NaN             NaN   \n",
       "3                     0.977735              NaN             NaN   \n",
       "4                     0.977735              NaN             NaN   \n",
       "\n",
       "   ELEVATORS_AVG  ENTRANCES_AVG  FLOORSMAX_AVG  FLOORSMIN_AVG  LANDAREA_AVG  \\\n",
       "0           0.00         0.0690         0.0833         0.1250        0.0369   \n",
       "1           0.08         0.0345         0.2917         0.3333        0.0130   \n",
       "2            NaN            NaN            NaN            NaN           NaN   \n",
       "3            NaN            NaN            NaN            NaN           NaN   \n",
       "4            NaN            NaN            NaN            NaN           NaN   \n",
       "\n",
       "   LIVINGAPARTMENTS_AVG  LIVINGAREA_AVG  NONLIVINGAPARTMENTS_AVG  \\\n",
       "0                0.0202          0.0190                   0.0000   \n",
       "1                0.0773          0.0549                   0.0039   \n",
       "2                   NaN             NaN                      NaN   \n",
       "3                   NaN             NaN                      NaN   \n",
       "4                   NaN             NaN                      NaN   \n",
       "\n",
       "   NONLIVINGAREA_AVG  APARTMENTS_MODE  BASEMENTAREA_MODE  \\\n",
       "0             0.0000           0.0252             0.0383   \n",
       "1             0.0098           0.0924             0.0538   \n",
       "2                NaN              NaN                NaN   \n",
       "3                NaN              NaN                NaN   \n",
       "4                NaN              NaN                NaN   \n",
       "\n",
       "   YEARS_BEGINEXPLUATATION_MODE  YEARS_BUILD_MODE  COMMONAREA_MODE  \\\n",
       "0                        0.9722            0.6341           0.0144   \n",
       "1                        0.9851            0.8040           0.0497   \n",
       "2                           NaN               NaN              NaN   \n",
       "3                           NaN               NaN              NaN   \n",
       "4                           NaN               NaN              NaN   \n",
       "\n",
       "   ELEVATORS_MODE  ENTRANCES_MODE  FLOORSMAX_MODE  FLOORSMIN_MODE  \\\n",
       "0          0.0000          0.0690          0.0833          0.1250   \n",
       "1          0.0806          0.0345          0.2917          0.3333   \n",
       "2             NaN             NaN             NaN             NaN   \n",
       "3             NaN             NaN             NaN             NaN   \n",
       "4             NaN             NaN             NaN             NaN   \n",
       "\n",
       "   LANDAREA_MODE  LIVINGAPARTMENTS_MODE  LIVINGAREA_MODE  \\\n",
       "0         0.0377                  0.022           0.0198   \n",
       "1         0.0128                  0.079           0.0554   \n",
       "2            NaN                    NaN              NaN   \n",
       "3            NaN                    NaN              NaN   \n",
       "4            NaN                    NaN              NaN   \n",
       "\n",
       "   NONLIVINGAPARTMENTS_MODE  NONLIVINGAREA_MODE  APARTMENTS_MEDI  \\\n",
       "0                       0.0                 0.0           0.0250   \n",
       "1                       0.0                 0.0           0.0968   \n",
       "2                       NaN                 NaN              NaN   \n",
       "3                       NaN                 NaN              NaN   \n",
       "4                       NaN                 NaN              NaN   \n",
       "\n",
       "   BASEMENTAREA_MEDI  YEARS_BEGINEXPLUATATION_MEDI  YEARS_BUILD_MEDI  \\\n",
       "0             0.0369                        0.9722            0.6243   \n",
       "1             0.0529                        0.9851            0.7987   \n",
       "2                NaN                           NaN               NaN   \n",
       "3                NaN                           NaN               NaN   \n",
       "4                NaN                           NaN               NaN   \n",
       "\n",
       "   COMMONAREA_MEDI  ELEVATORS_MEDI  ENTRANCES_MEDI  FLOORSMAX_MEDI  \\\n",
       "0           0.0144            0.00          0.0690          0.0833   \n",
       "1           0.0608            0.08          0.0345          0.2917   \n",
       "2              NaN             NaN             NaN             NaN   \n",
       "3              NaN             NaN             NaN             NaN   \n",
       "4              NaN             NaN             NaN             NaN   \n",
       "\n",
       "   FLOORSMIN_MEDI  LANDAREA_MEDI  LIVINGAPARTMENTS_MEDI  LIVINGAREA_MEDI  \\\n",
       "0          0.1250         0.0375                 0.0205           0.0193   \n",
       "1          0.3333         0.0132                 0.0787           0.0558   \n",
       "2             NaN            NaN                    NaN              NaN   \n",
       "3             NaN            NaN                    NaN              NaN   \n",
       "4             NaN            NaN                    NaN              NaN   \n",
       "\n",
       "   NONLIVINGAPARTMENTS_MEDI  NONLIVINGAREA_MEDI  TOTALAREA_MODE  \\\n",
       "0                    0.0000                0.00        0.014900   \n",
       "1                    0.0039                0.01        0.071400   \n",
       "2                       NaN                 NaN        0.102547   \n",
       "3                       NaN                 NaN        0.102547   \n",
       "4                       NaN                 NaN        0.102547   \n",
       "\n",
       "   OBS_30_CNT_SOCIAL_CIRCLE  DEF_30_CNT_SOCIAL_CIRCLE  \\\n",
       "0                       2.0                       2.0   \n",
       "1                       1.0                       0.0   \n",
       "2                       0.0                       0.0   \n",
       "3                       2.0                       0.0   \n",
       "4                       0.0                       0.0   \n",
       "\n",
       "   OBS_60_CNT_SOCIAL_CIRCLE  DEF_60_CNT_SOCIAL_CIRCLE  DAYS_LAST_PHONE_CHANGE  \\\n",
       "0                       2.0                       2.0                 -1134.0   \n",
       "1                       1.0                       0.0                  -828.0   \n",
       "2                       0.0                       0.0                  -815.0   \n",
       "3                       2.0                       0.0                  -617.0   \n",
       "4                       0.0                       0.0                 -1106.0   \n",
       "\n",
       "   AMT_REQ_CREDIT_BUREAU_HOUR  AMT_REQ_CREDIT_BUREAU_DAY  \\\n",
       "0                         0.0                        0.0   \n",
       "1                         0.0                        0.0   \n",
       "2                         0.0                        0.0   \n",
       "3                         0.0                        0.0   \n",
       "4                         0.0                        0.0   \n",
       "\n",
       "   AMT_REQ_CREDIT_BUREAU_WEEK  AMT_REQ_CREDIT_BUREAU_MON  \\\n",
       "0                         0.0                        0.0   \n",
       "1                         0.0                        0.0   \n",
       "2                         0.0                        0.0   \n",
       "3                         0.0                        0.0   \n",
       "4                         0.0                        0.0   \n",
       "\n",
       "   AMT_REQ_CREDIT_BUREAU_QRT  AMT_REQ_CREDIT_BUREAU_YEAR  ORGANIZATION_TYPE  \\\n",
       "0                        0.0                         1.0                  0   \n",
       "1                        0.0                         0.0                  1   \n",
       "2                        0.0                         0.0                  2   \n",
       "3                        0.0                         NaN                  0   \n",
       "4                        0.0                         0.0                  3   \n",
       "\n",
       "   CODE_GENDER  NAME_EDUCATION_TYPE  REG_CITY_NOT_WORK_CITY  FLAG_DOCUMENT_3  \\\n",
       "0            0                    0                       0                0   \n",
       "1            1                    1                       0                0   \n",
       "2            0                    0                       0                1   \n",
       "3            1                    0                       0                0   \n",
       "4            0                    0                       1                1   \n",
       "\n",
       "   NAME_INCOME_TYPE  FLAG_EMP_PHONE  OCCUPATION_TYPE  \\\n",
       "0                 0               0                0   \n",
       "1                 1               0                1   \n",
       "2                 0               0                0   \n",
       "3                 0               0                0   \n",
       "4                 0               0                1   \n",
       "\n",
       "   REGION_RATING_CLIENT_W_CITY  NAME_INCOME_TYPE  REGION_RATING_CLIENT  \n",
       "0                            0                 0                     0  \n",
       "1                            1                 1                     1  \n",
       "2                            0                 0                     0  \n",
       "3                            0                 0                     0  \n",
       "4                            0                 0                     0  "
      ]
     },
     "execution_count": 149,
     "metadata": {},
     "output_type": "execute_result"
    }
   ],
   "source": [
    "df = df.join(app_train[cats])\n",
    "df.head()"
   ]
  },
  {
   "cell_type": "code",
   "execution_count": 150,
   "metadata": {},
   "outputs": [
    {
     "data": {
      "text/html": [
       "<div>\n",
       "<style scoped>\n",
       "    .dataframe tbody tr th:only-of-type {\n",
       "        vertical-align: middle;\n",
       "    }\n",
       "\n",
       "    .dataframe tbody tr th {\n",
       "        vertical-align: top;\n",
       "    }\n",
       "\n",
       "    .dataframe thead th {\n",
       "        text-align: right;\n",
       "    }\n",
       "</style>\n",
       "<table border=\"1\" class=\"dataframe\">\n",
       "  <thead>\n",
       "    <tr style=\"text-align: right;\">\n",
       "      <th></th>\n",
       "      <th>CNT_CHILDREN</th>\n",
       "      <th>AMT_INCOME_TOTAL</th>\n",
       "      <th>AMT_CREDIT</th>\n",
       "      <th>REGION_POPULATION_RELATIVE</th>\n",
       "      <th>DAYS_BIRTH</th>\n",
       "      <th>DAYS_EMPLOYED</th>\n",
       "      <th>DAYS_REGISTRATION</th>\n",
       "      <th>DAYS_ID_PUBLISH</th>\n",
       "      <th>EXT_SOURCE_1</th>\n",
       "      <th>EXT_SOURCE_2</th>\n",
       "      <th>EXT_SOURCE_3</th>\n",
       "      <th>YEARS_BEGINEXPLUATATION_AVG</th>\n",
       "      <th>TOTALAREA_MODE</th>\n",
       "      <th>OBS_30_CNT_SOCIAL_CIRCLE</th>\n",
       "      <th>DEF_30_CNT_SOCIAL_CIRCLE</th>\n",
       "      <th>AMT_REQ_CREDIT_BUREAU_HOUR</th>\n",
       "      <th>AMT_REQ_CREDIT_BUREAU_DAY</th>\n",
       "      <th>AMT_REQ_CREDIT_BUREAU_WEEK</th>\n",
       "      <th>AMT_REQ_CREDIT_BUREAU_MON</th>\n",
       "      <th>AMT_REQ_CREDIT_BUREAU_QRT</th>\n",
       "    </tr>\n",
       "  </thead>\n",
       "  <tbody>\n",
       "    <tr>\n",
       "      <th>0</th>\n",
       "      <td>0</td>\n",
       "      <td>202500.0</td>\n",
       "      <td>406597.5</td>\n",
       "      <td>0.018801</td>\n",
       "      <td>-9461</td>\n",
       "      <td>-637</td>\n",
       "      <td>-3648.0</td>\n",
       "      <td>-2120</td>\n",
       "      <td>0.083037</td>\n",
       "      <td>0.262949</td>\n",
       "      <td>0.139376</td>\n",
       "      <td>0.972200</td>\n",
       "      <td>0.014900</td>\n",
       "      <td>2.0</td>\n",
       "      <td>2.0</td>\n",
       "      <td>0.0</td>\n",
       "      <td>0.0</td>\n",
       "      <td>0.0</td>\n",
       "      <td>0.0</td>\n",
       "      <td>0.0</td>\n",
       "    </tr>\n",
       "    <tr>\n",
       "      <th>1</th>\n",
       "      <td>0</td>\n",
       "      <td>270000.0</td>\n",
       "      <td>1293502.5</td>\n",
       "      <td>0.003541</td>\n",
       "      <td>-16765</td>\n",
       "      <td>-1188</td>\n",
       "      <td>-1186.0</td>\n",
       "      <td>-291</td>\n",
       "      <td>0.311267</td>\n",
       "      <td>0.622246</td>\n",
       "      <td>0.510853</td>\n",
       "      <td>0.985100</td>\n",
       "      <td>0.071400</td>\n",
       "      <td>1.0</td>\n",
       "      <td>0.0</td>\n",
       "      <td>0.0</td>\n",
       "      <td>0.0</td>\n",
       "      <td>0.0</td>\n",
       "      <td>0.0</td>\n",
       "      <td>0.0</td>\n",
       "    </tr>\n",
       "    <tr>\n",
       "      <th>2</th>\n",
       "      <td>0</td>\n",
       "      <td>67500.0</td>\n",
       "      <td>135000.0</td>\n",
       "      <td>0.010032</td>\n",
       "      <td>-19046</td>\n",
       "      <td>-225</td>\n",
       "      <td>-4260.0</td>\n",
       "      <td>-2531</td>\n",
       "      <td>0.502130</td>\n",
       "      <td>0.555912</td>\n",
       "      <td>0.729567</td>\n",
       "      <td>0.977735</td>\n",
       "      <td>0.102547</td>\n",
       "      <td>0.0</td>\n",
       "      <td>0.0</td>\n",
       "      <td>0.0</td>\n",
       "      <td>0.0</td>\n",
       "      <td>0.0</td>\n",
       "      <td>0.0</td>\n",
       "      <td>0.0</td>\n",
       "    </tr>\n",
       "    <tr>\n",
       "      <th>3</th>\n",
       "      <td>0</td>\n",
       "      <td>135000.0</td>\n",
       "      <td>312682.5</td>\n",
       "      <td>0.008019</td>\n",
       "      <td>-19005</td>\n",
       "      <td>-3039</td>\n",
       "      <td>-9833.0</td>\n",
       "      <td>-2437</td>\n",
       "      <td>0.502130</td>\n",
       "      <td>0.650442</td>\n",
       "      <td>0.510853</td>\n",
       "      <td>0.977735</td>\n",
       "      <td>0.102547</td>\n",
       "      <td>2.0</td>\n",
       "      <td>0.0</td>\n",
       "      <td>0.0</td>\n",
       "      <td>0.0</td>\n",
       "      <td>0.0</td>\n",
       "      <td>0.0</td>\n",
       "      <td>0.0</td>\n",
       "    </tr>\n",
       "    <tr>\n",
       "      <th>4</th>\n",
       "      <td>0</td>\n",
       "      <td>121500.0</td>\n",
       "      <td>513000.0</td>\n",
       "      <td>0.028663</td>\n",
       "      <td>-19932</td>\n",
       "      <td>-3038</td>\n",
       "      <td>-4311.0</td>\n",
       "      <td>-3458</td>\n",
       "      <td>0.502130</td>\n",
       "      <td>0.322738</td>\n",
       "      <td>0.510853</td>\n",
       "      <td>0.977735</td>\n",
       "      <td>0.102547</td>\n",
       "      <td>0.0</td>\n",
       "      <td>0.0</td>\n",
       "      <td>0.0</td>\n",
       "      <td>0.0</td>\n",
       "      <td>0.0</td>\n",
       "      <td>0.0</td>\n",
       "      <td>0.0</td>\n",
       "    </tr>\n",
       "  </tbody>\n",
       "</table>\n",
       "</div>"
      ],
      "text/plain": [
       "   CNT_CHILDREN  AMT_INCOME_TOTAL  AMT_CREDIT  REGION_POPULATION_RELATIVE  \\\n",
       "0             0          202500.0    406597.5                    0.018801   \n",
       "1             0          270000.0   1293502.5                    0.003541   \n",
       "2             0           67500.0    135000.0                    0.010032   \n",
       "3             0          135000.0    312682.5                    0.008019   \n",
       "4             0          121500.0    513000.0                    0.028663   \n",
       "\n",
       "   DAYS_BIRTH  DAYS_EMPLOYED  DAYS_REGISTRATION  DAYS_ID_PUBLISH  \\\n",
       "0       -9461           -637            -3648.0            -2120   \n",
       "1      -16765          -1188            -1186.0             -291   \n",
       "2      -19046           -225            -4260.0            -2531   \n",
       "3      -19005          -3039            -9833.0            -2437   \n",
       "4      -19932          -3038            -4311.0            -3458   \n",
       "\n",
       "   EXT_SOURCE_1  EXT_SOURCE_2  EXT_SOURCE_3  YEARS_BEGINEXPLUATATION_AVG  \\\n",
       "0      0.083037      0.262949      0.139376                     0.972200   \n",
       "1      0.311267      0.622246      0.510853                     0.985100   \n",
       "2      0.502130      0.555912      0.729567                     0.977735   \n",
       "3      0.502130      0.650442      0.510853                     0.977735   \n",
       "4      0.502130      0.322738      0.510853                     0.977735   \n",
       "\n",
       "   TOTALAREA_MODE  OBS_30_CNT_SOCIAL_CIRCLE  DEF_30_CNT_SOCIAL_CIRCLE  \\\n",
       "0        0.014900                       2.0                       2.0   \n",
       "1        0.071400                       1.0                       0.0   \n",
       "2        0.102547                       0.0                       0.0   \n",
       "3        0.102547                       2.0                       0.0   \n",
       "4        0.102547                       0.0                       0.0   \n",
       "\n",
       "   AMT_REQ_CREDIT_BUREAU_HOUR  AMT_REQ_CREDIT_BUREAU_DAY  \\\n",
       "0                         0.0                        0.0   \n",
       "1                         0.0                        0.0   \n",
       "2                         0.0                        0.0   \n",
       "3                         0.0                        0.0   \n",
       "4                         0.0                        0.0   \n",
       "\n",
       "   AMT_REQ_CREDIT_BUREAU_WEEK  AMT_REQ_CREDIT_BUREAU_MON  \\\n",
       "0                         0.0                        0.0   \n",
       "1                         0.0                        0.0   \n",
       "2                         0.0                        0.0   \n",
       "3                         0.0                        0.0   \n",
       "4                         0.0                        0.0   \n",
       "\n",
       "   AMT_REQ_CREDIT_BUREAU_QRT  \n",
       "0                        0.0  \n",
       "1                        0.0  \n",
       "2                        0.0  \n",
       "3                        0.0  \n",
       "4                        0.0  "
      ]
     },
     "execution_count": 150,
     "metadata": {},
     "output_type": "execute_result"
    }
   ],
   "source": [
    "df[m_heads].head()"
   ]
  },
  {
   "cell_type": "code",
   "execution_count": 151,
   "metadata": {},
   "outputs": [
    {
     "name": "stdout",
     "output_type": "stream",
     "text": [
      "0\n",
      "0\n",
      "0\n",
      "0\n",
      "0\n",
      "0\n",
      "0\n",
      "0\n",
      "0\n",
      "0\n",
      "0\n",
      "0\n",
      "0\n",
      "0\n",
      "0\n",
      "0\n",
      "0\n",
      "0\n",
      "0\n",
      "0\n"
     ]
    }
   ],
   "source": [
    "for head in m_heads:\n",
    "    print(df[head].isna().sum())"
   ]
  },
  {
   "cell_type": "code",
   "execution_count": 152,
   "metadata": {},
   "outputs": [],
   "source": [
    "df = df[[\"SK_ID_CURR\", \"TARGET\"]+m_heads]"
   ]
  },
  {
   "cell_type": "code",
   "execution_count": 154,
   "metadata": {},
   "outputs": [],
   "source": [
    "df = df.set_index(\"SK_ID_CURR\")"
   ]
  },
  {
   "cell_type": "code",
   "execution_count": 155,
   "metadata": {},
   "outputs": [
    {
     "data": {
      "text/html": [
       "<div>\n",
       "<style scoped>\n",
       "    .dataframe tbody tr th:only-of-type {\n",
       "        vertical-align: middle;\n",
       "    }\n",
       "\n",
       "    .dataframe tbody tr th {\n",
       "        vertical-align: top;\n",
       "    }\n",
       "\n",
       "    .dataframe thead th {\n",
       "        text-align: right;\n",
       "    }\n",
       "</style>\n",
       "<table border=\"1\" class=\"dataframe\">\n",
       "  <thead>\n",
       "    <tr style=\"text-align: right;\">\n",
       "      <th></th>\n",
       "      <th>TARGET</th>\n",
       "      <th>CNT_CHILDREN</th>\n",
       "      <th>AMT_INCOME_TOTAL</th>\n",
       "      <th>AMT_CREDIT</th>\n",
       "      <th>REGION_POPULATION_RELATIVE</th>\n",
       "      <th>DAYS_BIRTH</th>\n",
       "      <th>DAYS_EMPLOYED</th>\n",
       "      <th>DAYS_REGISTRATION</th>\n",
       "      <th>DAYS_ID_PUBLISH</th>\n",
       "      <th>EXT_SOURCE_1</th>\n",
       "      <th>EXT_SOURCE_2</th>\n",
       "      <th>EXT_SOURCE_3</th>\n",
       "      <th>YEARS_BEGINEXPLUATATION_AVG</th>\n",
       "      <th>TOTALAREA_MODE</th>\n",
       "      <th>OBS_30_CNT_SOCIAL_CIRCLE</th>\n",
       "      <th>DEF_30_CNT_SOCIAL_CIRCLE</th>\n",
       "      <th>AMT_REQ_CREDIT_BUREAU_HOUR</th>\n",
       "      <th>AMT_REQ_CREDIT_BUREAU_DAY</th>\n",
       "      <th>AMT_REQ_CREDIT_BUREAU_WEEK</th>\n",
       "      <th>AMT_REQ_CREDIT_BUREAU_MON</th>\n",
       "      <th>AMT_REQ_CREDIT_BUREAU_QRT</th>\n",
       "    </tr>\n",
       "    <tr>\n",
       "      <th>SK_ID_CURR</th>\n",
       "      <th></th>\n",
       "      <th></th>\n",
       "      <th></th>\n",
       "      <th></th>\n",
       "      <th></th>\n",
       "      <th></th>\n",
       "      <th></th>\n",
       "      <th></th>\n",
       "      <th></th>\n",
       "      <th></th>\n",
       "      <th></th>\n",
       "      <th></th>\n",
       "      <th></th>\n",
       "      <th></th>\n",
       "      <th></th>\n",
       "      <th></th>\n",
       "      <th></th>\n",
       "      <th></th>\n",
       "      <th></th>\n",
       "      <th></th>\n",
       "      <th></th>\n",
       "    </tr>\n",
       "  </thead>\n",
       "  <tbody>\n",
       "    <tr>\n",
       "      <th>100002</th>\n",
       "      <td>1</td>\n",
       "      <td>0</td>\n",
       "      <td>202500.0</td>\n",
       "      <td>406597.5</td>\n",
       "      <td>0.018801</td>\n",
       "      <td>-9461</td>\n",
       "      <td>-637</td>\n",
       "      <td>-3648.0</td>\n",
       "      <td>-2120</td>\n",
       "      <td>0.083037</td>\n",
       "      <td>0.262949</td>\n",
       "      <td>0.139376</td>\n",
       "      <td>0.972200</td>\n",
       "      <td>0.014900</td>\n",
       "      <td>2.0</td>\n",
       "      <td>2.0</td>\n",
       "      <td>0.0</td>\n",
       "      <td>0.0</td>\n",
       "      <td>0.0</td>\n",
       "      <td>0.0</td>\n",
       "      <td>0.0</td>\n",
       "    </tr>\n",
       "    <tr>\n",
       "      <th>100003</th>\n",
       "      <td>0</td>\n",
       "      <td>0</td>\n",
       "      <td>270000.0</td>\n",
       "      <td>1293502.5</td>\n",
       "      <td>0.003541</td>\n",
       "      <td>-16765</td>\n",
       "      <td>-1188</td>\n",
       "      <td>-1186.0</td>\n",
       "      <td>-291</td>\n",
       "      <td>0.311267</td>\n",
       "      <td>0.622246</td>\n",
       "      <td>0.510853</td>\n",
       "      <td>0.985100</td>\n",
       "      <td>0.071400</td>\n",
       "      <td>1.0</td>\n",
       "      <td>0.0</td>\n",
       "      <td>0.0</td>\n",
       "      <td>0.0</td>\n",
       "      <td>0.0</td>\n",
       "      <td>0.0</td>\n",
       "      <td>0.0</td>\n",
       "    </tr>\n",
       "    <tr>\n",
       "      <th>100004</th>\n",
       "      <td>0</td>\n",
       "      <td>0</td>\n",
       "      <td>67500.0</td>\n",
       "      <td>135000.0</td>\n",
       "      <td>0.010032</td>\n",
       "      <td>-19046</td>\n",
       "      <td>-225</td>\n",
       "      <td>-4260.0</td>\n",
       "      <td>-2531</td>\n",
       "      <td>0.502130</td>\n",
       "      <td>0.555912</td>\n",
       "      <td>0.729567</td>\n",
       "      <td>0.977735</td>\n",
       "      <td>0.102547</td>\n",
       "      <td>0.0</td>\n",
       "      <td>0.0</td>\n",
       "      <td>0.0</td>\n",
       "      <td>0.0</td>\n",
       "      <td>0.0</td>\n",
       "      <td>0.0</td>\n",
       "      <td>0.0</td>\n",
       "    </tr>\n",
       "    <tr>\n",
       "      <th>100006</th>\n",
       "      <td>0</td>\n",
       "      <td>0</td>\n",
       "      <td>135000.0</td>\n",
       "      <td>312682.5</td>\n",
       "      <td>0.008019</td>\n",
       "      <td>-19005</td>\n",
       "      <td>-3039</td>\n",
       "      <td>-9833.0</td>\n",
       "      <td>-2437</td>\n",
       "      <td>0.502130</td>\n",
       "      <td>0.650442</td>\n",
       "      <td>0.510853</td>\n",
       "      <td>0.977735</td>\n",
       "      <td>0.102547</td>\n",
       "      <td>2.0</td>\n",
       "      <td>0.0</td>\n",
       "      <td>0.0</td>\n",
       "      <td>0.0</td>\n",
       "      <td>0.0</td>\n",
       "      <td>0.0</td>\n",
       "      <td>0.0</td>\n",
       "    </tr>\n",
       "    <tr>\n",
       "      <th>100007</th>\n",
       "      <td>0</td>\n",
       "      <td>0</td>\n",
       "      <td>121500.0</td>\n",
       "      <td>513000.0</td>\n",
       "      <td>0.028663</td>\n",
       "      <td>-19932</td>\n",
       "      <td>-3038</td>\n",
       "      <td>-4311.0</td>\n",
       "      <td>-3458</td>\n",
       "      <td>0.502130</td>\n",
       "      <td>0.322738</td>\n",
       "      <td>0.510853</td>\n",
       "      <td>0.977735</td>\n",
       "      <td>0.102547</td>\n",
       "      <td>0.0</td>\n",
       "      <td>0.0</td>\n",
       "      <td>0.0</td>\n",
       "      <td>0.0</td>\n",
       "      <td>0.0</td>\n",
       "      <td>0.0</td>\n",
       "      <td>0.0</td>\n",
       "    </tr>\n",
       "  </tbody>\n",
       "</table>\n",
       "</div>"
      ],
      "text/plain": [
       "            TARGET  CNT_CHILDREN  AMT_INCOME_TOTAL  AMT_CREDIT  \\\n",
       "SK_ID_CURR                                                       \n",
       "100002           1             0          202500.0    406597.5   \n",
       "100003           0             0          270000.0   1293502.5   \n",
       "100004           0             0           67500.0    135000.0   \n",
       "100006           0             0          135000.0    312682.5   \n",
       "100007           0             0          121500.0    513000.0   \n",
       "\n",
       "            REGION_POPULATION_RELATIVE  DAYS_BIRTH  DAYS_EMPLOYED  \\\n",
       "SK_ID_CURR                                                          \n",
       "100002                        0.018801       -9461           -637   \n",
       "100003                        0.003541      -16765          -1188   \n",
       "100004                        0.010032      -19046           -225   \n",
       "100006                        0.008019      -19005          -3039   \n",
       "100007                        0.028663      -19932          -3038   \n",
       "\n",
       "            DAYS_REGISTRATION  DAYS_ID_PUBLISH  EXT_SOURCE_1  EXT_SOURCE_2  \\\n",
       "SK_ID_CURR                                                                   \n",
       "100002                -3648.0            -2120      0.083037      0.262949   \n",
       "100003                -1186.0             -291      0.311267      0.622246   \n",
       "100004                -4260.0            -2531      0.502130      0.555912   \n",
       "100006                -9833.0            -2437      0.502130      0.650442   \n",
       "100007                -4311.0            -3458      0.502130      0.322738   \n",
       "\n",
       "            EXT_SOURCE_3  YEARS_BEGINEXPLUATATION_AVG  TOTALAREA_MODE  \\\n",
       "SK_ID_CURR                                                              \n",
       "100002          0.139376                     0.972200        0.014900   \n",
       "100003          0.510853                     0.985100        0.071400   \n",
       "100004          0.729567                     0.977735        0.102547   \n",
       "100006          0.510853                     0.977735        0.102547   \n",
       "100007          0.510853                     0.977735        0.102547   \n",
       "\n",
       "            OBS_30_CNT_SOCIAL_CIRCLE  DEF_30_CNT_SOCIAL_CIRCLE  \\\n",
       "SK_ID_CURR                                                       \n",
       "100002                           2.0                       2.0   \n",
       "100003                           1.0                       0.0   \n",
       "100004                           0.0                       0.0   \n",
       "100006                           2.0                       0.0   \n",
       "100007                           0.0                       0.0   \n",
       "\n",
       "            AMT_REQ_CREDIT_BUREAU_HOUR  AMT_REQ_CREDIT_BUREAU_DAY  \\\n",
       "SK_ID_CURR                                                          \n",
       "100002                             0.0                        0.0   \n",
       "100003                             0.0                        0.0   \n",
       "100004                             0.0                        0.0   \n",
       "100006                             0.0                        0.0   \n",
       "100007                             0.0                        0.0   \n",
       "\n",
       "            AMT_REQ_CREDIT_BUREAU_WEEK  AMT_REQ_CREDIT_BUREAU_MON  \\\n",
       "SK_ID_CURR                                                          \n",
       "100002                             0.0                        0.0   \n",
       "100003                             0.0                        0.0   \n",
       "100004                             0.0                        0.0   \n",
       "100006                             0.0                        0.0   \n",
       "100007                             0.0                        0.0   \n",
       "\n",
       "            AMT_REQ_CREDIT_BUREAU_QRT  \n",
       "SK_ID_CURR                             \n",
       "100002                            0.0  \n",
       "100003                            0.0  \n",
       "100004                            0.0  \n",
       "100006                            0.0  \n",
       "100007                            0.0  "
      ]
     },
     "execution_count": 155,
     "metadata": {},
     "output_type": "execute_result"
    }
   ],
   "source": [
    "df.head()"
   ]
  },
  {
   "cell_type": "code",
   "execution_count": 156,
   "metadata": {},
   "outputs": [],
   "source": [
    "df.to_csv(DATASET_DIR / \"Datenaufbereitung\" / \"app_train_mets.csv\")"
   ]
  },
  {
   "cell_type": "code",
   "execution_count": 157,
   "metadata": {},
   "outputs": [
    {
     "data": {
      "text/plain": [
       "307511"
      ]
     },
     "execution_count": 157,
     "metadata": {},
     "output_type": "execute_result"
    }
   ],
   "source": [
    "len(df[m_heads])"
   ]
  },
  {
   "cell_type": "code",
   "execution_count": null,
   "metadata": {},
   "outputs": [],
   "source": []
  }
 ],
 "metadata": {
  "kernelspec": {
   "display_name": "Python 3",
   "language": "python",
   "name": "python3"
  },
  "language_info": {
   "codemirror_mode": {
    "name": "ipython",
    "version": 3
   },
   "file_extension": ".py",
   "mimetype": "text/x-python",
   "name": "python",
   "nbconvert_exporter": "python",
   "pygments_lexer": "ipython3",
   "version": "3.8.7"
  }
 },
 "nbformat": 4,
 "nbformat_minor": 4
}
