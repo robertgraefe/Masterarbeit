{
 "cells": [
  {
   "cell_type": "code",
   "execution_count": 26,
   "metadata": {},
   "outputs": [],
   "source": [
    "from pathlib import Path\n",
    "from scipy import stats\n",
    "\n",
    "import matplotlib.pyplot as plt\n",
    "import pandas as pd\n",
    "import numpy as np\n",
    "import seaborn as sns\n",
    "\n",
    "np.set_printoptions(suppress=True)\n",
    "\n",
    "pd.options.display.max_columns = None\n",
    "pd.options.display.max_rows = None\n",
    "pd.options.display.max_colwidth = None\n",
    "\n",
    "from IPython.display import display, Markdown\n",
    "\n",
    "# siehe Hilfscode.py\n",
    "from Hilfscode import draw_piechart\n",
    "from Hilfscode import cat_compare\n",
    "from Hilfscode import lorenz\n",
    "\n",
    "from sklearn.model_selection import train_test_split\n",
    "from sklearn.metrics import roc_curve, roc_auc_score\n",
    "\n",
    "from sklearn.model_selection import KFold\n",
    "from sklearn.metrics import plot_roc_curve\n",
    "from sklearn.metrics import auc\n",
    "\n",
    "from sklearn import preprocessing"
   ]
  },
  {
   "cell_type": "code",
   "execution_count": 27,
   "metadata": {},
   "outputs": [],
   "source": [
    "params = {\n",
    "    \"random_state\" : 0,\n",
    "    \"max_iter\" : 500\n",
    "}"
   ]
  },
  {
   "cell_type": "code",
   "execution_count": 28,
   "metadata": {},
   "outputs": [],
   "source": [
    "path1 = Path(r\"A:\\Workspace\\Python\\Masterarbeit\\Kaggle Home Credit Datensatz\")\n",
    "path2 = Path(r\"C:\\Users\\rober\\Documents\\Workspace\\Python\\Masterarbeit\\Kaggle Home Credit Datensatz\")\n",
    "\n",
    "if path1.is_dir():\n",
    "    DATASET_DIR = path1\n",
    "else:\n",
    "    DATASET_DIR = path2"
   ]
  },
  {
   "cell_type": "code",
   "execution_count": 29,
   "metadata": {},
   "outputs": [],
   "source": [
    "app_test = pd.read_csv(DATASET_DIR / \"application_test.csv\")\n",
    "app_train = pd.read_csv(DATASET_DIR / \"application_train.csv\")\n",
    "\n",
    "description = pd.read_csv(DATASET_DIR / \"HomeCredit_columns_description.csv\", encoding=\"latin\", index_col=0)"
   ]
  },
  {
   "cell_type": "code",
   "execution_count": 30,
   "metadata": {},
   "outputs": [],
   "source": [
    "# app_train[\"TARGET\"].replace(\n",
    "#     {\n",
    "#         0: \"Payback\",\n",
    "#         1: \"Default\"\n",
    "#     }, inplace = True\n",
    "# )"
   ]
  },
  {
   "cell_type": "code",
   "execution_count": 31,
   "metadata": {},
   "outputs": [],
   "source": [
    "payback = app_train[app_train[\"TARGET\"] == \"Payback\"]\n",
    "default = app_train[app_train[\"TARGET\"] == \"Default\"]"
   ]
  },
  {
   "cell_type": "code",
   "execution_count": 32,
   "metadata": {},
   "outputs": [],
   "source": [
    "head = [\"EXT_SOURCE_1\",\"EXT_SOURCE_2\",\"EXT_SOURCE_3\"]"
   ]
  },
  {
   "cell_type": "code",
   "execution_count": 33,
   "metadata": {},
   "outputs": [
    {
     "data": {
      "text/html": [
       "<div>\n",
       "<style scoped>\n",
       "    .dataframe tbody tr th:only-of-type {\n",
       "        vertical-align: middle;\n",
       "    }\n",
       "\n",
       "    .dataframe tbody tr th {\n",
       "        vertical-align: top;\n",
       "    }\n",
       "\n",
       "    .dataframe thead th {\n",
       "        text-align: right;\n",
       "    }\n",
       "</style>\n",
       "<table border=\"1\" class=\"dataframe\">\n",
       "  <thead>\n",
       "    <tr style=\"text-align: right;\">\n",
       "      <th></th>\n",
       "      <th>EXT_SOURCE_1</th>\n",
       "      <th>EXT_SOURCE_2</th>\n",
       "      <th>EXT_SOURCE_3</th>\n",
       "      <th>TARGET</th>\n",
       "    </tr>\n",
       "  </thead>\n",
       "  <tbody>\n",
       "    <tr>\n",
       "      <th>0</th>\n",
       "      <td>0.083037</td>\n",
       "      <td>0.262949</td>\n",
       "      <td>0.139376</td>\n",
       "      <td>1</td>\n",
       "    </tr>\n",
       "    <tr>\n",
       "      <th>1</th>\n",
       "      <td>0.311267</td>\n",
       "      <td>0.622246</td>\n",
       "      <td>NaN</td>\n",
       "      <td>0</td>\n",
       "    </tr>\n",
       "    <tr>\n",
       "      <th>2</th>\n",
       "      <td>NaN</td>\n",
       "      <td>0.555912</td>\n",
       "      <td>0.729567</td>\n",
       "      <td>0</td>\n",
       "    </tr>\n",
       "    <tr>\n",
       "      <th>3</th>\n",
       "      <td>NaN</td>\n",
       "      <td>0.650442</td>\n",
       "      <td>NaN</td>\n",
       "      <td>0</td>\n",
       "    </tr>\n",
       "    <tr>\n",
       "      <th>4</th>\n",
       "      <td>NaN</td>\n",
       "      <td>0.322738</td>\n",
       "      <td>NaN</td>\n",
       "      <td>0</td>\n",
       "    </tr>\n",
       "  </tbody>\n",
       "</table>\n",
       "</div>"
      ],
      "text/plain": [
       "   EXT_SOURCE_1  EXT_SOURCE_2  EXT_SOURCE_3  TARGET\n",
       "0      0.083037      0.262949      0.139376       1\n",
       "1      0.311267      0.622246           NaN       0\n",
       "2           NaN      0.555912      0.729567       0\n",
       "3           NaN      0.650442           NaN       0\n",
       "4           NaN      0.322738           NaN       0"
      ]
     },
     "execution_count": 33,
     "metadata": {},
     "output_type": "execute_result"
    }
   ],
   "source": [
    "app_train[head+ [\"TARGET\"]].head()"
   ]
  },
  {
   "cell_type": "code",
   "execution_count": 34,
   "metadata": {},
   "outputs": [
    {
     "data": {
      "text/plain": [
       "307511"
      ]
     },
     "execution_count": 34,
     "metadata": {},
     "output_type": "execute_result"
    }
   ],
   "source": [
    "len(app_train)"
   ]
  },
  {
   "cell_type": "code",
   "execution_count": 35,
   "metadata": {},
   "outputs": [],
   "source": [
    "X = app_train[head + [\"TARGET\"]]\n",
    "X = X.dropna()"
   ]
  },
  {
   "cell_type": "code",
   "execution_count": 36,
   "metadata": {},
   "outputs": [],
   "source": [
    "y = X[\"TARGET\"]\n",
    "x = X.drop([\"TARGET\"], axis=1)"
   ]
  },
  {
   "cell_type": "code",
   "execution_count": 37,
   "metadata": {},
   "outputs": [
    {
     "data": {
      "text/html": [
       "<div>\n",
       "<style scoped>\n",
       "    .dataframe tbody tr th:only-of-type {\n",
       "        vertical-align: middle;\n",
       "    }\n",
       "\n",
       "    .dataframe tbody tr th {\n",
       "        vertical-align: top;\n",
       "    }\n",
       "\n",
       "    .dataframe thead th {\n",
       "        text-align: right;\n",
       "    }\n",
       "</style>\n",
       "<table border=\"1\" class=\"dataframe\">\n",
       "  <thead>\n",
       "    <tr style=\"text-align: right;\">\n",
       "      <th></th>\n",
       "      <th>EXT_SOURCE_1</th>\n",
       "      <th>EXT_SOURCE_2</th>\n",
       "      <th>EXT_SOURCE_3</th>\n",
       "    </tr>\n",
       "  </thead>\n",
       "  <tbody>\n",
       "    <tr>\n",
       "      <th>0</th>\n",
       "      <td>0.083037</td>\n",
       "      <td>0.262949</td>\n",
       "      <td>0.139376</td>\n",
       "    </tr>\n",
       "    <tr>\n",
       "      <th>6</th>\n",
       "      <td>0.774761</td>\n",
       "      <td>0.724000</td>\n",
       "      <td>0.492060</td>\n",
       "    </tr>\n",
       "    <tr>\n",
       "      <th>8</th>\n",
       "      <td>0.587334</td>\n",
       "      <td>0.205747</td>\n",
       "      <td>0.751724</td>\n",
       "    </tr>\n",
       "    <tr>\n",
       "      <th>10</th>\n",
       "      <td>0.319760</td>\n",
       "      <td>0.651862</td>\n",
       "      <td>0.363945</td>\n",
       "    </tr>\n",
       "    <tr>\n",
       "      <th>11</th>\n",
       "      <td>0.722044</td>\n",
       "      <td>0.555183</td>\n",
       "      <td>0.652897</td>\n",
       "    </tr>\n",
       "  </tbody>\n",
       "</table>\n",
       "</div>"
      ],
      "text/plain": [
       "    EXT_SOURCE_1  EXT_SOURCE_2  EXT_SOURCE_3\n",
       "0       0.083037      0.262949      0.139376\n",
       "6       0.774761      0.724000      0.492060\n",
       "8       0.587334      0.205747      0.751724\n",
       "10      0.319760      0.651862      0.363945\n",
       "11      0.722044      0.555183      0.652897"
      ]
     },
     "execution_count": 37,
     "metadata": {},
     "output_type": "execute_result"
    }
   ],
   "source": [
    "x.head()"
   ]
  },
  {
   "cell_type": "code",
   "execution_count": 38,
   "metadata": {},
   "outputs": [],
   "source": [
    "from sklearn.linear_model import LogisticRegression"
   ]
  },
  {
   "cell_type": "code",
   "execution_count": 39,
   "metadata": {},
   "outputs": [],
   "source": [
    "reg = LogisticRegression().fit(x, y)"
   ]
  },
  {
   "cell_type": "code",
   "execution_count": 40,
   "metadata": {},
   "outputs": [
    {
     "data": {
      "text/plain": [
       "3"
      ]
     },
     "execution_count": 40,
     "metadata": {},
     "output_type": "execute_result"
    }
   ],
   "source": [
    "len(x.columns)"
   ]
  },
  {
   "cell_type": "code",
   "execution_count": 41,
   "metadata": {},
   "outputs": [
    {
     "name": "stdout",
     "output_type": "stream",
     "text": [
      "0.927054722645521\n",
      "0.9270527256949159\n",
      "3\n",
      "109589\n"
     ]
    }
   ],
   "source": [
    "n = len(X)\n",
    "p = len(x.columns)\n",
    "\n",
    "r2 = reg.score(x, y)\n",
    "r2_adj = 1-(1-r2)*(n-1)/(n-p-1)\n",
    "\n",
    "print(r2)\n",
    "print(r2_adj)\n",
    "print(p)\n",
    "print(n)"
   ]
  },
  {
   "cell_type": "code",
   "execution_count": 42,
   "metadata": {},
   "outputs": [],
   "source": [
    "features = ['EXT_SOURCE_2', 'EXT_SOURCE_3', 'EXT_SOURCE_1', 'DAYS_BIRTH', 'DAYS_EMPLOYED', 'AMT_GOODS_PRICE', 'DAYS_LAST_PHONE_CHANGE', 'CODE_GENDER', 'NAME_EDUCATION_TYPE', 'AMT_CREDIT', 'NAME_INCOME_TYPE', 'DAYS_ID_PUBLISH', 'FLAG_DOCUMENT_3', 'LIVINGAREA_AVG', 'REGION_RATING_CLIENT', 'APARTMENTS_AVG', 'REG_CITY_NOT_WORK_CITY', 'AMT_ANNUITY', 'FLAG_EMP_PHONE', 'DAYS_REGISTRATION', 'OCCUPATION_TYPE', 'FLOORSMAX_AVG', 'OWN_CAR_AGE', 'AMT_INCOME_TOTAL', 'REGION_POPULATION_RELATIVE', 'YEARS_BEGINEXPLUATATION_AVG', 'ORGANIZATION_TYPE', 'REG_CITY_NOT_LIVE_CITY', 'ELEVATORS_AVG', 'HOUR_APPR_PROCESS_START', 'NAME_CONTRACT_TYPE', 'FLAG_OWN_CAR', 'DEF_30_CNT_SOCIAL_CIRCLE', 'BASEMENTAREA_AVG', 'DEF_60_CNT_SOCIAL_CIRCLE', 'ENTRANCES_AVG', 'AMT_REQ_CREDIT_BUREAU_YEAR', 'LANDAREA_AVG', 'YEARS_BUILD_AVG', 'LIVINGAPARTMENTS_AVG', 'CNT_FAM_MEMBERS', 'OBS_60_CNT_SOCIAL_CIRCLE', 'OBS_30_CNT_SOCIAL_CIRCLE', 'CNT_CHILDREN', 'COMMONAREA_AVG', 'NONLIVINGAREA_AVG', 'AMT_REQ_CREDIT_BUREAU_QRT', 'NAME_FAMILY_STATUS', 'NONLIVINGAPARTMENTS_AVG', 'EMERGENCYSTATE_MODE', 'HOUSETYPE_MODE', 'FLOORSMIN_AVG', 'AMT_REQ_CREDIT_BUREAU_WEEK', 'FLAG_WORK_PHONE', 'NAME_TYPE_SUITE', 'NAME_HOUSING_TYPE', 'LIVE_CITY_NOT_WORK_CITY', 'AMT_REQ_CREDIT_BUREAU_MON', 'WALLSMATERIAL_MODE', 'WEEKDAY_APPR_PROCESS_START', 'AMT_REQ_CREDIT_BUREAU_DAY', 'FLAG_PHONE', 'FLAG_DOCUMENT_6', 'FLAG_DOCUMENT_8', 'FONDKAPREMONT_MODE', 'FLAG_OWN_REALTY', 'FLAG_DOCUMENT_5', 'AMT_REQ_CREDIT_BUREAU_HOUR', 'REG_REGION_NOT_LIVE_REGION', 'REG_REGION_NOT_WORK_REGION', 'FLAG_DOCUMENT_15', 'FLAG_CONT_MOBILE', 'FLAG_DOCUMENT_16', 'FLAG_DOCUMENT_9', 'FLAG_EMAIL', 'FLAG_DOCUMENT_20', 'FLAG_DOCUMENT_11', 'FLAG_DOCUMENT_14', 'FLAG_DOCUMENT_7', 'FLAG_DOCUMENT_2', 'FLAG_DOCUMENT_19', 'FLAG_DOCUMENT_18', 'FLAG_DOCUMENT_21', 'FLAG_DOCUMENT_17', 'FLAG_DOCUMENT_13', 'FLAG_MOBIL', 'FLAG_DOCUMENT_4', 'FLAG_DOCUMENT_10', 'FLAG_DOCUMENT_12']"
   ]
  },
  {
   "cell_type": "code",
   "execution_count": 43,
   "metadata": {},
   "outputs": [],
   "source": [
    "m_heads = ['CNT_CHILDREN','AMT_INCOME_TOTAL', 'AMT_CREDIT', 'AMT_ANNUITY', 'AMT_GOODS_PRICE', 'REGION_POPULATION_RELATIVE', 'DAYS_BIRTH', 'DAYS_EMPLOYED', 'DAYS_REGISTRATION', 'DAYS_ID_PUBLISH', 'OWN_CAR_AGE', 'CNT_FAM_MEMBERS', 'HOUR_APPR_PROCESS_START', 'EXT_SOURCE_1', 'EXT_SOURCE_2', 'EXT_SOURCE_3', 'APARTMENTS_AVG', 'BASEMENTAREA_AVG', 'YEARS_BEGINEXPLUATATION_AVG', 'YEARS_BUILD_AVG', 'COMMONAREA_AVG', 'ELEVATORS_AVG', 'ENTRANCES_AVG', 'FLOORSMAX_AVG', 'FLOORSMIN_AVG', 'LANDAREA_AVG', 'LIVINGAPARTMENTS_AVG', 'LIVINGAREA_AVG', 'NONLIVINGAPARTMENTS_AVG', 'NONLIVINGAREA_AVG', 'APARTMENTS_MODE', 'BASEMENTAREA_MODE', 'YEARS_BEGINEXPLUATATION_MODE', 'YEARS_BUILD_MODE', 'COMMONAREA_MODE', 'ELEVATORS_MODE', 'ENTRANCES_MODE', 'FLOORSMAX_MODE', 'FLOORSMIN_MODE', 'LANDAREA_MODE', 'LIVINGAPARTMENTS_MODE', 'LIVINGAREA_MODE', 'NONLIVINGAPARTMENTS_MODE', 'NONLIVINGAREA_MODE', 'APARTMENTS_MEDI', 'BASEMENTAREA_MEDI', 'YEARS_BEGINEXPLUATATION_MEDI', 'YEARS_BUILD_MEDI', 'COMMONAREA_MEDI', 'ELEVATORS_MEDI', 'ENTRANCES_MEDI', 'FLOORSMAX_MEDI', 'FLOORSMIN_MEDI', 'LANDAREA_MEDI', 'LIVINGAPARTMENTS_MEDI', 'LIVINGAREA_MEDI', 'NONLIVINGAPARTMENTS_MEDI', 'NONLIVINGAREA_MEDI', 'TOTALAREA_MODE', 'OBS_30_CNT_SOCIAL_CIRCLE', 'DEF_30_CNT_SOCIAL_CIRCLE', 'OBS_60_CNT_SOCIAL_CIRCLE', 'DEF_60_CNT_SOCIAL_CIRCLE', 'DAYS_LAST_PHONE_CHANGE', 'AMT_REQ_CREDIT_BUREAU_HOUR', 'AMT_REQ_CREDIT_BUREAU_DAY', 'AMT_REQ_CREDIT_BUREAU_WEEK', 'AMT_REQ_CREDIT_BUREAU_MON', 'AMT_REQ_CREDIT_BUREAU_QRT', 'AMT_REQ_CREDIT_BUREAU_YEAR']"
   ]
  },
  {
   "cell_type": "code",
   "execution_count": 44,
   "metadata": {},
   "outputs": [
    {
     "data": {
      "text/plain": [
       "['EXT_SOURCE_2',\n",
       " 'EXT_SOURCE_3',\n",
       " 'EXT_SOURCE_1',\n",
       " 'DAYS_BIRTH',\n",
       " 'DAYS_EMPLOYED',\n",
       " 'AMT_GOODS_PRICE',\n",
       " 'DAYS_LAST_PHONE_CHANGE',\n",
       " 'AMT_CREDIT',\n",
       " 'DAYS_ID_PUBLISH',\n",
       " 'LIVINGAREA_AVG',\n",
       " 'APARTMENTS_AVG',\n",
       " 'AMT_ANNUITY',\n",
       " 'DAYS_REGISTRATION',\n",
       " 'FLOORSMAX_AVG',\n",
       " 'OWN_CAR_AGE',\n",
       " 'AMT_INCOME_TOTAL',\n",
       " 'REGION_POPULATION_RELATIVE',\n",
       " 'YEARS_BEGINEXPLUATATION_AVG',\n",
       " 'ELEVATORS_AVG',\n",
       " 'HOUR_APPR_PROCESS_START',\n",
       " 'DEF_30_CNT_SOCIAL_CIRCLE',\n",
       " 'BASEMENTAREA_AVG',\n",
       " 'DEF_60_CNT_SOCIAL_CIRCLE',\n",
       " 'ENTRANCES_AVG',\n",
       " 'AMT_REQ_CREDIT_BUREAU_YEAR',\n",
       " 'LANDAREA_AVG',\n",
       " 'YEARS_BUILD_AVG',\n",
       " 'LIVINGAPARTMENTS_AVG',\n",
       " 'CNT_FAM_MEMBERS',\n",
       " 'OBS_60_CNT_SOCIAL_CIRCLE',\n",
       " 'OBS_30_CNT_SOCIAL_CIRCLE',\n",
       " 'CNT_CHILDREN',\n",
       " 'COMMONAREA_AVG',\n",
       " 'NONLIVINGAREA_AVG',\n",
       " 'AMT_REQ_CREDIT_BUREAU_QRT',\n",
       " 'NONLIVINGAPARTMENTS_AVG',\n",
       " 'FLOORSMIN_AVG',\n",
       " 'AMT_REQ_CREDIT_BUREAU_WEEK',\n",
       " 'AMT_REQ_CREDIT_BUREAU_MON',\n",
       " 'AMT_REQ_CREDIT_BUREAU_DAY',\n",
       " 'AMT_REQ_CREDIT_BUREAU_HOUR']"
      ]
     },
     "execution_count": 44,
     "metadata": {},
     "output_type": "execute_result"
    }
   ],
   "source": [
    "heads = [head for head in features if head in m_heads]\n",
    "heads"
   ]
  },
  {
   "cell_type": "code",
   "execution_count": 45,
   "metadata": {},
   "outputs": [],
   "source": [
    "data = {\n",
    "        \"auc\":[],\n",
    "        \"auc_adj\":[],\n",
    "        \"p\" : [],\n",
    "        \"n\": []\n",
    "       }\n",
    "\n",
    "for t in range(len(heads)):\n",
    "    X = app_train[heads[:t+1] + [\"TARGET\"]]\n",
    "    X = X.dropna()\n",
    "    y = X[\"TARGET\"]\n",
    "    x = X.drop([\"TARGET\"], axis=1)\n",
    "    scaler = preprocessing.StandardScaler().fit(x)\n",
    "    x = scaler.transform(x)\n",
    "    model = LogisticRegression(**params).fit(x, y)\n",
    "    n = len(X)\n",
    "    p = len(X.columns)\n",
    "    \n",
    "    # unterteilt den trainingsdatensatz in trainings- und validierungsdatensätze\n",
    "    x_train, x_test, y_train, y_test = train_test_split(x, y, test_size=.5, random_state=0)\n",
    "    \n",
    "    x_test_prob = model.predict_proba(x_test)\n",
    "    # Erstellung der AUC & ROC-Metrik\n",
    "    # Wahrscheinlichkeiten für keinen Kreditausfall\n",
    "    prob = x_test_prob[:,1]\n",
    "    auc = roc_auc_score(y_test, prob)\n",
    "    auc_adj = 1-(1-auc)*(n-1)/(n-p-1)\n",
    "\n",
    "    data[\"auc\"].append(auc)\n",
    "    data[\"auc_adj\"].append(auc_adj)\n",
    "    data[\"p\"].append(p)\n",
    "    data[\"n\"].append(n)"
   ]
  },
  {
   "cell_type": "code",
   "execution_count": 46,
   "metadata": {},
   "outputs": [
    {
     "data": {
      "text/html": [
       "<div>\n",
       "<style scoped>\n",
       "    .dataframe tbody tr th:only-of-type {\n",
       "        vertical-align: middle;\n",
       "    }\n",
       "\n",
       "    .dataframe tbody tr th {\n",
       "        vertical-align: top;\n",
       "    }\n",
       "\n",
       "    .dataframe thead th {\n",
       "        text-align: right;\n",
       "    }\n",
       "</style>\n",
       "<table border=\"1\" class=\"dataframe\">\n",
       "  <thead>\n",
       "    <tr style=\"text-align: right;\">\n",
       "      <th></th>\n",
       "      <th>auc</th>\n",
       "      <th>auc_adj</th>\n",
       "      <th>p</th>\n",
       "      <th>n</th>\n",
       "    </tr>\n",
       "  </thead>\n",
       "  <tbody>\n",
       "    <tr>\n",
       "      <th>0</th>\n",
       "      <td>0.659050</td>\n",
       "      <td>0.659048</td>\n",
       "      <td>2</td>\n",
       "      <td>306851</td>\n",
       "    </tr>\n",
       "    <tr>\n",
       "      <th>1</th>\n",
       "      <td>0.719542</td>\n",
       "      <td>0.719539</td>\n",
       "      <td>3</td>\n",
       "      <td>246116</td>\n",
       "    </tr>\n",
       "    <tr>\n",
       "      <th>2</th>\n",
       "      <td>0.741376</td>\n",
       "      <td>0.741367</td>\n",
       "      <td>4</td>\n",
       "      <td>109589</td>\n",
       "    </tr>\n",
       "    <tr>\n",
       "      <th>3</th>\n",
       "      <td>0.743681</td>\n",
       "      <td>0.743669</td>\n",
       "      <td>5</td>\n",
       "      <td>109589</td>\n",
       "    </tr>\n",
       "    <tr>\n",
       "      <th>4</th>\n",
       "      <td>0.743902</td>\n",
       "      <td>0.743888</td>\n",
       "      <td>6</td>\n",
       "      <td>109589</td>\n",
       "    </tr>\n",
       "    <tr>\n",
       "      <th>5</th>\n",
       "      <td>0.748869</td>\n",
       "      <td>0.748853</td>\n",
       "      <td>7</td>\n",
       "      <td>109490</td>\n",
       "    </tr>\n",
       "    <tr>\n",
       "      <th>6</th>\n",
       "      <td>0.748912</td>\n",
       "      <td>0.748894</td>\n",
       "      <td>8</td>\n",
       "      <td>109490</td>\n",
       "    </tr>\n",
       "    <tr>\n",
       "      <th>7</th>\n",
       "      <td>0.752717</td>\n",
       "      <td>0.752697</td>\n",
       "      <td>9</td>\n",
       "      <td>109490</td>\n",
       "    </tr>\n",
       "    <tr>\n",
       "      <th>8</th>\n",
       "      <td>0.753063</td>\n",
       "      <td>0.753041</td>\n",
       "      <td>10</td>\n",
       "      <td>109490</td>\n",
       "    </tr>\n",
       "    <tr>\n",
       "      <th>9</th>\n",
       "      <td>0.754322</td>\n",
       "      <td>0.754275</td>\n",
       "      <td>11</td>\n",
       "      <td>57460</td>\n",
       "    </tr>\n",
       "    <tr>\n",
       "      <th>10</th>\n",
       "      <td>0.750606</td>\n",
       "      <td>0.750552</td>\n",
       "      <td>12</td>\n",
       "      <td>55282</td>\n",
       "    </tr>\n",
       "    <tr>\n",
       "      <th>11</th>\n",
       "      <td>0.752000</td>\n",
       "      <td>0.751942</td>\n",
       "      <td>13</td>\n",
       "      <td>55279</td>\n",
       "    </tr>\n",
       "    <tr>\n",
       "      <th>12</th>\n",
       "      <td>0.752004</td>\n",
       "      <td>0.751941</td>\n",
       "      <td>14</td>\n",
       "      <td>55279</td>\n",
       "    </tr>\n",
       "    <tr>\n",
       "      <th>13</th>\n",
       "      <td>0.738624</td>\n",
       "      <td>0.738553</td>\n",
       "      <td>15</td>\n",
       "      <td>55133</td>\n",
       "    </tr>\n",
       "    <tr>\n",
       "      <th>14</th>\n",
       "      <td>0.760076</td>\n",
       "      <td>0.759884</td>\n",
       "      <td>16</td>\n",
       "      <td>19961</td>\n",
       "    </tr>\n",
       "    <tr>\n",
       "      <th>15</th>\n",
       "      <td>0.761360</td>\n",
       "      <td>0.761156</td>\n",
       "      <td>17</td>\n",
       "      <td>19961</td>\n",
       "    </tr>\n",
       "    <tr>\n",
       "      <th>16</th>\n",
       "      <td>0.761243</td>\n",
       "      <td>0.761028</td>\n",
       "      <td>18</td>\n",
       "      <td>19961</td>\n",
       "    </tr>\n",
       "    <tr>\n",
       "      <th>17</th>\n",
       "      <td>0.772568</td>\n",
       "      <td>0.772350</td>\n",
       "      <td>19</td>\n",
       "      <td>19882</td>\n",
       "    </tr>\n",
       "    <tr>\n",
       "      <th>18</th>\n",
       "      <td>0.778574</td>\n",
       "      <td>0.778340</td>\n",
       "      <td>20</td>\n",
       "      <td>18959</td>\n",
       "    </tr>\n",
       "    <tr>\n",
       "      <th>19</th>\n",
       "      <td>0.778565</td>\n",
       "      <td>0.778319</td>\n",
       "      <td>21</td>\n",
       "      <td>18959</td>\n",
       "    </tr>\n",
       "    <tr>\n",
       "      <th>20</th>\n",
       "      <td>0.760472</td>\n",
       "      <td>0.760193</td>\n",
       "      <td>22</td>\n",
       "      <td>18885</td>\n",
       "    </tr>\n",
       "    <tr>\n",
       "      <th>21</th>\n",
       "      <td>0.762145</td>\n",
       "      <td>0.761818</td>\n",
       "      <td>23</td>\n",
       "      <td>16750</td>\n",
       "    </tr>\n",
       "    <tr>\n",
       "      <th>22</th>\n",
       "      <td>0.762100</td>\n",
       "      <td>0.761759</td>\n",
       "      <td>24</td>\n",
       "      <td>16750</td>\n",
       "    </tr>\n",
       "    <tr>\n",
       "      <th>23</th>\n",
       "      <td>0.771935</td>\n",
       "      <td>0.771594</td>\n",
       "      <td>25</td>\n",
       "      <td>16734</td>\n",
       "    </tr>\n",
       "    <tr>\n",
       "      <th>24</th>\n",
       "      <td>0.772040</td>\n",
       "      <td>0.771685</td>\n",
       "      <td>26</td>\n",
       "      <td>16734</td>\n",
       "    </tr>\n",
       "    <tr>\n",
       "      <th>25</th>\n",
       "      <td>0.768062</td>\n",
       "      <td>0.767656</td>\n",
       "      <td>27</td>\n",
       "      <td>15458</td>\n",
       "    </tr>\n",
       "    <tr>\n",
       "      <th>26</th>\n",
       "      <td>0.757048</td>\n",
       "      <td>0.756513</td>\n",
       "      <td>28</td>\n",
       "      <td>12726</td>\n",
       "    </tr>\n",
       "    <tr>\n",
       "      <th>27</th>\n",
       "      <td>0.761835</td>\n",
       "      <td>0.761266</td>\n",
       "      <td>29</td>\n",
       "      <td>12166</td>\n",
       "    </tr>\n",
       "    <tr>\n",
       "      <th>28</th>\n",
       "      <td>0.762596</td>\n",
       "      <td>0.762009</td>\n",
       "      <td>30</td>\n",
       "      <td>12166</td>\n",
       "    </tr>\n",
       "    <tr>\n",
       "      <th>29</th>\n",
       "      <td>0.761904</td>\n",
       "      <td>0.761296</td>\n",
       "      <td>31</td>\n",
       "      <td>12166</td>\n",
       "    </tr>\n",
       "    <tr>\n",
       "      <th>30</th>\n",
       "      <td>0.762231</td>\n",
       "      <td>0.761604</td>\n",
       "      <td>32</td>\n",
       "      <td>12166</td>\n",
       "    </tr>\n",
       "    <tr>\n",
       "      <th>31</th>\n",
       "      <td>0.762061</td>\n",
       "      <td>0.761414</td>\n",
       "      <td>33</td>\n",
       "      <td>12166</td>\n",
       "    </tr>\n",
       "    <tr>\n",
       "      <th>32</th>\n",
       "      <td>0.757667</td>\n",
       "      <td>0.756958</td>\n",
       "      <td>34</td>\n",
       "      <td>11654</td>\n",
       "    </tr>\n",
       "    <tr>\n",
       "      <th>33</th>\n",
       "      <td>0.745532</td>\n",
       "      <td>0.744763</td>\n",
       "      <td>35</td>\n",
       "      <td>11620</td>\n",
       "    </tr>\n",
       "    <tr>\n",
       "      <th>34</th>\n",
       "      <td>0.745363</td>\n",
       "      <td>0.744572</td>\n",
       "      <td>36</td>\n",
       "      <td>11620</td>\n",
       "    </tr>\n",
       "    <tr>\n",
       "      <th>35</th>\n",
       "      <td>0.772525</td>\n",
       "      <td>0.771789</td>\n",
       "      <td>37</td>\n",
       "      <td>11479</td>\n",
       "    </tr>\n",
       "    <tr>\n",
       "      <th>36</th>\n",
       "      <td>0.759033</td>\n",
       "      <td>0.758224</td>\n",
       "      <td>38</td>\n",
       "      <td>11352</td>\n",
       "    </tr>\n",
       "    <tr>\n",
       "      <th>37</th>\n",
       "      <td>0.759506</td>\n",
       "      <td>0.758676</td>\n",
       "      <td>39</td>\n",
       "      <td>11352</td>\n",
       "    </tr>\n",
       "    <tr>\n",
       "      <th>38</th>\n",
       "      <td>0.759496</td>\n",
       "      <td>0.758645</td>\n",
       "      <td>40</td>\n",
       "      <td>11352</td>\n",
       "    </tr>\n",
       "    <tr>\n",
       "      <th>39</th>\n",
       "      <td>0.759691</td>\n",
       "      <td>0.758819</td>\n",
       "      <td>41</td>\n",
       "      <td>11352</td>\n",
       "    </tr>\n",
       "    <tr>\n",
       "      <th>40</th>\n",
       "      <td>0.759375</td>\n",
       "      <td>0.758481</td>\n",
       "      <td>42</td>\n",
       "      <td>11352</td>\n",
       "    </tr>\n",
       "  </tbody>\n",
       "</table>\n",
       "</div>"
      ],
      "text/plain": [
       "         auc   auc_adj   p       n\n",
       "0   0.659050  0.659048   2  306851\n",
       "1   0.719542  0.719539   3  246116\n",
       "2   0.741376  0.741367   4  109589\n",
       "3   0.743681  0.743669   5  109589\n",
       "4   0.743902  0.743888   6  109589\n",
       "5   0.748869  0.748853   7  109490\n",
       "6   0.748912  0.748894   8  109490\n",
       "7   0.752717  0.752697   9  109490\n",
       "8   0.753063  0.753041  10  109490\n",
       "9   0.754322  0.754275  11   57460\n",
       "10  0.750606  0.750552  12   55282\n",
       "11  0.752000  0.751942  13   55279\n",
       "12  0.752004  0.751941  14   55279\n",
       "13  0.738624  0.738553  15   55133\n",
       "14  0.760076  0.759884  16   19961\n",
       "15  0.761360  0.761156  17   19961\n",
       "16  0.761243  0.761028  18   19961\n",
       "17  0.772568  0.772350  19   19882\n",
       "18  0.778574  0.778340  20   18959\n",
       "19  0.778565  0.778319  21   18959\n",
       "20  0.760472  0.760193  22   18885\n",
       "21  0.762145  0.761818  23   16750\n",
       "22  0.762100  0.761759  24   16750\n",
       "23  0.771935  0.771594  25   16734\n",
       "24  0.772040  0.771685  26   16734\n",
       "25  0.768062  0.767656  27   15458\n",
       "26  0.757048  0.756513  28   12726\n",
       "27  0.761835  0.761266  29   12166\n",
       "28  0.762596  0.762009  30   12166\n",
       "29  0.761904  0.761296  31   12166\n",
       "30  0.762231  0.761604  32   12166\n",
       "31  0.762061  0.761414  33   12166\n",
       "32  0.757667  0.756958  34   11654\n",
       "33  0.745532  0.744763  35   11620\n",
       "34  0.745363  0.744572  36   11620\n",
       "35  0.772525  0.771789  37   11479\n",
       "36  0.759033  0.758224  38   11352\n",
       "37  0.759506  0.758676  39   11352\n",
       "38  0.759496  0.758645  40   11352\n",
       "39  0.759691  0.758819  41   11352\n",
       "40  0.759375  0.758481  42   11352"
      ]
     },
     "execution_count": 46,
     "metadata": {},
     "output_type": "execute_result"
    }
   ],
   "source": [
    "df = pd.DataFrame(data)\n",
    "df"
   ]
  },
  {
   "cell_type": "code",
   "execution_count": 47,
   "metadata": {},
   "outputs": [
    {
     "name": "stdout",
     "output_type": "stream",
     "text": [
      "         auc  auc_adj   p      n\n",
      "18  0.778574  0.77834  20  18959\n"
     ]
    },
    {
     "data": {
      "text/plain": [
       "<AxesSubplot:>"
      ]
     },
     "execution_count": 47,
     "metadata": {},
     "output_type": "execute_result"
    },
    {
     "data": {
      "image/png": "[encoded data removed]",
      "text/plain": [
       "<Figure size 432x288 with 1 Axes>"
      ]
     },
     "metadata": {
      "needs_background": "light"
     },
     "output_type": "display_data"
    }
   ],
   "source": [
    "print(df[df[\"auc\"] == df[\"auc\"].max()])\n",
    "df[\"auc\"].plot()"
   ]
  },
  {
   "cell_type": "code",
   "execution_count": 48,
   "metadata": {},
   "outputs": [
    {
     "name": "stdout",
     "output_type": "stream",
     "text": [
      "         auc  auc_adj   p      n\n",
      "18  0.778574  0.77834  20  18959\n"
     ]
    },
    {
     "data": {
      "text/plain": [
       "<AxesSubplot:>"
      ]
     },
     "execution_count": 48,
     "metadata": {},
     "output_type": "execute_result"
    },
    {
     "data": {
      "image/png": "[encoded data removed]",
      "text/plain": [
       "<Figure size 432x288 with 1 Axes>"
      ]
     },
     "metadata": {
      "needs_background": "light"
     },
     "output_type": "display_data"
    }
   ],
   "source": [
    "print(df[df[\"auc_adj\"] == df[\"auc_adj\"].max()])\n",
    "df[\"auc_adj\"].plot()"
   ]
  },
  {
   "cell_type": "code",
   "execution_count": 49,
   "metadata": {},
   "outputs": [],
   "source": [
    "y = app_train[\"TARGET\"]\n",
    "x = app_train[heads]"
   ]
  },
  {
   "cell_type": "code",
   "execution_count": 50,
   "metadata": {},
   "outputs": [
    {
     "name": "stderr",
     "output_type": "stream",
     "text": [
      "c:\\users\\rober\\documents\\workspace\\python\\masterarbeit\\venv\\lib\\site-packages\\sklearn\\utils\\validation.py:67: FutureWarning: Pass shuffle=True, random_state=1 as keyword args. From version 0.25 passing these as positional arguments will result in an error\n",
      "  warnings.warn(\"Pass {} as keyword args. From version 0.25 \"\n"
     ]
    },
    {
     "name": "stdout",
     "output_type": "stream",
     "text": [
      "train: [     0      2      3 ... 307508 307509 307510], test: [     1      4      6 ... 307493 307495 307501], auc: 0.6261290133029263\n",
      "train: [     0      1      2 ... 307508 307509 307510], test: [     3     18     22 ... 307499 307503 307504], auc: 0.6242306750866855\n",
      "train: [     0      1      2 ... 307508 307509 307510], test: [     9     10     15 ... 307489 307492 307502], auc: 0.6161477411477411\n",
      "train: [     0      1      2 ... 307506 307507 307508], test: [    12     16     23 ... 307505 307509 307510], auc: 0.6226457986712526\n",
      "train: [     1      3      4 ... 307505 307509 307510], test: [     0      2      5 ... 307506 307507 307508], auc: 0.6211608529283854\n",
      "\n",
      "\n",
      "Durchschnitt: 0.62\n",
      "Standardabw.: 0.00\n",
      "Varianz:      0.00\n"
     ]
    }
   ],
   "source": [
    "# ersätzt alle np.nan durch 0\n",
    "x = x.fillna(0)\n",
    "\n",
    "# unterteilt den trainingsdatensatz in trainings- und validierungsdatensätze\n",
    "x_train, x_test, y_train, y_test = train_test_split(x, y, test_size=.5, random_state=0)\n",
    "\n",
    "# logistisches Regressionsmodell\n",
    "model = LogisticRegression(**params)\n",
    "\n",
    "aucs = []\n",
    "\n",
    "kfold = KFold(5, True, 1)\n",
    "data = x\n",
    "\n",
    "# enumerate splits\n",
    "for i, (train, test) in enumerate(kfold.split(data)):\n",
    "    model.fit(x.loc[train], y.loc[train])\n",
    "    \n",
    "    # Prognosewerte der Testdaten in %\n",
    "    x_test_prob = model.predict_proba(x.loc[test])\n",
    "\n",
    "    # Erstellung der AUC & ROC-Metrik\n",
    "    # Wahrscheinlichkeiten für keinen Kreditausfall\n",
    "    prob = x_test_prob[:,1]\n",
    "    auc = roc_auc_score(y.loc[test], prob)\n",
    "    aucs.append(auc)\n",
    "    print('train: %s, test: %s, auc: %s' % (train, test, auc))\n",
    "\n",
    "print(\"\\n\")\n",
    "print(\"Durchschnitt: %.2f\" % (np.mean(aucs)))\n",
    "print(\"Standardabw.: %.2f\" % (np.std(aucs)))\n",
    "print(\"Varianz:      %.2f\" % (np.var(aucs)))"
   ]
  },
  {
   "cell_type": "code",
   "execution_count": 64,
   "metadata": {},
   "outputs": [
    {
     "data": {
      "text/html": [
       "<div>\n",
       "<style scoped>\n",
       "    .dataframe tbody tr th:only-of-type {\n",
       "        vertical-align: middle;\n",
       "    }\n",
       "\n",
       "    .dataframe tbody tr th {\n",
       "        vertical-align: top;\n",
       "    }\n",
       "\n",
       "    .dataframe thead th {\n",
       "        text-align: right;\n",
       "    }\n",
       "</style>\n",
       "<table border=\"1\" class=\"dataframe\">\n",
       "  <thead>\n",
       "    <tr style=\"text-align: right;\">\n",
       "      <th></th>\n",
       "      <th>EXT_SOURCE_2</th>\n",
       "      <th>EXT_SOURCE_3</th>\n",
       "      <th>EXT_SOURCE_1</th>\n",
       "      <th>DAYS_BIRTH</th>\n",
       "      <th>DAYS_EMPLOYED</th>\n",
       "      <th>AMT_GOODS_PRICE</th>\n",
       "      <th>DAYS_LAST_PHONE_CHANGE</th>\n",
       "      <th>AMT_CREDIT</th>\n",
       "      <th>DAYS_ID_PUBLISH</th>\n",
       "      <th>LIVINGAREA_AVG</th>\n",
       "      <th>APARTMENTS_AVG</th>\n",
       "      <th>AMT_ANNUITY</th>\n",
       "      <th>DAYS_REGISTRATION</th>\n",
       "      <th>FLOORSMAX_AVG</th>\n",
       "      <th>OWN_CAR_AGE</th>\n",
       "      <th>AMT_INCOME_TOTAL</th>\n",
       "      <th>REGION_POPULATION_RELATIVE</th>\n",
       "      <th>YEARS_BEGINEXPLUATATION_AVG</th>\n",
       "    </tr>\n",
       "  </thead>\n",
       "  <tbody>\n",
       "    <tr>\n",
       "      <th>0</th>\n",
       "      <td>0.262949</td>\n",
       "      <td>0.139376</td>\n",
       "      <td>0.083037</td>\n",
       "      <td>-9461</td>\n",
       "      <td>-637</td>\n",
       "      <td>351000.0</td>\n",
       "      <td>-1134.0</td>\n",
       "      <td>406597.5</td>\n",
       "      <td>-2120</td>\n",
       "      <td>0.0190</td>\n",
       "      <td>0.0247</td>\n",
       "      <td>24700.5</td>\n",
       "      <td>-3648.0</td>\n",
       "      <td>0.0833</td>\n",
       "      <td>0.0</td>\n",
       "      <td>202500.0</td>\n",
       "      <td>0.018801</td>\n",
       "      <td>0.9722</td>\n",
       "    </tr>\n",
       "    <tr>\n",
       "      <th>1</th>\n",
       "      <td>0.622246</td>\n",
       "      <td>0.000000</td>\n",
       "      <td>0.311267</td>\n",
       "      <td>-16765</td>\n",
       "      <td>-1188</td>\n",
       "      <td>1129500.0</td>\n",
       "      <td>-828.0</td>\n",
       "      <td>1293502.5</td>\n",
       "      <td>-291</td>\n",
       "      <td>0.0549</td>\n",
       "      <td>0.0959</td>\n",
       "      <td>35698.5</td>\n",
       "      <td>-1186.0</td>\n",
       "      <td>0.2917</td>\n",
       "      <td>0.0</td>\n",
       "      <td>270000.0</td>\n",
       "      <td>0.003541</td>\n",
       "      <td>0.9851</td>\n",
       "    </tr>\n",
       "    <tr>\n",
       "      <th>2</th>\n",
       "      <td>0.555912</td>\n",
       "      <td>0.729567</td>\n",
       "      <td>0.000000</td>\n",
       "      <td>-19046</td>\n",
       "      <td>-225</td>\n",
       "      <td>135000.0</td>\n",
       "      <td>-815.0</td>\n",
       "      <td>135000.0</td>\n",
       "      <td>-2531</td>\n",
       "      <td>0.0000</td>\n",
       "      <td>0.0000</td>\n",
       "      <td>6750.0</td>\n",
       "      <td>-4260.0</td>\n",
       "      <td>0.0000</td>\n",
       "      <td>26.0</td>\n",
       "      <td>67500.0</td>\n",
       "      <td>0.010032</td>\n",
       "      <td>0.0000</td>\n",
       "    </tr>\n",
       "    <tr>\n",
       "      <th>3</th>\n",
       "      <td>0.650442</td>\n",
       "      <td>0.000000</td>\n",
       "      <td>0.000000</td>\n",
       "      <td>-19005</td>\n",
       "      <td>-3039</td>\n",
       "      <td>297000.0</td>\n",
       "      <td>-617.0</td>\n",
       "      <td>312682.5</td>\n",
       "      <td>-2437</td>\n",
       "      <td>0.0000</td>\n",
       "      <td>0.0000</td>\n",
       "      <td>29686.5</td>\n",
       "      <td>-9833.0</td>\n",
       "      <td>0.0000</td>\n",
       "      <td>0.0</td>\n",
       "      <td>135000.0</td>\n",
       "      <td>0.008019</td>\n",
       "      <td>0.0000</td>\n",
       "    </tr>\n",
       "    <tr>\n",
       "      <th>4</th>\n",
       "      <td>0.322738</td>\n",
       "      <td>0.000000</td>\n",
       "      <td>0.000000</td>\n",
       "      <td>-19932</td>\n",
       "      <td>-3038</td>\n",
       "      <td>513000.0</td>\n",
       "      <td>-1106.0</td>\n",
       "      <td>513000.0</td>\n",
       "      <td>-3458</td>\n",
       "      <td>0.0000</td>\n",
       "      <td>0.0000</td>\n",
       "      <td>21865.5</td>\n",
       "      <td>-4311.0</td>\n",
       "      <td>0.0000</td>\n",
       "      <td>0.0</td>\n",
       "      <td>121500.0</td>\n",
       "      <td>0.028663</td>\n",
       "      <td>0.0000</td>\n",
       "    </tr>\n",
       "  </tbody>\n",
       "</table>\n",
       "</div>"
      ],
      "text/plain": [
       "   EXT_SOURCE_2  EXT_SOURCE_3  EXT_SOURCE_1  DAYS_BIRTH  DAYS_EMPLOYED  \\\n",
       "0      0.262949      0.139376      0.083037       -9461           -637   \n",
       "1      0.622246      0.000000      0.311267      -16765          -1188   \n",
       "2      0.555912      0.729567      0.000000      -19046           -225   \n",
       "3      0.650442      0.000000      0.000000      -19005          -3039   \n",
       "4      0.322738      0.000000      0.000000      -19932          -3038   \n",
       "\n",
       "   AMT_GOODS_PRICE  DAYS_LAST_PHONE_CHANGE  AMT_CREDIT  DAYS_ID_PUBLISH  \\\n",
       "0         351000.0                 -1134.0    406597.5            -2120   \n",
       "1        1129500.0                  -828.0   1293502.5             -291   \n",
       "2         135000.0                  -815.0    135000.0            -2531   \n",
       "3         297000.0                  -617.0    312682.5            -2437   \n",
       "4         513000.0                 -1106.0    513000.0            -3458   \n",
       "\n",
       "   LIVINGAREA_AVG  APARTMENTS_AVG  AMT_ANNUITY  DAYS_REGISTRATION  \\\n",
       "0          0.0190          0.0247      24700.5            -3648.0   \n",
       "1          0.0549          0.0959      35698.5            -1186.0   \n",
       "2          0.0000          0.0000       6750.0            -4260.0   \n",
       "3          0.0000          0.0000      29686.5            -9833.0   \n",
       "4          0.0000          0.0000      21865.5            -4311.0   \n",
       "\n",
       "   FLOORSMAX_AVG  OWN_CAR_AGE  AMT_INCOME_TOTAL  REGION_POPULATION_RELATIVE  \\\n",
       "0         0.0833          0.0          202500.0                    0.018801   \n",
       "1         0.2917          0.0          270000.0                    0.003541   \n",
       "2         0.0000         26.0           67500.0                    0.010032   \n",
       "3         0.0000          0.0          135000.0                    0.008019   \n",
       "4         0.0000          0.0          121500.0                    0.028663   \n",
       "\n",
       "   YEARS_BEGINEXPLUATATION_AVG  \n",
       "0                       0.9722  \n",
       "1                       0.9851  \n",
       "2                       0.0000  \n",
       "3                       0.0000  \n",
       "4                       0.0000  "
      ]
     },
     "execution_count": 64,
     "metadata": {},
     "output_type": "execute_result"
    }
   ],
   "source": [
    "data.iloc[:,0:18].head()"
   ]
  },
  {
   "cell_type": "code",
   "execution_count": null,
   "metadata": {},
   "outputs": [],
   "source": [
    "# ersätzt alle np.nan durch 0\n",
    "x = x.fillna(0)\n",
    "\n",
    "# unterteilt den trainingsdatensatz in trainings- und validierungsdatensätze\n",
    "x_train, x_test, y_train, y_test = train_test_split(x, y, test_size=.5, random_state=0)\n",
    "\n",
    "# logistisches Regressionsmodell\n",
    "model = LogisticRegression(**params)\n",
    "\n",
    "aucs = []\n",
    "\n",
    "kfold = KFold(5, True, 1)\n",
    "data = x\n",
    "\n",
    "# enumerate splits\n",
    "for i, (train, test) in enumerate(kfold.split(data)):\n",
    "    model.fit(x.loc[train], y.loc[train])\n",
    "    \n",
    "    # Prognosewerte der Testdaten in %\n",
    "    x_test_prob = model.predict_proba(x.loc[test])\n",
    "\n",
    "    # Erstellung der AUC & ROC-Metrik\n",
    "    # Wahrscheinlichkeiten für keinen Kreditausfall\n",
    "    prob = x_test_prob[:,1]\n",
    "    auc = roc_auc_score(y.loc[test], prob)\n",
    "    aucs.append(auc)\n",
    "    print('train: %s, test: %s, auc: %s' % (train, test, auc))\n",
    "\n",
    "print(\"\\n\")\n",
    "print(\"Durchschnitt: %.2f\" % (np.mean(aucs)))\n",
    "print(\"Standardabw.: %.2f\" % (np.std(aucs)))\n",
    "print(\"Varianz:      %.2f\" % (np.var(aucs)))"
   ]
  },
  {
   "cell_type": "markdown",
   "metadata": {},
   "source": [
    "#### Stammdaten + Bureaudaten"
   ]
  },
  {
   "cell_type": "code",
   "execution_count": null,
   "metadata": {},
   "outputs": [],
   "source": [
    "bureau = pd.read_csv(DATASET_DIR / \"bureau.csv\")"
   ]
  },
  {
   "cell_type": "code",
   "execution_count": null,
   "metadata": {},
   "outputs": [],
   "source": [
    "m_heads = [head for head in bureau.columns if bureau[head].dtype.name != \"object\"]\n",
    "n_heads = [head for head in bureau.columns if bureau[head].dtype.name == \"object\"]"
   ]
  },
  {
   "cell_type": "code",
   "execution_count": null,
   "metadata": {},
   "outputs": [],
   "source": [
    "keys = [\"SK_ID_CURR\", \"SK_ID_BUREAU\"]\n",
    "m_heads = [element for element in m_heads if element not in keys]"
   ]
  },
  {
   "cell_type": "code",
   "execution_count": null,
   "metadata": {},
   "outputs": [],
   "source": [
    "quants = [0, 0.25, 0.5, 0.75, 1]\n",
    "\n",
    "for index, head in enumerate(m_heads):\n",
    "    \n",
    "    df = bureau[[\"SK_ID_CURR\", head]]\n",
    "    df = df.groupby(by = [\"SK_ID_CURR\"]).quantile(quants)\n",
    "    df = df.unstack(level=-1)\n",
    "    \n",
    "    try:\n",
    "        mets = mets.join(df , on = \"SK_ID_CURR\")\n",
    "    except (ValueError, NameError):\n",
    "        mets = df"
   ]
  },
  {
   "cell_type": "code",
   "execution_count": null,
   "metadata": {},
   "outputs": [],
   "source": [
    "mets.head()"
   ]
  },
  {
   "cell_type": "code",
   "execution_count": null,
   "metadata": {},
   "outputs": [],
   "source": [
    "heads = list(mets.columns)"
   ]
  },
  {
   "cell_type": "code",
   "execution_count": null,
   "metadata": {},
   "outputs": [],
   "source": [
    "bureau = pd.merge(mets, app_train[[\"SK_ID_CURR\",\"TARGET\"]], on=\"SK_ID_CURR\")"
   ]
  },
  {
   "cell_type": "code",
   "execution_count": null,
   "metadata": {},
   "outputs": [],
   "source": [
    "t = bureau.drop([\"SK_ID_CURR\"], axis=1)"
   ]
  },
  {
   "cell_type": "code",
   "execution_count": null,
   "metadata": {},
   "outputs": [],
   "source": [
    "t.head()"
   ]
  },
  {
   "cell_type": "code",
   "execution_count": null,
   "metadata": {},
   "outputs": [],
   "source": [
    "df = t\n",
    "\n",
    "data = {\n",
    "        \"auc\":[],\n",
    "        \"auc_adj\":[],\n",
    "        \"p\" : [],\n",
    "        \"n\": []\n",
    "       }\n",
    "\n",
    "for q in range(len(heads)):\n",
    "    X = df[heads[:q+1] + [\"TARGET\"]]\n",
    "    X = X.dropna()\n",
    "    y = X[\"TARGET\"]\n",
    "    x = X.drop([\"TARGET\"], axis=1)\n",
    "    scaler = preprocessing.StandardScaler().fit(x)\n",
    "    x = scaler.transform(x)\n",
    "    model = LogisticRegression(**params).fit(x, y)\n",
    "    n = len(X)\n",
    "    p = len(X.columns)\n",
    "    \n",
    "    # unterteilt den trainingsdatensatz in trainings- und validierungsdatensätze\n",
    "    x_train, x_test, y_train, y_test = train_test_split(x, y, test_size=.5, random_state=0)\n",
    "    \n",
    "    x_test_prob = model.predict_proba(x_test)\n",
    "    # Erstellung der AUC & ROC-Metrik\n",
    "    # Wahrscheinlichkeiten für keinen Kreditausfall\n",
    "    prob = x_test_prob[:,1]\n",
    "    auc = roc_auc_score(y_test, prob)\n",
    "    auc_adj = 1-(1-auc)*(n-1)/(n-p-1)\n",
    "\n",
    "    data[\"auc\"].append(auc)\n",
    "    data[\"auc_adj\"].append(auc_adj)\n",
    "    data[\"p\"].append(p)\n",
    "    data[\"n\"].append(n)"
   ]
  },
  {
   "cell_type": "code",
   "execution_count": null,
   "metadata": {},
   "outputs": [],
   "source": [
    "df = pd.DataFrame(data)\n",
    "df"
   ]
  },
  {
   "cell_type": "code",
   "execution_count": null,
   "metadata": {},
   "outputs": [],
   "source": [
    "print(df[df[\"auc\"] == df[\"auc\"].max()])\n",
    "df[\"auc\"].plot()"
   ]
  },
  {
   "cell_type": "code",
   "execution_count": null,
   "metadata": {},
   "outputs": [],
   "source": [
    "print(df[df[\"auc_adj\"] == df[\"auc_adj\"].max()])\n",
    "df[\"auc_adj\"].plot()"
   ]
  },
  {
   "cell_type": "code",
   "execution_count": null,
   "metadata": {},
   "outputs": [],
   "source": [
    "y = t[\"TARGET\"]\n",
    "x = t.drop([\"TARGET\"], axis=1)"
   ]
  },
  {
   "cell_type": "code",
   "execution_count": null,
   "metadata": {},
   "outputs": [],
   "source": [
    "# ersätzt alle np.nan durch 0\n",
    "x = x.fillna(0)\n",
    "\n",
    "\n",
    "# unterteilt den trainingsdatensatz in trainings- und validierungsdatensätze\n",
    "x_train, x_test, y_train, y_test = train_test_split(x, y, test_size=.5, random_state=0)\n",
    "\n",
    "# logistisches Regressionsmodell\n",
    "model = LogisticRegression(random_state=0)\n",
    "\n",
    "aucs = []\n",
    "\n",
    "kfold = KFold(5, True, 1)\n",
    "data = x\n",
    "\n",
    "# enumerate splits\n",
    "for i, (train, test) in enumerate(kfold.split(data)):\n",
    "    model.fit(x.loc[train], y.loc[train])\n",
    "    \n",
    "    # Prognosewerte der Testdaten in %\n",
    "    x_test_prob = model.predict_proba(x.loc[test])\n",
    "\n",
    "    # Erstellung der AUC & ROC-Metrik\n",
    "    # Wahrscheinlichkeiten für keinen Kreditausfall\n",
    "    prob = x_test_prob[:,1]\n",
    "    auc = roc_auc_score(y.loc[test], prob)\n",
    "    aucs.append(auc)\n",
    "    print('train: %s, test: %s, auc: %s' % (train, test, auc))\n",
    "\n",
    "print(\"\\n\")\n",
    "print(\"Durchschnitt: %.2f\" % (np.mean(aucs)))\n",
    "print(\"Standardabw.: %.2f\" % (np.std(aucs)))\n",
    "print(\"Varianz:      %.2f\" % (np.var(aucs)))"
   ]
  },
  {
   "cell_type": "markdown",
   "metadata": {},
   "source": [
    "### Application Train & Bureau"
   ]
  },
  {
   "cell_type": "code",
   "execution_count": null,
   "metadata": {},
   "outputs": [],
   "source": [
    "bureau.head()"
   ]
  },
  {
   "cell_type": "code",
   "execution_count": null,
   "metadata": {},
   "outputs": [],
   "source": [
    "m_heads = ['CNT_CHILDREN','AMT_INCOME_TOTAL', 'AMT_CREDIT', 'AMT_ANNUITY', 'AMT_GOODS_PRICE', 'REGION_POPULATION_RELATIVE', 'DAYS_BIRTH', 'DAYS_EMPLOYED', 'DAYS_REGISTRATION', 'DAYS_ID_PUBLISH', 'OWN_CAR_AGE', 'CNT_FAM_MEMBERS', 'HOUR_APPR_PROCESS_START', 'EXT_SOURCE_1', 'EXT_SOURCE_2', 'EXT_SOURCE_3', 'APARTMENTS_AVG', 'BASEMENTAREA_AVG', 'YEARS_BEGINEXPLUATATION_AVG', 'YEARS_BUILD_AVG', 'COMMONAREA_AVG', 'ELEVATORS_AVG', 'ENTRANCES_AVG', 'FLOORSMAX_AVG', 'FLOORSMIN_AVG', 'LANDAREA_AVG', 'LIVINGAPARTMENTS_AVG', 'LIVINGAREA_AVG', 'NONLIVINGAPARTMENTS_AVG', 'NONLIVINGAREA_AVG', 'APARTMENTS_MODE', 'BASEMENTAREA_MODE', 'YEARS_BEGINEXPLUATATION_MODE', 'YEARS_BUILD_MODE', 'COMMONAREA_MODE', 'ELEVATORS_MODE', 'ENTRANCES_MODE', 'FLOORSMAX_MODE', 'FLOORSMIN_MODE', 'LANDAREA_MODE', 'LIVINGAPARTMENTS_MODE', 'LIVINGAREA_MODE', 'NONLIVINGAPARTMENTS_MODE', 'NONLIVINGAREA_MODE', 'APARTMENTS_MEDI', 'BASEMENTAREA_MEDI', 'YEARS_BEGINEXPLUATATION_MEDI', 'YEARS_BUILD_MEDI', 'COMMONAREA_MEDI', 'ELEVATORS_MEDI', 'ENTRANCES_MEDI', 'FLOORSMAX_MEDI', 'FLOORSMIN_MEDI', 'LANDAREA_MEDI', 'LIVINGAPARTMENTS_MEDI', 'LIVINGAREA_MEDI', 'NONLIVINGAPARTMENTS_MEDI', 'NONLIVINGAREA_MEDI', 'TOTALAREA_MODE', 'OBS_30_CNT_SOCIAL_CIRCLE', 'DEF_30_CNT_SOCIAL_CIRCLE', 'OBS_60_CNT_SOCIAL_CIRCLE', 'DEF_60_CNT_SOCIAL_CIRCLE', 'DAYS_LAST_PHONE_CHANGE', 'AMT_REQ_CREDIT_BUREAU_HOUR', 'AMT_REQ_CREDIT_BUREAU_DAY', 'AMT_REQ_CREDIT_BUREAU_WEEK', 'AMT_REQ_CREDIT_BUREAU_MON', 'AMT_REQ_CREDIT_BUREAU_QRT', 'AMT_REQ_CREDIT_BUREAU_YEAR']"
   ]
  },
  {
   "cell_type": "code",
   "execution_count": null,
   "metadata": {},
   "outputs": [],
   "source": [
    "m = app_train[[\"SK_ID_CURR\",\"TARGET\"] + m_heads]"
   ]
  },
  {
   "cell_type": "code",
   "execution_count": null,
   "metadata": {},
   "outputs": [],
   "source": [
    "len(m)"
   ]
  },
  {
   "cell_type": "code",
   "execution_count": null,
   "metadata": {},
   "outputs": [],
   "source": [
    "bureau.head()"
   ]
  },
  {
   "cell_type": "code",
   "execution_count": null,
   "metadata": {},
   "outputs": [],
   "source": [
    "bureau = bureau.drop([\"TARGET\"], axis=1)"
   ]
  },
  {
   "cell_type": "code",
   "execution_count": null,
   "metadata": {},
   "outputs": [],
   "source": [
    "t = m.merge(bureau, on=\"SK_ID_CURR\")"
   ]
  },
  {
   "cell_type": "code",
   "execution_count": null,
   "metadata": {},
   "outputs": [],
   "source": [
    "t = t.drop([\"SK_ID_CURR\"], axis=1)"
   ]
  },
  {
   "cell_type": "code",
   "execution_count": null,
   "metadata": {},
   "outputs": [],
   "source": [
    "t.head()"
   ]
  },
  {
   "cell_type": "code",
   "execution_count": null,
   "metadata": {},
   "outputs": [],
   "source": [
    "from sklearn.ensemble import RandomForestClassifier\n",
    "from sklearn.model_selection import train_test_split"
   ]
  },
  {
   "cell_type": "code",
   "execution_count": null,
   "metadata": {},
   "outputs": [],
   "source": [
    "y = t[\"TARGET\"]\n",
    "x = t.drop([\"TARGET\"], axis=1)\n",
    "\n",
    "# ersätzt alle np.nan durch 0\n",
    "x = x.fillna(0)\n",
    "\n",
    "\n",
    "# unterteilt den trainingsdatensatz in trainings- und validierungsdatensätze\n",
    "x_train, x_test, y_train, y_test = train_test_split(x, y, test_size=.5, random_state=0)\n",
    "\n",
    "model = RandomForestClassifier(random_state=0)\n",
    "#model = RandomForestClassifier(max_depth=20, random_state=0)\n",
    "\n",
    "model.fit(x,y)"
   ]
  },
  {
   "cell_type": "code",
   "execution_count": null,
   "metadata": {},
   "outputs": [],
   "source": [
    "# Koeffizienten der einzelnen Klassen\n",
    "coef_dict = {}\n",
    "for coef, feat in zip(model.feature_importances_, x.columns.values):\n",
    "    coef_dict[feat] = coef\n",
    "    \n",
    "# Feature Importance\n",
    "d = dict(sorted(coef_dict.items(), key=lambda item: item[1], reverse=True))"
   ]
  },
  {
   "cell_type": "code",
   "execution_count": null,
   "metadata": {},
   "outputs": [],
   "source": [
    "heads = list(d.keys())"
   ]
  },
  {
   "cell_type": "code",
   "execution_count": null,
   "metadata": {},
   "outputs": [],
   "source": [
    "df = t\n",
    "\n",
    "data = {\n",
    "        \"auc\":[],\n",
    "        \"auc_adj\":[],\n",
    "        \"p\" : [],\n",
    "        \"n\": []\n",
    "       }\n",
    "\n",
    "for q in range(len(heads)):\n",
    "    X = df[heads[:q+1] + [\"TARGET\"]]\n",
    "    X = X.dropna()\n",
    "    y = X[\"TARGET\"]\n",
    "    x = X.drop([\"TARGET\"], axis=1)\n",
    "    scaler = preprocessing.StandardScaler().fit(x)\n",
    "    x = scaler.transform(x)\n",
    "    model = LogisticRegression(random_state=0).fit(x, y)\n",
    "    n = len(X)\n",
    "    p = len(X.columns)\n",
    "    \n",
    "    # unterteilt den trainingsdatensatz in trainings- und validierungsdatensätze\n",
    "    x_train, x_test, y_train, y_test = train_test_split(x, y, test_size=.5, random_state=0)\n",
    "    \n",
    "    x_test_prob = model.predict_proba(x_test)\n",
    "    # Erstellung der AUC & ROC-Metrik\n",
    "    # Wahrscheinlichkeiten für keinen Kreditausfall\n",
    "    prob = x_test_prob[:,1]\n",
    "    auc = roc_auc_score(y_test, prob)\n",
    "    auc_adj = 1-(1-auc)*(n-1)/(n-p-1)\n",
    "\n",
    "    data[\"auc\"].append(auc)\n",
    "    data[\"auc_adj\"].append(auc_adj)\n",
    "    data[\"p\"].append(p)\n",
    "    data[\"n\"].append(n)"
   ]
  },
  {
   "cell_type": "code",
   "execution_count": null,
   "metadata": {},
   "outputs": [],
   "source": [
    "df = pd.DataFrame(data)"
   ]
  },
  {
   "cell_type": "code",
   "execution_count": null,
   "metadata": {},
   "outputs": [],
   "source": [
    "print(df[df[\"auc\"] == df[\"auc\"].max()])\n",
    "df[\"auc\"].plot()"
   ]
  },
  {
   "cell_type": "code",
   "execution_count": null,
   "metadata": {},
   "outputs": [],
   "source": [
    "print(df[df[\"auc_adj\"] == df[\"auc_adj\"].max()])\n",
    "df[\"auc_adj\"].plot()"
   ]
  },
  {
   "cell_type": "code",
   "execution_count": null,
   "metadata": {},
   "outputs": [],
   "source": [
    "df"
   ]
  },
  {
   "cell_type": "code",
   "execution_count": null,
   "metadata": {},
   "outputs": [],
   "source": [
    "t.head()"
   ]
  },
  {
   "cell_type": "code",
   "execution_count": null,
   "metadata": {},
   "outputs": [],
   "source": [
    "y = t[\"TARGET\"]\n",
    "x = t.drop([\"TARGET\"], axis=1)"
   ]
  },
  {
   "cell_type": "code",
   "execution_count": null,
   "metadata": {},
   "outputs": [],
   "source": [
    "# ersätzt alle np.nan durch 0\n",
    "x = x.fillna(0)\n",
    "\n",
    "# unterteilt den trainingsdatensatz in trainings- und validierungsdatensätze\n",
    "x_train, x_test, y_train, y_test = train_test_split(x, y, test_size=.5, random_state=0)\n",
    "\n",
    "# logistisches Regressionsmodell\n",
    "model = LogisticRegression(random_state=0)\n",
    "\n",
    "aucs = []\n",
    "\n",
    "kfold = KFold(5, True, 1)\n",
    "data = x\n",
    "\n",
    "# enumerate splits\n",
    "for i, (train, test) in enumerate(kfold.split(data)):\n",
    "    model.fit(x.loc[train], y.loc[train])\n",
    "    \n",
    "    # Prognosewerte der Testdaten in %\n",
    "    x_test_prob = model.predict_proba(x.loc[test])\n",
    "\n",
    "    # Erstellung der AUC & ROC-Metrik\n",
    "    # Wahrscheinlichkeiten für keinen Kreditausfall\n",
    "    prob = x_test_prob[:,1]\n",
    "    auc = roc_auc_score(y.loc[test], prob)\n",
    "    aucs.append(auc)\n",
    "    print('train: %s, test: %s, auc: %s' % (train, test, auc))\n",
    "\n",
    "print(\"\\n\")\n",
    "print(\"Durchschnitt: %.2f\" % (np.mean(aucs)))\n",
    "print(\"Standardabw.: %.2f\" % (np.std(aucs)))\n",
    "print(\"Varianz:      %.2f\" % (np.var(aucs)))"
   ]
  },
  {
   "cell_type": "code",
   "execution_count": null,
   "metadata": {},
   "outputs": [],
   "source": [
    "t.head()"
   ]
  },
  {
   "cell_type": "code",
   "execution_count": null,
   "metadata": {},
   "outputs": [],
   "source": [
    "heads = list(d.keys())"
   ]
  },
  {
   "cell_type": "code",
   "execution_count": null,
   "metadata": {},
   "outputs": [],
   "source": [
    "temp = 0\n",
    "h = []\n",
    "\n",
    "df = t\n",
    "\n",
    "data = {\n",
    "        \"auc\":[],\n",
    "        \"auc_adj\":[],\n",
    "        \"p\" : [],\n",
    "        \"n\": []\n",
    "       }\n",
    "\n",
    "for head in heads:\n",
    "    h.append(head)\n",
    "    X = df[h + [\"TARGET\"]]\n",
    "    X = X.dropna()\n",
    "    y = X[\"TARGET\"]\n",
    "    x = X.drop([\"TARGET\"], axis=1)\n",
    "    scaler = preprocessing.StandardScaler().fit(x)\n",
    "    x = scaler.transform(x)\n",
    "    model = LogisticRegression(random_state=0).fit(x, y)\n",
    "    n = len(X)\n",
    "    p = len(X.columns)\n",
    "    \n",
    "    # unterteilt den trainingsdatensatz in trainings- und validierungsdatensätze\n",
    "    x_train, x_test, y_train, y_test = train_test_split(x, y, test_size=.5, random_state=0)\n",
    "    \n",
    "    x_test_prob = model.predict_proba(x_test)\n",
    "    # Erstellung der AUC & ROC-Metrik\n",
    "    # Wahrscheinlichkeiten für keinen Kreditausfall\n",
    "    prob = x_test_prob[:,1]\n",
    "    auc = roc_auc_score(y_test, prob)\n",
    "    auc_adj = 1-(1-auc)*(n-1)/(n-p-1)\n",
    "\n",
    "    if auc_adj > temp:\n",
    "\n",
    "        data[\"auc\"].append(auc)\n",
    "        data[\"auc_adj\"].append(auc_adj)\n",
    "        data[\"p\"].append(p)\n",
    "        data[\"n\"].append(n)\n",
    "        \n",
    "        temp = auc_adj\n",
    "    \n",
    "    else:\n",
    "        h.remove(head)"
   ]
  },
  {
   "cell_type": "code",
   "execution_count": null,
   "metadata": {},
   "outputs": [],
   "source": [
    "df = pd.DataFrame(data)"
   ]
  },
  {
   "cell_type": "code",
   "execution_count": null,
   "metadata": {},
   "outputs": [],
   "source": [
    "print(df[df[\"auc\"] == df[\"auc\"].max()])\n",
    "df[\"auc\"].plot()"
   ]
  },
  {
   "cell_type": "code",
   "execution_count": null,
   "metadata": {},
   "outputs": [],
   "source": [
    "print(df[df[\"auc_adj\"] == df[\"auc_adj\"].max()])\n",
    "df[\"auc_adj\"].plot()"
   ]
  },
  {
   "cell_type": "code",
   "execution_count": null,
   "metadata": {},
   "outputs": [],
   "source": [
    "df"
   ]
  },
  {
   "cell_type": "code",
   "execution_count": null,
   "metadata": {},
   "outputs": [],
   "source": [
    "h"
   ]
  },
  {
   "cell_type": "code",
   "execution_count": null,
   "metadata": {},
   "outputs": [],
   "source": [
    "t = t[[\"TARGET\"] + h]"
   ]
  },
  {
   "cell_type": "code",
   "execution_count": null,
   "metadata": {},
   "outputs": [],
   "source": [
    "y = t[\"TARGET\"]\n",
    "x = t.drop([\"TARGET\"], axis=1)"
   ]
  },
  {
   "cell_type": "code",
   "execution_count": null,
   "metadata": {},
   "outputs": [],
   "source": [
    "# ersätzt alle np.nan durch 0\n",
    "x = x.fillna(0)\n",
    "\n",
    "# unterteilt den trainingsdatensatz in trainings- und validierungsdatensätze\n",
    "x_train, x_test, y_train, y_test = train_test_split(x, y, test_size=.5, random_state=0)\n",
    "\n",
    "# logistisches Regressionsmodell\n",
    "model = LogisticRegression(random_state=0)\n",
    "\n",
    "aucs = []\n",
    "\n",
    "kfold = KFold(5, True, 1)\n",
    "data = x\n",
    "\n",
    "# enumerate splits\n",
    "for i, (train, test) in enumerate(kfold.split(data)):\n",
    "    model.fit(x.loc[train], y.loc[train])\n",
    "    \n",
    "    # Prognosewerte der Testdaten in %\n",
    "    x_test_prob = model.predict_proba(x.loc[test])\n",
    "\n",
    "    # Erstellung der AUC & ROC-Metrik\n",
    "    # Wahrscheinlichkeiten für keinen Kreditausfall\n",
    "    prob = x_test_prob[:,1]\n",
    "    auc = roc_auc_score(y.loc[test], prob)\n",
    "    aucs.append(auc)\n",
    "    print('train: %s, test: %s, auc: %s' % (train, test, auc))\n",
    "\n",
    "print(\"\\n\")\n",
    "print(\"Durchschnitt: %.2f\" % (np.mean(aucs)))\n",
    "print(\"Standardabw.: %.2f\" % (np.std(aucs)))\n",
    "print(\"Varianz:      %.2f\" % (np.var(aucs)))"
   ]
  },
  {
   "cell_type": "code",
   "execution_count": null,
   "metadata": {},
   "outputs": [],
   "source": []
  },
  {
   "cell_type": "code",
   "execution_count": null,
   "metadata": {},
   "outputs": [],
   "source": []
  }
 ],
 "metadata": {
  "kernelspec": {
   "display_name": "Python 3",
   "language": "python",
   "name": "python3"
  },
  "language_info": {
   "codemirror_mode": {
    "name": "ipython",
    "version": 3
   },
   "file_extension": ".py",
   "mimetype": "text/x-python",
   "name": "python",
   "nbconvert_exporter": "python",
   "pygments_lexer": "ipython3",
   "version": "3.8.7"
  }
 },
 "nbformat": 4,
 "nbformat_minor": 4
}
