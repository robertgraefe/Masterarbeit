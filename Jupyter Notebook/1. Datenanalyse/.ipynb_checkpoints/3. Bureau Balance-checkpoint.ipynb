{
 "cells": [
  {
   "cell_type": "markdown",
   "metadata": {},
   "source": [
    "### Initialisierung"
   ]
  },
  {
   "cell_type": "code",
   "execution_count": 1,
   "metadata": {},
   "outputs": [],
   "source": [
    "from pathlib import Path\n",
    "from scipy import stats\n",
    "\n",
    "import matplotlib.pyplot as plt\n",
    "import pandas as pd\n",
    "import numpy as np\n",
    "import seaborn as sns\n",
    "\n",
    "np.set_printoptions(suppress=True)\n",
    "\n",
    "pd.options.display.max_columns = None\n",
    "pd.options.display.max_rows = None\n",
    "pd.options.display.max_colwidth = None\n",
    "\n",
    "from IPython.display import display, Markdown"
   ]
  },
  {
   "cell_type": "code",
   "execution_count": 2,
   "metadata": {},
   "outputs": [],
   "source": [
    "path1 = Path(r\"A:\\Workspace\\Python\\Masterarbeit\\Kaggle Home Credit Datensatz\")\n",
    "path2 = Path(r\"C:\\Users\\rober\\Documents\\Workspace\\Python\\Masterarbeit\\Kaggle Home Credit Datensatz\")\n",
    "\n",
    "if path1.is_dir():\n",
    "    DATASET_DIR = path1\n",
    "else:\n",
    "    DATASET_DIR = path2"
   ]
  },
  {
   "cell_type": "code",
   "execution_count": 3,
   "metadata": {},
   "outputs": [],
   "source": [
    "app_train = pd.read_csv(DATASET_DIR / \"application_train.csv\")\n",
    "bureau = pd.read_csv(DATASET_DIR / \"bureau.csv\")\n",
    "bureau_balance = pd.read_csv(DATASET_DIR / \"bureau_balance.csv\")\n",
    "description = pd.read_csv(DATASET_DIR / \"HomeCredit_columns_description.csv\", encoding=\"latin\", index_col=0)"
   ]
  },
  {
   "cell_type": "code",
   "execution_count": 4,
   "metadata": {},
   "outputs": [
    {
     "data": {
      "text/html": [
       "<div>\n",
       "<style scoped>\n",
       "    .dataframe tbody tr th:only-of-type {\n",
       "        vertical-align: middle;\n",
       "    }\n",
       "\n",
       "    .dataframe tbody tr th {\n",
       "        vertical-align: top;\n",
       "    }\n",
       "\n",
       "    .dataframe thead th {\n",
       "        text-align: right;\n",
       "    }\n",
       "</style>\n",
       "<table border=\"1\" class=\"dataframe\">\n",
       "  <thead>\n",
       "    <tr style=\"text-align: right;\">\n",
       "      <th></th>\n",
       "      <th>Row</th>\n",
       "      <th>Description</th>\n",
       "      <th>Special</th>\n",
       "    </tr>\n",
       "  </thead>\n",
       "  <tbody>\n",
       "    <tr>\n",
       "      <th>142</th>\n",
       "      <td>SK_BUREAU_ID</td>\n",
       "      <td>Recoded ID of Credit Bureau credit (unique coding for each application) - use this to join to CREDIT_BUREAU table</td>\n",
       "      <td>hashed</td>\n",
       "    </tr>\n",
       "    <tr>\n",
       "      <th>143</th>\n",
       "      <td>MONTHS_BALANCE</td>\n",
       "      <td>Month of balance relative to application date (-1 means the freshest balance date)</td>\n",
       "      <td>time only relative to the application</td>\n",
       "    </tr>\n",
       "    <tr>\n",
       "      <th>144</th>\n",
       "      <td>STATUS</td>\n",
       "      <td>Status of Credit Bureau loan during the month (active, closed, DPD0-30,",
       " [C means closed, X means status unknown, 0 means no DPD, 1 means maximal did during month between 1-30, 2 means DPD 31-60,",
       " 5 means DPD 120+ or sold or written off ] )</td>\n",
       "      <td>NaN</td>\n",
       "    </tr>\n",
       "  </tbody>\n",
       "</table>\n",
       "</div>"
      ],
      "text/plain": [
       "                Row  \\\n",
       "142    SK_BUREAU_ID   \n",
       "143  MONTHS_BALANCE   \n",
       "144          STATUS   \n",
       "\n",
       "                                                                                                                                                                                                                                          Description  \\\n",
       "142                                                                                                                                Recoded ID of Credit Bureau credit (unique coding for each application) - use this to join to CREDIT_BUREAU table    \n",
       "143                                                                                                                                                                Month of balance relative to application date (-1 means the freshest balance date)   \n",
       "144  Status of Credit Bureau loan during the month (active, closed, DPD0-30,\n",
       " [C means closed, X means status unknown, 0 means no DPD, 1 means maximal did during month between 1-30, 2 means DPD 31-60,\n",
       " 5 means DPD 120+ or sold or written off ] )   \n",
       "\n",
       "                                   Special  \n",
       "142                                 hashed  \n",
       "143  time only relative to the application  \n",
       "144                                    NaN  "
      ]
     },
     "execution_count": 4,
     "metadata": {},
     "output_type": "execute_result"
    }
   ],
   "source": [
    "description.loc[description['Table']==\"bureau_balance.csv\", \"Row\":\"Special\"]"
   ]
  },
  {
   "cell_type": "code",
   "execution_count": 5,
   "metadata": {},
   "outputs": [],
   "source": [
    "# Function to draw a Piechart\n",
    "def draw_piechart(arguments):\n",
    "    fig, ax = plt.subplots(1,len(arguments))\n",
    "    \n",
    "    # Handle multiple plots\n",
    "    try:\n",
    "        for argument, a in zip(arguments,ax):\n",
    "            labels = argument[0]\n",
    "            sizes = argument[1]\n",
    "            title = argument[2]\n",
    "            \n",
    "            a.pie(sizes, labels=labels, autopct='%1.1f%%', startangle=90, normalize=False, labeldistance=1.05)\n",
    "            a.axis('equal') # Equal aspect ratio ensures that pie is drawn as a circle.\n",
    "            a.set_title(title)\n",
    "    # Handle single plot\n",
    "    except TypeError:\n",
    "        for argument in arguments:\n",
    "            labels = argument[0]\n",
    "            sizes = argument[1]\n",
    "            title = argument[2]\n",
    "            \n",
    "            ax.pie(sizes, labels=labels, autopct='%1.1f%%', startangle=90, normalize=False)\n",
    "            ax.axis('equal') # Equal aspect ratio ensures that pie is drawn as a circle.\n",
    "            ax.set_title(title)\n",
    "    plt.show()"
   ]
  },
  {
   "cell_type": "code",
   "execution_count": 6,
   "metadata": {},
   "outputs": [
    {
     "data": {
      "text/plain": [
       "<AxesSubplot:>"
      ]
     },
     "execution_count": 6,
     "metadata": {},
     "output_type": "execute_result"
    },
    {
     "data": {
      "image/png": "[encoded data removed]",
      "text/plain": [
       "<Figure size 432x288 with 1 Axes>"
      ]
     },
     "metadata": {
      "needs_background": "light"
     },
     "output_type": "display_data"
    }
   ],
   "source": [
    "bureau_balance[\"MONTHS_BALANCE\"].hist()"
   ]
  },
  {
   "cell_type": "markdown",
   "metadata": {},
   "source": [
    "## Datenaufbereitung"
   ]
  },
  {
   "cell_type": "code",
   "execution_count": 7,
   "metadata": {},
   "outputs": [],
   "source": [
    "# Schnittmenge zwischen app_train und bureau\n",
    "# Ergänzt die Variable \"TARGET\" in dem bureau-Datensatz\n",
    "bureau = pd.merge(bureau, app_train[[\"SK_ID_CURR\",\"TARGET\"]] ,on=\"SK_ID_CURR\")\n",
    "\n",
    "# Austausch der numerischen Kategorien durch sprechende, interpretierbare Variablen\n",
    "bureau[\"TARGET\"].replace(\n",
    "    {\n",
    "        0: \"Payback\",\n",
    "        1: \"Default\"\n",
    "    }, inplace = True\n",
    ")\n",
    "\n",
    "# Unterteilung des Datensatzen nach Payback und Default\n",
    "payback = bureau[bureau[\"TARGET\"] == \"Payback\"]\n",
    "default = bureau[bureau[\"TARGET\"] == \"Default\"]"
   ]
  },
  {
   "cell_type": "code",
   "execution_count": 8,
   "metadata": {},
   "outputs": [],
   "source": [
    "# Schnittmenge zwischen app_train und bureau\n",
    "# Ergänzt die Variable \"TARGET\" in dem bureau-Datensatz\n",
    "bureau_balance = pd.merge(bureau_balance, bureau[[\"SK_ID_BUREAU\",\"TARGET\"]] ,on=\"SK_ID_BUREAU\")\n",
    "\n",
    "# Unterteilung des Datensatzen nach Payback und Default\n",
    "payback = bureau_balance[bureau_balance[\"TARGET\"] == \"Payback\"]\n",
    "default = bureau_balance[bureau_balance[\"TARGET\"] == \"Default\"]"
   ]
  },
  {
   "cell_type": "code",
   "execution_count": 9,
   "metadata": {},
   "outputs": [
    {
     "data": {
      "text/html": [
       "<div>\n",
       "<style scoped>\n",
       "    .dataframe tbody tr th:only-of-type {\n",
       "        vertical-align: middle;\n",
       "    }\n",
       "\n",
       "    .dataframe tbody tr th {\n",
       "        vertical-align: top;\n",
       "    }\n",
       "\n",
       "    .dataframe thead th {\n",
       "        text-align: right;\n",
       "    }\n",
       "</style>\n",
       "<table border=\"1\" class=\"dataframe\">\n",
       "  <thead>\n",
       "    <tr style=\"text-align: right;\">\n",
       "      <th></th>\n",
       "      <th>SK_ID_BUREAU</th>\n",
       "      <th>MONTHS_BALANCE</th>\n",
       "      <th>STATUS</th>\n",
       "      <th>TARGET</th>\n",
       "    </tr>\n",
       "  </thead>\n",
       "  <tbody>\n",
       "    <tr>\n",
       "      <th>0</th>\n",
       "      <td>5715448</td>\n",
       "      <td>0</td>\n",
       "      <td>C</td>\n",
       "      <td>Payback</td>\n",
       "    </tr>\n",
       "    <tr>\n",
       "      <th>1</th>\n",
       "      <td>5715448</td>\n",
       "      <td>-1</td>\n",
       "      <td>C</td>\n",
       "      <td>Payback</td>\n",
       "    </tr>\n",
       "    <tr>\n",
       "      <th>2</th>\n",
       "      <td>5715448</td>\n",
       "      <td>-2</td>\n",
       "      <td>C</td>\n",
       "      <td>Payback</td>\n",
       "    </tr>\n",
       "    <tr>\n",
       "      <th>3</th>\n",
       "      <td>5715448</td>\n",
       "      <td>-3</td>\n",
       "      <td>C</td>\n",
       "      <td>Payback</td>\n",
       "    </tr>\n",
       "    <tr>\n",
       "      <th>4</th>\n",
       "      <td>5715448</td>\n",
       "      <td>-4</td>\n",
       "      <td>C</td>\n",
       "      <td>Payback</td>\n",
       "    </tr>\n",
       "  </tbody>\n",
       "</table>\n",
       "</div>"
      ],
      "text/plain": [
       "   SK_ID_BUREAU  MONTHS_BALANCE STATUS   TARGET\n",
       "0       5715448               0      C  Payback\n",
       "1       5715448              -1      C  Payback\n",
       "2       5715448              -2      C  Payback\n",
       "3       5715448              -3      C  Payback\n",
       "4       5715448              -4      C  Payback"
      ]
     },
     "execution_count": 9,
     "metadata": {},
     "output_type": "execute_result"
    }
   ],
   "source": [
    "bureau_balance.head()"
   ]
  },
  {
   "cell_type": "markdown",
   "metadata": {},
   "source": [
    "## Datenanalyse\n",
    "### Months Balance"
   ]
  },
  {
   "cell_type": "code",
   "execution_count": 11,
   "metadata": {},
   "outputs": [
    {
     "data": {
      "text/markdown": [
       "### All"
      ],
      "text/plain": [
       "<IPython.core.display.Markdown object>"
      ]
     },
     "metadata": {},
     "output_type": "display_data"
    },
    {
     "name": "stdout",
     "output_type": "stream",
     "text": [
      "28.630284896649428\n"
     ]
    },
    {
     "data": {
      "text/markdown": [
       "### Payback"
      ],
      "text/plain": [
       "<IPython.core.display.Markdown object>"
      ]
     },
     "metadata": {},
     "output_type": "display_data"
    },
    {
     "name": "stdout",
     "output_type": "stream",
     "text": [
      "28.797667273746978\n"
     ]
    },
    {
     "data": {
      "text/markdown": [
       "### Default"
      ],
      "text/plain": [
       "<IPython.core.display.Markdown object>"
      ]
     },
     "metadata": {},
     "output_type": "display_data"
    },
    {
     "name": "stdout",
     "output_type": "stream",
     "text": [
      "26.385791757368803\n"
     ]
    }
   ],
   "source": [
    "display(Markdown(\"### All\"))\n",
    "print(bureau_balance[\"MONTHS_BALANCE\"].mean() * -1)\n",
    "\n",
    "display(Markdown(\"### Payback\"))\n",
    "print(payback[\"MONTHS_BALANCE\"].mean() * -1)\n",
    "\n",
    "display(Markdown(\"### Default\"))\n",
    "print(default[\"MONTHS_BALANCE\"].mean() * -1)"
   ]
  },
  {
   "cell_type": "markdown",
   "metadata": {},
   "source": [
    "Durschnittlich waren die Kreditnehmer bei anderen Kreditgebern 28,63 Monate in einem Vertragsverhältnis.\n",
    "\n",
    "Durschnittlich waren die zurückzahlenden Kreditnehmer bei anderen Kreditgebern 28,80 Monate in einem Vertragsverhältnis.\n",
    "\n",
    "Durschnittlich waren die Kreditnehmer bei anderen Kreditgebern 26,39 Monate in einem Vertragsverhältnis."
   ]
  },
  {
   "cell_type": "markdown",
   "metadata": {},
   "source": [
    "### Status"
   ]
  },
  {
   "cell_type": "code",
   "execution_count": 13,
   "metadata": {},
   "outputs": [
    {
     "data": {
      "text/markdown": [
       "### Payback"
      ],
      "text/plain": [
       "<IPython.core.display.Markdown object>"
      ]
     },
     "metadata": {},
     "output_type": "display_data"
    },
    {
     "name": "stdout",
     "output_type": "stream",
     "text": [
      "C    6578386\n",
      "0    4265422\n",
      "X    2639488\n",
      "1     139430\n",
      "5      35913\n",
      "2      13963\n",
      "3       5299\n",
      "4       3430\n",
      "Name: STATUS, dtype: int64 \n",
      "\n"
     ]
    },
    {
     "data": {
      "text/markdown": [
       "### Default"
      ],
      "text/plain": [
       "<IPython.core.display.Markdown object>"
      ]
     },
     "metadata": {},
     "output_type": "display_data"
    },
    {
     "name": "stdout",
     "output_type": "stream",
     "text": [
      "C    449189\n",
      "0    350262\n",
      "X    197551\n",
      "1     15900\n",
      "5      4615\n",
      "2      1620\n",
      "3       677\n",
      "4       467\n",
      "Name: STATUS, dtype: int64 \n",
      "\n"
     ]
    },
    {
     "data": {
      "image/png": "[encoded data removed]",
      "text/plain": [
       "<Figure size 432x288 with 2 Axes>"
      ]
     },
     "metadata": {},
     "output_type": "display_data"
    }
   ],
   "source": [
    "COLUMN_NAME = \"STATUS\"\n",
    "TITLE = \"Status\"\n",
    "LABELS = [\"Closed\", \"Not Indebted\", \"Unknown\", \"Rest\"]\n",
    "SIZES_PER = lambda x : x / N\n",
    "\n",
    "count = payback[COLUMN_NAME].value_counts()\n",
    "\n",
    "N = len(payback[COLUMN_NAME])\n",
    "\n",
    "c = count[\"C\"]\n",
    "o = count[\"0\"]\n",
    "x = count[\"X\"]\n",
    "rest = N - c - o - x\n",
    "\n",
    "SIZES = [c, o, x, rest]\n",
    "\n",
    "labels1 = LABELS\n",
    "sizes1 = [SIZES_PER(element) for element in SIZES]\n",
    "title1 = TITLE + \" Payback\"\n",
    "\n",
    "display(Markdown(\"### Payback\"))\n",
    "print(count, \"\\n\")\n",
    "\n",
    "count = default[COLUMN_NAME].value_counts()\n",
    "\n",
    "N = len(default[COLUMN_NAME])\n",
    "\n",
    "c = count[\"C\"]\n",
    "o = count[\"0\"]\n",
    "x = count[\"X\"]\n",
    "rest = N - c - o - x\n",
    "\n",
    "SIZES = [c, o, x, rest]\n",
    "\n",
    "labels2 = LABELS\n",
    "sizes2 = [SIZES_PER(element) for element in SIZES]\n",
    "title2 = TITLE + \" Default\"\n",
    "\n",
    "display(Markdown(\"### Default\"))\n",
    "print(count, \"\\n\")\n",
    "\n",
    "arguments = [(labels1, sizes1, title1), (labels2, sizes2, title2)]\n",
    "\n",
    "draw_piechart(arguments)"
   ]
  },
  {
   "cell_type": "markdown",
   "metadata": {},
   "source": [
    "### Months Balance"
   ]
  },
  {
   "cell_type": "code",
   "execution_count": 14,
   "metadata": {},
   "outputs": [
    {
     "data": {
      "text/plain": [
       "<AxesSubplot:ylabel='Frequency'>"
      ]
     },
     "execution_count": 14,
     "metadata": {},
     "output_type": "execute_result"
    },
    {
     "data": {
      "image/png": "[encoded data removed]",
      "text/plain": [
       "<Figure size 432x288 with 1 Axes>"
      ]
     },
     "metadata": {
      "needs_background": "light"
     },
     "output_type": "display_data"
    }
   ],
   "source": [
    "payback[\"MONTHS_BALANCE\"].plot.hist()"
   ]
  },
  {
   "cell_type": "code",
   "execution_count": 15,
   "metadata": {},
   "outputs": [
    {
     "data": {
      "text/plain": [
       "<AxesSubplot:ylabel='Frequency'>"
      ]
     },
     "execution_count": 15,
     "metadata": {},
     "output_type": "execute_result"
    },
    {
     "data": {
      "image/png": "[encoded data removed]",
      "text/plain": [
       "<Figure size 432x288 with 1 Axes>"
      ]
     },
     "metadata": {
      "needs_background": "light"
     },
     "output_type": "display_data"
    }
   ],
   "source": [
    "default[\"MONTHS_BALANCE\"].plot.hist()"
   ]
  },
  {
   "cell_type": "code",
   "execution_count": null,
   "metadata": {},
   "outputs": [],
   "source": []
  }
 ],
 "metadata": {
  "kernelspec": {
   "display_name": "Python 3",
   "language": "python",
   "name": "python3"
  },
  "language_info": {
   "codemirror_mode": {
    "name": "ipython",
    "version": 3
   },
   "file_extension": ".py",
   "mimetype": "text/x-python",
   "name": "python",
   "nbconvert_exporter": "python",
   "pygments_lexer": "ipython3",
   "version": "3.8.7"
  }
 },
 "nbformat": 4,
 "nbformat_minor": 4
}
