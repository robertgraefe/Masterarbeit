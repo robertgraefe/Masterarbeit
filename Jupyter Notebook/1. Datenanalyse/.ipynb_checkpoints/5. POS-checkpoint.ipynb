{
 "cells": [
  {
   "cell_type": "markdown",
   "metadata": {},
   "source": [
    "# Initialisierung"
   ]
  },
  {
   "cell_type": "code",
   "execution_count": null,
   "metadata": {},
   "outputs": [],
   "source": [
    "from pathlib import Path\n",
    "from scipy import stats\n",
    "\n",
    "import matplotlib.pyplot as plt\n",
    "import pandas as pd\n",
    "import numpy as np\n",
    "import seaborn as sns\n",
    "\n",
    "np.set_printoptions(suppress=True)\n",
    "\n",
    "pd.options.display.max_columns = None\n",
    "pd.options.display.max_rows = None\n",
    "pd.options.display.max_colwidth = None\n",
    "\n",
    "from IPython.display import display, Markdown"
   ]
  },
  {
   "cell_type": "code",
   "execution_count": null,
   "metadata": {},
   "outputs": [],
   "source": [
    "path1 = Path(r\"A:\\Workspace\\Python\\Masterarbeit\\Kaggle Home Credit Datensatz\")\n",
    "path2 = Path(r\"C:\\Users\\rober\\Documents\\Workspace\\Python\\Masterarbeit\\Kaggle Home Credit Datensatz\")\n",
    "\n",
    "if path1.is_dir():\n",
    "    DATASET_DIR = path1\n",
    "else:\n",
    "    DATASET_DIR = path2"
   ]
  },
  {
   "cell_type": "code",
   "execution_count": null,
   "metadata": {},
   "outputs": [],
   "source": [
    "app_train = pd.read_csv(DATASET_DIR / \"application_train.csv\")\n",
    "pcb = pd.read_csv(DATASET_DIR / \"POS_CASH_balance.csv\")\n",
    "description = pd.read_csv(DATASET_DIR / \"HomeCredit_columns_description.csv\", encoding=\"latin\", index_col=0)"
   ]
  },
  {
   "cell_type": "code",
   "execution_count": null,
   "metadata": {},
   "outputs": [],
   "source": [
    "description.loc[description['Table']==\"POS_CASH_balance.csv\", \"Row\":\"Special\"]"
   ]
  },
  {
   "cell_type": "code",
   "execution_count": null,
   "metadata": {},
   "outputs": [],
   "source": [
    "# Function to draw a Piechart\n",
    "def draw_piechart(arguments):\n",
    "    \n",
    "    fig, ax = plt.subplots(1,len(arguments))\n",
    "\n",
    "    try:\n",
    "    # Handle multiple plots\n",
    "        for argument, a in zip(arguments,ax):\n",
    "            labels = argument[0]\n",
    "            sizes = argument[1]\n",
    "            title = argument[2]\n",
    "\n",
    "            a.pie(sizes, labels=labels, autopct='%1.1f%%', startangle=90, normalize=False, labeldistance=1.05)\n",
    "            a.axis('equal')  # Equal aspect ratio ensures that pie is drawn as a circle.\n",
    "            a.set_title(title)\n",
    "            \n",
    "    # Handle single plot           \n",
    "    except TypeError:\n",
    "        for argument in arguments:\n",
    "            labels = argument[0]\n",
    "            sizes = argument[1]\n",
    "            title = argument[2]\n",
    "        \n",
    "            ax.pie(sizes, labels=labels, autopct='%1.1f%%', startangle=90, normalize=False)\n",
    "            ax.axis('equal')  # Equal aspect ratio ensures that pie is drawn as a circle.\n",
    "            ax.set_title(title)\n",
    "    plt.show()"
   ]
  },
  {
   "cell_type": "markdown",
   "metadata": {},
   "source": [
    "# Datenaufbereitung"
   ]
  },
  {
   "cell_type": "code",
   "execution_count": null,
   "metadata": {},
   "outputs": [],
   "source": [
    "# Schnittmenge zwischen app_train und bureau\n",
    "# Ergänzt die Variable \"TARGET\" in dem bureau-Datensatz\n",
    "pcb = pd.merge(pcb, app_train[[\"SK_ID_CURR\",\"TARGET\"]] ,on=\"SK_ID_CURR\")\n",
    "\n",
    "# Austausch der numerischen Kategorien durch sprechende, interpretierbare Variablen\n",
    "pcb[\"TARGET\"].replace(\n",
    "    {\n",
    "        0: \"Payback\",\n",
    "        1: \"Default\"\n",
    "    }, inplace = True\n",
    ")\n",
    "\n",
    "# Unterteilung des Datensatzen nach Payback und Default\n",
    "payback = pcb[pcb[\"TARGET\"] == \"Payback\"]\n",
    "default = pcb[pcb[\"TARGET\"] == \"Default\"]"
   ]
  },
  {
   "cell_type": "code",
   "execution_count": null,
   "metadata": {},
   "outputs": [],
   "source": [
    "skip = [\"SK_ID_PREV\", \"SK_ID_CURR\", \"TARGET\"]\n",
    "\n",
    "n_heads = [element for element in pcb.columns if pcb[element].dtype.name == \"object\"]\n",
    "n_heads = [element for element in n_heads if element not in skip]\n",
    "n_heads += [\"CNT_INSTALMENT\"]\n",
    "\n",
    "m_heads = [element for element in pcb.columns if pcb[element].dtype.name != \"object\"]\n",
    "m_heads = [element for element in m_heads if element not in skip]\n",
    "m_heads = [element for element in m_heads if element not in n_heads\n",
    "\n",
    "\n",
    "n = pcb[n_heads]\n",
    "m = pcb[m_heads]"
   ]
  },
  {
   "cell_type": "code",
   "execution_count": null,
   "metadata": {},
   "outputs": [],
   "source": [
    "n.head()"
   ]
  },
  {
   "cell_type": "code",
   "execution_count": null,
   "metadata": {},
   "outputs": [],
   "source": [
    "pcb.head()"
   ]
  },
  {
   "cell_type": "markdown",
   "metadata": {},
   "source": [
    "# Datenanalyse"
   ]
  },
  {
   "cell_type": "code",
   "execution_count": null,
   "metadata": {},
   "outputs": [],
   "source": [
    "imp = ['CNT_PAYMENT_0.0', 'CODE_GENDER', 'CREDIT_DAY_OVERDUE_0.0',\n",
    "       'DAYS_BIRTH', 'DAYS_CREDIT_1.0', 'DAYS_FIRST_DRAWING_0.75',\n",
    "       'DAYS_LAST_DUE_1ST_VERSION_1.0', 'EXT_SOURCE_1', 'EXT_SOURCE_2',\n",
    "       'EXT_SOURCE_3', 'FLAG_DOCUMENT_3', 'MAX_AMTDIFF', 'MEAN_AMTDIFF',\n",
    "       'MEAN_TIMEDIFF', 'NAME_YIELD_GROUP low_normal',\n",
    "       'ORGANIZATION_TYPE',\n",
    "       'PRODUCT_COMBINATION POS industry with interest', 'SUM_DPD']"
   ]
  },
  {
   "cell_type": "code",
   "execution_count": null,
   "metadata": {},
   "outputs": [],
   "source": [
    "for head in m_heads:\n",
    "    for head2 in imp:\n",
    "        if head in head2:\n",
    "            print(head)"
   ]
  },
  {
   "cell_type": "markdown",
   "metadata": {},
   "source": [
    "## kategorische Variablen"
   ]
  },
  {
   "cell_type": "code",
   "execution_count": null,
   "metadata": {},
   "outputs": [],
   "source": [
    "result = {\n",
    "    \"head\" : [],\n",
    "    \"cat\" : [],\n",
    "    \"payback\" : [],\n",
    "    \"default\" : [],\n",
    "    \"diff\" : []\n",
    "}\n",
    "\n",
    "for head in n.columns.values:\n",
    "    df1 = payback[head].value_counts().rename_axis(head).reset_index(name='payback').head()\n",
    "    df2 = default[head].value_counts().rename_axis(head).reset_index(name='default').head()\n",
    "    \n",
    "    df1[\"payback\"] = df1[\"payback\"]/df1[\"payback\"].sum()*100\n",
    "    df2[\"default\"] = df2[\"default\"]/df2[\"default\"].sum()*100\n",
    "    \n",
    "    df = df1.merge(df2, how=\"outer\", on=head)\n",
    "    \n",
    "    df[\"diff\"] = (df[\"default\"]-df[\"payback\"])\n",
    "    \n",
    "    df = df.sort_values(\"diff\", ascending=False)\n",
    "    \n",
    "    for diff in df[\"diff\"]:\n",
    "        if np.isnan(diff):\n",
    "            continue\n",
    "        if diff > 5 or diff < -5:\n",
    "            row = df.loc[df[\"diff\"] == diff]\n",
    "            cat = row[head][row[head].index[0]]\n",
    "            \n",
    "            result[\"head\"].append(head)\n",
    "            result[\"cat\"].append(cat)\n",
    "            result[\"payback\"].append(round(row[\"payback\"].values[0],2))\n",
    "            result[\"default\"].append(round(row[\"default\"].values[0],2))\n",
    "            result[\"diff\"].append(round(diff,2))\n",
    "\n",
    "df = pd.DataFrame(result)\n",
    "df.sort_values(\"diff\", ascending=False)"
   ]
  },
  {
   "cell_type": "code",
   "execution_count": null,
   "metadata": {},
   "outputs": [],
   "source": [
    "quants =[\"SK_DPD\", \"CNT_INSTALMENT_FUTURE\", \"SK_DPD_DEF\"]\n",
    "\n",
    "for head in m_heads:\n",
    "\n",
    "    pb = payback[head].copy()\n",
    "    df = default[head].copy()\n",
    "\n",
    "    if head in quants:\n",
    "    \n",
    "        pb = pb[pb < pb.quantile(0.95)]\n",
    "        df = df[df < df.quantile(0.95)]\n",
    "\n",
    "    pb.hist()\n",
    "    df.hist()\n",
    "\n",
    "    plt.title(head)\n",
    "    plt.legend(labels=[\"Payback\",\"Default\"])\n",
    "    plt.xlabel(\"Kreditdauer in Jahren\")\n",
    "    plt.ylabel(\"# Kreditnehmer\")\n",
    "    plt.show()\n",
    "\n",
    "    sns.kdeplot(pb).get_lines()[0].get_data()\n",
    "    sns.kdeplot(df).get_lines()[1].get_data()\n",
    "\n",
    "    plt.legend(labels=[\"Payback\",\"Default\"])\n",
    "    plt.xlabel(\"Kreditdauer in Jahren\")\n",
    "    plt.ylabel(\"# Kreditnehmer\")\n",
    "    plt.show()"
   ]
  },
  {
   "cell_type": "code",
   "execution_count": null,
   "metadata": {},
   "outputs": [],
   "source": []
  }
 ],
 "metadata": {
  "kernelspec": {
   "display_name": "Python 3",
   "language": "python",
   "name": "python3"
  },
  "language_info": {
   "codemirror_mode": {
    "name": "ipython",
    "version": 3
   },
   "file_extension": ".py",
   "mimetype": "text/x-python",
   "name": "python",
   "nbconvert_exporter": "python",
   "pygments_lexer": "ipython3",
   "version": "3.8.6"
  }
 },
 "nbformat": 4,
 "nbformat_minor": 4
}
