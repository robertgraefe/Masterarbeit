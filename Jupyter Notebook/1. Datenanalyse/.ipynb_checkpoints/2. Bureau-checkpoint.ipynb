{
 "cells": [
  {
   "cell_type": "markdown",
   "metadata": {},
   "source": [
    "# Bureau\n",
    "Der Bureau Datensatz bezieht sich auf historische Daten, welche von einer Wirtschaftsprüfungsgesellschaft vorliegen (Schufa in DE)."
   ]
  },
  {
   "cell_type": "markdown",
   "metadata": {},
   "source": [
    "## Initialisierung"
   ]
  },
  {
   "cell_type": "code",
   "execution_count": 1,
   "metadata": {},
   "outputs": [],
   "source": [
    "from pathlib import Path\n",
    "from scipy import stats\n",
    "\n",
    "import matplotlib.pyplot as plt\n",
    "import pandas as pd\n",
    "import numpy as np\n",
    "import seaborn as sns\n",
    "\n",
    "np.set_printoptions(suppress=True)\n",
    "\n",
    "pd.options.display.max_columns = None\n",
    "pd.options.display.max_rows = None\n",
    "pd.options.display.max_colwidth = None\n",
    "\n",
    "from IPython.display import display, Markdown"
   ]
  },
  {
   "cell_type": "code",
   "execution_count": 2,
   "metadata": {},
   "outputs": [],
   "source": [
    "path1 = Path(r\"A:\\Workspace\\Python\\Masterarbeit\\Kaggle Home Credit Datensatz\")\n",
    "path2 = Path(r\"C:\\Users\\rober\\Documents\\Workspace\\Python\\Masterarbeit\\Kaggle Home Credit Datensatz\")\n",
    "\n",
    "if path1.is_dir():\n",
    "    DATASET_DIR = path1\n",
    "else:\n",
    "    DATASET_DIR = path2"
   ]
  },
  {
   "cell_type": "code",
   "execution_count": 3,
   "metadata": {},
   "outputs": [],
   "source": [
    "app_train = pd.read_csv(DATASET_DIR / \"application_train.csv\")\n",
    "bureau = pd.read_csv(DATASET_DIR / \"bureau.csv\")\n",
    "description = pd.read_csv(DATASET_DIR / \"HomeCredit_columns_description.csv\", encoding=\"latin\", index_col=0)"
   ]
  },
  {
   "cell_type": "code",
   "execution_count": 4,
   "metadata": {},
   "outputs": [
    {
     "data": {
      "text/html": [
       "<div>\n",
       "<style scoped>\n",
       "    .dataframe tbody tr th:only-of-type {\n",
       "        vertical-align: middle;\n",
       "    }\n",
       "\n",
       "    .dataframe tbody tr th {\n",
       "        vertical-align: top;\n",
       "    }\n",
       "\n",
       "    .dataframe thead th {\n",
       "        text-align: right;\n",
       "    }\n",
       "</style>\n",
       "<table border=\"1\" class=\"dataframe\">\n",
       "  <thead>\n",
       "    <tr style=\"text-align: right;\">\n",
       "      <th></th>\n",
       "      <th>Row</th>\n",
       "      <th>Description</th>\n",
       "      <th>Special</th>\n",
       "    </tr>\n",
       "  </thead>\n",
       "  <tbody>\n",
       "    <tr>\n",
       "      <th>125</th>\n",
       "      <td>SK_ID_CURR</td>\n",
       "      <td>ID of loan in our sample - one loan in our sample can have 0,1,2 or more related previous credits in credit bureau</td>\n",
       "      <td>hashed</td>\n",
       "    </tr>\n",
       "    <tr>\n",
       "      <th>126</th>\n",
       "      <td>SK_BUREAU_ID</td>\n",
       "      <td>Recoded ID of previous Credit Bureau credit related to our loan (unique coding for each loan application)</td>\n",
       "      <td>hashed</td>\n",
       "    </tr>\n",
       "    <tr>\n",
       "      <th>127</th>\n",
       "      <td>CREDIT_ACTIVE</td>\n",
       "      <td>Status of the Credit Bureau (CB) reported credits</td>\n",
       "      <td>NaN</td>\n",
       "    </tr>\n",
       "    <tr>\n",
       "      <th>128</th>\n",
       "      <td>CREDIT_CURRENCY</td>\n",
       "      <td>Recoded currency of the Credit Bureau credit</td>\n",
       "      <td>recoded</td>\n",
       "    </tr>\n",
       "    <tr>\n",
       "      <th>129</th>\n",
       "      <td>DAYS_CREDIT</td>\n",
       "      <td>How many days before current application did client apply for Credit Bureau credit</td>\n",
       "      <td>time only relative to the application</td>\n",
       "    </tr>\n",
       "    <tr>\n",
       "      <th>130</th>\n",
       "      <td>CREDIT_DAY_OVERDUE</td>\n",
       "      <td>Number of days past due on CB credit at the time of application for related loan in our sample</td>\n",
       "      <td>NaN</td>\n",
       "    </tr>\n",
       "    <tr>\n",
       "      <th>131</th>\n",
       "      <td>DAYS_CREDIT_ENDDATE</td>\n",
       "      <td>Remaining duration of CB credit (in days) at the time of application in Home Credit</td>\n",
       "      <td>time only relative to the application</td>\n",
       "    </tr>\n",
       "    <tr>\n",
       "      <th>132</th>\n",
       "      <td>DAYS_ENDDATE_FACT</td>\n",
       "      <td>Days since CB credit ended at the time of application in Home Credit (only for closed credit)</td>\n",
       "      <td>time only relative to the application</td>\n",
       "    </tr>\n",
       "    <tr>\n",
       "      <th>133</th>\n",
       "      <td>AMT_CREDIT_MAX_OVERDUE</td>\n",
       "      <td>Maximal amount overdue on the Credit Bureau credit so far (at application date of loan in our sample)</td>\n",
       "      <td>NaN</td>\n",
       "    </tr>\n",
       "    <tr>\n",
       "      <th>134</th>\n",
       "      <td>CNT_CREDIT_PROLONG</td>\n",
       "      <td>How many times was the Credit Bureau credit prolonged</td>\n",
       "      <td>NaN</td>\n",
       "    </tr>\n",
       "    <tr>\n",
       "      <th>135</th>\n",
       "      <td>AMT_CREDIT_SUM</td>\n",
       "      <td>Current credit amount for the Credit Bureau credit</td>\n",
       "      <td>NaN</td>\n",
       "    </tr>\n",
       "    <tr>\n",
       "      <th>136</th>\n",
       "      <td>AMT_CREDIT_SUM_DEBT</td>\n",
       "      <td>Current debt on Credit Bureau credit</td>\n",
       "      <td>NaN</td>\n",
       "    </tr>\n",
       "    <tr>\n",
       "      <th>137</th>\n",
       "      <td>AMT_CREDIT_SUM_LIMIT</td>\n",
       "      <td>Current credit limit of credit card reported in Credit Bureau</td>\n",
       "      <td>NaN</td>\n",
       "    </tr>\n",
       "    <tr>\n",
       "      <th>138</th>\n",
       "      <td>AMT_CREDIT_SUM_OVERDUE</td>\n",
       "      <td>Current amount overdue on Credit Bureau credit</td>\n",
       "      <td>NaN</td>\n",
       "    </tr>\n",
       "    <tr>\n",
       "      <th>139</th>\n",
       "      <td>CREDIT_TYPE</td>\n",
       "      <td>Type of Credit Bureau credit (Car, cash,...)</td>\n",
       "      <td>NaN</td>\n",
       "    </tr>\n",
       "    <tr>\n",
       "      <th>140</th>\n",
       "      <td>DAYS_CREDIT_UPDATE</td>\n",
       "      <td>How many days before loan application did last information about the Credit Bureau credit come</td>\n",
       "      <td>time only relative to the application</td>\n",
       "    </tr>\n",
       "    <tr>\n",
       "      <th>141</th>\n",
       "      <td>AMT_ANNUITY</td>\n",
       "      <td>Annuity of the Credit Bureau credit</td>\n",
       "      <td>NaN</td>\n",
       "    </tr>\n",
       "  </tbody>\n",
       "</table>\n",
       "</div>"
      ],
      "text/plain": [
       "                        Row  \\\n",
       "125              SK_ID_CURR   \n",
       "126            SK_BUREAU_ID   \n",
       "127           CREDIT_ACTIVE   \n",
       "128         CREDIT_CURRENCY   \n",
       "129             DAYS_CREDIT   \n",
       "130      CREDIT_DAY_OVERDUE   \n",
       "131     DAYS_CREDIT_ENDDATE   \n",
       "132       DAYS_ENDDATE_FACT   \n",
       "133  AMT_CREDIT_MAX_OVERDUE   \n",
       "134      CNT_CREDIT_PROLONG   \n",
       "135          AMT_CREDIT_SUM   \n",
       "136     AMT_CREDIT_SUM_DEBT   \n",
       "137    AMT_CREDIT_SUM_LIMIT   \n",
       "138  AMT_CREDIT_SUM_OVERDUE   \n",
       "139             CREDIT_TYPE   \n",
       "140      DAYS_CREDIT_UPDATE   \n",
       "141             AMT_ANNUITY   \n",
       "\n",
       "                                                                                                             Description  \\\n",
       "125  ID of loan in our sample - one loan in our sample can have 0,1,2 or more related previous credits in credit bureau    \n",
       "126            Recoded ID of previous Credit Bureau credit related to our loan (unique coding for each loan application)   \n",
       "127                                                                    Status of the Credit Bureau (CB) reported credits   \n",
       "128                                                                         Recoded currency of the Credit Bureau credit   \n",
       "129                                   How many days before current application did client apply for Credit Bureau credit   \n",
       "130                       Number of days past due on CB credit at the time of application for related loan in our sample   \n",
       "131                                  Remaining duration of CB credit (in days) at the time of application in Home Credit   \n",
       "132                        Days since CB credit ended at the time of application in Home Credit (only for closed credit)   \n",
       "133                Maximal amount overdue on the Credit Bureau credit so far (at application date of loan in our sample)   \n",
       "134                                                                How many times was the Credit Bureau credit prolonged   \n",
       "135                                                                   Current credit amount for the Credit Bureau credit   \n",
       "136                                                                                 Current debt on Credit Bureau credit   \n",
       "137                                                        Current credit limit of credit card reported in Credit Bureau   \n",
       "138                                                                       Current amount overdue on Credit Bureau credit   \n",
       "139                                                                         Type of Credit Bureau credit (Car, cash,...)   \n",
       "140                       How many days before loan application did last information about the Credit Bureau credit come   \n",
       "141                                                                                  Annuity of the Credit Bureau credit   \n",
       "\n",
       "                                   Special  \n",
       "125                                 hashed  \n",
       "126                                 hashed  \n",
       "127                                    NaN  \n",
       "128                                recoded  \n",
       "129  time only relative to the application  \n",
       "130                                    NaN  \n",
       "131  time only relative to the application  \n",
       "132  time only relative to the application  \n",
       "133                                    NaN  \n",
       "134                                    NaN  \n",
       "135                                    NaN  \n",
       "136                                    NaN  \n",
       "137                                    NaN  \n",
       "138                                    NaN  \n",
       "139                                    NaN  \n",
       "140  time only relative to the application  \n",
       "141                                    NaN  "
      ]
     },
     "execution_count": 4,
     "metadata": {},
     "output_type": "execute_result"
    }
   ],
   "source": [
    "description.loc[description['Table']==\"bureau.csv\", \"Row\":\"Special\"]"
   ]
  },
  {
   "cell_type": "code",
   "execution_count": 5,
   "metadata": {},
   "outputs": [],
   "source": [
    "# Function to draw a Piechart\n",
    "def draw_piechart(arguments):\n",
    "    fig, ax = plt.subplots(1,len(arguments))\n",
    "    \n",
    "    # Handle multiple plots\n",
    "    try:\n",
    "        for argument, a in zip(arguments,ax):\n",
    "            labels = argument[0]\n",
    "            sizes = argument[1]\n",
    "            title = argument[2]\n",
    "            \n",
    "            a.pie(sizes, labels=labels, autopct='%1.1f%%', startangle=90, normalize=False, labeldistance=1.05)\n",
    "            a.axis('equal') # Equal aspect ratio ensures that pie is drawn as a circle.\n",
    "            a.set_title(title)\n",
    "            \n",
    "    # Handle single plot\n",
    "    except TypeError:\n",
    "        for argument in arguments:\n",
    "            labels = argument[0]\n",
    "            sizes = argument[1]\n",
    "            title = argument[2]\n",
    "            \n",
    "            ax.pie(sizes, labels=labels, autopct='%1.1f%%', startangle=90, normalize=False)\n",
    "            ax.axis('equal') # Equal aspect ratio ensures that pie is drawn as a circle.\n",
    "            ax.set_title(title)\n",
    "    \n",
    "    plt.show()"
   ]
  },
  {
   "cell_type": "markdown",
   "metadata": {},
   "source": [
    "### Datenaufbereitung"
   ]
  },
  {
   "cell_type": "code",
   "execution_count": 6,
   "metadata": {},
   "outputs": [],
   "source": [
    "# Schnittmenge zwischen app_train und bureau\n",
    "# Ergänzt die Variable \"TARGET\" in dem bureau-Datensatz\n",
    "bureau = pd.merge(bureau, app_train[[\"SK_ID_CURR\",\"TARGET\"]] ,on=\"SK_ID_CURR\")\n",
    "\n",
    "# Austausch der numerischen Kategorien durch sprechende, interpretierbare Variablen\n",
    "bureau[\"TARGET\"].replace(\n",
    "    {\n",
    "        0: \"Payback\",\n",
    "        1: \"Default\"\n",
    "    }, inplace = True\n",
    ")\n",
    "\n",
    "# Unterteilung des Datensatzen nach Payback und Default\n",
    "payback = bureau[bureau[\"TARGET\"] == \"Payback\"]\n",
    "default = bureau[bureau[\"TARGET\"] == \"Default\"]"
   ]
  },
  {
   "cell_type": "code",
   "execution_count": 7,
   "metadata": {},
   "outputs": [],
   "source": [
    "skip = [\"SK_ID_CURR\" , \"SK_ID_BUREAU\", \"TARGET\"]"
   ]
  },
  {
   "cell_type": "code",
   "execution_count": 8,
   "metadata": {},
   "outputs": [],
   "source": [
    "n_heads = [element for element in bureau.columns if bureau[element].dtype.name == \"object\"]\n",
    "n_heads = [element for element in n_heads if element not in skip]\n",
    "n = bureau[n_heads]\n",
    "\n",
    "m_heads = [element for element in bureau.columns if bureau[element].dtype.name != \"object\"]\n",
    "m_heads = [element for element in m_heads if element not in skip]\n",
    "m = bureau[m_heads]"
   ]
  },
  {
   "cell_type": "code",
   "execution_count": 9,
   "metadata": {},
   "outputs": [
    {
     "data": {
      "text/html": [
       "<div>\n",
       "<style scoped>\n",
       "    .dataframe tbody tr th:only-of-type {\n",
       "        vertical-align: middle;\n",
       "    }\n",
       "\n",
       "    .dataframe tbody tr th {\n",
       "        vertical-align: top;\n",
       "    }\n",
       "\n",
       "    .dataframe thead th {\n",
       "        text-align: right;\n",
       "    }\n",
       "</style>\n",
       "<table border=\"1\" class=\"dataframe\">\n",
       "  <thead>\n",
       "    <tr style=\"text-align: right;\">\n",
       "      <th></th>\n",
       "      <th>SK_ID_CURR</th>\n",
       "      <th>SK_ID_BUREAU</th>\n",
       "      <th>CREDIT_ACTIVE</th>\n",
       "      <th>CREDIT_CURRENCY</th>\n",
       "      <th>DAYS_CREDIT</th>\n",
       "      <th>CREDIT_DAY_OVERDUE</th>\n",
       "      <th>DAYS_CREDIT_ENDDATE</th>\n",
       "      <th>DAYS_ENDDATE_FACT</th>\n",
       "      <th>AMT_CREDIT_MAX_OVERDUE</th>\n",
       "      <th>CNT_CREDIT_PROLONG</th>\n",
       "      <th>AMT_CREDIT_SUM</th>\n",
       "      <th>AMT_CREDIT_SUM_DEBT</th>\n",
       "      <th>AMT_CREDIT_SUM_LIMIT</th>\n",
       "      <th>AMT_CREDIT_SUM_OVERDUE</th>\n",
       "      <th>CREDIT_TYPE</th>\n",
       "      <th>DAYS_CREDIT_UPDATE</th>\n",
       "      <th>AMT_ANNUITY</th>\n",
       "      <th>TARGET</th>\n",
       "    </tr>\n",
       "  </thead>\n",
       "  <tbody>\n",
       "    <tr>\n",
       "      <th>0</th>\n",
       "      <td>215354</td>\n",
       "      <td>5714462</td>\n",
       "      <td>Closed</td>\n",
       "      <td>currency 1</td>\n",
       "      <td>-497</td>\n",
       "      <td>0</td>\n",
       "      <td>-153.0</td>\n",
       "      <td>-153.0</td>\n",
       "      <td>NaN</td>\n",
       "      <td>0</td>\n",
       "      <td>91323.0</td>\n",
       "      <td>0.0</td>\n",
       "      <td>NaN</td>\n",
       "      <td>0.0</td>\n",
       "      <td>Consumer credit</td>\n",
       "      <td>-131</td>\n",
       "      <td>NaN</td>\n",
       "      <td>Payback</td>\n",
       "    </tr>\n",
       "    <tr>\n",
       "      <th>1</th>\n",
       "      <td>215354</td>\n",
       "      <td>5714463</td>\n",
       "      <td>Active</td>\n",
       "      <td>currency 1</td>\n",
       "      <td>-208</td>\n",
       "      <td>0</td>\n",
       "      <td>1075.0</td>\n",
       "      <td>NaN</td>\n",
       "      <td>NaN</td>\n",
       "      <td>0</td>\n",
       "      <td>225000.0</td>\n",
       "      <td>171342.0</td>\n",
       "      <td>NaN</td>\n",
       "      <td>0.0</td>\n",
       "      <td>Credit card</td>\n",
       "      <td>-20</td>\n",
       "      <td>NaN</td>\n",
       "      <td>Payback</td>\n",
       "    </tr>\n",
       "    <tr>\n",
       "      <th>2</th>\n",
       "      <td>215354</td>\n",
       "      <td>5714464</td>\n",
       "      <td>Active</td>\n",
       "      <td>currency 1</td>\n",
       "      <td>-203</td>\n",
       "      <td>0</td>\n",
       "      <td>528.0</td>\n",
       "      <td>NaN</td>\n",
       "      <td>NaN</td>\n",
       "      <td>0</td>\n",
       "      <td>464323.5</td>\n",
       "      <td>NaN</td>\n",
       "      <td>NaN</td>\n",
       "      <td>0.0</td>\n",
       "      <td>Consumer credit</td>\n",
       "      <td>-16</td>\n",
       "      <td>NaN</td>\n",
       "      <td>Payback</td>\n",
       "    </tr>\n",
       "    <tr>\n",
       "      <th>3</th>\n",
       "      <td>215354</td>\n",
       "      <td>5714465</td>\n",
       "      <td>Active</td>\n",
       "      <td>currency 1</td>\n",
       "      <td>-203</td>\n",
       "      <td>0</td>\n",
       "      <td>NaN</td>\n",
       "      <td>NaN</td>\n",
       "      <td>NaN</td>\n",
       "      <td>0</td>\n",
       "      <td>90000.0</td>\n",
       "      <td>NaN</td>\n",
       "      <td>NaN</td>\n",
       "      <td>0.0</td>\n",
       "      <td>Credit card</td>\n",
       "      <td>-16</td>\n",
       "      <td>NaN</td>\n",
       "      <td>Payback</td>\n",
       "    </tr>\n",
       "    <tr>\n",
       "      <th>4</th>\n",
       "      <td>215354</td>\n",
       "      <td>5714466</td>\n",
       "      <td>Active</td>\n",
       "      <td>currency 1</td>\n",
       "      <td>-629</td>\n",
       "      <td>0</td>\n",
       "      <td>1197.0</td>\n",
       "      <td>NaN</td>\n",
       "      <td>77674.5</td>\n",
       "      <td>0</td>\n",
       "      <td>2700000.0</td>\n",
       "      <td>NaN</td>\n",
       "      <td>NaN</td>\n",
       "      <td>0.0</td>\n",
       "      <td>Consumer credit</td>\n",
       "      <td>-21</td>\n",
       "      <td>NaN</td>\n",
       "      <td>Payback</td>\n",
       "    </tr>\n",
       "  </tbody>\n",
       "</table>\n",
       "</div>"
      ],
      "text/plain": [
       "   SK_ID_CURR  SK_ID_BUREAU CREDIT_ACTIVE CREDIT_CURRENCY  DAYS_CREDIT  \\\n",
       "0      215354       5714462        Closed      currency 1         -497   \n",
       "1      215354       5714463        Active      currency 1         -208   \n",
       "2      215354       5714464        Active      currency 1         -203   \n",
       "3      215354       5714465        Active      currency 1         -203   \n",
       "4      215354       5714466        Active      currency 1         -629   \n",
       "\n",
       "   CREDIT_DAY_OVERDUE  DAYS_CREDIT_ENDDATE  DAYS_ENDDATE_FACT  \\\n",
       "0                   0               -153.0             -153.0   \n",
       "1                   0               1075.0                NaN   \n",
       "2                   0                528.0                NaN   \n",
       "3                   0                  NaN                NaN   \n",
       "4                   0               1197.0                NaN   \n",
       "\n",
       "   AMT_CREDIT_MAX_OVERDUE  CNT_CREDIT_PROLONG  AMT_CREDIT_SUM  \\\n",
       "0                     NaN                   0         91323.0   \n",
       "1                     NaN                   0        225000.0   \n",
       "2                     NaN                   0        464323.5   \n",
       "3                     NaN                   0         90000.0   \n",
       "4                 77674.5                   0       2700000.0   \n",
       "\n",
       "   AMT_CREDIT_SUM_DEBT  AMT_CREDIT_SUM_LIMIT  AMT_CREDIT_SUM_OVERDUE  \\\n",
       "0                  0.0                   NaN                     0.0   \n",
       "1             171342.0                   NaN                     0.0   \n",
       "2                  NaN                   NaN                     0.0   \n",
       "3                  NaN                   NaN                     0.0   \n",
       "4                  NaN                   NaN                     0.0   \n",
       "\n",
       "       CREDIT_TYPE  DAYS_CREDIT_UPDATE  AMT_ANNUITY   TARGET  \n",
       "0  Consumer credit                -131          NaN  Payback  \n",
       "1      Credit card                 -20          NaN  Payback  \n",
       "2  Consumer credit                 -16          NaN  Payback  \n",
       "3      Credit card                 -16          NaN  Payback  \n",
       "4  Consumer credit                 -21          NaN  Payback  "
      ]
     },
     "execution_count": 9,
     "metadata": {},
     "output_type": "execute_result"
    }
   ],
   "source": [
    "bureau.head()"
   ]
  },
  {
   "cell_type": "markdown",
   "metadata": {},
   "source": [
    "# Metadaten"
   ]
  },
  {
   "cell_type": "code",
   "execution_count": 10,
   "metadata": {},
   "outputs": [
    {
     "name": "stdout",
     "output_type": "stream",
     "text": [
      "307511\n",
      "263491\n",
      "263491\n",
      "15\n",
      "3\n",
      "12\n"
     ]
    }
   ],
   "source": [
    "SK_APP = np.array(app_train.SK_ID_CURR)\n",
    "SK_B = np.array(bureau.SK_ID_CURR.unique())\n",
    "intersect = np.intersect1d(SK_APP, SK_B)\n",
    "\n",
    "print(len(SK_APP))\n",
    "print(len(SK_B))\n",
    "print(len(intersect))\n",
    "\n",
    "COL = bureau.columns\n",
    "\n",
    "print(len(COL)-3) # - \"SK_ID_CURR, SK_BUREAU, TARGET\"\n",
    "print(len(n.columns))\n",
    "print(len(m.columns))"
   ]
  },
  {
   "cell_type": "markdown",
   "metadata": {},
   "source": [
    "# Datenanalyse"
   ]
  },
  {
   "cell_type": "markdown",
   "metadata": {},
   "source": [
    "### NaN's %"
   ]
  },
  {
   "cell_type": "code",
   "execution_count": 11,
   "metadata": {},
   "outputs": [
    {
     "name": "stdout",
     "output_type": "stream",
     "text": [
      "SK_ID_CURR                     0.0\n",
      "SK_ID_BUREAU                   0.0\n",
      "CREDIT_ACTIVE                  0.0\n",
      "CREDIT_CURRENCY                0.0\n",
      "DAYS_CREDIT                    0.0\n",
      "CREDIT_DAY_OVERDUE             0.0\n",
      "DAYS_CREDIT_ENDDATE            6.08042584409602\n",
      "DAYS_ENDDATE_FACT              37.170798287069424\n",
      "AMT_CREDIT_MAX_OVERDUE         64.73273847098766\n",
      "CNT_CREDIT_PROLONG             0.0\n",
      "AMT_CREDIT_SUM                 0.00020473273847098768\n",
      "AMT_CREDIT_SUM_DEBT            15.224881852148842\n",
      "AMT_CREDIT_SUM_LIMIT           33.417160015696176\n",
      "AMT_CREDIT_SUM_OVERDUE         0.0\n",
      "CREDIT_TYPE                    0.0\n",
      "DAYS_CREDIT_UPDATE             0.0\n",
      "AMT_ANNUITY                    77.11688533260539\n",
      "TARGET                         0.0\n"
     ]
    }
   ],
   "source": [
    "df = bureau\n",
    "for head in df.columns:\n",
    "    rate = df[head].isna().sum() / len(df[head]) * 100\n",
    "    print(\"%-*s %s\" % (30, head, rate))"
   ]
  },
  {
   "cell_type": "code",
   "execution_count": 12,
   "metadata": {},
   "outputs": [
    {
     "data": {
      "text/html": [
       "<div>\n",
       "<style scoped>\n",
       "    .dataframe tbody tr th:only-of-type {\n",
       "        vertical-align: middle;\n",
       "    }\n",
       "\n",
       "    .dataframe tbody tr th {\n",
       "        vertical-align: top;\n",
       "    }\n",
       "\n",
       "    .dataframe thead th {\n",
       "        text-align: right;\n",
       "    }\n",
       "</style>\n",
       "<table border=\"1\" class=\"dataframe\">\n",
       "  <thead>\n",
       "    <tr style=\"text-align: right;\">\n",
       "      <th></th>\n",
       "      <th>Row</th>\n",
       "      <th>Description</th>\n",
       "      <th>Special</th>\n",
       "    </tr>\n",
       "  </thead>\n",
       "  <tbody>\n",
       "    <tr>\n",
       "      <th>125</th>\n",
       "      <td>SK_ID_CURR</td>\n",
       "      <td>ID of loan in our sample - one loan in our sample can have 0,1,2 or more related previous credits in credit bureau</td>\n",
       "      <td>hashed</td>\n",
       "    </tr>\n",
       "    <tr>\n",
       "      <th>126</th>\n",
       "      <td>SK_BUREAU_ID</td>\n",
       "      <td>Recoded ID of previous Credit Bureau credit related to our loan (unique coding for each loan application)</td>\n",
       "      <td>hashed</td>\n",
       "    </tr>\n",
       "    <tr>\n",
       "      <th>127</th>\n",
       "      <td>CREDIT_ACTIVE</td>\n",
       "      <td>Status of the Credit Bureau (CB) reported credits</td>\n",
       "      <td>NaN</td>\n",
       "    </tr>\n",
       "    <tr>\n",
       "      <th>128</th>\n",
       "      <td>CREDIT_CURRENCY</td>\n",
       "      <td>Recoded currency of the Credit Bureau credit</td>\n",
       "      <td>recoded</td>\n",
       "    </tr>\n",
       "    <tr>\n",
       "      <th>129</th>\n",
       "      <td>DAYS_CREDIT</td>\n",
       "      <td>How many days before current application did client apply for Credit Bureau credit</td>\n",
       "      <td>time only relative to the application</td>\n",
       "    </tr>\n",
       "    <tr>\n",
       "      <th>130</th>\n",
       "      <td>CREDIT_DAY_OVERDUE</td>\n",
       "      <td>Number of days past due on CB credit at the time of application for related loan in our sample</td>\n",
       "      <td>NaN</td>\n",
       "    </tr>\n",
       "    <tr>\n",
       "      <th>131</th>\n",
       "      <td>DAYS_CREDIT_ENDDATE</td>\n",
       "      <td>Remaining duration of CB credit (in days) at the time of application in Home Credit</td>\n",
       "      <td>time only relative to the application</td>\n",
       "    </tr>\n",
       "    <tr>\n",
       "      <th>132</th>\n",
       "      <td>DAYS_ENDDATE_FACT</td>\n",
       "      <td>Days since CB credit ended at the time of application in Home Credit (only for closed credit)</td>\n",
       "      <td>time only relative to the application</td>\n",
       "    </tr>\n",
       "    <tr>\n",
       "      <th>133</th>\n",
       "      <td>AMT_CREDIT_MAX_OVERDUE</td>\n",
       "      <td>Maximal amount overdue on the Credit Bureau credit so far (at application date of loan in our sample)</td>\n",
       "      <td>NaN</td>\n",
       "    </tr>\n",
       "    <tr>\n",
       "      <th>134</th>\n",
       "      <td>CNT_CREDIT_PROLONG</td>\n",
       "      <td>How many times was the Credit Bureau credit prolonged</td>\n",
       "      <td>NaN</td>\n",
       "    </tr>\n",
       "    <tr>\n",
       "      <th>135</th>\n",
       "      <td>AMT_CREDIT_SUM</td>\n",
       "      <td>Current credit amount for the Credit Bureau credit</td>\n",
       "      <td>NaN</td>\n",
       "    </tr>\n",
       "    <tr>\n",
       "      <th>136</th>\n",
       "      <td>AMT_CREDIT_SUM_DEBT</td>\n",
       "      <td>Current debt on Credit Bureau credit</td>\n",
       "      <td>NaN</td>\n",
       "    </tr>\n",
       "    <tr>\n",
       "      <th>137</th>\n",
       "      <td>AMT_CREDIT_SUM_LIMIT</td>\n",
       "      <td>Current credit limit of credit card reported in Credit Bureau</td>\n",
       "      <td>NaN</td>\n",
       "    </tr>\n",
       "    <tr>\n",
       "      <th>138</th>\n",
       "      <td>AMT_CREDIT_SUM_OVERDUE</td>\n",
       "      <td>Current amount overdue on Credit Bureau credit</td>\n",
       "      <td>NaN</td>\n",
       "    </tr>\n",
       "    <tr>\n",
       "      <th>139</th>\n",
       "      <td>CREDIT_TYPE</td>\n",
       "      <td>Type of Credit Bureau credit (Car, cash,...)</td>\n",
       "      <td>NaN</td>\n",
       "    </tr>\n",
       "    <tr>\n",
       "      <th>140</th>\n",
       "      <td>DAYS_CREDIT_UPDATE</td>\n",
       "      <td>How many days before loan application did last information about the Credit Bureau credit come</td>\n",
       "      <td>time only relative to the application</td>\n",
       "    </tr>\n",
       "    <tr>\n",
       "      <th>141</th>\n",
       "      <td>AMT_ANNUITY</td>\n",
       "      <td>Annuity of the Credit Bureau credit</td>\n",
       "      <td>NaN</td>\n",
       "    </tr>\n",
       "  </tbody>\n",
       "</table>\n",
       "</div>"
      ],
      "text/plain": [
       "                        Row  \\\n",
       "125              SK_ID_CURR   \n",
       "126            SK_BUREAU_ID   \n",
       "127           CREDIT_ACTIVE   \n",
       "128         CREDIT_CURRENCY   \n",
       "129             DAYS_CREDIT   \n",
       "130      CREDIT_DAY_OVERDUE   \n",
       "131     DAYS_CREDIT_ENDDATE   \n",
       "132       DAYS_ENDDATE_FACT   \n",
       "133  AMT_CREDIT_MAX_OVERDUE   \n",
       "134      CNT_CREDIT_PROLONG   \n",
       "135          AMT_CREDIT_SUM   \n",
       "136     AMT_CREDIT_SUM_DEBT   \n",
       "137    AMT_CREDIT_SUM_LIMIT   \n",
       "138  AMT_CREDIT_SUM_OVERDUE   \n",
       "139             CREDIT_TYPE   \n",
       "140      DAYS_CREDIT_UPDATE   \n",
       "141             AMT_ANNUITY   \n",
       "\n",
       "                                                                                                             Description  \\\n",
       "125  ID of loan in our sample - one loan in our sample can have 0,1,2 or more related previous credits in credit bureau    \n",
       "126            Recoded ID of previous Credit Bureau credit related to our loan (unique coding for each loan application)   \n",
       "127                                                                    Status of the Credit Bureau (CB) reported credits   \n",
       "128                                                                         Recoded currency of the Credit Bureau credit   \n",
       "129                                   How many days before current application did client apply for Credit Bureau credit   \n",
       "130                       Number of days past due on CB credit at the time of application for related loan in our sample   \n",
       "131                                  Remaining duration of CB credit (in days) at the time of application in Home Credit   \n",
       "132                        Days since CB credit ended at the time of application in Home Credit (only for closed credit)   \n",
       "133                Maximal amount overdue on the Credit Bureau credit so far (at application date of loan in our sample)   \n",
       "134                                                                How many times was the Credit Bureau credit prolonged   \n",
       "135                                                                   Current credit amount for the Credit Bureau credit   \n",
       "136                                                                                 Current debt on Credit Bureau credit   \n",
       "137                                                        Current credit limit of credit card reported in Credit Bureau   \n",
       "138                                                                       Current amount overdue on Credit Bureau credit   \n",
       "139                                                                         Type of Credit Bureau credit (Car, cash,...)   \n",
       "140                       How many days before loan application did last information about the Credit Bureau credit come   \n",
       "141                                                                                  Annuity of the Credit Bureau credit   \n",
       "\n",
       "                                   Special  \n",
       "125                                 hashed  \n",
       "126                                 hashed  \n",
       "127                                    NaN  \n",
       "128                                recoded  \n",
       "129  time only relative to the application  \n",
       "130                                    NaN  \n",
       "131  time only relative to the application  \n",
       "132  time only relative to the application  \n",
       "133                                    NaN  \n",
       "134                                    NaN  \n",
       "135                                    NaN  \n",
       "136                                    NaN  \n",
       "137                                    NaN  \n",
       "138                                    NaN  \n",
       "139                                    NaN  \n",
       "140  time only relative to the application  \n",
       "141                                    NaN  "
      ]
     },
     "execution_count": 12,
     "metadata": {},
     "output_type": "execute_result"
    }
   ],
   "source": [
    "description.loc[description['Table']==\"bureau.csv\", \"Row\":\"Special\"]"
   ]
  },
  {
   "cell_type": "markdown",
   "metadata": {},
   "source": [
    "## kategorische Variablen"
   ]
  },
  {
   "cell_type": "code",
   "execution_count": 13,
   "metadata": {},
   "outputs": [
    {
     "data": {
      "text/html": [
       "<div>\n",
       "<style scoped>\n",
       "    .dataframe tbody tr th:only-of-type {\n",
       "        vertical-align: middle;\n",
       "    }\n",
       "\n",
       "    .dataframe tbody tr th {\n",
       "        vertical-align: top;\n",
       "    }\n",
       "\n",
       "    .dataframe thead th {\n",
       "        text-align: right;\n",
       "    }\n",
       "</style>\n",
       "<table border=\"1\" class=\"dataframe\">\n",
       "  <thead>\n",
       "    <tr style=\"text-align: right;\">\n",
       "      <th></th>\n",
       "      <th>CREDIT_ACTIVE</th>\n",
       "      <th>CREDIT_CURRENCY</th>\n",
       "      <th>CREDIT_TYPE</th>\n",
       "    </tr>\n",
       "  </thead>\n",
       "  <tbody>\n",
       "    <tr>\n",
       "      <th>0</th>\n",
       "      <td>Closed</td>\n",
       "      <td>currency 1</td>\n",
       "      <td>Consumer credit</td>\n",
       "    </tr>\n",
       "    <tr>\n",
       "      <th>1</th>\n",
       "      <td>Active</td>\n",
       "      <td>currency 1</td>\n",
       "      <td>Credit card</td>\n",
       "    </tr>\n",
       "    <tr>\n",
       "      <th>2</th>\n",
       "      <td>Active</td>\n",
       "      <td>currency 1</td>\n",
       "      <td>Consumer credit</td>\n",
       "    </tr>\n",
       "    <tr>\n",
       "      <th>3</th>\n",
       "      <td>Active</td>\n",
       "      <td>currency 1</td>\n",
       "      <td>Credit card</td>\n",
       "    </tr>\n",
       "    <tr>\n",
       "      <th>4</th>\n",
       "      <td>Active</td>\n",
       "      <td>currency 1</td>\n",
       "      <td>Consumer credit</td>\n",
       "    </tr>\n",
       "  </tbody>\n",
       "</table>\n",
       "</div>"
      ],
      "text/plain": [
       "  CREDIT_ACTIVE CREDIT_CURRENCY      CREDIT_TYPE\n",
       "0        Closed      currency 1  Consumer credit\n",
       "1        Active      currency 1      Credit card\n",
       "2        Active      currency 1  Consumer credit\n",
       "3        Active      currency 1      Credit card\n",
       "4        Active      currency 1  Consumer credit"
      ]
     },
     "execution_count": 13,
     "metadata": {},
     "output_type": "execute_result"
    }
   ],
   "source": [
    "n.head()"
   ]
  },
  {
   "cell_type": "markdown",
   "metadata": {},
   "source": [
    "Unter den kategorischen Variablen gibt es nur eine bei der sich die Menge der ausfallenden KN von der der Rückzahlenden KN unterscheiden lässt. Dies ist die Menge der aktiven bzw. abgeschlossen Kredite zum Zeitpunkt der Kreditaufnahme."
   ]
  },
  {
   "cell_type": "code",
   "execution_count": 14,
   "metadata": {},
   "outputs": [],
   "source": [
    "result = {\n",
    "    \"head\" : [],\n",
    "    \"cat\" : [],\n",
    "    \"payback\" : [],\n",
    "    \"default\" : [],\n",
    "    \"diff\" : []\n",
    "}\n",
    "\n",
    "for head in n.columns.values:\n",
    "    df1 = payback[head].value_counts().rename_axis(head).reset_index(name='payback').head()\n",
    "    df2 = default[head].value_counts().rename_axis(head).reset_index(name='default').head()\n",
    "    \n",
    "    df1[\"payback\"] = df1[\"payback\"]/df1[\"payback\"].sum()*100\n",
    "    df2[\"default\"] = df2[\"default\"]/df2[\"default\"].sum()*100\n",
    "    \n",
    "    df = df1.merge(df2, how=\"outer\", on=head)\n",
    "    \n",
    "    df[\"diff\"] = (df[\"default\"]-df[\"payback\"])\n",
    "    \n",
    "    df = df.sort_values(\"diff\", ascending=False)\n",
    "    \n",
    "    for diff in df[\"diff\"]:\n",
    "        if np.isnan(diff):\n",
    "            continue\n",
    "        if diff > 5 or diff < -5:\n",
    "            row = df.loc[df[\"diff\"] == diff]\n",
    "            cat = row[head][row[head].index[0]]\n",
    "            \n",
    "            result[\"head\"].append(head)\n",
    "            result[\"cat\"].append(cat)\n",
    "            result[\"payback\"].append(round(row[\"payback\"].values[0],2))\n",
    "            result[\"default\"].append(round(row[\"default\"].values[0],2))\n",
    "            result[\"diff\"].append(round(diff,2))"
   ]
  },
  {
   "cell_type": "code",
   "execution_count": 15,
   "metadata": {},
   "outputs": [
    {
     "data": {
      "text/html": [
       "<div>\n",
       "<style scoped>\n",
       "    .dataframe tbody tr th:only-of-type {\n",
       "        vertical-align: middle;\n",
       "    }\n",
       "\n",
       "    .dataframe tbody tr th {\n",
       "        vertical-align: top;\n",
       "    }\n",
       "\n",
       "    .dataframe thead th {\n",
       "        text-align: right;\n",
       "    }\n",
       "</style>\n",
       "<table border=\"1\" class=\"dataframe\">\n",
       "  <thead>\n",
       "    <tr style=\"text-align: right;\">\n",
       "      <th></th>\n",
       "      <th>head</th>\n",
       "      <th>cat</th>\n",
       "      <th>payback</th>\n",
       "      <th>default</th>\n",
       "      <th>diff</th>\n",
       "    </tr>\n",
       "  </thead>\n",
       "  <tbody>\n",
       "    <tr>\n",
       "      <th>0</th>\n",
       "      <td>CREDIT_ACTIVE</td>\n",
       "      <td>Active</td>\n",
       "      <td>36.39</td>\n",
       "      <td>43.95</td>\n",
       "      <td>7.56</td>\n",
       "    </tr>\n",
       "    <tr>\n",
       "      <th>1</th>\n",
       "      <td>CREDIT_ACTIVE</td>\n",
       "      <td>Closed</td>\n",
       "      <td>63.23</td>\n",
       "      <td>55.54</td>\n",
       "      <td>-7.69</td>\n",
       "    </tr>\n",
       "  </tbody>\n",
       "</table>\n",
       "</div>"
      ],
      "text/plain": [
       "            head     cat  payback  default  diff\n",
       "0  CREDIT_ACTIVE  Active    36.39    43.95  7.56\n",
       "1  CREDIT_ACTIVE  Closed    63.23    55.54 -7.69"
      ]
     },
     "execution_count": 15,
     "metadata": {},
     "output_type": "execute_result"
    }
   ],
   "source": [
    "df = pd.DataFrame(result)\n",
    "df.sort_values(\"diff\", ascending=False)"
   ]
  },
  {
   "cell_type": "markdown",
   "metadata": {},
   "source": [
    "### Credit Active\n",
    "#### Ist ein vergangener Kredit offen oder geschlossen?\n",
    "Default hat häufiger aktive Kredite bei anderen KI.\n",
    "möglicher Grund: größere Geldnot, Kosten erfordern eine höhere Fremdkapitalisierung"
   ]
  },
  {
   "cell_type": "code",
   "execution_count": 16,
   "metadata": {},
   "outputs": [
    {
     "data": {
      "text/markdown": [
       "### Payback"
      ],
      "text/plain": [
       "<IPython.core.display.Markdown object>"
      ]
     },
     "metadata": {},
     "output_type": "display_data"
    },
    {
     "name": "stdout",
     "output_type": "stream",
     "text": [
      "Closed      854124\n",
      "Active      491583\n",
      "Sold          5082\n",
      "Bad debt        16\n",
      "Name: CREDIT_ACTIVE, dtype: int64 \n",
      "\n"
     ]
    },
    {
     "data": {
      "text/markdown": [
       "### Default"
      ],
      "text/plain": [
       "<IPython.core.display.Markdown object>"
      ]
     },
     "metadata": {},
     "output_type": "display_data"
    },
    {
     "name": "stdout",
     "output_type": "stream",
     "text": [
      "Closed      63609\n",
      "Active      50336\n",
      "Sold          571\n",
      "Bad debt        4\n",
      "Name: CREDIT_ACTIVE, dtype: int64 \n",
      "\n"
     ]
    },
    {
     "data": {
      "image/png": "[encoded data removed]",
      "text/plain": [
       "<Figure size 432x288 with 2 Axes>"
      ]
     },
     "metadata": {},
     "output_type": "display_data"
    }
   ],
   "source": [
    "COLUMN_NAME = \"CREDIT_ACTIVE\"\n",
    "TITLE = \"Credit Active\"\n",
    "LABELS = [\"Closed\", \"Active\", \"Rest\"]\n",
    "SIZES_PER = lambda x : x / N\n",
    "\n",
    "count = payback[COLUMN_NAME].value_counts()\n",
    "\n",
    "N = len(payback[COLUMN_NAME])\n",
    "\n",
    "a = count[\"Closed\"]\n",
    "b = count[\"Active\"]\n",
    "c = N - a - b\n",
    "\n",
    "SIZES = [a,b,c]\n",
    "\n",
    "labels1 = LABELS\n",
    "sizes1 = [SIZES_PER(element) for element in SIZES]\n",
    "title1 = TITLE + \" Payback\"\n",
    "\n",
    "display(Markdown(\"### Payback\"))\n",
    "print(count, \"\\n\")\n",
    "\n",
    "count = default[COLUMN_NAME].value_counts()\n",
    "\n",
    "N = len(default[COLUMN_NAME])\n",
    "\n",
    "a = count[\"Closed\"]\n",
    "b = count[\"Active\"]\n",
    "c = N - a - b\n",
    "\n",
    "SIZES = [a,b,c]\n",
    "\n",
    "labels2 = LABELS\n",
    "sizes2 = [SIZES_PER(element) for element in SIZES]\n",
    "title2 = TITLE + \" Default\"\n",
    "\n",
    "display(Markdown(\"### Default\"))\n",
    "print(count, \"\\n\")\n",
    "\n",
    "arguments = [(labels1, sizes1, title1), (labels2, sizes2, title2)]\n",
    "\n",
    "draw_piechart(arguments)"
   ]
  },
  {
   "cell_type": "markdown",
   "metadata": {},
   "source": [
    "# Metrische Daten"
   ]
  },
  {
   "cell_type": "code",
   "execution_count": 17,
   "metadata": {},
   "outputs": [
    {
     "data": {
      "text/html": [
       "<div>\n",
       "<style scoped>\n",
       "    .dataframe tbody tr th:only-of-type {\n",
       "        vertical-align: middle;\n",
       "    }\n",
       "\n",
       "    .dataframe tbody tr th {\n",
       "        vertical-align: top;\n",
       "    }\n",
       "\n",
       "    .dataframe thead th {\n",
       "        text-align: right;\n",
       "    }\n",
       "</style>\n",
       "<table border=\"1\" class=\"dataframe\">\n",
       "  <thead>\n",
       "    <tr style=\"text-align: right;\">\n",
       "      <th></th>\n",
       "      <th>DAYS_CREDIT</th>\n",
       "      <th>CREDIT_DAY_OVERDUE</th>\n",
       "      <th>DAYS_CREDIT_ENDDATE</th>\n",
       "      <th>DAYS_ENDDATE_FACT</th>\n",
       "      <th>AMT_CREDIT_MAX_OVERDUE</th>\n",
       "      <th>CNT_CREDIT_PROLONG</th>\n",
       "      <th>AMT_CREDIT_SUM</th>\n",
       "      <th>AMT_CREDIT_SUM_DEBT</th>\n",
       "      <th>AMT_CREDIT_SUM_LIMIT</th>\n",
       "      <th>AMT_CREDIT_SUM_OVERDUE</th>\n",
       "      <th>DAYS_CREDIT_UPDATE</th>\n",
       "      <th>AMT_ANNUITY</th>\n",
       "    </tr>\n",
       "  </thead>\n",
       "  <tbody>\n",
       "    <tr>\n",
       "      <th>0</th>\n",
       "      <td>-497</td>\n",
       "      <td>0</td>\n",
       "      <td>-153.0</td>\n",
       "      <td>-153.0</td>\n",
       "      <td>NaN</td>\n",
       "      <td>0</td>\n",
       "      <td>91323.0</td>\n",
       "      <td>0.0</td>\n",
       "      <td>NaN</td>\n",
       "      <td>0.0</td>\n",
       "      <td>-131</td>\n",
       "      <td>NaN</td>\n",
       "    </tr>\n",
       "    <tr>\n",
       "      <th>1</th>\n",
       "      <td>-208</td>\n",
       "      <td>0</td>\n",
       "      <td>1075.0</td>\n",
       "      <td>NaN</td>\n",
       "      <td>NaN</td>\n",
       "      <td>0</td>\n",
       "      <td>225000.0</td>\n",
       "      <td>171342.0</td>\n",
       "      <td>NaN</td>\n",
       "      <td>0.0</td>\n",
       "      <td>-20</td>\n",
       "      <td>NaN</td>\n",
       "    </tr>\n",
       "    <tr>\n",
       "      <th>2</th>\n",
       "      <td>-203</td>\n",
       "      <td>0</td>\n",
       "      <td>528.0</td>\n",
       "      <td>NaN</td>\n",
       "      <td>NaN</td>\n",
       "      <td>0</td>\n",
       "      <td>464323.5</td>\n",
       "      <td>NaN</td>\n",
       "      <td>NaN</td>\n",
       "      <td>0.0</td>\n",
       "      <td>-16</td>\n",
       "      <td>NaN</td>\n",
       "    </tr>\n",
       "    <tr>\n",
       "      <th>3</th>\n",
       "      <td>-203</td>\n",
       "      <td>0</td>\n",
       "      <td>NaN</td>\n",
       "      <td>NaN</td>\n",
       "      <td>NaN</td>\n",
       "      <td>0</td>\n",
       "      <td>90000.0</td>\n",
       "      <td>NaN</td>\n",
       "      <td>NaN</td>\n",
       "      <td>0.0</td>\n",
       "      <td>-16</td>\n",
       "      <td>NaN</td>\n",
       "    </tr>\n",
       "    <tr>\n",
       "      <th>4</th>\n",
       "      <td>-629</td>\n",
       "      <td>0</td>\n",
       "      <td>1197.0</td>\n",
       "      <td>NaN</td>\n",
       "      <td>77674.5</td>\n",
       "      <td>0</td>\n",
       "      <td>2700000.0</td>\n",
       "      <td>NaN</td>\n",
       "      <td>NaN</td>\n",
       "      <td>0.0</td>\n",
       "      <td>-21</td>\n",
       "      <td>NaN</td>\n",
       "    </tr>\n",
       "  </tbody>\n",
       "</table>\n",
       "</div>"
      ],
      "text/plain": [
       "   DAYS_CREDIT  CREDIT_DAY_OVERDUE  DAYS_CREDIT_ENDDATE  DAYS_ENDDATE_FACT  \\\n",
       "0         -497                   0               -153.0             -153.0   \n",
       "1         -208                   0               1075.0                NaN   \n",
       "2         -203                   0                528.0                NaN   \n",
       "3         -203                   0                  NaN                NaN   \n",
       "4         -629                   0               1197.0                NaN   \n",
       "\n",
       "   AMT_CREDIT_MAX_OVERDUE  CNT_CREDIT_PROLONG  AMT_CREDIT_SUM  \\\n",
       "0                     NaN                   0         91323.0   \n",
       "1                     NaN                   0        225000.0   \n",
       "2                     NaN                   0        464323.5   \n",
       "3                     NaN                   0         90000.0   \n",
       "4                 77674.5                   0       2700000.0   \n",
       "\n",
       "   AMT_CREDIT_SUM_DEBT  AMT_CREDIT_SUM_LIMIT  AMT_CREDIT_SUM_OVERDUE  \\\n",
       "0                  0.0                   NaN                     0.0   \n",
       "1             171342.0                   NaN                     0.0   \n",
       "2                  NaN                   NaN                     0.0   \n",
       "3                  NaN                   NaN                     0.0   \n",
       "4                  NaN                   NaN                     0.0   \n",
       "\n",
       "   DAYS_CREDIT_UPDATE  AMT_ANNUITY  \n",
       "0                -131          NaN  \n",
       "1                 -20          NaN  \n",
       "2                 -16          NaN  \n",
       "3                 -16          NaN  \n",
       "4                 -21          NaN  "
      ]
     },
     "execution_count": 17,
     "metadata": {},
     "output_type": "execute_result"
    }
   ],
   "source": [
    "m.head()"
   ]
  },
  {
   "cell_type": "code",
   "execution_count": 18,
   "metadata": {},
   "outputs": [],
   "source": [
    "# for head in m.columns:\n",
    "#     print(head)\n",
    "    \n",
    "#     pb = payback[head].copy()\n",
    "#     df = default[head].copy()\n",
    "    \n",
    "#     pb.hist()\n",
    "#     df.hist()\n",
    "#     plt.legend(labels=[\"Payback\",\"Default\"])\n",
    "#     plt.show()\n",
    "\n",
    "#     sns.kdeplot(pb).get_lines()[0].get_data()\n",
    "#     sns.kdeplot(df).get_lines()[1].get_data()\n",
    "#     plt.legend(labels=[\"Payback\",\"Default\"])\n",
    "#     plt.show()"
   ]
  },
  {
   "cell_type": "markdown",
   "metadata": {},
   "source": [
    "### Days Credit\n",
    "#### Vor wie vielen Tagen (Jahren) wurde laut Wirtschaftsprüfungsgesellschaft ein Kredit aufgenommen?\n",
    "Defaults bezogen vor kürzerer Zeit einen Kredit\n",
    "- kurzfristige Zahlungsnot\n",
    "- Unerfahrene Kreditnehmer"
   ]
  },
  {
   "cell_type": "code",
   "execution_count": 43,
   "metadata": {},
   "outputs": [
    {
     "data": {
      "image/png": "[encoded data removed]",
      "text/plain": [
       "<Figure size 432x288 with 1 Axes>"
      ]
     },
     "metadata": {
      "needs_background": "light"
     },
     "output_type": "display_data"
    },
    {
     "data": {
      "image/png": "[encoded data removed]",
      "text/plain": [
       "<Figure size 432x288 with 1 Axes>"
      ]
     },
     "metadata": {
      "needs_background": "light"
     },
     "output_type": "display_data"
    }
   ],
   "source": [
    "head = \"DAYS_CREDIT\"\n",
    "\n",
    "pb = payback[head].copy()\n",
    "df = default[head].copy()\n",
    "\n",
    "pb /= -365\n",
    "df /= -365\n",
    "\n",
    "pb.hist()\n",
    "df.hist()\n",
    "plt.title(head)\n",
    "plt.legend(labels=[\"Payback\",\"Default\"])\n",
    "plt.xlabel(\"Kreditdauer in Jahren\")\n",
    "plt.ylabel(\"# Kreditnehmer\")\n",
    "plt.show()\n",
    "\n",
    "sns.kdeplot(pb).get_lines()[0].get_data()\n",
    "sns.kdeplot(df).get_lines()[1].get_data()\n",
    "plt.legend(labels=[\"Payback\",\"Default\"])\n",
    "plt.xlabel(\"Kreditdauer in Jahren\")\n",
    "plt.ylabel(\"# Kreditnehmer\")\n",
    "plt.show()"
   ]
  },
  {
   "cell_type": "code",
   "execution_count": 20,
   "metadata": {},
   "outputs": [
    {
     "data": {
      "text/markdown": [
       "### Payback"
      ],
      "text/plain": [
       "<IPython.core.display.Markdown object>"
      ]
     },
     "metadata": {},
     "output_type": "display_data"
    },
    {
     "name": "stdout",
     "output_type": "stream",
     "text": [
      "3.1724363103016247 \n",
      "\n"
     ]
    },
    {
     "data": {
      "text/markdown": [
       "### Default"
      ],
      "text/plain": [
       "<IPython.core.display.Markdown object>"
      ]
     },
     "metadata": {},
     "output_type": "display_data"
    },
    {
     "name": "stdout",
     "output_type": "stream",
     "text": [
      "2.669776960655314\n"
     ]
    }
   ],
   "source": [
    "display(Markdown(\"### Payback\"))\n",
    "pb = payback[\"DAYS_CREDIT\"].mean()\n",
    "pb /= -365\n",
    "print(pb, \"\\n\")\n",
    "\n",
    "display(Markdown(\"### Default\"))\n",
    "df = default[\"DAYS_CREDIT\"].mean()\n",
    "df /= -365\n",
    "print(df)"
   ]
  },
  {
   "cell_type": "markdown",
   "metadata": {},
   "source": [
    "Zurückzahlende Kunden bezogen bereits durchschnittlich 3.17 Jahre zuvor einen anderen Kredit.\n",
    "\n",
    "Ausfallende Kunden bezogen bereits durchschnittlich 2.67 Jahre zuvor einen anderen Kredit."
   ]
  },
  {
   "cell_type": "markdown",
   "metadata": {},
   "source": [
    "### Credit Days Overdue\n",
    "#### Wie viele Tage (Jahre) hat ein Kreditnehmer Kredite überzogen?\n",
    "\n",
    "Dichtefunktion zeigt geringe Unterscheidungsfähigkeit anhand des Parameters. -> eher streichen\n",
    "\n",
    "In der Vergangenheit haben Paybacks deutlich häufiger Kredite überzogen.\n",
    "Gründe:\n",
    "- größeres Vertrauen\n",
    "- längere Kredithistorie"
   ]
  },
  {
   "cell_type": "code",
   "execution_count": 44,
   "metadata": {},
   "outputs": [
    {
     "data": {
      "image/png": "[encoded data removed]",
      "text/plain": [
       "<Figure size 432x288 with 1 Axes>"
      ]
     },
     "metadata": {
      "needs_background": "light"
     },
     "output_type": "display_data"
    },
    {
     "data": {
      "image/png": "[encoded data removed]",
      "text/plain": [
       "<Figure size 432x288 with 1 Axes>"
      ]
     },
     "metadata": {
      "needs_background": "light"
     },
     "output_type": "display_data"
    }
   ],
   "source": [
    "head = \"CREDIT_DAY_OVERDUE\"\n",
    "\n",
    "pb = payback[payback[\"CREDIT_DAY_OVERDUE\"] > 0][\"CREDIT_DAY_OVERDUE\"].copy()\n",
    "df = default[default[\"CREDIT_DAY_OVERDUE\"] > 0][\"CREDIT_DAY_OVERDUE\"].copy()\n",
    "\n",
    "pb /= 365\n",
    "df /= 365\n",
    "\n",
    "pb.hist()\n",
    "df.hist()\n",
    "plt.title(head)\n",
    "plt.legend(labels=[\"Payback\",\"Default\"])\n",
    "plt.xlabel(\"Dauer Zahlungsrückstand in Jahren\")\n",
    "plt.ylabel(\"# Kreditnehmer\")\n",
    "plt.show()\n",
    "\n",
    "sns.kdeplot(pb).get_lines()[0].get_data()\n",
    "sns.kdeplot(df).get_lines()[1].get_data()\n",
    "plt.legend(labels=[\"Payback\",\"Default\"])\n",
    "plt.xlabel(\"Dauer Zahlungsrückstand in Jahren\")\n",
    "plt.ylabel(\"# Kreditnehmer\")\n",
    "plt.show()"
   ]
  },
  {
   "cell_type": "code",
   "execution_count": 30,
   "metadata": {},
   "outputs": [
    {
     "data": {
      "text/markdown": [
       "### Payback"
      ],
      "text/plain": [
       "<IPython.core.display.Markdown object>"
      ]
     },
     "metadata": {},
     "output_type": "display_data"
    },
    {
     "name": "stdout",
     "output_type": "stream",
     "text": [
      "1.049114402317604 \n",
      "\n"
     ]
    },
    {
     "data": {
      "text/markdown": [
       "### Default"
      ],
      "text/plain": [
       "<IPython.core.display.Markdown object>"
      ]
     },
     "metadata": {},
     "output_type": "display_data"
    },
    {
     "name": "stdout",
     "output_type": "stream",
     "text": [
      "0.5750299340436327\n"
     ]
    }
   ],
   "source": [
    "display(Markdown(\"### Payback\"))\n",
    "print(pb.mean(), \"\\n\")\n",
    "\n",
    "display(Markdown(\"### Default\"))\n",
    "print(df.mean())"
   ]
  },
  {
   "cell_type": "markdown",
   "metadata": {},
   "source": [
    "In der Vergangenheit überzogen zurückzahlende Kreditnehmer ihre Kredite um 1.049 Jahre.\n",
    "\n",
    "In der Vergangenheit überzogen ausfallende Kreditnehmer ihre Kredite um 0.57 Jahre."
   ]
  },
  {
   "cell_type": "markdown",
   "metadata": {},
   "source": [
    "### Credit Sum"
   ]
  },
  {
   "cell_type": "code",
   "execution_count": 47,
   "metadata": {},
   "outputs": [
    {
     "data": {
      "image/png": "[encoded data removed]",
      "text/plain": [
       "<Figure size 432x288 with 1 Axes>"
      ]
     },
     "metadata": {
      "needs_background": "light"
     },
     "output_type": "display_data"
    },
    {
     "data": {
      "image/png": "[encoded data removed]",
      "text/plain": [
       "<Figure size 432x288 with 1 Axes>"
      ]
     },
     "metadata": {
      "needs_background": "light"
     },
     "output_type": "display_data"
    }
   ],
   "source": [
    "head = \"AMT_CREDIT_SUM_DEBT\"\n",
    "\n",
    "pb = payback[payback[\"AMT_CREDIT_SUM_DEBT\"] > 0][\"AMT_CREDIT_SUM_DEBT\"].copy()\n",
    "df = default[default[\"AMT_CREDIT_SUM_DEBT\"] > 0][\"AMT_CREDIT_SUM_DEBT\"].copy()\n",
    "\n",
    "pb = pb[pb < pb.quantile(0.95)]\n",
    "df = df[df < df.quantile(0.95)]\n",
    "\n",
    "pb.hist()\n",
    "df.hist()\n",
    "\n",
    "plt.title(head)\n",
    "plt.legend(labels=[\"Payback\",\"Default\"])\n",
    "plt.xlabel(\"Kreditschulden in Mio Währungseinheiten\")\n",
    "plt.ylabel(\"# Kreditnehmer\")\n",
    "plt.show()\n",
    "\n",
    "sns.kdeplot(pb).get_lines()[0].get_data()\n",
    "sns.kdeplot(df).get_lines()[1].get_data()\n",
    "plt.legend(labels=[\"Payback\",\"Default\"])\n",
    "plt.xlabel(\"Kreditschulden in Mio Währungseinheiten\")\n",
    "plt.ylabel(\"# Kreditnehmer\")\n",
    "plt.show()"
   ]
  },
  {
   "cell_type": "code",
   "execution_count": 41,
   "metadata": {},
   "outputs": [
    {
     "data": {
      "text/markdown": [
       "### Payback"
      ],
      "text/plain": [
       "<IPython.core.display.Markdown object>"
      ]
     },
     "metadata": {},
     "output_type": "display_data"
    },
    {
     "name": "stdout",
     "output_type": "stream",
     "text": [
      "276368.93401490327 \n",
      "\n"
     ]
    },
    {
     "data": {
      "text/markdown": [
       "### Default"
      ],
      "text/plain": [
       "<IPython.core.display.Markdown object>"
      ]
     },
     "metadata": {},
     "output_type": "display_data"
    },
    {
     "name": "stdout",
     "output_type": "stream",
     "text": [
      "251536.23515745392\n"
     ]
    }
   ],
   "source": [
    "display(Markdown(\"### Payback\"))\n",
    "print(pb.mean(), \"\\n\")\n",
    "\n",
    "display(Markdown(\"### Default\"))\n",
    "print(df.mean())"
   ]
  },
  {
   "cell_type": "markdown",
   "metadata": {},
   "source": [
    "Zurückzahlende Kunden haben durchschnittlich Finanzmittel aus anderen Krediten in Höhe von 465.329,86.\n",
    "\n",
    "Ausfallende Kunden haben durchschnittlich Finanzmittel aus anderen Krediten in Höhe von 384.614,61."
   ]
  }
 ],
 "metadata": {
  "kernelspec": {
   "display_name": "Python 3",
   "language": "python",
   "name": "python3"
  },
  "language_info": {
   "codemirror_mode": {
    "name": "ipython",
    "version": 3
   },
   "file_extension": ".py",
   "mimetype": "text/x-python",
   "name": "python",
   "nbconvert_exporter": "python",
   "pygments_lexer": "ipython3",
   "version": "3.8.7"
  }
 },
 "nbformat": 4,
 "nbformat_minor": 4
}
