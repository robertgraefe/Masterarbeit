{
 "cells": [
  {
   "cell_type": "markdown",
   "metadata": {},
   "source": [
    "## Datenanalyse Application\n",
    "\n",
    "Dieses Dokument dient zur Einarbeitung in die Datensätze Application Train & Application Test. Diese Datensätze enthalten Stammdaten über die Kreditnehmer.\n",
    "Ziel ist es ein Verständnis der einzelnen Attribute zu erlangen und ein Gefühl für deren Zusammenspiel zu gewinnen. Weiterhin sollen fehlerhafte Daten identifiziert werden.\n",
    "\n",
    "### Vorbereitung: Import benötigter Bibliotheken & Einlesen der Daten"
   ]
  },
  {
   "cell_type": "code",
   "execution_count": 1,
   "metadata": {},
   "outputs": [],
   "source": [
    "from pathlib import Path\n",
    "from scipy import stats\n",
    "\n",
    "import matplotlib.pyplot as plt\n",
    "import pandas as pd\n",
    "import numpy as np\n",
    "import seaborn as sns\n",
    "\n",
    "np.set_printoptions(suppress=True)\n",
    "\n",
    "pd.options.display.max_columns = None\n",
    "pd.options.display.max_rows = None\n",
    "pd.options.display.max_colwidth = None\n",
    "\n",
    "from IPython.display import display, Markdown\n",
    "\n",
    "# siehe Hilfscode.py\n",
    "from Hilfscode import draw_piechart\n",
    "from Hilfscode import cat_compare\n",
    "from Hilfscode import lorenz"
   ]
  },
  {
   "cell_type": "code",
   "execution_count": 2,
   "metadata": {},
   "outputs": [],
   "source": [
    "path1 = Path(r\"A:\\Workspace\\Python\\Masterarbeit\\Kaggle Home Credit Datensatz\")\n",
    "path2 = Path(r\"C:\\Users\\rober\\Documents\\Workspace\\Python\\Masterarbeit\\Kaggle Home Credit Datensatz\")\n",
    "\n",
    "if path1.is_dir():\n",
    "    DATASET_DIR = path1\n",
    "else:\n",
    "    DATASET_DIR = path2"
   ]
  },
  {
   "cell_type": "code",
   "execution_count": 3,
   "metadata": {},
   "outputs": [],
   "source": [
    "app_test = pd.read_csv(DATASET_DIR / \"application_test.csv\")\n",
    "app_train = pd.read_csv(DATASET_DIR / \"application_train.csv\")\n",
    "\n",
    "description = pd.read_csv(DATASET_DIR / \"HomeCredit_columns_description.csv\", encoding=\"latin\", index_col=0)"
   ]
  },
  {
   "cell_type": "markdown",
   "metadata": {},
   "source": [
    "### Beschreibungen der Attribute untergliedert nach den gegebenen CSV-Dateien"
   ]
  },
  {
   "cell_type": "code",
   "execution_count": 4,
   "metadata": {},
   "outputs": [],
   "source": [
    "des = description.loc[description['Table']==\"application_{train|test}.csv\", \"Row\":\"Special\"]"
   ]
  },
  {
   "cell_type": "markdown",
   "metadata": {},
   "source": [
    "### Anpassung der numerischen Kategorien"
   ]
  },
  {
   "cell_type": "code",
   "execution_count": 5,
   "metadata": {},
   "outputs": [],
   "source": [
    "app_train[\"TARGET\"].replace(\n",
    "    {\n",
    "        0: \"Payback\",\n",
    "        1: \"Default\"\n",
    "    }, inplace = True\n",
    ")"
   ]
  },
  {
   "cell_type": "markdown",
   "metadata": {},
   "source": [
    "## Untersuchung Application-Train & Application-Test\n",
    "### Erstellung von Subklassen"
   ]
  },
  {
   "cell_type": "markdown",
   "metadata": {},
   "source": [
    "* payback = Kreditnehmer die ihren Kredit zurückzahlten\n",
    "* default = Kreditnehmer die ihren Kredit nicht zurückzahlten\n",
    "* n = nominale Daten\n",
    "* m = metrische Daten\n",
    "* md = diskrete metrische Daten\n",
    "* mdp = diskrete metrische Daten der Kreditnehmer die ihren Kredit zurückzahlten\n",
    "* mdd = diskrete metrische Daten der Kreditnehmer die ihren Kredit nicht zurückzahlten\n",
    "* ms = stetige metrische Daten\n",
    "* msp = stetige metrische Daten der Kreditnehmer die ihren Kredit zurückzahlten\n",
    "* msd = stetige metrische Daten der Kreditnehmer die ihren Kredit nicht zurückzahlten"
   ]
  },
  {
   "cell_type": "code",
   "execution_count": 6,
   "metadata": {},
   "outputs": [],
   "source": [
    "n_heads = ['TARGET', 'NAME_CONTRACT_TYPE', 'CODE_GENDER', 'FLAG_OWN_CAR', 'FLAG_OWN_REALTY', 'NAME_TYPE_SUITE', 'NAME_INCOME_TYPE', 'NAME_EDUCATION_TYPE', 'NAME_FAMILY_STATUS', 'NAME_HOUSING_TYPE', 'FLAG_MOBIL', 'FLAG_EMP_PHONE', 'FLAG_WORK_PHONE', 'FLAG_CONT_MOBILE', 'FLAG_PHONE', 'FLAG_EMAIL', 'OCCUPATION_TYPE', 'REGION_RATING_CLIENT', 'REGION_RATING_CLIENT_W_CITY', 'WEEKDAY_APPR_PROCESS_START', 'REG_REGION_NOT_LIVE_REGION', 'REG_REGION_NOT_WORK_REGION', 'LIVE_REGION_NOT_WORK_REGION', 'REG_CITY_NOT_LIVE_CITY', 'REG_CITY_NOT_WORK_CITY', 'LIVE_CITY_NOT_WORK_CITY', 'ORGANIZATION_TYPE', 'FONDKAPREMONT_MODE', 'HOUSETYPE_MODE', 'WALLSMATERIAL_MODE', 'EMERGENCYSTATE_MODE', 'FLAG_DOCUMENT_2', 'FLAG_DOCUMENT_3', 'FLAG_DOCUMENT_4', 'FLAG_DOCUMENT_5', 'FLAG_DOCUMENT_6', 'FLAG_DOCUMENT_7', 'FLAG_DOCUMENT_8', 'FLAG_DOCUMENT_9', 'FLAG_DOCUMENT_10', 'FLAG_DOCUMENT_11', 'FLAG_DOCUMENT_12', 'FLAG_DOCUMENT_13', 'FLAG_DOCUMENT_14', 'FLAG_DOCUMENT_15', 'FLAG_DOCUMENT_16', 'FLAG_DOCUMENT_17', 'FLAG_DOCUMENT_18', 'FLAG_DOCUMENT_19', 'FLAG_DOCUMENT_20', 'FLAG_DOCUMENT_21']\n",
    "m_heads = ['CNT_CHILDREN','AMT_INCOME_TOTAL', 'AMT_CREDIT', 'AMT_ANNUITY', 'AMT_GOODS_PRICE', 'REGION_POPULATION_RELATIVE', 'DAYS_BIRTH', 'DAYS_EMPLOYED', 'DAYS_REGISTRATION', 'DAYS_ID_PUBLISH', 'OWN_CAR_AGE', 'CNT_FAM_MEMBERS', 'HOUR_APPR_PROCESS_START', 'EXT_SOURCE_1', 'EXT_SOURCE_2', 'EXT_SOURCE_3', 'APARTMENTS_AVG', 'BASEMENTAREA_AVG', 'YEARS_BEGINEXPLUATATION_AVG', 'YEARS_BUILD_AVG', 'COMMONAREA_AVG', 'ELEVATORS_AVG', 'ENTRANCES_AVG', 'FLOORSMAX_AVG', 'FLOORSMIN_AVG', 'LANDAREA_AVG', 'LIVINGAPARTMENTS_AVG', 'LIVINGAREA_AVG', 'NONLIVINGAPARTMENTS_AVG', 'NONLIVINGAREA_AVG', 'APARTMENTS_MODE', 'BASEMENTAREA_MODE', 'YEARS_BEGINEXPLUATATION_MODE', 'YEARS_BUILD_MODE', 'COMMONAREA_MODE', 'ELEVATORS_MODE', 'ENTRANCES_MODE', 'FLOORSMAX_MODE', 'FLOORSMIN_MODE', 'LANDAREA_MODE', 'LIVINGAPARTMENTS_MODE', 'LIVINGAREA_MODE', 'NONLIVINGAPARTMENTS_MODE', 'NONLIVINGAREA_MODE', 'APARTMENTS_MEDI', 'BASEMENTAREA_MEDI', 'YEARS_BEGINEXPLUATATION_MEDI', 'YEARS_BUILD_MEDI', 'COMMONAREA_MEDI', 'ELEVATORS_MEDI', 'ENTRANCES_MEDI', 'FLOORSMAX_MEDI', 'FLOORSMIN_MEDI', 'LANDAREA_MEDI', 'LIVINGAPARTMENTS_MEDI', 'LIVINGAREA_MEDI', 'NONLIVINGAPARTMENTS_MEDI', 'NONLIVINGAREA_MEDI', 'TOTALAREA_MODE', 'OBS_30_CNT_SOCIAL_CIRCLE', 'DEF_30_CNT_SOCIAL_CIRCLE', 'OBS_60_CNT_SOCIAL_CIRCLE', 'DEF_60_CNT_SOCIAL_CIRCLE', 'DAYS_LAST_PHONE_CHANGE', 'AMT_REQ_CREDIT_BUREAU_HOUR', 'AMT_REQ_CREDIT_BUREAU_DAY', 'AMT_REQ_CREDIT_BUREAU_WEEK', 'AMT_REQ_CREDIT_BUREAU_MON', 'AMT_REQ_CREDIT_BUREAU_QRT', 'AMT_REQ_CREDIT_BUREAU_YEAR']\n",
    "md_heads = ['CNT_CHILDREN', \"CNT_FAM_MEMBERS\",\"HOUR_APPR_PROCESS_START\", \"OBS_30_CNT_SOCIAL_CIRCLE\",\"DEF_30_CNT_SOCIAL_CIRCLE\", \"OBS_60_CNT_SOCIAL_CIRCLE\", \"DEF_60_CNT_SOCIAL_CIRCLE\",\"AMT_REQ_CREDIT_BUREAU_HOUR\",\"AMT_REQ_CREDIT_BUREAU_DAY\",\"AMT_REQ_CREDIT_BUREAU_WEEK\",\"AMT_REQ_CREDIT_BUREAU_MON\",\"AMT_REQ_CREDIT_BUREAU_QRT\",\"AMT_REQ_CREDIT_BUREAU_YEAR\"]\n",
    "ms_heads = [head for head in m_heads if head not in md_heads]"
   ]
  },
  {
   "cell_type": "code",
   "execution_count": 7,
   "metadata": {},
   "outputs": [],
   "source": [
    "payback = app_train[app_train[\"TARGET\"] == \"Payback\"]\n",
    "default = app_train[app_train[\"TARGET\"] == \"Default\"]\n",
    "\n",
    "m = app_train[m_heads]\n",
    "n = app_train[n_heads]\n",
    "\n",
    "md = m[md_heads]\n",
    "mdp = md[app_train[\"TARGET\"] == \"Payback\"]\n",
    "mdd = md[app_train[\"TARGET\"] == \"Default\"]\n",
    "\n",
    "ms = m[ms_heads]\n",
    "msp = ms[app_train[\"TARGET\"] == \"Payback\"]\n",
    "msd = ms[app_train[\"TARGET\"] == \"Default\"]"
   ]
  },
  {
   "cell_type": "markdown",
   "metadata": {},
   "source": [
    "## Untersuchung der Kreditnehmer - Payback vs. Default\n",
    "\n",
    "Im Datensatz befinden sich 91,9% zurückzahlende Kreditnehmer."
   ]
  },
  {
   "cell_type": "code",
   "execution_count": 8,
   "metadata": {},
   "outputs": [
    {
     "data": {
      "image/png": "[encoded data removed]",
      "text/plain": [
       "<Figure size 432x288 with 1 Axes>"
      ]
     },
     "metadata": {},
     "output_type": "display_data"
    }
   ],
   "source": [
    "pb = len(payback.index)\n",
    "df = len(default.index)\n",
    "N = pb + df\n",
    "\n",
    "labels = \"Payback\", \"Default\"\n",
    "sizes = [pb/N,df/N]\n",
    "title = \"Payback vs Default\"\n",
    "\n",
    "arguments = [(labels, sizes, title)]\n",
    "draw_piechart(arguments)"
   ]
  },
  {
   "cell_type": "code",
   "execution_count": 20,
   "metadata": {},
   "outputs": [
    {
     "data": {
      "text/html": [
       "<div>\n",
       "<style scoped>\n",
       "    .dataframe tbody tr th:only-of-type {\n",
       "        vertical-align: middle;\n",
       "    }\n",
       "\n",
       "    .dataframe tbody tr th {\n",
       "        vertical-align: top;\n",
       "    }\n",
       "\n",
       "    .dataframe thead th {\n",
       "        text-align: right;\n",
       "    }\n",
       "</style>\n",
       "<table border=\"1\" class=\"dataframe\">\n",
       "  <thead>\n",
       "    <tr style=\"text-align: right;\">\n",
       "      <th></th>\n",
       "      <th>TARGET</th>\n",
       "      <th>NAME_CONTRACT_TYPE</th>\n",
       "      <th>CODE_GENDER</th>\n",
       "      <th>FLAG_OWN_CAR</th>\n",
       "      <th>FLAG_OWN_REALTY</th>\n",
       "      <th>NAME_TYPE_SUITE</th>\n",
       "      <th>NAME_INCOME_TYPE</th>\n",
       "      <th>NAME_EDUCATION_TYPE</th>\n",
       "      <th>NAME_FAMILY_STATUS</th>\n",
       "      <th>NAME_HOUSING_TYPE</th>\n",
       "      <th>FLAG_MOBIL</th>\n",
       "      <th>FLAG_EMP_PHONE</th>\n",
       "      <th>FLAG_WORK_PHONE</th>\n",
       "      <th>FLAG_CONT_MOBILE</th>\n",
       "      <th>FLAG_PHONE</th>\n",
       "      <th>FLAG_EMAIL</th>\n",
       "      <th>OCCUPATION_TYPE</th>\n",
       "      <th>REGION_RATING_CLIENT</th>\n",
       "      <th>REGION_RATING_CLIENT_W_CITY</th>\n",
       "      <th>WEEKDAY_APPR_PROCESS_START</th>\n",
       "      <th>REG_REGION_NOT_LIVE_REGION</th>\n",
       "      <th>REG_REGION_NOT_WORK_REGION</th>\n",
       "      <th>LIVE_REGION_NOT_WORK_REGION</th>\n",
       "      <th>REG_CITY_NOT_LIVE_CITY</th>\n",
       "      <th>REG_CITY_NOT_WORK_CITY</th>\n",
       "      <th>LIVE_CITY_NOT_WORK_CITY</th>\n",
       "      <th>ORGANIZATION_TYPE</th>\n",
       "      <th>FONDKAPREMONT_MODE</th>\n",
       "      <th>HOUSETYPE_MODE</th>\n",
       "      <th>WALLSMATERIAL_MODE</th>\n",
       "      <th>EMERGENCYSTATE_MODE</th>\n",
       "      <th>FLAG_DOCUMENT_2</th>\n",
       "      <th>FLAG_DOCUMENT_3</th>\n",
       "      <th>FLAG_DOCUMENT_4</th>\n",
       "      <th>FLAG_DOCUMENT_5</th>\n",
       "      <th>FLAG_DOCUMENT_6</th>\n",
       "      <th>FLAG_DOCUMENT_7</th>\n",
       "      <th>FLAG_DOCUMENT_8</th>\n",
       "      <th>FLAG_DOCUMENT_9</th>\n",
       "      <th>FLAG_DOCUMENT_10</th>\n",
       "      <th>FLAG_DOCUMENT_11</th>\n",
       "      <th>FLAG_DOCUMENT_12</th>\n",
       "      <th>FLAG_DOCUMENT_13</th>\n",
       "      <th>FLAG_DOCUMENT_14</th>\n",
       "      <th>FLAG_DOCUMENT_15</th>\n",
       "      <th>FLAG_DOCUMENT_16</th>\n",
       "      <th>FLAG_DOCUMENT_17</th>\n",
       "      <th>FLAG_DOCUMENT_18</th>\n",
       "      <th>FLAG_DOCUMENT_19</th>\n",
       "      <th>FLAG_DOCUMENT_20</th>\n",
       "      <th>FLAG_DOCUMENT_21</th>\n",
       "    </tr>\n",
       "  </thead>\n",
       "  <tbody>\n",
       "    <tr>\n",
       "      <th>0</th>\n",
       "      <td>Default</td>\n",
       "      <td>Cash loans</td>\n",
       "      <td>M</td>\n",
       "      <td>N</td>\n",
       "      <td>Y</td>\n",
       "      <td>Unaccompanied</td>\n",
       "      <td>Working</td>\n",
       "      <td>Secondary / secondary special</td>\n",
       "      <td>Single / not married</td>\n",
       "      <td>House / apartment</td>\n",
       "      <td>1</td>\n",
       "      <td>1</td>\n",
       "      <td>0</td>\n",
       "      <td>1</td>\n",
       "      <td>1</td>\n",
       "      <td>0</td>\n",
       "      <td>Laborers</td>\n",
       "      <td>2</td>\n",
       "      <td>2</td>\n",
       "      <td>WEDNESDAY</td>\n",
       "      <td>0</td>\n",
       "      <td>0</td>\n",
       "      <td>0</td>\n",
       "      <td>0</td>\n",
       "      <td>0</td>\n",
       "      <td>0</td>\n",
       "      <td>Business Entity Type 3</td>\n",
       "      <td>reg oper account</td>\n",
       "      <td>block of flats</td>\n",
       "      <td>Stone, brick</td>\n",
       "      <td>No</td>\n",
       "      <td>0</td>\n",
       "      <td>1</td>\n",
       "      <td>0</td>\n",
       "      <td>0</td>\n",
       "      <td>0</td>\n",
       "      <td>0</td>\n",
       "      <td>0</td>\n",
       "      <td>0</td>\n",
       "      <td>0</td>\n",
       "      <td>0</td>\n",
       "      <td>0</td>\n",
       "      <td>0</td>\n",
       "      <td>0</td>\n",
       "      <td>0</td>\n",
       "      <td>0</td>\n",
       "      <td>0</td>\n",
       "      <td>0</td>\n",
       "      <td>0</td>\n",
       "      <td>0</td>\n",
       "      <td>0</td>\n",
       "    </tr>\n",
       "    <tr>\n",
       "      <th>1</th>\n",
       "      <td>Payback</td>\n",
       "      <td>Cash loans</td>\n",
       "      <td>F</td>\n",
       "      <td>N</td>\n",
       "      <td>N</td>\n",
       "      <td>Family</td>\n",
       "      <td>State servant</td>\n",
       "      <td>Higher education</td>\n",
       "      <td>Married</td>\n",
       "      <td>House / apartment</td>\n",
       "      <td>1</td>\n",
       "      <td>1</td>\n",
       "      <td>0</td>\n",
       "      <td>1</td>\n",
       "      <td>1</td>\n",
       "      <td>0</td>\n",
       "      <td>Core staff</td>\n",
       "      <td>1</td>\n",
       "      <td>1</td>\n",
       "      <td>MONDAY</td>\n",
       "      <td>0</td>\n",
       "      <td>0</td>\n",
       "      <td>0</td>\n",
       "      <td>0</td>\n",
       "      <td>0</td>\n",
       "      <td>0</td>\n",
       "      <td>School</td>\n",
       "      <td>reg oper account</td>\n",
       "      <td>block of flats</td>\n",
       "      <td>Block</td>\n",
       "      <td>No</td>\n",
       "      <td>0</td>\n",
       "      <td>1</td>\n",
       "      <td>0</td>\n",
       "      <td>0</td>\n",
       "      <td>0</td>\n",
       "      <td>0</td>\n",
       "      <td>0</td>\n",
       "      <td>0</td>\n",
       "      <td>0</td>\n",
       "      <td>0</td>\n",
       "      <td>0</td>\n",
       "      <td>0</td>\n",
       "      <td>0</td>\n",
       "      <td>0</td>\n",
       "      <td>0</td>\n",
       "      <td>0</td>\n",
       "      <td>0</td>\n",
       "      <td>0</td>\n",
       "      <td>0</td>\n",
       "      <td>0</td>\n",
       "    </tr>\n",
       "    <tr>\n",
       "      <th>2</th>\n",
       "      <td>Payback</td>\n",
       "      <td>Revolving loans</td>\n",
       "      <td>M</td>\n",
       "      <td>Y</td>\n",
       "      <td>Y</td>\n",
       "      <td>Unaccompanied</td>\n",
       "      <td>Working</td>\n",
       "      <td>Secondary / secondary special</td>\n",
       "      <td>Single / not married</td>\n",
       "      <td>House / apartment</td>\n",
       "      <td>1</td>\n",
       "      <td>1</td>\n",
       "      <td>1</td>\n",
       "      <td>1</td>\n",
       "      <td>1</td>\n",
       "      <td>0</td>\n",
       "      <td>Laborers</td>\n",
       "      <td>2</td>\n",
       "      <td>2</td>\n",
       "      <td>MONDAY</td>\n",
       "      <td>0</td>\n",
       "      <td>0</td>\n",
       "      <td>0</td>\n",
       "      <td>0</td>\n",
       "      <td>0</td>\n",
       "      <td>0</td>\n",
       "      <td>Government</td>\n",
       "      <td>NaN</td>\n",
       "      <td>NaN</td>\n",
       "      <td>NaN</td>\n",
       "      <td>NaN</td>\n",
       "      <td>0</td>\n",
       "      <td>0</td>\n",
       "      <td>0</td>\n",
       "      <td>0</td>\n",
       "      <td>0</td>\n",
       "      <td>0</td>\n",
       "      <td>0</td>\n",
       "      <td>0</td>\n",
       "      <td>0</td>\n",
       "      <td>0</td>\n",
       "      <td>0</td>\n",
       "      <td>0</td>\n",
       "      <td>0</td>\n",
       "      <td>0</td>\n",
       "      <td>0</td>\n",
       "      <td>0</td>\n",
       "      <td>0</td>\n",
       "      <td>0</td>\n",
       "      <td>0</td>\n",
       "      <td>0</td>\n",
       "    </tr>\n",
       "    <tr>\n",
       "      <th>3</th>\n",
       "      <td>Payback</td>\n",
       "      <td>Cash loans</td>\n",
       "      <td>F</td>\n",
       "      <td>N</td>\n",
       "      <td>Y</td>\n",
       "      <td>Unaccompanied</td>\n",
       "      <td>Working</td>\n",
       "      <td>Secondary / secondary special</td>\n",
       "      <td>Civil marriage</td>\n",
       "      <td>House / apartment</td>\n",
       "      <td>1</td>\n",
       "      <td>1</td>\n",
       "      <td>0</td>\n",
       "      <td>1</td>\n",
       "      <td>0</td>\n",
       "      <td>0</td>\n",
       "      <td>Laborers</td>\n",
       "      <td>2</td>\n",
       "      <td>2</td>\n",
       "      <td>WEDNESDAY</td>\n",
       "      <td>0</td>\n",
       "      <td>0</td>\n",
       "      <td>0</td>\n",
       "      <td>0</td>\n",
       "      <td>0</td>\n",
       "      <td>0</td>\n",
       "      <td>Business Entity Type 3</td>\n",
       "      <td>NaN</td>\n",
       "      <td>NaN</td>\n",
       "      <td>NaN</td>\n",
       "      <td>NaN</td>\n",
       "      <td>0</td>\n",
       "      <td>1</td>\n",
       "      <td>0</td>\n",
       "      <td>0</td>\n",
       "      <td>0</td>\n",
       "      <td>0</td>\n",
       "      <td>0</td>\n",
       "      <td>0</td>\n",
       "      <td>0</td>\n",
       "      <td>0</td>\n",
       "      <td>0</td>\n",
       "      <td>0</td>\n",
       "      <td>0</td>\n",
       "      <td>0</td>\n",
       "      <td>0</td>\n",
       "      <td>0</td>\n",
       "      <td>0</td>\n",
       "      <td>0</td>\n",
       "      <td>0</td>\n",
       "      <td>0</td>\n",
       "    </tr>\n",
       "    <tr>\n",
       "      <th>4</th>\n",
       "      <td>Payback</td>\n",
       "      <td>Cash loans</td>\n",
       "      <td>M</td>\n",
       "      <td>N</td>\n",
       "      <td>Y</td>\n",
       "      <td>Unaccompanied</td>\n",
       "      <td>Working</td>\n",
       "      <td>Secondary / secondary special</td>\n",
       "      <td>Single / not married</td>\n",
       "      <td>House / apartment</td>\n",
       "      <td>1</td>\n",
       "      <td>1</td>\n",
       "      <td>0</td>\n",
       "      <td>1</td>\n",
       "      <td>0</td>\n",
       "      <td>0</td>\n",
       "      <td>Core staff</td>\n",
       "      <td>2</td>\n",
       "      <td>2</td>\n",
       "      <td>THURSDAY</td>\n",
       "      <td>0</td>\n",
       "      <td>0</td>\n",
       "      <td>0</td>\n",
       "      <td>0</td>\n",
       "      <td>1</td>\n",
       "      <td>1</td>\n",
       "      <td>Religion</td>\n",
       "      <td>NaN</td>\n",
       "      <td>NaN</td>\n",
       "      <td>NaN</td>\n",
       "      <td>NaN</td>\n",
       "      <td>0</td>\n",
       "      <td>0</td>\n",
       "      <td>0</td>\n",
       "      <td>0</td>\n",
       "      <td>0</td>\n",
       "      <td>0</td>\n",
       "      <td>1</td>\n",
       "      <td>0</td>\n",
       "      <td>0</td>\n",
       "      <td>0</td>\n",
       "      <td>0</td>\n",
       "      <td>0</td>\n",
       "      <td>0</td>\n",
       "      <td>0</td>\n",
       "      <td>0</td>\n",
       "      <td>0</td>\n",
       "      <td>0</td>\n",
       "      <td>0</td>\n",
       "      <td>0</td>\n",
       "      <td>0</td>\n",
       "    </tr>\n",
       "  </tbody>\n",
       "</table>\n",
       "</div>"
      ],
      "text/plain": [
       "    TARGET NAME_CONTRACT_TYPE CODE_GENDER FLAG_OWN_CAR FLAG_OWN_REALTY  \\\n",
       "0  Default         Cash loans           M            N               Y   \n",
       "1  Payback         Cash loans           F            N               N   \n",
       "2  Payback    Revolving loans           M            Y               Y   \n",
       "3  Payback         Cash loans           F            N               Y   \n",
       "4  Payback         Cash loans           M            N               Y   \n",
       "\n",
       "  NAME_TYPE_SUITE NAME_INCOME_TYPE            NAME_EDUCATION_TYPE  \\\n",
       "0   Unaccompanied          Working  Secondary / secondary special   \n",
       "1          Family    State servant               Higher education   \n",
       "2   Unaccompanied          Working  Secondary / secondary special   \n",
       "3   Unaccompanied          Working  Secondary / secondary special   \n",
       "4   Unaccompanied          Working  Secondary / secondary special   \n",
       "\n",
       "     NAME_FAMILY_STATUS  NAME_HOUSING_TYPE  FLAG_MOBIL  FLAG_EMP_PHONE  \\\n",
       "0  Single / not married  House / apartment           1               1   \n",
       "1               Married  House / apartment           1               1   \n",
       "2  Single / not married  House / apartment           1               1   \n",
       "3        Civil marriage  House / apartment           1               1   \n",
       "4  Single / not married  House / apartment           1               1   \n",
       "\n",
       "   FLAG_WORK_PHONE  FLAG_CONT_MOBILE  FLAG_PHONE  FLAG_EMAIL OCCUPATION_TYPE  \\\n",
       "0                0                 1           1           0        Laborers   \n",
       "1                0                 1           1           0      Core staff   \n",
       "2                1                 1           1           0        Laborers   \n",
       "3                0                 1           0           0        Laborers   \n",
       "4                0                 1           0           0      Core staff   \n",
       "\n",
       "   REGION_RATING_CLIENT  REGION_RATING_CLIENT_W_CITY  \\\n",
       "0                     2                            2   \n",
       "1                     1                            1   \n",
       "2                     2                            2   \n",
       "3                     2                            2   \n",
       "4                     2                            2   \n",
       "\n",
       "  WEEKDAY_APPR_PROCESS_START  REG_REGION_NOT_LIVE_REGION  \\\n",
       "0                  WEDNESDAY                           0   \n",
       "1                     MONDAY                           0   \n",
       "2                     MONDAY                           0   \n",
       "3                  WEDNESDAY                           0   \n",
       "4                   THURSDAY                           0   \n",
       "\n",
       "   REG_REGION_NOT_WORK_REGION  LIVE_REGION_NOT_WORK_REGION  \\\n",
       "0                           0                            0   \n",
       "1                           0                            0   \n",
       "2                           0                            0   \n",
       "3                           0                            0   \n",
       "4                           0                            0   \n",
       "\n",
       "   REG_CITY_NOT_LIVE_CITY  REG_CITY_NOT_WORK_CITY  LIVE_CITY_NOT_WORK_CITY  \\\n",
       "0                       0                       0                        0   \n",
       "1                       0                       0                        0   \n",
       "2                       0                       0                        0   \n",
       "3                       0                       0                        0   \n",
       "4                       0                       1                        1   \n",
       "\n",
       "        ORGANIZATION_TYPE FONDKAPREMONT_MODE  HOUSETYPE_MODE  \\\n",
       "0  Business Entity Type 3   reg oper account  block of flats   \n",
       "1                  School   reg oper account  block of flats   \n",
       "2              Government                NaN             NaN   \n",
       "3  Business Entity Type 3                NaN             NaN   \n",
       "4                Religion                NaN             NaN   \n",
       "\n",
       "  WALLSMATERIAL_MODE EMERGENCYSTATE_MODE  FLAG_DOCUMENT_2  FLAG_DOCUMENT_3  \\\n",
       "0       Stone, brick                  No                0                1   \n",
       "1              Block                  No                0                1   \n",
       "2                NaN                 NaN                0                0   \n",
       "3                NaN                 NaN                0                1   \n",
       "4                NaN                 NaN                0                0   \n",
       "\n",
       "   FLAG_DOCUMENT_4  FLAG_DOCUMENT_5  FLAG_DOCUMENT_6  FLAG_DOCUMENT_7  \\\n",
       "0                0                0                0                0   \n",
       "1                0                0                0                0   \n",
       "2                0                0                0                0   \n",
       "3                0                0                0                0   \n",
       "4                0                0                0                0   \n",
       "\n",
       "   FLAG_DOCUMENT_8  FLAG_DOCUMENT_9  FLAG_DOCUMENT_10  FLAG_DOCUMENT_11  \\\n",
       "0                0                0                 0                 0   \n",
       "1                0                0                 0                 0   \n",
       "2                0                0                 0                 0   \n",
       "3                0                0                 0                 0   \n",
       "4                1                0                 0                 0   \n",
       "\n",
       "   FLAG_DOCUMENT_12  FLAG_DOCUMENT_13  FLAG_DOCUMENT_14  FLAG_DOCUMENT_15  \\\n",
       "0                 0                 0                 0                 0   \n",
       "1                 0                 0                 0                 0   \n",
       "2                 0                 0                 0                 0   \n",
       "3                 0                 0                 0                 0   \n",
       "4                 0                 0                 0                 0   \n",
       "\n",
       "   FLAG_DOCUMENT_16  FLAG_DOCUMENT_17  FLAG_DOCUMENT_18  FLAG_DOCUMENT_19  \\\n",
       "0                 0                 0                 0                 0   \n",
       "1                 0                 0                 0                 0   \n",
       "2                 0                 0                 0                 0   \n",
       "3                 0                 0                 0                 0   \n",
       "4                 0                 0                 0                 0   \n",
       "\n",
       "   FLAG_DOCUMENT_20  FLAG_DOCUMENT_21  \n",
       "0                 0                 0  \n",
       "1                 0                 0  \n",
       "2                 0                 0  \n",
       "3                 0                 0  \n",
       "4                 0                 0  "
      ]
     },
     "execution_count": 20,
     "metadata": {},
     "output_type": "execute_result"
    }
   ],
   "source": [
    "n.head()"
   ]
  },
  {
   "cell_type": "code",
   "execution_count": 22,
   "metadata": {},
   "outputs": [
    {
     "name": "stdout",
     "output_type": "stream",
     "text": [
      "Anzahl Kreditnehmer: 307511\n",
      "Anzahl Variablen: 120\n",
      "Anzahl metrischer Variablen: 70\n",
      "Anzahl nominale Variablen: 50\n"
     ]
    }
   ],
   "source": [
    "print(f\"Anzahl Kreditnehmer: {len(app_train)}\")\n",
    "print(f\"Anzahl Variablen: {len(app_train.columns) - 2}\") # ID & Target dont count as variables\n",
    "print(f\"Anzahl metrischer Variablen: {len(m.columns)}\")\n",
    "print(f\"Anzahl nominale Variablen: {len(n.columns) - 1}\") # Target doesnt count as variable"
   ]
  },
  {
   "cell_type": "markdown",
   "metadata": {},
   "source": [
    "## kategorische Variablen"
   ]
  },
  {
   "cell_type": "markdown",
   "metadata": {},
   "source": [
    "### Bestimmung der wichtigsten Kategorien\n",
    "\n",
    "Folgend werden die wichtigsten 10 Kategorien bestimmt, mit denen die man die Menge der Kreditnehmer bestmöglich nach Payback oder Default unterscheiden kann. Als Kennzahl dient die Differenz der relativen Häufigkeiten.\n",
    "\n",
    "Berechnungsbeispiel:\n",
    "* 66,6 % aller zurückzahlenden Kreditnehmer sind Frauen\n",
    "* 57,1 % aller ausfallenden Kreditnehmer sind Frauen\n",
    "* -> Eine Kreditrückzahlung durch eine Frau ist 9,5 pP höher als ein Kreditausfall durch eine Frau.\n",
    "\n",
    "Am Ende des Dokuments wird diese Betrachtung für alle kategorischen Variablen durchgeführt."
   ]
  },
  {
   "cell_type": "code",
   "execution_count": 9,
   "metadata": {},
   "outputs": [
    {
     "data": {
      "text/html": [
       "<div>\n",
       "<style scoped>\n",
       "    .dataframe tbody tr th:only-of-type {\n",
       "        vertical-align: middle;\n",
       "    }\n",
       "\n",
       "    .dataframe tbody tr th {\n",
       "        vertical-align: top;\n",
       "    }\n",
       "\n",
       "    .dataframe thead th {\n",
       "        text-align: right;\n",
       "    }\n",
       "</style>\n",
       "<table border=\"1\" class=\"dataframe\">\n",
       "  <thead>\n",
       "    <tr style=\"text-align: right;\">\n",
       "      <th></th>\n",
       "      <th>Kategorie</th>\n",
       "      <th>Unterkategorie</th>\n",
       "      <th>Top 10 Payback</th>\n",
       "    </tr>\n",
       "  </thead>\n",
       "  <tbody>\n",
       "    <tr>\n",
       "      <th>0</th>\n",
       "      <td>ORGANIZATION_TYPE</td>\n",
       "      <td>XNA</td>\n",
       "      <td>-10.612452</td>\n",
       "    </tr>\n",
       "    <tr>\n",
       "      <th>1</th>\n",
       "      <td>CODE_GENDER</td>\n",
       "      <td>F</td>\n",
       "      <td>-9.523671</td>\n",
       "    </tr>\n",
       "    <tr>\n",
       "      <th>2</th>\n",
       "      <td>NAME_EDUCATION_TYPE</td>\n",
       "      <td>Higher education</td>\n",
       "      <td>-8.915516</td>\n",
       "    </tr>\n",
       "    <tr>\n",
       "      <th>3</th>\n",
       "      <td>REG_CITY_NOT_WORK_CITY</td>\n",
       "      <td>0</td>\n",
       "      <td>-7.883082</td>\n",
       "    </tr>\n",
       "    <tr>\n",
       "      <th>4</th>\n",
       "      <td>FLAG_DOCUMENT_3</td>\n",
       "      <td>0</td>\n",
       "      <td>-7.386514</td>\n",
       "    </tr>\n",
       "    <tr>\n",
       "      <th>5</th>\n",
       "      <td>NAME_INCOME_TYPE</td>\n",
       "      <td>Pensioner</td>\n",
       "      <td>-6.518111</td>\n",
       "    </tr>\n",
       "    <tr>\n",
       "      <th>6</th>\n",
       "      <td>FLAG_EMP_PHONE</td>\n",
       "      <td>0</td>\n",
       "      <td>-6.486361</td>\n",
       "    </tr>\n",
       "    <tr>\n",
       "      <th>7</th>\n",
       "      <td>OCCUPATION_TYPE</td>\n",
       "      <td>Core staff</td>\n",
       "      <td>-6.032228</td>\n",
       "    </tr>\n",
       "    <tr>\n",
       "      <th>8</th>\n",
       "      <td>REGION_RATING_CLIENT_W_CITY</td>\n",
       "      <td>1</td>\n",
       "      <td>-4.838815</td>\n",
       "    </tr>\n",
       "    <tr>\n",
       "      <th>9</th>\n",
       "      <td>OCCUPATION_TYPE</td>\n",
       "      <td>Managers</td>\n",
       "      <td>-4.825831</td>\n",
       "    </tr>\n",
       "  </tbody>\n",
       "</table>\n",
       "</div>"
      ],
      "text/plain": [
       "                     Kategorie    Unterkategorie  Top 10 Payback\n",
       "0            ORGANIZATION_TYPE               XNA      -10.612452\n",
       "1                  CODE_GENDER                 F       -9.523671\n",
       "2          NAME_EDUCATION_TYPE  Higher education       -8.915516\n",
       "3       REG_CITY_NOT_WORK_CITY                 0       -7.883082\n",
       "4              FLAG_DOCUMENT_3                 0       -7.386514\n",
       "5             NAME_INCOME_TYPE         Pensioner       -6.518111\n",
       "6               FLAG_EMP_PHONE                 0       -6.486361\n",
       "7              OCCUPATION_TYPE        Core staff       -6.032228\n",
       "8  REGION_RATING_CLIENT_W_CITY                 1       -4.838815\n",
       "9              OCCUPATION_TYPE          Managers       -4.825831"
      ]
     },
     "metadata": {},
     "output_type": "display_data"
    },
    {
     "data": {
      "text/html": [
       "<div>\n",
       "<style scoped>\n",
       "    .dataframe tbody tr th:only-of-type {\n",
       "        vertical-align: middle;\n",
       "    }\n",
       "\n",
       "    .dataframe tbody tr th {\n",
       "        vertical-align: top;\n",
       "    }\n",
       "\n",
       "    .dataframe thead th {\n",
       "        text-align: right;\n",
       "    }\n",
       "</style>\n",
       "<table border=\"1\" class=\"dataframe\">\n",
       "  <thead>\n",
       "    <tr style=\"text-align: right;\">\n",
       "      <th></th>\n",
       "      <th>Kategorie</th>\n",
       "      <th>Unterkategorie</th>\n",
       "      <th>Top 10 Default</th>\n",
       "    </tr>\n",
       "  </thead>\n",
       "  <tbody>\n",
       "    <tr>\n",
       "      <th>0</th>\n",
       "      <td>NAME_INCOME_TYPE</td>\n",
       "      <td>Working</td>\n",
       "      <td>10.544642</td>\n",
       "    </tr>\n",
       "    <tr>\n",
       "      <th>1</th>\n",
       "      <td>CODE_GENDER</td>\n",
       "      <td>M</td>\n",
       "      <td>9.525086</td>\n",
       "    </tr>\n",
       "    <tr>\n",
       "      <th>2</th>\n",
       "      <td>NAME_EDUCATION_TYPE</td>\n",
       "      <td>Secondary / secondary special</td>\n",
       "      <td>8.297446</td>\n",
       "    </tr>\n",
       "    <tr>\n",
       "      <th>3</th>\n",
       "      <td>REG_CITY_NOT_WORK_CITY</td>\n",
       "      <td>1</td>\n",
       "      <td>7.883082</td>\n",
       "    </tr>\n",
       "    <tr>\n",
       "      <th>4</th>\n",
       "      <td>FLAG_DOCUMENT_3</td>\n",
       "      <td>1</td>\n",
       "      <td>7.386514</td>\n",
       "    </tr>\n",
       "    <tr>\n",
       "      <th>5</th>\n",
       "      <td>FLAG_EMP_PHONE</td>\n",
       "      <td>1</td>\n",
       "      <td>6.486361</td>\n",
       "    </tr>\n",
       "    <tr>\n",
       "      <th>6</th>\n",
       "      <td>REGION_RATING_CLIENT</td>\n",
       "      <td>3</td>\n",
       "      <td>6.416818</td>\n",
       "    </tr>\n",
       "    <tr>\n",
       "      <th>7</th>\n",
       "      <td>REGION_RATING_CLIENT_W_CITY</td>\n",
       "      <td>3</td>\n",
       "      <td>6.398668</td>\n",
       "    </tr>\n",
       "    <tr>\n",
       "      <th>8</th>\n",
       "      <td>OCCUPATION_TYPE</td>\n",
       "      <td>Laborers</td>\n",
       "      <td>6.329470</td>\n",
       "    </tr>\n",
       "    <tr>\n",
       "      <th>9</th>\n",
       "      <td>ORGANIZATION_TYPE</td>\n",
       "      <td>Business Entity Type 3</td>\n",
       "      <td>5.712701</td>\n",
       "    </tr>\n",
       "  </tbody>\n",
       "</table>\n",
       "</div>"
      ],
      "text/plain": [
       "                     Kategorie                 Unterkategorie  Top 10 Default\n",
       "0             NAME_INCOME_TYPE                        Working       10.544642\n",
       "1                  CODE_GENDER                              M        9.525086\n",
       "2          NAME_EDUCATION_TYPE  Secondary / secondary special        8.297446\n",
       "3       REG_CITY_NOT_WORK_CITY                              1        7.883082\n",
       "4              FLAG_DOCUMENT_3                              1        7.386514\n",
       "5               FLAG_EMP_PHONE                              1        6.486361\n",
       "6         REGION_RATING_CLIENT                              3        6.416818\n",
       "7  REGION_RATING_CLIENT_W_CITY                              3        6.398668\n",
       "8              OCCUPATION_TYPE                       Laborers        6.329470\n",
       "9            ORGANIZATION_TYPE         Business Entity Type 3        5.712701"
      ]
     },
     "metadata": {},
     "output_type": "display_data"
    }
   ],
   "source": [
    "top10 = []\n",
    "bot10 = []\n",
    "\n",
    "for head in n.columns.values:\n",
    "    df1 = payback[head].value_counts().rename_axis(head).reset_index(name='payback').head()\n",
    "    df2 = default[head].value_counts().rename_axis(head).reset_index(name='default').head()\n",
    "    \n",
    "    df1[\"payback\"] = df1[\"payback\"]/df1[\"payback\"].sum()*100\n",
    "    df2[\"default\"] = df2[\"default\"]/df2[\"default\"].sum()*100\n",
    "    \n",
    "    df = df1.merge(df2, how=\"outer\", on=head)\n",
    "    \n",
    "    df[\"change\"] = (df[\"default\"]-df[\"payback\"])\n",
    "    \n",
    "    df = df.sort_values(\"change\", ascending=False)\n",
    "    \n",
    "    for element in df[\"change\"]:\n",
    "        if np.isnan(element):\n",
    "            continue\n",
    "        if len(top10) < 10:\n",
    "            row = df.loc[df[\"change\"] == element]\n",
    "            cat = row[head][row[head].index[0]]\n",
    "            top10.append((head, cat, element))\n",
    "        else:\n",
    "            if element > top10[-1][-1]:\n",
    "                top10.pop(-1)\n",
    "                row = df.loc[df[\"change\"] == element]\n",
    "                cat = row[head][row[head].index[0]]\n",
    "                top10.append((head, cat, element))\n",
    "        \n",
    "        top10 = sorted(top10, key=lambda value: value[2], reverse=True)\n",
    "    \n",
    "    df = df.sort_values(\"change\", ascending=True)\n",
    "\n",
    "    for element in df[\"change\"]:\n",
    "        if np.isnan(element):\n",
    "            continue\n",
    "        if len(bot10) < 10:\n",
    "            row = df.loc[df[\"change\"] == element]\n",
    "            cat = row[head][row[head].index[0]]\n",
    "            bot10.append((head, cat, element))\n",
    "        else:\n",
    "            if element < bot10[-1][-1]:\n",
    "                bot10.pop(-1)\n",
    "                row = df.loc[df[\"change\"] == element]\n",
    "                cat = row[head][row[head].index[0]]\n",
    "                bot10.append((head, cat, element))\n",
    "        \n",
    "        bot10 = sorted(bot10, key=lambda value: value[2], reverse=False)\n",
    "    \n",
    "# typische Paybacks\n",
    "df = pd.DataFrame(bot10, columns=[\"Kategorie\",\"Unterkategorie\",\"Top 10 Payback\"])\n",
    "display(df)\n",
    "    \n",
    "# typische Defaults\n",
    "df = pd.DataFrame(top10,columns=[\"Kategorie\",\"Unterkategorie\",\"Top 10 Default\"])\n",
    "display(df)"
   ]
  },
  {
   "cell_type": "markdown",
   "metadata": {},
   "source": [
    "### Payback\n",
    "\n",
    "Ein zurückzahlender Kreditnehmer hat typischerweise folgende Charakteristika:\n",
    "* unbekanntes Arbeitsfeld\n",
    "* weiblich\n",
    "* akademischer Abschluss\n",
    "* arbeitet und wohnt in der selben Stadt\n",
    "* hat Dokument nicht 3 abgegeben\n",
    "* Rentner\n",
    "* hat kein Arbeitstelefon\n",
    "* ist/war ein wichtiger Mitarbeiter seiner Firma\n",
    "* wohnt in Region 1\n",
    "* ist/war ein Manager seiner Firma\n",
    "\n",
    "### Default\n",
    "\n",
    "Ein ausfallender Kreditnehmer hat typischerweise folgende Charakteristika:\n",
    "* erzielt sein Einkommen aus der Arbeit\n",
    "* männlich\n",
    "* sekundärer Abschluss\n",
    "* arbeitet und wohnt in der selben Stadt\n",
    "* hat Dokument 3 abgegeben\n",
    "* hat ein Arbeitstelefon\n",
    "* wohnt in Region 3\n",
    "* ist ein normaler Mitarbeiter\n",
    "* Arbeitet in dem Arbeitsoranisationstyp Business Entity Type 3"
   ]
  },
  {
   "cell_type": "markdown",
   "metadata": {},
   "source": [
    "### Verhältnis Payback zu Default nach Geschlecht"
   ]
  },
  {
   "cell_type": "code",
   "execution_count": 10,
   "metadata": {},
   "outputs": [
    {
     "data": {
      "text/markdown": [
       "#### CODE_GENDER"
      ],
      "text/plain": [
       "<IPython.core.display.Markdown object>"
      ]
     },
     "metadata": {},
     "output_type": "display_data"
    },
    {
     "data": {
      "text/markdown": [
       "#### Payback"
      ],
      "text/plain": [
       "<IPython.core.display.Markdown object>"
      ]
     },
     "metadata": {},
     "output_type": "display_data"
    },
    {
     "name": "stdout",
     "output_type": "stream",
     "text": [
      "F      188278\n",
      "M       94404\n",
      "XNA         4\n",
      "Name: CODE_GENDER, dtype: int64 \n",
      "\n"
     ]
    },
    {
     "data": {
      "text/markdown": [
       "#### Default"
      ],
      "text/plain": [
       "<IPython.core.display.Markdown object>"
      ]
     },
     "metadata": {},
     "output_type": "display_data"
    },
    {
     "name": "stdout",
     "output_type": "stream",
     "text": [
      "F    14170\n",
      "M    10655\n",
      "Name: CODE_GENDER, dtype: int64 \n",
      "\n"
     ]
    },
    {
     "data": {
      "image/png": "[encoded data removed]",
      "text/plain": [
       "<Figure size 432x288 with 2 Axes>"
      ]
     },
     "metadata": {},
     "output_type": "display_data"
    }
   ],
   "source": [
    "column = \"CODE_GENDER\"\n",
    "\n",
    "# Payback\n",
    "title = \"Payback\"\n",
    "rest = -1\n",
    "labels = [\"Female\", \"Male\"]\n",
    "count1 = payback[column].value_counts()\n",
    "N1 = len(payback[column])\n",
    "arg_payback = cat_compare(count1, N1, column, title, rest, labels)\n",
    "\n",
    "# Default\n",
    "title = \" Default\"\n",
    "rest = 0\n",
    "labels = [\"Female\", \"Male\"]\n",
    "count2 = default[column].value_counts()\n",
    "N2 = len(default[column])\n",
    "\n",
    "# Prints\n",
    "display(Markdown(\"#### {}\".format(column)))\n",
    "display(Markdown(\"#### Payback\"))\n",
    "print(count1, \"\\n\")\n",
    "display(Markdown(\"#### Default\"))\n",
    "print(count2, \"\\n\")\n",
    "\n",
    "# Piecharts\n",
    "arg_default = cat_compare(count2, N2, column, title, rest, labels)\n",
    "draw_piechart([arg_payback, arg_default])"
   ]
  },
  {
   "cell_type": "markdown",
   "metadata": {},
   "source": [
    "### Verhältnis Payback zu Default nach Bildung"
   ]
  },
  {
   "cell_type": "code",
   "execution_count": 11,
   "metadata": {},
   "outputs": [
    {
     "data": {
      "text/markdown": [
       "#### NAME_EDUCATION_TYPE"
      ],
      "text/plain": [
       "<IPython.core.display.Markdown object>"
      ]
     },
     "metadata": {},
     "output_type": "display_data"
    },
    {
     "data": {
      "text/markdown": [
       "#### Payback"
      ],
      "text/plain": [
       "<IPython.core.display.Markdown object>"
      ]
     },
     "metadata": {},
     "output_type": "display_data"
    },
    {
     "name": "stdout",
     "output_type": "stream",
     "text": [
      "Secondary / secondary special    198867\n",
      "Higher education                  70854\n",
      "Incomplete higher                  9405\n",
      "Lower secondary                    3399\n",
      "Academic degree                     161\n",
      "Name: NAME_EDUCATION_TYPE, dtype: int64 \n",
      "\n"
     ]
    },
    {
     "data": {
      "text/markdown": [
       "#### Default"
      ],
      "text/plain": [
       "<IPython.core.display.Markdown object>"
      ]
     },
     "metadata": {},
     "output_type": "display_data"
    },
    {
     "name": "stdout",
     "output_type": "stream",
     "text": [
      "Secondary / secondary special    19524\n",
      "Higher education                  4009\n",
      "Incomplete higher                  872\n",
      "Lower secondary                    417\n",
      "Academic degree                      3\n",
      "Name: NAME_EDUCATION_TYPE, dtype: int64 \n",
      "\n"
     ]
    },
    {
     "data": {
      "image/png": "[encoded data removed]",
      "text/plain": [
       "<Figure size 432x288 with 2 Axes>"
      ]
     },
     "metadata": {},
     "output_type": "display_data"
    }
   ],
   "source": [
    "column = \"NAME_EDUCATION_TYPE\"\n",
    "\n",
    "# Payback\n",
    "title = \" Payback\"\n",
    "rest = -2\n",
    "labels = None\n",
    "count1 = payback[column].value_counts()\n",
    "N1 = len(payback[column])\n",
    "arg_payback = cat_compare(count1, N1, column, title, rest, labels)\n",
    "\n",
    "# Default\n",
    "title = \" Default\"\n",
    "rest = -2\n",
    "count2 = default[column].value_counts()\n",
    "N2 = len(default[column])\n",
    "\n",
    "# Prints\n",
    "display(Markdown(\"#### {}\".format(column)))\n",
    "display(Markdown(\"#### Payback\"))\n",
    "print(count1, \"\\n\")\n",
    "display(Markdown(\"#### Default\"))\n",
    "print(count2, \"\\n\")\n",
    "\n",
    "# Piecharts\n",
    "\n",
    "arg_default = cat_compare(count2, N2, column, title, rest, labels)\n",
    "draw_piechart([arg_payback, arg_default])"
   ]
  },
  {
   "cell_type": "markdown",
   "metadata": {},
   "source": [
    "### Verhältnis Payback zu Default nach Arbeitsorganisationstyp"
   ]
  },
  {
   "cell_type": "code",
   "execution_count": 12,
   "metadata": {},
   "outputs": [
    {
     "data": {
      "text/markdown": [
       "#### ORGANIZATION_TYPE"
      ],
      "text/plain": [
       "<IPython.core.display.Markdown object>"
      ]
     },
     "metadata": {},
     "output_type": "display_data"
    },
    {
     "data": {
      "text/markdown": [
       "#### Payback"
      ],
      "text/plain": [
       "<IPython.core.display.Markdown object>"
      ]
     },
     "metadata": {},
     "output_type": "display_data"
    },
    {
     "name": "stdout",
     "output_type": "stream",
     "text": [
      "Business Entity Type 3    61669\n",
      "XNA                       52384\n",
      "Self-employed             34504\n",
      "Other                     15408\n",
      "Medicine                  10456\n",
      "Government                 9678\n",
      "Business Entity Type 2     9653\n",
      "School                     8367\n",
      "Trade: type 7              7091\n",
      "Kindergarten               6396\n",
      "Construction               5936\n",
      "Business Entity Type 1     5497\n",
      "Transport: type 4          4897\n",
      "Industry: type 9           3143\n",
      "Trade: type 3              3131\n",
      "Industry: type 3           2930\n",
      "Security                   2923\n",
      "Housing                    2723\n",
      "Military                   2499\n",
      "Industry: type 11          2470\n",
      "Bank                       2377\n",
      "Police                     2224\n",
      "Agriculture                2197\n",
      "Transport: type 2          2032\n",
      "Postal                     1975\n",
      "Security Ministries        1878\n",
      "Trade: type 2              1767\n",
      "Restaurant                 1599\n",
      "Services                   1471\n",
      "University                 1262\n",
      "Industry: type 7           1202\n",
      "Transport: type 3          1000\n",
      "Industry: type 1            924\n",
      "Hotel                       904\n",
      "Electricity                 887\n",
      "Industry: type 4            788\n",
      "Trade: type 6               602\n",
      "Insurance                   563\n",
      "Industry: type 5            558\n",
      "Telecom                     533\n",
      "Emergency                   520\n",
      "Industry: type 2            425\n",
      "Advertising                 394\n",
      "Culture                     358\n",
      "Industry: type 12           355\n",
      "Realtor                     354\n",
      "Trade: type 1               317\n",
      "Mobile                      288\n",
      "Legal Services              281\n",
      "Cleaning                    231\n",
      "Transport: type 1           192\n",
      "Industry: type 6            104\n",
      "Industry: type 10           102\n",
      "Religion                     80\n",
      "Trade: type 4                62\n",
      "Industry: type 13            58\n",
      "Trade: type 5                46\n",
      "Industry: type 8             21\n",
      "Name: ORGANIZATION_TYPE, dtype: int64 \n",
      "\n"
     ]
    },
    {
     "data": {
      "text/markdown": [
       "#### Default"
      ],
      "text/plain": [
       "<IPython.core.display.Markdown object>"
      ]
     },
     "metadata": {},
     "output_type": "display_data"
    },
    {
     "name": "stdout",
     "output_type": "stream",
     "text": [
      "Business Entity Type 3    6323\n",
      "Self-employed             3908\n",
      "XNA                       2990\n",
      "Other                     1275\n",
      "Business Entity Type 2     900\n",
      "Construction               785\n",
      "Trade: type 7              740\n",
      "Medicine                   737\n",
      "Government                 726\n",
      "School                     526\n",
      "Transport: type 4          501\n",
      "Business Entity Type 1     487\n",
      "Kindergarten               484\n",
      "Trade: type 3              361\n",
      "Industry: type 3           348\n",
      "Security                   324\n",
      "Agriculture                257\n",
      "Housing                    235\n",
      "Industry: type 11          234\n",
      "Industry: type 9           225\n",
      "Restaurant                 212\n",
      "Transport: type 3          187\n",
      "Postal                     182\n",
      "Transport: type 2          172\n",
      "Military                   135\n",
      "Trade: type 2              133\n",
      "Bank                       130\n",
      "Police                     117\n",
      "Industry: type 1           115\n",
      "Industry: type 7           105\n",
      "Services                   104\n",
      "Security Ministries         96\n",
      "Industry: type 4            89\n",
      "University                  65\n",
      "Electricity                 63\n",
      "Hotel                       62\n",
      "Telecom                     44\n",
      "Realtor                     42\n",
      "Industry: type 5            41\n",
      "Emergency                   40\n",
      "Advertising                 35\n",
      "Insurance                   34\n",
      "Industry: type 2            33\n",
      "Trade: type 1               31\n",
      "Trade: type 6               29\n",
      "Mobile                      29\n",
      "Cleaning                    29\n",
      "Legal Services              24\n",
      "Culture                     21\n",
      "Industry: type 12           14\n",
      "Industry: type 13            9\n",
      "Transport: type 1            9\n",
      "Industry: type 6             8\n",
      "Industry: type 10            7\n",
      "Religion                     5\n",
      "Trade: type 5                3\n",
      "Industry: type 8             3\n",
      "Trade: type 4                2\n",
      "Name: ORGANIZATION_TYPE, dtype: int64 \n",
      "\n"
     ]
    },
    {
     "data": {
      "image/png": "[encoded data removed]",
      "text/plain": [
       "<Figure size 432x288 with 2 Axes>"
      ]
     },
     "metadata": {},
     "output_type": "display_data"
    }
   ],
   "source": [
    "column = \"ORGANIZATION_TYPE\"\n",
    "\n",
    "# Payback\n",
    "title = \" Payback\"\n",
    "rest = -53\n",
    "labels = None\n",
    "count1 = payback[column].value_counts()\n",
    "N1 = len(payback[column])\n",
    "arg_payback = cat_compare(count1, N1, column, title, rest, labels)\n",
    "\n",
    "# Default\n",
    "title = \" Default\"\n",
    "rest = -53\n",
    "count2 = default[column].value_counts()\n",
    "N2 = len(default[column])\n",
    "\n",
    "# Prints\n",
    "display(Markdown(\"#### {}\".format(column)))\n",
    "display(Markdown(\"#### Payback\"))\n",
    "print(count1, \"\\n\")\n",
    "display(Markdown(\"#### Default\"))\n",
    "print(count2, \"\\n\")\n",
    "\n",
    "# Piecharts\n",
    "\n",
    "arg_default = cat_compare(count2, N2, column, title, rest, labels)\n",
    "draw_piechart([arg_payback, arg_default])"
   ]
  },
  {
   "cell_type": "markdown",
   "metadata": {},
   "source": [
    "### Verhältnis Payback zu Default nach Einkommenstyp"
   ]
  },
  {
   "cell_type": "code",
   "execution_count": 13,
   "metadata": {},
   "outputs": [
    {
     "data": {
      "text/markdown": [
       "#### NAME_INCOME_TYPE"
      ],
      "text/plain": [
       "<IPython.core.display.Markdown object>"
      ]
     },
     "metadata": {},
     "output_type": "display_data"
    },
    {
     "data": {
      "text/markdown": [
       "#### Payback"
      ],
      "text/plain": [
       "<IPython.core.display.Markdown object>"
      ]
     },
     "metadata": {},
     "output_type": "display_data"
    },
    {
     "name": "stdout",
     "output_type": "stream",
     "text": [
      "Working                 143550\n",
      "Commercial associate     66257\n",
      "Pensioner                52380\n",
      "State servant            20454\n",
      "Student                     18\n",
      "Unemployed                  14\n",
      "Businessman                 10\n",
      "Maternity leave              3\n",
      "Name: NAME_INCOME_TYPE, dtype: int64 \n",
      "\n"
     ]
    },
    {
     "data": {
      "text/markdown": [
       "#### Default"
      ],
      "text/plain": [
       "<IPython.core.display.Markdown object>"
      ]
     },
     "metadata": {},
     "output_type": "display_data"
    },
    {
     "name": "stdout",
     "output_type": "stream",
     "text": [
      "Working                 15224\n",
      "Commercial associate     5360\n",
      "Pensioner                2982\n",
      "State servant            1249\n",
      "Unemployed                  8\n",
      "Maternity leave             2\n",
      "Name: NAME_INCOME_TYPE, dtype: int64 \n",
      "\n"
     ]
    },
    {
     "data": {
      "image/png": "[encoded data removed]",
      "text/plain": [
       "<Figure size 432x288 with 2 Axes>"
      ]
     },
     "metadata": {},
     "output_type": "display_data"
    }
   ],
   "source": [
    "column = \"NAME_INCOME_TYPE\"\n",
    "\n",
    "# Payback\n",
    "title = \" Payback\"\n",
    "rest = -4\n",
    "labels = None\n",
    "count1 = payback[column].value_counts()\n",
    "N1 = len(payback[column])\n",
    "arg_payback = cat_compare(count1, N1, column, title, rest, labels)\n",
    "\n",
    "# Default\n",
    "title = \" Default\"\n",
    "rest = -2\n",
    "count2 = default[column].value_counts()\n",
    "N2 = len(default[column])\n",
    "\n",
    "# Prints\n",
    "display(Markdown(\"#### {}\".format(column)))\n",
    "display(Markdown(\"#### Payback\"))\n",
    "print(count1, \"\\n\")\n",
    "display(Markdown(\"#### Default\"))\n",
    "print(count2, \"\\n\")\n",
    "\n",
    "# Piecharts\n",
    "\n",
    "arg_default = cat_compare(count2, N2, column, title, rest, labels)\n",
    "draw_piechart([arg_payback, arg_default])"
   ]
  },
  {
   "cell_type": "markdown",
   "metadata": {},
   "source": [
    "### Verhältnis Payback zu Default nach Karrierelevel"
   ]
  },
  {
   "cell_type": "markdown",
   "metadata": {},
   "source": [
    "### Pearson Correlation\n",
    "## Korrelaion aller Features des Trainingsdatensatzes"
   ]
  },
  {
   "cell_type": "code",
   "execution_count": 14,
   "metadata": {},
   "outputs": [],
   "source": [
    "# plt.figure(figsize=(120,100))\n",
    "# sns.heatmap(app_test.corr(), annot=True, cmap=plt.cm.Reds)\n",
    "# plt.show()"
   ]
  },
  {
   "cell_type": "markdown",
   "metadata": {},
   "source": [
    "### Korrelation der Features der zurückzahlenden Personen"
   ]
  },
  {
   "cell_type": "code",
   "execution_count": 15,
   "metadata": {},
   "outputs": [],
   "source": [
    "# plt.figure(figsize=(120,100))\n",
    "# sns.heatmap(payback.corr(), annot=True, cmap=plt.cm.Reds)\n",
    "# plt.show()"
   ]
  },
  {
   "cell_type": "markdown",
   "metadata": {},
   "source": [
    "### Korrelation der Features der ausfallenden Personen"
   ]
  },
  {
   "cell_type": "code",
   "execution_count": 16,
   "metadata": {},
   "outputs": [],
   "source": [
    "# plt.figure(figsize=(120,100))\n",
    "# sns.heatmap(default.corr(), annot=True, cmap=plt.cm.Reds)\n",
    "# plt.show()"
   ]
  },
  {
   "cell_type": "markdown",
   "metadata": {},
   "source": [
    "### Numerische Werte"
   ]
  },
  {
   "cell_type": "code",
   "execution_count": 17,
   "metadata": {},
   "outputs": [
    {
     "data": {
      "text/plain": [
       "0.0"
      ]
     },
     "execution_count": 17,
     "metadata": {},
     "output_type": "execute_result"
    }
   ],
   "source": [
    "t = app_train[app_train[\"TARGET\"] == \"Payback\"][\"EXT_SOURCE_1\"]\n",
    "t = t.dropna()\n",
    "t.isna().sum() / len(t)"
   ]
  },
  {
   "cell_type": "code",
   "execution_count": 18,
   "metadata": {},
   "outputs": [],
   "source": [
    "# df = pd.DataFrame(gini, ms.columns.values)\n",
    "# df.sort_values(0)"
   ]
  },
  {
   "cell_type": "code",
   "execution_count": null,
   "metadata": {},
   "outputs": [],
   "source": [
    "gini_p = []\n",
    "vk_p = []\n",
    "gini_d = []\n",
    "vk_d = []\n",
    "\n",
    "data = {}\n",
    "\n",
    "for head in ms.columns.values:\n",
    "    p,d = lorenz(msp[head], msd[head], visual = False)\n",
    "    gini_p.append(p[0])\n",
    "    gini_d.append(d[0])\n",
    "    vk_p.append(p[1])\n",
    "    vk_d.append(d[1])\n",
    "\n",
    "data[\"Head\"] = list(ms.columns.values)\n",
    "data[\"Gini Payback\"] = gini_p\n",
    "data[\"Gini Default\"] = gini_d\n",
    "data[\"VK Payback\"] = vk_p\n",
    "data[\"VK Default\"] = gini_d\n",
    "\n",
    "df = pd.DataFrame(data)\n",
    "df = df.set_index(\"Head\")\n",
    "\n",
    "#df[[\"VK Default\"]].sort_values(by=\"VK Default\")\n",
    "#df[[\"VK Payback\"]].sort_values(by=\"VK Payback\")\n",
    "df[[\"Gini Payback\"]].sort_values(by=\"Gini Payback\")\n",
    "df[[\"Gini Default\"]].sort_values(by=\"Gini Default\")"
   ]
  },
  {
   "cell_type": "markdown",
   "metadata": {},
   "source": [
    "Je höher der VK desto, desto unwahrscheinlicher ist eine Prognose in der Nähe des Mittelwertes."
   ]
  },
  {
   "cell_type": "code",
   "execution_count": null,
   "metadata": {},
   "outputs": [],
   "source": [
    "for head in ms.columns.values:\n",
    "    print(head)\n",
    "    lorenz(msp[head], msd[head])"
   ]
  },
  {
   "cell_type": "code",
   "execution_count": 21,
   "metadata": {},
   "outputs": [],
   "source": [
    "# x_1, y_1 = sns.kdeplot(payback[head]).get_lines()[0].get_data()\n",
    "# x_2, y_2 = sns.kdeplot(default[head]).get_lines()[1].get_data()\n",
    "\n",
    "# x = np.array(list(zip(x_1, x_2)))\n",
    "# y = np.array(list(zip(y_1, y_2)))\n",
    "\n",
    "# maxi = np.maximum(y[:,0],y[:,1])\n",
    "# mini = np.minimum(y[:,0],y[:,1])\n",
    "# diff = np.subtract(maxi,mini)\n",
    "\n",
    "# plt.plot(x_2, diff)\n",
    "\n",
    "# rate = (np.trapz(diff, x_1) / np.trapz(maxi, x_1) * 100 + np.trapz(diff, x_2) / np.trapz(maxi, x_2) * 100) / 2\n",
    "# rate"
   ]
  },
  {
   "cell_type": "code",
   "execution_count": 43,
   "metadata": {},
   "outputs": [
    {
     "data": {
      "text/plain": [
       "42.8525973257244"
      ]
     },
     "execution_count": 43,
     "metadata": {},
     "output_type": "execute_result"
    },
    {
     "data": {
      "image/png": "[encoded data removed]",
      "text/plain": [
       "<Figure size 432x288 with 1 Axes>"
      ]
     },
     "metadata": {
      "needs_background": "light"
     },
     "output_type": "display_data"
    }
   ],
   "source": [
    "head = \"EXT_SOURCE_3\"\n",
    "x_1, y_1 = sns.kdeplot(payback[head]).get_lines()[0].get_data()\n",
    "x_2, y_2 = sns.kdeplot(default[head]).get_lines()[1].get_data()\n",
    "\n",
    "x = np.array(list(zip(x_1, x_2)))\n",
    "y = np.array(list(zip(y_1, y_2)))\n",
    "\n",
    "maxi = np.maximum(y[:,0],y[:,1])\n",
    "mini = np.minimum(y[:,0],y[:,1])\n",
    "diff = np.subtract(maxi,mini)\n",
    "\n",
    "plt.plot(x_2, diff)\n",
    "\n",
    "rate = (np.trapz(diff, x_1) / np.trapz(maxi, x_1) * 100 + np.trapz(diff, x_2) / np.trapz(maxi, x_2) * 100) / 2\n",
    "rate"
   ]
  },
  {
   "cell_type": "code",
   "execution_count": 34,
   "metadata": {},
   "outputs": [
    {
     "data": {
      "text/html": [
       "<div>\n",
       "<style scoped>\n",
       "    .dataframe tbody tr th:only-of-type {\n",
       "        vertical-align: middle;\n",
       "    }\n",
       "\n",
       "    .dataframe tbody tr th {\n",
       "        vertical-align: top;\n",
       "    }\n",
       "\n",
       "    .dataframe thead th {\n",
       "        text-align: right;\n",
       "    }\n",
       "</style>\n",
       "<table border=\"1\" class=\"dataframe\">\n",
       "  <thead>\n",
       "    <tr style=\"text-align: right;\">\n",
       "      <th></th>\n",
       "      <th>CNT_CHILDREN</th>\n",
       "    </tr>\n",
       "  </thead>\n",
       "  <tbody>\n",
       "    <tr>\n",
       "      <th>1</th>\n",
       "      <td>0</td>\n",
       "    </tr>\n",
       "    <tr>\n",
       "      <th>2</th>\n",
       "      <td>0</td>\n",
       "    </tr>\n",
       "    <tr>\n",
       "      <th>3</th>\n",
       "      <td>0</td>\n",
       "    </tr>\n",
       "    <tr>\n",
       "      <th>4</th>\n",
       "      <td>0</td>\n",
       "    </tr>\n",
       "    <tr>\n",
       "      <th>5</th>\n",
       "      <td>0</td>\n",
       "    </tr>\n",
       "  </tbody>\n",
       "</table>\n",
       "</div>"
      ],
      "text/plain": [
       "   CNT_CHILDREN\n",
       "1             0\n",
       "2             0\n",
       "3             0\n",
       "4             0\n",
       "5             0"
      ]
     },
     "execution_count": 34,
     "metadata": {},
     "output_type": "execute_result"
    }
   ],
   "source": [
    "payback[[head]].head()"
   ]
  },
  {
   "cell_type": "code",
   "execution_count": 39,
   "metadata": {},
   "outputs": [],
   "source": [
    "from sklearn.neighbors import KernelDensity\n",
    "\n",
    "kde = KernelDensity(kernel='gaussian').fit(payback[[head]])"
   ]
  },
  {
   "cell_type": "code",
   "execution_count": null,
   "metadata": {},
   "outputs": [],
   "source": [
    "X_plot = np.linspace(-5, 10, 1000)[:, np.newaxis]\n",
    "kde.score_samples(X_plot)"
   ]
  },
  {
   "cell_type": "code",
   "execution_count": null,
   "metadata": {},
   "outputs": [],
   "source": [
    "for head in ms.columns.values:\n",
    "    plt.hist(ms[head])\n",
    "    plt.hist(msp[head])\n",
    "    plt.hist(msd[head])\n",
    "    plt.legend(labels=[\"All\", \"Payback\",\"Default\"])\n",
    "    plt.title(head)\n",
    "    plt.show()"
   ]
  },
  {
   "cell_type": "code",
   "execution_count": null,
   "metadata": {},
   "outputs": [],
   "source": [
    "for head in md.columns.values:\n",
    "    bins = md[head].value_counts()\n",
    "    bins1 = mdp[head].value_counts()\n",
    "    bins2 = mdd[head].value_counts()\n",
    "    fig, ax = plt.subplots()\n",
    "    ax.bar(bins.keys(), bins.values, label='All')\n",
    "    ax.bar(bins1.keys(), bins1.values, label='Payback')\n",
    "    ax.bar(bins2.keys(), bins2.values, label='Default')\n",
    "    plt.xticks(np.arange(len(bins.keys())), bins.keys())\n",
    "    plt.title(head)\n",
    "    plt.legend()\n",
    "    plt.show()"
   ]
  },
  {
   "cell_type": "markdown",
   "metadata": {},
   "source": [
    "### Verhältnis Payback zu Default - komplette Liste der kategorischen Variablen"
   ]
  },
  {
   "cell_type": "code",
   "execution_count": null,
   "metadata": {},
   "outputs": [],
   "source": [
    "for head in n.columns.values:\n",
    "    df1 = payback[head].value_counts().rename_axis(head).reset_index(name='payback').head()\n",
    "    df2 = default[head].value_counts().rename_axis(head).reset_index(name='default').head()\n",
    "    \n",
    "    df1[\"payback\"] = df1[\"payback\"]/df1[\"payback\"].sum()*100\n",
    "    df2[\"default\"] = df2[\"default\"]/df2[\"default\"].sum()*100\n",
    "    \n",
    "    df = df1.merge(df2, how=\"outer\", on=head)\n",
    "    \n",
    "    df[\"change\"] = (df[\"default\"]-df[\"payback\"])\n",
    "    #df[\"change\"] = (df[\"payback\"] / df[\"default\"] * 100)\n",
    "    \n",
    "    df = df.sort_values(\"change\", ascending=False)\n",
    "    \n",
    "    display(df)"
   ]
  },
  {
   "cell_type": "code",
   "execution_count": null,
   "metadata": {},
   "outputs": [],
   "source": []
  }
 ],
 "metadata": {
  "kernelspec": {
   "display_name": "Python 3",
   "language": "python",
   "name": "python3"
  },
  "language_info": {
   "codemirror_mode": {
    "name": "ipython",
    "version": 3
   },
   "file_extension": ".py",
   "mimetype": "text/x-python",
   "name": "python",
   "nbconvert_exporter": "python",
   "pygments_lexer": "ipython3",
   "version": "3.8.7"
  }
 },
 "nbformat": 4,
 "nbformat_minor": 4
}
