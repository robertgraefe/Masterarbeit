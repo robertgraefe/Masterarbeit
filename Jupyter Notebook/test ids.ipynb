{
 "cells": [
  {
   "cell_type": "code",
   "execution_count": 1,
   "metadata": {},
   "outputs": [],
   "source": [
    "from pathlib import Path\n",
    "from scipy import stats\n",
    "\n",
    "import matplotlib.pyplot as plt\n",
    "import pandas as pd\n",
    "import numpy as np\n",
    "import seaborn as sns\n",
    "\n",
    "np.set_printoptions(suppress=True)\n",
    "\n",
    "pd.options.display.max_columns = None\n",
    "pd.options.display.max_rows = None\n",
    "pd.options.display.max_colwidth = None\n",
    "\n",
    "from IPython.display import display, Markdown"
   ]
  },
  {
   "cell_type": "code",
   "execution_count": 2,
   "metadata": {},
   "outputs": [],
   "source": [
    "path1 = Path(r\"A:\\Workspace\\Python\\Masterarbeit\\Kaggle Home Credit Datensatz\")\n",
    "path2 = Path(r\"C:\\Users\\rober\\Documents\\Workspace\\Python\\Masterarbeit\\Kaggle Home Credit Datensatz\")\n",
    "\n",
    "if path1.is_dir():\n",
    "    DATASET_DIR = path1\n",
    "else:\n",
    "    DATASET_DIR = path2"
   ]
  },
  {
   "cell_type": "code",
   "execution_count": 3,
   "metadata": {},
   "outputs": [],
   "source": [
    "app_test = pd.read_csv(DATASET_DIR / \"application_test.csv\")\n",
    "app_train = pd.read_csv(DATASET_DIR / \"application_train.csv\")\n",
    "bureau = pd.read_csv(DATASET_DIR / \"bureau.csv\")\n",
    "bb = pd.read_csv(DATASET_DIR / \"bureau_balance.csv\")\n",
    "pa = pd.read_csv(DATASET_DIR / \"previous_application.csv\")\n",
    "pos = pd.read_csv(DATASET_DIR / \"POS_CASH_balance.csv\")\n",
    "ip = pd.read_csv(DATASET_DIR / \"installments_payments.csv\")\n",
    "cc = pd.read_csv(DATASET_DIR / \"credit_card_balance.csv\")"
   ]
  },
  {
   "cell_type": "code",
   "execution_count": 8,
   "metadata": {},
   "outputs": [],
   "source": [
    "APP_ID = app_train.SK_ID_CURR.unique()\n",
    "B_ID = bureau.SK_ID_CURR.unique()\n",
    "#BB_ID = bb.SK_ID_CURR.unique()\n",
    "PA_ID = pa.SK_ID_CURR.unique()\n",
    "POS_ID = pos.SK_ID_CURR.unique()\n",
    "IP_ID = ip.SK_ID_CURR.unique()\n",
    "CC_ID = cc.SK_ID_CURR.unique()"
   ]
  },
  {
   "cell_type": "code",
   "execution_count": 12,
   "metadata": {},
   "outputs": [],
   "source": [
    "IDS = [APP_ID, B_ID, PA_ID, POS_ID, IP_ID, CC_ID]"
   ]
  },
  {
   "cell_type": "code",
   "execution_count": 9,
   "metadata": {},
   "outputs": [
    {
     "data": {
      "text/plain": [
       "307511"
      ]
     },
     "execution_count": 9,
     "metadata": {},
     "output_type": "execute_result"
    }
   ],
   "source": [
    "len(APP_ID)"
   ]
  },
  {
   "cell_type": "code",
   "execution_count": 20,
   "metadata": {},
   "outputs": [
    {
     "name": "stdout",
     "output_type": "stream",
     "text": [
      "\n",
      " 0 \n",
      "\n",
      "100.0\n",
      "85.68506492450678\n",
      "94.64929709831517\n",
      "94.12476301660753\n",
      "94.83985938714387\n",
      "28.260777663238063\n",
      "\n",
      " 1 \n",
      "\n",
      "86.1613872620671\n",
      "100.0\n",
      "95.18656948245811\n",
      "94.77356929606849\n",
      "95.38702008757043\n",
      "29.407052068107426\n",
      "\n",
      " 2 \n",
      "\n",
      "85.89375459264528\n",
      "85.90378832368816\n",
      "100.0\n",
      "99.11319524165062\n",
      "99.68659345977801\n",
      "30.310425931882772\n",
      "\n",
      " 3 \n",
      "\n",
      "85.82425011564054\n",
      "85.93811156049482\n",
      "99.58488014896872\n",
      "100.0\n",
      "99.84255097078743\n",
      "29.78722142492854\n",
      "\n",
      " 4 \n",
      "\n",
      "85.88167391566816\n",
      "85.89963691189591\n",
      "99.47230017639073\n",
      "99.15603365264278\n",
      "100.0\n",
      "30.414886317791908\n",
      "\n",
      " 5 \n",
      "\n",
      "83.91915641476274\n",
      "86.84022480156047\n",
      "99.18016956681281\n",
      "97.00650843005852\n",
      "99.73637961335676\n",
      "100.0\n"
     ]
    }
   ],
   "source": [
    "for i, ID1 in enumerate(IDS):\n",
    "    print(\"\\n\", i, \"\\n\")\n",
    "    for ID2 in IDS:\n",
    "        print(len(np.intersect1d(ID1, ID2, assume_unique=True))/len(ID1)*100)"
   ]
  },
  {
   "cell_type": "code",
   "execution_count": null,
   "metadata": {},
   "outputs": [],
   "source": []
  }
 ],
 "metadata": {
  "kernelspec": {
   "display_name": "Python 3",
   "language": "python",
   "name": "python3"
  },
  "language_info": {
   "codemirror_mode": {
    "name": "ipython",
    "version": 3
   },
   "file_extension": ".py",
   "mimetype": "text/x-python",
   "name": "python",
   "nbconvert_exporter": "python",
   "pygments_lexer": "ipython3",
   "version": "3.8.7"
  }
 },
 "nbformat": 4,
 "nbformat_minor": 4
}
