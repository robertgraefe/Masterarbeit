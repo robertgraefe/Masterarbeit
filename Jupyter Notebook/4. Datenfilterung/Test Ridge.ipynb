{
 "cells": [
  {
   "cell_type": "code",
   "execution_count": 1,
   "metadata": {},
   "outputs": [],
   "source": [
    "from pathlib import Path\n",
    "from sklearn.ensemble import RandomForestClassifier\n",
    "from sklearn.model_selection import train_test_split\n",
    "from sklearn.metrics import roc_curve, roc_auc_score\n",
    "\n",
    "from sklearn.model_selection import KFold\n",
    "from sklearn.metrics import plot_roc_curve\n",
    "from sklearn.metrics import auc\n",
    "\n",
    "import matplotlib.pyplot as plt\n",
    "import pandas as pd\n",
    "import numpy as np\n",
    "\n",
    "np.set_printoptions(suppress=True)\n",
    "\n",
    "pd.options.display.max_columns = None\n",
    "pd.options.display.max_rows = None\n",
    "pd.options.display.max_colwidth = None"
   ]
  },
  {
   "cell_type": "code",
   "execution_count": 2,
   "metadata": {},
   "outputs": [],
   "source": [
    "path1 = Path(r\"A:\\Workspace\\Python\\Masterarbeit\\Kaggle Home Credit Datensatz\")\n",
    "path2 = Path(r\"C:\\Users\\rober\\Documents\\Workspace\\Python\\Masterarbeit\\Kaggle Home Credit Datensatz\")\n",
    "\n",
    "if path1.is_dir():\n",
    "    DATASET_DIR = path1\n",
    "else:\n",
    "    DATASET_DIR = path2"
   ]
  },
  {
   "cell_type": "code",
   "execution_count": 3,
   "metadata": {},
   "outputs": [],
   "source": [
    "app_test = pd.read_csv(DATASET_DIR / \"application_test.csv\")\n",
    "app_train = pd.read_csv(DATASET_DIR / \"application_train.csv\")"
   ]
  },
  {
   "cell_type": "code",
   "execution_count": 4,
   "metadata": {},
   "outputs": [],
   "source": [
    "data = pd.read_csv(DATASET_DIR / \"Datengruppierung\" / \"dataset.csv\")\n",
    "app_train = data"
   ]
  },
  {
   "cell_type": "code",
   "execution_count": 5,
   "metadata": {},
   "outputs": [],
   "source": [
    "app_train[\"TARGET\"].replace(\n",
    "    {\n",
    "        0: \"Payback\",\n",
    "        1: \"Default\"\n",
    "    }, inplace = True\n",
    ")"
   ]
  },
  {
   "cell_type": "code",
   "execution_count": 6,
   "metadata": {},
   "outputs": [],
   "source": [
    "n_heads = ['TARGET', 'NAME_CONTRACT_TYPE', 'CODE_GENDER', 'FLAG_OWN_CAR', 'FLAG_OWN_REALTY', 'NAME_TYPE_SUITE', 'NAME_INCOME_TYPE', 'NAME_EDUCATION_TYPE', 'NAME_FAMILY_STATUS', 'NAME_HOUSING_TYPE', 'FLAG_MOBIL', 'FLAG_EMP_PHONE', 'FLAG_WORK_PHONE', 'FLAG_CONT_MOBILE', 'FLAG_PHONE', 'FLAG_EMAIL', 'OCCUPATION_TYPE', 'REGION_RATING_CLIENT', 'REGION_RATING_CLIENT_W_CITY', 'WEEKDAY_APPR_PROCESS_START', 'REG_REGION_NOT_LIVE_REGION', 'REG_REGION_NOT_WORK_REGION', 'LIVE_REGION_NOT_WORK_REGION', 'REG_CITY_NOT_LIVE_CITY', 'REG_CITY_NOT_WORK_CITY', 'LIVE_CITY_NOT_WORK_CITY', 'ORGANIZATION_TYPE', 'FONDKAPREMONT_MODE', 'HOUSETYPE_MODE', 'WALLSMATERIAL_MODE', 'EMERGENCYSTATE_MODE', 'FLAG_DOCUMENT_2', 'FLAG_DOCUMENT_3', 'FLAG_DOCUMENT_4', 'FLAG_DOCUMENT_5', 'FLAG_DOCUMENT_6', 'FLAG_DOCUMENT_7', 'FLAG_DOCUMENT_8', 'FLAG_DOCUMENT_9', 'FLAG_DOCUMENT_10', 'FLAG_DOCUMENT_11', 'FLAG_DOCUMENT_12', 'FLAG_DOCUMENT_13', 'FLAG_DOCUMENT_14', 'FLAG_DOCUMENT_15', 'FLAG_DOCUMENT_16', 'FLAG_DOCUMENT_17', 'FLAG_DOCUMENT_18', 'FLAG_DOCUMENT_19', 'FLAG_DOCUMENT_20', 'FLAG_DOCUMENT_21']\n",
    "m_heads = ['CNT_CHILDREN','AMT_INCOME_TOTAL', 'AMT_CREDIT', 'AMT_ANNUITY', 'AMT_GOODS_PRICE', 'REGION_POPULATION_RELATIVE', 'DAYS_BIRTH', 'DAYS_EMPLOYED', 'DAYS_REGISTRATION', 'DAYS_ID_PUBLISH', 'OWN_CAR_AGE', 'CNT_FAM_MEMBERS', 'HOUR_APPR_PROCESS_START', 'EXT_SOURCE_1', 'EXT_SOURCE_2', 'EXT_SOURCE_3', 'APARTMENTS_AVG', 'BASEMENTAREA_AVG', 'YEARS_BEGINEXPLUATATION_AVG', 'YEARS_BUILD_AVG', 'COMMONAREA_AVG', 'ELEVATORS_AVG', 'ENTRANCES_AVG', 'FLOORSMAX_AVG', 'FLOORSMIN_AVG', 'LANDAREA_AVG', 'LIVINGAPARTMENTS_AVG', 'LIVINGAREA_AVG', 'NONLIVINGAPARTMENTS_AVG', 'NONLIVINGAREA_AVG', 'APARTMENTS_MODE', 'BASEMENTAREA_MODE', 'YEARS_BEGINEXPLUATATION_MODE', 'YEARS_BUILD_MODE', 'COMMONAREA_MODE', 'ELEVATORS_MODE', 'ENTRANCES_MODE', 'FLOORSMAX_MODE', 'FLOORSMIN_MODE', 'LANDAREA_MODE', 'LIVINGAPARTMENTS_MODE', 'LIVINGAREA_MODE', 'NONLIVINGAPARTMENTS_MODE', 'NONLIVINGAREA_MODE', 'APARTMENTS_MEDI', 'BASEMENTAREA_MEDI', 'YEARS_BEGINEXPLUATATION_MEDI', 'YEARS_BUILD_MEDI', 'COMMONAREA_MEDI', 'ELEVATORS_MEDI', 'ENTRANCES_MEDI', 'FLOORSMAX_MEDI', 'FLOORSMIN_MEDI', 'LANDAREA_MEDI', 'LIVINGAPARTMENTS_MEDI', 'LIVINGAREA_MEDI', 'NONLIVINGAPARTMENTS_MEDI', 'NONLIVINGAREA_MEDI', 'TOTALAREA_MODE', 'OBS_30_CNT_SOCIAL_CIRCLE', 'DEF_30_CNT_SOCIAL_CIRCLE', 'OBS_60_CNT_SOCIAL_CIRCLE', 'DEF_60_CNT_SOCIAL_CIRCLE', 'DAYS_LAST_PHONE_CHANGE', 'AMT_REQ_CREDIT_BUREAU_HOUR', 'AMT_REQ_CREDIT_BUREAU_DAY', 'AMT_REQ_CREDIT_BUREAU_WEEK', 'AMT_REQ_CREDIT_BUREAU_MON', 'AMT_REQ_CREDIT_BUREAU_QRT', 'AMT_REQ_CREDIT_BUREAU_YEAR']\n",
    "md_heads = ['CNT_CHILDREN', \"CNT_FAM_MEMBERS\",\"HOUR_APPR_PROCESS_START\", \"OBS_30_CNT_SOCIAL_CIRCLE\",\"DEF_30_CNT_SOCIAL_CIRCLE\", \"OBS_60_CNT_SOCIAL_CIRCLE\", \"DEF_60_CNT_SOCIAL_CIRCLE\",\"AMT_REQ_CREDIT_BUREAU_HOUR\",\"AMT_REQ_CREDIT_BUREAU_DAY\",\"AMT_REQ_CREDIT_BUREAU_WEEK\",\"AMT_REQ_CREDIT_BUREAU_MON\",\"AMT_REQ_CREDIT_BUREAU_QRT\",\"AMT_REQ_CREDIT_BUREAU_YEAR\"]\n",
    "ms_heads = [head for head in m_heads if head not in md_heads]"
   ]
  },
  {
   "cell_type": "code",
   "execution_count": 7,
   "metadata": {},
   "outputs": [],
   "source": [
    "m = app_train[m_heads]\n",
    "n = app_train[n_heads]\n",
    "md = m[md_heads]\n",
    "ms = m[ms_heads]"
   ]
  },
  {
   "cell_type": "code",
   "execution_count": 8,
   "metadata": {},
   "outputs": [],
   "source": [
    "# Test Datenbereinigung\n",
    "# Verbesserung der Prognosegenauigkeit von 0.7465 auf 0.7501\n",
    "mode = [head for head in m_heads if \"MODE\" in head]\n",
    "medi = [head for head in m_heads if \"MEDI\" in head]\n",
    "app_train = app_train.drop(mode + medi, axis=1)\n",
    "\n",
    "andere = [\"REGION_RATING_CLIENT_W_CITY\", \"LIVE_REGION_NOT_WORK_REGION\"]\n",
    "for head in andere:\n",
    "    n_heads.remove(head)\n",
    "app_train = app_train.drop(andere, axis=1)"
   ]
  },
  {
   "cell_type": "code",
   "execution_count": 9,
   "metadata": {},
   "outputs": [],
   "source": [
    "# transformiert kategorische variablen in integer\n",
    "for head in n_heads:\n",
    "    app_train[head], cats = pd.factorize(app_train[head])"
   ]
  },
  {
   "cell_type": "code",
   "execution_count": 10,
   "metadata": {},
   "outputs": [],
   "source": [
    "y = app_train[\"TARGET\"]\n",
    "x = app_train.drop([\"SK_ID_CURR\", \"TARGET\"], axis=1)"
   ]
  },
  {
   "cell_type": "code",
   "execution_count": 11,
   "metadata": {},
   "outputs": [],
   "source": [
    "# ersätzt alle np.nan durch 0\n",
    "x = x.fillna(0)"
   ]
  },
  {
   "cell_type": "code",
   "execution_count": 12,
   "metadata": {},
   "outputs": [],
   "source": [
    "# # unterteilt den trainingsdatensatz in trainings- und validierungsdatensätze\n",
    "# x_train, x_test, y_train, y_test = train_test_split(x, y, test_size=.5, random_state=0)"
   ]
  },
  {
   "cell_type": "code",
   "execution_count": 14,
   "metadata": {},
   "outputs": [],
   "source": [
    "model = RandomForestClassifier(max_depth=15, random_state=0)\n",
    "#model = RandomForestClassifier(max_depth=20, random_state=0)"
   ]
  },
  {
   "cell_type": "code",
   "execution_count": 15,
   "metadata": {},
   "outputs": [
    {
     "ename": "KeyboardInterrupt",
     "evalue": "",
     "output_type": "error",
     "traceback": [
      "\u001b[1;31m---------------------------------------------------------------------------\u001b[0m",
      "\u001b[1;31mKeyboardInterrupt\u001b[0m                         Traceback (most recent call last)",
      "\u001b[1;32m<ipython-input-15-384e2bfffba3>\u001b[0m in \u001b[0;36m<module>\u001b[1;34m\u001b[0m\n\u001b[0;32m      6\u001b[0m \u001b[1;31m# enumerate splits\u001b[0m\u001b[1;33m\u001b[0m\u001b[1;33m\u001b[0m\u001b[1;33m\u001b[0m\u001b[0m\n\u001b[0;32m      7\u001b[0m \u001b[1;32mfor\u001b[0m \u001b[0mi\u001b[0m\u001b[1;33m,\u001b[0m \u001b[1;33m(\u001b[0m\u001b[0mtrain\u001b[0m\u001b[1;33m,\u001b[0m \u001b[0mtest\u001b[0m\u001b[1;33m)\u001b[0m \u001b[1;32min\u001b[0m \u001b[0menumerate\u001b[0m\u001b[1;33m(\u001b[0m\u001b[0mkfold\u001b[0m\u001b[1;33m.\u001b[0m\u001b[0msplit\u001b[0m\u001b[1;33m(\u001b[0m\u001b[0mdata\u001b[0m\u001b[1;33m)\u001b[0m\u001b[1;33m)\u001b[0m\u001b[1;33m:\u001b[0m\u001b[1;33m\u001b[0m\u001b[1;33m\u001b[0m\u001b[0m\n\u001b[1;32m----> 8\u001b[1;33m     \u001b[0mmodel\u001b[0m\u001b[1;33m.\u001b[0m\u001b[0mfit\u001b[0m\u001b[1;33m(\u001b[0m\u001b[0mx\u001b[0m\u001b[1;33m.\u001b[0m\u001b[0mloc\u001b[0m\u001b[1;33m[\u001b[0m\u001b[0mtrain\u001b[0m\u001b[1;33m]\u001b[0m\u001b[1;33m,\u001b[0m \u001b[0my\u001b[0m\u001b[1;33m.\u001b[0m\u001b[0mloc\u001b[0m\u001b[1;33m[\u001b[0m\u001b[0mtrain\u001b[0m\u001b[1;33m]\u001b[0m\u001b[1;33m)\u001b[0m\u001b[1;33m\u001b[0m\u001b[1;33m\u001b[0m\u001b[0m\n\u001b[0m\u001b[0;32m      9\u001b[0m \u001b[1;33m\u001b[0m\u001b[0m\n\u001b[0;32m     10\u001b[0m     \u001b[1;31m# Prognosewerte der Testdaten in %\u001b[0m\u001b[1;33m\u001b[0m\u001b[1;33m\u001b[0m\u001b[1;33m\u001b[0m\u001b[0m\n",
      "\u001b[1;32mc:\\users\\rober\\documents\\workspace\\python\\masterarbeit\\venv\\lib\\site-packages\\sklearn\\ensemble\\_forest.py\u001b[0m in \u001b[0;36mfit\u001b[1;34m(self, X, y, sample_weight)\u001b[0m\n\u001b[0;32m    384\u001b[0m             \u001b[1;31m# parallel_backend contexts set at a higher level,\u001b[0m\u001b[1;33m\u001b[0m\u001b[1;33m\u001b[0m\u001b[1;33m\u001b[0m\u001b[0m\n\u001b[0;32m    385\u001b[0m             \u001b[1;31m# since correctness does not rely on using threads.\u001b[0m\u001b[1;33m\u001b[0m\u001b[1;33m\u001b[0m\u001b[1;33m\u001b[0m\u001b[0m\n\u001b[1;32m--> 386\u001b[1;33m             trees = Parallel(n_jobs=self.n_jobs, verbose=self.verbose,\n\u001b[0m\u001b[0;32m    387\u001b[0m                              \u001b[1;33m**\u001b[0m\u001b[0m_joblib_parallel_args\u001b[0m\u001b[1;33m(\u001b[0m\u001b[0mprefer\u001b[0m\u001b[1;33m=\u001b[0m\u001b[1;34m'threads'\u001b[0m\u001b[1;33m)\u001b[0m\u001b[1;33m)\u001b[0m\u001b[1;33m(\u001b[0m\u001b[1;33m\u001b[0m\u001b[1;33m\u001b[0m\u001b[0m\n\u001b[0;32m    388\u001b[0m                 delayed(_parallel_build_trees)(\n",
      "\u001b[1;32mc:\\users\\rober\\documents\\workspace\\python\\masterarbeit\\venv\\lib\\site-packages\\joblib\\parallel.py\u001b[0m in \u001b[0;36m__call__\u001b[1;34m(self, iterable)\u001b[0m\n\u001b[0;32m   1049\u001b[0m                 \u001b[0mself\u001b[0m\u001b[1;33m.\u001b[0m\u001b[0m_iterating\u001b[0m \u001b[1;33m=\u001b[0m \u001b[0mself\u001b[0m\u001b[1;33m.\u001b[0m\u001b[0m_original_iterator\u001b[0m \u001b[1;32mis\u001b[0m \u001b[1;32mnot\u001b[0m \u001b[1;32mNone\u001b[0m\u001b[1;33m\u001b[0m\u001b[1;33m\u001b[0m\u001b[0m\n\u001b[0;32m   1050\u001b[0m \u001b[1;33m\u001b[0m\u001b[0m\n\u001b[1;32m-> 1051\u001b[1;33m             \u001b[1;32mwhile\u001b[0m \u001b[0mself\u001b[0m\u001b[1;33m.\u001b[0m\u001b[0mdispatch_one_batch\u001b[0m\u001b[1;33m(\u001b[0m\u001b[0miterator\u001b[0m\u001b[1;33m)\u001b[0m\u001b[1;33m:\u001b[0m\u001b[1;33m\u001b[0m\u001b[1;33m\u001b[0m\u001b[0m\n\u001b[0m\u001b[0;32m   1052\u001b[0m                 \u001b[1;32mpass\u001b[0m\u001b[1;33m\u001b[0m\u001b[1;33m\u001b[0m\u001b[0m\n\u001b[0;32m   1053\u001b[0m \u001b[1;33m\u001b[0m\u001b[0m\n",
      "\u001b[1;32mc:\\users\\rober\\documents\\workspace\\python\\masterarbeit\\venv\\lib\\site-packages\\joblib\\parallel.py\u001b[0m in \u001b[0;36mdispatch_one_batch\u001b[1;34m(self, iterator)\u001b[0m\n\u001b[0;32m    864\u001b[0m                 \u001b[1;32mreturn\u001b[0m \u001b[1;32mFalse\u001b[0m\u001b[1;33m\u001b[0m\u001b[1;33m\u001b[0m\u001b[0m\n\u001b[0;32m    865\u001b[0m             \u001b[1;32melse\u001b[0m\u001b[1;33m:\u001b[0m\u001b[1;33m\u001b[0m\u001b[1;33m\u001b[0m\u001b[0m\n\u001b[1;32m--> 866\u001b[1;33m                 \u001b[0mself\u001b[0m\u001b[1;33m.\u001b[0m\u001b[0m_dispatch\u001b[0m\u001b[1;33m(\u001b[0m\u001b[0mtasks\u001b[0m\u001b[1;33m)\u001b[0m\u001b[1;33m\u001b[0m\u001b[1;33m\u001b[0m\u001b[0m\n\u001b[0m\u001b[0;32m    867\u001b[0m                 \u001b[1;32mreturn\u001b[0m \u001b[1;32mTrue\u001b[0m\u001b[1;33m\u001b[0m\u001b[1;33m\u001b[0m\u001b[0m\n\u001b[0;32m    868\u001b[0m \u001b[1;33m\u001b[0m\u001b[0m\n",
      "\u001b[1;32mc:\\users\\rober\\documents\\workspace\\python\\masterarbeit\\venv\\lib\\site-packages\\joblib\\parallel.py\u001b[0m in \u001b[0;36m_dispatch\u001b[1;34m(self, batch)\u001b[0m\n\u001b[0;32m    782\u001b[0m         \u001b[1;32mwith\u001b[0m \u001b[0mself\u001b[0m\u001b[1;33m.\u001b[0m\u001b[0m_lock\u001b[0m\u001b[1;33m:\u001b[0m\u001b[1;33m\u001b[0m\u001b[1;33m\u001b[0m\u001b[0m\n\u001b[0;32m    783\u001b[0m             \u001b[0mjob_idx\u001b[0m \u001b[1;33m=\u001b[0m \u001b[0mlen\u001b[0m\u001b[1;33m(\u001b[0m\u001b[0mself\u001b[0m\u001b[1;33m.\u001b[0m\u001b[0m_jobs\u001b[0m\u001b[1;33m)\u001b[0m\u001b[1;33m\u001b[0m\u001b[1;33m\u001b[0m\u001b[0m\n\u001b[1;32m--> 784\u001b[1;33m             \u001b[0mjob\u001b[0m \u001b[1;33m=\u001b[0m \u001b[0mself\u001b[0m\u001b[1;33m.\u001b[0m\u001b[0m_backend\u001b[0m\u001b[1;33m.\u001b[0m\u001b[0mapply_async\u001b[0m\u001b[1;33m(\u001b[0m\u001b[0mbatch\u001b[0m\u001b[1;33m,\u001b[0m \u001b[0mcallback\u001b[0m\u001b[1;33m=\u001b[0m\u001b[0mcb\u001b[0m\u001b[1;33m)\u001b[0m\u001b[1;33m\u001b[0m\u001b[1;33m\u001b[0m\u001b[0m\n\u001b[0m\u001b[0;32m    785\u001b[0m             \u001b[1;31m# A job can complete so quickly than its callback is\u001b[0m\u001b[1;33m\u001b[0m\u001b[1;33m\u001b[0m\u001b[1;33m\u001b[0m\u001b[0m\n\u001b[0;32m    786\u001b[0m             \u001b[1;31m# called before we get here, causing self._jobs to\u001b[0m\u001b[1;33m\u001b[0m\u001b[1;33m\u001b[0m\u001b[1;33m\u001b[0m\u001b[0m\n",
      "\u001b[1;32mc:\\users\\rober\\documents\\workspace\\python\\masterarbeit\\venv\\lib\\site-packages\\joblib\\_parallel_backends.py\u001b[0m in \u001b[0;36mapply_async\u001b[1;34m(self, func, callback)\u001b[0m\n\u001b[0;32m    206\u001b[0m     \u001b[1;32mdef\u001b[0m \u001b[0mapply_async\u001b[0m\u001b[1;33m(\u001b[0m\u001b[0mself\u001b[0m\u001b[1;33m,\u001b[0m \u001b[0mfunc\u001b[0m\u001b[1;33m,\u001b[0m \u001b[0mcallback\u001b[0m\u001b[1;33m=\u001b[0m\u001b[1;32mNone\u001b[0m\u001b[1;33m)\u001b[0m\u001b[1;33m:\u001b[0m\u001b[1;33m\u001b[0m\u001b[1;33m\u001b[0m\u001b[0m\n\u001b[0;32m    207\u001b[0m         \u001b[1;34m\"\"\"Schedule a func to be run\"\"\"\u001b[0m\u001b[1;33m\u001b[0m\u001b[1;33m\u001b[0m\u001b[0m\n\u001b[1;32m--> 208\u001b[1;33m         \u001b[0mresult\u001b[0m \u001b[1;33m=\u001b[0m \u001b[0mImmediateResult\u001b[0m\u001b[1;33m(\u001b[0m\u001b[0mfunc\u001b[0m\u001b[1;33m)\u001b[0m\u001b[1;33m\u001b[0m\u001b[1;33m\u001b[0m\u001b[0m\n\u001b[0m\u001b[0;32m    209\u001b[0m         \u001b[1;32mif\u001b[0m \u001b[0mcallback\u001b[0m\u001b[1;33m:\u001b[0m\u001b[1;33m\u001b[0m\u001b[1;33m\u001b[0m\u001b[0m\n\u001b[0;32m    210\u001b[0m             \u001b[0mcallback\u001b[0m\u001b[1;33m(\u001b[0m\u001b[0mresult\u001b[0m\u001b[1;33m)\u001b[0m\u001b[1;33m\u001b[0m\u001b[1;33m\u001b[0m\u001b[0m\n",
      "\u001b[1;32mc:\\users\\rober\\documents\\workspace\\python\\masterarbeit\\venv\\lib\\site-packages\\joblib\\_parallel_backends.py\u001b[0m in \u001b[0;36m__init__\u001b[1;34m(self, batch)\u001b[0m\n\u001b[0;32m    570\u001b[0m         \u001b[1;31m# Don't delay the application, to avoid keeping the input\u001b[0m\u001b[1;33m\u001b[0m\u001b[1;33m\u001b[0m\u001b[1;33m\u001b[0m\u001b[0m\n\u001b[0;32m    571\u001b[0m         \u001b[1;31m# arguments in memory\u001b[0m\u001b[1;33m\u001b[0m\u001b[1;33m\u001b[0m\u001b[1;33m\u001b[0m\u001b[0m\n\u001b[1;32m--> 572\u001b[1;33m         \u001b[0mself\u001b[0m\u001b[1;33m.\u001b[0m\u001b[0mresults\u001b[0m \u001b[1;33m=\u001b[0m \u001b[0mbatch\u001b[0m\u001b[1;33m(\u001b[0m\u001b[1;33m)\u001b[0m\u001b[1;33m\u001b[0m\u001b[1;33m\u001b[0m\u001b[0m\n\u001b[0m\u001b[0;32m    573\u001b[0m \u001b[1;33m\u001b[0m\u001b[0m\n\u001b[0;32m    574\u001b[0m     \u001b[1;32mdef\u001b[0m \u001b[0mget\u001b[0m\u001b[1;33m(\u001b[0m\u001b[0mself\u001b[0m\u001b[1;33m)\u001b[0m\u001b[1;33m:\u001b[0m\u001b[1;33m\u001b[0m\u001b[1;33m\u001b[0m\u001b[0m\n",
      "\u001b[1;32mc:\\users\\rober\\documents\\workspace\\python\\masterarbeit\\venv\\lib\\site-packages\\joblib\\parallel.py\u001b[0m in \u001b[0;36m__call__\u001b[1;34m(self)\u001b[0m\n\u001b[0;32m    260\u001b[0m         \u001b[1;31m# change the default number of processes to -1\u001b[0m\u001b[1;33m\u001b[0m\u001b[1;33m\u001b[0m\u001b[1;33m\u001b[0m\u001b[0m\n\u001b[0;32m    261\u001b[0m         \u001b[1;32mwith\u001b[0m \u001b[0mparallel_backend\u001b[0m\u001b[1;33m(\u001b[0m\u001b[0mself\u001b[0m\u001b[1;33m.\u001b[0m\u001b[0m_backend\u001b[0m\u001b[1;33m,\u001b[0m \u001b[0mn_jobs\u001b[0m\u001b[1;33m=\u001b[0m\u001b[0mself\u001b[0m\u001b[1;33m.\u001b[0m\u001b[0m_n_jobs\u001b[0m\u001b[1;33m)\u001b[0m\u001b[1;33m:\u001b[0m\u001b[1;33m\u001b[0m\u001b[1;33m\u001b[0m\u001b[0m\n\u001b[1;32m--> 262\u001b[1;33m             return [func(*args, **kwargs)\n\u001b[0m\u001b[0;32m    263\u001b[0m                     for func, args, kwargs in self.items]\n\u001b[0;32m    264\u001b[0m \u001b[1;33m\u001b[0m\u001b[0m\n",
      "\u001b[1;32mc:\\users\\rober\\documents\\workspace\\python\\masterarbeit\\venv\\lib\\site-packages\\joblib\\parallel.py\u001b[0m in \u001b[0;36m<listcomp>\u001b[1;34m(.0)\u001b[0m\n\u001b[0;32m    260\u001b[0m         \u001b[1;31m# change the default number of processes to -1\u001b[0m\u001b[1;33m\u001b[0m\u001b[1;33m\u001b[0m\u001b[1;33m\u001b[0m\u001b[0m\n\u001b[0;32m    261\u001b[0m         \u001b[1;32mwith\u001b[0m \u001b[0mparallel_backend\u001b[0m\u001b[1;33m(\u001b[0m\u001b[0mself\u001b[0m\u001b[1;33m.\u001b[0m\u001b[0m_backend\u001b[0m\u001b[1;33m,\u001b[0m \u001b[0mn_jobs\u001b[0m\u001b[1;33m=\u001b[0m\u001b[0mself\u001b[0m\u001b[1;33m.\u001b[0m\u001b[0m_n_jobs\u001b[0m\u001b[1;33m)\u001b[0m\u001b[1;33m:\u001b[0m\u001b[1;33m\u001b[0m\u001b[1;33m\u001b[0m\u001b[0m\n\u001b[1;32m--> 262\u001b[1;33m             return [func(*args, **kwargs)\n\u001b[0m\u001b[0;32m    263\u001b[0m                     for func, args, kwargs in self.items]\n\u001b[0;32m    264\u001b[0m \u001b[1;33m\u001b[0m\u001b[0m\n",
      "\u001b[1;32mc:\\users\\rober\\documents\\workspace\\python\\masterarbeit\\venv\\lib\\site-packages\\sklearn\\ensemble\\_forest.py\u001b[0m in \u001b[0;36m_parallel_build_trees\u001b[1;34m(tree, forest, X, y, sample_weight, tree_idx, n_trees, verbose, class_weight, n_samples_bootstrap)\u001b[0m\n\u001b[0;32m    166\u001b[0m                                                         indices=indices)\n\u001b[0;32m    167\u001b[0m \u001b[1;33m\u001b[0m\u001b[0m\n\u001b[1;32m--> 168\u001b[1;33m         \u001b[0mtree\u001b[0m\u001b[1;33m.\u001b[0m\u001b[0mfit\u001b[0m\u001b[1;33m(\u001b[0m\u001b[0mX\u001b[0m\u001b[1;33m,\u001b[0m \u001b[0my\u001b[0m\u001b[1;33m,\u001b[0m \u001b[0msample_weight\u001b[0m\u001b[1;33m=\u001b[0m\u001b[0mcurr_sample_weight\u001b[0m\u001b[1;33m,\u001b[0m \u001b[0mcheck_input\u001b[0m\u001b[1;33m=\u001b[0m\u001b[1;32mFalse\u001b[0m\u001b[1;33m)\u001b[0m\u001b[1;33m\u001b[0m\u001b[1;33m\u001b[0m\u001b[0m\n\u001b[0m\u001b[0;32m    169\u001b[0m     \u001b[1;32melse\u001b[0m\u001b[1;33m:\u001b[0m\u001b[1;33m\u001b[0m\u001b[1;33m\u001b[0m\u001b[0m\n\u001b[0;32m    170\u001b[0m         \u001b[0mtree\u001b[0m\u001b[1;33m.\u001b[0m\u001b[0mfit\u001b[0m\u001b[1;33m(\u001b[0m\u001b[0mX\u001b[0m\u001b[1;33m,\u001b[0m \u001b[0my\u001b[0m\u001b[1;33m,\u001b[0m \u001b[0msample_weight\u001b[0m\u001b[1;33m=\u001b[0m\u001b[0msample_weight\u001b[0m\u001b[1;33m,\u001b[0m \u001b[0mcheck_input\u001b[0m\u001b[1;33m=\u001b[0m\u001b[1;32mFalse\u001b[0m\u001b[1;33m)\u001b[0m\u001b[1;33m\u001b[0m\u001b[1;33m\u001b[0m\u001b[0m\n",
      "\u001b[1;32mc:\\users\\rober\\documents\\workspace\\python\\masterarbeit\\venv\\lib\\site-packages\\sklearn\\tree\\_classes.py\u001b[0m in \u001b[0;36mfit\u001b[1;34m(self, X, y, sample_weight, check_input, X_idx_sorted)\u001b[0m\n\u001b[0;32m    888\u001b[0m         \"\"\"\n\u001b[0;32m    889\u001b[0m \u001b[1;33m\u001b[0m\u001b[0m\n\u001b[1;32m--> 890\u001b[1;33m         super().fit(\n\u001b[0m\u001b[0;32m    891\u001b[0m             \u001b[0mX\u001b[0m\u001b[1;33m,\u001b[0m \u001b[0my\u001b[0m\u001b[1;33m,\u001b[0m\u001b[1;33m\u001b[0m\u001b[1;33m\u001b[0m\u001b[0m\n\u001b[0;32m    892\u001b[0m             \u001b[0msample_weight\u001b[0m\u001b[1;33m=\u001b[0m\u001b[0msample_weight\u001b[0m\u001b[1;33m,\u001b[0m\u001b[1;33m\u001b[0m\u001b[1;33m\u001b[0m\u001b[0m\n",
      "\u001b[1;32mc:\\users\\rober\\documents\\workspace\\python\\masterarbeit\\venv\\lib\\site-packages\\sklearn\\tree\\_classes.py\u001b[0m in \u001b[0;36mfit\u001b[1;34m(self, X, y, sample_weight, check_input, X_idx_sorted)\u001b[0m\n\u001b[0;32m    373\u001b[0m                                            min_impurity_split)\n\u001b[0;32m    374\u001b[0m \u001b[1;33m\u001b[0m\u001b[0m\n\u001b[1;32m--> 375\u001b[1;33m         \u001b[0mbuilder\u001b[0m\u001b[1;33m.\u001b[0m\u001b[0mbuild\u001b[0m\u001b[1;33m(\u001b[0m\u001b[0mself\u001b[0m\u001b[1;33m.\u001b[0m\u001b[0mtree_\u001b[0m\u001b[1;33m,\u001b[0m \u001b[0mX\u001b[0m\u001b[1;33m,\u001b[0m \u001b[0my\u001b[0m\u001b[1;33m,\u001b[0m \u001b[0msample_weight\u001b[0m\u001b[1;33m,\u001b[0m \u001b[0mX_idx_sorted\u001b[0m\u001b[1;33m)\u001b[0m\u001b[1;33m\u001b[0m\u001b[1;33m\u001b[0m\u001b[0m\n\u001b[0m\u001b[0;32m    376\u001b[0m \u001b[1;33m\u001b[0m\u001b[0m\n\u001b[0;32m    377\u001b[0m         \u001b[1;32mif\u001b[0m \u001b[0mself\u001b[0m\u001b[1;33m.\u001b[0m\u001b[0mn_outputs_\u001b[0m \u001b[1;33m==\u001b[0m \u001b[1;36m1\u001b[0m \u001b[1;32mand\u001b[0m \u001b[0mis_classifier\u001b[0m\u001b[1;33m(\u001b[0m\u001b[0mself\u001b[0m\u001b[1;33m)\u001b[0m\u001b[1;33m:\u001b[0m\u001b[1;33m\u001b[0m\u001b[1;33m\u001b[0m\u001b[0m\n",
      "\u001b[1;31mKeyboardInterrupt\u001b[0m: "
     ]
    }
   ],
   "source": [
    "aucs = []\n",
    "\n",
    "kfold = KFold(5, True, 1)\n",
    "data = app_train\n",
    "\n",
    "# enumerate splits\n",
    "for i, (train, test) in enumerate(kfold.split(data)):\n",
    "    model.fit(x.loc[train], y.loc[train])\n",
    "    \n",
    "    # Prognosewerte der Testdaten in %\n",
    "    x_test_prob = model.predict_proba(x.loc[test])\n",
    "\n",
    "    # Erstellung der AUC & ROC-Metrik\n",
    "    # Wahrscheinlichkeiten für keinen Kreditausfall\n",
    "    prob = x_test_prob[:,1]\n",
    "    auc = roc_auc_score(y.loc[test], prob)\n",
    "    aucs.append(auc)\n",
    "    print('train: %s, test: %s, auc: %s' % (train, test, auc))\n",
    "\n",
    "print(\"\\n\")\n",
    "print(\"Durchschnitt: %.2f\" % (np.mean(aucs)))\n",
    "print(\"Standardabw.: %.2f\" % (np.std(aucs)))\n",
    "print(\"Varianz:      %.2f\" % (np.var(aucs)))"
   ]
  },
  {
   "cell_type": "markdown",
   "metadata": {},
   "source": [
    "### Test Grid Search"
   ]
  },
  {
   "cell_type": "code",
   "execution_count": 13,
   "metadata": {},
   "outputs": [],
   "source": [
    "model = RandomForestClassifier()"
   ]
  },
  {
   "cell_type": "code",
   "execution_count": 14,
   "metadata": {},
   "outputs": [
    {
     "data": {
      "text/plain": [
       "{'bootstrap': True,\n",
       " 'ccp_alpha': 0.0,\n",
       " 'class_weight': None,\n",
       " 'criterion': 'gini',\n",
       " 'max_depth': None,\n",
       " 'max_features': 'auto',\n",
       " 'max_leaf_nodes': None,\n",
       " 'max_samples': None,\n",
       " 'min_impurity_decrease': 0.0,\n",
       " 'min_impurity_split': None,\n",
       " 'min_samples_leaf': 1,\n",
       " 'min_samples_split': 2,\n",
       " 'min_weight_fraction_leaf': 0.0,\n",
       " 'n_estimators': 100,\n",
       " 'n_jobs': None,\n",
       " 'oob_score': False,\n",
       " 'random_state': None,\n",
       " 'verbose': 0,\n",
       " 'warm_start': False}"
      ]
     },
     "execution_count": 14,
     "metadata": {},
     "output_type": "execute_result"
    }
   ],
   "source": [
    "model.get_params()"
   ]
  },
  {
   "cell_type": "code",
   "execution_count": 15,
   "metadata": {},
   "outputs": [],
   "source": [
    "param_grid = [\n",
    "  {\n",
    "      \"max_depth\" : [5, 10, 15, 20, 25, 100, 200, None],\n",
    "      \"max_features\" : [5, 10, 15, 20, 100, 250, 500, 600, \"auto\"],\n",
    "      \"max_samples\" : [5, 10, 15, 20, 25, 100, 200],\n",
    "      \"min_samples_leaf\" : [50, 100, 150, 200],\n",
    "      \"n_estimators\": [50, 100, 150, 200],\n",
    "  }\n",
    "]"
   ]
  },
  {
   "cell_type": "code",
   "execution_count": 16,
   "metadata": {},
   "outputs": [],
   "source": [
    "from sklearn.model_selection import GridSearchCV"
   ]
  },
  {
   "cell_type": "code",
   "execution_count": 17,
   "metadata": {},
   "outputs": [],
   "source": [
    "x_train, x_test, y_train, y_test = train_test_split(x, y, test_size=.5, random_state=0)"
   ]
  },
  {
   "cell_type": "code",
   "execution_count": 18,
   "metadata": {},
   "outputs": [],
   "source": [
    "scoring = {'AUC': 'roc_auc'}"
   ]
  },
  {
   "cell_type": "code",
   "execution_count": null,
   "metadata": {},
   "outputs": [],
   "source": [
    "clf = GridSearchCV(\n",
    "        RandomForestClassifier(), param_grid, scoring=\"roc_auc\", n_jobs=-1\n",
    "        #RandomForestClassifier(), param_grid, scoring=scoring, refit=\"AUC\", return_train_score=True\n",
    "    )\n",
    "clf.fit(x_train, y_train)"
   ]
  },
  {
   "cell_type": "code",
   "execution_count": null,
   "metadata": {},
   "outputs": [],
   "source": [
    "clf.best_params_"
   ]
  },
  {
   "cell_type": "code",
   "execution_count": null,
   "metadata": {},
   "outputs": [],
   "source": [
    "results = clf.cv_results_"
   ]
  },
  {
   "cell_type": "code",
   "execution_count": null,
   "metadata": {},
   "outputs": [],
   "source": [
    "results"
   ]
  },
  {
   "cell_type": "code",
   "execution_count": 58,
   "metadata": {},
   "outputs": [
    {
     "data": {
      "image/png": "[encoded data removed]",
      "text/plain": [
       "<Figure size 936x936 with 1 Axes>"
      ]
     },
     "metadata": {
      "needs_background": "light"
     },
     "output_type": "display_data"
    }
   ],
   "source": [
    "plt.figure(figsize=(13, 13))\n",
    "plt.title(\"GridSearchCV evaluating using multiple scorers simultaneously\",\n",
    "          fontsize=16)\n",
    "\n",
    "plt.xlabel(\"min_samples_split\")\n",
    "plt.ylabel(\"Score\")\n",
    "\n",
    "ax = plt.gca()\n",
    "ax.set_xlim(0, 20)\n",
    "ax.set_ylim(0.5, 1)\n",
    "\n",
    "# Get the regular numpy array from the MaskedArray\n",
    "X_axis = np.array(results['param_max_depth'].data, dtype=float)\n",
    "\n",
    "for scorer, color in zip(sorted(scoring), ['g']):\n",
    "    for sample, style in (('train', '--'),('test', '-')):\n",
    "        sample_score_mean = results['mean_%s_%s' % (sample, scorer)]\n",
    "        sample_score_std = results['std_%s_%s' % (sample, scorer)]\n",
    "        ax.fill_between(X_axis, sample_score_mean - sample_score_std,\n",
    "                        sample_score_mean + sample_score_std,\n",
    "                        alpha=0.1 if sample == 'test' else 0, color=color)\n",
    "        ax.plot(X_axis, sample_score_mean, style, color=color,\n",
    "                alpha=1 if sample == 'test' else 0.7,\n",
    "                label=\"%s (%s)\" % (scorer, sample))\n",
    "\n",
    "    best_index = np.nonzero(results['rank_test_%s' % scorer] == 1)[0][0]\n",
    "    best_score = results['mean_test_%s' % scorer][best_index]\n",
    "\n",
    "    # Plot a dotted vertical line at the best score for that scorer marked by x\n",
    "    ax.plot([X_axis[best_index], ] * 2, [0, best_score],\n",
    "            linestyle='-.', color=color, marker='x', markeredgewidth=3, ms=8)\n",
    "\n",
    "    # Annotate the best score for that scorer\n",
    "    ax.annotate(\"%0.2f\" % best_score,\n",
    "                (X_axis[best_index], best_score + 0.005))\n",
    "\n",
    "plt.legend(loc=\"best\")\n",
    "plt.grid(False)\n",
    "plt.show()"
   ]
  },
  {
   "cell_type": "markdown",
   "metadata": {},
   "source": [
    "### Sortierung der Parameter nach Feature Importance eines einfachen Random Forest Modells\n",
    "\n",
    "Nach dieser Sortierung erfolgt die systematische Paramterfilterung mittels Ridge Regression"
   ]
  },
  {
   "cell_type": "code",
   "execution_count": 66,
   "metadata": {},
   "outputs": [],
   "source": [
    "# Feature Importance\n",
    "\n",
    "# Koeffizienten der einzelnen Klassen\n",
    "coef_dict = {}\n",
    "for coef, feat in zip(model.feature_importances_, x.columns.values):\n",
    "    coef_dict[feat] = coef\n",
    "\n",
    "d = dict(sorted(coef_dict.items(), key=lambda item: item[1], reverse=True))\n",
    "\n",
    "# for i,v in d.items():\n",
    "#     print('Feature: {}, Score: {}'.format(i,v))"
   ]
  },
  {
   "cell_type": "code",
   "execution_count": 67,
   "metadata": {},
   "outputs": [],
   "source": [
    "from sklearn.linear_model import Ridge\n",
    "from sklearn.model_selection import RepeatedKFold\n",
    "from sklearn.model_selection import cross_val_score\n",
    "from sklearn.model_selection import GridSearchCV\n",
    "\n",
    "# model = Ridge()\n",
    "# # define model evaluation method\n",
    "\n",
    "# cv = RepeatedKFold(n_splits=10, n_repeats=3, random_state=1)\n",
    "# # define grid\n",
    "# grid = dict()\n",
    "# grid['alpha'] = np.arange(0, 1, 0.01)\n",
    "# # define search\n",
    "# search = GridSearchCV(model, grid, scoring='neg_mean_absolute_error', cv=cv, n_jobs=-1)\n",
    "# # perform the search\n",
    "# results = search.fit(x, y)\n",
    "# # summarize\n",
    "# print('MAE: %.3f' % results.best_score_)\n",
    "# print('Config: %s' % results.best_params_)"
   ]
  },
  {
   "cell_type": "code",
   "execution_count": 68,
   "metadata": {},
   "outputs": [],
   "source": [
    "def ridge_auc(x):\n",
    "    x = x.fillna(0)\n",
    "    x_train, x_test, y_train, y_test = train_test_split(x, y, test_size=.5, random_state=0)\n",
    "    #normalisiert, da manche variablen sehr stark auseindergehende werte haben und damit eine warnung verursachen\n",
    "    model = Ridge(alpha=0,normalize=True)\n",
    "    model.fit(x,y)\n",
    "    auc = roc_auc_score(y_test, model.predict(x_test))\n",
    "    return auc"
   ]
  },
  {
   "cell_type": "code",
   "execution_count": 70,
   "metadata": {},
   "outputs": [
    {
     "name": "stderr",
     "output_type": "stream",
     "text": [
      "c:\\users\\rober\\documents\\workspace\\python\\masterarbeit\\venv\\lib\\site-packages\\sklearn\\utils\\validation.py:67: FutureWarning: Pass shuffle=True, random_state=1 as keyword args. From version 0.25 passing these as positional arguments will result in an error\n",
      "  warnings.warn(\"Pass {} as keyword args. From version 0.25 \"\n"
     ]
    },
    {
     "name": "stdout",
     "output_type": "stream",
     "text": [
      "train: [     0      2      3 ... 307508 307509 307510], test: [     1      4      6 ... 307493 307495 307501], auc: 0.7652198582327638\n",
      "train: [     0      1      2 ... 307508 307509 307510], test: [     3     18     22 ... 307499 307503 307504], auc: 0.7500047692501117\n",
      "train: [     0      1      2 ... 307508 307509 307510], test: [     9     10     15 ... 307489 307492 307502], auc: 0.7507863642291437\n",
      "train: [     0      1      2 ... 307506 307507 307508], test: [    12     16     23 ... 307505 307509 307510], auc: 0.7527535584706329\n",
      "train: [     1      3      4 ... 307505 307509 307510], test: [     0      2      5 ... 307506 307507 307508], auc: 0.7536624964165308\n",
      "\n",
      "\n",
      "Durchschnitt: 0.75\n",
      "Standardabw.: 0.01\n",
      "Varianz:      0.00\n"
     ]
    }
   ],
   "source": [
    "model = Ridge(alpha=0)\n",
    "data = app_train\n",
    "\n",
    "aucs = []\n",
    "kfold = KFold(5, True, 1)\n",
    "\n",
    "# enumerate splits\n",
    "for i, (train, test) in enumerate(kfold.split(data)):\n",
    "    model.fit(x.loc[train], y.loc[train])\n",
    "    auc = roc_auc_score(y.loc[test], model.predict(x.loc[test]))\n",
    "    aucs.append(auc)\n",
    "    print('train: %s, test: %s, auc: %s' % (train, test, auc))\n",
    "\n",
    "print(\"\\n\")\n",
    "print(\"Durchschnitt: %.2f\" % (np.mean(aucs)))\n",
    "print(\"Standardabw.: %.2f\" % (np.std(aucs)))\n",
    "print(\"Varianz:      %.2f\" % (np.var(aucs)))"
   ]
  },
  {
   "cell_type": "code",
   "execution_count": null,
   "metadata": {},
   "outputs": [],
   "source": [
    "# ACHTUNG! Sehr zeitintensiver Code. Nächste Zeile fasst das Ergebnis zusammen.\n",
    "\n",
    "# features = list(reversed(t.index))\n",
    "# drop = []\n",
    "# v = features[:3]\n",
    "# x_ = x[v]\n",
    "# auc = ridge_auc(x_)\n",
    "# features = features[3:]\n",
    "# for feature in features:\n",
    "#     v.append(feature)\n",
    "#     x_ = x[v]\n",
    "#     auc_ = ridge_auc(x_)\n",
    "#     diff = auc_ - auc\n",
    "#     print(diff, feature)\n",
    "#     auc = auc_\n",
    "#     if diff < 0:\n",
    "#         drop.append(feature)\n",
    "\n",
    "# features = list(reversed(t.index))\n",
    "# test = [feature for feature in features if feature not in drop]\n",
    "# drop"
   ]
  },
  {
   "cell_type": "code",
   "execution_count": 71,
   "metadata": {},
   "outputs": [],
   "source": [
    "drop = [\"('DAYS_CREDIT', 1.0)\", \"('AMT_CREDIT_MAX_OVERDUE', 0.75)\", \"('AMT_TOTAL_RECEIVABLE', 0.25)\", \"('AMT_CREDIT_SUM_DEBT', 0.75)\", \"('AMT_CREDIT_MAX_OVERDUE', 0.5)\", \"('AMT_BALANCE', 0.5)\", \"('AMT_RECEIVABLE_PRINCIPAL', 0.0)\", \"('AMT_PAYMENT', 1.0)\", \"('AMT_TOTAL_RECEIVABLE', 0.5)\", \"('AMT_CREDIT_SUM_DEBT', 1.0)\", \"('DAYS_CREDIT_UPDATE', 0.0)\", \"('AMT_BALANCE', 0.75)\", \"('DAYS_LAST_DUE_1ST_VERSION', 0.0)\", \"('DAYS_LAST_DUE_1ST_VERSION', 0.5)\", \"('CNT_DRAWINGS_ATM_CURRENT', 1.0)\", 'REGION_POPULATION_RELATIVE', 'ELEVATORS_AVG', 'WALLSMATERIAL_MODE', \"('AMT_INSTALMENT', 0.75)\", \"('CNT_PAYMENT', 0.5)\", \"('AMT_CREDIT_SUM_DEBT', 0.25)\", \"('AMT_RECIVABLE', 0.5)\", \"('AMT_BALANCE', 1.0)\", \"('AMT_PAYMENT_CURRENT', 0.25)\", \"('CNT_DRAWINGS_POS_CURRENT', 0.75)\", \"('DAYS_FIRST_DUE', 0.5)\", \"('AMT_ANNUITY', 0.5)_pa\", \"('CNT_INSTALMENT_MATURE_CUM', 0.5)\", \"('AMT_TOTAL_RECEIVABLE', 1.0)\", \"('AMT_CREDIT_MAX_OVERDUE', 0.0)\", \"('DAYS_DECISION', 0.75)\", \"('HOUR_APPR_PROCESS_START', 0.0)\", \"('AMT_PAYMENT_TOTAL_CURRENT', 0.25)\", \"('HOUR_APPR_PROCESS_START', 0.75)\", '43', \"('AMT_GOODS_PRICE', 1.0)\", \"('AMT_CREDIT_SUM', 0.0)\", \"('AMT_APPLICATION', 0.25)\", '1', \"('AMT_DRAWINGS_CURRENT', 1.0)\", \"('AMT_INST_MIN_REGULARITY', 0.75)\", \"('DAYS_LAST_DUE', 0.5)\", \"('AMT_CREDIT', 0.75)\", \"('AMT_DRAWINGS_ATM_CURRENT', 0.5)\", \"('AMT_GOODS_PRICE', 0.5)\", \"('AMT_DRAWINGS_CURRENT', 0.5)\", \"('AMT_ANNUITY', 0.75)_pa\", 'YEARS_BUILD_AVG', \"('HOUR_APPR_PROCESS_START', 0.25)\", \"('HOUR_APPR_PROCESS_START', 1.0)\", 'BASEMENTAREA_AVG', '4', \"('AMT_CREDIT_SUM_OVERDUE', 0.5)\", \"('CNT_DRAWINGS_CURRENT', 0.5)\", \"('RATE_DOWN_PAYMENT', 0.5)\", \"('DAYS_DECISION', 1.0)\", '58', \"('MONTHS_BALANCE', 0.5)_cc\", \"('AMT_DRAWINGS_POS_CURRENT', 0.75)\", \"('CNT_INSTALMENT_MATURE_CUM', 0.25)\", '10', \"('CREDIT_DAY_OVERDUE', 0.75)\", 'AMT_INCOME_TOTAL', '38', 'OBS_30_CNT_SOCIAL_CIRCLE', '29', 'FLOORSMIN_AVG', \"('AMT_DRAWINGS_POS_CURRENT', 0.5)\", \"('CNT_INSTALMENT_MATURE_CUM', 1.0)\", '31', \"('AMT_APPLICATION', 1.0)\", '57', \"('CNT_INSTALMENT_FUTURE', 0.0)\", \"('AMT_ANNUITY', 1.0)\", '7', '20', \"('SK_DPD_DEF', 1.0)_cc\", '34', 'Card X-Sell', \"('AMT_DOWN_PAYMENT', 0.0)\", 'NAME_TYPE_SUITE', 'Cash Street: low', '2', '9', \"('AMT_CREDIT_LIMIT_ACTUAL', 0.0)\", \"('AMT_ANNUITY', 0.75)\", 'NONLIVINGAREA_AVG', '66', '40', '49', '28', '13', '48', \"('CNT_DRAWINGS_POS_CURRENT', 0.25)\", \"('AMT_CREDIT_SUM_LIMIT', 0.25)\", '24', '32', '45', \"('CNT_DRAWINGS_POS_CURRENT', 0.5)\", '36', \"('AMT_ANNUITY', 0.5)\", \"('AMT_DRAWINGS_POS_CURRENT', 0.0)\", \"('AMT_INST_MIN_REGULARITY', 0.0)\", \"('SK_DPD_DEF', 0.75)_cc\", \"('NFLAG_INSURED_ON_APPROVAL', 0.25)\", 'LIVE_CITY_NOT_WORK_CITY', \"('SK_DPD', 0.5)\", \"('CNT_CREDIT_PROLONG', 1.0)\", '35', '47', \"('DAYS_FIRST_DRAWING', 1.0)\", '178', 'POS mobile without interest', '82', '181', 'AMT_REQ_CREDIT_BUREAU_WEEK', \"('CNT_CREDIT_PROLONG', 0.5)\", '96', '12', \"('SK_DPD', 0.0)\", '114', '136', \"('RATE_INTEREST_PRIVILEGED', 0.75)\", \"('RATE_INTEREST_PRIVILEGED', 0.5)\", '128', 'Loan for business development', 'FLAG_DOCUMENT_21', 'AMT_REQ_CREDIT_BUREAU_DAY', '93', '22', '131', '72', 'POS industry without interest', '86', '116', \"('AMT_CREDIT_SUM_OVERDUE', 0.0)\", '75', 'FLAG_OWN_REALTY', '79', \"('RATE_INTEREST_PRIVILEGED', 0.25)\", '156', '78', '137', 'Signed_cc', '122', '99', '80', '138', '89', '95', '127', '87', 'FLAG_DOCUMENT_11', \"('CNT_DRAWINGS_OTHER_CURRENT', 0.75)\", '74', 'AMT_REQ_CREDIT_BUREAU_MON', \"('AMT_DRAWINGS_OTHER_CURRENT', 0.5)\", 'Another type of loan', '151', 'Car loan', '90', \"('NFLAG_INSURED_ON_APPROVAL', 1.0)\", '208', 'Unknown type of loan', '91', \"('RATE_INTEREST_PRIVILEGED', 0.0)\", '196', '223', '225', '228', '230', '231', '234', '235', '237', '238', '240', '221', '218', '198', '200', '201', '203', '205', '207', '209', '212', '214', '244', 'Demand_cc', '268', '270', '272', '274', '276', \"('AMT_DRAWINGS_OTHER_CURRENT', 0.25)\", \"('CNT_DRAWINGS_OTHER_CURRENT', 0.25)\", \"('SK_DPD_DEF', 0.0)_cc\", \"('SK_DPD_DEF', 0.5)_cc\", '267', '265', '246', '247', '248', '250', '252', '253', '256', '258', '260', '262', '197', \"('SK_DPD_DEF', 0.0)\", 'XNA', '73', '84', '113', \"('NFLAG_LAST_APPL_IN_DAY', 0.75)\", 'FLAG_DOCUMENT_10', 'REG_REGION_NOT_WORK_REGION', 'FLAG_DOCUMENT_7', 'Real estate loan', \"('CNT_CREDIT_PROLONG', 0.0)\", 'Interbank credit', 'Loan for purchase of shares (margin lending)', '126', '194', '169', '170', '177', '183', '184', '191', '192', '165', '163', '135', '140', '141', '144', '161', '152', '153', '154', '158']"
   ]
  },
  {
   "cell_type": "markdown",
   "metadata": {},
   "source": [
    "# Random Forest 2"
   ]
  },
  {
   "cell_type": "code",
   "execution_count": 72,
   "metadata": {},
   "outputs": [],
   "source": [
    "head = [head for head in x.columns if head not in drop]"
   ]
  },
  {
   "cell_type": "code",
   "execution_count": 73,
   "metadata": {},
   "outputs": [],
   "source": [
    "x = x[head]"
   ]
  },
  {
   "cell_type": "code",
   "execution_count": 74,
   "metadata": {},
   "outputs": [],
   "source": [
    "model = RandomForestClassifier(max_depth=7, random_state=0)\n",
    "#model = RandomForestClassifier(max_depth=20, random_state=0)"
   ]
  },
  {
   "cell_type": "code",
   "execution_count": 75,
   "metadata": {},
   "outputs": [
    {
     "data": {
      "text/plain": [
       "RandomForestClassifier(max_depth=7, random_state=0)"
      ]
     },
     "execution_count": 75,
     "metadata": {},
     "output_type": "execute_result"
    }
   ],
   "source": [
    "model.fit(x,y)"
   ]
  },
  {
   "cell_type": "code",
   "execution_count": 76,
   "metadata": {},
   "outputs": [
    {
     "name": "stderr",
     "output_type": "stream",
     "text": [
      "c:\\users\\rober\\documents\\workspace\\python\\masterarbeit\\venv\\lib\\site-packages\\sklearn\\utils\\validation.py:67: FutureWarning: Pass shuffle=True, random_state=1 as keyword args. From version 0.25 passing these as positional arguments will result in an error\n",
      "  warnings.warn(\"Pass {} as keyword args. From version 0.25 \"\n"
     ]
    },
    {
     "name": "stdout",
     "output_type": "stream",
     "text": [
      "train: [     0      2      3 ... 307508 307509 307510], test: [     1      4      6 ... 307493 307495 307501], auc: 0.7268808649039264\n",
      "train: [     0      1      2 ... 307508 307509 307510], test: [     3     18     22 ... 307499 307503 307504], auc: 0.7234024316391607\n",
      "train: [     0      1      2 ... 307508 307509 307510], test: [     9     10     15 ... 307489 307492 307502], auc: 0.7180667335382116\n",
      "train: [     0      1      2 ... 307506 307507 307508], test: [    12     16     23 ... 307505 307509 307510], auc: 0.7197507925372268\n",
      "train: [     1      3      4 ... 307505 307509 307510], test: [     0      2      5 ... 307506 307507 307508], auc: 0.7196781373882329\n",
      "\n",
      "\n",
      "Durchschnitt: 0.72\n",
      "Standardabw.: 0.00\n",
      "Varianz:      0.00\n"
     ]
    }
   ],
   "source": [
    "aucs = []\n",
    "\n",
    "kfold = KFold(5, True, 1)\n",
    "data = x\n",
    "\n",
    "# enumerate splits\n",
    "for i, (train, test) in enumerate(kfold.split(data)):\n",
    "    model.fit(x.loc[train], y.loc[train])\n",
    "    \n",
    "    # Prognosewerte der Testdaten in %\n",
    "    x_test_prob = model.predict_proba(x.loc[test])\n",
    "\n",
    "    # Erstellung der AUC & ROC-Metrik\n",
    "    # Wahrscheinlichkeiten für keinen Kreditausfall\n",
    "    prob = x_test_prob[:,1]\n",
    "    auc = roc_auc_score(y.loc[test], prob)\n",
    "    aucs.append(auc)\n",
    "    print('train: %s, test: %s, auc: %s' % (train, test, auc))\n",
    "\n",
    "print(\"\\n\")\n",
    "print(\"Durchschnitt: %.2f\" % (np.mean(aucs)))\n",
    "print(\"Standardabw.: %.2f\" % (np.std(aucs)))\n",
    "print(\"Varianz:      %.2f\" % (np.var(aucs)))"
   ]
  },
  {
   "cell_type": "code",
   "execution_count": 77,
   "metadata": {},
   "outputs": [
    {
     "data": {
      "text/plain": [
       "245"
      ]
     },
     "execution_count": 77,
     "metadata": {},
     "output_type": "execute_result"
    }
   ],
   "source": [
    "len(drop)"
   ]
  },
  {
   "cell_type": "code",
   "execution_count": 78,
   "metadata": {},
   "outputs": [
    {
     "data": {
      "text/plain": [
       "469"
      ]
     },
     "execution_count": 78,
     "metadata": {},
     "output_type": "execute_result"
    }
   ],
   "source": [
    "len(x.columns)"
   ]
  },
  {
   "cell_type": "markdown",
   "metadata": {},
   "source": [
    "### Ergebnis: kleine Verbesserung der AUC, Möglichkeit zum Löschen von 245 Variablen ohne Prognoseverlust"
   ]
  },
  {
   "cell_type": "code",
   "execution_count": 112,
   "metadata": {},
   "outputs": [
    {
     "name": "stdout",
     "output_type": "stream",
     "text": [
      "train: [     0      1      2 ... 307508 307509 307510], test: [     6     19     20 ... 307488 307493 307495]\n",
      "train: [     0      2      3 ... 307508 307509 307510], test: [     1      4      8 ... 307471 307480 307501]\n",
      "train: [     0      1      2 ... 307508 307509 307510], test: [     3     18     30 ... 307474 307499 307503]\n",
      "train: [     0      1      2 ... 307508 307509 307510], test: [    22     29     38 ... 307473 307487 307504]\n",
      "train: [     0      1      2 ... 307508 307509 307510], test: [    21     42     56 ... 307475 307489 307502]\n",
      "train: [     0      1      2 ... 307508 307509 307510], test: [     9     10     15 ... 307483 307486 307492]\n",
      "train: [     0      1      2 ... 307507 307508 307509], test: [    12     16     25 ... 307484 307500 307510]\n",
      "train: [     0      1      2 ... 307507 307508 307510], test: [    23     37     55 ... 307497 307505 307509]\n",
      "train: [     0      1      3 ... 307506 307509 307510], test: [     2     11     35 ... 307494 307507 307508]\n",
      "train: [     1      2      3 ... 307508 307509 307510], test: [     0      5      7 ... 307491 307498 307506]\n"
     ]
    },
    {
     "data": {
      "image/png": "[encoded data removed]",
      "text/plain": [
       "<Figure size 432x288 with 1 Axes>"
      ]
     },
     "metadata": {
      "needs_background": "light"
     },
     "output_type": "display_data"
    }
   ],
   "source": [
    "# Optische Repräsentation der Cross-Validation\n",
    "\n",
    "# tprs = []\n",
    "# aucs = []\n",
    "# mean_fpr = np.linspace(0, 1, 100)\n",
    "# fig, ax = plt.subplots()\n",
    "\n",
    "# # enumerate splits\n",
    "# for i, (train, test) in enumerate(kfold.split(data)):\n",
    "#     print('train: %s, test: %s' % (train, test))\n",
    "#     model.fit(x.loc[train], y.loc[train])\n",
    "    \n",
    "# #     # Prognosewerte der Testdaten in %\n",
    "# #     x_test_prob = model.predict_proba(x.loc[test])\n",
    "\n",
    "# #     # Erstellung der AUC & ROC-Metrik\n",
    "# #     # Wahrscheinlichkeiten für keinen Kreditausfall\n",
    "# #     prob = x_test_prob[:,1]\n",
    "# #     auc = roc_auc_score(y.loc[test], prob)\n",
    "# #     print(auc)\n",
    "    \n",
    "# #     # FalsePositiveRate, TruePositiveRate & Treshold\n",
    "# #     fpr, tpr, threshold = roc_curve(y.loc[test], prob)\n",
    "    \n",
    "#     viz = plot_roc_curve(model, x.loc[test], y.loc[test],\n",
    "#                      name='ROC fold {}'.format(i),\n",
    "#                      alpha=0.3, lw=1, ax=ax)\n",
    "    \n",
    "#     interp_tpr = np.interp(mean_fpr, viz.fpr, viz.tpr)\n",
    "#     interp_tpr[0] = 0.0\n",
    "    \n",
    "#     tprs.append(interp_tpr)\n",
    "#     aucs.append(viz.roc_auc)\n",
    "\n",
    "# ax.plot([0, 1], [0, 1], linestyle='--', lw=2, color='r',\n",
    "#         label='Chance', alpha=.8)\n",
    "\n",
    "# mean_tpr = np.mean(tprs, axis=0)\n",
    "# mean_tpr[-1] = 1.0\n",
    "# mean_auc = auc(mean_fpr, mean_tpr)\n",
    "# std_auc = np.std(aucs)\n",
    "# ax.plot(mean_fpr, mean_tpr, color='b',\n",
    "#         label=r'Mean ROC (AUC = %0.2f $\\pm$ %0.2f)' % (mean_auc, std_auc),\n",
    "#         lw=2, alpha=.8)\n",
    "\n",
    "# std_tpr = np.std(tprs, axis=0)\n",
    "# tprs_upper = np.minimum(mean_tpr + std_tpr, 1)\n",
    "# tprs_lower = np.maximum(mean_tpr - std_tpr, 0)\n",
    "# ax.fill_between(mean_fpr, tprs_lower, tprs_upper, color='grey', alpha=.2,\n",
    "#                 label=r'$\\pm$ 1 std. dev.')\n",
    "\n",
    "# ax.set(xlim=[-0.05, 1.05], ylim=[-0.05, 1.05],\n",
    "#        title=\"Receiver operating characteristic example\")\n",
    "# ax.legend(loc=\"lower right\")\n",
    "# plt.show()"
   ]
  },
  {
   "cell_type": "code",
   "execution_count": null,
   "metadata": {},
   "outputs": [],
   "source": []
  }
 ],
 "metadata": {
  "kernelspec": {
   "display_name": "Python 3",
   "language": "python",
   "name": "python3"
  },
  "language_info": {
   "codemirror_mode": {
    "name": "ipython",
    "version": 3
   },
   "file_extension": ".py",
   "mimetype": "text/x-python",
   "name": "python",
   "nbconvert_exporter": "python",
   "pygments_lexer": "ipython3",
   "version": "3.8.7"
  }
 },
 "nbformat": 4,
 "nbformat_minor": 4
}
