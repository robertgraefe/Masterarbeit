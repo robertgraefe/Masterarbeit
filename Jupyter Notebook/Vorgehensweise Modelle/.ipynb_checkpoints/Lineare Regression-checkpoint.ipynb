{
 "cells": [
  {
   "cell_type": "code",
   "execution_count": 1,
   "metadata": {},
   "outputs": [],
   "source": [
    "import numpy as np\n",
    "import random\n",
    "from matplotlib import pyplot as plt"
   ]
  },
  {
   "cell_type": "code",
   "execution_count": 8,
   "metadata": {},
   "outputs": [
    {
     "name": "stdout",
     "output_type": "stream",
     "text": [
      "0.16666666666666666\n",
      "0.16671233342466685\n"
     ]
    },
    {
     "data": {
      "image/png": "[encoded data removed]",
      "text/plain": [
       "<Figure size 432x288 with 1 Axes>"
      ]
     },
     "metadata": {
      "needs_background": "light"
     },
     "output_type": "display_data"
    }
   ],
   "source": [
    "n_a = 0\n",
    "h = []\n",
    "for N in range(1,500000):\n",
    "    a = random.randint(1,6)\n",
    "    if a == 1:\n",
    "        n_a += 1\n",
    "    h.append(n_a/N)\n",
    "\n",
    "h = np.array(h)\n",
    "plt.plot(h)\n",
    "\n",
    "print(1/6)\n",
    "print(h[-1])"
   ]
  },
  {
   "cell_type": "code",
   "execution_count": 47,
   "metadata": {},
   "outputs": [
    {
     "name": "stdout",
     "output_type": "stream",
     "text": [
      "[ 1  2  3  4  5  6  7  8  9 10]\n",
      "[ 2  4  6  8 10 12 14 16 18 20]\n",
      "5.5\n",
      "11.0\n",
      "8.25\n",
      "33.0\n"
     ]
    }
   ],
   "source": [
    "a = [x for x in range (1,11)]\n",
    "a = np.array(a)\n",
    "print(a)\n",
    "\n",
    "b = [x for x in range (1,21) if x % 2 == 0]\n",
    "b = np.array(b)\n",
    "print(b)\n",
    "\n",
    "print(a.mean())\n",
    "print(b.mean())\n",
    "\n",
    "print(a.var())\n",
    "print(b.var())"
   ]
  },
  {
   "cell_type": "code",
   "execution_count": 41,
   "metadata": {},
   "outputs": [
    {
     "data": {
      "text/plain": [
       "82.5"
      ]
     },
     "execution_count": 41,
     "metadata": {},
     "output_type": "execute_result"
    }
   ],
   "source": [
    "t = [x - a.mean() for x in a]\n",
    "t = np.array(t)\n",
    "t = np.square(t)\n",
    "t = t.sum()\n",
    "t"
   ]
  },
  {
   "cell_type": "code",
   "execution_count": 48,
   "metadata": {},
   "outputs": [
    {
     "data": {
      "text/plain": [
       "1.499375"
      ]
     },
     "execution_count": 48,
     "metadata": {},
     "output_type": "execute_result"
    }
   ],
   "source": [
    "null = [0 for x in range(45)]\n",
    "eins = [1 for x in range(70)]\n",
    "zwei = [2 for x in range(50)]\n",
    "drei = [3 for x in range(20)]\n",
    "vier = [4 for x in range(10)]\n",
    "fünf = [5 for x in range(5)]\n",
    "\n",
    "x = null + eins + zwei + drei + vier + fünf\n",
    "\n",
    "x = np.array(x)\n",
    "x.var()"
   ]
  },
  {
   "cell_type": "code",
   "execution_count": 49,
   "metadata": {},
   "outputs": [
    {
     "data": {
      "text/plain": [
       "[<matplotlib.lines.Line2D at 0x2173947a040>]"
      ]
     },
     "execution_count": 49,
     "metadata": {},
     "output_type": "execute_result"
    },
    {
     "data": {
      "image/png": "[encoded data removed]",
      "text/plain": [
       "<Figure size 432x288 with 1 Axes>"
      ]
     },
     "metadata": {
      "needs_background": "light"
     },
     "output_type": "display_data"
    }
   ],
   "source": [
    "plt.plot(x)"
   ]
  },
  {
   "cell_type": "code",
   "execution_count": null,
   "metadata": {},
   "outputs": [],
   "source": []
  }
 ],
 "metadata": {
  "kernelspec": {
   "display_name": "Python 3",
   "language": "python",
   "name": "python3"
  },
  "language_info": {
   "codemirror_mode": {
    "name": "ipython",
    "version": 3
   },
   "file_extension": ".py",
   "mimetype": "text/x-python",
   "name": "python",
   "nbconvert_exporter": "python",
   "pygments_lexer": "ipython3",
   "version": "3.8.6"
  }
 },
 "nbformat": 4,
 "nbformat_minor": 4
}
