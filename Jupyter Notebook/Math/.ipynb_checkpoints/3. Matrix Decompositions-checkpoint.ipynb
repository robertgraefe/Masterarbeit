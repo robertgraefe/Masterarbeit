{
 "cells": [
  {
   "cell_type": "markdown",
   "metadata": {},
   "source": [
    "# Matrix Decompositions"
   ]
  },
  {
   "cell_type": "markdown",
   "metadata": {},
   "source": [
    "## Determinant and Trace"
   ]
  },
  {
   "cell_type": "markdown",
   "metadata": {},
   "source": [
    "A determinant is a mathematical object in the analysis and solution of systems of linear equations and are only defined for square matrices $A \\in R^{nxn}$. It is a function that maps a matrix $A$ onto a real number.\n",
    "\n",
    "$det(A) = |A|$\n",
    "\n",
    "A determinant can be interpreted as the area in $R^{2x2}$ and as the volume in $R^{3x3}$."
   ]
  },
  {
   "cell_type": "markdown",
   "metadata": {},
   "source": [
    "### Example"
   ]
  },
  {
   "cell_type": "markdown",
   "metadata": {},
   "source": [
    "Testing for Invertablility\n",
    "\n",
    "$A \\in R^{1x1} \\to A$ is a scalar $a$.\n",
    "\n",
    "$A=a \\to A^{-1}=\\frac{1}{a}\\:if\\:a \\neq 0$\n",
    "\n",
    "$A \\in R^{2x2}$\n",
    "\n",
    "$AA^{-1} = I \\to A^{-1} = \\frac{1}{a_{11}a_{22}-a_{12}a_{21}} \\begin{bmatrix} a_{22} & -a_{12} \\\\ -a_{21} & a_{11} \\end{bmatrix}\\:if\\:a_{11}a_{22}-a_{12}a_{21} \\neq 0$\n",
    "\n",
    "$det(A) = \\begin{vmatrix} a_{11} & a_{12} \\\\ a_{21} & a_{22} \\end{vmatrix} = a_{11}a_{22}-a_{12}a_{21}$\n",
    "\n",
    "If $det \\neq 0$ than the matrix is invertable."
   ]
  },
  {
   "cell_type": "markdown",
   "metadata": {},
   "source": [
    "### Determinant of triangular matrices"
   ]
  },
  {
   "cell_type": "markdown",
   "metadata": {},
   "source": [
    "A square matrix $T$ is called an $\\textbf{upper_triangular matrix}$ if it contains only 0 below its diagonal.\n",
    "\n",
    "$\\begin{bmatrix}\n",
    "3 & 2 & 3 & 4 \\\\\n",
    "0 & 5 & 5 & 6 \\\\\n",
    "0 & 0 & 0 & 7 \\\\\n",
    "0 & 0 & 0 & 9 \\\\\n",
    "\\end{bmatrix}$\n",
    "\n",
    "A square matrix $T$ is called an $\\textbf{lower_triangular matrix}$ if it contains only 0 above its diagonal.\n",
    "\n",
    "$\\begin{bmatrix}\n",
    "3 & 0 & 0 & 0 \\\\\n",
    "2 & 5 & 0 & 0 \\\\\n",
    "3 & 5 & 3 & 0 \\\\\n",
    "4 & 2 & 5 & 9 \\\\\n",
    "\\end{bmatrix}$\n",
    "\n",
    "For a triangular matrix the determinant is the product of the diagonal elements.\n",
    "\n",
    "$det(T) = \\prod_{i=1}^{n}{T_{ii}}$"
   ]
  },
  {
   "cell_type": "markdown",
   "metadata": {},
   "source": [
    "### Determinant in $R^{nxn}$ with the recursive Laplace Expansion"
   ]
  },
  {
   "cell_type": "markdown",
   "metadata": {},
   "source": [
    "Consider a matrix $A \\in R^{nxn}$.\n",
    "\n",
    "- Expansion along column $j$:\n",
    "$det(A) = \\sum_{k=1}^{n} (-1)^{k+j}a_{kj}det(A_{k,j})$\n",
    "\n",
    "- Expansion along row $j$:\n",
    "$det(A) = \\sum_{k=1}^{n} (-1)^{k+j}a_{jk}det(A_{j,k})$\n",
    "\n",
    "$A_{k,j} \\in R^{n-1xn-1}$ is a submatrix of A that is obtained by deleting row k and column j."
   ]
  },
  {
   "cell_type": "markdown",
   "metadata": {},
   "source": [
    "### Example\n",
    "\n",
    "$A = \\begin{bmatrix}\n",
    "1&2&3\\\\\n",
    "3&1&2\\\\\n",
    "0&0&1\\\\\n",
    "\\end{bmatrix}$\n",
    "\n",
    "Applying the expansion along the first row:\n",
    "\n",
    "$\\begin{vmatrix}\n",
    "1&2&3\\\\\n",
    "3&1&2\\\\\n",
    "0&0&1\\\\\n",
    "\\end{vmatrix}\n",
    "= (-1)^{1+1} \\cdot 1 \\begin{vmatrix} 1&2\\\\0&1 \\end{vmatrix}\n",
    "+ (-1)^{1+2} \\cdot 2 \\begin{vmatrix} 3&2\\\\0&1 \\end{vmatrix}\n",
    "+ (-1)^{1+3} \\cdot 3 \\begin{vmatrix} 3&1\\\\0&0 \\end{vmatrix}\n",
    "$\n",
    "\n",
    "$\n",
    "= 1 \\cdot 1(1-0)+(-1) \\cdot 2(3-0)+ 1 \\cdot 3(0-0) = -5\n",
    "$\n",
    "\n",
    "$det(A) = -5$"
   ]
  },
  {
   "cell_type": "markdown",
   "metadata": {},
   "source": [
    "### Determinant Properties\n",
    "\n",
    "- $det(AB) = det(A) det(B)$\n",
    "- $det(A) = det(A^T)$\n",
    "- if $A$ is regular invertible then $det(A^{-1}) =  \\frac{1}{det(A)}$\n",
    "- similar matrices possess the same determinant\n",
    "- adding a multiple of a row/column to another one does not change $det(A)$\n",
    "- scalar multiplication of A: $det(\\lambda A) = \\lambda^n det(A)$\n",
    "- swapping two rows/columns changes the sign of $det(A)$\n",
    "\n",
    "Those properties allow for the use of Gaussian elimination to compute $det(A)$:\n",
    "- bring $A$ into row-echelon form\n",
    "- stop if $A$ is a triangular matrix\n",
    "- calculate $det(A)$\n",
    "\n",
    "A square matrix $A \\in R^{nxn}$ has $det(A) \\neq 0$ if $rk(A)=n$. $\\to A$ is invertible if it is full rank.  \n",
    "\n",
    "The $\\textbf{trace}$ of a square matrix $A \\in R^{nxn}$ is defined as:\n",
    "\n",
    "$\n",
    "tr(A) := \\sum_{i=1}^{n} a_{ii}\n",
    "\\to\n",
    "$ the trace is the sum of the diagonal elements.\n",
    "\n",
    "- $tr(A+B) = tr(A)+tr(B)$\n",
    "- $tr(\\alpha A) = \\alpha tr(A)$\n",
    "- $tr(I_n) = n$\n",
    "- $tr(AB) = tr(BA)$\n",
    "- $tr(xy^T)=tr(y^Tx)=y^Tx$\n",
    "- $tr(B)=tr(S^{-1}AS)=tr(ASS^{-1})=tr(A) \\to$ matrix representations of linar mappings are basis dependent; the trace of a linar mapping is basis independent \n",
    "\n",
    "The $\\textbf{Characteristic Polynomial}$ is defined as:\n",
    "\n",
    "$p_A(\\lambda):=det(A- \\lambda I) = c_0+c_1 \\lambda + c_2 \\lambda ^2+ ... + c_{n-1} \\lambda^{n-1} + (-1)^n \\lambda^n$\n",
    "\n",
    "where $c_0, ...c_{n-1} \\in R$ is the  $\\textbf{characteristic polynomial}$ of $A$.\n",
    "\n",
    "- $c_0=det(A)$\n",
    "- $c_{n-1}=(-1)^{n-1}tr(A)$"
   ]
  },
  {
   "cell_type": "code",
   "execution_count": null,
   "metadata": {},
   "outputs": [],
   "source": []
  },
  {
   "cell_type": "code",
   "execution_count": null,
   "metadata": {},
   "outputs": [],
   "source": []
  },
  {
   "cell_type": "code",
   "execution_count": null,
   "metadata": {},
   "outputs": [],
   "source": []
  },
  {
   "cell_type": "code",
   "execution_count": null,
   "metadata": {},
   "outputs": [],
   "source": []
  },
  {
   "cell_type": "code",
   "execution_count": null,
   "metadata": {},
   "outputs": [],
   "source": []
  }
 ],
 "metadata": {
  "kernelspec": {
   "display_name": "Python 3",
   "language": "python",
   "name": "python3"
  },
  "language_info": {
   "codemirror_mode": {
    "name": "ipython",
    "version": 3
   },
   "file_extension": ".py",
   "mimetype": "text/x-python",
   "name": "python",
   "nbconvert_exporter": "python",
   "pygments_lexer": "ipython3",
   "version": "3.8.7"
  }
 },
 "nbformat": 4,
 "nbformat_minor": 4
}
