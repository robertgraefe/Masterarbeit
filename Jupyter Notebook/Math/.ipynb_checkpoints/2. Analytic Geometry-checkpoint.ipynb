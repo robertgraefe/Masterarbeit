{
 "cells": [
  {
   "cell_type": "code",
   "execution_count": 2,
   "metadata": {},
   "outputs": [],
   "source": [
    "from matplotlib import pyplot as plt"
   ]
  },
  {
   "cell_type": "markdown",
   "metadata": {},
   "source": [
    "# Analytic Geometry"
   ]
  },
  {
   "cell_type": "markdown",
   "metadata": {},
   "source": [
    "## Norms"
   ]
  },
  {
   "cell_type": "markdown",
   "metadata": {},
   "source": [
    "A $\\textbf{norm}$ on a vector space $V$ is a function which assigns each vector $x$ its length $\\lVert x \\rVert$\n",
    "\n",
    "The length fullfills the following conditions:\n",
    "- Absolutely homogeneous: $\\lVert \\lambda x \\rVert = |\\lambda| * \\lVert x \\rVert $\n",
    "- Triangle inequality: $ \\lVert x + y \\rVert \\leq \\lVert x \\rVert + \\lVert y \\rVert $ : the sum of the length of any 2 triangle sides must be greater or equal to the length of the remaining side\n",
    "- Positive definite: $ \\lVert x \\rVert \\geq 0 $ and $ \\lVert x \\rVert = 0 \\iff x = 0$\n",
    "\n",
    "Different Norms:\n",
    "- Manhatten Norm: $\\lVert x \\rVert _ 1 = l_1 = \\sum|x|$\n",
    "- Euclidian Norm: $\\lVert x \\rVert _ 2 = l_2 = \\sqrt{\\sum|x^2|} = \\sqrt{x^Tx}$"
   ]
  },
  {
   "cell_type": "code",
   "execution_count": 11,
   "metadata": {},
   "outputs": [
    {
     "data": {
      "image/png": "[encoded data removed]",
      "text/plain": [
       "<Figure size 360x360 with 1 Axes>"
      ]
     },
     "metadata": {
      "needs_background": "light"
     },
     "output_type": "display_data"
    }
   ],
   "source": [
    "fig, ax = plt.subplots(figsize=(5, 5))\n",
    "plt.grid()  \n",
    "plt.xlim([-1.5, 1.5])\n",
    "plt.ylim([-1.5, 1.5])\n",
    "\n",
    "plt.plot([-1, 0, 1, 0, -1], [0, 1, 0, -1, 0], color='r', linewidth=2)\n",
    "plt.title(\"Manhatten Norm\")\n",
    "plt.show()"
   ]
  },
  {
   "cell_type": "code",
   "execution_count": 10,
   "metadata": {},
   "outputs": [
    {
     "data": {
      "image/png": "[encoded data removed]",
      "text/plain": [
       "<Figure size 360x360 with 1 Axes>"
      ]
     },
     "metadata": {
      "needs_background": "light"
     },
     "output_type": "display_data"
    }
   ],
   "source": [
    "fig, ax = plt.subplots(figsize=(5, 5))\n",
    "plt.grid()  \n",
    "plt.xlim([-1.5, 1.5])\n",
    "plt.ylim([-1.5, 1.5])\n",
    "circle = plt.Circle((0, 0), 1, color='r', fill=0, linewidth=2)  \n",
    "ax.add_artist(circle)\n",
    "plt.title(\"Euclidian Norm\")\n",
    "plt.show()"
   ]
  },
  {
   "cell_type": "markdown",
   "metadata": {},
   "source": [
    "## Inner Products"
   ]
  },
  {
   "cell_type": "markdown",
   "metadata": {},
   "source": [
    "Inner products allows the calculation of\n",
    "- the length of a vector\n",
    "- distance between two vectors\n",
    "- angle between two vectors\n",
    "- orthogonality (stehen zwei Vektoren im rechten Winkel zueinander)"
   ]
  },
  {
   "cell_type": "markdown",
   "metadata": {},
   "source": [
    "### Dot Product vs Inner Product"
   ]
  },
  {
   "cell_type": "markdown",
   "metadata": {},
   "source": [
    "### Inner Product"
   ]
  },
  {
   "cell_type": "markdown",
   "metadata": {},
   "source": [
    "$ \\langle A , B \\rangle = A*B^T = A^{mxn} * B^{nxk} = C^{mxk}$\n",
    "\n",
    "\n",
    "\n",
    "$\\begin{bmatrix} 3 & 8 & 6 \\\\ 2 & -5 & -1 \\end{bmatrix} * \\begin{bmatrix} 1 & 3 \\\\ 9 & -2 \\\\ 4 & 2 \\end{bmatrix} = \\begin{bmatrix} 99 & 5 \\\\ -39 & 18 \\end{bmatrix} = \\begin{bmatrix} Zeile\\:1*Spalte\\:1 & Zeile\\:2*Spalte\\:1 \\\\ Zeile\\:2*Spalte\\:1 & Zeile\\:2*Spalte\\:2 \\end{bmatrix} $"
   ]
  },
  {
   "cell_type": "markdown",
   "metadata": {},
   "source": [
    "The inner product can yield:\n",
    "- Scalar\n",
    "- Vector\n",
    "- Matrix\n",
    "\n",
    "It is called the $\\textbf{inner product space}$ or $\\textbf{real vector space}$."
   ]
  },
  {
   "cell_type": "markdown",
   "metadata": {},
   "source": [
    "If $ \\langle x , y \\rangle = \\langle y , x \\rangle $ for all $ x,y \\in V$ the inner product is $\\textbf{symetric}$.\n",
    "\n",
    "If $\\forall x \\in V \\setminus \\{0\\} : \\langle x , x \\rangle > 0, \\langle 0 , 0 \\rangle = 0$ the inner product is $\\textbf{positive definite}$."
   ]
  },
  {
   "cell_type": "markdown",
   "metadata": {},
   "source": [
    "### Dot Product"
   ]
  },
  {
   "cell_type": "markdown",
   "metadata": {},
   "source": [
    "$ AB = A_1*B_1+A_2*B_2+...+A_n+B_n$\n",
    "\n",
    "$\\begin{bmatrix} 3 & 8 & 6 \\\\ 2 & -5 & -1 \\end{bmatrix} * \\begin{bmatrix} 3 & -2 & 2 \\\\ 1 & 9 & 4 \\end{bmatrix} = -42 $"
   ]
  },
  {
   "cell_type": "markdown",
   "metadata": {},
   "source": [
    "The dot product always yields a Scalar. It is also called the $\\textbf{Euclidean vector space}$."
   ]
  },
  {
   "cell_type": "markdown",
   "metadata": {},
   "source": [
    "### Symmetric, Positive Definite Matrices"
   ]
  },
  {
   "cell_type": "markdown",
   "metadata": {},
   "source": [
    " If a symetric matrix $A^{nxn}$ satisfies $\\forall x \\in V \\setminus \\{0\\} :x^TAx > 0$ it is called $\\textbf{symmetric, positive definite}$ or just $\\textbf{positive definite}$.\n",
    " \n",
    " If a symetric matrix $A^{nxn}$ satisfies $\\forall x \\in V \\setminus \\{0\\} :x^TAx \\geq 0$ it is called $\\textbf{symmetric, positive semidefinite}$ or just $\\textbf{positive semidefinite}$."
   ]
  },
  {
   "cell_type": "markdown",
   "metadata": {},
   "source": [
    "#### Example"
   ]
  },
  {
   "cell_type": "markdown",
   "metadata": {},
   "source": [
    " $A = \\begin{bmatrix} 9 & 6 \\\\ 6 & 5 \\end{bmatrix}$\n",
    " \n",
    " $x^TAx = \\begin{bmatrix} x_1 & x_2 \\end{bmatrix} * \\begin{bmatrix} 9 & 6 \\\\ 6 & 5 \\end{bmatrix} * \\begin{bmatrix} x_1 \\\\ x_2 \\end{bmatrix}$\n",
    " \n",
    " $= \\begin{bmatrix} 9x_1+6x_2 & 6x_1+5x_2 \\end{bmatrix} * \\begin{bmatrix} x_1 \\\\ x_2 \\end{bmatrix}$\n",
    " \n",
    " $= 9x_1^2 + 12x_1x_2 + 5x_2^2$\n",
    " \n",
    " $= (3x_1+2x_2)^2+x_2^2 > 0 \\to$ Binomische Formel\n",
    " \n",
    " A is positiv definite."
   ]
  },
  {
   "cell_type": "markdown",
   "metadata": {},
   "source": [
    " $A = \\begin{bmatrix} 9 & 6 \\\\ 6 & 3 \\end{bmatrix}$\n",
    " \n",
    " $x^TAx = \\begin{bmatrix} x_1 & x_2 \\end{bmatrix} * \\begin{bmatrix} 9 & 6 \\\\ 6 & 3 \\end{bmatrix} * \\begin{bmatrix} x_1 \\\\ x_2 \\end{bmatrix}$\n",
    " \n",
    " $= \\begin{bmatrix} 9x_1+6x_2 & 6x_1+3x_2 \\end{bmatrix} * \\begin{bmatrix} x_1 \\\\ x_2 \\end{bmatrix}$\n",
    " \n",
    " $= 9x_1^2 + 12x_1x_2 + 3x_2^2$\n",
    " \n",
    " $= (3x_1+2x_2)^2-x_2^2 \\ngtr 0 \\to$ Binomische Formel\n",
    " \n",
    " A is not positive definite."
   ]
  },
  {
   "cell_type": "markdown",
   "metadata": {},
   "source": [
    "## Length and Distance"
   ]
  },
  {
   "cell_type": "markdown",
   "metadata": {},
   "source": [
    "### Length"
   ]
  },
  {
   "cell_type": "markdown",
   "metadata": {},
   "source": [
    "$\\lVert x \\rVert  = \\sqrt{\\sum|x^2|} = \\sqrt{x^Tx}$\n",
    "\n",
    "Example: $x = \\begin{bmatrix} 1 & 1 \\end{bmatrix}^T$\n",
    "\n",
    "$ l = \\sqrt{1^2+1^2}=\\sqrt2$"
   ]
  },
  {
   "cell_type": "markdown",
   "metadata": {},
   "source": [
    "### Distance"
   ]
  },
  {
   "cell_type": "markdown",
   "metadata": {},
   "source": [
    "$d(x,y) := \\lVert x-y \\rVert = \\sqrt{\\langle x-y, x-y \\rangle} $\n",
    "\n",
    "If the dot product is used as the inner produkt the distance is called $\\textbf{euclidian distance}$.Angles and Orthogonality"
   ]
  },
  {
   "cell_type": "markdown",
   "metadata": {},
   "source": [
    "## Angle and Orthogonality"
   ]
  },
  {
   "cell_type": "markdown",
   "metadata": {},
   "source": [
    "### Angle"
   ]
  },
  {
   "cell_type": "markdown",
   "metadata": {},
   "source": [
    "$cos \\: \\omega = \\frac{\\langle x,y \\rangle}{\\lVert x \\rVert * \\lVert y \\rVert}$\n",
    "\n",
    "The Angle tells how similar two vectors orientations are.\n",
    "\n",
    "#### Example\n",
    "\n",
    "$x = \\begin{bmatrix} 1 \\\\ 1 \\end{bmatrix}, y = \\begin{bmatrix} 1 \\\\ 2 \\end{bmatrix} $\n",
    "\n",
    "$cos \\: \\omega = \\frac{\\langle x,y \\rangle}{\\sqrt{\\langle x, \\rangle * \\langle y,y \\rangle}}=  \\frac{x^Ty}{\\sqrt{x^Txy^Ty}} = \\frac{1+2}{\\sqrt{(1+1)*(1+4)}} = \\frac{3}{\\sqrt{10}} \\approx 18° $"
   ]
  },
  {
   "cell_type": "code",
   "execution_count": 18,
   "metadata": {},
   "outputs": [
    {
     "data": {
      "image/png": "[encoded data removed]",
      "text/plain": [
       "<Figure size 432x288 with 1 Axes>"
      ]
     },
     "metadata": {
      "needs_background": "light"
     },
     "output_type": "display_data"
    }
   ],
   "source": [
    "plt.quiver([0],[0],[1],[1], angles='xy', scale_units='xy', scale=1, color=\"green\")\n",
    "plt.quiver([0],[0],[1],[2], angles='xy', scale_units='xy', scale=1, color=\"green\")\n",
    "plt.quiver([0.5],[1],[0.2],[-0.3], angles='xy', scale_units='xy', scale=1, color=\"blue\")\n",
    "plt.xlim(-2, 2)\n",
    "plt.ylim(-2, 2)\n",
    "plt.show()"
   ]
  },
  {
   "cell_type": "markdown",
   "metadata": {},
   "source": [
    "### Orthogonality\n",
    "\n",
    "Two vectors $x$ and $y$ are $\\textbf{orthogonal}$ if $\\langle x , y \\rangle = 0$. (Die Vektoren liegen im rechten Winkel zueinander)\n",
    "\n",
    "Symbol: $x\\perp y$\n",
    "\n",
    "If $\\lVert x \\rVert = 1 = \\lVert y \\rVert$, i.e., the vectors are unit vectors, then $x$ and $y$ are $\\textbf{orthonormal}$.\n",
    "\n",
    "#### Example\n",
    "\n",
    "$x = \\begin{bmatrix} 1 \\\\ 1 \\end{bmatrix}, y = \\begin{bmatrix} -1 \\\\ 1 \\end{bmatrix} $\n",
    "\n",
    "$\\langle x,y \\rangle = x^Ty = -1+1 = 0$"
   ]
  },
  {
   "cell_type": "code",
   "execution_count": 22,
   "metadata": {},
   "outputs": [
    {
     "data": {
      "image/png": "[encoded data removed]",
      "text/plain": [
       "<Figure size 432x288 with 1 Axes>"
      ]
     },
     "metadata": {
      "needs_background": "light"
     },
     "output_type": "display_data"
    }
   ],
   "source": [
    "plt.quiver([0],[0],[1],[1], angles='xy', scale_units='xy', scale=1, color=\"green\")\n",
    "plt.quiver([0],[0],[-1],[1], angles='xy', scale_units='xy', scale=1, color=\"green\")\n",
    "plt.xlim(-2, 2)\n",
    "plt.ylim(-2, 2)\n",
    "plt.show()"
   ]
  },
  {
   "cell_type": "markdown",
   "metadata": {},
   "source": [
    "A square matrix $A$ is an orthogonal matrix if and only if its columns are orthonormal so that\n",
    "\n",
    "$AA^T=I=A^TA \\to A^{-1}=A^T$\n",
    "\n",
    "Transformations by orthogonal matrices are special because the length of a vector $x$ or the angle between two vectors $x,y$ does not change.\n",
    "\n",
    "length: $\\lVert Ax \\rVert^2 = (Ax)^T(Ax) = x^TA^TAx=x^TIx=x^Tx=\\lVert x \\rVert^2$\n",
    "\n",
    "angle: $cos\\:\\omega = \\frac{(Ax)^T(Ay)}{\\lVert Ax \\rVert \\lVert Ay \\rVert} = \\frac{x^TA^TAy}{\\sqrt{x^TA^TAxy^TA^TAy}} = \\frac{x^Ty}{\\lVert x \\rVert \\lVert y \\rVert}$"
   ]
  },
  {
   "cell_type": "markdown",
   "metadata": {},
   "source": [
    "## Orthonormal Basis"
   ]
  },
  {
   "cell_type": "markdown",
   "metadata": {},
   "source": [
    "An orthonormal basis is a special case where all basis vectors are orthogonal and the length of each basis vector is 1.\n",
    "\n",
    "Consider an vector space $V$ and a basis $\\{b_1,...,b_n\\}$ of $V$.\n",
    "\n",
    "Properties:\n",
    "\n",
    "$\\langle b_n, b_m \\rangle = 0$ for $n \\neq m \\to$ if this holds the basis is called an orthogonal basis\n",
    "\n",
    "$\\langle b_n, b_n \\rangle = 1 \\to$ if the basis is an orthogonal basis and this holds the basis is called orthonormal basis (ONB)"
   ]
  },
  {
   "cell_type": "markdown",
   "metadata": {},
   "source": [
    "## Orthogonal Complement"
   ]
  },
  {
   "cell_type": "markdown",
   "metadata": {},
   "source": [
    "Consider an N-dimensional vector space $V$ and an M-dimensional subspace $U$ ($U \\subseteq V$), then the $\\textbf{orthogonal complement}\\:U^\\perp$ is a (N-M)-dimensional subspace of $V$ that contains all vectors in $V$ that are orthogonal to every vector in $U$.\n",
    "\n",
    "The orthogonal complement can for example be used to describe a plane (2D) in a 3D vector space."
   ]
  },
  {
   "cell_type": "markdown",
   "metadata": {},
   "source": [
    "## Inner Product of Functions"
   ]
  },
  {
   "cell_type": "markdown",
   "metadata": {},
   "source": [
    "A vector can be thought of as a function with $n$ function values. The inner product of two functions can be defined as the definite integral:\n",
    "\n",
    "$\\langle u,v \\rangle := \\int_{a}^{b} u(x)v(x)\\,dx$"
   ]
  },
  {
   "cell_type": "markdown",
   "metadata": {},
   "source": [
    "## Orthogonal Projections"
   ]
  },
  {
   "cell_type": "code",
   "execution_count": null,
   "metadata": {},
   "outputs": [],
   "source": []
  }
 ],
 "metadata": {
  "kernelspec": {
   "display_name": "Python 3",
   "language": "python",
   "name": "python3"
  },
  "language_info": {
   "codemirror_mode": {
    "name": "ipython",
    "version": 3
   },
   "file_extension": ".py",
   "mimetype": "text/x-python",
   "name": "python",
   "nbconvert_exporter": "python",
   "pygments_lexer": "ipython3",
   "version": "3.8.6"
  }
 },
 "nbformat": 4,
 "nbformat_minor": 4
}
