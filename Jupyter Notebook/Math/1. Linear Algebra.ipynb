{
 "cells": [
  {
   "cell_type": "code",
   "execution_count": 7,
   "metadata": {},
   "outputs": [],
   "source": [
    "from matplotlib import pyplot as plt"
   ]
  },
  {
   "cell_type": "markdown",
   "metadata": {},
   "source": [
    "# Linear Algebra"
   ]
  },
  {
   "cell_type": "markdown",
   "metadata": {},
   "source": [
    "Linear algebra is the study of vectors and certain algebra\n",
    "rules to manipulate vectors."
   ]
  },
  {
   "cell_type": "markdown",
   "metadata": {},
   "source": [
    "In general, vectors are special objects that can be added together and\n",
    "multiplied by scalars to produce another object of the same kind."
   ]
  },
  {
   "cell_type": "markdown",
   "metadata": {},
   "source": [
    "## Vector Addition"
   ]
  },
  {
   "cell_type": "markdown",
   "metadata": {},
   "source": [
    "\n",
    "$\n",
    "\\overrightarrow{v} + \\overrightarrow{w}\n",
    "$\n",
    "\n",
    "$\n",
    "\\begin{bmatrix} x1 \\\\ y1 \\end{bmatrix}\n",
    "+\n",
    "\\begin{bmatrix} x2 \\\\ y2 \\end{bmatrix}\n",
    "=\n",
    "\\begin{bmatrix} x1+x2 \\\\ y1+y2 \\end{bmatrix}\n",
    "$\n",
    "\n",
    "$\n",
    "\\begin{bmatrix} 3 \\\\ -5 \\end{bmatrix}\n",
    "+\n",
    "\\begin{bmatrix} 2 \\\\ 1 \\end{bmatrix}\n",
    "=\n",
    "\\begin{bmatrix} 3+2 \\\\ -5+1 \\end{bmatrix}\n",
    "=\n",
    "\\begin{bmatrix} 5 \\\\ -4 \\end{bmatrix}\n",
    "$"
   ]
  },
  {
   "cell_type": "code",
   "execution_count": 8,
   "metadata": {},
   "outputs": [
    {
     "data": {
      "image/png": "[encoded data removed]",
      "text/plain": [
       "<Figure size 432x288 with 1 Axes>"
      ]
     },
     "metadata": {
      "needs_background": "light"
     },
     "output_type": "display_data"
    }
   ],
   "source": [
    "plt.quiver([0],[0],[3],[-5], angles='xy', scale_units='xy', scale=1, color=\"green\")\n",
    "plt.quiver([3],[-5],[2],[1], angles='xy', scale_units='xy', scale=1, color=\"green\")\n",
    "plt.quiver([0],[0],[5],[-4], angles='xy', scale_units='xy', scale=1, color=\"blue\")\n",
    "plt.xlim(-1, 10)\n",
    "plt.ylim(-15, 1)\n",
    "plt.show()"
   ]
  },
  {
   "cell_type": "markdown",
   "metadata": {},
   "source": [
    "## Vector Multiplication"
   ]
  },
  {
   "cell_type": "markdown",
   "metadata": {},
   "source": [
    "$\n",
    "k * \\overrightarrow{v}\n",
    "$\n",
    "\n",
    "$\n",
    "2\n",
    "*\n",
    "\\begin{bmatrix} x1 \\\\ y1 \\end{bmatrix}\n",
    "=\n",
    "\\begin{bmatrix} 2*x1 \\\\ 2*y1 \\end{bmatrix}\n",
    "$\n",
    "\n",
    "$\n",
    "2\n",
    "*\n",
    "\\begin{bmatrix} 3 \\\\ -5 \\end{bmatrix}\n",
    "=\n",
    "\\begin{bmatrix} 2*3 \\\\ 2*-5 \\end{bmatrix}\n",
    "=\n",
    "\\begin{bmatrix} 6 \\\\ -10 \\end{bmatrix}\n",
    "$"
   ]
  },
  {
   "cell_type": "code",
   "execution_count": 9,
   "metadata": {},
   "outputs": [
    {
     "data": {
      "image/png": "[encoded data removed]",
      "text/plain": [
       "<Figure size 432x288 with 1 Axes>"
      ]
     },
     "metadata": {
      "needs_background": "light"
     },
     "output_type": "display_data"
    }
   ],
   "source": [
    "plt.quiver([0],[0],[6],[-10], angles='xy', scale_units='xy', scale=1, color=\"blue\")\n",
    "plt.quiver([0],[0],[3],[-5], angles='xy', scale_units='xy', scale=1, color=\"green\")\n",
    "plt.xlim(-1, 10)\n",
    "plt.ylim(-15, 1)\n",
    "plt.show()"
   ]
  },
  {
   "cell_type": "markdown",
   "metadata": {},
   "source": [
    "## Matrices"
   ]
  },
  {
   "cell_type": "markdown",
   "metadata": {},
   "source": [
    "### Special Matrices"
   ]
  },
  {
   "cell_type": "markdown",
   "metadata": {},
   "source": [
    "$\\textbf{Identity Matrix}$: $nxn-Matrix$ containing 1 on the diagonal and 0 elsewhere\n",
    "\n",
    "$I^{4x4} = \\begin{bmatrix} 1 & 0 & 0 & 0 \\\\ 0 & 1 & 0 & 0 \\\\ 0 & 0 & 1 & 0 \\\\ 0 & 0 & 0 & 1 \\end{bmatrix}$"
   ]
  },
  {
   "cell_type": "markdown",
   "metadata": {},
   "source": [
    "### Matrix Addition"
   ]
  },
  {
   "cell_type": "markdown",
   "metadata": {},
   "source": [
    "Matrix addition is definied as the elementwise sum. Both Matrices need to have the same shape."
   ]
  },
  {
   "cell_type": "markdown",
   "metadata": {},
   "source": [
    "$\\begin{bmatrix} 3 & 8 \\\\ 2 & -5 \\end{bmatrix} + \\begin{bmatrix} 1 & 3 \\\\ 9 & -2 \\end{bmatrix} = \\begin{bmatrix} 4 & 11 \\\\ 11 & -7 \\end{bmatrix} $"
   ]
  },
  {
   "cell_type": "markdown",
   "metadata": {},
   "source": [
    "### Matrix Multiplication (Inner Product)"
   ]
  },
  {
   "cell_type": "markdown",
   "metadata": {},
   "source": [
    "Matrix multiplication is the sum of row $A$ * colum $B$.\n",
    "\n",
    "$ A^{mxn} * B^{nxk} = C^{mxk}$\n",
    "\n",
    "$\\begin{bmatrix} 3 & 8 & 6 \\\\ 2 & -5 & -1 \\end{bmatrix} * \\begin{bmatrix} 1 & 3 \\\\ 9 & -2 \\\\ 4 & 2 \\end{bmatrix} = \\begin{bmatrix} 99 & 5 \\\\ -39 & 18 \\end{bmatrix} = \\begin{bmatrix} Zeile\\:1*Spalte\\:1 & Zeile\\:2*Spalte\\:1 \\\\ Zeile\\:2*Spalte\\:1 & Zeile\\:2*Spalte\\:2 \\end{bmatrix} $"
   ]
  },
  {
   "cell_type": "markdown",
   "metadata": {},
   "source": [
    "Commutativity: \n",
    "\n",
    "$ \\quad AB \\ne BA $\n",
    "\n",
    "Associativity: \n",
    "\n",
    "$ \\quad (AB)C = A(BC) $\n",
    "\n",
    "Distributivity: \n",
    "\n",
    "$ \\quad (A + B)C = AC + BC $ \n",
    "\n",
    "$ \\quad A(C +D) = AC +AD $\n",
    "\n",
    "Multiplication with the identity matrix:\n",
    "\n",
    "$ \\quad \\forall A \\in R ^{mxn}: I^{mxm} A = AI^{nxn} = A$"
   ]
  },
  {
   "cell_type": "markdown",
   "metadata": {},
   "source": [
    "### Inverse & Transpose"
   ]
  },
  {
   "cell_type": "markdown",
   "metadata": {},
   "source": [
    "Inverse ($A^{-1}$): $A*A^{-1}=I^{nxn}=A^{-1}*A$\n",
    "\n",
    "Transpose ($A^T$): $A^{mxn} \\to A^{nxm}$ with $a_{xy} \\to a_{yx}$\n",
    "\n",
    "Symetry: $A=A^T$\n",
    "\n",
    "Squared: $A^{nxn}$\n",
    "\n",
    "Invertible: $A^{-1^{T}} = A^{T^{-1}} =: A^{-T}$"
   ]
  },
  {
   "cell_type": "markdown",
   "metadata": {},
   "source": [
    "## Linear Independence "
   ]
  },
  {
   "cell_type": "markdown",
   "metadata": {},
   "source": [
    "### Linear Combination"
   ]
  },
  {
   "cell_type": "markdown",
   "metadata": {},
   "source": [
    "$V = Vector\\:Space \\to $ Menge aller Vektoren eines Raumes\n",
    "\n",
    "$ A = \\{x1, ..., xn\\} \\subseteq V \\to $ A ist gleich oder eine Teilmenge von V\n",
    "\n",
    "A $\\textbf{linear combination}$ of $V$ is a vector that was created by adding and scaling vectors of a finite subset $A$. (siehe Vektoradditon & Vektormultiplikation)\n",
    "\n",
    "The 0-vector $\\textbf{(trivial solution)}$ can always be written as the linear combination:\n",
    "\n",
    "$ 0=\\sum{0*x} \\to $ always True"
   ]
  },
  {
   "cell_type": "markdown",
   "metadata": {},
   "source": [
    "### Linear Independence"
   ]
  },
  {
   "cell_type": "markdown",
   "metadata": {},
   "source": [
    "If there is a non-trivial linear combination, such that $0=\\sum \\lambda * x$ with at least one $\\lambda \\ne 0$ the vectors $A$ are $\\textbf{linearly dependent}$. At least one vector can be created as a linear combination from the other vector(s).\n",
    "\n",
    "If there is only the trivial linear combination, such that $0=\\sum \\lambda * x$ with only $\\lambda = 0$ the vectors $A$ are $\\textbf{linearly independent}$."
   ]
  },
  {
   "cell_type": "markdown",
   "metadata": {},
   "source": [
    "$ A = \\{\\begin{bmatrix} 3 \\\\ -5 \\end{bmatrix}, \\begin{bmatrix} 6 \\\\ -10 \\end{bmatrix}\\} \\to $ linearly dependent"
   ]
  },
  {
   "cell_type": "code",
   "execution_count": 4,
   "metadata": {},
   "outputs": [
    {
     "data": {
      "image/png": "[encoded data removed]",
      "text/plain": [
       "<Figure size 432x288 with 1 Axes>"
      ]
     },
     "metadata": {
      "needs_background": "light"
     },
     "output_type": "display_data"
    }
   ],
   "source": [
    "plt.quiver([0],[0],[6],[-10], angles='xy', scale_units='xy', scale=1, color=\"blue\")\n",
    "plt.quiver([0],[0],[3],[-5], angles='xy', scale_units='xy', scale=1, color=\"green\")\n",
    "plt.xlim(-1, 10)\n",
    "plt.ylim(-15, 1)\n",
    "plt.title(\"linearly dependent\")\n",
    "plt.show()"
   ]
  },
  {
   "cell_type": "markdown",
   "metadata": {},
   "source": [
    "#### Example"
   ]
  },
  {
   "cell_type": "markdown",
   "metadata": {},
   "source": [
    "$\\begin{bmatrix} 3 & -5 \\\\ 6 & -10 \\end{bmatrix} \\to \\begin{bmatrix} 3 & -5 \\\\ 0 & 0 \\end{bmatrix} \\to \\begin{bmatrix} 1 & \\frac{-5}{3} \\\\ 0 & 0 \\end{bmatrix}$ "
   ]
  },
  {
   "cell_type": "markdown",
   "metadata": {},
   "source": [
    "Operations:\n",
    "\n",
    "1:$ \\quad Zeile\\:2 - 2 * Zeile\\:1 $\n",
    "\n",
    "2:$ \\quad \\frac{Zeile\\:1}{3}$"
   ]
  },
  {
   "cell_type": "markdown",
   "metadata": {},
   "source": [
    "-----------------------------------------"
   ]
  },
  {
   "cell_type": "markdown",
   "metadata": {},
   "source": [
    "$ A = \\{\\begin{bmatrix} 3 \\\\ -5 \\end{bmatrix}, \\begin{bmatrix} 2 \\\\ -10 \\end{bmatrix}\\} \\to $ linearly independent"
   ]
  },
  {
   "cell_type": "code",
   "execution_count": 5,
   "metadata": {},
   "outputs": [
    {
     "data": {
      "image/png": "[encoded data removed]",
      "text/plain": [
       "<Figure size 432x288 with 1 Axes>"
      ]
     },
     "metadata": {
      "needs_background": "light"
     },
     "output_type": "display_data"
    }
   ],
   "source": [
    "plt.quiver([0],[0],[3],[-5], angles='xy', scale_units='xy', scale=1, color=\"green\")\n",
    "plt.quiver([0],[0],[2],[1], angles='xy', scale_units='xy', scale=1, color=\"blue\")\n",
    "plt.xlim(-1, 10)\n",
    "plt.ylim(-10, 5)\n",
    "plt.title(\"linearly independent\")\n",
    "plt.show()"
   ]
  },
  {
   "cell_type": "markdown",
   "metadata": {},
   "source": [
    "#### Example"
   ]
  },
  {
   "cell_type": "markdown",
   "metadata": {},
   "source": [
    "$\\begin{bmatrix} 3 & -5 \\\\ 2 & 1 \\end{bmatrix} \\to \\begin{bmatrix} 13 & 0 \\\\ 2 & 1 \\end{bmatrix} \\to \\begin{bmatrix} 1 & 0 \\\\ 2 & 1 \\end{bmatrix} \\to \\begin{bmatrix} 1 & 0 \\\\ 0 & 1 \\end{bmatrix}$ "
   ]
  },
  {
   "cell_type": "markdown",
   "metadata": {},
   "source": [
    "Operations:\n",
    "\n",
    "1:$ \\quad Zeile\\:1 + 5 * Zeile\\:2 $\n",
    "\n",
    "2:$ \\quad \\frac{Zeile\\:1}{13} $\n",
    "\n",
    "3:$ \\quad Zeile\\:2 - 2 * Zeile\\:1 $"
   ]
  },
  {
   "cell_type": "markdown",
   "metadata": {},
   "source": [
    "## Basis & Rank"
   ]
  },
  {
   "cell_type": "markdown",
   "metadata": {},
   "source": [
    "### Generating Set & Basis"
   ]
  },
  {
   "cell_type": "markdown",
   "metadata": {},
   "source": [
    "$\n",
    "V= (V;+; \\cdot) \\to Vektoren\\:koennen\\:addiert\\:und\\:multipliziert\\:werden\n",
    "$\n",
    "\n",
    "$A$ is called a $\\textbf{generating set}$ if every vector $v\\in{V}$ can be expressed as a linear combination of $A$.\n",
    "\n",
    "The set of all linar combinations of vectors in $A$ is called $\\textbf span$ of $A$. $\\to V = span[A]$\n",
    "\n",
    "$A$ is called $\\textbf{basis} $ of $V$ if there exists no smaller set $\\tilde A$ in $A$ that spans $V$. $\\to \\tilde A \\subset A \\subseteq V $"
   ]
  },
  {
   "cell_type": "markdown",
   "metadata": {},
   "source": [
    "$\n",
    "A=\\begin{bmatrix} 3 \\\\ -2 \\end{bmatrix}\n",
    "$\n",
    "\n",
    "$\n",
    "\\tilde A = Basis = \\{\\begin{bmatrix} 1 \\\\ 0 \\end{bmatrix}, \\begin{bmatrix} 0 \\\\ 1 \\end{bmatrix}\\}\n",
    "$\n",
    "\n",
    "$\n",
    "A = 3 * \\begin{bmatrix} 1 \\\\ 0 \\end{bmatrix} + -2 * \\begin{bmatrix} 0 \\\\ 1 \\end{bmatrix}\n",
    "$"
   ]
  },
  {
   "cell_type": "code",
   "execution_count": 6,
   "metadata": {},
   "outputs": [
    {
     "data": {
      "image/png": "[encoded data removed]",
      "text/plain": [
       "<Figure size 432x288 with 1 Axes>"
      ]
     },
     "metadata": {
      "needs_background": "light"
     },
     "output_type": "display_data"
    }
   ],
   "source": [
    "plt.quiver([0],[0],[3],[-2], angles='xy', scale_units='xy', scale=1, color=\"blue\")\n",
    "plt.quiver([0],[0],[0],[1], angles='xy', scale_units='xy', scale=1, color=\"green\")\n",
    "plt.quiver([0],[0],[1],[0], angles='xy', scale_units='xy', scale=1, color=\"green\")\n",
    "plt.xlim(-10, 10)\n",
    "plt.ylim(-10, 10)\n",
    "plt.show()"
   ]
  },
  {
   "cell_type": "markdown",
   "metadata": {},
   "source": [
    "### Dimension & Rank"
   ]
  },
  {
   "cell_type": "markdown",
   "metadata": {},
   "source": [
    "The $\\textbf{rank}$ of a Matrix $A$ is the number of linearly independent rows."
   ]
  },
  {
   "cell_type": "markdown",
   "metadata": {},
   "source": [
    "$ A = \\begin{bmatrix} 3 & -5 \\\\ 6 & 10 \\end{bmatrix}\n",
    "\\to \\begin{bmatrix} 3 & -5 \\\\ 0 & 0 \\end{bmatrix}\n",
    "\\to rk(A)=1 $ \n",
    "\n",
    "$ A = \\begin{bmatrix} 3 & -5 \\\\ 2 & -10 \\end{bmatrix}\n",
    "\\to \\begin{bmatrix} 3 & -5 \\\\ -4 & 0 \\end{bmatrix}\n",
    "\\to \\begin{bmatrix} 3 & -5 \\\\ 1 & 0 \\end{bmatrix}\n",
    "\\to \\begin{bmatrix} 0 & -5 \\\\ 1 & 0 \\end{bmatrix}\n",
    "\\to rk(A)=2 $"
   ]
  },
  {
   "cell_type": "markdown",
   "metadata": {},
   "source": [
    "The $\\textbf{dimension}$ of a vector space $V$ is the number of basis vectors of $V$."
   ]
  },
  {
   "cell_type": "markdown",
   "metadata": {},
   "source": [
    "$ V = \\{\\begin{bmatrix} 3 \\\\ -5 \\end{bmatrix}, \\begin{bmatrix} 6 \\\\ -10 \\end{bmatrix}\\} \\to Basis = \\begin{bmatrix} 1 & \\frac{-5}{3} \\\\ 0 & 0 \\end{bmatrix}=\\{ \\begin{bmatrix} 1 \\\\ \\frac{-5}{3} \\end{bmatrix} \\} \\to dim(V)=1 $ \n",
    "\n",
    "$ V = \\{\\begin{bmatrix} 3 \\\\ -5 \\end{bmatrix}, \\begin{bmatrix} 2 \\\\ -10 \\end{bmatrix}\\} \\to Basis = \\begin{bmatrix} 1 & 0 \\\\ 0 & 1 \\end{bmatrix} = \\{ \\begin{bmatrix} 1 \\\\ 0 \\end{bmatrix}, \\begin{bmatrix} 0 \\\\ 1 \\end{bmatrix} \\} \\to dim(V)=2 $"
   ]
  },
  {
   "cell_type": "markdown",
   "metadata": {},
   "source": [
    "The dimension of a vector space $V$ equals the rank of its basis."
   ]
  },
  {
   "cell_type": "code",
   "execution_count": null,
   "metadata": {},
   "outputs": [],
   "source": []
  }
 ],
 "metadata": {
  "kernelspec": {
   "display_name": "Python 3",
   "language": "python",
   "name": "python3"
  },
  "language_info": {
   "codemirror_mode": {
    "name": "ipython",
    "version": 3
   },
   "file_extension": ".py",
   "mimetype": "text/x-python",
   "name": "python",
   "nbconvert_exporter": "python",
   "pygments_lexer": "ipython3",
   "version": "3.8.6"
  }
 },
 "nbformat": 4,
 "nbformat_minor": 4
}
