{
 "cells": [
  {
   "cell_type": "markdown",
   "metadata": {},
   "source": [
    "# Datentransformation Bureau"
   ]
  },
  {
   "cell_type": "markdown",
   "metadata": {},
   "source": [
    "Ziel dieser Datenaufbereitung ist es alle Variablen so in einen Datensatz zu überführen."
   ]
  },
  {
   "cell_type": "code",
   "execution_count": 1,
   "metadata": {},
   "outputs": [],
   "source": [
    "from pathlib import Path\n",
    "from scipy import stats\n",
    "\n",
    "import matplotlib.pyplot as plt\n",
    "import pandas as pd\n",
    "import numpy as np\n",
    "import seaborn as sns\n",
    "\n",
    "np.set_printoptions(suppress=True)\n",
    "\n",
    "pd.options.display.max_columns = None\n",
    "pd.options.display.max_rows = None\n",
    "pd.options.display.max_colwidth = None\n",
    "\n",
    "from IPython.display import display, Markdown"
   ]
  },
  {
   "cell_type": "code",
   "execution_count": 2,
   "metadata": {},
   "outputs": [],
   "source": [
    "path1 = Path(r\"A:\\Workspace\\Python\\Masterarbeit\\Kaggle Home Credit Datensatz\")\n",
    "path2 = Path(r\"C:\\Users\\rober\\Documents\\Workspace\\Python\\Masterarbeit\\Kaggle Home Credit Datensatz\")\n",
    "\n",
    "if path1.is_dir():\n",
    "    DATASET_DIR = path1\n",
    "else:\n",
    "    DATASET_DIR = path2"
   ]
  },
  {
   "cell_type": "code",
   "execution_count": 3,
   "metadata": {},
   "outputs": [],
   "source": [
    "app_train = pd.read_csv(DATASET_DIR / \"application_train.csv\")\n",
    "bureau = pd.read_csv(DATASET_DIR / \"bureau.csv\")\n",
    "bureau_balance = pd.read_csv(DATASET_DIR / \"bureau_balance.csv\")\n",
    "des = pd.read_csv(DATASET_DIR / \"HomeCredit_columns_description.csv\", encoding=\"latin\", index_col=0)"
   ]
  },
  {
   "cell_type": "code",
   "execution_count": 4,
   "metadata": {},
   "outputs": [
    {
     "data": {
      "text/html": [
       "<div>\n",
       "<style scoped>\n",
       "    .dataframe tbody tr th:only-of-type {\n",
       "        vertical-align: middle;\n",
       "    }\n",
       "\n",
       "    .dataframe tbody tr th {\n",
       "        vertical-align: top;\n",
       "    }\n",
       "\n",
       "    .dataframe thead th {\n",
       "        text-align: right;\n",
       "    }\n",
       "</style>\n",
       "<table border=\"1\" class=\"dataframe\">\n",
       "  <thead>\n",
       "    <tr style=\"text-align: right;\">\n",
       "      <th></th>\n",
       "      <th>Row</th>\n",
       "      <th>Description</th>\n",
       "      <th>Special</th>\n",
       "    </tr>\n",
       "  </thead>\n",
       "  <tbody>\n",
       "    <tr>\n",
       "      <th>125</th>\n",
       "      <td>SK_ID_CURR</td>\n",
       "      <td>ID of loan in our sample - one loan in our sample can have 0,1,2 or more related previous credits in credit bureau</td>\n",
       "      <td>hashed</td>\n",
       "    </tr>\n",
       "    <tr>\n",
       "      <th>126</th>\n",
       "      <td>SK_BUREAU_ID</td>\n",
       "      <td>Recoded ID of previous Credit Bureau credit related to our loan (unique coding for each loan application)</td>\n",
       "      <td>hashed</td>\n",
       "    </tr>\n",
       "    <tr>\n",
       "      <th>127</th>\n",
       "      <td>CREDIT_ACTIVE</td>\n",
       "      <td>Status of the Credit Bureau (CB) reported credits</td>\n",
       "      <td>NaN</td>\n",
       "    </tr>\n",
       "    <tr>\n",
       "      <th>128</th>\n",
       "      <td>CREDIT_CURRENCY</td>\n",
       "      <td>Recoded currency of the Credit Bureau credit</td>\n",
       "      <td>recoded</td>\n",
       "    </tr>\n",
       "    <tr>\n",
       "      <th>129</th>\n",
       "      <td>DAYS_CREDIT</td>\n",
       "      <td>How many days before current application did client apply for Credit Bureau credit</td>\n",
       "      <td>time only relative to the application</td>\n",
       "    </tr>\n",
       "    <tr>\n",
       "      <th>130</th>\n",
       "      <td>CREDIT_DAY_OVERDUE</td>\n",
       "      <td>Number of days past due on CB credit at the time of application for related loan in our sample</td>\n",
       "      <td>NaN</td>\n",
       "    </tr>\n",
       "    <tr>\n",
       "      <th>131</th>\n",
       "      <td>DAYS_CREDIT_ENDDATE</td>\n",
       "      <td>Remaining duration of CB credit (in days) at the time of application in Home Credit</td>\n",
       "      <td>time only relative to the application</td>\n",
       "    </tr>\n",
       "    <tr>\n",
       "      <th>132</th>\n",
       "      <td>DAYS_ENDDATE_FACT</td>\n",
       "      <td>Days since CB credit ended at the time of application in Home Credit (only for closed credit)</td>\n",
       "      <td>time only relative to the application</td>\n",
       "    </tr>\n",
       "    <tr>\n",
       "      <th>133</th>\n",
       "      <td>AMT_CREDIT_MAX_OVERDUE</td>\n",
       "      <td>Maximal amount overdue on the Credit Bureau credit so far (at application date of loan in our sample)</td>\n",
       "      <td>NaN</td>\n",
       "    </tr>\n",
       "    <tr>\n",
       "      <th>134</th>\n",
       "      <td>CNT_CREDIT_PROLONG</td>\n",
       "      <td>How many times was the Credit Bureau credit prolonged</td>\n",
       "      <td>NaN</td>\n",
       "    </tr>\n",
       "    <tr>\n",
       "      <th>135</th>\n",
       "      <td>AMT_CREDIT_SUM</td>\n",
       "      <td>Current credit amount for the Credit Bureau credit</td>\n",
       "      <td>NaN</td>\n",
       "    </tr>\n",
       "    <tr>\n",
       "      <th>136</th>\n",
       "      <td>AMT_CREDIT_SUM_DEBT</td>\n",
       "      <td>Current debt on Credit Bureau credit</td>\n",
       "      <td>NaN</td>\n",
       "    </tr>\n",
       "    <tr>\n",
       "      <th>137</th>\n",
       "      <td>AMT_CREDIT_SUM_LIMIT</td>\n",
       "      <td>Current credit limit of credit card reported in Credit Bureau</td>\n",
       "      <td>NaN</td>\n",
       "    </tr>\n",
       "    <tr>\n",
       "      <th>138</th>\n",
       "      <td>AMT_CREDIT_SUM_OVERDUE</td>\n",
       "      <td>Current amount overdue on Credit Bureau credit</td>\n",
       "      <td>NaN</td>\n",
       "    </tr>\n",
       "    <tr>\n",
       "      <th>139</th>\n",
       "      <td>CREDIT_TYPE</td>\n",
       "      <td>Type of Credit Bureau credit (Car, cash,...)</td>\n",
       "      <td>NaN</td>\n",
       "    </tr>\n",
       "    <tr>\n",
       "      <th>140</th>\n",
       "      <td>DAYS_CREDIT_UPDATE</td>\n",
       "      <td>How many days before loan application did last information about the Credit Bureau credit come</td>\n",
       "      <td>time only relative to the application</td>\n",
       "    </tr>\n",
       "    <tr>\n",
       "      <th>141</th>\n",
       "      <td>AMT_ANNUITY</td>\n",
       "      <td>Annuity of the Credit Bureau credit</td>\n",
       "      <td>NaN</td>\n",
       "    </tr>\n",
       "  </tbody>\n",
       "</table>\n",
       "</div>"
      ],
      "text/plain": [
       "                        Row  \\\n",
       "125              SK_ID_CURR   \n",
       "126            SK_BUREAU_ID   \n",
       "127           CREDIT_ACTIVE   \n",
       "128         CREDIT_CURRENCY   \n",
       "129             DAYS_CREDIT   \n",
       "130      CREDIT_DAY_OVERDUE   \n",
       "131     DAYS_CREDIT_ENDDATE   \n",
       "132       DAYS_ENDDATE_FACT   \n",
       "133  AMT_CREDIT_MAX_OVERDUE   \n",
       "134      CNT_CREDIT_PROLONG   \n",
       "135          AMT_CREDIT_SUM   \n",
       "136     AMT_CREDIT_SUM_DEBT   \n",
       "137    AMT_CREDIT_SUM_LIMIT   \n",
       "138  AMT_CREDIT_SUM_OVERDUE   \n",
       "139             CREDIT_TYPE   \n",
       "140      DAYS_CREDIT_UPDATE   \n",
       "141             AMT_ANNUITY   \n",
       "\n",
       "                                                                                                             Description  \\\n",
       "125  ID of loan in our sample - one loan in our sample can have 0,1,2 or more related previous credits in credit bureau    \n",
       "126            Recoded ID of previous Credit Bureau credit related to our loan (unique coding for each loan application)   \n",
       "127                                                                    Status of the Credit Bureau (CB) reported credits   \n",
       "128                                                                         Recoded currency of the Credit Bureau credit   \n",
       "129                                   How many days before current application did client apply for Credit Bureau credit   \n",
       "130                       Number of days past due on CB credit at the time of application for related loan in our sample   \n",
       "131                                  Remaining duration of CB credit (in days) at the time of application in Home Credit   \n",
       "132                        Days since CB credit ended at the time of application in Home Credit (only for closed credit)   \n",
       "133                Maximal amount overdue on the Credit Bureau credit so far (at application date of loan in our sample)   \n",
       "134                                                                How many times was the Credit Bureau credit prolonged   \n",
       "135                                                                   Current credit amount for the Credit Bureau credit   \n",
       "136                                                                                 Current debt on Credit Bureau credit   \n",
       "137                                                        Current credit limit of credit card reported in Credit Bureau   \n",
       "138                                                                       Current amount overdue on Credit Bureau credit   \n",
       "139                                                                         Type of Credit Bureau credit (Car, cash,...)   \n",
       "140                       How many days before loan application did last information about the Credit Bureau credit come   \n",
       "141                                                                                  Annuity of the Credit Bureau credit   \n",
       "\n",
       "                                   Special  \n",
       "125                                 hashed  \n",
       "126                                 hashed  \n",
       "127                                    NaN  \n",
       "128                                recoded  \n",
       "129  time only relative to the application  \n",
       "130                                    NaN  \n",
       "131  time only relative to the application  \n",
       "132  time only relative to the application  \n",
       "133                                    NaN  \n",
       "134                                    NaN  \n",
       "135                                    NaN  \n",
       "136                                    NaN  \n",
       "137                                    NaN  \n",
       "138                                    NaN  \n",
       "139                                    NaN  \n",
       "140  time only relative to the application  \n",
       "141                                    NaN  "
      ]
     },
     "execution_count": 4,
     "metadata": {},
     "output_type": "execute_result"
    }
   ],
   "source": [
    "des.loc[des['Table']==\"bureau.csv\", \"Row\":\"Special\"]"
   ]
  },
  {
   "cell_type": "code",
   "execution_count": 5,
   "metadata": {},
   "outputs": [],
   "source": [
    "todo = list(bureau.columns)"
   ]
  },
  {
   "cell_type": "markdown",
   "metadata": {},
   "source": [
    "#### Keine Datenaufbereitung für Primär- und Fremdschlüssel"
   ]
  },
  {
   "cell_type": "code",
   "execution_count": 6,
   "metadata": {},
   "outputs": [],
   "source": [
    "keys = [\"SK_ID_CURR\", \"SK_ID_BUREAU\"]"
   ]
  },
  {
   "cell_type": "code",
   "execution_count": 7,
   "metadata": {},
   "outputs": [],
   "source": [
    "todo = [element for element in todo if element not in keys]"
   ]
  },
  {
   "cell_type": "markdown",
   "metadata": {},
   "source": [
    "#### Datenaufbereitung metrische Daten"
   ]
  },
  {
   "cell_type": "code",
   "execution_count": 8,
   "metadata": {},
   "outputs": [],
   "source": [
    "m_heads = [element for element in todo if bureau[element].dtype.name != \"object\"]"
   ]
  },
  {
   "cell_type": "markdown",
   "metadata": {},
   "source": [
    "##### Gruppierung"
   ]
  },
  {
   "cell_type": "code",
   "execution_count": 9,
   "metadata": {},
   "outputs": [],
   "source": [
    "quants = [0, 0.25, 0.5, 0.75, 1]"
   ]
  },
  {
   "cell_type": "code",
   "execution_count": 10,
   "metadata": {},
   "outputs": [],
   "source": [
    "df = bureau[[\"SK_ID_CURR\", m_heads[0]]]\n",
    "df = df.groupby(by = [\"SK_ID_CURR\"]).quantile(quants)\n",
    "df = df.unstack(level=-1)"
   ]
  },
  {
   "cell_type": "code",
   "execution_count": 12,
   "metadata": {},
   "outputs": [
    {
     "data": {
      "text/html": [
       "<div>\n",
       "<style scoped>\n",
       "    .dataframe tbody tr th:only-of-type {\n",
       "        vertical-align: middle;\n",
       "    }\n",
       "\n",
       "    .dataframe tbody tr th {\n",
       "        vertical-align: top;\n",
       "    }\n",
       "\n",
       "    .dataframe thead tr th {\n",
       "        text-align: left;\n",
       "    }\n",
       "\n",
       "    .dataframe thead tr:last-of-type th {\n",
       "        text-align: right;\n",
       "    }\n",
       "</style>\n",
       "<table border=\"1\" class=\"dataframe\">\n",
       "  <thead>\n",
       "    <tr>\n",
       "      <th></th>\n",
       "      <th colspan=\"5\" halign=\"left\">DAYS_CREDIT</th>\n",
       "    </tr>\n",
       "    <tr>\n",
       "      <th></th>\n",
       "      <th>0.00</th>\n",
       "      <th>0.25</th>\n",
       "      <th>0.50</th>\n",
       "      <th>0.75</th>\n",
       "      <th>1.00</th>\n",
       "    </tr>\n",
       "    <tr>\n",
       "      <th>SK_ID_CURR</th>\n",
       "      <th></th>\n",
       "      <th></th>\n",
       "      <th></th>\n",
       "      <th></th>\n",
       "      <th></th>\n",
       "    </tr>\n",
       "  </thead>\n",
       "  <tbody>\n",
       "    <tr>\n",
       "      <th>100001</th>\n",
       "      <td>-1572.0</td>\n",
       "      <td>-894.0</td>\n",
       "      <td>-857.0</td>\n",
       "      <td>-439.50</td>\n",
       "      <td>-49.0</td>\n",
       "    </tr>\n",
       "    <tr>\n",
       "      <th>100002</th>\n",
       "      <td>-1437.0</td>\n",
       "      <td>-1122.0</td>\n",
       "      <td>-1042.5</td>\n",
       "      <td>-602.75</td>\n",
       "      <td>-103.0</td>\n",
       "    </tr>\n",
       "    <tr>\n",
       "      <th>100003</th>\n",
       "      <td>-2586.0</td>\n",
       "      <td>-1873.5</td>\n",
       "      <td>-1205.5</td>\n",
       "      <td>-732.75</td>\n",
       "      <td>-606.0</td>\n",
       "    </tr>\n",
       "    <tr>\n",
       "      <th>100004</th>\n",
       "      <td>-1326.0</td>\n",
       "      <td>-1096.5</td>\n",
       "      <td>-867.0</td>\n",
       "      <td>-637.50</td>\n",
       "      <td>-408.0</td>\n",
       "    </tr>\n",
       "    <tr>\n",
       "      <th>100005</th>\n",
       "      <td>-373.0</td>\n",
       "      <td>-255.0</td>\n",
       "      <td>-137.0</td>\n",
       "      <td>-99.50</td>\n",
       "      <td>-62.0</td>\n",
       "    </tr>\n",
       "  </tbody>\n",
       "</table>\n",
       "</div>"
      ],
      "text/plain": [
       "           DAYS_CREDIT                               \n",
       "                  0.00    0.25    0.50    0.75   1.00\n",
       "SK_ID_CURR                                           \n",
       "100001         -1572.0  -894.0  -857.0 -439.50  -49.0\n",
       "100002         -1437.0 -1122.0 -1042.5 -602.75 -103.0\n",
       "100003         -2586.0 -1873.5 -1205.5 -732.75 -606.0\n",
       "100004         -1326.0 -1096.5  -867.0 -637.50 -408.0\n",
       "100005          -373.0  -255.0  -137.0  -99.50  -62.0"
      ]
     },
     "execution_count": 12,
     "metadata": {},
     "output_type": "execute_result"
    }
   ],
   "source": [
    "df.head()"
   ]
  },
  {
   "cell_type": "code",
   "execution_count": null,
   "metadata": {},
   "outputs": [],
   "source": [
    "for index, head in enumerate(m_heads):\n",
    "    \n",
    "    df = bureau[[\"SK_ID_CURR\", head]]\n",
    "    df = df.groupby(by = [\"SK_ID_CURR\"]).quantile(quants)\n",
    "    df = df.unstack(level=-1)\n",
    "    \n",
    "    try:\n",
    "        mets = mets.join(df , on = \"SK_ID_CURR\")\n",
    "    except (ValueError, NameError):\n",
    "        mets = df"
   ]
  },
  {
   "cell_type": "code",
   "execution_count": null,
   "metadata": {},
   "outputs": [],
   "source": [
    "# Löschen der metrischen Daten aus der TODO Liste\n",
    "todo = [element for element in todo if element not in m_heads]"
   ]
  },
  {
   "cell_type": "code",
   "execution_count": null,
   "metadata": {},
   "outputs": [],
   "source": [
    "mets.head()"
   ]
  },
  {
   "cell_type": "markdown",
   "metadata": {},
   "source": [
    "#### Datenaufbereitung kategorische Daten"
   ]
  },
  {
   "cell_type": "code",
   "execution_count": null,
   "metadata": {},
   "outputs": [],
   "source": [
    "cat_heads = [element for element in todo if bureau[element].dtype.name == \"object\"]"
   ]
  },
  {
   "cell_type": "code",
   "execution_count": null,
   "metadata": {},
   "outputs": [],
   "source": [
    "for index, head in enumerate(cat_heads):\n",
    "    \n",
    "    df = bureau[[\"SK_ID_CURR\", head]]\n",
    "    df = df.groupby([\"SK_ID_CURR\", head]).size()\n",
    "    df = df.unstack()\n",
    "    \n",
    "    try:\n",
    "        cats = cats.join(a , on=\"SK_ID_CURR\")\n",
    "    except (ValueError, NameError):\n",
    "        cats = df"
   ]
  },
  {
   "cell_type": "code",
   "execution_count": null,
   "metadata": {},
   "outputs": [],
   "source": [
    "# Löschen der metrischen Daten aus der TODO Liste\n",
    "todo = [element for element in todo if element not in cat_heads]"
   ]
  },
  {
   "cell_type": "code",
   "execution_count": null,
   "metadata": {},
   "outputs": [],
   "source": [
    "cats.head()"
   ]
  },
  {
   "cell_type": "markdown",
   "metadata": {},
   "source": [
    "#### Zusammenführung metrischer und kategorischer Daten"
   ]
  },
  {
   "cell_type": "code",
   "execution_count": null,
   "metadata": {},
   "outputs": [],
   "source": [
    "bureau = mets.join(cats, on=\"SK_ID_CURR\")"
   ]
  },
  {
   "cell_type": "code",
   "execution_count": null,
   "metadata": {},
   "outputs": [],
   "source": [
    "bureau.head()"
   ]
  },
  {
   "cell_type": "markdown",
   "metadata": {},
   "source": [
    "### Abspeichern der Daten"
   ]
  },
  {
   "cell_type": "code",
   "execution_count": null,
   "metadata": {},
   "outputs": [],
   "source": [
    "bureau.to_csv(DATASET_DIR / \"Datengruppierung\" / \"bureau.csv\")"
   ]
  },
  {
   "cell_type": "code",
   "execution_count": null,
   "metadata": {},
   "outputs": [],
   "source": [
    "todo"
   ]
  }
 ],
 "metadata": {
  "kernelspec": {
   "display_name": "Python 3",
   "language": "python",
   "name": "python3"
  },
  "language_info": {
   "codemirror_mode": {
    "name": "ipython",
    "version": 3
   },
   "file_extension": ".py",
   "mimetype": "text/x-python",
   "name": "python",
   "nbconvert_exporter": "python",
   "pygments_lexer": "ipython3",
   "version": "3.8.6"
  }
 },
 "nbformat": 4,
 "nbformat_minor": 4
}
