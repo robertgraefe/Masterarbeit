{
 "cells": [
  {
   "cell_type": "markdown",
   "metadata": {},
   "source": [
    "## <u>2. Datenaufbereitung Installment Payments"
   ]
  },
  {
   "cell_type": "markdown",
   "metadata": {},
   "source": [
    "In diesem Dokument werden für die Untersuchung unwichtige Variablen aus dem IP-Datensatz gelöscht und wichtige gruppiert. Im Gegensatz zu den Application-Daten liegt in dem IP-Datensatz eine N:M-Beziehung vor, da ein Kreditnehmer in der Vergangenheit mehrere Kredite gehabt haben kann und diese monatliche Kreditdaten beinhalten. Dies erfordert die Gruppierung der historischen Daten. Für die Bestimmung der Kreditwürdigkeit werden nur Daten historische Kontodaten benutzt, die maximal ein halbes Jahr in der Vergangenheit liegen. Zur Vergleichbarkeit der Zahlungshöhen im Zeitverlauf werden diese normalisiert.\n",
    "\n",
    "*Vorgehensweise kategorische Variablen:*\n",
    "- Gruppierung der Variablen\n",
    "- Normalisierung der Variablen"
   ]
  },
  {
   "cell_type": "markdown",
   "metadata": {},
   "source": [
    "## Initialisierung"
   ]
  },
  {
   "cell_type": "code",
   "execution_count": 1,
   "metadata": {},
   "outputs": [],
   "source": [
    "from pathlib import Path\n",
    "from scipy import stats\n",
    "\n",
    "import matplotlib.pyplot as plt\n",
    "import pandas as pd\n",
    "import numpy as np\n",
    "import seaborn as sns\n",
    "\n",
    "np.set_printoptions(suppress=True)\n",
    "\n",
    "pd.options.display.max_columns = None\n",
    "pd.options.display.max_rows = None\n",
    "pd.options.display.max_colwidth = None\n",
    "\n",
    "from sklearn.linear_model import LogisticRegression\n",
    "\n",
    "from IPython.display import display, Markdown"
   ]
  },
  {
   "cell_type": "code",
   "execution_count": 2,
   "metadata": {},
   "outputs": [],
   "source": [
    "path1 = Path(r\"A:\\Workspace\\Python\\Masterarbeit\\Kaggle Home Credit Datensatz\")\n",
    "path2 = Path(r\"C:\\Users\\rober\\Documents\\Workspace\\Python\\Masterarbeit\\Kaggle Home Credit Datensatz\")\n",
    "\n",
    "if path1.is_dir():\n",
    "    DATASET_DIR = path1\n",
    "else:\n",
    "    DATASET_DIR = path2"
   ]
  },
  {
   "cell_type": "code",
   "execution_count": 3,
   "metadata": {},
   "outputs": [],
   "source": [
    "ip = pd.read_csv(DATASET_DIR / \"installments_payments.csv\")\n",
    "description = pd.read_csv(DATASET_DIR / \"HomeCredit_columns_description.csv\", encoding=\"latin\", index_col=0)"
   ]
  },
  {
   "cell_type": "code",
   "execution_count": 4,
   "metadata": {},
   "outputs": [],
   "source": [
    "des = description.loc[description['Table']==\"installments_payments.csv\", \"Row\":\"Special\"]"
   ]
  },
  {
   "cell_type": "code",
   "execution_count": 5,
   "metadata": {},
   "outputs": [
    {
     "data": {
      "text/html": [
       "<div>\n",
       "<style scoped>\n",
       "    .dataframe tbody tr th:only-of-type {\n",
       "        vertical-align: middle;\n",
       "    }\n",
       "\n",
       "    .dataframe tbody tr th {\n",
       "        vertical-align: top;\n",
       "    }\n",
       "\n",
       "    .dataframe thead th {\n",
       "        text-align: right;\n",
       "    }\n",
       "</style>\n",
       "<table border=\"1\" class=\"dataframe\">\n",
       "  <thead>\n",
       "    <tr style=\"text-align: right;\">\n",
       "      <th></th>\n",
       "      <th>Row</th>\n",
       "      <th>Description</th>\n",
       "      <th>Special</th>\n",
       "    </tr>\n",
       "  </thead>\n",
       "  <tbody>\n",
       "    <tr>\n",
       "      <th>214</th>\n",
       "      <td>SK_ID_PREV</td>\n",
       "      <td>ID of previous credit in Home credit related to loan in our sample. (One loan in our sample can have 0,1,2 or more previous loans in Home Credit)</td>\n",
       "      <td>hashed</td>\n",
       "    </tr>\n",
       "    <tr>\n",
       "      <th>215</th>\n",
       "      <td>SK_ID_CURR</td>\n",
       "      <td>ID of loan in our sample</td>\n",
       "      <td>hashed</td>\n",
       "    </tr>\n",
       "    <tr>\n",
       "      <th>216</th>\n",
       "      <td>NUM_INSTALMENT_VERSION</td>\n",
       "      <td>Version of installment calendar (0 is for credit card) of previous credit. Change of installment version from month to month signifies that some parameter of payment calendar has changed</td>\n",
       "      <td>NaN</td>\n",
       "    </tr>\n",
       "    <tr>\n",
       "      <th>217</th>\n",
       "      <td>NUM_INSTALMENT_NUMBER</td>\n",
       "      <td>On which installment we observe payment</td>\n",
       "      <td>NaN</td>\n",
       "    </tr>\n",
       "    <tr>\n",
       "      <th>218</th>\n",
       "      <td>DAYS_INSTALMENT</td>\n",
       "      <td>When the installment of previous credit was supposed to be paid (relative to application date of current loan)</td>\n",
       "      <td>time only relative to the application</td>\n",
       "    </tr>\n",
       "    <tr>\n",
       "      <th>219</th>\n",
       "      <td>DAYS_ENTRY_PAYMENT</td>\n",
       "      <td>When was the installments of previous credit paid actually (relative to application date of current loan)</td>\n",
       "      <td>time only relative to the application</td>\n",
       "    </tr>\n",
       "    <tr>\n",
       "      <th>220</th>\n",
       "      <td>AMT_INSTALMENT</td>\n",
       "      <td>What was the prescribed installment amount of previous credit on this installment</td>\n",
       "      <td>NaN</td>\n",
       "    </tr>\n",
       "    <tr>\n",
       "      <th>221</th>\n",
       "      <td>AMT_PAYMENT</td>\n",
       "      <td>What the client actually paid on previous credit on this installment</td>\n",
       "      <td>NaN</td>\n",
       "    </tr>\n",
       "  </tbody>\n",
       "</table>\n",
       "</div>"
      ],
      "text/plain": [
       "                        Row  \\\n",
       "214             SK_ID_PREV    \n",
       "215              SK_ID_CURR   \n",
       "216  NUM_INSTALMENT_VERSION   \n",
       "217   NUM_INSTALMENT_NUMBER   \n",
       "218         DAYS_INSTALMENT   \n",
       "219      DAYS_ENTRY_PAYMENT   \n",
       "220          AMT_INSTALMENT   \n",
       "221             AMT_PAYMENT   \n",
       "\n",
       "                                                                                                                                                                                    Description  \\\n",
       "214                                           ID of previous credit in Home credit related to loan in our sample. (One loan in our sample can have 0,1,2 or more previous loans in Home Credit)   \n",
       "215                                                                                                                                                                    ID of loan in our sample   \n",
       "216  Version of installment calendar (0 is for credit card) of previous credit. Change of installment version from month to month signifies that some parameter of payment calendar has changed   \n",
       "217                                                                                                                                                     On which installment we observe payment   \n",
       "218                                                                              When the installment of previous credit was supposed to be paid (relative to application date of current loan)   \n",
       "219                                                                                   When was the installments of previous credit paid actually (relative to application date of current loan)   \n",
       "220                                                                                                           What was the prescribed installment amount of previous credit on this installment   \n",
       "221                                                                                                                        What the client actually paid on previous credit on this installment   \n",
       "\n",
       "                                   Special  \n",
       "214                                 hashed  \n",
       "215                                 hashed  \n",
       "216                                    NaN  \n",
       "217                                    NaN  \n",
       "218  time only relative to the application  \n",
       "219  time only relative to the application  \n",
       "220                                    NaN  \n",
       "221                                    NaN  "
      ]
     },
     "execution_count": 5,
     "metadata": {},
     "output_type": "execute_result"
    }
   ],
   "source": [
    "des"
   ]
  },
  {
   "cell_type": "code",
   "execution_count": 6,
   "metadata": {},
   "outputs": [
    {
     "data": {
      "text/html": [
       "<div>\n",
       "<style scoped>\n",
       "    .dataframe tbody tr th:only-of-type {\n",
       "        vertical-align: middle;\n",
       "    }\n",
       "\n",
       "    .dataframe tbody tr th {\n",
       "        vertical-align: top;\n",
       "    }\n",
       "\n",
       "    .dataframe thead th {\n",
       "        text-align: right;\n",
       "    }\n",
       "</style>\n",
       "<table border=\"1\" class=\"dataframe\">\n",
       "  <thead>\n",
       "    <tr style=\"text-align: right;\">\n",
       "      <th></th>\n",
       "      <th>SK_ID_PREV</th>\n",
       "      <th>SK_ID_CURR</th>\n",
       "      <th>NUM_INSTALMENT_VERSION</th>\n",
       "      <th>NUM_INSTALMENT_NUMBER</th>\n",
       "      <th>DAYS_INSTALMENT</th>\n",
       "      <th>DAYS_ENTRY_PAYMENT</th>\n",
       "      <th>AMT_INSTALMENT</th>\n",
       "      <th>AMT_PAYMENT</th>\n",
       "    </tr>\n",
       "  </thead>\n",
       "  <tbody>\n",
       "    <tr>\n",
       "      <th>588168</th>\n",
       "      <td>1682318</td>\n",
       "      <td>161674</td>\n",
       "      <td>1.0</td>\n",
       "      <td>1</td>\n",
       "      <td>-270.0</td>\n",
       "      <td>-299.0</td>\n",
       "      <td>7374.51</td>\n",
       "      <td>7374.51</td>\n",
       "    </tr>\n",
       "    <tr>\n",
       "      <th>66454</th>\n",
       "      <td>1682318</td>\n",
       "      <td>161674</td>\n",
       "      <td>1.0</td>\n",
       "      <td>2</td>\n",
       "      <td>-240.0</td>\n",
       "      <td>-243.0</td>\n",
       "      <td>7374.51</td>\n",
       "      <td>7374.51</td>\n",
       "    </tr>\n",
       "    <tr>\n",
       "      <th>1865014</th>\n",
       "      <td>1682318</td>\n",
       "      <td>161674</td>\n",
       "      <td>1.0</td>\n",
       "      <td>3</td>\n",
       "      <td>-210.0</td>\n",
       "      <td>-215.0</td>\n",
       "      <td>7374.51</td>\n",
       "      <td>7374.51</td>\n",
       "    </tr>\n",
       "    <tr>\n",
       "      <th>1842575</th>\n",
       "      <td>1682318</td>\n",
       "      <td>161674</td>\n",
       "      <td>1.0</td>\n",
       "      <td>4</td>\n",
       "      <td>-180.0</td>\n",
       "      <td>-180.0</td>\n",
       "      <td>7374.51</td>\n",
       "      <td>7374.51</td>\n",
       "    </tr>\n",
       "    <tr>\n",
       "      <th>3669471</th>\n",
       "      <td>1682318</td>\n",
       "      <td>161674</td>\n",
       "      <td>1.0</td>\n",
       "      <td>5</td>\n",
       "      <td>-150.0</td>\n",
       "      <td>-152.0</td>\n",
       "      <td>7374.51</td>\n",
       "      <td>7374.51</td>\n",
       "    </tr>\n",
       "    <tr>\n",
       "      <th>2891187</th>\n",
       "      <td>1682318</td>\n",
       "      <td>161674</td>\n",
       "      <td>1.0</td>\n",
       "      <td>6</td>\n",
       "      <td>-120.0</td>\n",
       "      <td>-144.0</td>\n",
       "      <td>7374.51</td>\n",
       "      <td>7374.51</td>\n",
       "    </tr>\n",
       "    <tr>\n",
       "      <th>1844388</th>\n",
       "      <td>1682318</td>\n",
       "      <td>161674</td>\n",
       "      <td>1.0</td>\n",
       "      <td>7</td>\n",
       "      <td>-90.0</td>\n",
       "      <td>-92.0</td>\n",
       "      <td>7374.51</td>\n",
       "      <td>7374.51</td>\n",
       "    </tr>\n",
       "    <tr>\n",
       "      <th>2152079</th>\n",
       "      <td>1682318</td>\n",
       "      <td>161674</td>\n",
       "      <td>2.0</td>\n",
       "      <td>8</td>\n",
       "      <td>-60.0</td>\n",
       "      <td>-62.0</td>\n",
       "      <td>21070.62</td>\n",
       "      <td>21070.62</td>\n",
       "    </tr>\n",
       "  </tbody>\n",
       "</table>\n",
       "</div>"
      ],
      "text/plain": [
       "         SK_ID_PREV  SK_ID_CURR  NUM_INSTALMENT_VERSION  \\\n",
       "588168      1682318      161674                     1.0   \n",
       "66454       1682318      161674                     1.0   \n",
       "1865014     1682318      161674                     1.0   \n",
       "1842575     1682318      161674                     1.0   \n",
       "3669471     1682318      161674                     1.0   \n",
       "2891187     1682318      161674                     1.0   \n",
       "1844388     1682318      161674                     1.0   \n",
       "2152079     1682318      161674                     2.0   \n",
       "\n",
       "         NUM_INSTALMENT_NUMBER  DAYS_INSTALMENT  DAYS_ENTRY_PAYMENT  \\\n",
       "588168                       1           -270.0              -299.0   \n",
       "66454                        2           -240.0              -243.0   \n",
       "1865014                      3           -210.0              -215.0   \n",
       "1842575                      4           -180.0              -180.0   \n",
       "3669471                      5           -150.0              -152.0   \n",
       "2891187                      6           -120.0              -144.0   \n",
       "1844388                      7            -90.0               -92.0   \n",
       "2152079                      8            -60.0               -62.0   \n",
       "\n",
       "         AMT_INSTALMENT  AMT_PAYMENT  \n",
       "588168          7374.51      7374.51  \n",
       "66454           7374.51      7374.51  \n",
       "1865014         7374.51      7374.51  \n",
       "1842575         7374.51      7374.51  \n",
       "3669471         7374.51      7374.51  \n",
       "2891187         7374.51      7374.51  \n",
       "1844388         7374.51      7374.51  \n",
       "2152079        21070.62     21070.62  "
      ]
     },
     "execution_count": 6,
     "metadata": {},
     "output_type": "execute_result"
    }
   ],
   "source": [
    "ip[ip[\"SK_ID_PREV\"] == 1682318].sort_values(\"NUM_INSTALMENT_NUMBER\")"
   ]
  },
  {
   "cell_type": "markdown",
   "metadata": {},
   "source": [
    "# Informationen\n",
    "* Zahlungshistorie der letzen 0-6 Monate\n",
    "* Differenz der Zahlungstage (viele Tage vor bzw. nach der Zahlungsdeadline hat ein Kreditnehmer tatsächlich überwiesen)\n",
    "* Differenz der Zahlungshöhe (hat ein Kreditnehmer zu viel bzw. zu wenig Überwiesen)"
   ]
  },
  {
   "cell_type": "code",
   "execution_count": 7,
   "metadata": {},
   "outputs": [],
   "source": [
    "df = ip.copy()"
   ]
  },
  {
   "cell_type": "code",
   "execution_count": 8,
   "metadata": {},
   "outputs": [],
   "source": [
    "df[\"DAYS_DIFF\"] = df[\"DAYS_ENTRY_PAYMENT\"] - df[\"DAYS_INSTALMENT\"]\n",
    "df[\"AMT_DIFF\"] = df[\"AMT_INSTALMENT\"] - df[\"AMT_PAYMENT\"]"
   ]
  },
  {
   "cell_type": "code",
   "execution_count": 9,
   "metadata": {},
   "outputs": [],
   "source": [
    "df = df[df[\"DAYS_INSTALMENT\"] > -180] # es werden nur Daten aus dem letzten halben Jahr betrachtet"
   ]
  },
  {
   "cell_type": "code",
   "execution_count": 10,
   "metadata": {},
   "outputs": [],
   "source": [
    "T1 = df[ (0 > df[\"DAYS_INSTALMENT\"]) & (df[\"DAYS_INSTALMENT\"] >= -30)][[\"SK_ID_PREV\", \"AMT_PAYMENT\", \"DAYS_DIFF\", \"AMT_DIFF\"]]\n",
    "T2 = df[ (-30 > df[\"DAYS_INSTALMENT\"]) & (df[\"DAYS_INSTALMENT\"] >= -60)][[\"SK_ID_PREV\", \"AMT_PAYMENT\", \"DAYS_DIFF\", \"AMT_DIFF\"]]\n",
    "T3 = df[ (-60 > df[\"DAYS_INSTALMENT\"]) & (df[\"DAYS_INSTALMENT\"] >= -90)][[\"SK_ID_PREV\", \"AMT_PAYMENT\", \"DAYS_DIFF\", \"AMT_DIFF\"]]\n",
    "T4 = df[ (-90 > df[\"DAYS_INSTALMENT\"]) & (df[\"DAYS_INSTALMENT\"] >= -120)][[\"SK_ID_PREV\", \"AMT_PAYMENT\", \"DAYS_DIFF\", \"AMT_DIFF\"]]\n",
    "T5 = df[ (-120 > df[\"DAYS_INSTALMENT\"]) & (df[\"DAYS_INSTALMENT\"] >= -150)][[\"SK_ID_PREV\", \"AMT_PAYMENT\", \"DAYS_DIFF\", \"AMT_DIFF\"]]\n",
    "T6 = df[ (-150 > df[\"DAYS_INSTALMENT\"]) & (df[\"DAYS_INSTALMENT\"] >= -180)][[\"SK_ID_PREV\", \"AMT_PAYMENT\", \"DAYS_DIFF\", \"AMT_DIFF\"]]"
   ]
  },
  {
   "cell_type": "code",
   "execution_count": 11,
   "metadata": {},
   "outputs": [],
   "source": [
    "T1 = T1.groupby(by=\"SK_ID_PREV\").sum()\n",
    "T1.columns = [\"PAYMENT_30\", \"DAYS_DIFF_30\", \"AMT_DIFF_30\"]\n",
    "\n",
    "T2 = T2.groupby(by=\"SK_ID_PREV\").sum()\n",
    "T2.columns = [\"PAYMENT_60\", \"DAYS_DIFF_60\", \"AMT_DIFF_60\"]\n",
    "\n",
    "T3 = T3.groupby(by=\"SK_ID_PREV\").sum()\n",
    "T3.columns = [\"PAYMENT_90\", \"DAYS_DIFF_90\", \"AMT_DIFF_90\"]\n",
    "\n",
    "T4 = T4.groupby(by=\"SK_ID_PREV\").sum()\n",
    "T4.columns = [\"PAYMENT_120\", \"DAYS_DIFF_120\", \"AMT_DIFF_120\"]\n",
    "\n",
    "T5 = T5.groupby(by=\"SK_ID_PREV\").sum()\n",
    "T5.columns = [\"PAYMENT_150\", \"DAYS_DIFF_150\", \"AMT_DIFF_150\"]\n",
    "\n",
    "T6 = T6.groupby(by=\"SK_ID_PREV\").sum()\n",
    "T6.columns = [\"PAYMENT_180\", \"DAYS_DIFF_180\", \"AMT_DIFF_180\"]"
   ]
  },
  {
   "cell_type": "code",
   "execution_count": 12,
   "metadata": {},
   "outputs": [],
   "source": [
    "result = pd.DataFrame(index=df.SK_ID_PREV.unique())\n",
    "result.index.name = \"SK_ID_PREV\""
   ]
  },
  {
   "cell_type": "code",
   "execution_count": 13,
   "metadata": {},
   "outputs": [],
   "source": [
    "result = pd.merge(result, T1, how=\"left\", left_index=True, right_index=True)\n",
    "result = pd.merge(result, T2, how=\"left\", left_index=True, right_index=True)\n",
    "result = pd.merge(result, T3, how=\"left\", left_index=True, right_index=True)\n",
    "result = pd.merge(result, T4, how=\"left\", left_index=True, right_index=True)\n",
    "result = pd.merge(result, T5, how=\"left\", left_index=True, right_index=True)\n",
    "result = pd.merge(result, T6, how=\"left\", left_index=True, right_index=True)"
   ]
  },
  {
   "cell_type": "code",
   "execution_count": 14,
   "metadata": {},
   "outputs": [],
   "source": [
    "result = result.fillna(0)"
   ]
  },
  {
   "cell_type": "code",
   "execution_count": 15,
   "metadata": {},
   "outputs": [],
   "source": [
    "df = result"
   ]
  },
  {
   "cell_type": "code",
   "execution_count": 16,
   "metadata": {},
   "outputs": [
    {
     "data": {
      "text/html": [
       "<div>\n",
       "<style scoped>\n",
       "    .dataframe tbody tr th:only-of-type {\n",
       "        vertical-align: middle;\n",
       "    }\n",
       "\n",
       "    .dataframe tbody tr th {\n",
       "        vertical-align: top;\n",
       "    }\n",
       "\n",
       "    .dataframe thead th {\n",
       "        text-align: right;\n",
       "    }\n",
       "</style>\n",
       "<table border=\"1\" class=\"dataframe\">\n",
       "  <thead>\n",
       "    <tr style=\"text-align: right;\">\n",
       "      <th></th>\n",
       "      <th>PAYMENT_30</th>\n",
       "      <th>DAYS_DIFF_30</th>\n",
       "      <th>AMT_DIFF_30</th>\n",
       "      <th>PAYMENT_60</th>\n",
       "      <th>DAYS_DIFF_60</th>\n",
       "      <th>AMT_DIFF_60</th>\n",
       "      <th>PAYMENT_90</th>\n",
       "      <th>DAYS_DIFF_90</th>\n",
       "      <th>AMT_DIFF_90</th>\n",
       "      <th>PAYMENT_120</th>\n",
       "      <th>DAYS_DIFF_120</th>\n",
       "      <th>AMT_DIFF_120</th>\n",
       "      <th>PAYMENT_150</th>\n",
       "      <th>DAYS_DIFF_150</th>\n",
       "      <th>AMT_DIFF_150</th>\n",
       "      <th>PAYMENT_180</th>\n",
       "      <th>DAYS_DIFF_180</th>\n",
       "      <th>AMT_DIFF_180</th>\n",
       "    </tr>\n",
       "    <tr>\n",
       "      <th>SK_ID_PREV</th>\n",
       "      <th></th>\n",
       "      <th></th>\n",
       "      <th></th>\n",
       "      <th></th>\n",
       "      <th></th>\n",
       "      <th></th>\n",
       "      <th></th>\n",
       "      <th></th>\n",
       "      <th></th>\n",
       "      <th></th>\n",
       "      <th></th>\n",
       "      <th></th>\n",
       "      <th></th>\n",
       "      <th></th>\n",
       "      <th></th>\n",
       "      <th></th>\n",
       "      <th></th>\n",
       "      <th></th>\n",
       "    </tr>\n",
       "  </thead>\n",
       "  <tbody>\n",
       "    <tr>\n",
       "      <th>2085231</th>\n",
       "      <td>8393.175</td>\n",
       "      <td>-7.0</td>\n",
       "      <td>0.0</td>\n",
       "      <td>631.035</td>\n",
       "      <td>23.0</td>\n",
       "      <td>0.0</td>\n",
       "      <td>25425.000</td>\n",
       "      <td>0.0</td>\n",
       "      <td>0.0</td>\n",
       "      <td>0.000</td>\n",
       "      <td>0.0</td>\n",
       "      <td>0.0</td>\n",
       "      <td>0.000</td>\n",
       "      <td>0.0</td>\n",
       "      <td>0.0</td>\n",
       "      <td>0.000</td>\n",
       "      <td>0.0</td>\n",
       "      <td>0.0</td>\n",
       "    </tr>\n",
       "    <tr>\n",
       "      <th>2260765</th>\n",
       "      <td>13494.915</td>\n",
       "      <td>0.0</td>\n",
       "      <td>0.0</td>\n",
       "      <td>13494.915</td>\n",
       "      <td>-3.0</td>\n",
       "      <td>0.0</td>\n",
       "      <td>13494.915</td>\n",
       "      <td>-2.0</td>\n",
       "      <td>0.0</td>\n",
       "      <td>13494.915</td>\n",
       "      <td>0.0</td>\n",
       "      <td>0.0</td>\n",
       "      <td>13494.915</td>\n",
       "      <td>0.0</td>\n",
       "      <td>0.0</td>\n",
       "      <td>13494.915</td>\n",
       "      <td>-1.0</td>\n",
       "      <td>0.0</td>\n",
       "    </tr>\n",
       "    <tr>\n",
       "      <th>1184783</th>\n",
       "      <td>0.000</td>\n",
       "      <td>0.0</td>\n",
       "      <td>0.0</td>\n",
       "      <td>503.460</td>\n",
       "      <td>0.0</td>\n",
       "      <td>0.0</td>\n",
       "      <td>503.460</td>\n",
       "      <td>0.0</td>\n",
       "      <td>0.0</td>\n",
       "      <td>503.460</td>\n",
       "      <td>0.0</td>\n",
       "      <td>0.0</td>\n",
       "      <td>503.460</td>\n",
       "      <td>0.0</td>\n",
       "      <td>0.0</td>\n",
       "      <td>503.460</td>\n",
       "      <td>0.0</td>\n",
       "      <td>0.0</td>\n",
       "    </tr>\n",
       "    <tr>\n",
       "      <th>1003606</th>\n",
       "      <td>110.655</td>\n",
       "      <td>0.0</td>\n",
       "      <td>0.0</td>\n",
       "      <td>110.655</td>\n",
       "      <td>0.0</td>\n",
       "      <td>0.0</td>\n",
       "      <td>110.655</td>\n",
       "      <td>0.0</td>\n",
       "      <td>0.0</td>\n",
       "      <td>110.655</td>\n",
       "      <td>0.0</td>\n",
       "      <td>0.0</td>\n",
       "      <td>110.655</td>\n",
       "      <td>0.0</td>\n",
       "      <td>0.0</td>\n",
       "      <td>110.655</td>\n",
       "      <td>0.0</td>\n",
       "      <td>0.0</td>\n",
       "    </tr>\n",
       "    <tr>\n",
       "      <th>2553780</th>\n",
       "      <td>0.000</td>\n",
       "      <td>0.0</td>\n",
       "      <td>0.0</td>\n",
       "      <td>0.000</td>\n",
       "      <td>0.0</td>\n",
       "      <td>0.0</td>\n",
       "      <td>11529.000</td>\n",
       "      <td>-11.0</td>\n",
       "      <td>0.0</td>\n",
       "      <td>11529.630</td>\n",
       "      <td>-11.0</td>\n",
       "      <td>0.0</td>\n",
       "      <td>11529.630</td>\n",
       "      <td>-12.0</td>\n",
       "      <td>0.0</td>\n",
       "      <td>11529.630</td>\n",
       "      <td>-28.0</td>\n",
       "      <td>0.0</td>\n",
       "    </tr>\n",
       "  </tbody>\n",
       "</table>\n",
       "</div>"
      ],
      "text/plain": [
       "            PAYMENT_30  DAYS_DIFF_30  AMT_DIFF_30  PAYMENT_60  DAYS_DIFF_60  \\\n",
       "SK_ID_PREV                                                                    \n",
       "2085231       8393.175          -7.0          0.0     631.035          23.0   \n",
       "2260765      13494.915           0.0          0.0   13494.915          -3.0   \n",
       "1184783          0.000           0.0          0.0     503.460           0.0   \n",
       "1003606        110.655           0.0          0.0     110.655           0.0   \n",
       "2553780          0.000           0.0          0.0       0.000           0.0   \n",
       "\n",
       "            AMT_DIFF_60  PAYMENT_90  DAYS_DIFF_90  AMT_DIFF_90  PAYMENT_120  \\\n",
       "SK_ID_PREV                                                                    \n",
       "2085231             0.0   25425.000           0.0          0.0        0.000   \n",
       "2260765             0.0   13494.915          -2.0          0.0    13494.915   \n",
       "1184783             0.0     503.460           0.0          0.0      503.460   \n",
       "1003606             0.0     110.655           0.0          0.0      110.655   \n",
       "2553780             0.0   11529.000         -11.0          0.0    11529.630   \n",
       "\n",
       "            DAYS_DIFF_120  AMT_DIFF_120  PAYMENT_150  DAYS_DIFF_150  \\\n",
       "SK_ID_PREV                                                            \n",
       "2085231               0.0           0.0        0.000            0.0   \n",
       "2260765               0.0           0.0    13494.915            0.0   \n",
       "1184783               0.0           0.0      503.460            0.0   \n",
       "1003606               0.0           0.0      110.655            0.0   \n",
       "2553780             -11.0           0.0    11529.630          -12.0   \n",
       "\n",
       "            AMT_DIFF_150  PAYMENT_180  DAYS_DIFF_180  AMT_DIFF_180  \n",
       "SK_ID_PREV                                                          \n",
       "2085231              0.0        0.000            0.0           0.0  \n",
       "2260765              0.0    13494.915           -1.0           0.0  \n",
       "1184783              0.0      503.460            0.0           0.0  \n",
       "1003606              0.0      110.655            0.0           0.0  \n",
       "2553780              0.0    11529.630          -28.0           0.0  "
      ]
     },
     "execution_count": 16,
     "metadata": {},
     "output_type": "execute_result"
    }
   ],
   "source": [
    "df.head()"
   ]
  },
  {
   "cell_type": "markdown",
   "metadata": {},
   "source": [
    "## Normalisierung der Daten"
   ]
  },
  {
   "cell_type": "code",
   "execution_count": 17,
   "metadata": {},
   "outputs": [],
   "source": [
    "# Normalisierung PAYMENT"
   ]
  },
  {
   "cell_type": "code",
   "execution_count": 18,
   "metadata": {},
   "outputs": [],
   "source": [
    "payment_heads = [head for head in df.columns.values if \"PAYMENT\" in head]"
   ]
  },
  {
   "cell_type": "code",
   "execution_count": 19,
   "metadata": {},
   "outputs": [
    {
     "data": {
      "text/plain": [
       "<AxesSubplot:>"
      ]
     },
     "execution_count": 19,
     "metadata": {},
     "output_type": "execute_result"
    },
    {
     "data": {
      "image/png": "[encoded data removed]",
      "text/plain": [
       "<Figure size 432x288 with 1 Axes>"
      ]
     },
     "metadata": {
      "needs_background": "light"
     },
     "output_type": "display_data"
    }
   ],
   "source": [
    "df.loc[2085231][payment_heads].plot()"
   ]
  },
  {
   "cell_type": "code",
   "execution_count": 20,
   "metadata": {},
   "outputs": [],
   "source": [
    "df[\"PAYMENT_MEAN\"] = df[payment_heads].mean(axis=1)\n",
    "df[\"PAYMENT_STD\"] = df[payment_heads].std(axis=1)"
   ]
  },
  {
   "cell_type": "code",
   "execution_count": 21,
   "metadata": {},
   "outputs": [],
   "source": [
    "for head in payment_heads:\n",
    "    df[head] = (df[head]-df[\"PAYMENT_MEAN\"])/df[\"PAYMENT_STD\"]"
   ]
  },
  {
   "cell_type": "code",
   "execution_count": 22,
   "metadata": {},
   "outputs": [
    {
     "data": {
      "text/plain": [
       "<AxesSubplot:>"
      ]
     },
     "execution_count": 22,
     "metadata": {},
     "output_type": "execute_result"
    },
    {
     "data": {
      "image/png": "[encoded data removed]",
      "text/plain": [
       "<Figure size 432x288 with 1 Axes>"
      ]
     },
     "metadata": {
      "needs_background": "light"
     },
     "output_type": "display_data"
    }
   ],
   "source": [
    "df.loc[2085231][payment_heads].plot()"
   ]
  },
  {
   "cell_type": "code",
   "execution_count": 23,
   "metadata": {},
   "outputs": [],
   "source": [
    "# Normalisierung AMT_DIFF"
   ]
  },
  {
   "cell_type": "code",
   "execution_count": 24,
   "metadata": {},
   "outputs": [],
   "source": [
    "diff_heads = [head for head in df.columns.values if \"AMT_DIFF\" in head]"
   ]
  },
  {
   "cell_type": "code",
   "execution_count": 25,
   "metadata": {},
   "outputs": [],
   "source": [
    "df[\"DIFF_MEAN\"] = df[diff_heads].mean(axis=1)\n",
    "df[\"DIFF_STD\"] = df[diff_heads].std(axis=1)"
   ]
  },
  {
   "cell_type": "code",
   "execution_count": 26,
   "metadata": {},
   "outputs": [],
   "source": [
    "for head in diff_heads:\n",
    "    df[head] = (df[head]-df[\"DIFF_MEAN\"])/df[\"DIFF_STD\"]"
   ]
  },
  {
   "cell_type": "code",
   "execution_count": 27,
   "metadata": {},
   "outputs": [],
   "source": [
    "df = df.drop([\"PAYMENT_MEAN\", \"PAYMENT_STD\", \"DIFF_MEAN\", \"DIFF_STD\"], axis=1)"
   ]
  },
  {
   "cell_type": "code",
   "execution_count": 28,
   "metadata": {},
   "outputs": [],
   "source": [
    "df = df.fillna(0)"
   ]
  },
  {
   "cell_type": "markdown",
   "metadata": {},
   "source": [
    "### Ergebnis"
   ]
  },
  {
   "cell_type": "code",
   "execution_count": 29,
   "metadata": {},
   "outputs": [],
   "source": [
    "df = df.add_prefix(\"IP_\")"
   ]
  },
  {
   "cell_type": "code",
   "execution_count": 30,
   "metadata": {},
   "outputs": [
    {
     "data": {
      "text/html": [
       "<div>\n",
       "<style scoped>\n",
       "    .dataframe tbody tr th:only-of-type {\n",
       "        vertical-align: middle;\n",
       "    }\n",
       "\n",
       "    .dataframe tbody tr th {\n",
       "        vertical-align: top;\n",
       "    }\n",
       "\n",
       "    .dataframe thead th {\n",
       "        text-align: right;\n",
       "    }\n",
       "</style>\n",
       "<table border=\"1\" class=\"dataframe\">\n",
       "  <thead>\n",
       "    <tr style=\"text-align: right;\">\n",
       "      <th></th>\n",
       "      <th>IP_PAYMENT_30</th>\n",
       "      <th>IP_DAYS_DIFF_30</th>\n",
       "      <th>IP_AMT_DIFF_30</th>\n",
       "      <th>IP_PAYMENT_60</th>\n",
       "      <th>IP_DAYS_DIFF_60</th>\n",
       "      <th>IP_AMT_DIFF_60</th>\n",
       "      <th>IP_PAYMENT_90</th>\n",
       "      <th>IP_DAYS_DIFF_90</th>\n",
       "      <th>IP_AMT_DIFF_90</th>\n",
       "      <th>IP_PAYMENT_120</th>\n",
       "      <th>IP_DAYS_DIFF_120</th>\n",
       "      <th>IP_AMT_DIFF_120</th>\n",
       "      <th>IP_PAYMENT_150</th>\n",
       "      <th>IP_DAYS_DIFF_150</th>\n",
       "      <th>IP_AMT_DIFF_150</th>\n",
       "      <th>IP_PAYMENT_180</th>\n",
       "      <th>IP_DAYS_DIFF_180</th>\n",
       "      <th>IP_AMT_DIFF_180</th>\n",
       "    </tr>\n",
       "    <tr>\n",
       "      <th>SK_ID_PREV</th>\n",
       "      <th></th>\n",
       "      <th></th>\n",
       "      <th></th>\n",
       "      <th></th>\n",
       "      <th></th>\n",
       "      <th></th>\n",
       "      <th></th>\n",
       "      <th></th>\n",
       "      <th></th>\n",
       "      <th></th>\n",
       "      <th></th>\n",
       "      <th></th>\n",
       "      <th></th>\n",
       "      <th></th>\n",
       "      <th></th>\n",
       "      <th></th>\n",
       "      <th></th>\n",
       "      <th></th>\n",
       "    </tr>\n",
       "  </thead>\n",
       "  <tbody>\n",
       "    <tr>\n",
       "      <th>2085231</th>\n",
       "      <td>0.260144</td>\n",
       "      <td>-7.0</td>\n",
       "      <td>0.0</td>\n",
       "      <td>-0.501375</td>\n",
       "      <td>23.0</td>\n",
       "      <td>0.0</td>\n",
       "      <td>1.931083</td>\n",
       "      <td>0.0</td>\n",
       "      <td>0.0</td>\n",
       "      <td>-0.563284</td>\n",
       "      <td>0.0</td>\n",
       "      <td>0.0</td>\n",
       "      <td>-0.563284</td>\n",
       "      <td>0.0</td>\n",
       "      <td>0.0</td>\n",
       "      <td>-0.563284</td>\n",
       "      <td>0.0</td>\n",
       "      <td>0.0</td>\n",
       "    </tr>\n",
       "    <tr>\n",
       "      <th>2260765</th>\n",
       "      <td>-0.912871</td>\n",
       "      <td>0.0</td>\n",
       "      <td>0.0</td>\n",
       "      <td>-0.912871</td>\n",
       "      <td>-3.0</td>\n",
       "      <td>0.0</td>\n",
       "      <td>-0.912871</td>\n",
       "      <td>-2.0</td>\n",
       "      <td>0.0</td>\n",
       "      <td>-0.912871</td>\n",
       "      <td>0.0</td>\n",
       "      <td>0.0</td>\n",
       "      <td>-0.912871</td>\n",
       "      <td>0.0</td>\n",
       "      <td>0.0</td>\n",
       "      <td>-0.912871</td>\n",
       "      <td>-1.0</td>\n",
       "      <td>0.0</td>\n",
       "    </tr>\n",
       "    <tr>\n",
       "      <th>1184783</th>\n",
       "      <td>-2.041241</td>\n",
       "      <td>0.0</td>\n",
       "      <td>0.0</td>\n",
       "      <td>0.408248</td>\n",
       "      <td>0.0</td>\n",
       "      <td>0.0</td>\n",
       "      <td>0.408248</td>\n",
       "      <td>0.0</td>\n",
       "      <td>0.0</td>\n",
       "      <td>0.408248</td>\n",
       "      <td>0.0</td>\n",
       "      <td>0.0</td>\n",
       "      <td>0.408248</td>\n",
       "      <td>0.0</td>\n",
       "      <td>0.0</td>\n",
       "      <td>0.408248</td>\n",
       "      <td>0.0</td>\n",
       "      <td>0.0</td>\n",
       "    </tr>\n",
       "    <tr>\n",
       "      <th>1003606</th>\n",
       "      <td>0.912871</td>\n",
       "      <td>0.0</td>\n",
       "      <td>0.0</td>\n",
       "      <td>0.912871</td>\n",
       "      <td>0.0</td>\n",
       "      <td>0.0</td>\n",
       "      <td>0.912871</td>\n",
       "      <td>0.0</td>\n",
       "      <td>0.0</td>\n",
       "      <td>0.912871</td>\n",
       "      <td>0.0</td>\n",
       "      <td>0.0</td>\n",
       "      <td>0.912871</td>\n",
       "      <td>0.0</td>\n",
       "      <td>0.0</td>\n",
       "      <td>0.912871</td>\n",
       "      <td>0.0</td>\n",
       "      <td>0.0</td>\n",
       "    </tr>\n",
       "    <tr>\n",
       "      <th>2553780</th>\n",
       "      <td>-1.290994</td>\n",
       "      <td>0.0</td>\n",
       "      <td>0.0</td>\n",
       "      <td>-1.290994</td>\n",
       "      <td>0.0</td>\n",
       "      <td>0.0</td>\n",
       "      <td>0.645418</td>\n",
       "      <td>-11.0</td>\n",
       "      <td>0.0</td>\n",
       "      <td>0.645524</td>\n",
       "      <td>-11.0</td>\n",
       "      <td>0.0</td>\n",
       "      <td>0.645524</td>\n",
       "      <td>-12.0</td>\n",
       "      <td>0.0</td>\n",
       "      <td>0.645524</td>\n",
       "      <td>-28.0</td>\n",
       "      <td>0.0</td>\n",
       "    </tr>\n",
       "  </tbody>\n",
       "</table>\n",
       "</div>"
      ],
      "text/plain": [
       "            IP_PAYMENT_30  IP_DAYS_DIFF_30  IP_AMT_DIFF_30  IP_PAYMENT_60  \\\n",
       "SK_ID_PREV                                                                  \n",
       "2085231          0.260144             -7.0             0.0      -0.501375   \n",
       "2260765         -0.912871              0.0             0.0      -0.912871   \n",
       "1184783         -2.041241              0.0             0.0       0.408248   \n",
       "1003606          0.912871              0.0             0.0       0.912871   \n",
       "2553780         -1.290994              0.0             0.0      -1.290994   \n",
       "\n",
       "            IP_DAYS_DIFF_60  IP_AMT_DIFF_60  IP_PAYMENT_90  IP_DAYS_DIFF_90  \\\n",
       "SK_ID_PREV                                                                    \n",
       "2085231                23.0             0.0       1.931083              0.0   \n",
       "2260765                -3.0             0.0      -0.912871             -2.0   \n",
       "1184783                 0.0             0.0       0.408248              0.0   \n",
       "1003606                 0.0             0.0       0.912871              0.0   \n",
       "2553780                 0.0             0.0       0.645418            -11.0   \n",
       "\n",
       "            IP_AMT_DIFF_90  IP_PAYMENT_120  IP_DAYS_DIFF_120  IP_AMT_DIFF_120  \\\n",
       "SK_ID_PREV                                                                      \n",
       "2085231                0.0       -0.563284               0.0              0.0   \n",
       "2260765                0.0       -0.912871               0.0              0.0   \n",
       "1184783                0.0        0.408248               0.0              0.0   \n",
       "1003606                0.0        0.912871               0.0              0.0   \n",
       "2553780                0.0        0.645524             -11.0              0.0   \n",
       "\n",
       "            IP_PAYMENT_150  IP_DAYS_DIFF_150  IP_AMT_DIFF_150  IP_PAYMENT_180  \\\n",
       "SK_ID_PREV                                                                      \n",
       "2085231          -0.563284               0.0              0.0       -0.563284   \n",
       "2260765          -0.912871               0.0              0.0       -0.912871   \n",
       "1184783           0.408248               0.0              0.0        0.408248   \n",
       "1003606           0.912871               0.0              0.0        0.912871   \n",
       "2553780           0.645524             -12.0              0.0        0.645524   \n",
       "\n",
       "            IP_DAYS_DIFF_180  IP_AMT_DIFF_180  \n",
       "SK_ID_PREV                                     \n",
       "2085231                  0.0              0.0  \n",
       "2260765                 -1.0              0.0  \n",
       "1184783                  0.0              0.0  \n",
       "1003606                  0.0              0.0  \n",
       "2553780                -28.0              0.0  "
      ]
     },
     "execution_count": 30,
     "metadata": {},
     "output_type": "execute_result"
    }
   ],
   "source": [
    "df.head()"
   ]
  },
  {
   "cell_type": "markdown",
   "metadata": {},
   "source": [
    "### Speichern der Werte"
   ]
  },
  {
   "cell_type": "code",
   "execution_count": 31,
   "metadata": {},
   "outputs": [],
   "source": [
    "df.to_csv(DATASET_DIR / \"2. Datenaufbereitung\" / \"ip.csv\")"
   ]
  },
  {
   "cell_type": "code",
   "execution_count": null,
   "metadata": {},
   "outputs": [],
   "source": []
  }
 ],
 "metadata": {
  "kernelspec": {
   "display_name": "Python 3",
   "language": "python",
   "name": "python3"
  },
  "language_info": {
   "codemirror_mode": {
    "name": "ipython",
    "version": 3
   },
   "file_extension": ".py",
   "mimetype": "text/x-python",
   "name": "python",
   "nbconvert_exporter": "python",
   "pygments_lexer": "ipython3",
   "version": "3.8.7"
  }
 },
 "nbformat": 4,
 "nbformat_minor": 4
}
