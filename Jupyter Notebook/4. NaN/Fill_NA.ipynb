{
 "cells": [
  {
   "cell_type": "markdown",
   "metadata": {},
   "source": [
    "# Aufarbeitung der NAN Werte"
   ]
  },
  {
   "cell_type": "markdown",
   "metadata": {},
   "source": [
    "Anwendung von iterativer Imputation zur Füllung fehlender Daten. Für jeden Datensatz wird eigene Imputation erstellt. Dies ist notwendig um nur die fehlenden Daten jener KN zu simulieren, die auch tatsächlich im Datensatz sind. Somit werden keine KN künstlich erstellt."
   ]
  },
  {
   "cell_type": "code",
   "execution_count": 2,
   "metadata": {},
   "outputs": [],
   "source": [
    "from pathlib import Path\n",
    "from scipy import stats\n",
    "\n",
    "import matplotlib.pyplot as plt\n",
    "import pandas as pd\n",
    "import numpy as np\n",
    "import seaborn as sns\n",
    "\n",
    "np.set_printoptions(suppress=True)\n",
    "\n",
    "pd.options.display.max_columns = None\n",
    "pd.options.display.max_rows = None\n",
    "pd.options.display.max_colwidth = None\n",
    "\n",
    "from sklearn.linear_model import LogisticRegression\n",
    "\n",
    "from IPython.display import display, Markdown\n",
    "\n",
    "from sklearn import preprocessing"
   ]
  },
  {
   "cell_type": "code",
   "execution_count": 3,
   "metadata": {},
   "outputs": [],
   "source": [
    "from sklearn.experimental import enable_iterative_imputer\n",
    "from sklearn.impute import IterativeImputer"
   ]
  },
  {
   "cell_type": "code",
   "execution_count": 4,
   "metadata": {},
   "outputs": [],
   "source": [
    "path1 = Path(r\"A:\\Workspace\\Python\\Masterarbeit\\Kaggle Home Credit Datensatz\")\n",
    "path2 = Path(r\"C:\\Users\\rober\\Documents\\Workspace\\Python\\Masterarbeit\\Kaggle Home Credit Datensatz\")\n",
    "\n",
    "if path1.is_dir():\n",
    "    DATASET_DIR = path1\n",
    "else:\n",
    "    DATASET_DIR = path2"
   ]
  },
  {
   "cell_type": "code",
   "execution_count": 5,
   "metadata": {},
   "outputs": [],
   "source": [
    "app_train = pd.read_csv(DATASET_DIR / \"3. Ausreißerbereinigung\" / \"app_train.csv\")\n",
    "bureau = pd.read_csv(DATASET_DIR / \"3. Ausreißerbereinigung\" / \"bureau.csv\")\n",
    "pa_pos = pd.read_csv(DATASET_DIR / \"3. Ausreißerbereinigung\" / \"pa_pos.csv\")\n",
    "pa_ip = pd.read_csv(DATASET_DIR / \"3. Ausreißerbereinigung\" / \"pa_ip.csv\")\n",
    "pa_cc = pd.read_csv(DATASET_DIR / \"3. Ausreißerbereinigung\" / \"pa_cc.csv\")\n",
    "description = pd.read_csv(DATASET_DIR / \"HomeCredit_columns_description.csv\", encoding=\"latin\", index_col=0)"
   ]
  },
  {
   "cell_type": "code",
   "execution_count": 6,
   "metadata": {},
   "outputs": [],
   "source": [
    "app_train = app_train.set_index(\"SK_ID_CURR\")\n",
    "bureau = bureau.set_index(\"SK_ID_CURR\")\n",
    "pa_pos = pa_pos.set_index(\"SK_ID_CURR\")\n",
    "pa_ip = pa_ip.set_index(\"SK_ID_CURR\")\n",
    "pa_cc = pa_cc.set_index(\"SK_ID_CURR\")"
   ]
  },
  {
   "cell_type": "code",
   "execution_count": 7,
   "metadata": {},
   "outputs": [
    {
     "data": {
      "text/plain": [
       "307511"
      ]
     },
     "execution_count": 7,
     "metadata": {},
     "output_type": "execute_result"
    }
   ],
   "source": [
    "len(app_train)"
   ]
  },
  {
   "cell_type": "code",
   "execution_count": 8,
   "metadata": {},
   "outputs": [
    {
     "data": {
      "text/html": [
       "<div>\n",
       "<style scoped>\n",
       "    .dataframe tbody tr th:only-of-type {\n",
       "        vertical-align: middle;\n",
       "    }\n",
       "\n",
       "    .dataframe tbody tr th {\n",
       "        vertical-align: top;\n",
       "    }\n",
       "\n",
       "    .dataframe thead th {\n",
       "        text-align: right;\n",
       "    }\n",
       "</style>\n",
       "<table border=\"1\" class=\"dataframe\">\n",
       "  <thead>\n",
       "    <tr style=\"text-align: right;\">\n",
       "      <th></th>\n",
       "      <th>TARGET</th>\n",
       "      <th>A_CODE_GENDER</th>\n",
       "      <th>A_NAME_INCOME_TYPE</th>\n",
       "      <th>A_NAME_EDUCATION_TYPE</th>\n",
       "      <th>A_FLAG_EMP_PHONE</th>\n",
       "      <th>A_OCCUPATION_TYPE</th>\n",
       "      <th>A_REGION_RATING_CLIENT</th>\n",
       "      <th>A_REG_CITY_NOT_WORK_CITY</th>\n",
       "      <th>A_ORGANIZATION_TYPE</th>\n",
       "      <th>A_FLAG_DOCUMENT_3</th>\n",
       "      <th>A_CNT_CHILDREN</th>\n",
       "      <th>A_OBS_60_CNT_SOCIAL_CIRCLE</th>\n",
       "      <th>A_DEF_60_CNT_SOCIAL_CIRCLE</th>\n",
       "      <th>A_AMT_REQ_CREDIT_BUREAU_HOUR</th>\n",
       "      <th>A_AMT_REQ_CREDIT_BUREAU_DAY</th>\n",
       "      <th>A_AMT_REQ_CREDIT_BUREAU_WEEK</th>\n",
       "      <th>A_AMT_REQ_CREDIT_BUREAU_MON</th>\n",
       "      <th>A_AMT_REQ_CREDIT_BUREAU_QRT</th>\n",
       "      <th>A_AMT_REQ_CREDIT_BUREAU_YEAR</th>\n",
       "      <th>A_AMT_INCOME_TOTAL</th>\n",
       "      <th>A_AMT_CREDIT</th>\n",
       "      <th>A_AMT_ANNUITY</th>\n",
       "      <th>A_REGION_POPULATION_RELATIVE</th>\n",
       "      <th>A_DAYS_BIRTH</th>\n",
       "      <th>A_DAYS_EMPLOYED</th>\n",
       "      <th>A_DAYS_REGISTRATION</th>\n",
       "      <th>A_DAYS_ID_PUBLISH</th>\n",
       "      <th>A_EXT_SOURCE_1</th>\n",
       "      <th>A_EXT_SOURCE_2</th>\n",
       "      <th>A_EXT_SOURCE_3</th>\n",
       "      <th>A_BASEMENTAREA_AVG</th>\n",
       "      <th>A_YEARS_BEGINEXPLUATATION_AVG</th>\n",
       "      <th>A_LANDAREA_AVG</th>\n",
       "      <th>A_NONLIVINGAREA_AVG</th>\n",
       "      <th>A_TOTALAREA_MODE</th>\n",
       "      <th>A_CREDIT/INCOME</th>\n",
       "    </tr>\n",
       "    <tr>\n",
       "      <th>SK_ID_CURR</th>\n",
       "      <th></th>\n",
       "      <th></th>\n",
       "      <th></th>\n",
       "      <th></th>\n",
       "      <th></th>\n",
       "      <th></th>\n",
       "      <th></th>\n",
       "      <th></th>\n",
       "      <th></th>\n",
       "      <th></th>\n",
       "      <th></th>\n",
       "      <th></th>\n",
       "      <th></th>\n",
       "      <th></th>\n",
       "      <th></th>\n",
       "      <th></th>\n",
       "      <th></th>\n",
       "      <th></th>\n",
       "      <th></th>\n",
       "      <th></th>\n",
       "      <th></th>\n",
       "      <th></th>\n",
       "      <th></th>\n",
       "      <th></th>\n",
       "      <th></th>\n",
       "      <th></th>\n",
       "      <th></th>\n",
       "      <th></th>\n",
       "      <th></th>\n",
       "      <th></th>\n",
       "      <th></th>\n",
       "      <th></th>\n",
       "      <th></th>\n",
       "      <th></th>\n",
       "      <th></th>\n",
       "      <th></th>\n",
       "    </tr>\n",
       "  </thead>\n",
       "  <tbody>\n",
       "    <tr>\n",
       "      <th>100002</th>\n",
       "      <td>1</td>\n",
       "      <td>0</td>\n",
       "      <td>0</td>\n",
       "      <td>0</td>\n",
       "      <td>1</td>\n",
       "      <td>0</td>\n",
       "      <td>2</td>\n",
       "      <td>0</td>\n",
       "      <td>0</td>\n",
       "      <td>1</td>\n",
       "      <td>0</td>\n",
       "      <td>2.0</td>\n",
       "      <td>2.0</td>\n",
       "      <td>0.0</td>\n",
       "      <td>0.0</td>\n",
       "      <td>0.0</td>\n",
       "      <td>0.0</td>\n",
       "      <td>0.0</td>\n",
       "      <td>1.0</td>\n",
       "      <td>202500.0</td>\n",
       "      <td>406597.5</td>\n",
       "      <td>24700.5</td>\n",
       "      <td>0.018801</td>\n",
       "      <td>-9461</td>\n",
       "      <td>-637.0</td>\n",
       "      <td>-3648.0</td>\n",
       "      <td>-2120.0</td>\n",
       "      <td>0.083037</td>\n",
       "      <td>0.262949</td>\n",
       "      <td>0.139376</td>\n",
       "      <td>0.0369</td>\n",
       "      <td>0.9722</td>\n",
       "      <td>0.0369</td>\n",
       "      <td>0.0000</td>\n",
       "      <td>0.0149</td>\n",
       "      <td>2.007889</td>\n",
       "    </tr>\n",
       "    <tr>\n",
       "      <th>100003</th>\n",
       "      <td>0</td>\n",
       "      <td>1</td>\n",
       "      <td>1</td>\n",
       "      <td>1</td>\n",
       "      <td>1</td>\n",
       "      <td>1</td>\n",
       "      <td>1</td>\n",
       "      <td>0</td>\n",
       "      <td>1</td>\n",
       "      <td>1</td>\n",
       "      <td>0</td>\n",
       "      <td>1.0</td>\n",
       "      <td>0.0</td>\n",
       "      <td>0.0</td>\n",
       "      <td>0.0</td>\n",
       "      <td>0.0</td>\n",
       "      <td>0.0</td>\n",
       "      <td>0.0</td>\n",
       "      <td>0.0</td>\n",
       "      <td>270000.0</td>\n",
       "      <td>1293502.5</td>\n",
       "      <td>35698.5</td>\n",
       "      <td>0.003541</td>\n",
       "      <td>-16765</td>\n",
       "      <td>-1188.0</td>\n",
       "      <td>-1186.0</td>\n",
       "      <td>-291.0</td>\n",
       "      <td>0.311267</td>\n",
       "      <td>0.622246</td>\n",
       "      <td>NaN</td>\n",
       "      <td>0.0529</td>\n",
       "      <td>0.9851</td>\n",
       "      <td>0.0130</td>\n",
       "      <td>0.0098</td>\n",
       "      <td>0.0714</td>\n",
       "      <td>4.790750</td>\n",
       "    </tr>\n",
       "    <tr>\n",
       "      <th>100004</th>\n",
       "      <td>0</td>\n",
       "      <td>0</td>\n",
       "      <td>0</td>\n",
       "      <td>0</td>\n",
       "      <td>1</td>\n",
       "      <td>0</td>\n",
       "      <td>2</td>\n",
       "      <td>0</td>\n",
       "      <td>2</td>\n",
       "      <td>0</td>\n",
       "      <td>0</td>\n",
       "      <td>0.0</td>\n",
       "      <td>0.0</td>\n",
       "      <td>0.0</td>\n",
       "      <td>0.0</td>\n",
       "      <td>0.0</td>\n",
       "      <td>0.0</td>\n",
       "      <td>0.0</td>\n",
       "      <td>0.0</td>\n",
       "      <td>67500.0</td>\n",
       "      <td>135000.0</td>\n",
       "      <td>6750.0</td>\n",
       "      <td>0.010032</td>\n",
       "      <td>-19046</td>\n",
       "      <td>-225.0</td>\n",
       "      <td>-4260.0</td>\n",
       "      <td>-2531.0</td>\n",
       "      <td>NaN</td>\n",
       "      <td>0.555912</td>\n",
       "      <td>0.729567</td>\n",
       "      <td>NaN</td>\n",
       "      <td>NaN</td>\n",
       "      <td>NaN</td>\n",
       "      <td>NaN</td>\n",
       "      <td>NaN</td>\n",
       "      <td>2.000000</td>\n",
       "    </tr>\n",
       "    <tr>\n",
       "      <th>100006</th>\n",
       "      <td>0</td>\n",
       "      <td>1</td>\n",
       "      <td>0</td>\n",
       "      <td>0</td>\n",
       "      <td>1</td>\n",
       "      <td>0</td>\n",
       "      <td>2</td>\n",
       "      <td>0</td>\n",
       "      <td>0</td>\n",
       "      <td>1</td>\n",
       "      <td>0</td>\n",
       "      <td>2.0</td>\n",
       "      <td>0.0</td>\n",
       "      <td>NaN</td>\n",
       "      <td>NaN</td>\n",
       "      <td>NaN</td>\n",
       "      <td>NaN</td>\n",
       "      <td>NaN</td>\n",
       "      <td>NaN</td>\n",
       "      <td>135000.0</td>\n",
       "      <td>312682.5</td>\n",
       "      <td>29686.5</td>\n",
       "      <td>0.008019</td>\n",
       "      <td>-19005</td>\n",
       "      <td>-3039.0</td>\n",
       "      <td>-9833.0</td>\n",
       "      <td>-2437.0</td>\n",
       "      <td>NaN</td>\n",
       "      <td>0.650442</td>\n",
       "      <td>NaN</td>\n",
       "      <td>NaN</td>\n",
       "      <td>NaN</td>\n",
       "      <td>NaN</td>\n",
       "      <td>NaN</td>\n",
       "      <td>NaN</td>\n",
       "      <td>2.316167</td>\n",
       "    </tr>\n",
       "    <tr>\n",
       "      <th>100007</th>\n",
       "      <td>0</td>\n",
       "      <td>0</td>\n",
       "      <td>0</td>\n",
       "      <td>0</td>\n",
       "      <td>1</td>\n",
       "      <td>1</td>\n",
       "      <td>2</td>\n",
       "      <td>1</td>\n",
       "      <td>3</td>\n",
       "      <td>0</td>\n",
       "      <td>0</td>\n",
       "      <td>0.0</td>\n",
       "      <td>0.0</td>\n",
       "      <td>0.0</td>\n",
       "      <td>0.0</td>\n",
       "      <td>0.0</td>\n",
       "      <td>0.0</td>\n",
       "      <td>0.0</td>\n",
       "      <td>0.0</td>\n",
       "      <td>121500.0</td>\n",
       "      <td>513000.0</td>\n",
       "      <td>21865.5</td>\n",
       "      <td>0.028663</td>\n",
       "      <td>-19932</td>\n",
       "      <td>-3038.0</td>\n",
       "      <td>-4311.0</td>\n",
       "      <td>-3458.0</td>\n",
       "      <td>NaN</td>\n",
       "      <td>0.322738</td>\n",
       "      <td>NaN</td>\n",
       "      <td>NaN</td>\n",
       "      <td>NaN</td>\n",
       "      <td>NaN</td>\n",
       "      <td>NaN</td>\n",
       "      <td>NaN</td>\n",
       "      <td>4.222222</td>\n",
       "    </tr>\n",
       "  </tbody>\n",
       "</table>\n",
       "</div>"
      ],
      "text/plain": [
       "            TARGET  A_CODE_GENDER  A_NAME_INCOME_TYPE  A_NAME_EDUCATION_TYPE  \\\n",
       "SK_ID_CURR                                                                     \n",
       "100002           1              0                   0                      0   \n",
       "100003           0              1                   1                      1   \n",
       "100004           0              0                   0                      0   \n",
       "100006           0              1                   0                      0   \n",
       "100007           0              0                   0                      0   \n",
       "\n",
       "            A_FLAG_EMP_PHONE  A_OCCUPATION_TYPE  A_REGION_RATING_CLIENT  \\\n",
       "SK_ID_CURR                                                                \n",
       "100002                     1                  0                       2   \n",
       "100003                     1                  1                       1   \n",
       "100004                     1                  0                       2   \n",
       "100006                     1                  0                       2   \n",
       "100007                     1                  1                       2   \n",
       "\n",
       "            A_REG_CITY_NOT_WORK_CITY  A_ORGANIZATION_TYPE  A_FLAG_DOCUMENT_3  \\\n",
       "SK_ID_CURR                                                                     \n",
       "100002                             0                    0                  1   \n",
       "100003                             0                    1                  1   \n",
       "100004                             0                    2                  0   \n",
       "100006                             0                    0                  1   \n",
       "100007                             1                    3                  0   \n",
       "\n",
       "            A_CNT_CHILDREN  A_OBS_60_CNT_SOCIAL_CIRCLE  \\\n",
       "SK_ID_CURR                                               \n",
       "100002                   0                         2.0   \n",
       "100003                   0                         1.0   \n",
       "100004                   0                         0.0   \n",
       "100006                   0                         2.0   \n",
       "100007                   0                         0.0   \n",
       "\n",
       "            A_DEF_60_CNT_SOCIAL_CIRCLE  A_AMT_REQ_CREDIT_BUREAU_HOUR  \\\n",
       "SK_ID_CURR                                                             \n",
       "100002                             2.0                           0.0   \n",
       "100003                             0.0                           0.0   \n",
       "100004                             0.0                           0.0   \n",
       "100006                             0.0                           NaN   \n",
       "100007                             0.0                           0.0   \n",
       "\n",
       "            A_AMT_REQ_CREDIT_BUREAU_DAY  A_AMT_REQ_CREDIT_BUREAU_WEEK  \\\n",
       "SK_ID_CURR                                                              \n",
       "100002                              0.0                           0.0   \n",
       "100003                              0.0                           0.0   \n",
       "100004                              0.0                           0.0   \n",
       "100006                              NaN                           NaN   \n",
       "100007                              0.0                           0.0   \n",
       "\n",
       "            A_AMT_REQ_CREDIT_BUREAU_MON  A_AMT_REQ_CREDIT_BUREAU_QRT  \\\n",
       "SK_ID_CURR                                                             \n",
       "100002                              0.0                          0.0   \n",
       "100003                              0.0                          0.0   \n",
       "100004                              0.0                          0.0   \n",
       "100006                              NaN                          NaN   \n",
       "100007                              0.0                          0.0   \n",
       "\n",
       "            A_AMT_REQ_CREDIT_BUREAU_YEAR  A_AMT_INCOME_TOTAL  A_AMT_CREDIT  \\\n",
       "SK_ID_CURR                                                                   \n",
       "100002                               1.0            202500.0      406597.5   \n",
       "100003                               0.0            270000.0     1293502.5   \n",
       "100004                               0.0             67500.0      135000.0   \n",
       "100006                               NaN            135000.0      312682.5   \n",
       "100007                               0.0            121500.0      513000.0   \n",
       "\n",
       "            A_AMT_ANNUITY  A_REGION_POPULATION_RELATIVE  A_DAYS_BIRTH  \\\n",
       "SK_ID_CURR                                                              \n",
       "100002            24700.5                      0.018801         -9461   \n",
       "100003            35698.5                      0.003541        -16765   \n",
       "100004             6750.0                      0.010032        -19046   \n",
       "100006            29686.5                      0.008019        -19005   \n",
       "100007            21865.5                      0.028663        -19932   \n",
       "\n",
       "            A_DAYS_EMPLOYED  A_DAYS_REGISTRATION  A_DAYS_ID_PUBLISH  \\\n",
       "SK_ID_CURR                                                            \n",
       "100002               -637.0              -3648.0            -2120.0   \n",
       "100003              -1188.0              -1186.0             -291.0   \n",
       "100004               -225.0              -4260.0            -2531.0   \n",
       "100006              -3039.0              -9833.0            -2437.0   \n",
       "100007              -3038.0              -4311.0            -3458.0   \n",
       "\n",
       "            A_EXT_SOURCE_1  A_EXT_SOURCE_2  A_EXT_SOURCE_3  \\\n",
       "SK_ID_CURR                                                   \n",
       "100002            0.083037        0.262949        0.139376   \n",
       "100003            0.311267        0.622246             NaN   \n",
       "100004                 NaN        0.555912        0.729567   \n",
       "100006                 NaN        0.650442             NaN   \n",
       "100007                 NaN        0.322738             NaN   \n",
       "\n",
       "            A_BASEMENTAREA_AVG  A_YEARS_BEGINEXPLUATATION_AVG  A_LANDAREA_AVG  \\\n",
       "SK_ID_CURR                                                                      \n",
       "100002                  0.0369                         0.9722          0.0369   \n",
       "100003                  0.0529                         0.9851          0.0130   \n",
       "100004                     NaN                            NaN             NaN   \n",
       "100006                     NaN                            NaN             NaN   \n",
       "100007                     NaN                            NaN             NaN   \n",
       "\n",
       "            A_NONLIVINGAREA_AVG  A_TOTALAREA_MODE  A_CREDIT/INCOME  \n",
       "SK_ID_CURR                                                          \n",
       "100002                   0.0000            0.0149         2.007889  \n",
       "100003                   0.0098            0.0714         4.790750  \n",
       "100004                      NaN               NaN         2.000000  \n",
       "100006                      NaN               NaN         2.316167  \n",
       "100007                      NaN               NaN         4.222222  "
      ]
     },
     "execution_count": 8,
     "metadata": {},
     "output_type": "execute_result"
    }
   ],
   "source": [
    "app_train.head()"
   ]
  },
  {
   "cell_type": "code",
   "execution_count": 20,
   "metadata": {},
   "outputs": [],
   "source": [
    "from datetime import datetime"
   ]
  },
  {
   "cell_type": "code",
   "execution_count": 21,
   "metadata": {},
   "outputs": [
    {
     "name": "stdout",
     "output_type": "stream",
     "text": [
      "13 : 41\n",
      "13 : 51\n"
     ]
    }
   ],
   "source": [
    "print(datetime.now().hour, \":\", datetime.now().minute)\n",
    "x = app_train\n",
    "imp = IterativeImputer(max_iter=500, random_state=0)\n",
    "df = imp.fit_transform(x)\n",
    "df = pd.DataFrame(df)\n",
    "df.columns = app_train.columns.values\n",
    "df.index = app_train.index\n",
    "print(datetime.now().hour, \":\", datetime.now().minute)"
   ]
  },
  {
   "cell_type": "code",
   "execution_count": 22,
   "metadata": {},
   "outputs": [],
   "source": [
    "df.to_csv(DATASET_DIR / \"4. FillNA\" / \"application.csv\")"
   ]
  },
  {
   "cell_type": "code",
   "execution_count": 23,
   "metadata": {},
   "outputs": [
    {
     "name": "stdout",
     "output_type": "stream",
     "text": [
      "13 : 51\n",
      "13 : 51\n"
     ]
    }
   ],
   "source": [
    "print(datetime.now().hour, \":\", datetime.now().minute)\n",
    "x = bureau\n",
    "imp = IterativeImputer(max_iter=500, random_state=0)\n",
    "df = imp.fit_transform(x)\n",
    "df = pd.DataFrame(df)\n",
    "df.columns = bureau.columns.values\n",
    "df.index = bureau.index\n",
    "print(datetime.now().hour, \":\", datetime.now().minute)"
   ]
  },
  {
   "cell_type": "code",
   "execution_count": 24,
   "metadata": {},
   "outputs": [],
   "source": [
    "df.to_csv(DATASET_DIR / \"4. FillNA\" / \"bureau.csv\")"
   ]
  },
  {
   "cell_type": "code",
   "execution_count": 25,
   "metadata": {},
   "outputs": [
    {
     "name": "stdout",
     "output_type": "stream",
     "text": [
      "13 : 51\n",
      "15 : 25\n"
     ]
    },
    {
     "name": "stderr",
     "output_type": "stream",
     "text": [
      "a:\\workspace\\python\\masterarbeit\\venv\\lib\\site-packages\\sklearn\\impute\\_iterative.py:669: ConvergenceWarning: [IterativeImputer] Early stopping criterion not reached.\n",
      "  warnings.warn(\"[IterativeImputer] Early stopping criterion not\"\n"
     ]
    }
   ],
   "source": [
    "print(datetime.now().hour, \":\", datetime.now().minute)\n",
    "x = pa_pos\n",
    "imp = IterativeImputer(max_iter=500, random_state=0)\n",
    "df = imp.fit_transform(x)\n",
    "df = pd.DataFrame(df)\n",
    "df.columns = pa_pos.columns.values\n",
    "df.index = pa_pos.index\n",
    "print(datetime.now().hour, \":\", datetime.now().minute)"
   ]
  },
  {
   "cell_type": "code",
   "execution_count": 26,
   "metadata": {},
   "outputs": [],
   "source": [
    "df.to_csv(DATASET_DIR / \"4. FillNA\" / \"pa_pos.csv\")"
   ]
  },
  {
   "cell_type": "code",
   "execution_count": 27,
   "metadata": {},
   "outputs": [
    {
     "name": "stdout",
     "output_type": "stream",
     "text": [
      "15 : 25\n"
     ]
    },
    {
     "name": "stderr",
     "output_type": "stream",
     "text": [
      "a:\\workspace\\python\\masterarbeit\\venv\\lib\\site-packages\\sklearn\\impute\\_iterative.py:669: ConvergenceWarning: [IterativeImputer] Early stopping criterion not reached.\n",
      "  warnings.warn(\"[IterativeImputer] Early stopping criterion not\"\n"
     ]
    },
    {
     "name": "stdout",
     "output_type": "stream",
     "text": [
      "18 : 40\n"
     ]
    }
   ],
   "source": [
    "print(datetime.now().hour, \":\", datetime.now().minute)\n",
    "x = pa_ip\n",
    "imp = IterativeImputer(max_iter=500, random_state=0)\n",
    "df = imp.fit_transform(x)\n",
    "df = pd.DataFrame(df)\n",
    "df.columns = pa_ip.columns.values\n",
    "df.index = pa_ip.index\n",
    "print(datetime.now().hour, \":\", datetime.now().minute)"
   ]
  },
  {
   "cell_type": "code",
   "execution_count": 28,
   "metadata": {},
   "outputs": [],
   "source": [
    "df.to_csv(DATASET_DIR / \"4. FillNA\" / \"pa_ip.csv\")"
   ]
  },
  {
   "cell_type": "code",
   "execution_count": 29,
   "metadata": {},
   "outputs": [
    {
     "name": "stdout",
     "output_type": "stream",
     "text": [
      "18 : 41\n",
      "19 : 9\n"
     ]
    }
   ],
   "source": [
    "print(datetime.now().hour, \":\", datetime.now().minute)\n",
    "x = pa_cc\n",
    "imp = IterativeImputer(max_iter=500, random_state=0)\n",
    "df = imp.fit_transform(x)\n",
    "df = pd.DataFrame(df)\n",
    "df.columns = pa_cc.columns.values\n",
    "df.index = pa_cc.index\n",
    "print(datetime.now().hour, \":\", datetime.now().minute)"
   ]
  },
  {
   "cell_type": "code",
   "execution_count": 30,
   "metadata": {},
   "outputs": [],
   "source": [
    "df.to_csv(DATASET_DIR / \"4. FillNA\" / \"pa_cc.csv\")"
   ]
  },
  {
   "cell_type": "code",
   "execution_count": null,
   "metadata": {},
   "outputs": [],
   "source": []
  }
 ],
 "metadata": {
  "kernelspec": {
   "display_name": "Python 3",
   "language": "python",
   "name": "python3"
  },
  "language_info": {
   "codemirror_mode": {
    "name": "ipython",
    "version": 3
   },
   "file_extension": ".py",
   "mimetype": "text/x-python",
   "name": "python",
   "nbconvert_exporter": "python",
   "pygments_lexer": "ipython3",
   "version": "3.8.6"
  }
 },
 "nbformat": 4,
 "nbformat_minor": 4
}
